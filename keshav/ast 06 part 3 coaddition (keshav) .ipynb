{
 "cells": [
  {
   "cell_type": "code",
   "execution_count": 1,
   "metadata": {},
   "outputs": [],
   "source": [
    "from astropy.io import fits\n",
    "import matplotlib.pyplot as plt\n",
    "import matplotlib.image as mpimg\n",
    "import numpy as np\n",
    "import pandas as pd\n",
    "from pandas import DataFrame as df\n",
    "from astropy.table import Table, vstack, Column\n",
    "import os\n",
    "import pdb\n",
    "import numpy as np\n",
    "import warnings\n",
    "import resource\n",
    "import timeit\n",
    "start_time = timeit.default_timer()\n",
    "# code you want to evaluate\n",
    "resource.setrlimit(resource.RLIMIT_NOFILE, (10000,-1))"
   ]
  },
  {
   "cell_type": "code",
   "execution_count": 38,
   "metadata": {},
   "outputs": [],
   "source": [
    "path = './../spectra/'\n",
    "path2 = './../catalogs/'\n",
    "\n",
    "bigFile = Table.read('bigfile.fits')\n",
    "vccfiles = []\n",
    "vdgcfiles = []\n",
    "vugcfiles = []\n",
    "for filename in os.listdir(path):\n",
    "    if ((filename.endswith(\".fits\")) & (\"spec\" in filename)):\n",
    "       vdgcfiles.append(filename)\n",
    "    elif ((filename.endswith(\".gz\")) & (\"spec\" in filename)):\n",
    "       vugcfiles.append(filename)\n",
    "    elif ((filename.endswith(\".fits\")) & (\"VCC\" in filename)):\n",
    "        vccfiles.append(filename)"
   ]
  },
  {
   "cell_type": "code",
   "execution_count": 69,
   "metadata": {},
   "outputs": [],
   "source": [
    "stars = [] #Star \n",
    "ICGC = [] #ICL\n",
    "M87 = [] #Halo\n",
    "DEGC = [] #DEGC\n",
    "UDG = [] #UDG\n",
    "DENUC = [] #DENU\n",
    "objType = []\n",
    "objFile = []"
   ]
  },
  {
   "cell_type": "code",
   "execution_count": 71,
   "metadata": {},
   "outputs": [],
   "source": [
    "#instead get the files then do doppler shift stuff\n",
    "#restFrame unecessary, just need to get the files and velocity values\n",
    "restFrame = []\n",
    "VUGC = []\n",
    "velocity1 = []3\n",
    "for string in vugcfiles:\n",
    "    file = fits.open(path + string)\n",
    "    wavelength = file[1].data['LAMBDA']\n",
    "    file.close()\n",
    "    for otherFile in bigFile:\n",
    "        if (string == otherFile['SPEC1DNAME']):\n",
    "            velocityVal = otherFile['VOBS']\n",
    "            VUGC.append(string)\n",
    "            objType.append(otherFile['Type'])\n",
    "            objFile.append(otherFile['SPEC1DNAME'])\n",
    "            velocity1.append(velocityVal)\n",
    "            a = (wavelength * ((1)/(1+(velocityVal/(3e+5)))))\n",
    "            restFrame.append(a)\n",
    "            \n"
   ]
  },
  {
   "cell_type": "code",
   "execution_count": 72,
   "metadata": {},
   "outputs": [],
   "source": [
    "#instead get the files then do doppler shift stuff\n",
    "#restFrame unecessary, just need to get the files and velocity values\n",
    "restFrame1 = []\n",
    "VDGC = []\n",
    "velocity = []\n",
    "for string in vdgcfiles:\n",
    "    file = fits.open(path + string)      \n",
    "    wavelength = file[1].data['LAMBDA']\n",
    "    file.close()\n",
    "    for otherFile in bigFile:\n",
    "        s = otherFile['SPEC1DNAME']\n",
    "        if (string == s[:-3]):\n",
    "            VDGC.append(string)\n",
    "            objType.append(otherFile['Type'])\n",
    "            objFile.append(otherFile['SPEC1DNAME'])\n",
    "            velocityVal = otherFile['VOBS']\n",
    "            velocity.append(velocityVal)\n",
    "            a = (wavelength * ((1)/(1+(velocityVal/(3e+5)))))\n",
    "            restFrame1.append(a)"
   ]
  },
  {
   "cell_type": "code",
   "execution_count": 73,
   "metadata": {},
   "outputs": [],
   "source": [
    "restFrame2 = []\n",
    "VCC = []\n",
    "velocity2 = []\n",
    "for string in vccfiles:\n",
    "    file = fits.open(path + string)\n",
    "    wavelength = file[1].data['LAMBDA']\n",
    "    file.close()\n",
    "    for otherFile in bigFile:\n",
    "        s = otherFile['VCC']\n",
    "        if (string[:-5] == s):\n",
    "            VCC.append(string)\n",
    "            objType.append(otherFile['Type'])\n",
    "            objFile.append(otherFile['VCC'])\n",
    "            velocityVal = otherFile['VOBS']\n",
    "            velocity2.append(velocityVal)\n",
    "            a = (wavelength * ((1)/(1+(velocityVal/(3e+5)))))\n",
    "            restFrame2.append(a)"
   ]
  },
  {
   "cell_type": "code",
   "execution_count": 77,
   "metadata": {},
   "outputs": [],
   "source": [
    "for i in range (0, len(objType)):\n",
    "    if (objType[i] == 'Star'):\n",
    "        stars.append(objFile[i])\n",
    "    elif (objType[i] == 'ICL'):\n",
    "        ICGC.append(objFile[i])\n",
    "    elif (objType[i] == 'Halo'):\n",
    "        M87.append(objFile[i])\n",
    "    elif (objType[i] == 'DEGC'):\n",
    "        DEGC.append(objFile[i])\n",
    "    elif (objType[i] == 'UDG'):\n",
    "        UDG.append(objFile[i])\n",
    "    elif (objType[i] == 'DENU'):\n",
    "        DENUC.append(objFile[i])\n"
   ]
  },
  {
   "cell_type": "code",
   "execution_count": 6,
   "metadata": {},
   "outputs": [],
   "source": [
    "warnings.simplefilter(\"ignore\", RuntimeWarning)\n",
    "def spec_interp(wv,fx,nwwv,*args):\n",
    "    #Required arguments:\n",
    "    #   - wv: old wavelength array\n",
    "    #   - fx: flux to be rebinned, 'SPEC'\n",
    "    #   - nwwv: new wavelen gth array, interval\n",
    "    #\n",
    "    #Optional argument: variance\n",
    "    npix = len(wv)\n",
    "    if len(args) == 0:\n",
    "        var = np.ones(npix)\n",
    "        nwvarFlag = False\n",
    "    else:\n",
    "        var = args[0]\n",
    "        nwvarFlag = True\n",
    "    nwpix = len(nwwv)\n",
    "    #Calculate wavelength endpoints for each pixel\n",
    "    wvl = (wv + np.roll(wv,1))/2.\n",
    "    wvh = (wv + np.roll(wv,-1))/2.\n",
    "    wvl[0] = wv[0] - (wv[1] - wv[0])/2.\n",
    "    wvh[npix-1] = wv[npix-1] + (wv[npix-1]-wv[npix-2])/2.\n",
    "    #Calculate endpoints of the final array\n",
    "    bwv = np.zeros(nwpix+1)\n",
    "    bwv[0:nwpix] = (nwwv+np.roll(nwwv,1))/2.\n",
    "    bwv[0] = nwwv[0] - (nwwv[1] - nwwv[0])/2.\n",
    "    bwv[nwpix] = nwwv[nwpix-1]+(nwwv[nwpix-1] - nwwv[nwpix - 1])/2.\n",
    "    #Create tmp arrays for final array\n",
    "    nwfx = np.zeros(nwpix)\n",
    "    nwvar = np.zeros(nwpix)\n",
    "    nwunitfx = np.zeros(nwpix)\n",
    "    #Loop through the arrays\n",
    "    for q in range(npix):\n",
    "        #No overlap\n",
    "        if (wvh[q] <= bwv[0]) | (wvl[q] >= bwv[nwpix]):\n",
    "            continue\n",
    "        #Find pixel that bw is within\n",
    "        if wvl[q] <= bwv[0]:\n",
    "            i1 = [0]\n",
    "        else:\n",
    "            i1 = np.argwhere((wvl[q] <= np.roll(bwv,-1)) & (wvl[q] > bwv))[0]\n",
    "        if wvh[q] > bwv[nwpix]:\n",
    "            i2 = [nwpix-1]\n",
    "        else:\n",
    "            i2 = np.argwhere((wvh[q] <= np.roll(bwv,-1)) & (wvh[q] > bwv))[0]\n",
    "        j1 = i1[0]\n",
    "        j2 = i2[0]\n",
    "        #Now Sum up\n",
    "        for kk in range(j1,j2+1):\n",
    "            #Rejected pixesl do not get added in\n",
    "            if var[q] > 0.:\n",
    "                frac = ( np.min([wvh[q],bwv[kk+1]]) - np.max([wvl[q],bwv[kk]]) ) / (wvh[q]-wvl[q])\n",
    "                nwfx[kk] = nwfx[kk]+frac*fx[q]\n",
    "                nwunitfx[kk] = nwunitfx[kk]+frac*1.0\n",
    "                #Variance\n",
    "                if nwvarFlag:\n",
    "                    if (var[q] <= 0.) | (nwvar[kk] == -1):\n",
    "                       nwvar[kk] = -1\n",
    "                    else:\n",
    "                       nwvar[kk] = nwvar[kk]+frac*var[q]\n",
    "    if nwvarFlag:\n",
    "        fxOut = nwfx/nwunitfx\n",
    "        varOut = nwvar*nwunitfx\n",
    "        \n",
    "        return fxOut,varOut\n",
    "    else:\n",
    "        fxOut = nwfx/nwunitfx\n",
    "        return fxOut\n",
    "\n",
    "\n",
    "def rebinspec(*args,**kwargs):\n",
    "    #Required arguments:\n",
    "    #   - wv: old wavelength array\n",
    "    #   - fx: flux to be rebinned\n",
    "    #   - nwwv: new wavelength array\n",
    "    #\n",
    "    #Optional arguments:\n",
    "    #   - var = var, input and output variance\n",
    "    #   - ivar = ivar, input and output ivar\n",
    "\n",
    "    if len(args) != 3:\n",
    "        print('Proper syntax is: out = rebinspec(wv, fx, nwwv, **kwargs)')\n",
    "        return np.nan\n",
    "\n",
    "    else:\n",
    "        wv, fx, nwwv = args\n",
    "\n",
    "        var = kwargs.get('var',None)\n",
    "        ivar = kwargs.get('ivar',None)\n",
    "\n",
    "        if (var is not None) & (ivar is None):\n",
    "            nwfx,nwvar = spec_interp(wv,fx,nwwv,var)\n",
    "\n",
    "            return nwfx, nwvar\n",
    "        elif (var is None) & (ivar is not None):\n",
    "            var = 1./ivar\n",
    "            nwfx,nwvar_1 = spec_interp(wv,fx,nwwv,var)\n",
    "            nwvar_1[nwvar_1 == 0.0] = -10.0\n",
    "            nwivar = 1.0/nwvar_1\n",
    "            nwivar[nwivar < 0.0] = 0.0\n",
    "            \n",
    "            return nwfx, nwivar\n",
    "        else:\n",
    "            nwfx = spec_interp(wv,fx,nwwv)\n",
    "\n",
    "            return nwfx"
   ]
  },
  {
   "cell_type": "code",
   "execution_count": 7,
   "metadata": {},
   "outputs": [],
   "source": [
    "def plotting (fileName, title, vel, colors):\n",
    "    correct = np.arange(4000,8750.9,0.9)\n",
    "    allFluxes = []\n",
    "    allIvar = []\n",
    "    allWaves = []\n",
    "    i = 0\n",
    "    for f in fileName: \n",
    "        file = fits.open(path + f)\n",
    "        try:                                  #check for Bxspf blue or red, if not I resort to Horne\n",
    "            tempB = file['Bxspf-' + 'B']\n",
    "            tempR = file['Bxspf-' + 'R']\n",
    "        except:\n",
    "            tempB = file['Horne-' + 'B']\n",
    "            tempR = file['Horne-' + 'R']\n",
    "        \n",
    "        allWaves.append(np.append(((tempB.data['LAMBDA'])/(1 + ((vel[i]/300000)))), ((tempR.data['LAMBDA'])/(1 + ((vel[i]/300000))))))\n",
    "        allFluxes.append(np.append(tempB.data['SPEC'], tempR.data['SPEC']))\n",
    "        allIvar.append(np.append(tempB.data['IVAR'], tempR.data['IVAR']))              \n",
    "        i = i + 1\n",
    "        file.close()\n",
    "    fileFlux = np.zeros((len(allWaves), len(correct)))\n",
    "    fileVar = np.zeros((len(allWaves), len(correct)))\n",
    "    for i in range (0, len(allWaves)):\n",
    "        newFlux, newVar = np.nan_to_num(rebinspec(allWaves[i], allFluxes[i], correct, ivar = allIvar[i]))\n",
    "        '''plt.plot(correct, newFlux, color = colors)\n",
    "        plt.xlabel('Wavelength')\n",
    "        plt.ylabel('Flux')\n",
    "        plt.title(title)\n",
    "        plt.show()'''\n",
    "        fileFlux[i][:] = newFlux\n",
    "        fileVar[i][:] = newVar\n",
    "        \n",
    "    \n",
    "    return fileFlux, fileVar"
   ]
  },
  {
   "cell_type": "code",
   "execution_count": null,
   "metadata": {},
   "outputs": [],
   "source": [
    "fluxStar, varStar = plotting(VDGC, 'DE Spectra', velocity, 'mediumspringgreen')"
   ]
  },
  {
   "cell_type": "code",
   "execution_count": 8,
   "metadata": {
    "scrolled": true
   },
   "outputs": [],
   "source": [
    "flux, var = plotting(VDGC, 'DE Spectra', velocity, 'mediumspringgreen')\n"
   ]
  },
  {
   "cell_type": "code",
   "execution_count": 9,
   "metadata": {},
   "outputs": [
    {
     "ename": "KeyboardInterrupt",
     "evalue": "",
     "output_type": "error",
     "traceback": [
      "\u001b[0;31m---------------------------------------------------------------------------\u001b[0m",
      "\u001b[0;31mKeyboardInterrupt\u001b[0m                         Traceback (most recent call last)",
      "\u001b[0;32m<ipython-input-9-7d0b0ed8e0e0>\u001b[0m in \u001b[0;36m<module>\u001b[0;34m\u001b[0m\n\u001b[0;32m----> 1\u001b[0;31m \u001b[0mflux1\u001b[0m\u001b[0;34m,\u001b[0m \u001b[0mvar1\u001b[0m \u001b[0;34m=\u001b[0m \u001b[0mplotting\u001b[0m\u001b[0;34m(\u001b[0m\u001b[0mVUGC\u001b[0m\u001b[0;34m,\u001b[0m \u001b[0;34m'UDG Spectra'\u001b[0m\u001b[0;34m,\u001b[0m \u001b[0mvelocity\u001b[0m\u001b[0;34m,\u001b[0m \u001b[0;34m'mediumspringgreen'\u001b[0m\u001b[0;34m)\u001b[0m\u001b[0;34m\u001b[0m\u001b[0;34m\u001b[0m\u001b[0m\n\u001b[0m",
      "\u001b[0;32m<ipython-input-7-65043ca23ff1>\u001b[0m in \u001b[0;36mplotting\u001b[0;34m(fileName, title, vel, colors)\u001b[0m\n\u001b[1;32m     22\u001b[0m     \u001b[0mfileVar\u001b[0m \u001b[0;34m=\u001b[0m \u001b[0mnp\u001b[0m\u001b[0;34m.\u001b[0m\u001b[0mzeros\u001b[0m\u001b[0;34m(\u001b[0m\u001b[0;34m(\u001b[0m\u001b[0mlen\u001b[0m\u001b[0;34m(\u001b[0m\u001b[0mallWaves\u001b[0m\u001b[0;34m)\u001b[0m\u001b[0;34m,\u001b[0m \u001b[0mlen\u001b[0m\u001b[0;34m(\u001b[0m\u001b[0mcorrect\u001b[0m\u001b[0;34m)\u001b[0m\u001b[0;34m)\u001b[0m\u001b[0;34m)\u001b[0m\u001b[0;34m\u001b[0m\u001b[0;34m\u001b[0m\u001b[0m\n\u001b[1;32m     23\u001b[0m     \u001b[0;32mfor\u001b[0m \u001b[0mi\u001b[0m \u001b[0;32min\u001b[0m \u001b[0mrange\u001b[0m \u001b[0;34m(\u001b[0m\u001b[0;36m0\u001b[0m\u001b[0;34m,\u001b[0m \u001b[0mlen\u001b[0m\u001b[0;34m(\u001b[0m\u001b[0mallWaves\u001b[0m\u001b[0;34m)\u001b[0m\u001b[0;34m)\u001b[0m\u001b[0;34m:\u001b[0m\u001b[0;34m\u001b[0m\u001b[0;34m\u001b[0m\u001b[0m\n\u001b[0;32m---> 24\u001b[0;31m         \u001b[0mnewFlux\u001b[0m\u001b[0;34m,\u001b[0m \u001b[0mnewVar\u001b[0m \u001b[0;34m=\u001b[0m \u001b[0mnp\u001b[0m\u001b[0;34m.\u001b[0m\u001b[0mnan_to_num\u001b[0m\u001b[0;34m(\u001b[0m\u001b[0mrebinspec\u001b[0m\u001b[0;34m(\u001b[0m\u001b[0mallWaves\u001b[0m\u001b[0;34m[\u001b[0m\u001b[0mi\u001b[0m\u001b[0;34m]\u001b[0m\u001b[0;34m,\u001b[0m \u001b[0mallFluxes\u001b[0m\u001b[0;34m[\u001b[0m\u001b[0mi\u001b[0m\u001b[0;34m]\u001b[0m\u001b[0;34m,\u001b[0m \u001b[0mcorrect\u001b[0m\u001b[0;34m,\u001b[0m \u001b[0mivar\u001b[0m \u001b[0;34m=\u001b[0m \u001b[0mallIvar\u001b[0m\u001b[0;34m[\u001b[0m\u001b[0mi\u001b[0m\u001b[0;34m]\u001b[0m\u001b[0;34m)\u001b[0m\u001b[0;34m)\u001b[0m\u001b[0;34m\u001b[0m\u001b[0;34m\u001b[0m\u001b[0m\n\u001b[0m\u001b[1;32m     25\u001b[0m         '''plt.plot(correct, newFlux, color = colors)\n\u001b[1;32m     26\u001b[0m         \u001b[0mplt\u001b[0m\u001b[0;34m.\u001b[0m\u001b[0mxlabel\u001b[0m\u001b[0;34m(\u001b[0m\u001b[0;34m'Wavelength'\u001b[0m\u001b[0;34m)\u001b[0m\u001b[0;34m\u001b[0m\u001b[0;34m\u001b[0m\u001b[0m\n",
      "\u001b[0;32m<ipython-input-6-b5ddb663a4b2>\u001b[0m in \u001b[0;36mrebinspec\u001b[0;34m(*args, **kwargs)\u001b[0m\n\u001b[1;32m     94\u001b[0m         \u001b[0;32melif\u001b[0m \u001b[0;34m(\u001b[0m\u001b[0mvar\u001b[0m \u001b[0;32mis\u001b[0m \u001b[0;32mNone\u001b[0m\u001b[0;34m)\u001b[0m \u001b[0;34m&\u001b[0m \u001b[0;34m(\u001b[0m\u001b[0mivar\u001b[0m \u001b[0;32mis\u001b[0m \u001b[0;32mnot\u001b[0m \u001b[0;32mNone\u001b[0m\u001b[0;34m)\u001b[0m\u001b[0;34m:\u001b[0m\u001b[0;34m\u001b[0m\u001b[0;34m\u001b[0m\u001b[0m\n\u001b[1;32m     95\u001b[0m             \u001b[0mvar\u001b[0m \u001b[0;34m=\u001b[0m \u001b[0;36m1.\u001b[0m\u001b[0;34m/\u001b[0m\u001b[0mivar\u001b[0m\u001b[0;34m\u001b[0m\u001b[0;34m\u001b[0m\u001b[0m\n\u001b[0;32m---> 96\u001b[0;31m             \u001b[0mnwfx\u001b[0m\u001b[0;34m,\u001b[0m\u001b[0mnwvar_1\u001b[0m \u001b[0;34m=\u001b[0m \u001b[0mspec_interp\u001b[0m\u001b[0;34m(\u001b[0m\u001b[0mwv\u001b[0m\u001b[0;34m,\u001b[0m\u001b[0mfx\u001b[0m\u001b[0;34m,\u001b[0m\u001b[0mnwwv\u001b[0m\u001b[0;34m,\u001b[0m\u001b[0mvar\u001b[0m\u001b[0;34m)\u001b[0m\u001b[0;34m\u001b[0m\u001b[0;34m\u001b[0m\u001b[0m\n\u001b[0m\u001b[1;32m     97\u001b[0m             \u001b[0mnwvar_1\u001b[0m\u001b[0;34m[\u001b[0m\u001b[0mnwvar_1\u001b[0m \u001b[0;34m==\u001b[0m \u001b[0;36m0.0\u001b[0m\u001b[0;34m]\u001b[0m \u001b[0;34m=\u001b[0m \u001b[0;34m-\u001b[0m\u001b[0;36m10.0\u001b[0m\u001b[0;34m\u001b[0m\u001b[0;34m\u001b[0m\u001b[0m\n\u001b[1;32m     98\u001b[0m             \u001b[0mnwivar\u001b[0m \u001b[0;34m=\u001b[0m \u001b[0;36m1.0\u001b[0m\u001b[0;34m/\u001b[0m\u001b[0mnwvar_1\u001b[0m\u001b[0;34m\u001b[0m\u001b[0;34m\u001b[0m\u001b[0m\n",
      "\u001b[0;32m<ipython-input-6-b5ddb663a4b2>\u001b[0m in \u001b[0;36mspec_interp\u001b[0;34m(wv, fx, nwwv, *args)\u001b[0m\n\u001b[1;32m     42\u001b[0m             \u001b[0mi2\u001b[0m \u001b[0;34m=\u001b[0m \u001b[0;34m[\u001b[0m\u001b[0mnwpix\u001b[0m\u001b[0;34m-\u001b[0m\u001b[0;36m1\u001b[0m\u001b[0;34m]\u001b[0m\u001b[0;34m\u001b[0m\u001b[0;34m\u001b[0m\u001b[0m\n\u001b[1;32m     43\u001b[0m         \u001b[0;32melse\u001b[0m\u001b[0;34m:\u001b[0m\u001b[0;34m\u001b[0m\u001b[0;34m\u001b[0m\u001b[0m\n\u001b[0;32m---> 44\u001b[0;31m             \u001b[0mi2\u001b[0m \u001b[0;34m=\u001b[0m \u001b[0mnp\u001b[0m\u001b[0;34m.\u001b[0m\u001b[0margwhere\u001b[0m\u001b[0;34m(\u001b[0m\u001b[0;34m(\u001b[0m\u001b[0mwvh\u001b[0m\u001b[0;34m[\u001b[0m\u001b[0mq\u001b[0m\u001b[0;34m]\u001b[0m \u001b[0;34m<=\u001b[0m \u001b[0mnp\u001b[0m\u001b[0;34m.\u001b[0m\u001b[0mroll\u001b[0m\u001b[0;34m(\u001b[0m\u001b[0mbwv\u001b[0m\u001b[0;34m,\u001b[0m\u001b[0;34m-\u001b[0m\u001b[0;36m1\u001b[0m\u001b[0;34m)\u001b[0m\u001b[0;34m)\u001b[0m \u001b[0;34m&\u001b[0m \u001b[0;34m(\u001b[0m\u001b[0mwvh\u001b[0m\u001b[0;34m[\u001b[0m\u001b[0mq\u001b[0m\u001b[0;34m]\u001b[0m \u001b[0;34m>\u001b[0m \u001b[0mbwv\u001b[0m\u001b[0;34m)\u001b[0m\u001b[0;34m)\u001b[0m\u001b[0;34m[\u001b[0m\u001b[0;36m0\u001b[0m\u001b[0;34m]\u001b[0m\u001b[0;34m\u001b[0m\u001b[0;34m\u001b[0m\u001b[0m\n\u001b[0m\u001b[1;32m     45\u001b[0m         \u001b[0mj1\u001b[0m \u001b[0;34m=\u001b[0m \u001b[0mi1\u001b[0m\u001b[0;34m[\u001b[0m\u001b[0;36m0\u001b[0m\u001b[0;34m]\u001b[0m\u001b[0;34m\u001b[0m\u001b[0;34m\u001b[0m\u001b[0m\n\u001b[1;32m     46\u001b[0m         \u001b[0mj2\u001b[0m \u001b[0;34m=\u001b[0m \u001b[0mi2\u001b[0m\u001b[0;34m[\u001b[0m\u001b[0;36m0\u001b[0m\u001b[0;34m]\u001b[0m\u001b[0;34m\u001b[0m\u001b[0;34m\u001b[0m\u001b[0m\n",
      "\u001b[0;32m/anaconda3/lib/python3.7/site-packages/numpy/core/numeric.py\u001b[0m in \u001b[0;36margwhere\u001b[0;34m(a)\u001b[0m\n\u001b[1;32m    879\u001b[0m \u001b[0;34m\u001b[0m\u001b[0m\n\u001b[1;32m    880\u001b[0m     \"\"\"\n\u001b[0;32m--> 881\u001b[0;31m     \u001b[0;32mreturn\u001b[0m \u001b[0mtranspose\u001b[0m\u001b[0;34m(\u001b[0m\u001b[0mnonzero\u001b[0m\u001b[0;34m(\u001b[0m\u001b[0ma\u001b[0m\u001b[0;34m)\u001b[0m\u001b[0;34m)\u001b[0m\u001b[0;34m\u001b[0m\u001b[0;34m\u001b[0m\u001b[0m\n\u001b[0m\u001b[1;32m    882\u001b[0m \u001b[0;34m\u001b[0m\u001b[0m\n\u001b[1;32m    883\u001b[0m \u001b[0;34m\u001b[0m\u001b[0m\n",
      "\u001b[0;32m/anaconda3/lib/python3.7/site-packages/numpy/core/fromnumeric.py\u001b[0m in \u001b[0;36mnonzero\u001b[0;34m(a)\u001b[0m\n\u001b[1;32m   1776\u001b[0m \u001b[0;34m\u001b[0m\u001b[0m\n\u001b[1;32m   1777\u001b[0m     \"\"\"\n\u001b[0;32m-> 1778\u001b[0;31m     \u001b[0;32mreturn\u001b[0m \u001b[0m_wrapfunc\u001b[0m\u001b[0;34m(\u001b[0m\u001b[0ma\u001b[0m\u001b[0;34m,\u001b[0m \u001b[0;34m'nonzero'\u001b[0m\u001b[0;34m)\u001b[0m\u001b[0;34m\u001b[0m\u001b[0;34m\u001b[0m\u001b[0m\n\u001b[0m\u001b[1;32m   1779\u001b[0m \u001b[0;34m\u001b[0m\u001b[0m\n\u001b[1;32m   1780\u001b[0m \u001b[0;34m\u001b[0m\u001b[0m\n",
      "\u001b[0;32m/anaconda3/lib/python3.7/site-packages/numpy/core/fromnumeric.py\u001b[0m in \u001b[0;36m_wrapfunc\u001b[0;34m(obj, method, *args, **kwds)\u001b[0m\n\u001b[1;32m     54\u001b[0m \u001b[0;32mdef\u001b[0m \u001b[0m_wrapfunc\u001b[0m\u001b[0;34m(\u001b[0m\u001b[0mobj\u001b[0m\u001b[0;34m,\u001b[0m \u001b[0mmethod\u001b[0m\u001b[0;34m,\u001b[0m \u001b[0;34m*\u001b[0m\u001b[0margs\u001b[0m\u001b[0;34m,\u001b[0m \u001b[0;34m**\u001b[0m\u001b[0mkwds\u001b[0m\u001b[0;34m)\u001b[0m\u001b[0;34m:\u001b[0m\u001b[0;34m\u001b[0m\u001b[0;34m\u001b[0m\u001b[0m\n\u001b[1;32m     55\u001b[0m     \u001b[0;32mtry\u001b[0m\u001b[0;34m:\u001b[0m\u001b[0;34m\u001b[0m\u001b[0;34m\u001b[0m\u001b[0m\n\u001b[0;32m---> 56\u001b[0;31m         \u001b[0;32mreturn\u001b[0m \u001b[0mgetattr\u001b[0m\u001b[0;34m(\u001b[0m\u001b[0mobj\u001b[0m\u001b[0;34m,\u001b[0m \u001b[0mmethod\u001b[0m\u001b[0;34m)\u001b[0m\u001b[0;34m(\u001b[0m\u001b[0;34m*\u001b[0m\u001b[0margs\u001b[0m\u001b[0;34m,\u001b[0m \u001b[0;34m**\u001b[0m\u001b[0mkwds\u001b[0m\u001b[0;34m)\u001b[0m\u001b[0;34m\u001b[0m\u001b[0;34m\u001b[0m\u001b[0m\n\u001b[0m\u001b[1;32m     57\u001b[0m \u001b[0;34m\u001b[0m\u001b[0m\n\u001b[1;32m     58\u001b[0m     \u001b[0;31m# An AttributeError occurs if the object does not have\u001b[0m\u001b[0;34m\u001b[0m\u001b[0;34m\u001b[0m\u001b[0;34m\u001b[0m\u001b[0m\n",
      "\u001b[0;31mKeyboardInterrupt\u001b[0m: "
     ]
    }
   ],
   "source": [
    "flux1, var1 = plotting(VUGC, 'UDG Spectra', velocity, 'mediumspringgreen')\n"
   ]
  },
  {
   "cell_type": "code",
   "execution_count": null,
   "metadata": {},
   "outputs": [],
   "source": [
    "flux2, var2 = plotting(VCC, 'VCC Spectra', velocity, 'mediumspringgreen')\n"
   ]
  },
  {
   "cell_type": "code",
   "execution_count": 10,
   "metadata": {},
   "outputs": [],
   "source": [
    "def sigmaclipping(flux):\n",
    "    correct = np.arange(4000,8750.9,0.9)\n",
    "    ones = np.ones(np.shape(flux))\n",
    "    means = np.mean(flux, axis = 0)\n",
    "    stds = np.std(flux, axis = 0)\n",
    "    ones[np.abs(flux - means) > 3 * stds] = 0\n",
    "    a = ones * flux\n",
    "    return ones"
   ]
  },
  {
   "cell_type": "code",
   "execution_count": null,
   "metadata": {},
   "outputs": [],
   "source": [
    "# sigmaClipping(flux)\n",
    "'''\n",
    "correct = np.arange(4000,8750.9,0.9)\n",
    "for i in range (0, 10):\n",
    "    plt.plot(correct, a[i], color = 'g')\n",
    "    plt.xlabel('Wavelength')\n",
    "    plt.ylabel('Flux')\n",
    "    plt.title('Plot')\n",
    "    plt.show()'''"
   ]
  },
  {
   "cell_type": "code",
   "execution_count": 11,
   "metadata": {},
   "outputs": [],
   "source": [
    "#region 6500 - 6600\n",
    "# divide everything in that region of array a by that median\n",
    "def normalize (flux):\n",
    "    start = 2777\n",
    "    end = 2889\n",
    "    region = []\n",
    "    np.array(region)\n",
    "    medians = []\n",
    "    increment = 0\n",
    "    for j in range (0, len(flux)):\n",
    "        for i in range (start, end):\n",
    "            region = []\n",
    "            region.append(flux[j][i])\n",
    "            #fix this\n",
    "        medians.append(np.median(region))\n",
    "    for i in range (0, len(medians)):\n",
    "            flux[i] = (flux[i] / medians[i])\n",
    "    return flux\n"
   ]
  },
  {
   "cell_type": "code",
   "execution_count": 35,
   "metadata": {},
   "outputs": [],
   "source": [
    "fluxVUGC = normalize(flux)\n",
    "#fluxVDGC = normalize(flux1)\n",
    "#fluxVCC = normalize(flux2)"
   ]
  },
  {
   "cell_type": "code",
   "execution_count": 20,
   "metadata": {},
   "outputs": [
    {
     "data": {
      "text/plain": [
       "\"plt.figure()\\nfor i in range (0, 10):\\n    plt.plot(correct, a[i])\\n    plt.xlabel('Wavelength')\\n    plt.ylabel('Flux')\\n    plt.title('Plot')\""
      ]
     },
     "execution_count": 20,
     "metadata": {},
     "output_type": "execute_result"
    }
   ],
   "source": [
    "correct = np.arange(4000,8750.9,0.9)\n",
    "'''plt.figure()\n",
    "for i in range (0, 10):\n",
    "    plt.plot(correct, a[i])\n",
    "    plt.xlabel('Wavelength')\n",
    "    plt.ylabel('Flux')\n",
    "    plt.title('Plot')'''"
   ]
  },
  {
   "cell_type": "code",
   "execution_count": 13,
   "metadata": {},
   "outputs": [],
   "source": [
    "def coadd(spectra, ivar, sigma):    \n",
    "    spectra = np.nan_to_num(spectra)\n",
    "    ivar = np.nan_to_num(ivar)\n",
    "\n",
    "    clip = sigmaclipping(spectra)\n",
    "    coadd_spectra = np.nan_to_num(np.sum(spectra * ivar * clip, axis = 0) / np.sum(ivar * clip, axis = 0))\n",
    "    coadd_ivar = np.nan_to_num(np.sum(ivar * clip, axis = 0))\n",
    "    coadd_err = np.nan_to_num(1 / np.sqrt(np.sum(ivar * clip, axis = 0)))\n",
    "\n",
    "    return coadd_spectra, coadd_ivar, coadd_err"
   ]
  },
  {
   "cell_type": "code",
   "execution_count": 15,
   "metadata": {},
   "outputs": [],
   "source": [
    "coaddSpec, coaddIvar, coaddErr = coadd(fluxVUGC, var, 3)"
   ]
  }
 ],
 "metadata": {
  "kernelspec": {
   "display_name": "Python 3",
   "language": "python",
   "name": "python3"
  },
  "language_info": {
   "codemirror_mode": {
    "name": "ipython",
    "version": 3
   },
   "file_extension": ".py",
   "mimetype": "text/x-python",
   "name": "python",
   "nbconvert_exporter": "python",
   "pygments_lexer": "ipython3",
   "version": "3.7.3"
  }
 },
 "nbformat": 4,
 "nbformat_minor": 2
}
