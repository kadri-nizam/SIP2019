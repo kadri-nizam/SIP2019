{
 "cells": [
  {
   "cell_type": "code",
   "execution_count": 1,
   "metadata": {},
   "outputs": [],
   "source": [
    "from astropy.io import fits, ascii\n",
    "import matplotlib.pyplot as plt\n",
    "import numpy as np\n",
    "import matplotlib as mpl\n",
    "from astropy.table import Table, vstack, Column\n",
    "import pandas as pd\n"
   ]
  },
  {
   "cell_type": "code",
   "execution_count": 2,
   "metadata": {},
   "outputs": [
    {
     "name": "stdout",
     "output_type": "stream",
     "text": [
      "<Table length=790>\n",
      "    name     dtype \n",
      "----------- -------\n",
      "        VCC bytes10\n",
      "   TARGTYPE  bytes7\n",
      "      GCSAT  bytes2\n",
      "       HOST bytes10\n",
      "         RA float32\n",
      "        DEC float32\n",
      "       ZHEL float32\n",
      "       ZERR float32\n",
      "    ZERR_pe float32\n",
      "    ZERR_ne float32\n",
      "      ZCONF float32\n",
      "       ZOBS float32\n",
      "    ZOBS_pe float32\n",
      "    ZOBS_ne float32\n",
      "   ABANDCOR float32\n",
      "ABANDCOR_pe float32\n",
      "ABANDCOR_ne float32\n",
      "     HELCOR float32\n",
      "         SN float32\n",
      "     KECKID bytes20\n",
      "   MASKNAME bytes20\n",
      "    SLITNUM   int16\n",
      "   ZSPECNUM   int16\n",
      "      ZQUAL   int16\n",
      "       YLOW   int16\n",
      "      YHIGH   int16\n",
      " SPEC1DNAME bytes40\n",
      "<Table length=162>\n",
      "    name     dtype \n",
      "----------- -------\n",
      "        VCC bytes10\n",
      "   TARGTYPE  bytes7\n",
      "      GCSAT  bytes2\n",
      "       HOST bytes10\n",
      "         RA float32\n",
      "        DEC float32\n",
      "       VHEL float32\n",
      "       VERR float32\n",
      "    VERR_pe float32\n",
      "    VERR_ne float32\n",
      "      ZCONF float32\n",
      "       VOBS float32\n",
      "    VOBS_pe float32\n",
      "    VOBS_ne float32\n",
      "   ABANDCOR float32\n",
      "ABANDCOR_pe float32\n",
      "ABANDCOR_ne float32\n",
      "     HELCOR float32\n",
      "         SN float32\n",
      "   MASKNAME bytes20\n",
      "    SLITNUM   int16\n",
      "       YLOW   int16\n",
      "      YHIGH   int16\n",
      " SPEC1DNAME bytes40\n"
     ]
    }
   ],
   "source": [
    "path = './../catalogs/'\n",
    "\n",
    "#open the fits file\n",
    "ope1 = Table.read(path + 'VDGC_pPXF_2017_v2.fits')\n",
    "ope2 = Table.read(path + 'VUGC_pPXF_2017_v2.fits')\n",
    "ope1.info()\n",
    "ope2.info()\n",
    "DEprob = Table.read('DEProbFinal2.fits')\n",
    "UDGprob = Table.read('UDGProbFinal2.fits')"
   ]
  },
  {
   "cell_type": "code",
   "execution_count": 3,
   "metadata": {},
   "outputs": [
    {
     "data": {
      "text/html": [
       "<i>Table length=790</i>\n",
       "<table id=\"table4812512952\" class=\"table-striped table-bordered table-condensed\">\n",
       "<thead><tr><th>VCC</th><th>TARGTYPE</th><th>GCSAT</th><th>HOST</th><th>RA</th><th>DEC</th><th>ZHEL</th><th>ZERR</th><th>ZERR_pe</th><th>ZERR_ne</th><th>ZCONF</th><th>ZOBS</th><th>ZOBS_pe</th><th>ZOBS_ne</th><th>ABANDCOR</th><th>ABANDCOR_pe</th><th>ABANDCOR_ne</th><th>HELCOR</th><th>SN</th><th>KECKID</th><th>MASKNAME</th><th>SLITNUM</th><th>ZSPECNUM</th><th>ZQUAL</th><th>YLOW</th><th>YHIGH</th><th>SPEC1DNAME</th></tr></thead>\n",
       "<thead><tr><th>bytes10</th><th>bytes7</th><th>bytes2</th><th>bytes10</th><th>float32</th><th>float32</th><th>float32</th><th>float32</th><th>float32</th><th>float32</th><th>float32</th><th>float32</th><th>float32</th><th>float32</th><th>float32</th><th>float32</th><th>float32</th><th>float32</th><th>float32</th><th>bytes20</th><th>bytes20</th><th>int16</th><th>int16</th><th>int16</th><th>int16</th><th>int16</th><th>bytes40</th></tr></thead>\n",
       "<tr><td>---</td><td>ALG</td><td>N</td><td>---</td><td>187.0097</td><td>10.359333</td><td>0.00018189283</td><td>8.389982e-06</td><td>4.2536944e-06</td><td>4.2911956e-06</td><td>1.0</td><td>0.00039203788</td><td>7.004846e-07</td><td>7.004846e-07</td><td>0.00016147838</td><td>4.6698975e-07</td><td>7.3384103e-07</td><td>4.866667e-05</td><td>196.03</td><td>alg42</td><td>vdgc1</td><td>0</td><td>0</td><td>-1</td><td>15</td><td>21</td><td>spec1d.vdgc1.000.alg42.fits.gz</td></tr>\n",
       "<tr><td>---</td><td>ALG</td><td>N</td><td>---</td><td>187.07608</td><td>10.3505</td><td>-0.0007024523</td><td>1.0064823e-05</td><td>6.74872e-06</td><td>7.2782736e-06</td><td>1.0</td><td>-0.0005678595</td><td>5.0034614e-06</td><td>5.5705204e-06</td><td>8.592611e-05</td><td>1.7678897e-06</td><td>2.1348103e-06</td><td>4.866667e-05</td><td>58.89</td><td>alg115</td><td>vdgc1</td><td>1</td><td>1</td><td>-1</td><td>15</td><td>21</td><td>spec1d.vdgc1.001.alg115.fits.gz</td></tr>\n",
       "<tr><td>---</td><td>ALG</td><td>N</td><td>---</td><td>186.9995</td><td>10.459528</td><td>4.2896674e-05</td><td>9.472941e-06</td><td>5.8739492e-06</td><td>6.4012156e-06</td><td>1.0</td><td>0.0002562106</td><td>3.6024921e-06</td><td>4.0361256e-06</td><td>0.00016464724</td><td>2.0347409e-06</td><td>2.701869e-06</td><td>4.866667e-05</td><td>44.0</td><td>alg140</td><td>vdgc1</td><td>2</td><td>2</td><td>-1</td><td>15</td><td>21</td><td>spec1d.vdgc1.002.alg140.fits.gz</td></tr>\n",
       "<tr><td>---</td><td>ALG</td><td>N</td><td>---</td><td>187.04004</td><td>10.45025</td><td>6.654637e-05</td><td>8.618114e-06</td><td>4.658566e-06</td><td>4.754663e-06</td><td>1.0</td><td>0.00010960916</td><td>1.5343949e-06</td><td>1.9013154e-06</td><td>-5.6038766e-06</td><td>1.4009692e-06</td><td>1.2675436e-06</td><td>4.866667e-05</td><td>80.71</td><td>alg164</td><td>vdgc1</td><td>3</td><td>3</td><td>-1</td><td>16</td><td>21</td><td>spec1d.vdgc1.003.alg164.fits.gz</td></tr>\n",
       "<tr><td>---</td><td>ALG</td><td>N</td><td>---</td><td>187.07025</td><td>10.325111</td><td>-9.1059665e-06</td><td>8.707397e-06</td><td>4.8853194e-06</td><td>4.84415e-06</td><td>1.0</td><td>0.00011594688</td><td>2.1681667e-06</td><td>2.1348103e-06</td><td>7.6386175e-05</td><td>1.3342564e-06</td><td>1.2341872e-06</td><td>4.866667e-05</td><td>92.15</td><td>alg177</td><td>vdgc1</td><td>4</td><td>4</td><td>-1</td><td>15</td><td>20</td><td>spec1d.vdgc1.004.alg177.fits.gz</td></tr>\n",
       "<tr><td>---</td><td>ALG</td><td>N</td><td>---</td><td>187.05908</td><td>10.544111</td><td>5.807384e-05</td><td>8.369103e-06</td><td>4.237577e-06</td><td>4.22153e-06</td><td>1.0</td><td>-9.893511e-05</td><td>5.67059e-07</td><td>4.6698975e-07</td><td>-0.00020567562</td><td>5.003461e-07</td><td>4.6698975e-07</td><td>4.866667e-05</td><td>222.86</td><td>alg191</td><td>vdgc1</td><td>5</td><td>5</td><td>-1</td><td>15</td><td>21</td><td>spec1d.vdgc1.005.alg191.fits.gz</td></tr>\n",
       "<tr><td>---</td><td>ALG</td><td>N</td><td>---</td><td>187.06075</td><td>10.386139</td><td>-0.00017955722</td><td>9.089515e-06</td><td>5.7391444e-06</td><td>5.3187523e-06</td><td>1.0</td><td>-6.1742714e-05</td><td>2.435018e-06</td><td>2.3349487e-06</td><td>6.9147834e-05</td><td>3.1021461e-06</td><td>2.3349487e-06</td><td>4.866667e-05</td><td>73.2</td><td>alg194</td><td>vdgc1</td><td>6</td><td>6</td><td>-1</td><td>15</td><td>20</td><td>spec1d.vdgc1.006.alg194.fits.gz</td></tr>\n",
       "<tr><td>VCC1075</td><td>NUC</td><td>N</td><td>---</td><td>187.05128</td><td>10.297639</td><td>0.006039145</td><td>9.7258535e-06</td><td>6.6017046e-06</td><td>6.4667574e-06</td><td>1.0</td><td>0.0060859434</td><td>4.803323e-06</td><td>4.202908e-06</td><td>-1.867959e-06</td><td>1.7678897e-06</td><td>2.6018e-06</td><td>4.866667e-05</td><td>28.58</td><td>nuc5</td><td>vdgc1</td><td>7</td><td>7</td><td>4</td><td>30</td><td>37</td><td>spec1d.vdgc1.007.nuc5.fits.gz</td></tr>\n",
       "<tr><td>VCC1079</td><td>NUC</td><td>N</td><td>---</td><td>187.05008</td><td>10.365334</td><td>0.00444731</td><td>1.00620455e-05</td><td>6.9665402e-06</td><td>7.04997e-06</td><td>1.0</td><td>0.0044967774</td><td>5.1702436e-06</td><td>5.136887e-06</td><td>8.0055383e-07</td><td>2.101454e-06</td><td>2.435018e-06</td><td>4.866667e-05</td><td>32.52</td><td>nuc6</td><td>vdgc1</td><td>8</td><td>8</td><td>4</td><td>19</td><td>25</td><td>spec1d.vdgc1.008.nuc6.fits.gz</td></tr>\n",
       "<tr><td>VCC1076</td><td>NUC</td><td>N</td><td>---</td><td>187.05345</td><td>10.526055</td><td>0.0054966365</td><td>1.29442e-05</td><td>9.793103e-06</td><td>1.1722346e-05</td><td>1.0</td><td>0.00556992</td><td>8.439171e-06</td><td>1.0674051e-05</td><td>2.461703e-05</td><td>2.701869e-06</td><td>2.4683743e-06</td><td>4.866667e-05</td><td>27.06</td><td>nuc7</td><td>vdgc1</td><td>9</td><td>9</td><td>4</td><td>20</td><td>26</td><td>spec1d.vdgc1.009.nuc7.fits.gz</td></tr>\n",
       "<tr><td>...</td><td>...</td><td>...</td><td>...</td><td>...</td><td>...</td><td>...</td><td>...</td><td>...</td><td>...</td><td>...</td><td>...</td><td>...</td><td>...</td><td>...</td><td>...</td><td>...</td><td>...</td><td>...</td><td>...</td><td>...</td><td>...</td><td>...</td><td>...</td><td>...</td><td>...</td><td>...</td></tr>\n",
       "<tr><td>---</td><td>SERZ</td><td>N</td><td>---</td><td>190.39067</td><td>11.162333</td><td>0.91702384</td><td>0.0001488944</td><td>9999.0</td><td>9999.0</td><td>0.0</td><td>0.91720873</td><td>9999.0</td><td>9999.0</td><td>0.00014221668</td><td>9999.0</td><td>9999.0</td><td>4.2666667e-05</td><td>-9999.9</td><td>serendip1</td><td>vdgc9B</td><td>58</td><td>68</td><td>0</td><td>162</td><td>167</td><td>spec1d.vdgc9B.058.serendip1.fits.gz</td></tr>\n",
       "<tr><td>---</td><td>MST</td><td>N</td><td>---</td><td>190.36996</td><td>11.189972</td><td>-0.0013350608</td><td>0.00013007694</td><td>7.551716e-05</td><td>0.00018471398</td><td>0.0</td><td>-0.0013366914</td><td>7.3284034e-05</td><td>0.00018359367</td><td>-4.429731e-05</td><td>1.774561e-05</td><td>1.9880421e-05</td><td>4.2666667e-05</td><td>1.13</td><td>mst514</td><td>vdgc9B</td><td>59</td><td>69</td><td>2</td><td>41</td><td>46</td><td>spec1d.vdgc9B.059.mst514.fits.gz</td></tr>\n",
       "<tr><td>---</td><td>MST</td><td>N</td><td>---</td><td>190.18108</td><td>11.235611</td><td>-0.0027711876</td><td>0.00029237676</td><td>0.00030298025</td><td>0.00028164417</td><td>0.0</td><td>-0.0027118095</td><td>0.0003026427</td><td>0.00028156146</td><td>1.6711561e-05</td><td>1.3676128e-05</td><td>5.403738e-06</td><td>4.2666667e-05</td><td>2.29</td><td>mst524</td><td>vdgc9B</td><td>60</td><td>70</td><td>1</td><td>11</td><td>14</td><td>spec1d.vdgc9B.060.mst524.fits.gz</td></tr>\n",
       "<tr><td>---</td><td>SERNZ</td><td>N</td><td>---</td><td>190.18204</td><td>11.235396</td><td>1.2071667</td><td>0.0001488944</td><td>9999.0</td><td>9999.0</td><td>0.0</td><td>-999.0</td><td>9999.0</td><td>9999.0</td><td>0.0</td><td>9999.0</td><td>9999.0</td><td>4.2666667e-05</td><td>-9999.9</td><td>serend1</td><td>vdgc9B</td><td>60</td><td>-99</td><td>1</td><td>38</td><td>45</td><td>spec1d.vdgc9B.060.serend1.fits.gz</td></tr>\n",
       "<tr><td>---</td><td>MST</td><td>N</td><td>---</td><td>190.2195</td><td>11.238611</td><td>-0.0001818296</td><td>3.370386e-05</td><td>2.6942998e-05</td><td>3.891744e-05</td><td>1.0</td><td>-0.00013916293</td><td>2.6618414e-05</td><td>3.8693433e-05</td><td>1.5577443e-05</td><td>0.00013782868</td><td>7.218327e-05</td><td>4.2666667e-05</td><td>3.44</td><td>mst526</td><td>vdgc9B</td><td>61</td><td>71</td><td>1</td><td>48</td><td>53</td><td>spec1d.vdgc9B.061.mst526.fits.gz</td></tr>\n",
       "<tr><td>---</td><td>GCA</td><td>Y</td><td>VCC1861</td><td>190.24379</td><td>11.186055</td><td>0.0022821082</td><td>4.455886e-05</td><td>3.486543e-05</td><td>5.3117e-05</td><td>1.0</td><td>0.0022021567</td><td>1.2475297e-05</td><td>2.1481528e-05</td><td>-0.00012261816</td><td>3.2289005e-05</td><td>4.840015e-05</td><td>4.2666667e-05</td><td>3.14</td><td>gcA16</td><td>vdgc9B</td><td>62</td><td>72</td><td>4</td><td>11</td><td>17</td><td>spec1d.vdgc9B.062.gcA16.fits.gz</td></tr>\n",
       "<tr><td>---</td><td>GCA</td><td>Y</td><td>VCC1861</td><td>190.24463</td><td>11.185111</td><td>0.0020616557</td><td>2.6457457e-05</td><td>2.5230987e-05</td><td>2.5707255e-05</td><td>1.0</td><td>0.0021070577</td><td>1.7678896e-05</td><td>1.6678205e-05</td><td>2.7352255e-06</td><td>1.7512115e-05</td><td>1.9113222e-05</td><td>4.2666667e-05</td><td>4.49</td><td>gcA18</td><td>vdgc9B</td><td>63</td><td>73</td><td>4</td><td>7</td><td>14</td><td>spec1d.vdgc9B.063.gcA18.fits.gz</td></tr>\n",
       "<tr><td>---</td><td>GCA</td><td>Y</td><td>VCC1861</td><td>190.24054</td><td>11.177139</td><td>0.0021166939</td><td>2.7707201e-05</td><td>2.5181194e-05</td><td>2.978692e-05</td><td>1.0</td><td>0.0021814757</td><td>1.2108377e-05</td><td>2.4483605e-05</td><td>2.2115299e-05</td><td>2.1681666e-05</td><td>1.644471e-05</td><td>4.2666667e-05</td><td>4.75</td><td>gcA21</td><td>vdgc9B</td><td>64</td><td>74</td><td>4</td><td>38</td><td>44</td><td>spec1d.vdgc9B.064.gcA21.fits.gz</td></tr>\n",
       "<tr><td>---</td><td>GCA</td><td>Y</td><td>VCC1861</td><td>190.25113</td><td>11.18025</td><td>0.0021087884</td><td>5.226562e-05</td><td>4.4467946e-05</td><td>5.912443e-05</td><td>1.0</td><td>0.0021187991</td><td>3.389011e-05</td><td>4.2496067e-05</td><td>-3.2655924e-05</td><td>2.8486375e-05</td><td>4.0894956e-05</td><td>4.2666667e-05</td><td>5.32</td><td>gcA27</td><td>vdgc9B</td><td>65</td><td>75</td><td>4</td><td>12</td><td>18</td><td>spec1d.vdgc9B.065.gcA27.fits.gz</td></tr>\n",
       "<tr><td>---</td><td>GCN</td><td>N</td><td>---</td><td>190.23608</td><td>11.185389</td><td>0.00067412923</td><td>8.494366e-06</td><td>4.474859e-06</td><td>4.470381e-06</td><td>1.0</td><td>0.0007392781</td><td>1.5343949e-06</td><td>1.4676821e-06</td><td>2.248222e-05</td><td>5.337026e-07</td><td>6.671282e-07</td><td>4.2666667e-05</td><td>105.87</td><td>gcN138</td><td>vdgc9B</td><td>66</td><td>76</td><td>4</td><td>30</td><td>36</td><td>spec1d.vdgc9B.066.gcN138.fits.gz</td></tr>\n",
       "</table>"
      ],
      "text/plain": [
       "<Table length=790>\n",
       "  VCC   TARGTYPE GCSAT  ...  YLOW YHIGH              SPEC1DNAME            \n",
       "bytes10  bytes7  bytes2 ... int16 int16               bytes40              \n",
       "------- -------- ------ ... ----- ----- -----------------------------------\n",
       "    ---      ALG      N ...    15    21      spec1d.vdgc1.000.alg42.fits.gz\n",
       "    ---      ALG      N ...    15    21     spec1d.vdgc1.001.alg115.fits.gz\n",
       "    ---      ALG      N ...    15    21     spec1d.vdgc1.002.alg140.fits.gz\n",
       "    ---      ALG      N ...    16    21     spec1d.vdgc1.003.alg164.fits.gz\n",
       "    ---      ALG      N ...    15    20     spec1d.vdgc1.004.alg177.fits.gz\n",
       "    ---      ALG      N ...    15    21     spec1d.vdgc1.005.alg191.fits.gz\n",
       "    ---      ALG      N ...    15    20     spec1d.vdgc1.006.alg194.fits.gz\n",
       "VCC1075      NUC      N ...    30    37       spec1d.vdgc1.007.nuc5.fits.gz\n",
       "VCC1079      NUC      N ...    19    25       spec1d.vdgc1.008.nuc6.fits.gz\n",
       "VCC1076      NUC      N ...    20    26       spec1d.vdgc1.009.nuc7.fits.gz\n",
       "    ...      ...    ... ...   ...   ...                                 ...\n",
       "    ---     SERZ      N ...   162   167 spec1d.vdgc9B.058.serendip1.fits.gz\n",
       "    ---      MST      N ...    41    46    spec1d.vdgc9B.059.mst514.fits.gz\n",
       "    ---      MST      N ...    11    14    spec1d.vdgc9B.060.mst524.fits.gz\n",
       "    ---    SERNZ      N ...    38    45   spec1d.vdgc9B.060.serend1.fits.gz\n",
       "    ---      MST      N ...    48    53    spec1d.vdgc9B.061.mst526.fits.gz\n",
       "    ---      GCA      Y ...    11    17     spec1d.vdgc9B.062.gcA16.fits.gz\n",
       "    ---      GCA      Y ...     7    14     spec1d.vdgc9B.063.gcA18.fits.gz\n",
       "    ---      GCA      Y ...    38    44     spec1d.vdgc9B.064.gcA21.fits.gz\n",
       "    ---      GCA      Y ...    12    18     spec1d.vdgc9B.065.gcA27.fits.gz\n",
       "    ---      GCN      N ...    30    36    spec1d.vdgc9B.066.gcN138.fits.gz"
      ]
     },
     "execution_count": 3,
     "metadata": {},
     "output_type": "execute_result"
    }
   ],
   "source": [
    "ope1"
   ]
  },
  {
   "cell_type": "code",
   "execution_count": 4,
   "metadata": {},
   "outputs": [
    {
     "data": {
      "text/html": [
       "<i>Table length=162</i>\n",
       "<table id=\"table4814610672\" class=\"table-striped table-bordered table-condensed\">\n",
       "<thead><tr><th>VCC</th><th>TARGTYPE</th><th>GCSAT</th><th>HOST</th><th>RA</th><th>DEC</th><th>VHEL</th><th>VERR</th><th>VERR_pe</th><th>VERR_ne</th><th>ZCONF</th><th>VOBS</th><th>VOBS_pe</th><th>VOBS_ne</th><th>ABANDCOR</th><th>ABANDCOR_pe</th><th>ABANDCOR_ne</th><th>HELCOR</th><th>SN</th><th>MASKNAME</th><th>SLITNUM</th><th>YLOW</th><th>YHIGH</th><th>SPEC1DNAME</th></tr></thead>\n",
       "<thead><tr><th>bytes10</th><th>bytes7</th><th>bytes2</th><th>bytes10</th><th>float32</th><th>float32</th><th>float32</th><th>float32</th><th>float32</th><th>float32</th><th>float32</th><th>float32</th><th>float32</th><th>float32</th><th>float32</th><th>float32</th><th>float32</th><th>float32</th><th>float32</th><th>bytes20</th><th>int16</th><th>int16</th><th>int16</th><th>bytes40</th></tr></thead>\n",
       "<tr><td>VCC1148</td><td>NUC</td><td>N</td><td>---</td><td>187.2422</td><td>12.661695</td><td>1417.16</td><td>0.30438462</td><td>0.21</td><td>0.24</td><td>1.0</td><td>1403.28</td><td>0.21</td><td>0.24</td><td>-23.48</td><td>0.18</td><td>0.23</td><td>9.6</td><td>151.96</td><td>vugc1</td><td>0</td><td>43</td><td>59</td><td>spec1d.vugc1.000.NUC001.fits.gz</td></tr>\n",
       "<tr><td>VCC1153</td><td>NUC</td><td>N</td><td>---</td><td>187.2492</td><td>12.648306</td><td>177.74</td><td>185.47</td><td>330.29</td><td>40.65</td><td>0.0</td><td>187.34</td><td>330.29</td><td>40.65</td><td>107.32</td><td>4.57</td><td>4.69</td><td>9.6</td><td>1.64</td><td>vugc1</td><td>1</td><td>13</td><td>23</td><td>spec1d.vugc1.001.NUC002.fits.gz</td></tr>\n",
       "<tr><td>---</td><td>GCXL</td><td>N</td><td>---</td><td>187.06187</td><td>12.719277</td><td>-24.29</td><td>16.87081</td><td>20.8</td><td>11.95</td><td>0.5</td><td>9.46</td><td>20.8</td><td>11.95</td><td>24.15</td><td>4.02</td><td>4.1</td><td>9.6</td><td>3.4</td><td>vugc1</td><td>2</td><td>36</td><td>46</td><td>spec1d.vugc1.002.GCXL001.fits.gz</td></tr>\n",
       "<tr><td>---</td><td>GCXL</td><td>N</td><td>---</td><td>187.27092</td><td>12.641306</td><td>103.29</td><td>5.125</td><td>0.0</td><td>0.0</td><td>0.0</td><td>81.61</td><td>0.0</td><td>0.0</td><td>-31.28</td><td>5.62</td><td>4.63</td><td>9.6</td><td>4.22</td><td>vugc1</td><td>3</td><td>133</td><td>143</td><td>spec1d.vugc1.003.GCXL002.fits.gz</td></tr>\n",
       "<tr><td>---</td><td>GCXL</td><td>Y</td><td>VLSB-B</td><td>187.04521</td><td>12.7260275</td><td>36.84</td><td>7.0934</td><td>7.08</td><td>6.54</td><td>1.0</td><td>85.78</td><td>7.08</td><td>6.54</td><td>39.34</td><td>2.15</td><td>1.82</td><td>9.6</td><td>10.08</td><td>vugc1</td><td>4</td><td>15</td><td>27</td><td>spec1d.vugc1.004.GCXL003.fits.gz</td></tr>\n",
       "<tr><td>---</td><td>GCXL</td><td>N</td><td>---</td><td>187.23859</td><td>12.661834</td><td>571.91</td><td>162.803</td><td>239.54</td><td>85.77</td><td>0.5</td><td>528.88</td><td>239.54</td><td>85.77</td><td>-52.63</td><td>5.9</td><td>7.98</td><td>9.6</td><td>1.94</td><td>vugc1</td><td>5</td><td>27</td><td>35</td><td>spec1d.vugc1.005.GCXL006.fits.gz</td></tr>\n",
       "<tr><td>---</td><td>GCXL</td><td>Y</td><td>VLSB-B</td><td>187.04175</td><td>12.724417</td><td>4.73</td><td>25.45554</td><td>26.43</td><td>24.23</td><td>1.0</td><td>38.71</td><td>26.43</td><td>24.23</td><td>24.38</td><td>2.72</td><td>2.33</td><td>9.6</td><td>4.85</td><td>vugc1</td><td>6</td><td>20</td><td>30</td><td>spec1d.vugc1.006.GCXL007.fits.gz</td></tr>\n",
       "<tr><td>---</td><td>GCXL</td><td>N</td><td>---</td><td>187.0645</td><td>12.741167</td><td>-591.31</td><td>5.6009865</td><td>3.6</td><td>4.99</td><td>1.0</td><td>-544.81</td><td>3.6</td><td>4.99</td><td>36.9</td><td>3.44</td><td>3.75</td><td>9.6</td><td>7.79</td><td>vugc1</td><td>7</td><td>58</td><td>68</td><td>spec1d.vugc1.007.GCXL008.fits.gz</td></tr>\n",
       "<tr><td>---</td><td>GCXL</td><td>N</td><td>---</td><td>187.26016</td><td>12.659917</td><td>81.85</td><td>575.12946</td><td>1134.6</td><td>15.5</td><td>0.0</td><td>83.95</td><td>1134.6</td><td>15.5</td><td>-7.5</td><td>7.72</td><td>11.4</td><td>9.6</td><td>3.11</td><td>vugc1</td><td>8</td><td>16</td><td>26</td><td>spec1d.vugc1.008.GCXL009.fits.gz</td></tr>\n",
       "<tr><td>---</td><td>GCXL</td><td>N</td><td>---</td><td>187.04138</td><td>12.743</td><td>-339.2</td><td>12.014878</td><td>1.14</td><td>18.9</td><td>1.0</td><td>-271.02</td><td>1.14</td><td>18.9</td><td>58.58</td><td>5.66</td><td>7.6</td><td>9.6</td><td>2.14</td><td>vugc1</td><td>9</td><td>41</td><td>51</td><td>spec1d.vugc1.009.GCXL011.fits.gz</td></tr>\n",
       "<tr><td>...</td><td>...</td><td>...</td><td>...</td><td>...</td><td>...</td><td>...</td><td>...</td><td>...</td><td>...</td><td>...</td><td>...</td><td>...</td><td>...</td><td>...</td><td>...</td><td>...</td><td>...</td><td>...</td><td>...</td><td>...</td><td>...</td><td>...</td><td>...</td></tr>\n",
       "<tr><td>---</td><td>SGR</td><td>N</td><td>---</td><td>185.79562</td><td>11.95625</td><td>-30.45</td><td>6.590131</td><td>4.42</td><td>7.3</td><td>1.0</td><td>-5.02</td><td>4.42</td><td>7.3</td><td>16.23</td><td>2.9</td><td>3.13</td><td>9.2</td><td>5.03</td><td>vugc6</td><td>49</td><td>81</td><td>91</td><td>spec1d.vugc6.049.SGR0039.fits.gz</td></tr>\n",
       "<tr><td>---</td><td>SGR</td><td>N</td><td>---</td><td>185.85175</td><td>12.10025</td><td>-48.3</td><td>4.3181043</td><td>5.08</td><td>2.88</td><td>1.0</td><td>-30.82</td><td>5.08</td><td>2.88</td><td>8.28</td><td>1.53</td><td>1.82</td><td>9.2</td><td>14.49</td><td>vugc6</td><td>50</td><td>112</td><td>120</td><td>spec1d.vugc6.050.SGR0044.fits.gz</td></tr>\n",
       "<tr><td>---</td><td>SGR</td><td>N</td><td>---</td><td>185.80034</td><td>11.969306</td><td>-35.15</td><td>5.4065537</td><td>4.37</td><td>5.56</td><td>1.0</td><td>6.67</td><td>4.37</td><td>5.56</td><td>32.62</td><td>2.34</td><td>1.94</td><td>9.2</td><td>12.16</td><td>vugc6</td><td>51</td><td>67</td><td>77</td><td>spec1d.vugc6.051.SGR0085.fits.gz</td></tr>\n",
       "<tr><td>---</td><td>SGR</td><td>N</td><td>---</td><td>185.78845</td><td>12.026778</td><td>-67.46</td><td>3.761396</td><td>3.67</td><td>3.53</td><td>1.0</td><td>-37.48</td><td>3.67</td><td>3.53</td><td>20.78</td><td>0.92</td><td>1.26</td><td>9.2</td><td>17.71</td><td>vugc6</td><td>52</td><td>21</td><td>29</td><td>spec1d.vugc6.052.SGR0105.fits.gz</td></tr>\n",
       "<tr><td>---</td><td>SGR</td><td>N</td><td>---</td><td>185.84895</td><td>12.092112</td><td>-18.66</td><td>17.332441</td><td>15.33</td><td>17.21</td><td>1.0</td><td>-15.34</td><td>15.33</td><td>17.21</td><td>-5.88</td><td>6.04</td><td>5.91</td><td>9.2</td><td>5.06</td><td>vugc6</td><td>53</td><td>8</td><td>16</td><td>spec1d.vugc6.053.SGR0118.fits.gz</td></tr>\n",
       "<tr><td>---</td><td>SGR</td><td>N</td><td>---</td><td>185.88054</td><td>12.135028</td><td>29.33</td><td>10.8752985</td><td>12.75</td><td>7.42</td><td>1.0</td><td>43.62</td><td>12.75</td><td>7.42</td><td>5.09</td><td>4.17</td><td>3.97</td><td>9.2</td><td>4.11</td><td>vugc6</td><td>54</td><td>8</td><td>16</td><td>spec1d.vugc6.054.SGR0123.fits.gz</td></tr>\n",
       "<tr><td>---</td><td>SGR</td><td>N</td><td>---</td><td>185.74037</td><td>11.945056</td><td>81.2</td><td>3.226612</td><td>3.06</td><td>3.14</td><td>1.0</td><td>134.32</td><td>3.06</td><td>3.14</td><td>43.92</td><td>0.96</td><td>0.83</td><td>9.2</td><td>19.33</td><td>vugc6</td><td>55</td><td>62</td><td>72</td><td>spec1d.vugc6.055.SGR0130.fits.gz</td></tr>\n",
       "<tr><td>---</td><td>SER</td><td>N</td><td>---</td><td>185.8101</td><td>12.019183</td><td>-47.68</td><td>7.958574</td><td>5.6</td><td>9.0</td><td>1.0</td><td>-21.63</td><td>5.6</td><td>9.0</td><td>16.85</td><td>3.69</td><td>2.65</td><td>9.2</td><td>3.45</td><td>vugc6</td><td>56</td><td>46</td><td>53</td><td>spec1d.vugc6.056.serendip1.fits.gz</td></tr>\n",
       "<tr><td>---</td><td>SGR</td><td>N</td><td>---</td><td>185.78558</td><td>12.031584</td><td>72.83</td><td>7.6939</td><td>2.39</td><td>5.21</td><td>1.0</td><td>92.59</td><td>2.39</td><td>5.21</td><td>10.56</td><td>6.03</td><td>7.35</td><td>9.2</td><td>5.99</td><td>vugc6</td><td>58</td><td>58</td><td>66</td><td>spec1d.vugc6.058.SGR0175.fits.gz</td></tr>\n",
       "<tr><td>---</td><td>SGR</td><td>N</td><td>---</td><td>185.72034</td><td>11.928528</td><td>-54.81</td><td>7.384176</td><td>8.65</td><td>5.06</td><td>1.0</td><td>6.45</td><td>8.65</td><td>5.06</td><td>52.06</td><td>2.75</td><td>2.74</td><td>9.2</td><td>4.62</td><td>vugc6</td><td>59</td><td>297</td><td>307</td><td>spec1d.vugc6.059.SGR0179.fits.gz</td></tr>\n",
       "</table>"
      ],
      "text/plain": [
       "<Table length=162>\n",
       "  VCC   TARGTYPE GCSAT  ...  YLOW YHIGH             SPEC1DNAME            \n",
       "bytes10  bytes7  bytes2 ... int16 int16              bytes40              \n",
       "------- -------- ------ ... ----- ----- ----------------------------------\n",
       "VCC1148      NUC      N ...    43    59    spec1d.vugc1.000.NUC001.fits.gz\n",
       "VCC1153      NUC      N ...    13    23    spec1d.vugc1.001.NUC002.fits.gz\n",
       "    ---     GCXL      N ...    36    46   spec1d.vugc1.002.GCXL001.fits.gz\n",
       "    ---     GCXL      N ...   133   143   spec1d.vugc1.003.GCXL002.fits.gz\n",
       "    ---     GCXL      Y ...    15    27   spec1d.vugc1.004.GCXL003.fits.gz\n",
       "    ---     GCXL      N ...    27    35   spec1d.vugc1.005.GCXL006.fits.gz\n",
       "    ---     GCXL      Y ...    20    30   spec1d.vugc1.006.GCXL007.fits.gz\n",
       "    ---     GCXL      N ...    58    68   spec1d.vugc1.007.GCXL008.fits.gz\n",
       "    ---     GCXL      N ...    16    26   spec1d.vugc1.008.GCXL009.fits.gz\n",
       "    ---     GCXL      N ...    41    51   spec1d.vugc1.009.GCXL011.fits.gz\n",
       "    ...      ...    ... ...   ...   ...                                ...\n",
       "    ---      SGR      N ...    81    91   spec1d.vugc6.049.SGR0039.fits.gz\n",
       "    ---      SGR      N ...   112   120   spec1d.vugc6.050.SGR0044.fits.gz\n",
       "    ---      SGR      N ...    67    77   spec1d.vugc6.051.SGR0085.fits.gz\n",
       "    ---      SGR      N ...    21    29   spec1d.vugc6.052.SGR0105.fits.gz\n",
       "    ---      SGR      N ...     8    16   spec1d.vugc6.053.SGR0118.fits.gz\n",
       "    ---      SGR      N ...     8    16   spec1d.vugc6.054.SGR0123.fits.gz\n",
       "    ---      SGR      N ...    62    72   spec1d.vugc6.055.SGR0130.fits.gz\n",
       "    ---      SER      N ...    46    53 spec1d.vugc6.056.serendip1.fits.gz\n",
       "    ---      SGR      N ...    58    66   spec1d.vugc6.058.SGR0175.fits.gz\n",
       "    ---      SGR      N ...   297   307   spec1d.vugc6.059.SGR0179.fits.gz"
      ]
     },
     "execution_count": 4,
     "metadata": {},
     "output_type": "execute_result"
    }
   ],
   "source": [
    "ope2"
   ]
  },
  {
   "cell_type": "code",
   "execution_count": 5,
   "metadata": {},
   "outputs": [
    {
     "data": {
      "text/html": [
       "<i>Table length=86</i>\n",
       "<table id=\"table4814427360\" class=\"table-striped table-bordered table-condensed\">\n",
       "<thead><tr><th>VCC</th><th>TARGTYPE</th><th>GCSAT</th><th>HOST</th><th>RA</th><th>DEC</th><th>ZHEL</th><th>ZERR</th><th>ZERR_pe</th><th>ZERR_ne</th><th>ZCONF</th><th>ZOBS</th><th>ZOBS_pe</th><th>ZOBS_ne</th><th>ABANDCOR</th><th>ABANDCOR_pe</th><th>ABANDCOR_ne</th><th>HELCOR</th><th>SN</th><th>KECKID</th><th>MASKNAME</th><th>SLITNUM</th><th>ZSPECNUM</th><th>ZQUAL</th><th>YLOW</th><th>YHIGH</th><th>SPEC1DNAME</th></tr></thead>\n",
       "<thead><tr><th>bytes10</th><th>bytes7</th><th>bytes2</th><th>bytes10</th><th>float32</th><th>float32</th><th>float32</th><th>float32</th><th>float32</th><th>float32</th><th>float32</th><th>float32</th><th>float32</th><th>float32</th><th>float32</th><th>float32</th><th>float32</th><th>float32</th><th>float32</th><th>bytes20</th><th>bytes20</th><th>int16</th><th>int16</th><th>int16</th><th>int16</th><th>int16</th><th>bytes40</th></tr></thead>\n",
       "<tr><td>---</td><td>GCA</td><td>Y</td><td>VCC1075</td><td>187.05533</td><td>10.299723</td><td>0.005986275</td><td>2.2314422e-05</td><td>2.3751685e-05</td><td>1.848875e-05</td><td>1.0</td><td>0.006034942</td><td>2.3382843e-05</td><td>1.801246e-05</td><td>0.00026271507</td><td>8.415822e-05</td><td>7.671974e-05</td><td>4.866667e-05</td><td>3.34</td><td>gcA10</td><td>vdgc1</td><td>11</td><td>12</td><td>3</td><td>25</td><td>31</td><td>spec1d.vdgc1.011.gcA10.fits.gz</td></tr>\n",
       "<tr><td>---</td><td>GCA</td><td>Y</td><td>VCC1075</td><td>187.04483</td><td>10.286805</td><td>0.0061436505</td><td>3.446636e-05</td><td>3.2933065e-05</td><td>3.464896e-05</td><td>1.0</td><td>0.0061850455</td><td>2.3249417e-05</td><td>2.0680975e-05</td><td>-7.271697e-06</td><td>2.2949209e-05</td><td>2.7485681e-05</td><td>4.866667e-05</td><td>5.36</td><td>gcA17</td><td>vdgc1</td><td>12</td><td>13</td><td>4</td><td>17</td><td>23</td><td>spec1d.vdgc1.012.gcA17.fits.gz</td></tr>\n",
       "<tr><td>---</td><td>GCA</td><td>Y</td><td>VCC1075</td><td>187.03674</td><td>10.289222</td><td>0.006009024</td><td>2.017543e-05</td><td>1.5238696e-05</td><td>2.3278018e-05</td><td>1.0</td><td>0.006072768</td><td>1.1040972e-05</td><td>2.1948517e-05</td><td>1.50770975e-05</td><td>9.640003e-06</td><td>6.5378563e-06</td><td>4.866667e-05</td><td>7.06</td><td>gcA19</td><td>vdgc1</td><td>14</td><td>15</td><td>4</td><td>39</td><td>46</td><td>spec1d.vdgc1.014.gcA19.fits.gz</td></tr>\n",
       "<tr><td>---</td><td>GCA</td><td>Y</td><td>VCC1075</td><td>187.04433</td><td>10.315306</td><td>0.0062040924</td><td>8.479092e-06</td><td>4.762613e-06</td><td>4.239546e-06</td><td>1.0</td><td>0.006252759</td><td>2.3015923e-06</td><td>7.6719743e-07</td><td>0.0012339203</td><td>0.00022345458</td><td>0.00019736988</td><td>4.866667e-05</td><td>2.93</td><td>gcA20</td><td>vdgc1</td><td>15</td><td>16</td><td>1</td><td>32</td><td>36</td><td>spec1d.vdgc1.015.gcA20.fits.gz</td></tr>\n",
       "<tr><td>---</td><td>GCN</td><td>Y</td><td>VCC1079</td><td>187.0423</td><td>10.3538885</td><td>0.0044107186</td><td>4.186728e-05</td><td>4.404721e-05</td><td>3.8946433e-05</td><td>1.0</td><td>0.004443507</td><td>4.1662155e-05</td><td>3.3189626e-05</td><td>-1.5877651e-05</td><td>1.3676128e-05</td><td>1.9947132e-05</td><td>4.866667e-05</td><td>6.54</td><td>gcN120</td><td>vdgc1</td><td>26</td><td>31</td><td>1</td><td>122</td><td>128</td><td>spec1d.vdgc1.026.gcN120.fits.gz</td></tr>\n",
       "<tr><td>---</td><td>GCN</td><td>Y</td><td>VCC1079</td><td>187.05162</td><td>10.367778</td><td>0.004462054</td><td>4.542385e-05</td><td>4.61065e-05</td><td>4.3703032e-05</td><td>1.0</td><td>0.0045665926</td><td>3.1054817e-05</td><td>2.5984644e-05</td><td>5.5871988e-05</td><td>3.38234e-05</td><td>3.4890803e-05</td><td>4.866667e-05</td><td>6.97</td><td>gcN138</td><td>vdgc1</td><td>27</td><td>32</td><td>4</td><td>32</td><td>38</td><td>spec1d.vdgc1.027.gcN138.fits.gz</td></tr>\n",
       "<tr><td>---</td><td>GCN</td><td>Y</td><td>VCC1079</td><td>187.05696</td><td>10.373972</td><td>0.0043796967</td><td>3.777301e-05</td><td>3.8419792e-05</td><td>3.5742727e-05</td><td>1.0</td><td>0.004434401</td><td>2.591793e-05</td><td>2.4917237e-05</td><td>6.03751e-06</td><td>2.805274e-05</td><td>2.5284158e-05</td><td>4.866667e-05</td><td>4.94</td><td>gcN145</td><td>vdgc1</td><td>29</td><td>34</td><td>4</td><td>20</td><td>26</td><td>spec1d.vdgc1.029.gcN145.fits.gz</td></tr>\n",
       "<tr><td>---</td><td>GCN</td><td>Y</td><td>VCC1079</td><td>187.05429</td><td>10.377334</td><td>0.0045286</td><td>2.2710039e-05</td><td>2.7274062e-05</td><td>1.622322e-05</td><td>1.0</td><td>0.0045875404</td><td>2.648499e-05</td><td>1.4009692e-05</td><td>1.0273774e-05</td><td>5.0034614e-06</td><td>7.0382025e-06</td><td>4.866667e-05</td><td>7.02</td><td>gcN147</td><td>vdgc1</td><td>30</td><td>35</td><td>4</td><td>30</td><td>36</td><td>spec1d.vdgc1.030.gcN147.fits.gz</td></tr>\n",
       "<tr><td>---</td><td>GCN</td><td>Y</td><td>VCC1076</td><td>187.0515</td><td>10.524445</td><td>0.0055013727</td><td>3.8134505e-05</td><td>3.846017e-05</td><td>3.643079e-05</td><td>1.0</td><td>0.00556495</td><td>3.649191e-05</td><td>3.4390458e-05</td><td>1.4910315e-05</td><td>1.1407892e-05</td><td>1.12744665e-05</td><td>4.866667e-05</td><td>6.99</td><td>gcN206</td><td>vdgc1</td><td>37</td><td>44</td><td>4</td><td>114</td><td>120</td><td>spec1d.vdgc1.037.gcN206.fits.gz</td></tr>\n",
       "<tr><td>---</td><td>GCN</td><td>Y</td><td>VCC1076</td><td>187.05412</td><td>10.529555</td><td>0.005580761</td><td>6.601178e-05</td><td>6.7960405e-05</td><td>6.3349304e-05</td><td>1.0</td><td>0.00556982</td><td>5.1168732e-05</td><td>4.469759e-05</td><td>-5.9607904e-05</td><td>4.4530807e-05</td><td>4.469759e-05</td><td>4.866667e-05</td><td>2.89</td><td>gcN210</td><td>vdgc1</td><td>38</td><td>46</td><td>4</td><td>49</td><td>55</td><td>spec1d.vdgc1.038.gcN210.fits.gz</td></tr>\n",
       "<tr><td>...</td><td>...</td><td>...</td><td>...</td><td>...</td><td>...</td><td>...</td><td>...</td><td>...</td><td>...</td><td>...</td><td>...</td><td>...</td><td>...</td><td>...</td><td>...</td><td>...</td><td>...</td><td>...</td><td>...</td><td>...</td><td>...</td><td>...</td><td>...</td><td>...</td><td>...</td><td>...</td></tr>\n",
       "<tr><td>---</td><td>GCA</td><td>Y</td><td>VCC1861</td><td>190.24992</td><td>11.188056</td><td>0.0022784057</td><td>2.139232e-05</td><td>1.8386312e-05</td><td>2.1980077e-05</td><td>1.0</td><td>0.0023270098</td><td>1.6644848e-05</td><td>1.8813014e-05</td><td>5.937441e-06</td><td>6.604569e-06</td><td>1.0573982e-05</td><td>4.2666667e-05</td><td>7.99</td><td>gcA23</td><td>vdgc9B</td><td>13</td><td>16</td><td>4</td><td>17</td><td>23</td><td>spec1d.vdgc9B.013.gcA23.fits.gz</td></tr>\n",
       "<tr><td>---</td><td>GCA</td><td>Y</td><td>VCC1861</td><td>190.2507</td><td>11.184055</td><td>0.0023529907</td><td>3.9477996e-05</td><td>3.7211492e-05</td><td>4.1059695e-05</td><td>1.0</td><td>0.0023934224</td><td>1.9546856e-05</td><td>2.9753917e-05</td><td>-2.2348795e-06</td><td>3.1388383e-05</td><td>2.7986027e-05</td><td>4.2666667e-05</td><td>3.63</td><td>gcA26</td><td>vdgc9B</td><td>14</td><td>18</td><td>4</td><td>18</td><td>24</td><td>spec1d.vdgc9B.014.gcA26.fits.gz</td></tr>\n",
       "<tr><td>---</td><td>GCA</td><td>Y</td><td>VCC1861</td><td>190.25195</td><td>11.173472</td><td>0.0020519823</td><td>1.2709022e-05</td><td>1.0701378e-05</td><td>1.0352854e-05</td><td>1.0</td><td>0.0021103933</td><td>9.00623e-06</td><td>7.4384793e-06</td><td>1.5744225e-05</td><td>4.002769e-06</td><td>5.8707283e-06</td><td>4.2666667e-05</td><td>16.56</td><td>gcA29</td><td>vdgc9B</td><td>15</td><td>19</td><td>4</td><td>27</td><td>33</td><td>spec1d.vdgc9B.015.gcA29.fits.gz</td></tr>\n",
       "<tr><td>---</td><td>GCA</td><td>Y</td><td>VCC1861</td><td>190.2625</td><td>11.179139</td><td>0.0022052217</td><td>1.2501413e-05</td><td>9.221946e-06</td><td>1.1224072e-05</td><td>1.0</td><td>0.0022422513</td><td>4.6698974e-06</td><td>6.671282e-06</td><td>-5.6372332e-06</td><td>6.7713513e-06</td><td>8.005538e-06</td><td>4.2666667e-05</td><td>13.93</td><td>gcA30</td><td>vdgc9B</td><td>16</td><td>20</td><td>4</td><td>17</td><td>23</td><td>spec1d.vdgc9B.016.gcA30.fits.gz</td></tr>\n",
       "<tr><td>---</td><td>GCA</td><td>Y</td><td>VCC1861</td><td>190.2155</td><td>11.178945</td><td>0.0022596593</td><td>5.8340338e-05</td><td>8.011011e-05</td><td>3.6488465e-05</td><td>1.0</td><td>0.002328911</td><td>7.812071e-05</td><td>3.2389074e-05</td><td>2.6585058e-05</td><td>1.7245264e-05</td><td>1.6277927e-05</td><td>4.2666667e-05</td><td>3.35</td><td>gcA31</td><td>vdgc9B</td><td>17</td><td>21</td><td>3</td><td>13</td><td>19</td><td>spec1d.vdgc9B.017.gcA31.fits.gz</td></tr>\n",
       "<tr><td>---</td><td>GCN</td><td>Y</td><td>VCC1879</td><td>190.36766</td><td>11.152972</td><td>0.0055713505</td><td>5.3471595e-05</td><td>5.9265498e-05</td><td>4.6742196e-05</td><td>1.0</td><td>0.0055634486</td><td>2.6718484e-05</td><td>1.8712946e-05</td><td>-5.0568317e-05</td><td>5.2736483e-05</td><td>4.262949e-05</td><td>4.2666667e-05</td><td>4.99</td><td>gcN121</td><td>vdgc9B</td><td>21</td><td>25</td><td>4</td><td>20</td><td>26</td><td>spec1d.vdgc9B.021.gcN121.fits.gz</td></tr>\n",
       "<tr><td>---</td><td>GCA</td><td>Y</td><td>VCC1861</td><td>190.24379</td><td>11.186055</td><td>0.0022821082</td><td>4.455886e-05</td><td>3.486543e-05</td><td>5.3117e-05</td><td>1.0</td><td>0.0022021567</td><td>1.2475297e-05</td><td>2.1481528e-05</td><td>-0.00012261816</td><td>3.2289005e-05</td><td>4.840015e-05</td><td>4.2666667e-05</td><td>3.14</td><td>gcA16</td><td>vdgc9B</td><td>62</td><td>72</td><td>4</td><td>11</td><td>17</td><td>spec1d.vdgc9B.062.gcA16.fits.gz</td></tr>\n",
       "<tr><td>---</td><td>GCA</td><td>Y</td><td>VCC1861</td><td>190.24463</td><td>11.185111</td><td>0.0020616557</td><td>2.6457457e-05</td><td>2.5230987e-05</td><td>2.5707255e-05</td><td>1.0</td><td>0.0021070577</td><td>1.7678896e-05</td><td>1.6678205e-05</td><td>2.7352255e-06</td><td>1.7512115e-05</td><td>1.9113222e-05</td><td>4.2666667e-05</td><td>4.49</td><td>gcA18</td><td>vdgc9B</td><td>63</td><td>73</td><td>4</td><td>7</td><td>14</td><td>spec1d.vdgc9B.063.gcA18.fits.gz</td></tr>\n",
       "<tr><td>---</td><td>GCA</td><td>Y</td><td>VCC1861</td><td>190.24054</td><td>11.177139</td><td>0.0021166939</td><td>2.7707201e-05</td><td>2.5181194e-05</td><td>2.978692e-05</td><td>1.0</td><td>0.0021814757</td><td>1.2108377e-05</td><td>2.4483605e-05</td><td>2.2115299e-05</td><td>2.1681666e-05</td><td>1.644471e-05</td><td>4.2666667e-05</td><td>4.75</td><td>gcA21</td><td>vdgc9B</td><td>64</td><td>74</td><td>4</td><td>38</td><td>44</td><td>spec1d.vdgc9B.064.gcA21.fits.gz</td></tr>\n",
       "<tr><td>---</td><td>GCA</td><td>Y</td><td>VCC1861</td><td>190.25113</td><td>11.18025</td><td>0.0021087884</td><td>5.226562e-05</td><td>4.4467946e-05</td><td>5.912443e-05</td><td>1.0</td><td>0.0021187991</td><td>3.389011e-05</td><td>4.2496067e-05</td><td>-3.2655924e-05</td><td>2.8486375e-05</td><td>4.0894956e-05</td><td>4.2666667e-05</td><td>5.32</td><td>gcA27</td><td>vdgc9B</td><td>65</td><td>75</td><td>4</td><td>12</td><td>18</td><td>spec1d.vdgc9B.065.gcA27.fits.gz</td></tr>\n",
       "</table>"
      ],
      "text/plain": [
       "<Table length=86>\n",
       "  VCC   TARGTYPE GCSAT    HOST  ...  YLOW YHIGH            SPEC1DNAME           \n",
       "bytes10  bytes7  bytes2 bytes10 ... int16 int16             bytes40             \n",
       "------- -------- ------ ------- ... ----- ----- --------------------------------\n",
       "    ---      GCA      Y VCC1075 ...    25    31   spec1d.vdgc1.011.gcA10.fits.gz\n",
       "    ---      GCA      Y VCC1075 ...    17    23   spec1d.vdgc1.012.gcA17.fits.gz\n",
       "    ---      GCA      Y VCC1075 ...    39    46   spec1d.vdgc1.014.gcA19.fits.gz\n",
       "    ---      GCA      Y VCC1075 ...    32    36   spec1d.vdgc1.015.gcA20.fits.gz\n",
       "    ---      GCN      Y VCC1079 ...   122   128  spec1d.vdgc1.026.gcN120.fits.gz\n",
       "    ---      GCN      Y VCC1079 ...    32    38  spec1d.vdgc1.027.gcN138.fits.gz\n",
       "    ---      GCN      Y VCC1079 ...    20    26  spec1d.vdgc1.029.gcN145.fits.gz\n",
       "    ---      GCN      Y VCC1079 ...    30    36  spec1d.vdgc1.030.gcN147.fits.gz\n",
       "    ---      GCN      Y VCC1076 ...   114   120  spec1d.vdgc1.037.gcN206.fits.gz\n",
       "    ---      GCN      Y VCC1076 ...    49    55  spec1d.vdgc1.038.gcN210.fits.gz\n",
       "    ...      ...    ...     ... ...   ...   ...                              ...\n",
       "    ---      GCA      Y VCC1861 ...    17    23  spec1d.vdgc9B.013.gcA23.fits.gz\n",
       "    ---      GCA      Y VCC1861 ...    18    24  spec1d.vdgc9B.014.gcA26.fits.gz\n",
       "    ---      GCA      Y VCC1861 ...    27    33  spec1d.vdgc9B.015.gcA29.fits.gz\n",
       "    ---      GCA      Y VCC1861 ...    17    23  spec1d.vdgc9B.016.gcA30.fits.gz\n",
       "    ---      GCA      Y VCC1861 ...    13    19  spec1d.vdgc9B.017.gcA31.fits.gz\n",
       "    ---      GCN      Y VCC1879 ...    20    26 spec1d.vdgc9B.021.gcN121.fits.gz\n",
       "    ---      GCA      Y VCC1861 ...    11    17  spec1d.vdgc9B.062.gcA16.fits.gz\n",
       "    ---      GCA      Y VCC1861 ...     7    14  spec1d.vdgc9B.063.gcA18.fits.gz\n",
       "    ---      GCA      Y VCC1861 ...    38    44  spec1d.vdgc9B.064.gcA21.fits.gz\n",
       "    ---      GCA      Y VCC1861 ...    12    18  spec1d.vdgc9B.065.gcA27.fits.gz"
      ]
     },
     "execution_count": 5,
     "metadata": {},
     "output_type": "execute_result"
    }
   ],
   "source": [
    "# remove any rows where ZCONF is not 1\n",
    "true1 = ope1[ope1['ZCONF'] == 1]\n",
    "# remove any rows where GCSAT is not 'Y'\n",
    "true1 = true1[true1['GCSAT'] == 'Y']\n",
    "true1"
   ]
  },
  {
   "cell_type": "code",
   "execution_count": 6,
   "metadata": {},
   "outputs": [
    {
     "data": {
      "text/html": [
       "<i>Table length=25</i>\n",
       "<table id=\"table4814610784\" class=\"table-striped table-bordered table-condensed\">\n",
       "<thead><tr><th>VCC</th><th>TARGTYPE</th><th>GCSAT</th><th>HOST</th><th>RA</th><th>DEC</th><th>VHEL</th><th>VERR</th><th>VERR_pe</th><th>VERR_ne</th><th>ZCONF</th><th>VOBS</th><th>VOBS_pe</th><th>VOBS_ne</th><th>ABANDCOR</th><th>ABANDCOR_pe</th><th>ABANDCOR_ne</th><th>HELCOR</th><th>SN</th><th>MASKNAME</th><th>SLITNUM</th><th>YLOW</th><th>YHIGH</th><th>SPEC1DNAME</th></tr></thead>\n",
       "<thead><tr><th>bytes10</th><th>bytes7</th><th>bytes2</th><th>bytes10</th><th>float32</th><th>float32</th><th>float32</th><th>float32</th><th>float32</th><th>float32</th><th>float32</th><th>float32</th><th>float32</th><th>float32</th><th>float32</th><th>float32</th><th>float32</th><th>float32</th><th>float32</th><th>bytes20</th><th>int16</th><th>int16</th><th>int16</th><th>bytes40</th></tr></thead>\n",
       "<tr><td>---</td><td>GCXL</td><td>Y</td><td>VLSB-B</td><td>187.04521</td><td>12.7260275</td><td>36.84</td><td>7.0934</td><td>7.08</td><td>6.54</td><td>1.0</td><td>85.78</td><td>7.08</td><td>6.54</td><td>39.34</td><td>2.15</td><td>1.82</td><td>9.6</td><td>10.08</td><td>vugc1</td><td>4</td><td>15</td><td>27</td><td>spec1d.vugc1.004.GCXL003.fits.gz</td></tr>\n",
       "<tr><td>---</td><td>GCXL</td><td>Y</td><td>VLSB-B</td><td>187.04175</td><td>12.724417</td><td>4.73</td><td>25.45554</td><td>26.43</td><td>24.23</td><td>1.0</td><td>38.71</td><td>26.43</td><td>24.23</td><td>24.38</td><td>2.72</td><td>2.33</td><td>9.6</td><td>4.85</td><td>vugc1</td><td>6</td><td>20</td><td>30</td><td>spec1d.vugc1.006.GCXL007.fits.gz</td></tr>\n",
       "<tr><td>---</td><td>GCXL</td><td>Y</td><td>VLSB-B</td><td>187.04613</td><td>12.724055</td><td>52.14</td><td>9.228409</td><td>7.88</td><td>8.58</td><td>1.0</td><td>104.23</td><td>7.88</td><td>8.58</td><td>42.49</td><td>4.41</td><td>3.94</td><td>9.6</td><td>4.28</td><td>vugc1</td><td>10</td><td>12</td><td>22</td><td>spec1d.vugc1.010.GCXL012.fits.gz</td></tr>\n",
       "<tr><td>---</td><td>GCXL</td><td>Y</td><td>VCC1148</td><td>187.23409</td><td>12.664805</td><td>1375.66</td><td>7.476045</td><td>3.42</td><td>6.91</td><td>1.0</td><td>1335.91</td><td>3.42</td><td>6.91</td><td>-49.35</td><td>4.7</td><td>6.11</td><td>9.6</td><td>4.68</td><td>vugc1</td><td>13</td><td>214</td><td>224</td><td>spec1d.vugc1.013.GCXL016.fits.gz</td></tr>\n",
       "<tr><td>---</td><td>GCXF</td><td>Y</td><td>VLSB-B</td><td>187.04088</td><td>12.735666</td><td>-73.27</td><td>48.365</td><td>39.31</td><td>57.42</td><td>1.0</td><td>-63.67</td><td>39.31</td><td>57.42</td><td>7.27</td><td>17.61</td><td>183.55</td><td>9.6</td><td>0.81</td><td>vugc1</td><td>19</td><td>15</td><td>23</td><td>spec1d.vugc1.019.GCXF011.fits.gz</td></tr>\n",
       "<tr><td>---</td><td>GCBL</td><td>Y</td><td>VCC1153</td><td>187.26996</td><td>12.665</td><td>113.24</td><td>3.2922218</td><td>2.8</td><td>3.15</td><td>1.0</td><td>96.86</td><td>2.8</td><td>3.15</td><td>-25.98</td><td>1.66</td><td>1.16</td><td>9.6</td><td>17.0</td><td>vugc1</td><td>28</td><td>40</td><td>50</td><td>spec1d.vugc1.028.GCBL005.fits.gz</td></tr>\n",
       "<tr><td>---</td><td>GCXL</td><td>Y</td><td>VLSB-D</td><td>186.17159</td><td>13.580055</td><td>1006.92</td><td>8.453587</td><td>4.7</td><td>7.19</td><td>1.0</td><td>987.41</td><td>4.7</td><td>7.19</td><td>-28.51</td><td>5.59</td><td>6.43</td><td>9.0</td><td>6.17</td><td>vugc5</td><td>1</td><td>4</td><td>7</td><td>spec1d.vugc5.001.GCXL001.fits.gz</td></tr>\n",
       "<tr><td>---</td><td>GCXL</td><td>Y</td><td>VLSB-D</td><td>186.18745</td><td>13.564</td><td>1057.16</td><td>10.3895645</td><td>7.36</td><td>7.03</td><td>1.0</td><td>1052.7</td><td>7.36</td><td>7.03</td><td>-13.46</td><td>7.44</td><td>7.55</td><td>9.0</td><td>6.33</td><td>vugc5</td><td>2</td><td>24</td><td>32</td><td>spec1d.vugc5.002.GCXL002.fits.gz</td></tr>\n",
       "<tr><td>---</td><td>GCXL</td><td>Y</td><td>VLSB-D</td><td>186.17741</td><td>13.550445</td><td>1026.31</td><td>4.880886</td><td>3.9</td><td>4.49</td><td>1.0</td><td>1028.8</td><td>3.9</td><td>4.49</td><td>-6.51</td><td>2.44</td><td>2.55</td><td>9.0</td><td>11.62</td><td>vugc5</td><td>3</td><td>55</td><td>63</td><td>spec1d.vugc5.003.GCXL003.fits.gz</td></tr>\n",
       "<tr><td>---</td><td>GCXL</td><td>Y</td><td>VLSB-D</td><td>186.18413</td><td>13.556723</td><td>1056.22</td><td>12.89066</td><td>15.56</td><td>8.47</td><td>1.0</td><td>1056.32</td><td>15.56</td><td>8.47</td><td>-8.9</td><td>4.43</td><td>4.91</td><td>9.0</td><td>2.39</td><td>vugc5</td><td>4</td><td>16</td><td>22</td><td>spec1d.vugc5.004.GCXL004.fits.gz</td></tr>\n",
       "<tr><td>...</td><td>...</td><td>...</td><td>...</td><td>...</td><td>...</td><td>...</td><td>...</td><td>...</td><td>...</td><td>...</td><td>...</td><td>...</td><td>...</td><td>...</td><td>...</td><td>...</td><td>...</td><td>...</td><td>...</td><td>...</td><td>...</td><td>...</td><td>...</td></tr>\n",
       "<tr><td>---</td><td>GCXF</td><td>Y</td><td>VLSB-D</td><td>186.17091</td><td>13.498722</td><td>1028.3</td><td>12.425</td><td>10.98</td><td>13.87</td><td>1.0</td><td>1037.3</td><td>10.98</td><td>13.87</td><td>-9.15</td><td>34.16</td><td>29.25</td><td>9.0</td><td>2.15</td><td>vugc5</td><td>15</td><td>30</td><td>38</td><td>spec1d.vugc5.015.GCXF002.fits.gz</td></tr>\n",
       "<tr><td>---</td><td>GCXF</td><td>Y</td><td>VLSB-D</td><td>186.17587</td><td>13.533361</td><td>1043.16</td><td>13.015199</td><td>8.56</td><td>11.54</td><td>1.0</td><td>1035.59</td><td>8.56</td><td>11.54</td><td>-16.57</td><td>8.82</td><td>7.72</td><td>9.0</td><td>4.38</td><td>vugc5</td><td>19</td><td>22</td><td>30</td><td>spec1d.vugc5.019.GCXF008.fits.gz</td></tr>\n",
       "<tr><td>---</td><td>GCBF</td><td>Y</td><td>VLSB-D</td><td>186.16437</td><td>13.568361</td><td>1043.72</td><td>19.373266</td><td>13.22</td><td>7.47</td><td>1.0</td><td>1047.04</td><td>13.22</td><td>7.47</td><td>-5.68</td><td>13.55</td><td>19.21</td><td>9.0</td><td>3.88</td><td>vugc5</td><td>25</td><td>43</td><td>51</td><td>spec1d.vugc5.025.GCBF006.fits.gz</td></tr>\n",
       "<tr><td>---</td><td>GCXL</td><td>Y</td><td>VCC0615</td><td>185.763</td><td>12.007584</td><td>2092.53</td><td>3.7062986</td><td>1.25</td><td>1.04</td><td>1.0</td><td>2113.06</td><td>1.25</td><td>1.04</td><td>11.33</td><td>2.5</td><td>4.55</td><td>9.2</td><td>6.85</td><td>vugc6</td><td>1</td><td>19</td><td>27</td><td>spec1d.vugc6.001.GCXL001.fits.gz</td></tr>\n",
       "<tr><td>---</td><td>GCXL</td><td>Y</td><td>VCC0615</td><td>185.7575</td><td>11.9945</td><td>2098.03</td><td>21.363428</td><td>25.18</td><td>13.07</td><td>1.0</td><td>2128.62</td><td>25.18</td><td>13.07</td><td>21.39</td><td>8.46</td><td>10.58</td><td>9.2</td><td>3.97</td><td>vugc6</td><td>2</td><td>14</td><td>24</td><td>spec1d.vugc6.002.GCXL002.fits.gz</td></tr>\n",
       "<tr><td>---</td><td>GCXL</td><td>Y</td><td>VCC0615</td><td>185.7768</td><td>12.016472</td><td>2117.74</td><td>9.1028805</td><td>11.13</td><td>5.91</td><td>1.0</td><td>2134.53</td><td>11.13</td><td>5.91</td><td>7.59</td><td>3.22</td><td>3.19</td><td>9.2</td><td>6.66</td><td>vugc6</td><td>3</td><td>39</td><td>47</td><td>spec1d.vugc6.003.GCXL003.fits.gz</td></tr>\n",
       "<tr><td>---</td><td>GCXL</td><td>Y</td><td>VCC0615</td><td>185.77496</td><td>12.022</td><td>2074.73</td><td>3.1152046</td><td>0.32</td><td>0.04</td><td>1.0</td><td>2099.35</td><td>0.32</td><td>0.04</td><td>15.42</td><td>2.99</td><td>3.23</td><td>9.2</td><td>4.27</td><td>vugc6</td><td>4</td><td>37</td><td>45</td><td>spec1d.vugc6.004.GCXL004.fits.gz</td></tr>\n",
       "<tr><td>---</td><td>GCXF</td><td>Y</td><td>VCC0615</td><td>185.77983</td><td>12.024111</td><td>2051.32</td><td>5.945473</td><td>0.06</td><td>0.09</td><td>1.0</td><td>2094.21</td><td>0.06</td><td>0.09</td><td>33.69</td><td>6.31</td><td>5.58</td><td>9.2</td><td>3.0</td><td>vugc6</td><td>5</td><td>103</td><td>113</td><td>spec1d.vugc6.005.GCXF003.fits.gz</td></tr>\n",
       "<tr><td>---</td><td>GCXF</td><td>Y</td><td>VCC0615</td><td>185.785</td><td>12.017889</td><td>2153.86</td><td>36.283745</td><td>40.04</td><td>31.06</td><td>1.0</td><td>2151.7</td><td>40.04</td><td>31.06</td><td>-11.36</td><td>7.93</td><td>6.59</td><td>9.2</td><td>2.91</td><td>vugc6</td><td>6</td><td>15</td><td>23</td><td>spec1d.vugc6.006.GCXF005.fits.gz</td></tr>\n",
       "<tr><td>---</td><td>GCXF</td><td>Y</td><td>VCC0615</td><td>185.77063</td><td>12.016639</td><td>2117.72</td><td>19.99313</td><td>10.34</td><td>8.63</td><td>1.0</td><td>2125.45</td><td>10.34</td><td>8.63</td><td>-1.47</td><td>18.24</td><td>16.96</td><td>9.2</td><td>2.97</td><td>vugc6</td><td>7</td><td>46</td><td>54</td><td>spec1d.vugc6.007.GCXF006.fits.gz</td></tr>\n",
       "</table>"
      ],
      "text/plain": [
       "<Table length=25>\n",
       "  VCC   TARGTYPE GCSAT    HOST  ...  YLOW YHIGH            SPEC1DNAME           \n",
       "bytes10  bytes7  bytes2 bytes10 ... int16 int16             bytes40             \n",
       "------- -------- ------ ------- ... ----- ----- --------------------------------\n",
       "    ---     GCXL      Y  VLSB-B ...    15    27 spec1d.vugc1.004.GCXL003.fits.gz\n",
       "    ---     GCXL      Y  VLSB-B ...    20    30 spec1d.vugc1.006.GCXL007.fits.gz\n",
       "    ---     GCXL      Y  VLSB-B ...    12    22 spec1d.vugc1.010.GCXL012.fits.gz\n",
       "    ---     GCXL      Y VCC1148 ...   214   224 spec1d.vugc1.013.GCXL016.fits.gz\n",
       "    ---     GCXF      Y  VLSB-B ...    15    23 spec1d.vugc1.019.GCXF011.fits.gz\n",
       "    ---     GCBL      Y VCC1153 ...    40    50 spec1d.vugc1.028.GCBL005.fits.gz\n",
       "    ---     GCXL      Y  VLSB-D ...     4     7 spec1d.vugc5.001.GCXL001.fits.gz\n",
       "    ---     GCXL      Y  VLSB-D ...    24    32 spec1d.vugc5.002.GCXL002.fits.gz\n",
       "    ---     GCXL      Y  VLSB-D ...    55    63 spec1d.vugc5.003.GCXL003.fits.gz\n",
       "    ---     GCXL      Y  VLSB-D ...    16    22 spec1d.vugc5.004.GCXL004.fits.gz\n",
       "    ...      ...    ...     ... ...   ...   ...                              ...\n",
       "    ---     GCXF      Y  VLSB-D ...    30    38 spec1d.vugc5.015.GCXF002.fits.gz\n",
       "    ---     GCXF      Y  VLSB-D ...    22    30 spec1d.vugc5.019.GCXF008.fits.gz\n",
       "    ---     GCBF      Y  VLSB-D ...    43    51 spec1d.vugc5.025.GCBF006.fits.gz\n",
       "    ---     GCXL      Y VCC0615 ...    19    27 spec1d.vugc6.001.GCXL001.fits.gz\n",
       "    ---     GCXL      Y VCC0615 ...    14    24 spec1d.vugc6.002.GCXL002.fits.gz\n",
       "    ---     GCXL      Y VCC0615 ...    39    47 spec1d.vugc6.003.GCXL003.fits.gz\n",
       "    ---     GCXL      Y VCC0615 ...    37    45 spec1d.vugc6.004.GCXL004.fits.gz\n",
       "    ---     GCXF      Y VCC0615 ...   103   113 spec1d.vugc6.005.GCXF003.fits.gz\n",
       "    ---     GCXF      Y VCC0615 ...    15    23 spec1d.vugc6.006.GCXF005.fits.gz\n",
       "    ---     GCXF      Y VCC0615 ...    46    54 spec1d.vugc6.007.GCXF006.fits.gz"
      ]
     },
     "execution_count": 6,
     "metadata": {},
     "output_type": "execute_result"
    }
   ],
   "source": [
    "# remove any rows where ZCONF is not 1\n",
    "true2 = ope2[ope2['ZCONF'] == 1]\n",
    "# remove any rows where GCSAT is not 'Y'\n",
    "true2 = ope2[ope2['GCSAT'] == 'Y']\n",
    "true2"
   ]
  },
  {
   "cell_type": "code",
   "execution_count": 7,
   "metadata": {
    "scrolled": false
   },
   "outputs": [
    {
     "data": {
      "text/html": [
       "<i>Table length=86</i>\n",
       "<table id=\"table4814427360\" class=\"table-striped table-bordered table-condensed\">\n",
       "<thead><tr><th>VCC</th><th>TARGTYPE</th><th>GCSAT</th><th>HOST</th><th>RA</th><th>DEC</th><th>VHEL</th><th>VERR</th><th>VERR_pe</th><th>VERR_ne</th><th>ZCONF</th><th>VOBS</th><th>VOBS_pe</th><th>VOBS_ne</th><th>ABANDCOR</th><th>ABANDCOR_pe</th><th>ABANDCOR_ne</th><th>HELCOR</th><th>SN</th><th>KECKID</th><th>MASKNAME</th><th>SLITNUM</th><th>ZSPECNUM</th><th>ZQUAL</th><th>YLOW</th><th>YHIGH</th><th>SPEC1DNAME</th></tr></thead>\n",
       "<thead><tr><th>bytes10</th><th>bytes7</th><th>bytes2</th><th>bytes10</th><th>float32</th><th>float32</th><th>float32</th><th>float32</th><th>float32</th><th>float32</th><th>float32</th><th>float32</th><th>float32</th><th>float32</th><th>float32</th><th>float32</th><th>float32</th><th>float32</th><th>float32</th><th>bytes20</th><th>bytes20</th><th>int16</th><th>int16</th><th>int16</th><th>int16</th><th>int16</th><th>bytes40</th></tr></thead>\n",
       "<tr><td>---</td><td>GCA</td><td>Y</td><td>VCC1075</td><td>187.05533</td><td>10.299723</td><td>1795.8826</td><td>6.6943264</td><td>7.1255054</td><td>5.546625</td><td>1.0</td><td>1810.4825</td><td>7.014853</td><td>5.403738</td><td>78.81452</td><td>25.247467</td><td>23.015923</td><td>14.6</td><td>3.34</td><td>gcA10</td><td>vdgc1</td><td>11</td><td>12</td><td>3</td><td>25</td><td>31</td><td>spec1d.vdgc1.011.gcA10.fits.gz</td></tr>\n",
       "<tr><td>---</td><td>GCA</td><td>Y</td><td>VCC1075</td><td>187.04483</td><td>10.286805</td><td>1843.0951</td><td>10.339908</td><td>9.879919</td><td>10.394689</td><td>1.0</td><td>1855.5137</td><td>6.974825</td><td>6.2042923</td><td>-2.181509</td><td>6.884763</td><td>8.245705</td><td>14.6</td><td>5.36</td><td>gcA17</td><td>vdgc1</td><td>12</td><td>13</td><td>4</td><td>17</td><td>23</td><td>spec1d.vdgc1.012.gcA17.fits.gz</td></tr>\n",
       "<tr><td>---</td><td>GCA</td><td>Y</td><td>VCC1075</td><td>187.03674</td><td>10.289222</td><td>1802.7073</td><td>6.052629</td><td>4.5716085</td><td>6.9834056</td><td>1.0</td><td>1821.8304</td><td>3.3122916</td><td>6.584555</td><td>4.5231295</td><td>2.8920007</td><td>1.9613569</td><td>14.6</td><td>7.06</td><td>gcA19</td><td>vdgc1</td><td>14</td><td>15</td><td>4</td><td>39</td><td>46</td><td>spec1d.vdgc1.014.gcA19.fits.gz</td></tr>\n",
       "<tr><td>---</td><td>GCA</td><td>Y</td><td>VCC1075</td><td>187.04433</td><td>10.315306</td><td>1861.2278</td><td>2.5437276</td><td>1.4287839</td><td>1.2718638</td><td>1.0</td><td>1875.8278</td><td>0.69047767</td><td>0.23015922</td><td>370.1761</td><td>67.03638</td><td>59.210964</td><td>14.6</td><td>2.93</td><td>gcA20</td><td>vdgc1</td><td>15</td><td>16</td><td>1</td><td>32</td><td>36</td><td>spec1d.vdgc1.015.gcA20.fits.gz</td></tr>\n",
       "<tr><td>---</td><td>GCN</td><td>Y</td><td>VCC1079</td><td>187.0423</td><td>10.3538885</td><td>1323.2156</td><td>12.560184</td><td>13.214163</td><td>11.683929</td><td>1.0</td><td>1333.0521</td><td>12.498647</td><td>9.956888</td><td>-4.763295</td><td>4.1028385</td><td>5.98414</td><td>14.6</td><td>6.54</td><td>gcN120</td><td>vdgc1</td><td>26</td><td>31</td><td>1</td><td>122</td><td>128</td><td>spec1d.vdgc1.026.gcN120.fits.gz</td></tr>\n",
       "<tr><td>---</td><td>GCN</td><td>Y</td><td>VCC1079</td><td>187.05162</td><td>10.367778</td><td>1338.6162</td><td>13.627155</td><td>13.83195</td><td>13.110909</td><td>1.0</td><td>1369.9778</td><td>9.316445</td><td>7.795393</td><td>16.761597</td><td>10.147019</td><td>10.467241</td><td>14.6</td><td>6.97</td><td>gcN138</td><td>vdgc1</td><td>27</td><td>32</td><td>4</td><td>32</td><td>38</td><td>spec1d.vdgc1.027.gcN138.fits.gz</td></tr>\n",
       "<tr><td>---</td><td>GCN</td><td>Y</td><td>VCC1079</td><td>187.05696</td><td>10.373972</td><td>1313.909</td><td>11.331903</td><td>11.525938</td><td>10.722818</td><td>1.0</td><td>1330.3203</td><td>7.775379</td><td>7.475171</td><td>1.8112531</td><td>8.415822</td><td>7.5852475</td><td>14.6</td><td>4.94</td><td>gcN145</td><td>vdgc1</td><td>29</td><td>34</td><td>4</td><td>20</td><td>26</td><td>spec1d.vdgc1.029.gcN145.fits.gz</td></tr>\n",
       "<tr><td>---</td><td>GCN</td><td>Y</td><td>VCC1079</td><td>187.05429</td><td>10.377334</td><td>1358.58</td><td>6.8130116</td><td>8.182219</td><td>4.8669662</td><td>1.0</td><td>1376.2621</td><td>7.945497</td><td>4.2029076</td><td>3.082132</td><td>1.5010384</td><td>2.1114607</td><td>14.6</td><td>7.02</td><td>gcN147</td><td>vdgc1</td><td>30</td><td>35</td><td>4</td><td>30</td><td>36</td><td>spec1d.vdgc1.030.gcN147.fits.gz</td></tr>\n",
       "<tr><td>---</td><td>GCN</td><td>Y</td><td>VCC1076</td><td>187.0515</td><td>10.524445</td><td>1650.4119</td><td>11.4403515</td><td>11.538051</td><td>10.929236</td><td>1.0</td><td>1669.485</td><td>10.947573</td><td>10.317138</td><td>4.4730945</td><td>3.4223676</td><td>3.38234</td><td>14.6</td><td>6.99</td><td>gcN206</td><td>vdgc1</td><td>37</td><td>44</td><td>4</td><td>114</td><td>120</td><td>spec1d.vdgc1.037.gcN206.fits.gz</td></tr>\n",
       "<tr><td>---</td><td>GCN</td><td>Y</td><td>VCC1076</td><td>187.05412</td><td>10.529555</td><td>1674.2283</td><td>19.803534</td><td>20.388123</td><td>19.004791</td><td>1.0</td><td>1670.9459</td><td>15.350619</td><td>13.409277</td><td>-17.882372</td><td>13.359242</td><td>13.409277</td><td>14.6</td><td>2.89</td><td>gcN210</td><td>vdgc1</td><td>38</td><td>46</td><td>4</td><td>49</td><td>55</td><td>spec1d.vdgc1.038.gcN210.fits.gz</td></tr>\n",
       "<tr><td>...</td><td>...</td><td>...</td><td>...</td><td>...</td><td>...</td><td>...</td><td>...</td><td>...</td><td>...</td><td>...</td><td>...</td><td>...</td><td>...</td><td>...</td><td>...</td><td>...</td><td>...</td><td>...</td><td>...</td><td>...</td><td>...</td><td>...</td><td>...</td><td>...</td><td>...</td><td>...</td></tr>\n",
       "<tr><td>---</td><td>GCA</td><td>Y</td><td>VCC1861</td><td>190.24992</td><td>11.188056</td><td>683.5217</td><td>6.417696</td><td>5.5158935</td><td>6.594023</td><td>1.0</td><td>698.10297</td><td>4.9934545</td><td>5.643904</td><td>1.7812324</td><td>1.9813707</td><td>3.1721945</td><td>12.8</td><td>7.99</td><td>gcA23</td><td>vdgc9B</td><td>13</td><td>16</td><td>4</td><td>17</td><td>23</td><td>spec1d.vdgc9B.013.gcA23.fits.gz</td></tr>\n",
       "<tr><td>---</td><td>GCA</td><td>Y</td><td>VCC1861</td><td>190.2507</td><td>11.184055</td><td>705.8972</td><td>11.843399</td><td>11.163447</td><td>12.317908</td><td>1.0</td><td>718.02673</td><td>5.864057</td><td>8.926175</td><td>-0.67046386</td><td>9.416515</td><td>8.395808</td><td>12.8</td><td>3.63</td><td>gcA26</td><td>vdgc9B</td><td>14</td><td>18</td><td>4</td><td>18</td><td>24</td><td>spec1d.vdgc9B.014.gcA26.fits.gz</td></tr>\n",
       "<tr><td>---</td><td>GCA</td><td>Y</td><td>VCC1861</td><td>190.25195</td><td>11.173472</td><td>615.5947</td><td>3.8127065</td><td>3.2104135</td><td>3.1058562</td><td>1.0</td><td>633.118</td><td>2.701869</td><td>2.2315438</td><td>4.7232676</td><td>1.2008307</td><td>1.7612184</td><td>12.8</td><td>16.56</td><td>gcA29</td><td>vdgc9B</td><td>15</td><td>19</td><td>4</td><td>27</td><td>33</td><td>spec1d.vdgc9B.015.gcA29.fits.gz</td></tr>\n",
       "<tr><td>---</td><td>GCA</td><td>Y</td><td>VCC1861</td><td>190.2625</td><td>11.179139</td><td>661.5665</td><td>3.750424</td><td>2.766584</td><td>3.3672216</td><td>1.0</td><td>672.6754</td><td>1.4009693</td><td>2.0013845</td><td>-1.69117</td><td>2.0314054</td><td>2.4016614</td><td>12.8</td><td>13.93</td><td>gcA30</td><td>vdgc9B</td><td>16</td><td>20</td><td>4</td><td>17</td><td>23</td><td>spec1d.vdgc9B.016.gcA30.fits.gz</td></tr>\n",
       "<tr><td>---</td><td>GCA</td><td>Y</td><td>VCC1861</td><td>190.2155</td><td>11.178945</td><td>677.8978</td><td>17.502102</td><td>24.033033</td><td>10.94654</td><td>1.0</td><td>698.67334</td><td>23.436214</td><td>9.7167225</td><td>7.9755173</td><td>5.173579</td><td>4.883378</td><td>12.8</td><td>3.35</td><td>gcA31</td><td>vdgc9B</td><td>17</td><td>21</td><td>3</td><td>13</td><td>19</td><td>spec1d.vdgc9B.017.gcA31.fits.gz</td></tr>\n",
       "<tr><td>---</td><td>GCN</td><td>Y</td><td>VCC1879</td><td>190.36766</td><td>11.152972</td><td>1671.4052</td><td>16.04148</td><td>17.77965</td><td>14.022658</td><td>1.0</td><td>1669.0345</td><td>8.015545</td><td>5.613884</td><td>-15.170495</td><td>15.820945</td><td>12.788847</td><td>12.8</td><td>4.99</td><td>gcN121</td><td>vdgc9B</td><td>21</td><td>25</td><td>4</td><td>20</td><td>26</td><td>spec1d.vdgc9B.021.gcN121.fits.gz</td></tr>\n",
       "<tr><td>---</td><td>GCA</td><td>Y</td><td>VCC1861</td><td>190.24379</td><td>11.186055</td><td>684.63245</td><td>13.367658</td><td>10.459628</td><td>15.935101</td><td>1.0</td><td>660.64703</td><td>3.742589</td><td>6.4444585</td><td>-36.78545</td><td>9.686702</td><td>14.520045</td><td>12.8</td><td>3.14</td><td>gcA16</td><td>vdgc9B</td><td>62</td><td>72</td><td>4</td><td>11</td><td>17</td><td>spec1d.vdgc9B.062.gcA16.fits.gz</td></tr>\n",
       "<tr><td>---</td><td>GCA</td><td>Y</td><td>VCC1861</td><td>190.24463</td><td>11.185111</td><td>618.4967</td><td>7.9372373</td><td>7.5692964</td><td>7.7121763</td><td>1.0</td><td>632.1173</td><td>5.303669</td><td>5.0034614</td><td>0.82056767</td><td>5.2536345</td><td>5.733967</td><td>12.8</td><td>4.49</td><td>gcA18</td><td>vdgc9B</td><td>63</td><td>73</td><td>4</td><td>7</td><td>14</td><td>spec1d.vdgc9B.063.gcA18.fits.gz</td></tr>\n",
       "<tr><td>---</td><td>GCA</td><td>Y</td><td>VCC1861</td><td>190.24054</td><td>11.177139</td><td>635.0082</td><td>8.3121605</td><td>7.5543585</td><td>8.936076</td><td>1.0</td><td>654.44275</td><td>3.632513</td><td>7.3450813</td><td>6.6345897</td><td>6.5045</td><td>4.933413</td><td>12.8</td><td>4.75</td><td>gcA21</td><td>vdgc9B</td><td>64</td><td>74</td><td>4</td><td>38</td><td>44</td><td>spec1d.vdgc9B.064.gcA21.fits.gz</td></tr>\n",
       "<tr><td>---</td><td>GCA</td><td>Y</td><td>VCC1861</td><td>190.25113</td><td>11.18025</td><td>632.63654</td><td>15.679686</td><td>13.340384</td><td>17.73733</td><td>1.0</td><td>635.6398</td><td>10.167033</td><td>12.74882</td><td>-9.796777</td><td>8.545913</td><td>12.268487</td><td>12.8</td><td>5.32</td><td>gcA27</td><td>vdgc9B</td><td>65</td><td>75</td><td>4</td><td>12</td><td>18</td><td>spec1d.vdgc9B.065.gcA27.fits.gz</td></tr>\n",
       "</table>"
      ],
      "text/plain": [
       "<Table length=86>\n",
       "  VCC   TARGTYPE GCSAT    HOST  ...  YLOW YHIGH            SPEC1DNAME           \n",
       "bytes10  bytes7  bytes2 bytes10 ... int16 int16             bytes40             \n",
       "------- -------- ------ ------- ... ----- ----- --------------------------------\n",
       "    ---      GCA      Y VCC1075 ...    25    31   spec1d.vdgc1.011.gcA10.fits.gz\n",
       "    ---      GCA      Y VCC1075 ...    17    23   spec1d.vdgc1.012.gcA17.fits.gz\n",
       "    ---      GCA      Y VCC1075 ...    39    46   spec1d.vdgc1.014.gcA19.fits.gz\n",
       "    ---      GCA      Y VCC1075 ...    32    36   spec1d.vdgc1.015.gcA20.fits.gz\n",
       "    ---      GCN      Y VCC1079 ...   122   128  spec1d.vdgc1.026.gcN120.fits.gz\n",
       "    ---      GCN      Y VCC1079 ...    32    38  spec1d.vdgc1.027.gcN138.fits.gz\n",
       "    ---      GCN      Y VCC1079 ...    20    26  spec1d.vdgc1.029.gcN145.fits.gz\n",
       "    ---      GCN      Y VCC1079 ...    30    36  spec1d.vdgc1.030.gcN147.fits.gz\n",
       "    ---      GCN      Y VCC1076 ...   114   120  spec1d.vdgc1.037.gcN206.fits.gz\n",
       "    ---      GCN      Y VCC1076 ...    49    55  spec1d.vdgc1.038.gcN210.fits.gz\n",
       "    ...      ...    ...     ... ...   ...   ...                              ...\n",
       "    ---      GCA      Y VCC1861 ...    17    23  spec1d.vdgc9B.013.gcA23.fits.gz\n",
       "    ---      GCA      Y VCC1861 ...    18    24  spec1d.vdgc9B.014.gcA26.fits.gz\n",
       "    ---      GCA      Y VCC1861 ...    27    33  spec1d.vdgc9B.015.gcA29.fits.gz\n",
       "    ---      GCA      Y VCC1861 ...    17    23  spec1d.vdgc9B.016.gcA30.fits.gz\n",
       "    ---      GCA      Y VCC1861 ...    13    19  spec1d.vdgc9B.017.gcA31.fits.gz\n",
       "    ---      GCN      Y VCC1879 ...    20    26 spec1d.vdgc9B.021.gcN121.fits.gz\n",
       "    ---      GCA      Y VCC1861 ...    11    17  spec1d.vdgc9B.062.gcA16.fits.gz\n",
       "    ---      GCA      Y VCC1861 ...     7    14  spec1d.vdgc9B.063.gcA18.fits.gz\n",
       "    ---      GCA      Y VCC1861 ...    38    44  spec1d.vdgc9B.064.gcA21.fits.gz\n",
       "    ---      GCA      Y VCC1861 ...    12    18  spec1d.vdgc9B.065.gcA27.fits.gz"
      ]
     },
     "execution_count": 7,
     "metadata": {},
     "output_type": "execute_result"
    }
   ],
   "source": [
    "#VLSBB, VLSBD, or VCC615\n",
    "\n",
    "# Change the column values in VDGC by using and ZERR to VERR conversion\n",
    "columns_to_change = ['ZERR', 'ZERR_ne', 'ZERR_pe', 'ZHEL', 'ZOBS', 'ZOBS_ne', 'ZOBS_pe']\n",
    "columns_to_change2 = ['ABANDCOR', 'ABANDCOR_pe', 'ABANDCOR_ne','HELCOR' ]\n",
    "for col in columns_to_change:\n",
    "    true1[col] = true1[col] * 3e+5\n",
    "    \n",
    "    # col[1:] selects the second letter through the end, so that ZERR_ne becomes ERR_ne. We then put V in front\n",
    "    true1.rename_column(col, 'V' + col[1:])   \n",
    "for col in columns_to_change2:\n",
    "    true1[col] = true1[col] * 3e+5\n",
    "    \n",
    "for col in columns_to_change:\n",
    "    DEprob[col] = DEprob[col] * 3e+5\n",
    "    DEprob.rename_column(col, 'V' + col[1:]) \n",
    "    \n",
    "true1"
   ]
  },
  {
   "cell_type": "code",
   "execution_count": 8,
   "metadata": {},
   "outputs": [
    {
     "data": {
      "text/html": [
       "<i>Table length=23</i>\n",
       "<table id=\"table4525053040\" class=\"table-striped table-bordered table-condensed\">\n",
       "<thead><tr><th>VCC</th><th>TARGTYPE</th><th>GCSAT</th><th>HOST</th><th>RA</th><th>DEC</th><th>VHEL</th><th>VERR</th><th>VERR_pe</th><th>VERR_ne</th><th>ZCONF</th><th>VOBS</th><th>VOBS_pe</th><th>VOBS_ne</th><th>ABANDCOR</th><th>ABANDCOR_pe</th><th>ABANDCOR_ne</th><th>HELCOR</th><th>SN</th><th>MASKNAME</th><th>SLITNUM</th><th>YLOW</th><th>YHIGH</th><th>SPEC1DNAME</th></tr></thead>\n",
       "<thead><tr><th>bytes10</th><th>bytes7</th><th>bytes2</th><th>bytes10</th><th>float32</th><th>float32</th><th>float32</th><th>float32</th><th>float32</th><th>float32</th><th>float32</th><th>float32</th><th>float32</th><th>float32</th><th>float32</th><th>float32</th><th>float32</th><th>float32</th><th>float32</th><th>bytes20</th><th>int16</th><th>int16</th><th>int16</th><th>bytes40</th></tr></thead>\n",
       "<tr><td>---</td><td>GCXL</td><td>Y</td><td>VCC0615</td><td>185.763</td><td>12.007584</td><td>2092.53</td><td>3.7062986</td><td>1.25</td><td>1.04</td><td>1.0</td><td>2113.06</td><td>1.25</td><td>1.04</td><td>11.33</td><td>2.5</td><td>4.55</td><td>9.2</td><td>6.85</td><td>vugc6</td><td>1</td><td>19</td><td>27</td><td>spec1d.vugc6.001.GCXL001.fits.gz</td></tr>\n",
       "<tr><td>---</td><td>GCXL</td><td>Y</td><td>VCC0615</td><td>185.7575</td><td>11.9945</td><td>2098.03</td><td>21.363428</td><td>25.18</td><td>13.07</td><td>1.0</td><td>2128.62</td><td>25.18</td><td>13.07</td><td>21.39</td><td>8.46</td><td>10.58</td><td>9.2</td><td>3.97</td><td>vugc6</td><td>2</td><td>14</td><td>24</td><td>spec1d.vugc6.002.GCXL002.fits.gz</td></tr>\n",
       "<tr><td>---</td><td>GCXL</td><td>Y</td><td>VCC0615</td><td>185.7768</td><td>12.016472</td><td>2117.74</td><td>9.1028805</td><td>11.13</td><td>5.91</td><td>1.0</td><td>2134.53</td><td>11.13</td><td>5.91</td><td>7.59</td><td>3.22</td><td>3.19</td><td>9.2</td><td>6.66</td><td>vugc6</td><td>3</td><td>39</td><td>47</td><td>spec1d.vugc6.003.GCXL003.fits.gz</td></tr>\n",
       "<tr><td>---</td><td>GCXL</td><td>Y</td><td>VCC0615</td><td>185.77496</td><td>12.022</td><td>2074.73</td><td>3.1152046</td><td>0.32</td><td>0.04</td><td>1.0</td><td>2099.35</td><td>0.32</td><td>0.04</td><td>15.42</td><td>2.99</td><td>3.23</td><td>9.2</td><td>4.27</td><td>vugc6</td><td>4</td><td>37</td><td>45</td><td>spec1d.vugc6.004.GCXL004.fits.gz</td></tr>\n",
       "<tr><td>---</td><td>GCXF</td><td>Y</td><td>VCC0615</td><td>185.77983</td><td>12.024111</td><td>2051.32</td><td>5.945473</td><td>0.06</td><td>0.09</td><td>1.0</td><td>2094.21</td><td>0.06</td><td>0.09</td><td>33.69</td><td>6.31</td><td>5.58</td><td>9.2</td><td>3.0</td><td>vugc6</td><td>5</td><td>103</td><td>113</td><td>spec1d.vugc6.005.GCXF003.fits.gz</td></tr>\n",
       "<tr><td>---</td><td>GCXF</td><td>Y</td><td>VCC0615</td><td>185.785</td><td>12.017889</td><td>2153.86</td><td>36.283745</td><td>40.04</td><td>31.06</td><td>1.0</td><td>2151.7</td><td>40.04</td><td>31.06</td><td>-11.36</td><td>7.93</td><td>6.59</td><td>9.2</td><td>2.91</td><td>vugc6</td><td>6</td><td>15</td><td>23</td><td>spec1d.vugc6.006.GCXF005.fits.gz</td></tr>\n",
       "<tr><td>---</td><td>GCXF</td><td>Y</td><td>VCC0615</td><td>185.77063</td><td>12.016639</td><td>2117.72</td><td>19.99313</td><td>10.34</td><td>8.63</td><td>1.0</td><td>2125.45</td><td>10.34</td><td>8.63</td><td>-1.47</td><td>18.24</td><td>16.96</td><td>9.2</td><td>2.97</td><td>vugc6</td><td>7</td><td>46</td><td>54</td><td>spec1d.vugc6.007.GCXF006.fits.gz</td></tr>\n",
       "<tr><td>---</td><td>GCXL</td><td>Y</td><td>VLSB-B</td><td>187.04521</td><td>12.7260275</td><td>36.84</td><td>7.0934</td><td>7.08</td><td>6.54</td><td>1.0</td><td>85.78</td><td>7.08</td><td>6.54</td><td>39.34</td><td>2.15</td><td>1.82</td><td>9.6</td><td>10.08</td><td>vugc1</td><td>4</td><td>15</td><td>27</td><td>spec1d.vugc1.004.GCXL003.fits.gz</td></tr>\n",
       "<tr><td>---</td><td>GCXL</td><td>Y</td><td>VLSB-B</td><td>187.04175</td><td>12.724417</td><td>4.73</td><td>25.45554</td><td>26.43</td><td>24.23</td><td>1.0</td><td>38.71</td><td>26.43</td><td>24.23</td><td>24.38</td><td>2.72</td><td>2.33</td><td>9.6</td><td>4.85</td><td>vugc1</td><td>6</td><td>20</td><td>30</td><td>spec1d.vugc1.006.GCXL007.fits.gz</td></tr>\n",
       "<tr><td>---</td><td>GCXL</td><td>Y</td><td>VLSB-B</td><td>187.04613</td><td>12.724055</td><td>52.14</td><td>9.228409</td><td>7.88</td><td>8.58</td><td>1.0</td><td>104.23</td><td>7.88</td><td>8.58</td><td>42.49</td><td>4.41</td><td>3.94</td><td>9.6</td><td>4.28</td><td>vugc1</td><td>10</td><td>12</td><td>22</td><td>spec1d.vugc1.010.GCXL012.fits.gz</td></tr>\n",
       "<tr><td>...</td><td>...</td><td>...</td><td>...</td><td>...</td><td>...</td><td>...</td><td>...</td><td>...</td><td>...</td><td>...</td><td>...</td><td>...</td><td>...</td><td>...</td><td>...</td><td>...</td><td>...</td><td>...</td><td>...</td><td>...</td><td>...</td><td>...</td><td>...</td></tr>\n",
       "<tr><td>---</td><td>GCXL</td><td>Y</td><td>VLSB-D</td><td>186.17741</td><td>13.550445</td><td>1026.31</td><td>4.880886</td><td>3.9</td><td>4.49</td><td>1.0</td><td>1028.8</td><td>3.9</td><td>4.49</td><td>-6.51</td><td>2.44</td><td>2.55</td><td>9.0</td><td>11.62</td><td>vugc5</td><td>3</td><td>55</td><td>63</td><td>spec1d.vugc5.003.GCXL003.fits.gz</td></tr>\n",
       "<tr><td>---</td><td>GCXL</td><td>Y</td><td>VLSB-D</td><td>186.18413</td><td>13.556723</td><td>1056.22</td><td>12.89066</td><td>15.56</td><td>8.47</td><td>1.0</td><td>1056.32</td><td>15.56</td><td>8.47</td><td>-8.9</td><td>4.43</td><td>4.91</td><td>9.0</td><td>2.39</td><td>vugc5</td><td>4</td><td>16</td><td>22</td><td>spec1d.vugc5.004.GCXL004.fits.gz</td></tr>\n",
       "<tr><td>---</td><td>GCXL</td><td>Y</td><td>VLSB-D</td><td>186.18338</td><td>13.483723</td><td>1019.73</td><td>12.122438</td><td>7.14</td><td>5.4</td><td>1.0</td><td>1072.4</td><td>7.14</td><td>5.4</td><td>43.67</td><td>13.04</td><td>7.71</td><td>9.0</td><td>5.08</td><td>vugc5</td><td>6</td><td>72</td><td>82</td><td>spec1d.vugc5.006.GCXL007.fits.gz</td></tr>\n",
       "<tr><td>---</td><td>GCXL</td><td>Y</td><td>VLSB-D</td><td>186.18124</td><td>13.522139</td><td>1016.17</td><td>2.5402215</td><td>2.32</td><td>2.21</td><td>1.0</td><td>1037.49</td><td>2.32</td><td>2.21</td><td>12.32</td><td>1.11</td><td>1.19</td><td>9.0</td><td>21.19</td><td>vugc5</td><td>7</td><td>44</td><td>52</td><td>spec1d.vugc5.007.GCXL009.fits.gz</td></tr>\n",
       "<tr><td>---</td><td>GCXL</td><td>Y</td><td>VLSB-D</td><td>186.15533</td><td>13.511806</td><td>1030.47</td><td>18.865732</td><td>9.73</td><td>7.2</td><td>1.0</td><td>1047.31</td><td>9.73</td><td>7.2</td><td>7.84</td><td>16.95</td><td>16.77</td><td>9.0</td><td>4.41</td><td>vugc5</td><td>10</td><td>66</td><td>78</td><td>spec1d.vugc5.010.GCXL013.fits.gz</td></tr>\n",
       "<tr><td>---</td><td>GCXL</td><td>Y</td><td>VLSB-D</td><td>186.16821</td><td>13.523222</td><td>1028.09</td><td>3.355</td><td>3.79</td><td>2.92</td><td>1.0</td><td>1037.09</td><td>3.79</td><td>2.92</td><td>81.95</td><td>76.19</td><td>81.31</td><td>9.0</td><td>8.13</td><td>vugc5</td><td>11</td><td>5</td><td>13</td><td>spec1d.vugc5.011.GCXL014.fits.gz</td></tr>\n",
       "<tr><td>---</td><td>GCXL</td><td>Y</td><td>VLSB-D</td><td>186.17363</td><td>13.5448885</td><td>1057.31</td><td>8.705144</td><td>8.14</td><td>6.45</td><td>1.0</td><td>1051.42</td><td>8.14</td><td>6.45</td><td>-14.89</td><td>5.03</td><td>4.47</td><td>9.0</td><td>6.42</td><td>vugc5</td><td>13</td><td>32</td><td>40</td><td>spec1d.vugc5.013.GCXL017.fits.gz</td></tr>\n",
       "<tr><td>---</td><td>GCXF</td><td>Y</td><td>VLSB-D</td><td>186.17091</td><td>13.498722</td><td>1028.3</td><td>12.425</td><td>10.98</td><td>13.87</td><td>1.0</td><td>1037.3</td><td>10.98</td><td>13.87</td><td>-9.15</td><td>34.16</td><td>29.25</td><td>9.0</td><td>2.15</td><td>vugc5</td><td>15</td><td>30</td><td>38</td><td>spec1d.vugc5.015.GCXF002.fits.gz</td></tr>\n",
       "<tr><td>---</td><td>GCXF</td><td>Y</td><td>VLSB-D</td><td>186.17587</td><td>13.533361</td><td>1043.16</td><td>13.015199</td><td>8.56</td><td>11.54</td><td>1.0</td><td>1035.59</td><td>8.56</td><td>11.54</td><td>-16.57</td><td>8.82</td><td>7.72</td><td>9.0</td><td>4.38</td><td>vugc5</td><td>19</td><td>22</td><td>30</td><td>spec1d.vugc5.019.GCXF008.fits.gz</td></tr>\n",
       "<tr><td>---</td><td>GCBF</td><td>Y</td><td>VLSB-D</td><td>186.16437</td><td>13.568361</td><td>1043.72</td><td>19.373266</td><td>13.22</td><td>7.47</td><td>1.0</td><td>1047.04</td><td>13.22</td><td>7.47</td><td>-5.68</td><td>13.55</td><td>19.21</td><td>9.0</td><td>3.88</td><td>vugc5</td><td>25</td><td>43</td><td>51</td><td>spec1d.vugc5.025.GCBF006.fits.gz</td></tr>\n",
       "</table>"
      ],
      "text/plain": [
       "<Table length=23>\n",
       "  VCC   TARGTYPE GCSAT    HOST  ...  YLOW YHIGH            SPEC1DNAME           \n",
       "bytes10  bytes7  bytes2 bytes10 ... int16 int16             bytes40             \n",
       "------- -------- ------ ------- ... ----- ----- --------------------------------\n",
       "    ---     GCXL      Y VCC0615 ...    19    27 spec1d.vugc6.001.GCXL001.fits.gz\n",
       "    ---     GCXL      Y VCC0615 ...    14    24 spec1d.vugc6.002.GCXL002.fits.gz\n",
       "    ---     GCXL      Y VCC0615 ...    39    47 spec1d.vugc6.003.GCXL003.fits.gz\n",
       "    ---     GCXL      Y VCC0615 ...    37    45 spec1d.vugc6.004.GCXL004.fits.gz\n",
       "    ---     GCXF      Y VCC0615 ...   103   113 spec1d.vugc6.005.GCXF003.fits.gz\n",
       "    ---     GCXF      Y VCC0615 ...    15    23 spec1d.vugc6.006.GCXF005.fits.gz\n",
       "    ---     GCXF      Y VCC0615 ...    46    54 spec1d.vugc6.007.GCXF006.fits.gz\n",
       "    ---     GCXL      Y  VLSB-B ...    15    27 spec1d.vugc1.004.GCXL003.fits.gz\n",
       "    ---     GCXL      Y  VLSB-B ...    20    30 spec1d.vugc1.006.GCXL007.fits.gz\n",
       "    ---     GCXL      Y  VLSB-B ...    12    22 spec1d.vugc1.010.GCXL012.fits.gz\n",
       "    ...      ...    ...     ... ...   ...   ...                              ...\n",
       "    ---     GCXL      Y  VLSB-D ...    55    63 spec1d.vugc5.003.GCXL003.fits.gz\n",
       "    ---     GCXL      Y  VLSB-D ...    16    22 spec1d.vugc5.004.GCXL004.fits.gz\n",
       "    ---     GCXL      Y  VLSB-D ...    72    82 spec1d.vugc5.006.GCXL007.fits.gz\n",
       "    ---     GCXL      Y  VLSB-D ...    44    52 spec1d.vugc5.007.GCXL009.fits.gz\n",
       "    ---     GCXL      Y  VLSB-D ...    66    78 spec1d.vugc5.010.GCXL013.fits.gz\n",
       "    ---     GCXL      Y  VLSB-D ...     5    13 spec1d.vugc5.011.GCXL014.fits.gz\n",
       "    ---     GCXL      Y  VLSB-D ...    32    40 spec1d.vugc5.013.GCXL017.fits.gz\n",
       "    ---     GCXF      Y  VLSB-D ...    30    38 spec1d.vugc5.015.GCXF002.fits.gz\n",
       "    ---     GCXF      Y  VLSB-D ...    22    30 spec1d.vugc5.019.GCXF008.fits.gz\n",
       "    ---     GCBF      Y  VLSB-D ...    43    51 spec1d.vugc5.025.GCBF006.fits.gz"
      ]
     },
     "execution_count": 8,
     "metadata": {},
     "output_type": "execute_result"
    }
   ],
   "source": [
    "# Only keep 'HOST' values that are 'VLSB-B','VLSB-D', or 'VCC0615'\n",
    "a1 = true2[true2['HOST'] == 'VLSB-B']\n",
    "a2 = true2[true2['HOST'] == 'VLSB-D']\n",
    "a3 = true2[true2['HOST'] == 'VCC0615']\n",
    "# Stack these tables\n",
    "a4 = np.hstack((a1, a2))\n",
    "a5 = np.hstack((a3, a4))\n",
    "VUGC = Table(a5)\n",
    "VUGC"
   ]
  },
  {
   "cell_type": "code",
   "execution_count": 9,
   "metadata": {},
   "outputs": [
    {
     "data": {
      "text/html": [
       "<i>Table length=2</i>\n",
       "<table id=\"table4814094800\" class=\"table-striped table-bordered table-condensed\">\n",
       "<thead><tr><th>VCC</th><th>TARGTYPE</th><th>GCSAT</th><th>HOST</th><th>RA</th><th>DEC</th><th>VHEL</th><th>VERR</th><th>VERR_pe</th><th>VERR_ne</th><th>ZCONF</th><th>VOBS</th><th>VOBS_pe</th><th>VOBS_ne</th><th>ABANDCOR</th><th>ABANDCOR_pe</th><th>ABANDCOR_ne</th><th>HELCOR</th><th>SN</th><th>MASKNAME</th><th>SLITNUM</th><th>YLOW</th><th>YHIGH</th><th>SPEC1DNAME</th></tr></thead>\n",
       "<thead><tr><th>bytes10</th><th>bytes7</th><th>bytes2</th><th>bytes10</th><th>float32</th><th>float32</th><th>float32</th><th>float32</th><th>float32</th><th>float32</th><th>float32</th><th>float32</th><th>float32</th><th>float32</th><th>float32</th><th>float32</th><th>float32</th><th>float32</th><th>float32</th><th>bytes20</th><th>int16</th><th>int16</th><th>int16</th><th>bytes40</th></tr></thead>\n",
       "<tr><td>---</td><td>GCXL</td><td>Y</td><td>VCC1148</td><td>187.23409</td><td>12.664805</td><td>1375.66</td><td>7.476045</td><td>3.42</td><td>6.91</td><td>1.0</td><td>1335.91</td><td>3.42</td><td>6.91</td><td>-49.35</td><td>4.7</td><td>6.11</td><td>9.6</td><td>4.68</td><td>vugc1</td><td>13</td><td>214</td><td>224</td><td>spec1d.vugc1.013.GCXL016.fits.gz</td></tr>\n",
       "<tr><td>---</td><td>GCBL</td><td>Y</td><td>VCC1153</td><td>187.26996</td><td>12.665</td><td>113.24</td><td>3.2922218</td><td>2.8</td><td>3.15</td><td>1.0</td><td>96.86</td><td>2.8</td><td>3.15</td><td>-25.98</td><td>1.66</td><td>1.16</td><td>9.6</td><td>17.0</td><td>vugc1</td><td>28</td><td>40</td><td>50</td><td>spec1d.vugc1.028.GCBL005.fits.gz</td></tr>\n",
       "</table>"
      ],
      "text/plain": [
       "<Table length=2>\n",
       "  VCC   TARGTYPE GCSAT    HOST  ...  YLOW YHIGH            SPEC1DNAME           \n",
       "bytes10  bytes7  bytes2 bytes10 ... int16 int16             bytes40             \n",
       "------- -------- ------ ------- ... ----- ----- --------------------------------\n",
       "    ---     GCXL      Y VCC1148 ...   214   224 spec1d.vugc1.013.GCXL016.fits.gz\n",
       "    ---     GCBL      Y VCC1153 ...    40    50 spec1d.vugc1.028.GCBL005.fits.gz"
      ]
     },
     "execution_count": 9,
     "metadata": {},
     "output_type": "execute_result"
    }
   ],
   "source": [
    "b1 = true2[true2['HOST'] != 'VLSB-B']\n",
    "b2 = b1[b1['HOST'] != 'VLSB-D']\n",
    "b3 = b2[b2['HOST'] != 'VCC0615']\n",
    "Table(b3)"
   ]
  },
  {
   "cell_type": "code",
   "execution_count": 10,
   "metadata": {},
   "outputs": [],
   "source": [
    "# Stack the removed values from the VUGC table to the VDGC table\n",
    "VDGC = vstack([true1, b3])"
   ]
  },
  {
   "cell_type": "code",
   "execution_count": 11,
   "metadata": {
    "scrolled": true
   },
   "outputs": [
    {
     "data": {
      "text/html": [
       "<i>Table masked=True length=88</i>\n",
       "<table id=\"table4814611176\" class=\"table-striped table-bordered table-condensed\">\n",
       "<thead><tr><th>VCC</th><th>TARGTYPE</th><th>GCSAT</th><th>HOST</th><th>RA</th><th>DEC</th><th>VHEL</th><th>VERR</th><th>VERR_pe</th><th>VERR_ne</th><th>ZCONF</th><th>VOBS</th><th>VOBS_pe</th><th>VOBS_ne</th><th>ABANDCOR</th><th>ABANDCOR_pe</th><th>ABANDCOR_ne</th><th>HELCOR</th><th>SN</th><th>KECKID</th><th>MASKNAME</th><th>SLITNUM</th><th>ZSPECNUM</th><th>ZQUAL</th><th>YLOW</th><th>YHIGH</th><th>SPEC1DNAME</th></tr></thead>\n",
       "<thead><tr><th>bytes10</th><th>bytes7</th><th>bytes2</th><th>bytes10</th><th>float32</th><th>float32</th><th>float32</th><th>float32</th><th>float32</th><th>float32</th><th>float32</th><th>float32</th><th>float32</th><th>float32</th><th>float32</th><th>float32</th><th>float32</th><th>float32</th><th>float32</th><th>bytes20</th><th>bytes20</th><th>int16</th><th>int16</th><th>int16</th><th>int16</th><th>int16</th><th>bytes40</th></tr></thead>\n",
       "<tr><td>---</td><td>GCA</td><td>Y</td><td>VCC1075</td><td>187.05533</td><td>10.299723</td><td>1795.8826</td><td>6.6943264</td><td>7.1255054</td><td>5.546625</td><td>1.0</td><td>1810.4825</td><td>7.014853</td><td>5.403738</td><td>78.81452</td><td>25.247467</td><td>23.015923</td><td>14.6</td><td>3.34</td><td>gcA10</td><td>vdgc1</td><td>11</td><td>12</td><td>3</td><td>25</td><td>31</td><td>spec1d.vdgc1.011.gcA10.fits.gz</td></tr>\n",
       "<tr><td>---</td><td>GCA</td><td>Y</td><td>VCC1075</td><td>187.04483</td><td>10.286805</td><td>1843.0951</td><td>10.339908</td><td>9.879919</td><td>10.394689</td><td>1.0</td><td>1855.5137</td><td>6.974825</td><td>6.2042923</td><td>-2.181509</td><td>6.884763</td><td>8.245705</td><td>14.6</td><td>5.36</td><td>gcA17</td><td>vdgc1</td><td>12</td><td>13</td><td>4</td><td>17</td><td>23</td><td>spec1d.vdgc1.012.gcA17.fits.gz</td></tr>\n",
       "<tr><td>---</td><td>GCA</td><td>Y</td><td>VCC1075</td><td>187.03674</td><td>10.289222</td><td>1802.7073</td><td>6.052629</td><td>4.5716085</td><td>6.9834056</td><td>1.0</td><td>1821.8304</td><td>3.3122916</td><td>6.584555</td><td>4.5231295</td><td>2.8920007</td><td>1.9613569</td><td>14.6</td><td>7.06</td><td>gcA19</td><td>vdgc1</td><td>14</td><td>15</td><td>4</td><td>39</td><td>46</td><td>spec1d.vdgc1.014.gcA19.fits.gz</td></tr>\n",
       "<tr><td>---</td><td>GCA</td><td>Y</td><td>VCC1075</td><td>187.04433</td><td>10.315306</td><td>1861.2278</td><td>2.5437276</td><td>1.4287839</td><td>1.2718638</td><td>1.0</td><td>1875.8278</td><td>0.69047767</td><td>0.23015922</td><td>370.1761</td><td>67.03638</td><td>59.210964</td><td>14.6</td><td>2.93</td><td>gcA20</td><td>vdgc1</td><td>15</td><td>16</td><td>1</td><td>32</td><td>36</td><td>spec1d.vdgc1.015.gcA20.fits.gz</td></tr>\n",
       "<tr><td>---</td><td>GCN</td><td>Y</td><td>VCC1079</td><td>187.0423</td><td>10.3538885</td><td>1323.2156</td><td>12.560184</td><td>13.214163</td><td>11.683929</td><td>1.0</td><td>1333.0521</td><td>12.498647</td><td>9.956888</td><td>-4.763295</td><td>4.1028385</td><td>5.98414</td><td>14.6</td><td>6.54</td><td>gcN120</td><td>vdgc1</td><td>26</td><td>31</td><td>1</td><td>122</td><td>128</td><td>spec1d.vdgc1.026.gcN120.fits.gz</td></tr>\n",
       "<tr><td>---</td><td>GCN</td><td>Y</td><td>VCC1079</td><td>187.05162</td><td>10.367778</td><td>1338.6162</td><td>13.627155</td><td>13.83195</td><td>13.110909</td><td>1.0</td><td>1369.9778</td><td>9.316445</td><td>7.795393</td><td>16.761597</td><td>10.147019</td><td>10.467241</td><td>14.6</td><td>6.97</td><td>gcN138</td><td>vdgc1</td><td>27</td><td>32</td><td>4</td><td>32</td><td>38</td><td>spec1d.vdgc1.027.gcN138.fits.gz</td></tr>\n",
       "<tr><td>---</td><td>GCN</td><td>Y</td><td>VCC1079</td><td>187.05696</td><td>10.373972</td><td>1313.909</td><td>11.331903</td><td>11.525938</td><td>10.722818</td><td>1.0</td><td>1330.3203</td><td>7.775379</td><td>7.475171</td><td>1.8112531</td><td>8.415822</td><td>7.5852475</td><td>14.6</td><td>4.94</td><td>gcN145</td><td>vdgc1</td><td>29</td><td>34</td><td>4</td><td>20</td><td>26</td><td>spec1d.vdgc1.029.gcN145.fits.gz</td></tr>\n",
       "<tr><td>---</td><td>GCN</td><td>Y</td><td>VCC1079</td><td>187.05429</td><td>10.377334</td><td>1358.58</td><td>6.8130116</td><td>8.182219</td><td>4.8669662</td><td>1.0</td><td>1376.2621</td><td>7.945497</td><td>4.2029076</td><td>3.082132</td><td>1.5010384</td><td>2.1114607</td><td>14.6</td><td>7.02</td><td>gcN147</td><td>vdgc1</td><td>30</td><td>35</td><td>4</td><td>30</td><td>36</td><td>spec1d.vdgc1.030.gcN147.fits.gz</td></tr>\n",
       "<tr><td>---</td><td>GCN</td><td>Y</td><td>VCC1076</td><td>187.0515</td><td>10.524445</td><td>1650.4119</td><td>11.4403515</td><td>11.538051</td><td>10.929236</td><td>1.0</td><td>1669.485</td><td>10.947573</td><td>10.317138</td><td>4.4730945</td><td>3.4223676</td><td>3.38234</td><td>14.6</td><td>6.99</td><td>gcN206</td><td>vdgc1</td><td>37</td><td>44</td><td>4</td><td>114</td><td>120</td><td>spec1d.vdgc1.037.gcN206.fits.gz</td></tr>\n",
       "<tr><td>---</td><td>GCN</td><td>Y</td><td>VCC1076</td><td>187.05412</td><td>10.529555</td><td>1674.2283</td><td>19.803534</td><td>20.388123</td><td>19.004791</td><td>1.0</td><td>1670.9459</td><td>15.350619</td><td>13.409277</td><td>-17.882372</td><td>13.359242</td><td>13.409277</td><td>14.6</td><td>2.89</td><td>gcN210</td><td>vdgc1</td><td>38</td><td>46</td><td>4</td><td>49</td><td>55</td><td>spec1d.vdgc1.038.gcN210.fits.gz</td></tr>\n",
       "<tr><td>...</td><td>...</td><td>...</td><td>...</td><td>...</td><td>...</td><td>...</td><td>...</td><td>...</td><td>...</td><td>...</td><td>...</td><td>...</td><td>...</td><td>...</td><td>...</td><td>...</td><td>...</td><td>...</td><td>...</td><td>...</td><td>...</td><td>...</td><td>...</td><td>...</td><td>...</td><td>...</td></tr>\n",
       "<tr><td>---</td><td>GCA</td><td>Y</td><td>VCC1861</td><td>190.25195</td><td>11.173472</td><td>615.5947</td><td>3.8127065</td><td>3.2104135</td><td>3.1058562</td><td>1.0</td><td>633.118</td><td>2.701869</td><td>2.2315438</td><td>4.7232676</td><td>1.2008307</td><td>1.7612184</td><td>12.8</td><td>16.56</td><td>gcA29</td><td>vdgc9B</td><td>15</td><td>19</td><td>4</td><td>27</td><td>33</td><td>spec1d.vdgc9B.015.gcA29.fits.gz</td></tr>\n",
       "<tr><td>---</td><td>GCA</td><td>Y</td><td>VCC1861</td><td>190.2625</td><td>11.179139</td><td>661.5665</td><td>3.750424</td><td>2.766584</td><td>3.3672216</td><td>1.0</td><td>672.6754</td><td>1.4009693</td><td>2.0013845</td><td>-1.69117</td><td>2.0314054</td><td>2.4016614</td><td>12.8</td><td>13.93</td><td>gcA30</td><td>vdgc9B</td><td>16</td><td>20</td><td>4</td><td>17</td><td>23</td><td>spec1d.vdgc9B.016.gcA30.fits.gz</td></tr>\n",
       "<tr><td>---</td><td>GCA</td><td>Y</td><td>VCC1861</td><td>190.2155</td><td>11.178945</td><td>677.8978</td><td>17.502102</td><td>24.033033</td><td>10.94654</td><td>1.0</td><td>698.67334</td><td>23.436214</td><td>9.7167225</td><td>7.9755173</td><td>5.173579</td><td>4.883378</td><td>12.8</td><td>3.35</td><td>gcA31</td><td>vdgc9B</td><td>17</td><td>21</td><td>3</td><td>13</td><td>19</td><td>spec1d.vdgc9B.017.gcA31.fits.gz</td></tr>\n",
       "<tr><td>---</td><td>GCN</td><td>Y</td><td>VCC1879</td><td>190.36766</td><td>11.152972</td><td>1671.4052</td><td>16.04148</td><td>17.77965</td><td>14.022658</td><td>1.0</td><td>1669.0345</td><td>8.015545</td><td>5.613884</td><td>-15.170495</td><td>15.820945</td><td>12.788847</td><td>12.8</td><td>4.99</td><td>gcN121</td><td>vdgc9B</td><td>21</td><td>25</td><td>4</td><td>20</td><td>26</td><td>spec1d.vdgc9B.021.gcN121.fits.gz</td></tr>\n",
       "<tr><td>---</td><td>GCA</td><td>Y</td><td>VCC1861</td><td>190.24379</td><td>11.186055</td><td>684.63245</td><td>13.367658</td><td>10.459628</td><td>15.935101</td><td>1.0</td><td>660.64703</td><td>3.742589</td><td>6.4444585</td><td>-36.78545</td><td>9.686702</td><td>14.520045</td><td>12.8</td><td>3.14</td><td>gcA16</td><td>vdgc9B</td><td>62</td><td>72</td><td>4</td><td>11</td><td>17</td><td>spec1d.vdgc9B.062.gcA16.fits.gz</td></tr>\n",
       "<tr><td>---</td><td>GCA</td><td>Y</td><td>VCC1861</td><td>190.24463</td><td>11.185111</td><td>618.4967</td><td>7.9372373</td><td>7.5692964</td><td>7.7121763</td><td>1.0</td><td>632.1173</td><td>5.303669</td><td>5.0034614</td><td>0.82056767</td><td>5.2536345</td><td>5.733967</td><td>12.8</td><td>4.49</td><td>gcA18</td><td>vdgc9B</td><td>63</td><td>73</td><td>4</td><td>7</td><td>14</td><td>spec1d.vdgc9B.063.gcA18.fits.gz</td></tr>\n",
       "<tr><td>---</td><td>GCA</td><td>Y</td><td>VCC1861</td><td>190.24054</td><td>11.177139</td><td>635.0082</td><td>8.3121605</td><td>7.5543585</td><td>8.936076</td><td>1.0</td><td>654.44275</td><td>3.632513</td><td>7.3450813</td><td>6.6345897</td><td>6.5045</td><td>4.933413</td><td>12.8</td><td>4.75</td><td>gcA21</td><td>vdgc9B</td><td>64</td><td>74</td><td>4</td><td>38</td><td>44</td><td>spec1d.vdgc9B.064.gcA21.fits.gz</td></tr>\n",
       "<tr><td>---</td><td>GCA</td><td>Y</td><td>VCC1861</td><td>190.25113</td><td>11.18025</td><td>632.63654</td><td>15.679686</td><td>13.340384</td><td>17.73733</td><td>1.0</td><td>635.6398</td><td>10.167033</td><td>12.74882</td><td>-9.796777</td><td>8.545913</td><td>12.268487</td><td>12.8</td><td>5.32</td><td>gcA27</td><td>vdgc9B</td><td>65</td><td>75</td><td>4</td><td>12</td><td>18</td><td>spec1d.vdgc9B.065.gcA27.fits.gz</td></tr>\n",
       "<tr><td>---</td><td>GCXL</td><td>Y</td><td>VCC1148</td><td>187.23409</td><td>12.664805</td><td>1375.66</td><td>7.476045</td><td>3.42</td><td>6.91</td><td>1.0</td><td>1335.91</td><td>3.42</td><td>6.91</td><td>-49.35</td><td>4.7</td><td>6.11</td><td>9.6</td><td>4.68</td><td>--</td><td>vugc1</td><td>13</td><td>--</td><td>--</td><td>214</td><td>224</td><td>spec1d.vugc1.013.GCXL016.fits.gz</td></tr>\n",
       "<tr><td>---</td><td>GCBL</td><td>Y</td><td>VCC1153</td><td>187.26996</td><td>12.665</td><td>113.24</td><td>3.2922218</td><td>2.8</td><td>3.15</td><td>1.0</td><td>96.86</td><td>2.8</td><td>3.15</td><td>-25.98</td><td>1.66</td><td>1.16</td><td>9.6</td><td>17.0</td><td>--</td><td>vugc1</td><td>28</td><td>--</td><td>--</td><td>40</td><td>50</td><td>spec1d.vugc1.028.GCBL005.fits.gz</td></tr>\n",
       "</table>"
      ],
      "text/plain": [
       "<Table masked=True length=88>\n",
       "  VCC   TARGTYPE GCSAT    HOST  ...  YLOW YHIGH            SPEC1DNAME           \n",
       "bytes10  bytes7  bytes2 bytes10 ... int16 int16             bytes40             \n",
       "------- -------- ------ ------- ... ----- ----- --------------------------------\n",
       "    ---      GCA      Y VCC1075 ...    25    31   spec1d.vdgc1.011.gcA10.fits.gz\n",
       "    ---      GCA      Y VCC1075 ...    17    23   spec1d.vdgc1.012.gcA17.fits.gz\n",
       "    ---      GCA      Y VCC1075 ...    39    46   spec1d.vdgc1.014.gcA19.fits.gz\n",
       "    ---      GCA      Y VCC1075 ...    32    36   spec1d.vdgc1.015.gcA20.fits.gz\n",
       "    ---      GCN      Y VCC1079 ...   122   128  spec1d.vdgc1.026.gcN120.fits.gz\n",
       "    ---      GCN      Y VCC1079 ...    32    38  spec1d.vdgc1.027.gcN138.fits.gz\n",
       "    ---      GCN      Y VCC1079 ...    20    26  spec1d.vdgc1.029.gcN145.fits.gz\n",
       "    ---      GCN      Y VCC1079 ...    30    36  spec1d.vdgc1.030.gcN147.fits.gz\n",
       "    ---      GCN      Y VCC1076 ...   114   120  spec1d.vdgc1.037.gcN206.fits.gz\n",
       "    ---      GCN      Y VCC1076 ...    49    55  spec1d.vdgc1.038.gcN210.fits.gz\n",
       "    ...      ...    ...     ... ...   ...   ...                              ...\n",
       "    ---      GCA      Y VCC1861 ...    27    33  spec1d.vdgc9B.015.gcA29.fits.gz\n",
       "    ---      GCA      Y VCC1861 ...    17    23  spec1d.vdgc9B.016.gcA30.fits.gz\n",
       "    ---      GCA      Y VCC1861 ...    13    19  spec1d.vdgc9B.017.gcA31.fits.gz\n",
       "    ---      GCN      Y VCC1879 ...    20    26 spec1d.vdgc9B.021.gcN121.fits.gz\n",
       "    ---      GCA      Y VCC1861 ...    11    17  spec1d.vdgc9B.062.gcA16.fits.gz\n",
       "    ---      GCA      Y VCC1861 ...     7    14  spec1d.vdgc9B.063.gcA18.fits.gz\n",
       "    ---      GCA      Y VCC1861 ...    38    44  spec1d.vdgc9B.064.gcA21.fits.gz\n",
       "    ---      GCA      Y VCC1861 ...    12    18  spec1d.vdgc9B.065.gcA27.fits.gz\n",
       "    ---     GCXL      Y VCC1148 ...   214   224 spec1d.vugc1.013.GCXL016.fits.gz\n",
       "    ---     GCBL      Y VCC1153 ...    40    50 spec1d.vugc1.028.GCBL005.fits.gz"
      ]
     },
     "execution_count": 11,
     "metadata": {},
     "output_type": "execute_result"
    }
   ],
   "source": [
    "VDGC"
   ]
  },
  {
   "cell_type": "code",
   "execution_count": 12,
   "metadata": {
    "scrolled": true
   },
   "outputs": [],
   "source": [
    "# If the velocities are in between 300 and -300, remove them\n",
    "#VDGC1 = VDGC[np.abs(VDGC['VHEL']) > 300]\n",
    "#VDGC1\n",
    "probability = []\n",
    "for i in range (0, len(VDGC)):\n",
    "    probability.append(1)\n",
    "\n",
    "ProbColumnDE = Column(probability, name='Probability')\n",
    "VDGC.add_column(ProbColumnDE)\n",
    "\n",
    "names = []\n",
    "for i in range (0, len(VDGC)):\n",
    "    names.append('DEGC')\n",
    "\n",
    "TypeColumnDE = Column(names, name = 'Type')\n",
    "VDGC.add_column(TypeColumnDE)"
   ]
  },
  {
   "cell_type": "code",
   "execution_count": 13,
   "metadata": {},
   "outputs": [],
   "source": [
    "# If the velocities are in between 300 and -300, remove them\n",
    "#VUGC1 = VUGC[np.abs(VUGC['VHEL']) > 300]\n",
    "#VUGC1\n",
    "probability = []\n",
    "for i in range (0, len(VUGC)):\n",
    "    probability.append(1)\n",
    "\n",
    "ProbColumnDE = Column(probability, name='Probability')\n",
    "VUGC.add_column(ProbColumnDE)\n",
    "\n",
    "names = []\n",
    "for i in range (0, len(VUGC)):\n",
    "    names.append('UDG')\n",
    "\n",
    "TypeColumnDE = Column(names, name = 'Type')\n",
    "VUGC.add_column(TypeColumnDE)"
   ]
  },
  {
   "cell_type": "code",
   "execution_count": 14,
   "metadata": {},
   "outputs": [
    {
     "data": {
      "text/html": [
       "<i>Table masked=True length=88</i>\n",
       "<table id=\"table4814611176\" class=\"table-striped table-bordered table-condensed\">\n",
       "<thead><tr><th>VCC</th><th>TARGTYPE</th><th>GCSAT</th><th>HOST</th><th>RA</th><th>DEC</th><th>VHEL</th><th>VERR</th><th>VERR_pe</th><th>VERR_ne</th><th>ZCONF</th><th>VOBS</th><th>VOBS_pe</th><th>VOBS_ne</th><th>ABANDCOR</th><th>ABANDCOR_pe</th><th>ABANDCOR_ne</th><th>HELCOR</th><th>SN</th><th>KECKID</th><th>MASKNAME</th><th>SLITNUM</th><th>ZSPECNUM</th><th>ZQUAL</th><th>YLOW</th><th>YHIGH</th><th>SPEC1DNAME</th><th>Probability</th><th>Type</th></tr></thead>\n",
       "<thead><tr><th>bytes10</th><th>bytes7</th><th>bytes2</th><th>bytes10</th><th>float32</th><th>float32</th><th>float32</th><th>float32</th><th>float32</th><th>float32</th><th>float32</th><th>float32</th><th>float32</th><th>float32</th><th>float32</th><th>float32</th><th>float32</th><th>float32</th><th>float32</th><th>bytes20</th><th>bytes20</th><th>int16</th><th>int16</th><th>int16</th><th>int16</th><th>int16</th><th>bytes40</th><th>int64</th><th>str4</th></tr></thead>\n",
       "<tr><td>---</td><td>GCA</td><td>Y</td><td>VCC1075</td><td>187.05533</td><td>10.299723</td><td>1795.8826</td><td>6.6943264</td><td>7.1255054</td><td>5.546625</td><td>1.0</td><td>1810.4825</td><td>7.014853</td><td>5.403738</td><td>78.81452</td><td>25.247467</td><td>23.015923</td><td>14.6</td><td>3.34</td><td>gcA10</td><td>vdgc1</td><td>11</td><td>12</td><td>3</td><td>25</td><td>31</td><td>spec1d.vdgc1.011.gcA10.fits.gz</td><td>1</td><td>DEGC</td></tr>\n",
       "<tr><td>---</td><td>GCA</td><td>Y</td><td>VCC1075</td><td>187.04483</td><td>10.286805</td><td>1843.0951</td><td>10.339908</td><td>9.879919</td><td>10.394689</td><td>1.0</td><td>1855.5137</td><td>6.974825</td><td>6.2042923</td><td>-2.181509</td><td>6.884763</td><td>8.245705</td><td>14.6</td><td>5.36</td><td>gcA17</td><td>vdgc1</td><td>12</td><td>13</td><td>4</td><td>17</td><td>23</td><td>spec1d.vdgc1.012.gcA17.fits.gz</td><td>1</td><td>DEGC</td></tr>\n",
       "<tr><td>---</td><td>GCA</td><td>Y</td><td>VCC1075</td><td>187.03674</td><td>10.289222</td><td>1802.7073</td><td>6.052629</td><td>4.5716085</td><td>6.9834056</td><td>1.0</td><td>1821.8304</td><td>3.3122916</td><td>6.584555</td><td>4.5231295</td><td>2.8920007</td><td>1.9613569</td><td>14.6</td><td>7.06</td><td>gcA19</td><td>vdgc1</td><td>14</td><td>15</td><td>4</td><td>39</td><td>46</td><td>spec1d.vdgc1.014.gcA19.fits.gz</td><td>1</td><td>DEGC</td></tr>\n",
       "<tr><td>---</td><td>GCA</td><td>Y</td><td>VCC1075</td><td>187.04433</td><td>10.315306</td><td>1861.2278</td><td>2.5437276</td><td>1.4287839</td><td>1.2718638</td><td>1.0</td><td>1875.8278</td><td>0.69047767</td><td>0.23015922</td><td>370.1761</td><td>67.03638</td><td>59.210964</td><td>14.6</td><td>2.93</td><td>gcA20</td><td>vdgc1</td><td>15</td><td>16</td><td>1</td><td>32</td><td>36</td><td>spec1d.vdgc1.015.gcA20.fits.gz</td><td>1</td><td>DEGC</td></tr>\n",
       "<tr><td>---</td><td>GCN</td><td>Y</td><td>VCC1079</td><td>187.0423</td><td>10.3538885</td><td>1323.2156</td><td>12.560184</td><td>13.214163</td><td>11.683929</td><td>1.0</td><td>1333.0521</td><td>12.498647</td><td>9.956888</td><td>-4.763295</td><td>4.1028385</td><td>5.98414</td><td>14.6</td><td>6.54</td><td>gcN120</td><td>vdgc1</td><td>26</td><td>31</td><td>1</td><td>122</td><td>128</td><td>spec1d.vdgc1.026.gcN120.fits.gz</td><td>1</td><td>DEGC</td></tr>\n",
       "<tr><td>---</td><td>GCN</td><td>Y</td><td>VCC1079</td><td>187.05162</td><td>10.367778</td><td>1338.6162</td><td>13.627155</td><td>13.83195</td><td>13.110909</td><td>1.0</td><td>1369.9778</td><td>9.316445</td><td>7.795393</td><td>16.761597</td><td>10.147019</td><td>10.467241</td><td>14.6</td><td>6.97</td><td>gcN138</td><td>vdgc1</td><td>27</td><td>32</td><td>4</td><td>32</td><td>38</td><td>spec1d.vdgc1.027.gcN138.fits.gz</td><td>1</td><td>DEGC</td></tr>\n",
       "<tr><td>---</td><td>GCN</td><td>Y</td><td>VCC1079</td><td>187.05696</td><td>10.373972</td><td>1313.909</td><td>11.331903</td><td>11.525938</td><td>10.722818</td><td>1.0</td><td>1330.3203</td><td>7.775379</td><td>7.475171</td><td>1.8112531</td><td>8.415822</td><td>7.5852475</td><td>14.6</td><td>4.94</td><td>gcN145</td><td>vdgc1</td><td>29</td><td>34</td><td>4</td><td>20</td><td>26</td><td>spec1d.vdgc1.029.gcN145.fits.gz</td><td>1</td><td>DEGC</td></tr>\n",
       "<tr><td>---</td><td>GCN</td><td>Y</td><td>VCC1079</td><td>187.05429</td><td>10.377334</td><td>1358.58</td><td>6.8130116</td><td>8.182219</td><td>4.8669662</td><td>1.0</td><td>1376.2621</td><td>7.945497</td><td>4.2029076</td><td>3.082132</td><td>1.5010384</td><td>2.1114607</td><td>14.6</td><td>7.02</td><td>gcN147</td><td>vdgc1</td><td>30</td><td>35</td><td>4</td><td>30</td><td>36</td><td>spec1d.vdgc1.030.gcN147.fits.gz</td><td>1</td><td>DEGC</td></tr>\n",
       "<tr><td>---</td><td>GCN</td><td>Y</td><td>VCC1076</td><td>187.0515</td><td>10.524445</td><td>1650.4119</td><td>11.4403515</td><td>11.538051</td><td>10.929236</td><td>1.0</td><td>1669.485</td><td>10.947573</td><td>10.317138</td><td>4.4730945</td><td>3.4223676</td><td>3.38234</td><td>14.6</td><td>6.99</td><td>gcN206</td><td>vdgc1</td><td>37</td><td>44</td><td>4</td><td>114</td><td>120</td><td>spec1d.vdgc1.037.gcN206.fits.gz</td><td>1</td><td>DEGC</td></tr>\n",
       "<tr><td>---</td><td>GCN</td><td>Y</td><td>VCC1076</td><td>187.05412</td><td>10.529555</td><td>1674.2283</td><td>19.803534</td><td>20.388123</td><td>19.004791</td><td>1.0</td><td>1670.9459</td><td>15.350619</td><td>13.409277</td><td>-17.882372</td><td>13.359242</td><td>13.409277</td><td>14.6</td><td>2.89</td><td>gcN210</td><td>vdgc1</td><td>38</td><td>46</td><td>4</td><td>49</td><td>55</td><td>spec1d.vdgc1.038.gcN210.fits.gz</td><td>1</td><td>DEGC</td></tr>\n",
       "<tr><td>...</td><td>...</td><td>...</td><td>...</td><td>...</td><td>...</td><td>...</td><td>...</td><td>...</td><td>...</td><td>...</td><td>...</td><td>...</td><td>...</td><td>...</td><td>...</td><td>...</td><td>...</td><td>...</td><td>...</td><td>...</td><td>...</td><td>...</td><td>...</td><td>...</td><td>...</td><td>...</td><td>...</td><td>...</td></tr>\n",
       "<tr><td>---</td><td>GCA</td><td>Y</td><td>VCC1861</td><td>190.25195</td><td>11.173472</td><td>615.5947</td><td>3.8127065</td><td>3.2104135</td><td>3.1058562</td><td>1.0</td><td>633.118</td><td>2.701869</td><td>2.2315438</td><td>4.7232676</td><td>1.2008307</td><td>1.7612184</td><td>12.8</td><td>16.56</td><td>gcA29</td><td>vdgc9B</td><td>15</td><td>19</td><td>4</td><td>27</td><td>33</td><td>spec1d.vdgc9B.015.gcA29.fits.gz</td><td>1</td><td>DEGC</td></tr>\n",
       "<tr><td>---</td><td>GCA</td><td>Y</td><td>VCC1861</td><td>190.2625</td><td>11.179139</td><td>661.5665</td><td>3.750424</td><td>2.766584</td><td>3.3672216</td><td>1.0</td><td>672.6754</td><td>1.4009693</td><td>2.0013845</td><td>-1.69117</td><td>2.0314054</td><td>2.4016614</td><td>12.8</td><td>13.93</td><td>gcA30</td><td>vdgc9B</td><td>16</td><td>20</td><td>4</td><td>17</td><td>23</td><td>spec1d.vdgc9B.016.gcA30.fits.gz</td><td>1</td><td>DEGC</td></tr>\n",
       "<tr><td>---</td><td>GCA</td><td>Y</td><td>VCC1861</td><td>190.2155</td><td>11.178945</td><td>677.8978</td><td>17.502102</td><td>24.033033</td><td>10.94654</td><td>1.0</td><td>698.67334</td><td>23.436214</td><td>9.7167225</td><td>7.9755173</td><td>5.173579</td><td>4.883378</td><td>12.8</td><td>3.35</td><td>gcA31</td><td>vdgc9B</td><td>17</td><td>21</td><td>3</td><td>13</td><td>19</td><td>spec1d.vdgc9B.017.gcA31.fits.gz</td><td>1</td><td>DEGC</td></tr>\n",
       "<tr><td>---</td><td>GCN</td><td>Y</td><td>VCC1879</td><td>190.36766</td><td>11.152972</td><td>1671.4052</td><td>16.04148</td><td>17.77965</td><td>14.022658</td><td>1.0</td><td>1669.0345</td><td>8.015545</td><td>5.613884</td><td>-15.170495</td><td>15.820945</td><td>12.788847</td><td>12.8</td><td>4.99</td><td>gcN121</td><td>vdgc9B</td><td>21</td><td>25</td><td>4</td><td>20</td><td>26</td><td>spec1d.vdgc9B.021.gcN121.fits.gz</td><td>1</td><td>DEGC</td></tr>\n",
       "<tr><td>---</td><td>GCA</td><td>Y</td><td>VCC1861</td><td>190.24379</td><td>11.186055</td><td>684.63245</td><td>13.367658</td><td>10.459628</td><td>15.935101</td><td>1.0</td><td>660.64703</td><td>3.742589</td><td>6.4444585</td><td>-36.78545</td><td>9.686702</td><td>14.520045</td><td>12.8</td><td>3.14</td><td>gcA16</td><td>vdgc9B</td><td>62</td><td>72</td><td>4</td><td>11</td><td>17</td><td>spec1d.vdgc9B.062.gcA16.fits.gz</td><td>1</td><td>DEGC</td></tr>\n",
       "<tr><td>---</td><td>GCA</td><td>Y</td><td>VCC1861</td><td>190.24463</td><td>11.185111</td><td>618.4967</td><td>7.9372373</td><td>7.5692964</td><td>7.7121763</td><td>1.0</td><td>632.1173</td><td>5.303669</td><td>5.0034614</td><td>0.82056767</td><td>5.2536345</td><td>5.733967</td><td>12.8</td><td>4.49</td><td>gcA18</td><td>vdgc9B</td><td>63</td><td>73</td><td>4</td><td>7</td><td>14</td><td>spec1d.vdgc9B.063.gcA18.fits.gz</td><td>1</td><td>DEGC</td></tr>\n",
       "<tr><td>---</td><td>GCA</td><td>Y</td><td>VCC1861</td><td>190.24054</td><td>11.177139</td><td>635.0082</td><td>8.3121605</td><td>7.5543585</td><td>8.936076</td><td>1.0</td><td>654.44275</td><td>3.632513</td><td>7.3450813</td><td>6.6345897</td><td>6.5045</td><td>4.933413</td><td>12.8</td><td>4.75</td><td>gcA21</td><td>vdgc9B</td><td>64</td><td>74</td><td>4</td><td>38</td><td>44</td><td>spec1d.vdgc9B.064.gcA21.fits.gz</td><td>1</td><td>DEGC</td></tr>\n",
       "<tr><td>---</td><td>GCA</td><td>Y</td><td>VCC1861</td><td>190.25113</td><td>11.18025</td><td>632.63654</td><td>15.679686</td><td>13.340384</td><td>17.73733</td><td>1.0</td><td>635.6398</td><td>10.167033</td><td>12.74882</td><td>-9.796777</td><td>8.545913</td><td>12.268487</td><td>12.8</td><td>5.32</td><td>gcA27</td><td>vdgc9B</td><td>65</td><td>75</td><td>4</td><td>12</td><td>18</td><td>spec1d.vdgc9B.065.gcA27.fits.gz</td><td>1</td><td>DEGC</td></tr>\n",
       "<tr><td>---</td><td>GCXL</td><td>Y</td><td>VCC1148</td><td>187.23409</td><td>12.664805</td><td>1375.66</td><td>7.476045</td><td>3.42</td><td>6.91</td><td>1.0</td><td>1335.91</td><td>3.42</td><td>6.91</td><td>-49.35</td><td>4.7</td><td>6.11</td><td>9.6</td><td>4.68</td><td>--</td><td>vugc1</td><td>13</td><td>--</td><td>--</td><td>214</td><td>224</td><td>spec1d.vugc1.013.GCXL016.fits.gz</td><td>1</td><td>DEGC</td></tr>\n",
       "<tr><td>---</td><td>GCBL</td><td>Y</td><td>VCC1153</td><td>187.26996</td><td>12.665</td><td>113.24</td><td>3.2922218</td><td>2.8</td><td>3.15</td><td>1.0</td><td>96.86</td><td>2.8</td><td>3.15</td><td>-25.98</td><td>1.66</td><td>1.16</td><td>9.6</td><td>17.0</td><td>--</td><td>vugc1</td><td>28</td><td>--</td><td>--</td><td>40</td><td>50</td><td>spec1d.vugc1.028.GCBL005.fits.gz</td><td>1</td><td>DEGC</td></tr>\n",
       "</table>"
      ],
      "text/plain": [
       "<Table masked=True length=88>\n",
       "  VCC   TARGTYPE GCSAT  ...            SPEC1DNAME            Probability Type\n",
       "bytes10  bytes7  bytes2 ...             bytes40                 int64    str4\n",
       "------- -------- ------ ... -------------------------------- ----------- ----\n",
       "    ---      GCA      Y ...   spec1d.vdgc1.011.gcA10.fits.gz           1 DEGC\n",
       "    ---      GCA      Y ...   spec1d.vdgc1.012.gcA17.fits.gz           1 DEGC\n",
       "    ---      GCA      Y ...   spec1d.vdgc1.014.gcA19.fits.gz           1 DEGC\n",
       "    ---      GCA      Y ...   spec1d.vdgc1.015.gcA20.fits.gz           1 DEGC\n",
       "    ---      GCN      Y ...  spec1d.vdgc1.026.gcN120.fits.gz           1 DEGC\n",
       "    ---      GCN      Y ...  spec1d.vdgc1.027.gcN138.fits.gz           1 DEGC\n",
       "    ---      GCN      Y ...  spec1d.vdgc1.029.gcN145.fits.gz           1 DEGC\n",
       "    ---      GCN      Y ...  spec1d.vdgc1.030.gcN147.fits.gz           1 DEGC\n",
       "    ---      GCN      Y ...  spec1d.vdgc1.037.gcN206.fits.gz           1 DEGC\n",
       "    ---      GCN      Y ...  spec1d.vdgc1.038.gcN210.fits.gz           1 DEGC\n",
       "    ...      ...    ... ...                              ...         ...  ...\n",
       "    ---      GCA      Y ...  spec1d.vdgc9B.015.gcA29.fits.gz           1 DEGC\n",
       "    ---      GCA      Y ...  spec1d.vdgc9B.016.gcA30.fits.gz           1 DEGC\n",
       "    ---      GCA      Y ...  spec1d.vdgc9B.017.gcA31.fits.gz           1 DEGC\n",
       "    ---      GCN      Y ... spec1d.vdgc9B.021.gcN121.fits.gz           1 DEGC\n",
       "    ---      GCA      Y ...  spec1d.vdgc9B.062.gcA16.fits.gz           1 DEGC\n",
       "    ---      GCA      Y ...  spec1d.vdgc9B.063.gcA18.fits.gz           1 DEGC\n",
       "    ---      GCA      Y ...  spec1d.vdgc9B.064.gcA21.fits.gz           1 DEGC\n",
       "    ---      GCA      Y ...  spec1d.vdgc9B.065.gcA27.fits.gz           1 DEGC\n",
       "    ---     GCXL      Y ... spec1d.vugc1.013.GCXL016.fits.gz           1 DEGC\n",
       "    ---     GCBL      Y ... spec1d.vugc1.028.GCBL005.fits.gz           1 DEGC"
      ]
     },
     "execution_count": 14,
     "metadata": {},
     "output_type": "execute_result"
    }
   ],
   "source": [
    "VDGC"
   ]
  },
  {
   "cell_type": "code",
   "execution_count": 15,
   "metadata": {},
   "outputs": [
    {
     "data": {
      "text/html": [
       "<i>Table length=364</i>\n",
       "<table id=\"table4814612520\" class=\"table-striped table-bordered table-condensed\">\n",
       "<thead><tr><th>VCC</th><th>TARGTYPE</th><th>GCSAT</th><th>HOST</th><th>RA</th><th>DEC</th><th>VHEL</th><th>VERR</th><th>VERR_pe</th><th>VERR_ne</th><th>ZCONF</th><th>VOBS</th><th>VOBS_pe</th><th>VOBS_ne</th><th>ABANDCOR</th><th>ABANDCOR_pe</th><th>ABANDCOR_ne</th><th>HELCOR</th><th>SN</th><th>KECKID</th><th>MASKNAME</th><th>SLITNUM</th><th>ZSPECNUM</th><th>ZQUAL</th><th>YLOW</th><th>YHIGH</th><th>SPEC1DNAME</th><th>Probability</th><th>Type</th></tr></thead>\n",
       "<thead><tr><th>bytes10</th><th>bytes7</th><th>bytes2</th><th>bytes10</th><th>float32</th><th>float32</th><th>float32</th><th>float32</th><th>float32</th><th>float32</th><th>float32</th><th>float32</th><th>float32</th><th>float32</th><th>float32</th><th>float32</th><th>float32</th><th>float32</th><th>float32</th><th>bytes20</th><th>bytes20</th><th>int16</th><th>int16</th><th>int16</th><th>int16</th><th>int16</th><th>bytes40</th><th>float32</th><th>bytes4</th></tr></thead>\n",
       "<tr><td>---</td><td>ALG</td><td>N</td><td>---</td><td>187.0097</td><td>10.359333</td><td>54.56785</td><td>2.5169947</td><td>1.2761084</td><td>1.2873586</td><td>1.0</td><td>117.61137</td><td>0.21014537</td><td>0.21014537</td><td>0.00016147838</td><td>4.6698975e-07</td><td>7.3384103e-07</td><td>4.866667e-05</td><td>196.03</td><td>alg42</td><td>vdgc1</td><td>0</td><td>0</td><td>-1</td><td>15</td><td>21</td><td>spec1d.vdgc1.000.alg42.fits.gz</td><td>0.98157275</td><td>Star</td></tr>\n",
       "<tr><td>---</td><td>ALG</td><td>N</td><td>---</td><td>187.07608</td><td>10.3505</td><td>-210.7357</td><td>3.0194468</td><td>2.024616</td><td>2.1834822</td><td>1.0</td><td>-170.35785</td><td>1.5010384</td><td>1.6711562</td><td>8.592611e-05</td><td>1.7678897e-06</td><td>2.1348103e-06</td><td>4.866667e-05</td><td>58.89</td><td>alg115</td><td>vdgc1</td><td>1</td><td>1</td><td>-1</td><td>15</td><td>21</td><td>spec1d.vdgc1.001.alg115.fits.gz</td><td>0.90411496</td><td>Star</td></tr>\n",
       "<tr><td>---</td><td>ALG</td><td>N</td><td>---</td><td>186.9995</td><td>10.459528</td><td>12.869002</td><td>2.8418825</td><td>1.7621847</td><td>1.9203647</td><td>1.0</td><td>76.86318</td><td>1.0807476</td><td>1.2108377</td><td>0.00016464724</td><td>2.0347409e-06</td><td>2.701869e-06</td><td>4.866667e-05</td><td>44.0</td><td>alg140</td><td>vdgc1</td><td>2</td><td>2</td><td>-1</td><td>15</td><td>21</td><td>spec1d.vdgc1.002.alg140.fits.gz</td><td>0.982906</td><td>Star</td></tr>\n",
       "<tr><td>---</td><td>ALG</td><td>N</td><td>---</td><td>187.04004</td><td>10.45025</td><td>19.96391</td><td>2.5854344</td><td>1.3975698</td><td>1.426399</td><td>1.0</td><td>32.882748</td><td>0.46031845</td><td>0.57039464</td><td>-5.6038766e-06</td><td>1.4009692e-06</td><td>1.2675436e-06</td><td>4.866667e-05</td><td>80.71</td><td>alg164</td><td>vdgc1</td><td>3</td><td>3</td><td>-1</td><td>16</td><td>21</td><td>spec1d.vdgc1.003.alg164.fits.gz</td><td>0.9828415</td><td>Star</td></tr>\n",
       "<tr><td>---</td><td>ALG</td><td>N</td><td>---</td><td>187.07025</td><td>10.325111</td><td>-2.7317898</td><td>2.612219</td><td>1.4655958</td><td>1.453245</td><td>1.0</td><td>34.784065</td><td>0.65045</td><td>0.6404431</td><td>7.6386175e-05</td><td>1.3342564e-06</td><td>1.2341872e-06</td><td>4.866667e-05</td><td>92.15</td><td>alg177</td><td>vdgc1</td><td>4</td><td>4</td><td>-1</td><td>15</td><td>20</td><td>spec1d.vdgc1.004.alg177.fits.gz</td><td>0.98282486</td><td>Star</td></tr>\n",
       "<tr><td>---</td><td>ALG</td><td>N</td><td>---</td><td>187.05908</td><td>10.544111</td><td>17.422152</td><td>2.510731</td><td>1.271273</td><td>1.2664591</td><td>1.0</td><td>-29.680532</td><td>0.17011769</td><td>0.14009692</td><td>-0.00020567562</td><td>5.003461e-07</td><td>4.6698975e-07</td><td>4.866667e-05</td><td>222.86</td><td>alg191</td><td>vdgc1</td><td>5</td><td>5</td><td>-1</td><td>15</td><td>21</td><td>spec1d.vdgc1.005.alg191.fits.gz</td><td>0.9828719</td><td>Star</td></tr>\n",
       "<tr><td>---</td><td>ALG</td><td>N</td><td>---</td><td>187.06075</td><td>10.386139</td><td>-53.867165</td><td>2.7268543</td><td>1.7217433</td><td>1.5956256</td><td>1.0</td><td>-18.522814</td><td>0.73050535</td><td>0.70048463</td><td>6.9147834e-05</td><td>3.1021461e-06</td><td>2.3349487e-06</td><td>4.866667e-05</td><td>73.2</td><td>alg194</td><td>vdgc1</td><td>6</td><td>6</td><td>-1</td><td>15</td><td>20</td><td>spec1d.vdgc1.006.alg194.fits.gz</td><td>0.9802294</td><td>Star</td></tr>\n",
       "<tr><td>VCC1075</td><td>NUC</td><td>N</td><td>---</td><td>187.05128</td><td>10.297639</td><td>1811.7435</td><td>2.917756</td><td>1.9805114</td><td>1.9400272</td><td>1.0</td><td>1825.7831</td><td>1.4409969</td><td>1.2608724</td><td>-1.867959e-06</td><td>1.7678897e-06</td><td>2.6018e-06</td><td>4.866667e-05</td><td>28.58</td><td>nuc5</td><td>vdgc1</td><td>7</td><td>7</td><td>4</td><td>30</td><td>37</td><td>spec1d.vdgc1.007.nuc5.fits.gz</td><td>1.0</td><td>ICL</td></tr>\n",
       "<tr><td>VCC1079</td><td>NUC</td><td>N</td><td>---</td><td>187.05008</td><td>10.365334</td><td>1334.1931</td><td>3.0186136</td><td>2.089962</td><td>2.114991</td><td>1.0</td><td>1349.0332</td><td>1.5510731</td><td>1.541066</td><td>8.0055383e-07</td><td>2.101454e-06</td><td>2.435018e-06</td><td>4.866667e-05</td><td>32.52</td><td>nuc6</td><td>vdgc1</td><td>8</td><td>8</td><td>4</td><td>19</td><td>25</td><td>spec1d.vdgc1.008.nuc6.fits.gz</td><td>1.0</td><td>ICL</td></tr>\n",
       "<tr><td>VCC1076</td><td>NUC</td><td>N</td><td>---</td><td>187.05345</td><td>10.526055</td><td>1648.991</td><td>3.8832598</td><td>2.937931</td><td>3.5167038</td><td>1.0</td><td>1670.976</td><td>2.5317514</td><td>3.2022152</td><td>2.461703e-05</td><td>2.701869e-06</td><td>2.4683743e-06</td><td>4.866667e-05</td><td>27.06</td><td>nuc7</td><td>vdgc1</td><td>9</td><td>9</td><td>4</td><td>20</td><td>26</td><td>spec1d.vdgc1.009.nuc7.fits.gz</td><td>1.0</td><td>ICL</td></tr>\n",
       "<tr><td>...</td><td>...</td><td>...</td><td>...</td><td>...</td><td>...</td><td>...</td><td>...</td><td>...</td><td>...</td><td>...</td><td>...</td><td>...</td><td>...</td><td>...</td><td>...</td><td>...</td><td>...</td><td>...</td><td>...</td><td>...</td><td>...</td><td>...</td><td>...</td><td>...</td><td>...</td><td>...</td><td>...</td><td>...</td></tr>\n",
       "<tr><td>---</td><td>SGR</td><td>N</td><td>---</td><td>190.39262</td><td>11.137917</td><td>-41.299713</td><td>5.2710676</td><td>4.595586</td><td>5.017621</td><td>1.0</td><td>-34.63396</td><td>4.2929697</td><td>4.763295</td><td>-2.0447478e-05</td><td>3.5357793e-06</td><td>3.2022153e-06</td><td>4.2666667e-05</td><td>17.14</td><td>sgr375</td><td>vdgc9B</td><td>49</td><td>56</td><td>4</td><td>30</td><td>36</td><td>spec1d.vdgc9B.049.sgr375.fits.gz</td><td>0.9812374</td><td>Star</td></tr>\n",
       "<tr><td>---</td><td>SGR</td><td>N</td><td>---</td><td>190.33159</td><td>11.156917</td><td>29.619345</td><td>12.391332</td><td>12.224623</td><td>12.183033</td><td>1.0</td><td>-27.138775</td><td>6.8947697</td><td>7.3350744</td><td>-0.00023186041</td><td>3.3389766e-05</td><td>3.2155578e-05</td><td>4.2666667e-05</td><td>4.98</td><td>sgr377</td><td>vdgc9B</td><td>50</td><td>57</td><td>4</td><td>10</td><td>16</td><td>spec1d.vdgc9B.050.sgr377.fits.gz</td><td>0.9826506</td><td>Star</td></tr>\n",
       "<tr><td>---</td><td>SGR</td><td>N</td><td>---</td><td>190.36142</td><td>11.1675</td><td>-29.991892</td><td>3.5253105</td><td>2.367182</td><td>3.219882</td><td>1.0</td><td>-29.410345</td><td>1.7311976</td><td>2.721883</td><td>-4.0728177e-05</td><td>3.4023537e-06</td><td>3.936056e-06</td><td>4.2666667e-05</td><td>19.86</td><td>sgr382</td><td>vdgc9B</td><td>51</td><td>59</td><td>4</td><td>116</td><td>121</td><td>spec1d.vdgc9B.051.sgr382.fits.gz</td><td>0.9819229</td><td>Star</td></tr>\n",
       "<tr><td>---</td><td>SGR</td><td>N</td><td>---</td><td>190.4127</td><td>11.171166</td><td>81.905525</td><td>6.1642017</td><td>5.6335864</td><td>5.9122114</td><td>1.0</td><td>85.61923</td><td>5.103531</td><td>5.4737864</td><td>-3.028762e-05</td><td>6.7713513e-06</td><td>6.1709356e-06</td><td>4.2666667e-05</td><td>8.43</td><td>sgr383</td><td>vdgc9B</td><td>52</td><td>60</td><td>4</td><td>23</td><td>29</td><td>spec1d.vdgc9B.052.sgr383.fits.gz</td><td>0.9792581</td><td>Star</td></tr>\n",
       "<tr><td>---</td><td>SGR</td><td>N</td><td>---</td><td>190.35304</td><td>11.182972</td><td>-8.937327</td><td>4.602053</td><td>3.9840753</td><td>4.1363955</td><td>1.0</td><td>1.1107684</td><td>0.0</td><td>0.0</td><td>-9.173013e-06</td><td>1.26087225e-05</td><td>1.3142425e-05</td><td>4.2666667e-05</td><td>5.14</td><td>sgr387</td><td>vdgc9B</td><td>53</td><td>61</td><td>1</td><td>12</td><td>18</td><td>spec1d.vdgc9B.053.sgr387.fits.gz</td><td>0.9827067</td><td>Star</td></tr>\n",
       "<tr><td>---</td><td>SGR</td><td>N</td><td>---</td><td>190.30571</td><td>11.186861</td><td>172.89848</td><td>10.0326</td><td>10.680487</td><td>9.020062</td><td>1.0</td><td>171.7288</td><td>7.4651647</td><td>4.8133297</td><td>-4.6565547e-05</td><td>2.5117377e-05</td><td>2.508402e-05</td><td>4.2666667e-05</td><td>4.17</td><td>sgr388</td><td>vdgc9B</td><td>54</td><td>62</td><td>4</td><td>20</td><td>26</td><td>spec1d.vdgc9B.054.sgr388.fits.gz</td><td>0.9547984</td><td>Star</td></tr>\n",
       "<tr><td>---</td><td>SGR</td><td>N</td><td>---</td><td>190.20183</td><td>11.189305</td><td>-23.377317</td><td>13.753627</td><td>14.145195</td><td>13.020607</td><td>1.0</td><td>-1.4409969</td><td>13.739506</td><td>12.568695</td><td>3.0454401e-05</td><td>1.04072e-05</td><td>1.0540625e-05</td><td>4.2666667e-05</td><td>5.77</td><td>sgr389</td><td>vdgc9B</td><td>55</td><td>63</td><td>4</td><td>66</td><td>72</td><td>spec1d.vdgc9B.055.sgr389.fits.gz</td><td>0.98223525</td><td>Star</td></tr>\n",
       "<tr><td>---</td><td>SGR</td><td>N</td><td>---</td><td>190.21959</td><td>11.203083</td><td>-11.509108</td><td>6.1247454</td><td>6.008072</td><td>5.4711885</td><td>1.0</td><td>13.809553</td><td>5.573856</td><td>4.803323</td><td>4.172887e-05</td><td>6.2042923e-06</td><td>7.671974e-06</td><td>4.2666667e-05</td><td>8.92</td><td>sgr391</td><td>vdgc9B</td><td>56</td><td>64</td><td>4</td><td>36</td><td>42</td><td>spec1d.vdgc9B.056.sgr391.fits.gz</td><td>0.9826431</td><td>Star</td></tr>\n",
       "<tr><td>---</td><td>MST</td><td>N</td><td>---</td><td>190.2195</td><td>11.238611</td><td>-54.54888</td><td>10.111157</td><td>8.082899</td><td>11.675232</td><td>1.0</td><td>-41.74888</td><td>7.985524</td><td>11.60803</td><td>1.5577443e-05</td><td>0.00013782868</td><td>7.218327e-05</td><td>4.2666667e-05</td><td>3.44</td><td>mst526</td><td>vdgc9B</td><td>61</td><td>71</td><td>1</td><td>48</td><td>53</td><td>spec1d.vdgc9B.061.mst526.fits.gz</td><td>0.9801667</td><td>Star</td></tr>\n",
       "<tr><td>---</td><td>GCN</td><td>N</td><td>---</td><td>190.23608</td><td>11.185389</td><td>202.23877</td><td>2.5483098</td><td>1.3424577</td><td>1.3411143</td><td>1.0</td><td>221.78343</td><td>0.46031845</td><td>0.4403046</td><td>2.248222e-05</td><td>5.337026e-07</td><td>6.671282e-07</td><td>4.2666667e-05</td><td>105.87</td><td>gcN138</td><td>vdgc9B</td><td>66</td><td>76</td><td>4</td><td>30</td><td>36</td><td>spec1d.vdgc9B.066.gcN138.fits.gz</td><td>0.9345655</td><td>Star</td></tr>\n",
       "</table>"
      ],
      "text/plain": [
       "<Table length=364>\n",
       "  VCC   TARGTYPE GCSAT  ...            SPEC1DNAME            Probability  Type \n",
       "bytes10  bytes7  bytes2 ...             bytes40                float32   bytes4\n",
       "------- -------- ------ ... -------------------------------- ----------- ------\n",
       "    ---      ALG      N ...   spec1d.vdgc1.000.alg42.fits.gz  0.98157275   Star\n",
       "    ---      ALG      N ...  spec1d.vdgc1.001.alg115.fits.gz  0.90411496   Star\n",
       "    ---      ALG      N ...  spec1d.vdgc1.002.alg140.fits.gz    0.982906   Star\n",
       "    ---      ALG      N ...  spec1d.vdgc1.003.alg164.fits.gz   0.9828415   Star\n",
       "    ---      ALG      N ...  spec1d.vdgc1.004.alg177.fits.gz  0.98282486   Star\n",
       "    ---      ALG      N ...  spec1d.vdgc1.005.alg191.fits.gz   0.9828719   Star\n",
       "    ---      ALG      N ...  spec1d.vdgc1.006.alg194.fits.gz   0.9802294   Star\n",
       "VCC1075      NUC      N ...    spec1d.vdgc1.007.nuc5.fits.gz         1.0    ICL\n",
       "VCC1079      NUC      N ...    spec1d.vdgc1.008.nuc6.fits.gz         1.0    ICL\n",
       "VCC1076      NUC      N ...    spec1d.vdgc1.009.nuc7.fits.gz         1.0    ICL\n",
       "    ...      ...    ... ...                              ...         ...    ...\n",
       "    ---      SGR      N ... spec1d.vdgc9B.049.sgr375.fits.gz   0.9812374   Star\n",
       "    ---      SGR      N ... spec1d.vdgc9B.050.sgr377.fits.gz   0.9826506   Star\n",
       "    ---      SGR      N ... spec1d.vdgc9B.051.sgr382.fits.gz   0.9819229   Star\n",
       "    ---      SGR      N ... spec1d.vdgc9B.052.sgr383.fits.gz   0.9792581   Star\n",
       "    ---      SGR      N ... spec1d.vdgc9B.053.sgr387.fits.gz   0.9827067   Star\n",
       "    ---      SGR      N ... spec1d.vdgc9B.054.sgr388.fits.gz   0.9547984   Star\n",
       "    ---      SGR      N ... spec1d.vdgc9B.055.sgr389.fits.gz  0.98223525   Star\n",
       "    ---      SGR      N ... spec1d.vdgc9B.056.sgr391.fits.gz   0.9826431   Star\n",
       "    ---      MST      N ... spec1d.vdgc9B.061.mst526.fits.gz   0.9801667   Star\n",
       "    ---      GCN      N ... spec1d.vdgc9B.066.gcN138.fits.gz   0.9345655   Star"
      ]
     },
     "execution_count": 15,
     "metadata": {},
     "output_type": "execute_result"
    }
   ],
   "source": [
    "DEprob"
   ]
  },
  {
   "cell_type": "code",
   "execution_count": 16,
   "metadata": {},
   "outputs": [
    {
     "data": {
      "text/plain": [
       "20"
      ]
     },
     "execution_count": 16,
     "metadata": {},
     "output_type": "execute_result"
    }
   ],
   "source": [
    "DE = vstack([VDGC, DEprob])\n",
    "count = 0\n",
    "for row in DEprob:\n",
    "    if (row[28] == 'Halo'):\n",
    "        count = count + 1\n",
    "count\n",
    "    "
   ]
  },
  {
   "cell_type": "code",
   "execution_count": 33,
   "metadata": {},
   "outputs": [
    {
     "data": {
      "text/plain": [
       "0"
      ]
     },
     "execution_count": 33,
     "metadata": {},
     "output_type": "execute_result"
    }
   ],
   "source": [
    "UDG = vstack([VUGC, UDGprob])\n",
    "count = 0\n",
    "for row in UDGprob:\n",
    "    if (row[25] == 'Unknown'):\n",
    "        count = count + 1\n",
    "\n",
    "count\n",
    "    "
   ]
  },
  {
   "cell_type": "code",
   "execution_count": 18,
   "metadata": {},
   "outputs": [
    {
     "data": {
      "text/html": [
       "<i>Table masked=True length=547</i>\n",
       "<table id=\"table4815826000\" class=\"table-striped table-bordered table-condensed\">\n",
       "<thead><tr><th>VCC</th><th>TARGTYPE</th><th>GCSAT</th><th>HOST</th><th>RA</th><th>DEC</th><th>VHEL</th><th>VERR</th><th>VERR_pe</th><th>VERR_ne</th><th>ZCONF</th><th>VOBS</th><th>VOBS_pe</th><th>VOBS_ne</th><th>ABANDCOR</th><th>ABANDCOR_pe</th><th>ABANDCOR_ne</th><th>HELCOR</th><th>SN</th><th>KECKID</th><th>MASKNAME</th><th>SLITNUM</th><th>ZSPECNUM</th><th>ZQUAL</th><th>YLOW</th><th>YHIGH</th><th>SPEC1DNAME</th><th>Probability</th><th>Type</th></tr></thead>\n",
       "<thead><tr><th>bytes10</th><th>bytes7</th><th>bytes2</th><th>bytes10</th><th>float32</th><th>float32</th><th>float32</th><th>float32</th><th>float32</th><th>float32</th><th>float32</th><th>float32</th><th>float32</th><th>float32</th><th>float32</th><th>float32</th><th>float32</th><th>float32</th><th>float32</th><th>bytes20</th><th>bytes20</th><th>int16</th><th>int16</th><th>int16</th><th>int16</th><th>int16</th><th>bytes40</th><th>float64</th><th>str4</th></tr></thead>\n",
       "<tr><td>---</td><td>GCA</td><td>Y</td><td>VCC1075</td><td>187.05533</td><td>10.299723</td><td>1795.8826</td><td>6.6943264</td><td>7.1255054</td><td>5.546625</td><td>1.0</td><td>1810.4825</td><td>7.014853</td><td>5.403738</td><td>78.81452</td><td>25.247467</td><td>23.015923</td><td>14.6</td><td>3.34</td><td>gcA10</td><td>vdgc1</td><td>11</td><td>12</td><td>3</td><td>25</td><td>31</td><td>spec1d.vdgc1.011.gcA10.fits.gz</td><td>1.0</td><td>DEGC</td></tr>\n",
       "<tr><td>---</td><td>GCA</td><td>Y</td><td>VCC1075</td><td>187.04483</td><td>10.286805</td><td>1843.0951</td><td>10.339908</td><td>9.879919</td><td>10.394689</td><td>1.0</td><td>1855.5137</td><td>6.974825</td><td>6.2042923</td><td>-2.181509</td><td>6.884763</td><td>8.245705</td><td>14.6</td><td>5.36</td><td>gcA17</td><td>vdgc1</td><td>12</td><td>13</td><td>4</td><td>17</td><td>23</td><td>spec1d.vdgc1.012.gcA17.fits.gz</td><td>1.0</td><td>DEGC</td></tr>\n",
       "<tr><td>---</td><td>GCA</td><td>Y</td><td>VCC1075</td><td>187.03674</td><td>10.289222</td><td>1802.7073</td><td>6.052629</td><td>4.5716085</td><td>6.9834056</td><td>1.0</td><td>1821.8304</td><td>3.3122916</td><td>6.584555</td><td>4.5231295</td><td>2.8920007</td><td>1.9613569</td><td>14.6</td><td>7.06</td><td>gcA19</td><td>vdgc1</td><td>14</td><td>15</td><td>4</td><td>39</td><td>46</td><td>spec1d.vdgc1.014.gcA19.fits.gz</td><td>1.0</td><td>DEGC</td></tr>\n",
       "<tr><td>---</td><td>GCA</td><td>Y</td><td>VCC1075</td><td>187.04433</td><td>10.315306</td><td>1861.2278</td><td>2.5437276</td><td>1.4287839</td><td>1.2718638</td><td>1.0</td><td>1875.8278</td><td>0.69047767</td><td>0.23015922</td><td>370.1761</td><td>67.03638</td><td>59.210964</td><td>14.6</td><td>2.93</td><td>gcA20</td><td>vdgc1</td><td>15</td><td>16</td><td>1</td><td>32</td><td>36</td><td>spec1d.vdgc1.015.gcA20.fits.gz</td><td>1.0</td><td>DEGC</td></tr>\n",
       "<tr><td>---</td><td>GCN</td><td>Y</td><td>VCC1079</td><td>187.0423</td><td>10.3538885</td><td>1323.2156</td><td>12.560184</td><td>13.214163</td><td>11.683929</td><td>1.0</td><td>1333.0521</td><td>12.498647</td><td>9.956888</td><td>-4.763295</td><td>4.1028385</td><td>5.98414</td><td>14.6</td><td>6.54</td><td>gcN120</td><td>vdgc1</td><td>26</td><td>31</td><td>1</td><td>122</td><td>128</td><td>spec1d.vdgc1.026.gcN120.fits.gz</td><td>1.0</td><td>DEGC</td></tr>\n",
       "<tr><td>---</td><td>GCN</td><td>Y</td><td>VCC1079</td><td>187.05162</td><td>10.367778</td><td>1338.6162</td><td>13.627155</td><td>13.83195</td><td>13.110909</td><td>1.0</td><td>1369.9778</td><td>9.316445</td><td>7.795393</td><td>16.761597</td><td>10.147019</td><td>10.467241</td><td>14.6</td><td>6.97</td><td>gcN138</td><td>vdgc1</td><td>27</td><td>32</td><td>4</td><td>32</td><td>38</td><td>spec1d.vdgc1.027.gcN138.fits.gz</td><td>1.0</td><td>DEGC</td></tr>\n",
       "<tr><td>---</td><td>GCN</td><td>Y</td><td>VCC1079</td><td>187.05696</td><td>10.373972</td><td>1313.909</td><td>11.331903</td><td>11.525938</td><td>10.722818</td><td>1.0</td><td>1330.3203</td><td>7.775379</td><td>7.475171</td><td>1.8112531</td><td>8.415822</td><td>7.5852475</td><td>14.6</td><td>4.94</td><td>gcN145</td><td>vdgc1</td><td>29</td><td>34</td><td>4</td><td>20</td><td>26</td><td>spec1d.vdgc1.029.gcN145.fits.gz</td><td>1.0</td><td>DEGC</td></tr>\n",
       "<tr><td>---</td><td>GCN</td><td>Y</td><td>VCC1079</td><td>187.05429</td><td>10.377334</td><td>1358.58</td><td>6.8130116</td><td>8.182219</td><td>4.8669662</td><td>1.0</td><td>1376.2621</td><td>7.945497</td><td>4.2029076</td><td>3.082132</td><td>1.5010384</td><td>2.1114607</td><td>14.6</td><td>7.02</td><td>gcN147</td><td>vdgc1</td><td>30</td><td>35</td><td>4</td><td>30</td><td>36</td><td>spec1d.vdgc1.030.gcN147.fits.gz</td><td>1.0</td><td>DEGC</td></tr>\n",
       "<tr><td>---</td><td>GCN</td><td>Y</td><td>VCC1076</td><td>187.0515</td><td>10.524445</td><td>1650.4119</td><td>11.4403515</td><td>11.538051</td><td>10.929236</td><td>1.0</td><td>1669.485</td><td>10.947573</td><td>10.317138</td><td>4.4730945</td><td>3.4223676</td><td>3.38234</td><td>14.6</td><td>6.99</td><td>gcN206</td><td>vdgc1</td><td>37</td><td>44</td><td>4</td><td>114</td><td>120</td><td>spec1d.vdgc1.037.gcN206.fits.gz</td><td>1.0</td><td>DEGC</td></tr>\n",
       "<tr><td>---</td><td>GCN</td><td>Y</td><td>VCC1076</td><td>187.05412</td><td>10.529555</td><td>1674.2283</td><td>19.803534</td><td>20.388123</td><td>19.004791</td><td>1.0</td><td>1670.9459</td><td>15.350619</td><td>13.409277</td><td>-17.882372</td><td>13.359242</td><td>13.409277</td><td>14.6</td><td>2.89</td><td>gcN210</td><td>vdgc1</td><td>38</td><td>46</td><td>4</td><td>49</td><td>55</td><td>spec1d.vdgc1.038.gcN210.fits.gz</td><td>1.0</td><td>DEGC</td></tr>\n",
       "<tr><td>...</td><td>...</td><td>...</td><td>...</td><td>...</td><td>...</td><td>...</td><td>...</td><td>...</td><td>...</td><td>...</td><td>...</td><td>...</td><td>...</td><td>...</td><td>...</td><td>...</td><td>...</td><td>...</td><td>...</td><td>...</td><td>...</td><td>...</td><td>...</td><td>...</td><td>...</td><td>...</td><td>...</td><td>...</td></tr>\n",
       "<tr><td>---</td><td>SGR</td><td>N</td><td>---</td><td>185.79562</td><td>11.95625</td><td>-30.45</td><td>6.590131</td><td>4.42</td><td>7.3</td><td>1.0</td><td>-5.02</td><td>4.42</td><td>7.3</td><td>16.23</td><td>2.9</td><td>3.13</td><td>9.2</td><td>5.03</td><td>--</td><td>vugc6</td><td>49</td><td>--</td><td>--</td><td>81</td><td>91</td><td>spec1d.vugc6.049.SGR0039.fits.gz</td><td>0.9818989038467407</td><td>Star</td></tr>\n",
       "<tr><td>---</td><td>SGR</td><td>N</td><td>---</td><td>185.85175</td><td>12.10025</td><td>-48.3</td><td>4.3181043</td><td>5.08</td><td>2.88</td><td>1.0</td><td>-30.82</td><td>5.08</td><td>2.88</td><td>8.28</td><td>1.53</td><td>1.82</td><td>9.2</td><td>14.49</td><td>--</td><td>vugc6</td><td>50</td><td>--</td><td>--</td><td>112</td><td>120</td><td>spec1d.vugc6.050.SGR0044.fits.gz</td><td>0.9807099103927612</td><td>Star</td></tr>\n",
       "<tr><td>---</td><td>SGR</td><td>N</td><td>---</td><td>185.80034</td><td>11.969306</td><td>-35.15</td><td>5.4065537</td><td>4.37</td><td>5.56</td><td>1.0</td><td>6.67</td><td>4.37</td><td>5.56</td><td>32.62</td><td>2.34</td><td>1.94</td><td>9.2</td><td>12.16</td><td>--</td><td>vugc6</td><td>51</td><td>--</td><td>--</td><td>67</td><td>77</td><td>spec1d.vugc6.051.SGR0085.fits.gz</td><td>0.9816346764564514</td><td>Star</td></tr>\n",
       "<tr><td>---</td><td>SGR</td><td>N</td><td>---</td><td>185.78845</td><td>12.026778</td><td>-67.46</td><td>3.761396</td><td>3.67</td><td>3.53</td><td>1.0</td><td>-37.48</td><td>3.67</td><td>3.53</td><td>20.78</td><td>0.92</td><td>1.26</td><td>9.2</td><td>17.71</td><td>--</td><td>vugc6</td><td>52</td><td>--</td><td>--</td><td>21</td><td>29</td><td>spec1d.vugc6.052.SGR0105.fits.gz</td><td>0.9788053035736084</td><td>Star</td></tr>\n",
       "<tr><td>---</td><td>SGR</td><td>N</td><td>---</td><td>185.84895</td><td>12.092112</td><td>-18.66</td><td>17.332441</td><td>15.33</td><td>17.21</td><td>1.0</td><td>-15.34</td><td>15.33</td><td>17.21</td><td>-5.88</td><td>6.04</td><td>5.91</td><td>9.2</td><td>5.06</td><td>--</td><td>vugc6</td><td>53</td><td>--</td><td>--</td><td>8</td><td>16</td><td>spec1d.vugc6.053.SGR0118.fits.gz</td><td>0.9824202656745911</td><td>Star</td></tr>\n",
       "<tr><td>---</td><td>SGR</td><td>N</td><td>---</td><td>185.88054</td><td>12.135028</td><td>29.33</td><td>10.8752985</td><td>12.75</td><td>7.42</td><td>1.0</td><td>43.62</td><td>12.75</td><td>7.42</td><td>5.09</td><td>4.17</td><td>3.97</td><td>9.2</td><td>4.11</td><td>--</td><td>vugc6</td><td>54</td><td>--</td><td>--</td><td>8</td><td>16</td><td>spec1d.vugc6.054.SGR0123.fits.gz</td><td>0.9826580882072449</td><td>Star</td></tr>\n",
       "<tr><td>---</td><td>SGR</td><td>N</td><td>---</td><td>185.74037</td><td>11.945056</td><td>81.2</td><td>3.226612</td><td>3.06</td><td>3.14</td><td>1.0</td><td>134.32</td><td>3.06</td><td>3.14</td><td>43.92</td><td>0.96</td><td>0.83</td><td>9.2</td><td>19.33</td><td>--</td><td>vugc6</td><td>55</td><td>--</td><td>--</td><td>62</td><td>72</td><td>spec1d.vugc6.055.SGR0130.fits.gz</td><td>0.9793354868888855</td><td>Star</td></tr>\n",
       "<tr><td>---</td><td>SER</td><td>N</td><td>---</td><td>185.8101</td><td>12.019183</td><td>-47.68</td><td>7.958574</td><td>5.6</td><td>9.0</td><td>1.0</td><td>-21.63</td><td>5.6</td><td>9.0</td><td>16.85</td><td>3.69</td><td>2.65</td><td>9.2</td><td>3.45</td><td>--</td><td>vugc6</td><td>56</td><td>--</td><td>--</td><td>46</td><td>53</td><td>spec1d.vugc6.056.serendip1.fits.gz</td><td>0.9807599782943726</td><td>Star</td></tr>\n",
       "<tr><td>---</td><td>SGR</td><td>N</td><td>---</td><td>185.78558</td><td>12.031584</td><td>72.83</td><td>7.6939</td><td>2.39</td><td>5.21</td><td>1.0</td><td>92.59</td><td>2.39</td><td>5.21</td><td>10.56</td><td>6.03</td><td>7.35</td><td>9.2</td><td>5.99</td><td>--</td><td>vugc6</td><td>58</td><td>--</td><td>--</td><td>58</td><td>66</td><td>spec1d.vugc6.058.SGR0175.fits.gz</td><td>0.9801772236824036</td><td>Star</td></tr>\n",
       "<tr><td>---</td><td>SGR</td><td>N</td><td>---</td><td>185.72034</td><td>11.928528</td><td>-54.81</td><td>7.384176</td><td>8.65</td><td>5.06</td><td>1.0</td><td>6.45</td><td>8.65</td><td>5.06</td><td>52.06</td><td>2.75</td><td>2.74</td><td>9.2</td><td>4.62</td><td>--</td><td>vugc6</td><td>59</td><td>--</td><td>--</td><td>297</td><td>307</td><td>spec1d.vugc6.059.SGR0179.fits.gz</td><td>0.98014235496521</td><td>Star</td></tr>\n",
       "</table>"
      ],
      "text/plain": [
       "<Table masked=True length=547>\n",
       "  VCC   TARGTYPE GCSAT  ...    Probability     Type\n",
       "bytes10  bytes7  bytes2 ...      float64       str4\n",
       "------- -------- ------ ... ------------------ ----\n",
       "    ---      GCA      Y ...                1.0 DEGC\n",
       "    ---      GCA      Y ...                1.0 DEGC\n",
       "    ---      GCA      Y ...                1.0 DEGC\n",
       "    ---      GCA      Y ...                1.0 DEGC\n",
       "    ---      GCN      Y ...                1.0 DEGC\n",
       "    ---      GCN      Y ...                1.0 DEGC\n",
       "    ---      GCN      Y ...                1.0 DEGC\n",
       "    ---      GCN      Y ...                1.0 DEGC\n",
       "    ---      GCN      Y ...                1.0 DEGC\n",
       "    ---      GCN      Y ...                1.0 DEGC\n",
       "    ...      ...    ... ...                ...  ...\n",
       "    ---      SGR      N ... 0.9818989038467407 Star\n",
       "    ---      SGR      N ... 0.9807099103927612 Star\n",
       "    ---      SGR      N ... 0.9816346764564514 Star\n",
       "    ---      SGR      N ... 0.9788053035736084 Star\n",
       "    ---      SGR      N ... 0.9824202656745911 Star\n",
       "    ---      SGR      N ... 0.9826580882072449 Star\n",
       "    ---      SGR      N ... 0.9793354868888855 Star\n",
       "    ---      SER      N ... 0.9807599782943726 Star\n",
       "    ---      SGR      N ... 0.9801772236824036 Star\n",
       "    ---      SGR      N ...   0.98014235496521 Star"
      ]
     },
     "execution_count": 18,
     "metadata": {},
     "output_type": "execute_result"
    }
   ],
   "source": [
    "Stacked = vstack([DE, UDG])\n",
    "Stacked"
   ]
  },
  {
   "cell_type": "code",
   "execution_count": 19,
   "metadata": {},
   "outputs": [
    {
     "data": {
      "text/plain": [
       "28"
      ]
     },
     "execution_count": 19,
     "metadata": {},
     "output_type": "execute_result"
    }
   ],
   "source": [
    "len(Stacked[0])\n",
    "count = 0\n",
    "for i in range (len(Stacked)):\n",
    "    if (Stacked[i][28] == 'Halo'):\n",
    "        count = count + 1\n",
    "count"
   ]
  },
  {
   "cell_type": "code",
   "execution_count": 20,
   "metadata": {
    "scrolled": true
   },
   "outputs": [
    {
     "data": {
      "text/html": [
       "<i>Table length=21</i>\n",
       "<table id=\"table4816112944\" class=\"table-striped table-bordered table-condensed\">\n",
       "<thead><tr><th>name</th><th>div1</th><th>g_n_bestfit</th><th>g_n_bestfit_error</th><th>g_Ie_cg</th><th>g_re_cg</th><th>g_mag_cg</th><th>g_avmure_cg</th><th>g_I0_cg</th><th>div2</th><th>g_Ie_bestfit</th><th>g_Ie_bestfit_error</th><th>g_re_bestfit</th><th>g_re_bestfit_error</th><th>g_mag_bestfit</th><th>g_mag_bestfit_error</th><th>g_avmure_bestfit</th><th>g_avmure_bestfit_error</th><th>div3</th><th>g_Ie_inner</th><th>g_Ie_inner_error</th><th>g_n_inner</th><th>g_n_inner_error</th><th>g_re_inner</th><th>g_re_inner_error</th><th>g_mag_inner</th><th>g_mag_inner_error</th><th>g_avmure_inner</th><th>g_avmure_inner_error</th><th>div4</th><th>g_Ie_outer</th><th>g_Ie_outer_error</th><th>g_n_outer</th><th>g_n_outer_error</th><th>g_re_outer</th><th>g_re_outer_error</th><th>g_mag_outer</th><th>g_mag_outer_error</th><th>g_avmure_outer</th><th>g_avmure_outer_error</th><th>div5</th><th>g_concentration</th><th>g_sky</th><th>div6</th><th>g_av_ell</th><th>g_av_ell_error</th><th>g_av_pa</th><th>g_av_pa_error</th><th>g_av_A3</th><th>g_av_A3_error</th><th>g_av_A4</th><th>g_av_A4_error</th><th>g_av_B3</th><th>g_av_B3_error</th><th>g_av_B4</th><th>g_av_B4_error</th><th>g_PSF_FWHM</th><th>div7</th><th>u_n_bestfit</th><th>u_n_bestfit_error</th><th>u_Ie_cg</th><th>u_re_cg</th><th>u_mag_cg</th><th>u_avmure_cg</th><th>u_I0_cg</th><th>div8</th><th>u_Ie_bestfit</th><th>u_Ie_bestfit_error</th><th>u_re_bestfit</th><th>u_re_bestfit_error</th><th>u_mag_bestfit</th><th>u_mag_bestfit_error</th><th>u_avmure_bestfit</th><th>u_avmure_bestfit_error</th><th>div9</th><th>u_Ie_inner</th><th>u_Ie_inner_error</th><th>u_n_inner</th><th>u_n_inner_error</th><th>u_re_inner</th><th>u_re_inner_error</th><th>u_mag_inner</th><th>u_mag_inner_error</th><th>u_avmure_inner</th><th>u_avmure_inner_error</th><th>div10</th><th>u_Ie_outer</th><th>u_Ie_outer_error</th><th>u_n_outer</th><th>u_n_outer_error</th><th>u_re_outer</th><th>u_re_outer_error</th><th>u_mag_outer</th><th>u_mag_outer_error</th><th>u_avmure_outer</th><th>u_avmure_outer_error</th><th>div11</th><th>u_concentration</th><th>u_sky</th><th>div12</th><th>u_av_ell</th><th>u_av_ell_error</th><th>u_av_pa</th><th>u_av_pa_error</th><th>u_av_A3</th><th>u_av_A3_error</th><th>u_av_A4</th><th>u_av_A4_error</th><th>u_av_B3</th><th>u_av_B3_error</th><th>u_av_B4</th><th>u_av_B4_error</th><th>u_PSF_FWHM</th><th>div13</th><th>r_n_bestfit</th><th>r_n_bestfit_error</th><th>r_Ie_cg</th><th>r_re_cg</th><th>r_mag_cg</th><th>r_avmure_cg</th><th>r_I0_cg</th><th>div14</th><th>r_Ie_bestfit</th><th>r_Ie_bestfit_error</th><th>r_re_bestfit</th><th>r_re_bestfit_error</th><th>r_mag_bestfit</th><th>r_mag_bestfit_error</th><th>r_avmure_bestfit</th><th>r_avmure_bestfit_error</th><th>div15</th><th>r_Ie_inner</th><th>r_Ie_inner_error</th><th>r_n_inner</th><th>r_n_inner_error</th><th>r_re_inner</th><th>r_re_inner_error</th><th>r_mag_inner</th><th>r_mag_inner_error</th><th>r_avmure_inner</th><th>r_avmure_inner_error</th><th>div16</th><th>r_Ie_outer</th><th>r_Ie_outer_error</th><th>r_n_outer</th><th>r_n_outer_error</th><th>r_re_outer</th><th>r_re_outer_error</th><th>r_mag_outer</th><th>r_mag_outer_error</th><th>r_avmure_outer</th><th>r_avmure_outer_error</th><th>div17</th><th>r_concentration</th><th>r_sky</th><th>div18</th><th>r_av_ell</th><th>r_av_ell_error</th><th>r_av_pa</th><th>r_av_pa_error</th><th>r_av_A3</th><th>r_av_A3_error</th><th>r_av_A4</th><th>r_av_A4_error</th><th>r_av_B3</th><th>r_av_B3_error</th><th>r_av_B4</th><th>r_av_B4_error</th><th>r_PSF_FWHM</th><th>div19</th><th>i_n_bestfit</th><th>i_n_bestfit_error</th><th>i_Ie_cg</th><th>i_re_cg</th><th>i_mag_cg</th><th>i_avmure_cg</th><th>i_I0_cg</th><th>div20</th><th>i_Ie_bestfit</th><th>i_Ie_bestfit_error</th><th>i_re_bestfit</th><th>i_re_bestfit_error</th><th>i_mag_bestfit</th><th>i_mag_bestfit_error</th><th>i_avmure_bestfit</th><th>i_avmure_bestfit_error</th><th>div21</th><th>i_Ie_inner</th><th>i_Ie_inner_error</th><th>i_n_inner</th><th>i_n_inner_error</th><th>i_re_inner</th><th>i_re_inner_error</th><th>i_mag_inner</th><th>i_mag_inner_error</th><th>i_avmure_inner</th><th>i_avmure_inner_error</th><th>div22</th><th>i_Ie_outer</th><th>i_Ie_outer_error</th><th>i_n_outer</th><th>i_n_outer_error</th><th>i_re_outer</th><th>i_re_outer_error</th><th>i_mag_outer</th><th>i_mag_outer_error</th><th>i_avmure_outer</th><th>i_avmure_outer_error</th><th>div23</th><th>i_concentration</th><th>i_sky</th><th>div24</th><th>i_av_ell</th><th>i_av_ell_error</th><th>i_av_pa</th><th>i_av_pa_error</th><th>i_av_A3</th><th>i_av_A3_error</th><th>i_av_A4</th><th>i_av_A4_error</th><th>i_av_B3</th><th>i_av_B3_error</th><th>i_av_B4</th><th>i_av_B4_error</th><th>i_PSF_FWHM</th><th>div25</th><th>z_n_bestfit</th><th>z_n_bestfit_error</th><th>z_Ie_cg</th><th>z_re_cg</th><th>z_mag_cg</th><th>z_avmure_cg</th><th>z_I0_cg</th><th>div26</th><th>z_Ie_bestfit</th><th>z_Ie_bestfit_error</th><th>z_re_bestfit</th><th>z_re_bestfit_error</th><th>z_mag_bestfit</th><th>z_mag_bestfit_error</th><th>z_avmure_bestfit</th><th>z_avmure_bestfit_error</th><th>div27</th><th>z_Ie_inner</th><th>z_Ie_inner_error</th><th>z_n_inner</th><th>z_n_inner_error</th><th>z_re_inner</th><th>z_re_inner_error</th><th>z_mag_inner</th><th>z_mag_inner_error</th><th>z_avmure_inner</th><th>z_avmure_inner_error</th><th>div28</th><th>z_Ie_outer</th><th>z_Ie_outer_error</th><th>z_n_outer</th><th>z_n_outer_error</th><th>z_re_outer</th><th>z_re_outer_error</th><th>z_mag_outer</th><th>z_mag_outer_error</th><th>z_avmure_outer</th><th>z_avmure_outer_error</th><th>div29</th><th>z_concentration</th><th>z_sky</th><th>div30</th><th>z_av_ell</th><th>z_av_ell_error</th><th>z_av_pa</th><th>z_av_pa_error</th><th>z_av_A3</th><th>z_av_A3_error</th><th>z_av_A4</th><th>z_av_A4_error</th><th>z_av_B3</th><th>z_av_B3_error</th><th>z_av_B4</th><th>z_av_B4_error</th><th>z_PSF_FWHM</th><th>div31</th><th>U(REFF)</th><th>G(REFF)</th><th>R(REFF)</th><th>I(REFF)</th><th>Z(REFF)</th><th>div32</th><th>g_mu(1arcsec)</th><th>g_mu(2arcsec)</th><th>g_mu(3arcsec)</th><th>g_mu(4arcsec)</th><th>g_mu(5arcsec)</th><th>div33</th><th>u_mu(1arcsec)</th><th>u_mu(2arcsec)</th><th>u_mu(3arcsec)</th><th>u_mu(4arcsec)</th><th>u_mu(5arcsec)</th><th>div34</th><th>r_mu(1arcsec)</th><th>r_mu(2arcsec)</th><th>r_mu(3arcsec)</th><th>r_mu(4arcsec)</th><th>r_mu(5arcsec)</th><th>div35</th><th>i_mu(1arcsec)</th><th>i_mu(2arcsec)</th><th>i_mu(3arcsec)</th><th>i_mu(4arcsec)</th><th>i_mu(5arcsec)</th><th>div36</th><th>z_mu(1arcsec)</th><th>z_mu(2arcsec)</th><th>z_mu(3arcsec)</th><th>z_mu(4arcsec)</th><th>z_mu(5arcsec)</th><th>div37</th><th>E(B-V)</th><th>RA_deg</th><th>RA_hms</th><th>DEC_deg</th><th>DEC_dms</th><th>d_M87</th><th>d_m49</th><th>Best_fit</th><th>Class</th><th>Name2</th><th>VCC</th><th>TH</th><th>z_spec</th><th>Name3</th><th>Type</th><th>Nucleus</th><th>NewName</th></tr></thead>\n",
       "<thead><tr><th>str31</th><th>str2</th><th>float64</th><th>float64</th><th>float64</th><th>float64</th><th>float64</th><th>float64</th><th>float64</th><th>str1</th><th>float64</th><th>float64</th><th>float64</th><th>float64</th><th>float64</th><th>float64</th><th>float64</th><th>float64</th><th>str1</th><th>float64</th><th>float64</th><th>float64</th><th>float64</th><th>float64</th><th>float64</th><th>float64</th><th>float64</th><th>float64</th><th>float64</th><th>str1</th><th>float64</th><th>float64</th><th>float64</th><th>float64</th><th>float64</th><th>float64</th><th>float64</th><th>float64</th><th>float64</th><th>float64</th><th>str1</th><th>float64</th><th>float64</th><th>str1</th><th>float64</th><th>float64</th><th>float64</th><th>float64</th><th>float64</th><th>float64</th><th>float64</th><th>float64</th><th>float64</th><th>float64</th><th>float64</th><th>float64</th><th>float64</th><th>str2</th><th>float64</th><th>float64</th><th>float64</th><th>float64</th><th>float64</th><th>float64</th><th>float64</th><th>str1</th><th>float64</th><th>float64</th><th>float64</th><th>float64</th><th>float64</th><th>float64</th><th>float64</th><th>float64</th><th>str1</th><th>float64</th><th>float64</th><th>float64</th><th>float64</th><th>float64</th><th>float64</th><th>float64</th><th>float64</th><th>float64</th><th>float64</th><th>str1</th><th>float64</th><th>float64</th><th>float64</th><th>float64</th><th>float64</th><th>float64</th><th>float64</th><th>float64</th><th>float64</th><th>float64</th><th>str1</th><th>float64</th><th>float64</th><th>str1</th><th>float64</th><th>float64</th><th>float64</th><th>float64</th><th>float64</th><th>float64</th><th>float64</th><th>float64</th><th>float64</th><th>float64</th><th>float64</th><th>float64</th><th>float64</th><th>str2</th><th>float64</th><th>float64</th><th>float64</th><th>float64</th><th>float64</th><th>float64</th><th>float64</th><th>str1</th><th>float64</th><th>float64</th><th>float64</th><th>float64</th><th>float64</th><th>float64</th><th>float64</th><th>float64</th><th>str1</th><th>float64</th><th>float64</th><th>float64</th><th>float64</th><th>float64</th><th>float64</th><th>float64</th><th>float64</th><th>float64</th><th>float64</th><th>str1</th><th>float64</th><th>float64</th><th>float64</th><th>float64</th><th>float64</th><th>float64</th><th>float64</th><th>float64</th><th>float64</th><th>float64</th><th>str1</th><th>float64</th><th>float64</th><th>str1</th><th>float64</th><th>float64</th><th>float64</th><th>float64</th><th>float64</th><th>float64</th><th>float64</th><th>float64</th><th>float64</th><th>float64</th><th>float64</th><th>float64</th><th>float64</th><th>str2</th><th>float64</th><th>float64</th><th>float64</th><th>float64</th><th>float64</th><th>float64</th><th>float64</th><th>str1</th><th>float64</th><th>float64</th><th>float64</th><th>float64</th><th>float64</th><th>float64</th><th>float64</th><th>float64</th><th>str1</th><th>float64</th><th>float64</th><th>float64</th><th>float64</th><th>float64</th><th>float64</th><th>float64</th><th>float64</th><th>float64</th><th>float64</th><th>str1</th><th>float64</th><th>float64</th><th>float64</th><th>float64</th><th>float64</th><th>float64</th><th>float64</th><th>float64</th><th>float64</th><th>float64</th><th>str1</th><th>float64</th><th>float64</th><th>str1</th><th>float64</th><th>float64</th><th>float64</th><th>float64</th><th>float64</th><th>float64</th><th>float64</th><th>float64</th><th>float64</th><th>float64</th><th>float64</th><th>float64</th><th>float64</th><th>str2</th><th>float64</th><th>float64</th><th>float64</th><th>float64</th><th>float64</th><th>float64</th><th>float64</th><th>str1</th><th>float64</th><th>float64</th><th>float64</th><th>float64</th><th>float64</th><th>float64</th><th>float64</th><th>float64</th><th>str1</th><th>float64</th><th>float64</th><th>float64</th><th>float64</th><th>float64</th><th>float64</th><th>float64</th><th>float64</th><th>float64</th><th>float64</th><th>str1</th><th>float64</th><th>float64</th><th>float64</th><th>float64</th><th>float64</th><th>float64</th><th>float64</th><th>float64</th><th>float64</th><th>float64</th><th>str1</th><th>float64</th><th>float64</th><th>str1</th><th>float64</th><th>float64</th><th>float64</th><th>float64</th><th>float64</th><th>float64</th><th>float64</th><th>float64</th><th>float64</th><th>float64</th><th>float64</th><th>float64</th><th>float64</th><th>str2</th><th>float64</th><th>float64</th><th>float64</th><th>float64</th><th>float64</th><th>str2</th><th>int64</th><th>int64</th><th>int64</th><th>int64</th><th>int64</th><th>str2</th><th>int64</th><th>int64</th><th>int64</th><th>int64</th><th>int64</th><th>str2</th><th>int64</th><th>int64</th><th>int64</th><th>int64</th><th>int64</th><th>str2</th><th>int64</th><th>int64</th><th>int64</th><th>int64</th><th>int64</th><th>str2</th><th>int64</th><th>int64</th><th>int64</th><th>int64</th><th>int64</th><th>str2</th><th>float64</th><th>float64</th><th>str11</th><th>float64</th><th>str11</th><th>float64</th><th>float64</th><th>str1</th><th>int64</th><th>str31</th><th>int64</th><th>str3</th><th>float64</th><th>str31</th><th>str3</th><th>str2</th><th>str27</th></tr></thead>\n",
       "<tr><td>NGVS187.05132+10.297634_VCC1075</td><td>||</td><td>1.35</td><td>0.003</td><td>23.975</td><td>18.595</td><td>14.637</td><td>22.979</td><td>20.513</td><td>|</td><td>23.655</td><td>0.0499</td><td>16.484</td><td>0.089</td><td>14.729</td><td>0.005</td><td>22.809</td><td>0.013</td><td>|</td><td>17.374</td><td>16.6524</td><td>2.0</td><td>0.0</td><td>0.05</td><td>0.0</td><td>20.848</td><td>0.003</td><td>16.339</td><td>0.003</td><td>|</td><td>23.659</td><td>0.0497</td><td>1.35</td><td>0.003</td><td>16.519</td><td>0.032</td><td>14.732</td><td>0.005</td><td>22.818</td><td>0.007</td><td>|</td><td>5.253</td><td>0.08</td><td>|</td><td>0.2622</td><td>0.0891</td><td>26.45</td><td>3.26</td><td>0.00305</td><td>0.00661</td><td>-0.00051</td><td>0.00477</td><td>0.00323</td><td>0.00544</td><td>0.00498</td><td>0.00787</td><td>0.921</td><td>||</td><td>1.342</td><td>0.006</td><td>25.209</td><td>18.469</td><td>15.9</td><td>24.228</td><td>21.811</td><td>|</td><td>24.893</td><td>0.0365</td><td>16.1</td><td>0.212</td><td>16.02</td><td>0.013</td><td>24.05</td><td>0.031</td><td>|</td><td>18.716</td><td>6.506</td><td>2.0</td><td>0.0</td><td>0.05</td><td>0.0</td><td>22.19</td><td>0.004</td><td>17.68</td><td>0.004</td><td>|</td><td>24.896</td><td>0.0364</td><td>1.342</td><td>0.006</td><td>16.131</td><td>0.076</td><td>16.024</td><td>0.013</td><td>24.058</td><td>0.017</td><td>|</td><td>5.253</td><td>-0.045</td><td>|</td><td>0.2631</td><td>0.0933</td><td>27.77</td><td>7.42</td><td>0.00499</td><td>0.01164</td><td>-0.00188</td><td>0.01046</td><td>-0.00267</td><td>0.00889</td><td>0.0122</td><td>0.01588</td><td>0.901</td><td>||</td><td>-100.0</td><td>0.006</td><td>-100.0</td><td>-100.0</td><td>-100.0</td><td>-100.0</td><td>-100.0</td><td>|</td><td>-100.0</td><td>0.0365</td><td>-100.0</td><td>0.212</td><td>-100.0</td><td>0.013</td><td>-100.0</td><td>0.031</td><td>|</td><td>-100.0</td><td>0.0</td><td>-100.0</td><td>0.0</td><td>-100.0</td><td>0.0</td><td>-100.0</td><td>0.0</td><td>-100.0</td><td>0.0</td><td>|</td><td>-100.0</td><td>0.0</td><td>-100.0</td><td>0.0</td><td>-100.0</td><td>0.0</td><td>-100.0</td><td>0.0</td><td>-100.0</td><td>0.0</td><td>|</td><td>-100.0</td><td>-100.0</td><td>|</td><td>-100.0</td><td>-100.0</td><td>-100.0</td><td>-100.0</td><td>-100.0</td><td>-100.0</td><td>-100.0</td><td>-100.0</td><td>-100.0</td><td>-100.0</td><td>-100.0</td><td>-100.0</td><td>-100.0</td><td>||</td><td>1.332</td><td>0.003</td><td>22.831</td><td>16.385</td><td>13.832</td><td>21.9</td><td>19.36</td><td>|</td><td>22.677</td><td>0.1824</td><td>15.733</td><td>0.12</td><td>13.859</td><td>0.008</td><td>21.839</td><td>0.018</td><td>|</td><td>16.782</td><td>52.352</td><td>2.0</td><td>0.0</td><td>0.05</td><td>0.0</td><td>20.256</td><td>0.005</td><td>15.746</td><td>0.005</td><td>|</td><td>22.679</td><td>0.182</td><td>1.332</td><td>0.003</td><td>15.752</td><td>0.043</td><td>13.862</td><td>0.008</td><td>21.844</td><td>0.01</td><td>|</td><td>4.734</td><td>-0.1</td><td>|</td><td>0.2778</td><td>0.0667</td><td>23.83</td><td>3.47</td><td>0.00581</td><td>0.0136</td><td>-0.00367</td><td>0.01561</td><td>0.01333</td><td>0.01509</td><td>0.0073</td><td>0.016</td><td>0.59</td><td>||</td><td>1.314</td><td>0.004</td><td>22.852</td><td>18.3</td><td>13.554</td><td>21.862</td><td>19.325</td><td>|</td><td>22.482</td><td>0.284</td><td>15.729</td><td>0.157</td><td>13.672</td><td>0.01</td><td>21.651</td><td>0.024</td><td>|</td><td>16.548</td><td>54.641</td><td>2.0</td><td>0.0</td><td>0.05</td><td>0.0</td><td>20.022</td><td>0.004</td><td>15.512</td><td>0.004</td><td>|</td><td>22.485</td><td>0.2833</td><td>1.314</td><td>0.004</td><td>15.748</td><td>0.057</td><td>13.675</td><td>0.01</td><td>21.656</td><td>0.013</td><td>|</td><td>5.334</td><td>1.004</td><td>|</td><td>0.2742</td><td>0.0655</td><td>24.54</td><td>3.85</td><td>0.00426</td><td>0.01515</td><td>-0.00622</td><td>0.01981</td><td>0.01053</td><td>0.01411</td><td>0.01127</td><td>0.01522</td><td>0.708</td><td>||</td><td>16.64588341</td><td>15.388782301</td><td>-100.0</td><td>14.4719253704</td><td>14.292298529</td><td>||</td><td>-100</td><td>-100</td><td>-100</td><td>-100</td><td>-100</td><td>||</td><td>-100</td><td>-100</td><td>-100</td><td>-100</td><td>-100</td><td>||</td><td>-100</td><td>-100</td><td>-100</td><td>-100</td><td>-100</td><td>||</td><td>-100</td><td>-100</td><td>-100</td><td>-100</td><td>-100</td><td>||</td><td>-100</td><td>-100</td><td>-100</td><td>-100</td><td>-100</td><td>||</td><td>0.02725</td><td>187.0513119</td><td>12:28:12.31</td><td>10.2976486</td><td>+10:17:51.5</td><td>2.1896411</td><td>2.3297921</td><td>D</td><td>0</td><td>NGVS187.05132+10.297634_VCC1075</td><td>1075</td><td>N/A</td><td>0.00615</td><td>NGVS187.05132+10.297634_VCC1075</td><td>E</td><td>1</td><td>NGVSJ12:28:12.31+10:17:51.5</td></tr>\n",
       "<tr><td>NGVS187.05348+10.526044_VCC1076</td><td>||</td><td>0.875</td><td>0.007</td><td>25.308</td><td>14.151</td><td>16.849</td><td>24.598</td><td>21.199</td><td>|</td><td>25.253</td><td>0.0303</td><td>13.86</td><td>0.191</td><td>16.876</td><td>0.016</td><td>24.581</td><td>0.016</td><td>|</td><td>17.613</td><td>10.5011</td><td>2.0</td><td>0.0</td><td>0.054</td><td>0.0</td><td>20.908</td><td>0.003</td><td>16.577</td><td>0.004</td><td>|</td><td>25.284</td><td>0.0294</td><td>0.875</td><td>0.007</td><td>14.109</td><td>0.073</td><td>16.903</td><td>0.017</td><td>24.646</td><td>0.02</td><td>|</td><td>3.728</td><td>0.107</td><td>|</td><td>0.059</td><td>0.0393</td><td>9.12</td><td>59.87</td><td>0.00386</td><td>0.01517</td><td>0.00836</td><td>0.02626</td><td>0.00376</td><td>0.02859</td><td>-0.00477</td><td>0.01617</td><td>0.936</td><td>||</td><td>0.918</td><td>0.031</td><td>26.461</td><td>14.597</td><td>17.915</td><td>25.732</td><td>22.403</td><td>|</td><td>26.366</td><td>0.0356</td><td>13.769</td><td>0.685</td><td>17.981</td><td>0.057</td><td>25.671</td><td>0.057</td><td>|</td><td>20.625</td><td>57.1993</td><td>2.0</td><td>0.0</td><td>0.133</td><td>0.015</td><td>21.983</td><td>0.318</td><td>19.59</td><td>0.398</td><td>|</td><td>26.4</td><td>0.0345</td><td>0.918</td><td>0.031</td><td>14.037</td><td>0.226</td><td>18.008</td><td>0.058</td><td>25.74</td><td>0.067</td><td>|</td><td>3.905</td><td>0.04</td><td>|</td><td>0.059</td><td>0.0</td><td>9.12</td><td>0.0</td><td>0.0</td><td>0.0</td><td>0.0</td><td>0.0</td><td>0.0</td><td>0.0</td><td>0.0</td><td>0.0</td><td>0.916</td><td>||</td><td>-100.0</td><td>0.031</td><td>-100.0</td><td>-100.0</td><td>-100.0</td><td>-100.0</td><td>-100.0</td><td>|</td><td>-100.0</td><td>0.0356</td><td>-100.0</td><td>0.685</td><td>-100.0</td><td>0.057</td><td>-100.0</td><td>0.057</td><td>|</td><td>-100.0</td><td>0.0</td><td>-100.0</td><td>0.0</td><td>-100.0</td><td>0.0</td><td>-100.0</td><td>0.0</td><td>-100.0</td><td>0.0</td><td>|</td><td>-100.0</td><td>0.0</td><td>-100.0</td><td>0.0</td><td>-100.0</td><td>0.0</td><td>-100.0</td><td>0.0</td><td>-100.0</td><td>0.0</td><td>|</td><td>-100.0</td><td>-100.0</td><td>|</td><td>-100.0</td><td>-100.0</td><td>-100.0</td><td>-100.0</td><td>-100.0</td><td>-100.0</td><td>-100.0</td><td>-100.0</td><td>-100.0</td><td>-100.0</td><td>-100.0</td><td>-100.0</td><td>-100.0</td><td>||</td><td>0.943</td><td>0.013</td><td>24.402</td><td>13.408</td><td>16.109</td><td>23.741</td><td>20.024</td><td>|</td><td>24.457</td><td>0.1197</td><td>13.59</td><td>0.347</td><td>16.093</td><td>0.029</td><td>23.754</td><td>0.029</td><td>|</td><td>18.192</td><td>163.6674</td><td>2.0</td><td>0.0</td><td>0.095</td><td>0.003</td><td>20.263</td><td>0.083</td><td>17.156</td><td>0.104</td><td>|</td><td>24.486</td><td>0.1164</td><td>0.943</td><td>0.013</td><td>13.814</td><td>0.128</td><td>16.116</td><td>0.03</td><td>23.813</td><td>0.036</td><td>|</td><td>3.58</td><td>0.275</td><td>|</td><td>0.1034</td><td>0.0861</td><td>-2.07</td><td>61.2</td><td>0.01587</td><td>0.03586</td><td>0.00145</td><td>0.02803</td><td>-0.00183</td><td>0.0408</td><td>0.0024</td><td>0.02439</td><td>0.601</td><td>||</td><td>0.955</td><td>0.018</td><td>24.261</td><td>12.47</td><td>16.111</td><td>23.585</td><td>20.084</td><td>|</td><td>24.316</td><td>0.2014</td><td>12.607</td><td>0.471</td><td>16.105</td><td>0.042</td><td>23.604</td><td>0.042</td><td>|</td><td>17.564</td><td>176.5927</td><td>2.0</td><td>0.0</td><td>0.076</td><td>0.001</td><td>20.143</td><td>0.049</td><td>16.528</td><td>0.06</td><td>|</td><td>24.351</td><td>0.1949</td><td>0.955</td><td>0.018</td><td>12.853</td><td>0.178</td><td>16.132</td><td>0.043</td><td>23.672</td><td>0.052</td><td>|</td><td>3.596</td><td>0.505</td><td>|</td><td>0.0852</td><td>0.0452</td><td>1.0</td><td>60.92</td><td>0.01422</td><td>0.03659</td><td>0.02049</td><td>0.02954</td><td>-0.00698</td><td>0.02785</td><td>-0.0006</td><td>0.0284</td><td>0.699</td><td>||</td><td>18.7022246241</td><td>17.60200161</td><td>-100.0</td><td>16.799005521</td><td>16.7192871707</td><td>||</td><td>-100</td><td>-100</td><td>-100</td><td>-100</td><td>-100</td><td>||</td><td>-100</td><td>-100</td><td>-100</td><td>-100</td><td>-100</td><td>||</td><td>-100</td><td>-100</td><td>-100</td><td>-100</td><td>-100</td><td>||</td><td>-100</td><td>-100</td><td>-100</td><td>-100</td><td>-100</td><td>||</td><td>-100</td><td>-100</td><td>-100</td><td>-100</td><td>-100</td><td>||</td><td>0.02939</td><td>187.0534826</td><td>12:28:12.84</td><td>10.5260342</td><td>+10:31:33.7</td><td>1.9716501</td><td>2.5549192</td><td>D</td><td>0</td><td>NGVS187.05348+10.526044_VCC1076</td><td>1076</td><td>N/A</td><td>0.00609</td><td>NGVS187.05348+10.526044_VCC1076</td><td>E</td><td>1</td><td>NGVSJ12:28:12.84+10:31:33.7</td></tr>\n",
       "<tr><td>NGVS187.05012+10.365342_VCC1079</td><td>||</td><td>0.837</td><td>0.009</td><td>25.518</td><td>19.211</td><td>16.395</td><td>24.808</td><td>21.042</td><td>|</td><td>25.419</td><td>0.0372</td><td>18.46</td><td>0.373</td><td>16.447</td><td>0.024</td><td>24.773</td><td>0.024</td><td>|</td><td>17.46</td><td>15.2598</td><td>2.0</td><td>0.0</td><td>0.056</td><td>0.0</td><td>20.7</td><td>0.003</td><td>16.424</td><td>0.004</td><td>|</td><td>25.441</td><td>0.0364</td><td>0.837</td><td>0.009</td><td>18.696</td><td>0.145</td><td>16.469</td><td>0.025</td><td>24.823</td><td>0.03</td><td>|</td><td>3.673</td><td>0.146</td><td>|</td><td>0.1356</td><td>0.0948</td><td>1.15</td><td>58.63</td><td>0.00049</td><td>0.0357</td><td>-0.00179</td><td>0.02342</td><td>0.01168</td><td>0.03479</td><td>0.00393</td><td>0.03284</td><td>0.924</td><td>||</td><td>0.931</td><td>0.0</td><td>26.758</td><td>21.157</td><td>17.416</td><td>26.039</td><td>22.241</td><td>|</td><td>26.753</td><td>0.0003</td><td>21.637</td><td>0.01</td><td>17.389</td><td>0.001</td><td>26.061</td><td>0.001</td><td>|</td><td>21.129</td><td>0.4911</td><td>2.0</td><td>0.0</td><td>0.19</td><td>0.0</td><td>21.699</td><td>0.004</td><td>20.094</td><td>0.005</td><td>|</td><td>26.777</td><td>0.0003</td><td>0.931</td><td>0.0</td><td>21.931</td><td>0.003</td><td>17.41</td><td>0.001</td><td>26.111</td><td>0.001</td><td>|</td><td>3.636</td><td>0.012</td><td>|</td><td>0.1382</td><td>0.0</td><td>1.94</td><td>0.0</td><td>0.0</td><td>0.0</td><td>0.0</td><td>0.0</td><td>0.0</td><td>0.0</td><td>0.0</td><td>0.0</td><td>0.904</td><td>||</td><td>-100.0</td><td>0.0</td><td>-100.0</td><td>-100.0</td><td>-100.0</td><td>-100.0</td><td>-100.0</td><td>|</td><td>-100.0</td><td>0.0003</td><td>-100.0</td><td>0.01</td><td>-100.0</td><td>0.001</td><td>-100.0</td><td>0.001</td><td>|</td><td>-100.0</td><td>0.0</td><td>-100.0</td><td>0.0</td><td>-100.0</td><td>0.0</td><td>-100.0</td><td>0.0</td><td>-100.0</td><td>0.0</td><td>|</td><td>-100.0</td><td>0.0</td><td>-100.0</td><td>0.0</td><td>-100.0</td><td>0.0</td><td>-100.0</td><td>0.0</td><td>-100.0</td><td>0.0</td><td>|</td><td>-100.0</td><td>-100.0</td><td>|</td><td>-100.0</td><td>-100.0</td><td>-100.0</td><td>-100.0</td><td>-100.0</td><td>-100.0</td><td>-100.0</td><td>-100.0</td><td>-100.0</td><td>-100.0</td><td>-100.0</td><td>-100.0</td><td>-100.0</td><td>||</td><td>0.908</td><td>0.017</td><td>24.608</td><td>18.912</td><td>15.521</td><td>23.9</td><td>19.846</td><td>|</td><td>24.594</td><td>0.1435</td><td>19.02</td><td>0.671</td><td>15.526</td><td>0.041</td><td>23.918</td><td>0.041</td><td>|</td><td>18.481</td><td>181.6934</td><td>2.0</td><td>0.0</td><td>0.122</td><td>0.005</td><td>20.016</td><td>0.124</td><td>17.445</td><td>0.154</td><td>|</td><td>24.613</td><td>0.141</td><td>0.908</td><td>0.017</td><td>19.218</td><td>0.254</td><td>15.544</td><td>0.042</td><td>23.958</td><td>0.051</td><td>|</td><td>3.6</td><td>0.09</td><td>|</td><td>0.1327</td><td>0.0</td><td>0.31</td><td>0.0</td><td>0.0</td><td>0.0</td><td>0.0</td><td>0.0</td><td>0.0</td><td>0.0</td><td>0.0</td><td>0.0</td><td>0.593</td><td>||</td><td>0.904</td><td>0.023</td><td>24.403</td><td>17.696</td><td>15.489</td><td>23.723</td><td>20.001</td><td>|</td><td>24.432</td><td>0.221</td><td>17.883</td><td>0.819</td><td>15.498</td><td>0.053</td><td>23.756</td><td>0.053</td><td>|</td><td>18.505</td><td>223.882</td><td>2.0</td><td>0.0</td><td>0.128</td><td>0.007</td><td>19.934</td><td>0.154</td><td>17.469</td><td>0.192</td><td>|</td><td>24.451</td><td>0.2169</td><td>0.904</td><td>0.023</td><td>18.082</td><td>0.303</td><td>15.516</td><td>0.054</td><td>23.798</td><td>0.065</td><td>|</td><td>3.481</td><td>1.05</td><td>|</td><td>0.1327</td><td>0.0</td><td>0.31</td><td>0.0</td><td>0.0</td><td>0.0</td><td>0.0</td><td>0.0</td><td>0.0</td><td>0.0</td><td>0.0</td><td>0.0</td><td>0.705</td><td>||</td><td>18.2793887487</td><td>17.147068565</td><td>-100.0</td><td>16.2552894898</td><td>16.1474548454</td><td>||</td><td>-100</td><td>-100</td><td>-100</td><td>-100</td><td>-100</td><td>||</td><td>-100</td><td>-100</td><td>-100</td><td>-100</td><td>-100</td><td>||</td><td>-100</td><td>-100</td><td>-100</td><td>-100</td><td>-100</td><td>||</td><td>-100</td><td>-100</td><td>-100</td><td>-100</td><td>-100</td><td>||</td><td>-100</td><td>-100</td><td>-100</td><td>-100</td><td>-100</td><td>||</td><td>0.02761</td><td>187.050112</td><td>12:28:12.03</td><td>10.3652855</td><td>+10:21:55.0</td><td>2.1254005</td><td>2.3966945</td><td>D</td><td>0</td><td>NGVS187.05012+10.365342_VCC1079</td><td>1079</td><td>N/A</td><td>0.00489</td><td>NGVS187.05012+10.365342_VCC1079</td><td>E</td><td>1</td><td>NGVSJ12:28:12.03+10:21:55.0</td></tr>\n",
       "<tr><td>NGVS187.98491+11.972695_VCC1396</td><td>||</td><td>0.864</td><td>0.011</td><td>25.504</td><td>14.176</td><td>17.073</td><td>24.827</td><td>22.014</td><td>|</td><td>25.49</td><td>0.0379</td><td>14.429</td><td>0.311</td><td>17.058</td><td>0.026</td><td>24.85</td><td>0.026</td><td>|</td><td>20.069</td><td>60.4059</td><td>2.0</td><td>0.0</td><td>0.08</td><td>0.005</td><td>22.512</td><td>0.192</td><td>19.034</td><td>0.238</td><td>|</td><td>25.492</td><td>0.0378</td><td>0.864</td><td>0.011</td><td>14.442</td><td>0.113</td><td>17.065</td><td>0.026</td><td>24.859</td><td>0.031</td><td>|</td><td>3.374</td><td>0.4</td><td>|</td><td>0.1437</td><td>0.1108</td><td>-3.48</td><td>37.8</td><td>-0.00611</td><td>0.02502</td><td>-0.00861</td><td>0.0482</td><td>0.01557</td><td>0.04196</td><td>0.02199</td><td>0.05124</td><td>0.593</td><td>||</td><td>0.922</td><td>0.031</td><td>26.885</td><td>17.225</td><td>17.966</td><td>26.142</td><td>23.421</td><td>|</td><td>26.723</td><td>0.0344</td><td>15.727</td><td>1.006</td><td>18.075</td><td>0.075</td><td>26.053</td><td>0.075</td><td>|</td><td>21.436</td><td>17.5522</td><td>2.0</td><td>0.0</td><td>0.094</td><td>0.007</td><td>23.54</td><td>0.211</td><td>20.4</td><td>0.262</td><td>|</td><td>26.726</td><td>0.0343</td><td>0.922</td><td>0.031</td><td>15.752</td><td>0.374</td><td>18.082</td><td>0.075</td><td>26.064</td><td>0.091</td><td>|</td><td>4.066</td><td>0.418</td><td>|</td><td>0.1384</td><td>0.0</td><td>-3.34</td><td>0.0</td><td>0.0</td><td>0.0</td><td>0.0</td><td>0.0</td><td>0.0</td><td>0.0</td><td>0.0</td><td>0.0</td><td>0.735</td><td>||</td><td>0.879</td><td>0.008</td><td>24.969</td><td>15.163</td><td>16.393</td><td>24.293</td><td>21.804</td><td>|</td><td>24.947</td><td>0.0526</td><td>15.193</td><td>0.274</td><td>16.397</td><td>0.022</td><td>24.3</td><td>0.022</td><td>|</td><td>19.699</td><td>23.714</td><td>2.0</td><td>0.0</td><td>0.085</td><td>0.002</td><td>22.025</td><td>0.053</td><td>18.663</td><td>0.065</td><td>|</td><td>24.947</td><td>0.0525</td><td>0.879</td><td>0.008</td><td>15.197</td><td>0.106</td><td>16.403</td><td>0.022</td><td>24.307</td><td>0.026</td><td>|</td><td>3.475</td><td>-0.05</td><td>|</td><td>0.1199</td><td>0.1125</td><td>-13.88</td><td>60.53</td><td>-0.00884</td><td>0.04121</td><td>0.00635</td><td>0.05843</td><td>0.02228</td><td>0.06522</td><td>0.01304</td><td>0.04178</td><td>0.705</td><td>||</td><td>0.886</td><td>0.014</td><td>24.676</td><td>14.906</td><td>16.125</td><td>23.987</td><td>21.036</td><td>|</td><td>24.638</td><td>0.117</td><td>14.828</td><td>0.428</td><td>16.137</td><td>0.034</td><td>23.988</td><td>0.034</td><td>|</td><td>18.474</td><td>183.3742</td><td>2.0</td><td>0.0</td><td>0.054</td><td>0.002</td><td>21.779</td><td>0.122</td><td>17.439</td><td>0.15</td><td>|</td><td>24.638</td><td>0.1169</td><td>0.886</td><td>0.014</td><td>14.832</td><td>0.158</td><td>16.143</td><td>0.035</td><td>23.994</td><td>0.042</td><td>|</td><td>3.52</td><td>0.755</td><td>|</td><td>0.1437</td><td>0.0</td><td>-3.48</td><td>0.0</td><td>0.0</td><td>0.0</td><td>0.0</td><td>0.0</td><td>0.0</td><td>0.0</td><td>0.0</td><td>0.0</td><td>0.507</td><td>||</td><td>0.884</td><td>0.015</td><td>24.592</td><td>15.397</td><td>15.912</td><td>23.844</td><td>21.684</td><td>|</td><td>24.436</td><td>0.1655</td><td>14.531</td><td>0.513</td><td>15.98</td><td>0.042</td><td>23.787</td><td>0.042</td><td>|</td><td>18.537</td><td>65.5412</td><td>2.0</td><td>0.0</td><td>0.058</td><td>0.001</td><td>21.701</td><td>0.046</td><td>17.501</td><td>0.057</td><td>|</td><td>24.436</td><td>0.1656</td><td>0.884</td><td>0.015</td><td>14.529</td><td>0.204</td><td>15.986</td><td>0.042</td><td>23.792</td><td>0.052</td><td>|</td><td>3.712</td><td>2.075</td><td>|</td><td>0.152</td><td>0.0551</td><td>-14.33</td><td>41.62</td><td>0.01427</td><td>0.04399</td><td>-0.00203</td><td>0.03236</td><td>0.01371</td><td>0.10023</td><td>-0.00749</td><td>0.03286</td><td>0.925</td><td>||</td><td>18.9522212495</td><td>17.82609793</td><td>17.2266759929</td><td>16.9368399108</td><td>16.7552806143</td><td>||</td><td>-100</td><td>-100</td><td>-100</td><td>-100</td><td>-100</td><td>||</td><td>-100</td><td>-100</td><td>-100</td><td>-100</td><td>-100</td><td>||</td><td>-100</td><td>-100</td><td>-100</td><td>-100</td><td>-100</td><td>||</td><td>-100</td><td>-100</td><td>-100</td><td>-100</td><td>-100</td><td>||</td><td>-100</td><td>-100</td><td>-100</td><td>-100</td><td>-100</td><td>||</td><td>0.02872</td><td>187.9850009</td><td>12:31:56.40</td><td>11.9726776</td><td>+11:58:21.6</td><td>0.4995085</td><td>4.0076503</td><td>D</td><td>0</td><td>NGVS187.98491+11.972695_VCC1396</td><td>1396</td><td>N/A</td><td>0.00365</td><td>NGVS187.98491+11.972695_VCC1396</td><td>E</td><td>1</td><td>NGVSJ12:31:56.40+11:58:21.6</td></tr>\n",
       "<tr><td>NGVS188.01143+11.890078_VCC1407</td><td>||</td><td>1.58</td><td>0.003</td><td>23.252</td><td>12.636</td><td>14.684</td><td>22.188</td><td>19.482</td><td>|</td><td>23.046</td><td>0.0854</td><td>11.919</td><td>0.163</td><td>14.744</td><td>0.013</td><td>22.12</td><td>0.032</td><td>|</td><td>18.6</td><td>224.3717</td><td>0.21</td><td>0.183</td><td>0.156</td><td>0.024</td><td>20.34</td><td>2.028</td><td>18.299</td><td>2.056</td><td>|</td><td>23.057</td><td>0.0845</td><td>1.58</td><td>0.003</td><td>11.987</td><td>0.02</td><td>14.75</td><td>0.005</td><td>22.139</td><td>0.006</td><td>|</td><td>5.784</td><td>0.4</td><td>|</td><td>0.1292</td><td>0.0299</td><td>-32.41</td><td>6.8</td><td>0.0017</td><td>0.00445</td><td>-0.00021</td><td>0.00452</td><td>9e-05</td><td>0.00405</td><td>-0.00038</td><td>0.00501</td><td>0.596</td><td>||</td><td>1.507</td><td>0.006</td><td>24.441</td><td>12.823</td><td>15.873</td><td>23.408</td><td>20.899</td><td>|</td><td>24.213</td><td>0.0622</td><td>11.801</td><td>0.141</td><td>15.954</td><td>0.011</td><td>23.309</td><td>0.028</td><td>|</td><td>20.271</td><td>19.8761</td><td>0.547</td><td>0.174</td><td>0.193</td><td>0.008</td><td>21.406</td><td>0.346</td><td>19.83</td><td>0.358</td><td>|</td><td>24.225</td><td>0.0615</td><td>1.507</td><td>0.006</td><td>11.875</td><td>0.046</td><td>15.962</td><td>0.011</td><td>23.33</td><td>0.014</td><td>|</td><td>5.445</td><td>0.34</td><td>|</td><td>0.1157</td><td>0.0403</td><td>-32.88</td><td>14.36</td><td>0.00141</td><td>0.00702</td><td>0.00156</td><td>0.00683</td><td>-0.00075</td><td>0.00673</td><td>-0.00225</td><td>0.00872</td><td>0.738</td><td>||</td><td>1.497</td><td>0.003</td><td>22.415</td><td>11.097</td><td>14.214</td><td>21.436</td><td>19.106</td><td>|</td><td>22.338</td><td>0.1711</td><td>11.079</td><td>0.057</td><td>14.221</td><td>0.005</td><td>21.439</td><td>0.012</td><td>|</td><td>17.998</td><td>296.0508</td><td>2.0</td><td>0.0</td><td>0.11</td><td>0.005</td><td>19.769</td><td>0.127</td><td>16.962</td><td>0.159</td><td>|</td><td>22.349</td><td>0.1693</td><td>1.497</td><td>0.003</td><td>11.142</td><td>0.018</td><td>14.227</td><td>0.005</td><td>21.458</td><td>0.006</td><td>|</td><td>5.087</td><td>0.07</td><td>|</td><td>0.1186</td><td>0.0386</td><td>-30.04</td><td>4.68</td><td>0.00071</td><td>0.00409</td><td>-0.00073</td><td>0.00381</td><td>-0.00043</td><td>0.00359</td><td>-0.00193</td><td>0.00506</td><td>0.705</td><td>||</td><td>1.568</td><td>0.004</td><td>22.275</td><td>12.195</td><td>13.791</td><td>21.218</td><td>18.485</td><td>|</td><td>22.085</td><td>0.2716</td><td>11.582</td><td>0.077</td><td>13.849</td><td>0.006</td><td>21.163</td><td>0.016</td><td>|</td><td>17.623</td><td>179.7553</td><td>0.21</td><td>0.022</td><td>0.146</td><td>0.005</td><td>19.51</td><td>0.254</td><td>17.322</td><td>0.263</td><td>|</td><td>22.095</td><td>0.2689</td><td>1.568</td><td>0.004</td><td>11.643</td><td>0.024</td><td>13.855</td><td>0.006</td><td>21.181</td><td>0.008</td><td>|</td><td>5.726</td><td>0.6</td><td>|</td><td>0.1272</td><td>0.0367</td><td>-28.78</td><td>4.81</td><td>-0.0012</td><td>0.0073</td><td>0.00012</td><td>0.00902</td><td>-0.00024</td><td>0.00293</td><td>-0.00359</td><td>0.00794</td><td>0.51</td><td>||</td><td>1.416</td><td>0.003</td><td>21.939</td><td>11.327</td><td>13.665</td><td>20.931</td><td>18.802</td><td>|</td><td>21.695</td><td>0.3652</td><td>10.393</td><td>0.063</td><td>13.743</td><td>0.006</td><td>20.823</td><td>0.014</td><td>|</td><td>17.553</td><td>105.1425</td><td>2.0</td><td>0.0</td><td>0.111</td><td>0.001</td><td>19.302</td><td>0.029</td><td>16.517</td><td>0.036</td><td>|</td><td>21.705</td><td>0.3617</td><td>1.416</td><td>0.003</td><td>10.447</td><td>0.022</td><td>13.75</td><td>0.006</td><td>20.84</td><td>0.008</td><td>|</td><td>5.289</td><td>2.25</td><td>|</td><td>0.1162</td><td>0.0454</td><td>-27.74</td><td>5.53</td><td>0.00195</td><td>0.00523</td><td>0.00046</td><td>0.00486</td><td>-0.00108</td><td>0.00398</td><td>-0.00264</td><td>0.00589</td><td>0.927</td><td>||</td><td>16.6375641902</td><td>15.436710322</td><td>14.8562028659</td><td>14.5145259491</td><td>14.3264824437</td><td>||</td><td>-100</td><td>-100</td><td>-100</td><td>-100</td><td>-100</td><td>||</td><td>-100</td><td>-100</td><td>-100</td><td>-100</td><td>-100</td><td>||</td><td>-100</td><td>-100</td><td>-100</td><td>-100</td><td>-100</td><td>||</td><td>-100</td><td>-100</td><td>-100</td><td>-100</td><td>-100</td><td>||</td><td>-100</td><td>-100</td><td>-100</td><td>-100</td><td>-100</td><td>||</td><td>0.03258</td><td>188.0114084</td><td>12:32:02.74</td><td>11.8900799</td><td>+11:53:24.3</td><td>0.5832949</td><td>3.9294164</td><td>D</td><td>0</td><td>NGVS188.01143+11.890078_VCC1407</td><td>1407</td><td>N/A</td><td>0.00339</td><td>NGVS188.01143+11.890078_VCC1407</td><td>E</td><td>1</td><td>NGVSJ12:32:02.74+11:53:24.3</td></tr>\n",
       "<tr><td>NGVS188.05104+12.061516_VCC1420</td><td>||</td><td>1.153</td><td>0.004</td><td>24.056</td><td>10.178</td><td>16.09</td><td>23.124</td><td>20.385</td><td>|</td><td>23.834</td><td>0.0675</td><td>9.478</td><td>0.075</td><td>16.175</td><td>0.008</td><td>23.054</td><td>0.008</td><td>|</td><td>17.626</td><td>14.9514</td><td>2.0</td><td>0.0</td><td>0.05</td><td>0.0</td><td>21.1</td><td>0.003</td><td>16.59</td><td>0.003</td><td>|</td><td>23.849</td><td>0.0665</td><td>1.153</td><td>0.004</td><td>9.558</td><td>0.026</td><td>16.186</td><td>0.008</td><td>23.084</td><td>0.01</td><td>|</td><td>4.713</td><td>0.35</td><td>|</td><td>0.2367</td><td>0.0205</td><td>-73.65</td><td>2.62</td><td>-0.00199</td><td>0.00961</td><td>-0.0065</td><td>0.00651</td><td>-0.00193</td><td>0.00903</td><td>0.00885</td><td>0.01266</td><td>0.594</td><td>||</td><td>1.126</td><td>0.009</td><td>25.238</td><td>10.512</td><td>17.234</td><td>24.338</td><td>21.824</td><td>|</td><td>25.034</td><td>0.0466</td><td>9.796</td><td>0.174</td><td>17.314</td><td>0.019</td><td>24.265</td><td>0.019</td><td>|</td><td>18.728</td><td>6.4607</td><td>2.0</td><td>0.0</td><td>0.05</td><td>0.0</td><td>22.202</td><td>0.004</td><td>17.692</td><td>0.004</td><td>|</td><td>25.05</td><td>0.0459</td><td>1.126</td><td>0.009</td><td>9.88</td><td>0.064</td><td>17.326</td><td>0.019</td><td>24.295</td><td>0.024</td><td>|</td><td>4.541</td><td>0.27</td><td>|</td><td>0.2257</td><td>0.0344</td><td>-73.24</td><td>5.56</td><td>-0.0044</td><td>0.02235</td><td>-0.00911</td><td>0.015</td><td>-0.00079</td><td>0.01871</td><td>0.00605</td><td>0.0185</td><td>0.735</td><td>||</td><td>1.108</td><td>0.004</td><td>23.428</td><td>9.644</td><td>15.601</td><td>22.518</td><td>20.163</td><td>|</td><td>23.206</td><td>0.1137</td><td>8.99</td><td>0.066</td><td>15.68</td><td>0.008</td><td>22.445</td><td>0.008</td><td>|</td><td>17.168</td><td>20.5587</td><td>2.0</td><td>0.0</td><td>0.05</td><td>0.0</td><td>20.642</td><td>0.003</td><td>16.132</td><td>0.003</td><td>|</td><td>23.22</td><td>0.1121</td><td>1.108</td><td>0.004</td><td>9.059</td><td>0.024</td><td>15.692</td><td>0.008</td><td>22.473</td><td>0.01</td><td>|</td><td>4.613</td><td>0.16</td><td>|</td><td>0.2183</td><td>0.039</td><td>-74.67</td><td>4.35</td><td>-0.00389</td><td>0.01143</td><td>-0.00569</td><td>0.00606</td><td>-0.00259</td><td>0.00922</td><td>0.00451</td><td>0.00796</td><td>0.707</td><td>||</td><td>1.144</td><td>0.006</td><td>23.31</td><td>10.678</td><td>15.156</td><td>22.294</td><td>19.393</td><td>|</td><td>22.894</td><td>0.2351</td><td>9.132</td><td>0.102</td><td>15.32</td><td>0.012</td><td>22.118</td><td>0.012</td><td>|</td><td>16.808</td><td>53.6849</td><td>2.0</td><td>0.0</td><td>0.05</td><td>0.0</td><td>20.282</td><td>0.005</td><td>15.772</td><td>0.005</td><td>|</td><td>22.909</td><td>0.2318</td><td>1.144</td><td>0.006</td><td>9.205</td><td>0.037</td><td>15.331</td><td>0.012</td><td>22.147</td><td>0.015</td><td>|</td><td>5.361</td><td>0.735</td><td>|</td><td>0.2563</td><td>0.0203</td><td>-74.98</td><td>5.8</td><td>-0.00766</td><td>0.01862</td><td>-0.00304</td><td>0.0082</td><td>0.00044</td><td>0.02824</td><td>0.00781</td><td>0.01623</td><td>0.51</td><td>||</td><td>1.028</td><td>0.006</td><td>22.797</td><td>8.946</td><td>15.16</td><td>21.913</td><td>19.946</td><td>|</td><td>22.551</td><td>0.3508</td><td>8.247</td><td>0.099</td><td>15.248</td><td>0.013</td><td>21.825</td><td>0.013</td><td>|</td><td>16.72</td><td>44.5614</td><td>2.0</td><td>0.0</td><td>0.05</td><td>0.0</td><td>20.193</td><td>0.004</td><td>15.684</td><td>0.004</td><td>|</td><td>22.564</td><td>0.3466</td><td>1.028</td><td>0.006</td><td>8.304</td><td>0.037</td><td>15.26</td><td>0.014</td><td>21.852</td><td>0.017</td><td>|</td><td>4.37</td><td>2.032</td><td>|</td><td>0.2124</td><td>0.0446</td><td>-74.28</td><td>6.57</td><td>-0.01093</td><td>0.01791</td><td>-0.00741</td><td>0.01235</td><td>0.00481</td><td>0.01546</td><td>0.0037</td><td>0.01796</td><td>0.918</td><td>||</td><td>18.0176615392</td><td>16.8423935155</td><td>16.3044824514</td><td>15.9501500754</td><td>15.7928040077</td><td>||</td><td>-100</td><td>-100</td><td>-100</td><td>-100</td><td>-100</td><td>||</td><td>-100</td><td>-100</td><td>-100</td><td>-100</td><td>-100</td><td>||</td><td>-100</td><td>-100</td><td>-100</td><td>-100</td><td>-100</td><td>||</td><td>-100</td><td>-100</td><td>-100</td><td>-100</td><td>-100</td><td>||</td><td>-100</td><td>-100</td><td>-100</td><td>-100</td><td>-100</td><td>||</td><td>0.02864</td><td>188.0510083</td><td>12:32:12.24</td><td>12.0615259</td><td>+12:03:41.5</td><td>0.4715636</td><td>4.1046626</td><td>D</td><td>0</td><td>NGVS188.05104+12.061516_VCC1420</td><td>1420</td><td>N/A</td><td>0.00333</td><td>NGVS188.05104+12.061516_VCC1420</td><td>E</td><td>1</td><td>NGVSJ12:32:12.24+12:03:41.5</td></tr>\n",
       "<tr><td>NGVS188.30597+9.3973257_VCC1488</td><td>||</td><td>1.441</td><td>0.002</td><td>22.723</td><td>10.511</td><td>14.604</td><td>21.707</td><td>20.026</td><td>|</td><td>22.43</td><td>0.1624</td><td>9.685</td><td>0.018</td><td>14.631</td><td>0.005</td><td>21.557</td><td>0.007</td><td>|</td><td>-100.0</td><td>0.0</td><td>2.0</td><td>0.0</td><td>0.105</td><td>0.0</td><td>-100.0</td><td>-100.0</td><td>-100.0</td><td>-100.0</td><td>|</td><td>22.43</td><td>0.0002</td><td>1.441</td><td>0.0</td><td>9.685</td><td>0.002</td><td>14.631</td><td>0.0</td><td>21.557</td><td>0.001</td><td>|</td><td>5.298</td><td>0.192</td><td>|</td><td>0.3304</td><td>0.0324</td><td>81.41</td><td>0.94</td><td>-0.00615</td><td>0.00921</td><td>-0.00627</td><td>0.00659</td><td>0.00218</td><td>0.00959</td><td>0.00941</td><td>0.01288</td><td>0.738</td><td>||</td><td>1.511</td><td>0.004</td><td>23.928</td><td>11.394</td><td>15.576</td><td>22.855</td><td>21.023</td><td>|</td><td>23.472</td><td>0.0936</td><td>9.511</td><td>0.029</td><td>15.689</td><td>0.008</td><td>22.576</td><td>0.011</td><td>|</td><td>-100.0</td><td>0.0</td><td>2.0</td><td>0.0</td><td>0.05</td><td>0.0</td><td>-100.0</td><td>-100.0</td><td>-100.0</td><td>-100.0</td><td>|</td><td>23.472</td><td>0.0935</td><td>1.511</td><td>0.004</td><td>9.511</td><td>0.029</td><td>15.689</td><td>0.008</td><td>22.576</td><td>0.011</td><td>|</td><td>6.032</td><td>0.193</td><td>|</td><td>0.3189</td><td>0.0414</td><td>81.77</td><td>1.18</td><td>-0.0087</td><td>0.00759</td><td>-0.00836</td><td>0.00972</td><td>0.00362</td><td>0.00987</td><td>0.01561</td><td>0.01075</td><td>0.873</td><td>||</td><td>-100.0</td><td>0.004</td><td>-100.0</td><td>-100.0</td><td>-100.0</td><td>-100.0</td><td>-100.0</td><td>|</td><td>-100.0</td><td>0.0936</td><td>-100.0</td><td>0.029</td><td>-100.0</td><td>0.008</td><td>-100.0</td><td>0.011</td><td>|</td><td>-100.0</td><td>0.0</td><td>-100.0</td><td>0.0</td><td>-100.0</td><td>0.0</td><td>-100.0</td><td>0.0</td><td>-100.0</td><td>0.0</td><td>|</td><td>-100.0</td><td>0.0</td><td>-100.0</td><td>0.0</td><td>-100.0</td><td>0.0</td><td>-100.0</td><td>0.0</td><td>-100.0</td><td>0.0</td><td>|</td><td>-100.0</td><td>-100.0</td><td>|</td><td>-100.0</td><td>-100.0</td><td>-100.0</td><td>-100.0</td><td>-100.0</td><td>-100.0</td><td>-100.0</td><td>-100.0</td><td>-100.0</td><td>-100.0</td><td>-100.0</td><td>-100.0</td><td>-100.0</td><td>||</td><td>1.349</td><td>0.002</td><td>22.069</td><td>10.842</td><td>13.915</td><td>21.086</td><td>19.462</td><td>|</td><td>21.777</td><td>0.3424</td><td>9.937</td><td>0.022</td><td>13.954</td><td>0.006</td><td>20.936</td><td>0.008</td><td>|</td><td>56.587</td><td>0.1946</td><td>2.0</td><td>0.0</td><td>0.077</td><td>0.0</td><td>59.131</td><td>-100.0</td><td>55.552</td><td>-100.0</td><td>|</td><td>21.777</td><td>0.3412</td><td>1.349</td><td>0.002</td><td>9.937</td><td>0.022</td><td>13.954</td><td>0.006</td><td>20.936</td><td>0.008</td><td>|</td><td>5.098</td><td>0.846</td><td>|</td><td>0.345</td><td>0.0277</td><td>80.96</td><td>0.82</td><td>-0.00665</td><td>0.00852</td><td>-0.00694</td><td>0.00999</td><td>0.00316</td><td>0.01104</td><td>0.01126</td><td>0.01278</td><td>0.594</td><td>||</td><td>1.28</td><td>0.003</td><td>21.791</td><td>10.16</td><td>13.828</td><td>20.858</td><td>19.366</td><td>|</td><td>21.535</td><td>0.5603</td><td>9.291</td><td>0.03</td><td>13.884</td><td>0.009</td><td>20.72</td><td>0.011</td><td>|</td><td>49.351</td><td>8.6214</td><td>2.0</td><td>0.0</td><td>0.05</td><td>0.0</td><td>52.821</td><td>23396943965.198</td><td>48.315</td><td>23396943965.198</td><td>|</td><td>21.535</td><td>0.5603</td><td>1.28</td><td>0.003</td><td>9.291</td><td>0.03</td><td>13.884</td><td>0.009</td><td>20.72</td><td>0.011</td><td>|</td><td>4.692</td><td>1.501</td><td>|</td><td>0.3353</td><td>0.0266</td><td>80.29</td><td>1.23</td><td>-0.00562</td><td>0.00838</td><td>-0.00456</td><td>0.01099</td><td>0.00351</td><td>0.01105</td><td>0.00922</td><td>0.01588</td><td>0.627</td><td>||</td><td>16.3959892789</td><td>15.3565480457</td><td>-100.0</td><td>14.6953005005</td><td>14.550089019</td><td>||</td><td>-100</td><td>-100</td><td>-100</td><td>-100</td><td>-100</td><td>||</td><td>-100</td><td>-100</td><td>-100</td><td>-100</td><td>-100</td><td>||</td><td>-100</td><td>-100</td><td>-100</td><td>-100</td><td>-100</td><td>||</td><td>-100</td><td>-100</td><td>-100</td><td>-100</td><td>-100</td><td>||</td><td>-100</td><td>-100</td><td>-100</td><td>-100</td><td>-100</td><td>||</td><td>0.0209</td><td>188.3059683</td><td>12:33:13.43</td><td>9.3973326</td><td>+09:23:50.4</td><td>3.0512093</td><td>1.6357714</td><td>S</td><td>0</td><td>NGVS188.30597+9.3973257_VCC1488</td><td>1488</td><td>N/A</td><td>0.00359</td><td>NGVS188.30597+9.3973257_VCC1488</td><td>E</td><td>0</td><td>NGVSJ12:33:13.43+09:23:50.4</td></tr>\n",
       "<tr><td>NGVS188.30842+12.857799_VCC1491</td><td>||</td><td>1.306</td><td>0.002</td><td>23.252</td><td>12.226</td><td>14.735</td><td>22.166</td><td>20.236</td><td>|</td><td>22.836</td><td>0.089</td><td>10.716</td><td>0.044</td><td>14.863</td><td>0.004</td><td>22.009</td><td>0.004</td><td>|</td><td>18.63</td><td>12.0481</td><td>2.0</td><td>0.0</td><td>0.05</td><td>0.0</td><td>22.103</td><td>0.006</td><td>17.594</td><td>0.006</td><td>|</td><td>22.835</td><td>0.0891</td><td>1.306</td><td>0.002</td><td>10.71</td><td>0.015</td><td>14.865</td><td>0.004</td><td>22.009</td><td>0.005</td><td>|</td><td>5.892</td><td>-0.1</td><td>|</td><td>0.1618</td><td>0.0355</td><td>48.57</td><td>11.44</td><td>0.00334</td><td>0.00471</td><td>0.00131</td><td>0.00933</td><td>0.00594</td><td>0.00741</td><td>0.00095</td><td>0.00951</td><td>0.602</td><td>||</td><td>1.258</td><td>0.005</td><td>24.918</td><td>15.013</td><td>15.847</td><td>23.725</td><td>21.815</td><td>|</td><td>24.111</td><td>0.0552</td><td>10.829</td><td>0.094</td><td>16.134</td><td>0.009</td><td>23.302</td><td>0.009</td><td>|</td><td>19.809</td><td>8.3026</td><td>2.0</td><td>0.0</td><td>0.05</td><td>0.0</td><td>23.283</td><td>0.014</td><td>18.774</td><td>0.014</td><td>|</td><td>24.11</td><td>0.0553</td><td>1.258</td><td>0.005</td><td>10.822</td><td>0.033</td><td>16.135</td><td>0.009</td><td>23.302</td><td>0.011</td><td>|</td><td>6.915</td><td>-0.065</td><td>|</td><td>0.1438</td><td>0.0494</td><td>48.05</td><td>12.03</td><td>-0.00249</td><td>0.01318</td><td>-0.00447</td><td>0.01653</td><td>0.00851</td><td>0.00897</td><td>0.00199</td><td>0.01036</td><td>1.016</td><td>||</td><td>1.322</td><td>0.002</td><td>22.99</td><td>14.003</td><td>14.034</td><td>21.76</td><td>19.654</td><td>|</td><td>22.243</td><td>0.1637</td><td>10.775</td><td>0.046</td><td>14.253</td><td>0.004</td><td>21.41</td><td>0.004</td><td>|</td><td>18.106</td><td>21.5143</td><td>2.0</td><td>0.0</td><td>0.05</td><td>0.0</td><td>21.58</td><td>0.007</td><td>17.07</td><td>0.007</td><td>|</td><td>22.242</td><td>0.1639</td><td>1.322</td><td>0.002</td><td>10.768</td><td>0.016</td><td>14.254</td><td>0.004</td><td>21.41</td><td>0.005</td><td>|</td><td>7.441</td><td>-0.178</td><td>|</td><td>0.1654</td><td>0.0375</td><td>46.87</td><td>9.02</td><td>0.00432</td><td>0.00551</td><td>-0.00124</td><td>0.00762</td><td>0.00376</td><td>0.00514</td><td>0.00119</td><td>0.00605</td><td>0.625</td><td>||</td><td>1.272</td><td>0.003</td><td>22.562</td><td>13.558</td><td>13.698</td><td>21.354</td><td>19.358</td><td>|</td><td>21.805</td><td>0.2928</td><td>10.285</td><td>0.051</td><td>13.935</td><td>0.005</td><td>20.991</td><td>0.005</td><td>|</td><td>17.786</td><td>29.8151</td><td>2.0</td><td>0.0</td><td>0.05</td><td>0.0</td><td>21.259</td><td>0.007</td><td>16.75</td><td>0.007</td><td>|</td><td>21.803</td><td>0.2932</td><td>1.272</td><td>0.003</td><td>10.277</td><td>0.018</td><td>13.936</td><td>0.005</td><td>20.991</td><td>0.006</td><td>|</td><td>7.22</td><td>-0.257</td><td>|</td><td>0.1652</td><td>0.0391</td><td>46.12</td><td>8.49</td><td>0.00245</td><td>0.00723</td><td>-0.00011</td><td>0.01045</td><td>0.00145</td><td>0.00591</td><td>-0.0018</td><td>0.00917</td><td>0.676</td><td>||</td><td>1.139</td><td>0.003</td><td>22.326</td><td>13.3</td><td>13.505</td><td>21.12</td><td>19.335</td><td>|</td><td>21.403</td><td>0.4558</td><td>9.238</td><td>0.047</td><td>13.819</td><td>0.006</td><td>20.642</td><td>0.006</td><td>|</td><td>17.555</td><td>41.3054</td><td>2.0</td><td>0.0</td><td>0.05</td><td>0.0</td><td>21.029</td><td>0.008</td><td>16.519</td><td>0.008</td><td>|</td><td>21.401</td><td>0.4569</td><td>1.139</td><td>0.003</td><td>9.225</td><td>0.017</td><td>13.82</td><td>0.006</td><td>20.64</td><td>0.007</td><td>|</td><td>7.333</td><td>0.621</td><td>|</td><td>0.1567</td><td>0.0481</td><td>44.22</td><td>9.37</td><td>0.00279</td><td>0.00939</td><td>-0.00286</td><td>0.00594</td><td>0.00144</td><td>0.00978</td><td>0.00178</td><td>0.0064</td><td>0.961</td><td>||</td><td>16.7622340268</td><td>15.4866301242</td><td>14.8870205917</td><td>14.5269744413</td><td>14.3205834589</td><td>||</td><td>-100</td><td>-100</td><td>-100</td><td>-100</td><td>-100</td><td>||</td><td>-100</td><td>-100</td><td>-100</td><td>-100</td><td>-100</td><td>||</td><td>-100</td><td>-100</td><td>-100</td><td>-100</td><td>-100</td><td>||</td><td>-100</td><td>-100</td><td>-100</td><td>-100</td><td>-100</td><td>||</td><td>-100</td><td>-100</td><td>-100</td><td>-100</td><td>-100</td><td>||</td><td>0.03067</td><td>188.3083801</td><td>12:33:14.01</td><td>12.8578237</td><td>+12:51:28.2</td><td>0.75061</td><td>4.9309853</td><td>D</td><td>0</td><td>NGVS188.30842+12.857799_VCC1491</td><td>1491</td><td>N/A</td><td>0.00634</td><td>NGVS188.30842+12.857799_VCC1491</td><td>E</td><td>1</td><td>NGVSJ12:33:14.01+12:51:28.2</td></tr>\n",
       "<tr><td>NGVS188.33237+12.853425_VCC1499</td><td>||</td><td>1.117</td><td>0.006</td><td>21.695</td><td>5.997</td><td>14.783</td><td>20.668</td><td>19.309</td><td>|</td><td>21.139</td><td>1.8146</td><td>5.053</td><td>0.044</td><td>14.874</td><td>0.022</td><td>20.388</td><td>0.029</td><td>|</td><td>22.877</td><td>0.116</td><td>2.0</td><td>0.0</td><td>4.355</td><td>0.041</td><td>16.651</td><td>0.021</td><td>21.841</td><td>0.029</td><td>|</td><td>20.971</td><td>0.7729</td><td>0.606</td><td>0.002</td><td>4.839</td><td>0.023</td><td>15.071</td><td>0.011</td><td>20.49</td><td>0.015</td><td>|</td><td>5.253</td><td>-0.014</td><td>|</td><td>0.3969</td><td>0.0443</td><td>56.32</td><td>0.99</td><td>0.01601</td><td>0.0088</td><td>-0.00116</td><td>0.00564</td><td>0.00068</td><td>0.01039</td><td>-0.00048</td><td>0.00521</td><td>0.604</td><td>||</td><td>1.276</td><td>0.003</td><td>22.285</td><td>5.397</td><td>15.634</td><td>21.29</td><td>20.077</td><td>|</td><td>22.004</td><td>0.2898</td><td>5.122</td><td>0.011</td><td>15.648</td><td>0.006</td><td>21.19</td><td>0.008</td><td>|</td><td>55.464</td><td>0.1476</td><td>2.0</td><td>0.0</td><td>0.05</td><td>0.0</td><td>58.935</td><td>-100.0</td><td>54.428</td><td>-100.0</td><td>|</td><td>22.004</td><td>0.2894</td><td>1.276</td><td>0.003</td><td>5.122</td><td>0.011</td><td>15.648</td><td>0.006</td><td>21.19</td><td>0.008</td><td>|</td><td>5.192</td><td>0.033</td><td>|</td><td>0.4092</td><td>0.0687</td><td>58.06</td><td>1.39</td><td>0.00852</td><td>0.00769</td><td>-0.00218</td><td>0.00564</td><td>0.00204</td><td>0.00526</td><td>0.00184</td><td>0.00537</td><td>1.017</td><td>||</td><td>1.079</td><td>0.006</td><td>21.577</td><td>6.716</td><td>14.437</td><td>20.568</td><td>19.174</td><td>|</td><td>20.953</td><td>2.2774</td><td>5.326</td><td>0.054</td><td>14.591</td><td>0.025</td><td>20.219</td><td>0.034</td><td>|</td><td>34.996</td><td>-100.0</td><td>2.0</td><td>0.0</td><td>4.401</td><td>1147.221</td><td>28.747</td><td>36070327.775</td><td>33.96</td><td>36070327.779</td><td>|</td><td>20.861</td><td>-100.0</td><td>1.029</td><td>5.111</td><td>4.919</td><td>3007.538</td><td>14.694</td><td>1328.766</td><td>20.149</td><td>1877.667</td><td>|</td><td>5.229</td><td>-0.112</td><td>|</td><td>0.4146</td><td>0.0539</td><td>56.44</td><td>0.7</td><td>0.01318</td><td>0.0114</td><td>-0.00219</td><td>0.00501</td><td>-0.00024</td><td>0.00994</td><td>-0.00478</td><td>0.00571</td><td>0.627</td><td>||</td><td>1.21</td><td>0.002</td><td>21.315</td><td>6.702</td><td>14.24</td><td>20.367</td><td>19.088</td><td>|</td><td>21.084</td><td>0.6477</td><td>6.477</td><td>0.012</td><td>14.243</td><td>0.006</td><td>20.296</td><td>0.007</td><td>|</td><td>-100.0</td><td>0.0</td><td>2.0</td><td>0.0</td><td>0.05</td><td>0.0</td><td>-100.0</td><td>-100.0</td><td>-100.0</td><td>-100.0</td><td>|</td><td>21.084</td><td>0.647</td><td>1.21</td><td>0.002</td><td>6.477</td><td>0.012</td><td>14.243</td><td>0.006</td><td>20.296</td><td>0.007</td><td>|</td><td>4.706</td><td>-0.074</td><td>|</td><td>0.4108</td><td>0.0466</td><td>57.09</td><td>1.05</td><td>0.01419</td><td>0.01713</td><td>-0.00546</td><td>0.00758</td><td>0.00422</td><td>0.01254</td><td>0.00016</td><td>0.01276</td><td>0.68</td><td>||</td><td>1.171</td><td>0.003</td><td>21.225</td><td>6.839</td><td>14.128</td><td>20.298</td><td>19.091</td><td>|</td><td>20.964</td><td>0.8735</td><td>6.413</td><td>0.015</td><td>14.16</td><td>0.007</td><td>20.191</td><td>0.008</td><td>|</td><td>-100.0</td><td>0.0</td><td>2.0</td><td>0.0</td><td>0.05</td><td>0.0</td><td>-100.0</td><td>-100.0</td><td>-100.0</td><td>-100.0</td><td>|</td><td>20.964</td><td>0.8735</td><td>1.171</td><td>0.003</td><td>6.413</td><td>0.015</td><td>14.16</td><td>0.007</td><td>20.191</td><td>0.008</td><td>|</td><td>4.645</td><td>0.85</td><td>|</td><td>0.4131</td><td>0.0431</td><td>57.02</td><td>0.98</td><td>0.01957</td><td>0.02423</td><td>-0.00445</td><td>0.01037</td><td>0.0091</td><td>0.01437</td><td>-0.00039</td><td>0.01409</td><td>0.967</td><td>||</td><td>16.2983895415</td><td>15.5353694188</td><td>15.2910970851</td><td>15.0965340753</td><td>15.0092378219</td><td>||</td><td>-100</td><td>-100</td><td>-100</td><td>-100</td><td>-100</td><td>||</td><td>-100</td><td>-100</td><td>-100</td><td>-100</td><td>-100</td><td>||</td><td>-100</td><td>-100</td><td>-100</td><td>-100</td><td>-100</td><td>||</td><td>-100</td><td>-100</td><td>-100</td><td>-100</td><td>-100</td><td>||</td><td>-100</td><td>-100</td><td>-100</td><td>-100</td><td>-100</td><td>||</td><td>0.0297</td><td>188.3324239</td><td>12:33:19.78</td><td>12.8534447</td><td>+12:51:12.4</td><td>0.7664792</td><td>4.9308015</td><td>S</td><td>0</td><td>NGVS188.33237+12.853425_VCC1499</td><td>1499</td><td>N/A</td><td>-0.00191</td><td>NGVS188.33237+12.853425_VCC1499</td><td>E/I</td><td>0:</td><td>NGVSJ12:33:19.78+12:51:12.4</td></tr>\n",
       "<tr><td>NGVS188.3818+9.4591986_VCC1509</td><td>||</td><td>1.047</td><td>0.006</td><td>24.912</td><td>14.327</td><td>16.305</td><td>24.081</td><td>20.647</td><td>|</td><td>24.823</td><td>0.0367</td><td>14.081</td><td>0.158</td><td>16.337</td><td>0.012</td><td>24.076</td><td>0.012</td><td>|</td><td>18.947</td><td>52.8766</td><td>2.0</td><td>0.0</td><td>0.115</td><td>0.002</td><td>20.612</td><td>0.057</td><td>17.911</td><td>0.07</td><td>|</td><td>24.852</td><td>0.0357</td><td>1.047</td><td>0.006</td><td>14.309</td><td>0.057</td><td>16.359</td><td>0.012</td><td>24.132</td><td>0.015</td><td>|</td><td>4.104</td><td>0.119</td><td>|</td><td>0.0396</td><td>0.0206</td><td>3.45</td><td>57.7</td><td>-0.00617</td><td>0.01234</td><td>0.00071</td><td>0.01284</td><td>0.00149</td><td>0.02232</td><td>0.00078</td><td>0.01298</td><td>0.742</td><td>||</td><td>0.982</td><td>0.013</td><td>25.864</td><td>12.618</td><td>17.616</td><td>25.116</td><td>22.045</td><td>|</td><td>25.859</td><td>0.0319</td><td>12.771</td><td>0.339</td><td>17.613</td><td>0.03</td><td>25.139</td><td>0.03</td><td>|</td><td>19.497</td><td>22.167</td><td>2.0</td><td>0.0</td><td>0.085</td><td>0.001</td><td>21.807</td><td>0.04</td><td>18.462</td><td>0.05</td><td>|</td><td>25.889</td><td>0.031</td><td>0.982</td><td>0.013</td><td>12.984</td><td>0.128</td><td>17.636</td><td>0.03</td><td>25.198</td><td>0.037</td><td>|</td><td>3.769</td><td>0.13</td><td>|</td><td>0.0601</td><td>0.0385</td><td>-18.56</td><td>58.74</td><td>-0.00848</td><td>0.04403</td><td>-0.00281</td><td>0.02548</td><td>-0.00365</td><td>0.02743</td><td>-0.00504</td><td>0.02568</td><td>0.879</td><td>||</td><td>-100.0</td><td>0.013</td><td>-100.0</td><td>-100.0</td><td>-100.0</td><td>-100.0</td><td>-100.0</td><td>|</td><td>-100.0</td><td>0.0319</td><td>-100.0</td><td>0.339</td><td>-100.0</td><td>0.03</td><td>-100.0</td><td>0.03</td><td>|</td><td>-100.0</td><td>0.0</td><td>-100.0</td><td>0.0</td><td>-100.0</td><td>0.0</td><td>-100.0</td><td>0.0</td><td>-100.0</td><td>0.0</td><td>|</td><td>-100.0</td><td>0.0</td><td>-100.0</td><td>0.0</td><td>-100.0</td><td>0.0</td><td>-100.0</td><td>0.0</td><td>-100.0</td><td>0.0</td><td>|</td><td>-100.0</td><td>-100.0</td><td>|</td><td>-100.0</td><td>-100.0</td><td>-100.0</td><td>-100.0</td><td>-100.0</td><td>-100.0</td><td>-100.0</td><td>-100.0</td><td>-100.0</td><td>-100.0</td><td>-100.0</td><td>-100.0</td><td>-100.0</td><td>||</td><td>1.068</td><td>0.009</td><td>24.037</td><td>13.242</td><td>15.621</td><td>23.226</td><td>19.54</td><td>|</td><td>24.025</td><td>0.1271</td><td>13.408</td><td>0.239</td><td>15.634</td><td>0.019</td><td>23.267</td><td>0.019</td><td>|</td><td>17.862</td><td>203.8715</td><td>2.0</td><td>0.0</td><td>0.099</td><td>0.003</td><td>19.852</td><td>0.075</td><td>16.826</td><td>0.094</td><td>|</td><td>24.057</td><td>0.1233</td><td>1.068</td><td>0.009</td><td>13.644</td><td>0.086</td><td>15.657</td><td>0.02</td><td>23.327</td><td>0.024</td><td>|</td><td>4.008</td><td>0.679</td><td>|</td><td>0.0633</td><td>0.0371</td><td>-3.48</td><td>54.9</td><td>-0.00139</td><td>0.02723</td><td>-0.00235</td><td>0.02079</td><td>-0.008</td><td>0.02967</td><td>-0.00419</td><td>0.02162</td><td>0.598</td><td>||</td><td>1.047</td><td>0.018</td><td>23.839</td><td>12.76</td><td>15.505</td><td>23.03</td><td>19.549</td><td>|</td><td>23.796</td><td>0.2892</td><td>12.703</td><td>0.42</td><td>15.531</td><td>0.036</td><td>23.046</td><td>0.036</td><td>|</td><td>17.608</td><td>460.5597</td><td>2.0</td><td>0.0</td><td>0.094</td><td>0.004</td><td>19.711</td><td>0.134</td><td>16.572</td><td>0.167</td><td>|</td><td>23.828</td><td>0.2803</td><td>1.047</td><td>0.018</td><td>12.933</td><td>0.153</td><td>15.554</td><td>0.037</td><td>23.108</td><td>0.045</td><td>|</td><td>4.077</td><td>0.989</td><td>|</td><td>0.0674</td><td>0.0318</td><td>-24.21</td><td>42.6</td><td>-0.0098</td><td>0.0481</td><td>-0.00521</td><td>0.02886</td><td>-0.00289</td><td>0.04936</td><td>-0.00375</td><td>0.03929</td><td>0.631</td><td>||</td><td>18.2373080562</td><td>17.0579179315</td><td>-100.0</td><td>16.2959757783</td><td>16.1416510611</td><td>||</td><td>-100</td><td>-100</td><td>-100</td><td>-100</td><td>-100</td><td>||</td><td>-100</td><td>-100</td><td>-100</td><td>-100</td><td>-100</td><td>||</td><td>-100</td><td>-100</td><td>-100</td><td>-100</td><td>-100</td><td>||</td><td>-100</td><td>-100</td><td>-100</td><td>-100</td><td>-100</td><td>||</td><td>-100</td><td>-100</td><td>-100</td><td>-100</td><td>-100</td><td>||</td><td>0.0225</td><td>188.381857</td><td>12:33:31.65</td><td>9.4592142</td><td>+09:27:33.2</td><td>3.0060686</td><td>1.7279007</td><td>D</td><td>0</td><td>NGVS188.3818+9.4591986_VCC1509</td><td>1509</td><td>N/A</td><td>0.00272</td><td>NGVS188.3818+9.4591986_VCC1509</td><td>E</td><td>1</td><td>NGVSJ12:33:31.65+09:27:33.2</td></tr>\n",
       "<tr><td>NGVS188.45282+12.780027_VCC1523</td><td>||</td><td>1.105</td><td>0.012</td><td>24.73</td><td>8.318</td><td>17.377</td><td>23.973</td><td>20.432</td><td>|</td><td>24.835</td><td>0.0629</td><td>8.644</td><td>0.172</td><td>17.342</td><td>0.02</td><td>24.021</td><td>0.02</td><td>|</td><td>19.12</td><td>49.9285</td><td>2.0</td><td>0.0</td><td>0.121</td><td>0.003</td><td>20.672</td><td>0.064</td><td>18.084</td><td>0.08</td><td>|</td><td>24.918</td><td>0.058</td><td>1.105</td><td>0.012</td><td>9.052</td><td>0.061</td><td>17.394</td><td>0.021</td><td>24.173</td><td>0.026</td><td>|</td><td>4.076</td><td>-0.11</td><td>|</td><td>0.0679</td><td>0.0174</td><td>-31.45</td><td>47.38</td><td>0.0026</td><td>0.01058</td><td>0.00521</td><td>0.01206</td><td>-0.00601</td><td>0.00953</td><td>0.00206</td><td>0.01357</td><td>0.618</td><td>||</td><td>1.022</td><td>0.021</td><td>25.815</td><td>8.194</td><td>18.531</td><td>25.094</td><td>22.328</td><td>|</td><td>25.923</td><td>0.0447</td><td>8.637</td><td>0.351</td><td>18.469</td><td>0.043</td><td>25.146</td><td>0.043</td><td>|</td><td>20.366</td><td>8.5023</td><td>2.0</td><td>0.0</td><td>0.127</td><td>0.002</td><td>21.815</td><td>0.037</td><td>19.33</td><td>0.046</td><td>|</td><td>26.001</td><td>0.0415</td><td>1.022</td><td>0.021</td><td>9.018</td><td>0.134</td><td>18.52</td><td>0.045</td><td>25.291</td><td>0.055</td><td>|</td><td>3.89</td><td>0.08</td><td>|</td><td>0.0775</td><td>0.054</td><td>-24.61</td><td>41.55</td><td>0.00231</td><td>0.02112</td><td>0.01265</td><td>0.02648</td><td>0.00206</td><td>0.02848</td><td>0.01716</td><td>0.03525</td><td>1.026</td><td>||</td><td>1.079</td><td>0.01</td><td>24.166</td><td>8.244</td><td>16.834</td><td>23.41</td><td>19.914</td><td>|</td><td>24.228</td><td>0.0946</td><td>8.315</td><td>0.138</td><td>16.83</td><td>0.017</td><td>23.425</td><td>0.017</td><td>|</td><td>18.367</td><td>93.7428</td><td>2.0</td><td>0.0</td><td>0.109</td><td>0.002</td><td>20.151</td><td>0.057</td><td>17.331</td><td>0.071</td><td>|</td><td>24.311</td><td>0.0874</td><td>1.079</td><td>0.01</td><td>8.706</td><td>0.048</td><td>16.882</td><td>0.018</td><td>23.577</td><td>0.022</td><td>|</td><td>4.092</td><td>-0.1</td><td>|</td><td>0.0632</td><td>0.0244</td><td>-51.14</td><td>34.6</td><td>-0.00402</td><td>0.01134</td><td>0.00414</td><td>0.01051</td><td>-0.00962</td><td>0.01281</td><td>0.0016</td><td>0.01175</td><td>0.644</td><td>||</td><td>1.055</td><td>0.015</td><td>23.973</td><td>8.694</td><td>16.475</td><td>23.167</td><td>19.78</td><td>|</td><td>23.922</td><td>0.1908</td><td>8.368</td><td>0.21</td><td>16.522</td><td>0.026</td><td>23.13</td><td>0.026</td><td>|</td><td>18.485</td><td>108.2877</td><td>2.0</td><td>0.0</td><td>0.131</td><td>0.004</td><td>19.861</td><td>0.077</td><td>17.449</td><td>0.096</td><td>|</td><td>24.002</td><td>0.1767</td><td>1.055</td><td>0.015</td><td>8.747</td><td>0.074</td><td>16.573</td><td>0.027</td><td>23.278</td><td>0.033</td><td>|</td><td>4.321</td><td>0.0</td><td>|</td><td>0.067</td><td>0.0219</td><td>-33.39</td><td>46.9</td><td>-0.00238</td><td>0.01498</td><td>0.00471</td><td>0.01312</td><td>-0.01325</td><td>0.01453</td><td>-0.01165</td><td>0.0141</td><td>0.709</td><td>||</td><td>1.125</td><td>0.016</td><td>23.831</td><td>8.759</td><td>16.324</td><td>23.031</td><td>20.149</td><td>|</td><td>23.844</td><td>0.26</td><td>8.686</td><td>0.29</td><td>16.341</td><td>0.034</td><td>23.03</td><td>0.034</td><td>|</td><td>17.536</td><td>118.1989</td><td>2.0</td><td>0.0</td><td>0.087</td><td>0.001</td><td>19.813</td><td>0.032</td><td>16.5</td><td>0.039</td><td>|</td><td>23.917</td><td>0.2423</td><td>1.125</td><td>0.016</td><td>9.043</td><td>0.112</td><td>16.386</td><td>0.036</td><td>23.163</td><td>0.045</td><td>|</td><td>4.356</td><td>0.43</td><td>|</td><td>0.0592</td><td>0.0302</td><td>-43.79</td><td>33.96</td><td>-0.00766</td><td>0.02126</td><td>0.00822</td><td>0.01524</td><td>-0.00967</td><td>0.02168</td><td>-0.0062</td><td>0.01583</td><td>0.976</td><td>||</td><td>19.2671401862</td><td>18.130493126</td><td>17.5774981083</td><td>17.2747171018</td><td>17.1314235842</td><td>||</td><td>-100</td><td>-100</td><td>-100</td><td>-100</td><td>-100</td><td>||</td><td>-100</td><td>-100</td><td>-100</td><td>-100</td><td>-100</td><td>||</td><td>-100</td><td>-100</td><td>-100</td><td>-100</td><td>-100</td><td>||</td><td>-100</td><td>-100</td><td>-100</td><td>-100</td><td>-100</td><td>||</td><td>-100</td><td>-100</td><td>-100</td><td>-100</td><td>-100</td><td>||</td><td>0.03041</td><td>188.4528066</td><td>12:33:48.67</td><td>12.780041</td><td>+12:46:48.1</td><td>0.8261921</td><td>4.881246</td><td>D</td><td>0</td><td>NGVS188.45282+12.780027_VCC1523</td><td>1523</td><td>N/A</td><td>0.00375</td><td>NGVS188.45282+12.780027_VCC1523</td><td>E</td><td>1</td><td>NGVSJ12:33:48.67+12:46:48.1</td></tr>\n",
       "<tr><td>NGVS188.5281+12.741594_VCC1539</td><td>||</td><td>1.35</td><td>0.008</td><td>24.468</td><td>17.241</td><td>15.47</td><td>23.648</td><td>20.728</td><td>|</td><td>24.508</td><td>0.0545</td><td>17.274</td><td>0.222</td><td>15.47</td><td>0.013</td><td>23.652</td><td>0.031</td><td>|</td><td>21.988</td><td>0.9127</td><td>2.0</td><td>0.0</td><td>0.519</td><td>0.005</td><td>20.382</td><td>0.025</td><td>20.952</td><td>0.034</td><td>|</td><td>24.527</td><td>0.0535</td><td>1.35</td><td>0.008</td><td>17.45</td><td>0.076</td><td>15.482</td><td>0.013</td><td>23.686</td><td>0.016</td><td>|</td><td>4.288</td><td>-0.023</td><td>|</td><td>0.0914</td><td>0.0261</td><td>23.67</td><td>3.46</td><td>0.00083</td><td>0.00638</td><td>0.00361</td><td>0.00381</td><td>0.00091</td><td>0.00483</td><td>-0.00101</td><td>0.00297</td><td>0.629</td><td>||</td><td>1.546</td><td>0.017</td><td>25.29</td><td>13.738</td><td>16.93</td><td>24.615</td><td>22.081</td><td>|</td><td>25.864</td><td>0.03</td><td>18.291</td><td>0.52</td><td>16.637</td><td>0.026</td><td>24.944</td><td>0.067</td><td>|</td><td>21.352</td><td>10.773</td><td>2.0</td><td>0.0</td><td>0.21</td><td>0.01</td><td>21.704</td><td>0.128</td><td>20.316</td><td>0.162</td><td>|</td><td>25.883</td><td>0.0295</td><td>1.546</td><td>0.017</td><td>18.471</td><td>0.173</td><td>16.647</td><td>0.027</td><td>24.975</td><td>0.034</td><td>|</td><td>3.586</td><td>0.118</td><td>|</td><td>0.067</td><td>0.0366</td><td>29.98</td><td>20.21</td><td>4e-05</td><td>0.01587</td><td>0.00496</td><td>0.01122</td><td>0.00148</td><td>0.01214</td><td>0.00162</td><td>0.01189</td><td>1.032</td><td>||</td><td>1.347</td><td>0.006</td><td>23.766</td><td>16.15</td><td>14.952</td><td>22.988</td><td>20.069</td><td>|</td><td>23.88</td><td>0.0714</td><td>16.684</td><td>0.15</td><td>14.92</td><td>0.009</td><td>23.027</td><td>0.021</td><td>|</td><td>20.854</td><td>3.4583</td><td>2.0</td><td>0.0</td><td>0.375</td><td>0.004</td><td>19.955</td><td>0.029</td><td>19.818</td><td>0.037</td><td>|</td><td>23.897</td><td>0.0702</td><td>1.347</td><td>0.006</td><td>16.832</td><td>0.051</td><td>14.931</td><td>0.009</td><td>23.057</td><td>0.011</td><td>|</td><td>4.024</td><td>-0.227</td><td>|</td><td>0.0867</td><td>0.0234</td><td>30.17</td><td>14.24</td><td>-0.00228</td><td>0.00913</td><td>0.00624</td><td>0.00535</td><td>0.00344</td><td>0.0085</td><td>0.00137</td><td>0.00675</td><td>0.657</td><td>||</td><td>1.351</td><td>0.006</td><td>23.428</td><td>15.96</td><td>14.643</td><td>22.653</td><td>19.832</td><td>|</td><td>23.557</td><td>0.1128</td><td>16.596</td><td>0.174</td><td>14.608</td><td>0.01</td><td>22.704</td><td>0.025</td><td>|</td><td>20.222</td><td>8.8604</td><td>2.0</td><td>0.0</td><td>0.3</td><td>0.004</td><td>19.808</td><td>0.038</td><td>19.186</td><td>0.049</td><td>|</td><td>23.571</td><td>0.1113</td><td>1.351</td><td>0.006</td><td>16.718</td><td>0.059</td><td>14.617</td><td>0.01</td><td>22.729</td><td>0.013</td><td>|</td><td>3.999</td><td>-0.187</td><td>|</td><td>0.0961</td><td>0.0325</td><td>32.07</td><td>13.07</td><td>-0.00536</td><td>0.01143</td><td>0.00832</td><td>0.0081</td><td>0.00175</td><td>0.00912</td><td>0.00433</td><td>0.00812</td><td>0.73</td><td>||</td><td>1.408</td><td>0.006</td><td>23.112</td><td>14.625</td><td>14.566</td><td>22.387</td><td>19.96</td><td>|</td><td>23.432</td><td>0.1441</td><td>16.969</td><td>0.22</td><td>14.418</td><td>0.013</td><td>22.561</td><td>0.031</td><td>|</td><td>18.595</td><td>48.3333</td><td>2.0</td><td>0.0</td><td>0.138</td><td>0.002</td><td>19.869</td><td>0.037</td><td>17.559</td><td>0.047</td><td>|</td><td>23.443</td><td>0.1426</td><td>1.408</td><td>0.006</td><td>17.068</td><td>0.078</td><td>14.425</td><td>0.013</td><td>22.581</td><td>0.016</td><td>|</td><td>3.738</td><td>0.164</td><td>|</td><td>0.1059</td><td>0.0301</td><td>35.26</td><td>12.73</td><td>-0.00811</td><td>0.0141</td><td>0.00693</td><td>0.01114</td><td>0.00085</td><td>0.01312</td><td>0.00106</td><td>0.01145</td><td>0.986</td><td>||</td><td>17.4361248571</td><td>16.2221020606</td><td>15.6363091985</td><td>15.3148733767</td><td>15.1436206181</td><td>||</td><td>-100</td><td>-100</td><td>-100</td><td>-100</td><td>-100</td><td>||</td><td>-100</td><td>-100</td><td>-100</td><td>-100</td><td>-100</td><td>||</td><td>-100</td><td>-100</td><td>-100</td><td>-100</td><td>-100</td><td>||</td><td>-100</td><td>-100</td><td>-100</td><td>-100</td><td>-100</td><td>||</td><td>-100</td><td>-100</td><td>-100</td><td>-100</td><td>-100</td><td>||</td><td>0.03188</td><td>188.5280861</td><td>12:34:06.74</td><td>12.7415952</td><td>+12:44:29.7</td><td>0.8756546</td><td>4.8593097</td><td>D</td><td>0</td><td>NGVS188.5281+12.741594_VCC1539</td><td>1539</td><td>N/A</td><td>0.00497</td><td>NGVS188.5281+12.741594_VCC1539</td><td>E</td><td>1</td><td>NGVSJ12:34:06.74+12:44:29.7</td></tr>\n",
       "<tr><td>NGVS188.54809+12.048951_VCC1545</td><td>||</td><td>2.667</td><td>0.003</td><td>23.238</td><td>12.525</td><td>14.544</td><td>22.029</td><td>19.215</td><td>|</td><td>23.192</td><td>0.0568</td><td>12.283</td><td>0.091</td><td>14.567</td><td>0.005</td><td>22.009</td><td>0.017</td><td>|</td><td>21.513</td><td>23.0585</td><td>2.0</td><td>0.0</td><td>0.05</td><td>0.0</td><td>24.986</td><td>0.2</td><td>20.477</td><td>0.2</td><td>|</td><td>23.192</td><td>0.0568</td><td>2.667</td><td>0.003</td><td>12.286</td><td>0.018</td><td>14.567</td><td>0.005</td><td>22.01</td><td>0.006</td><td>|</td><td>7.712</td><td>0.085</td><td>|</td><td>0.1386</td><td>0.0668</td><td>66.71</td><td>3.72</td><td>0.00039</td><td>0.00261</td><td>0.00175</td><td>0.00258</td><td>0.00059</td><td>0.00268</td><td>-0.00083</td><td>0.00325</td><td>0.638</td><td>||</td><td>2.305</td><td>0.018</td><td>24.375</td><td>11.859</td><td>15.94</td><td>23.306</td><td>20.857</td><td>|</td><td>24.535</td><td>0.0621</td><td>12.877</td><td>0.384</td><td>15.878</td><td>0.023</td><td>23.422</td><td>0.069</td><td>|</td><td>24.205</td><td>0.4638</td><td>2.0</td><td>0.0</td><td>0.721</td><td>0.068</td><td>21.883</td><td>0.211</td><td>23.169</td><td>0.293</td><td>|</td><td>24.546</td><td>0.0614</td><td>2.305</td><td>0.018</td><td>12.947</td><td>0.064</td><td>15.882</td><td>0.023</td><td>23.439</td><td>0.026</td><td>|</td><td>5.917</td><td>0.16</td><td>|</td><td>0.1279</td><td>0.0721</td><td>57.27</td><td>41.2</td><td>0.00041</td><td>0.00497</td><td>0.00012</td><td>0.00597</td><td>-0.00014</td><td>0.00346</td><td>-0.00176</td><td>0.00329</td><td>0.752</td><td>||</td><td>2.735</td><td>0.005</td><td>22.841</td><td>13.707</td><td>13.845</td><td>21.525</td><td>18.435</td><td>|</td><td>22.519</td><td>0.1553</td><td>11.881</td><td>0.139</td><td>13.95</td><td>0.008</td><td>21.32</td><td>0.027</td><td>|</td><td>18.587</td><td>132.4196</td><td>2.0</td><td>0.0</td><td>0.11</td><td>0.004</td><td>20.358</td><td>0.103</td><td>17.551</td><td>0.129</td><td>|</td><td>22.528</td><td>0.154</td><td>2.735</td><td>0.005</td><td>11.933</td><td>0.023</td><td>13.953</td><td>0.008</td><td>21.332</td><td>0.009</td><td>|</td><td>9.755</td><td>0.032</td><td>|</td><td>0.1351</td><td>0.073</td><td>65.14</td><td>1.82</td><td>-0.00083</td><td>0.0021</td><td>0.00157</td><td>0.0026</td><td>-0.00031</td><td>0.0028</td><td>-0.00131</td><td>0.00372</td><td>0.735</td><td>||</td><td>2.595</td><td>0.015</td><td>21.93</td><td>10.377</td><td>13.693</td><td>20.769</td><td>17.961</td><td>|</td><td>21.985</td><td>0.5161</td><td>10.63</td><td>0.306</td><td>13.684</td><td>0.021</td><td>20.812</td><td>0.066</td><td>|</td><td>21.107</td><td>9.7201</td><td>2.0</td><td>0.0</td><td>0.468</td><td>0.036</td><td>19.724</td><td>0.174</td><td>20.072</td><td>0.24</td><td>|</td><td>21.997</td><td>0.5103</td><td>2.595</td><td>0.015</td><td>10.692</td><td>0.036</td><td>13.688</td><td>0.021</td><td>20.829</td><td>0.022</td><td>|</td><td>7.132</td><td>0.575</td><td>|</td><td>0.1252</td><td>0.0631</td><td>65.45</td><td>2.43</td><td>-0.00119</td><td>0.00266</td><td>0.00196</td><td>0.00357</td><td>0.00015</td><td>0.00357</td><td>-0.00041</td><td>0.00334</td><td>0.558</td><td>||</td><td>2.609</td><td>0.004</td><td>21.645</td><td>9.973</td><td>13.5</td><td>20.489</td><td>17.91</td><td>|</td><td>21.717</td><td>0.2979</td><td>10.269</td><td>0.1</td><td>13.487</td><td>0.007</td><td>20.54</td><td>0.022</td><td>|</td><td>17.186</td><td>268.589</td><td>2.0</td><td>0.0</td><td>0.092</td><td>0.002</td><td>19.334</td><td>0.052</td><td>16.15</td><td>0.065</td><td>|</td><td>21.731</td><td>0.2938</td><td>2.609</td><td>0.004</td><td>10.34</td><td>0.019</td><td>13.492</td><td>0.007</td><td>20.56</td><td>0.008</td><td>|</td><td>7.082</td><td>1.177</td><td>|</td><td>0.1178</td><td>0.0646</td><td>63.0</td><td>2.73</td><td>-0.00105</td><td>0.00403</td><td>0.00189</td><td>0.00305</td><td>0.00028</td><td>0.00402</td><td>-0.00078</td><td>0.00238</td><td>0.94</td><td>||</td><td>16.64907427</td><td>15.2967628539</td><td>14.6578516844</td><td>14.3115263042</td><td>14.0925469539</td><td>||</td><td>-100</td><td>-100</td><td>-100</td><td>-100</td><td>-100</td><td>||</td><td>-100</td><td>-100</td><td>-100</td><td>-100</td><td>-100</td><td>||</td><td>-100</td><td>-100</td><td>-100</td><td>-100</td><td>-100</td><td>||</td><td>-100</td><td>-100</td><td>-100</td><td>-100</td><td>-100</td><td>||</td><td>-100</td><td>-100</td><td>-100</td><td>-100</td><td>-100</td><td>||</td><td>0.04148</td><td>188.5480621</td><td>12:34:11.53</td><td>12.0489675</td><td>+12:02:56.3</td><td>0.891336</td><td>4.191654</td><td>D</td><td>0</td><td>NGVS188.54809+12.048951_VCC1545</td><td>1545</td><td>N/A</td><td>0.00667</td><td>NGVS188.54809+12.048951_VCC1545</td><td>E</td><td>1:</td><td>NGVSJ12:34:11.53+12:02:56.3</td></tr>\n",
       "<tr><td>NGVS188.60431+12.903622_VCC1561</td><td>||</td><td>0.79</td><td>0.005</td><td>25.626</td><td>29.27</td><td>15.535</td><td>24.863</td><td>24.058</td><td>|</td><td>25.339</td><td>0.0224</td><td>26.158</td><td>0.125</td><td>15.662</td><td>0.014</td><td>24.746</td><td>0.018</td><td>|</td><td>-100.0</td><td>0.0</td><td>2.0</td><td>0.0</td><td>0.237</td><td>0.0</td><td>-100.0</td><td>-100.0</td><td>-100.0</td><td>-100.0</td><td>|</td><td>25.339</td><td>0.0059</td><td>0.79</td><td>0.002</td><td>26.158</td><td>0.053</td><td>15.662</td><td>0.005</td><td>24.746</td><td>0.007</td><td>|</td><td>3.856</td><td>0.057</td><td>|</td><td>0.1425</td><td>0.0674</td><td>29.45</td><td>31.83</td><td>-0.01667</td><td>0.02626</td><td>-0.01246</td><td>0.01733</td><td>-0.00215</td><td>0.01445</td><td>0.01045</td><td>0.01915</td><td>0.88</td><td>||</td><td>0.818</td><td>0.011</td><td>27.02</td><td>33.432</td><td>16.527</td><td>26.144</td><td>25.19</td><td>|</td><td>26.511</td><td>0.0179</td><td>26.866</td><td>0.318</td><td>16.761</td><td>0.035</td><td>25.902</td><td>0.043</td><td>|</td><td>59.372</td><td>0.0612</td><td>2.0</td><td>0.0</td><td>0.05</td><td>0.0</td><td>62.845</td><td>-100.0</td><td>58.336</td><td>-100.0</td><td>|</td><td>26.511</td><td>0.0179</td><td>0.818</td><td>0.011</td><td>26.866</td><td>0.317</td><td>16.761</td><td>0.035</td><td>25.902</td><td>0.043</td><td>|</td><td>4.324</td><td>0.281</td><td>|</td><td>0.2166</td><td>0.0538</td><td>33.81</td><td>11.72</td><td>-0.00066</td><td>0.02333</td><td>-0.01593</td><td>0.0266</td><td>0.01343</td><td>0.0296</td><td>0.00947</td><td>0.03553</td><td>0.803</td><td>||</td><td>-100.0</td><td>0.011</td><td>-100.0</td><td>-100.0</td><td>-100.0</td><td>-100.0</td><td>-100.0</td><td>|</td><td>-100.0</td><td>0.0179</td><td>-100.0</td><td>0.318</td><td>-100.0</td><td>0.035</td><td>-100.0</td><td>0.043</td><td>|</td><td>-100.0</td><td>0.0</td><td>-100.0</td><td>0.0</td><td>-100.0</td><td>0.0</td><td>-100.0</td><td>0.0</td><td>-100.0</td><td>0.0</td><td>|</td><td>-100.0</td><td>0.0</td><td>-100.0</td><td>0.0</td><td>-100.0</td><td>0.0</td><td>-100.0</td><td>0.0</td><td>-100.0</td><td>0.0</td><td>|</td><td>-100.0</td><td>-100.0</td><td>|</td><td>-100.0</td><td>-100.0</td><td>-100.0</td><td>-100.0</td><td>-100.0</td><td>-100.0</td><td>-100.0</td><td>-100.0</td><td>-100.0</td><td>-100.0</td><td>-100.0</td><td>-100.0</td><td>-100.0</td><td>||</td><td>0.822</td><td>0.007</td><td>24.962</td><td>31.375</td><td>14.636</td><td>24.114</td><td>23.218</td><td>|</td><td>24.544</td><td>0.076</td><td>26.501</td><td>0.19</td><td>14.822</td><td>0.022</td><td>23.934</td><td>0.027</td><td>|</td><td>-100.0</td><td>0.0</td><td>2.0</td><td>0.0</td><td>0.05</td><td>0.0</td><td>-100.0</td><td>-100.0</td><td>-100.0</td><td>-100.0</td><td>|</td><td>24.544</td><td>0.0759</td><td>0.822</td><td>0.007</td><td>26.501</td><td>0.19</td><td>14.822</td><td>0.022</td><td>23.934</td><td>0.027</td><td>|</td><td>4.282</td><td>0.195</td><td>|</td><td>0.2544</td><td>0.0835</td><td>35.6</td><td>8.42</td><td>0.02499</td><td>0.03778</td><td>-0.12223</td><td>0.1025</td><td>-0.03193</td><td>0.02931</td><td>-0.10389</td><td>0.07416</td><td>0.535</td><td>||</td><td>0.885</td><td>0.014</td><td>24.873</td><td>34.296</td><td>14.354</td><td>24.026</td><td>22.919</td><td>|</td><td>24.461</td><td>0.17</td><td>29.257</td><td>0.435</td><td>14.491</td><td>0.044</td><td>23.818</td><td>0.055</td><td>|</td><td>31.152</td><td>91.8951</td><td>2.0</td><td>0.0</td><td>0.053</td><td>0.0</td><td>34.513</td><td>8269.464</td><td>30.116</td><td>8269.464</td><td>|</td><td>24.461</td><td>0.0223</td><td>0.885</td><td>0.002</td><td>29.257</td><td>0.107</td><td>14.491</td><td>0.009</td><td>23.818</td><td>0.012</td><td>|</td><td>4.59</td><td>0.934</td><td>|</td><td>0.3072</td><td>0.0</td><td>42.37</td><td>0.0</td><td>0.0</td><td>0.0</td><td>0.0</td><td>0.0</td><td>0.0</td><td>0.0</td><td>0.0</td><td>0.0</td><td>0.589</td><td>||</td><td>17.4158869711</td><td>16.2874570295</td><td>-100.0</td><td>15.459079953</td><td>15.2655437814</td><td>||</td><td>-100</td><td>-100</td><td>-100</td><td>-100</td><td>-100</td><td>||</td><td>-100</td><td>-100</td><td>-100</td><td>-100</td><td>-100</td><td>||</td><td>-100</td><td>-100</td><td>-100</td><td>-100</td><td>-100</td><td>||</td><td>-100</td><td>-100</td><td>-100</td><td>-100</td><td>-100</td><td>||</td><td>-100</td><td>-100</td><td>-100</td><td>-100</td><td>-100</td><td>||</td><td>0.03193</td><td>188.6043594</td><td>12:34:25.05</td><td>12.9035629</td><td>+12:54:12.8</td><td>1.0154149</td><td>5.0338476</td><td>S</td><td>0</td><td>NGVS188.60431+12.903622_VCC1561</td><td>1561</td><td>N/A</td><td>99999999.0</td><td>NGVS188.60431+12.903622_VCC1561</td><td>E</td><td>0</td><td>NGVSJ12:34:25.05+12:54:12.8</td></tr>\n",
       "<tr><td>NGVS188.6085+11.916981_VCC1563</td><td>||</td><td>0.851</td><td>0.005</td><td>24.719</td><td>15.851</td><td>16.102</td><td>24.097</td><td>21.879</td><td>|</td><td>24.73</td><td>0.0379</td><td>15.842</td><td>0.169</td><td>16.105</td><td>0.013</td><td>24.099</td><td>0.013</td><td>|</td><td>18.352</td><td>6.7583</td><td>2.0</td><td>0.0</td><td>0.05</td><td>0.0</td><td>21.826</td><td>0.003</td><td>17.316</td><td>0.003</td><td>|</td><td>24.729</td><td>0.0379</td><td>0.851</td><td>0.005</td><td>15.832</td><td>0.067</td><td>16.11</td><td>0.013</td><td>24.103</td><td>0.016</td><td>|</td><td>3.393</td><td>0.033</td><td>|</td><td>0.1968</td><td>0.1044</td><td>-0.76</td><td>52.33</td><td>0.00169</td><td>0.03224</td><td>0.0067</td><td>0.02915</td><td>0.00469</td><td>0.02388</td><td>0.00857</td><td>0.02132</td><td>0.912</td><td>||</td><td>0.814</td><td>0.011</td><td>25.757</td><td>14.575</td><td>17.365</td><td>25.178</td><td>22.974</td><td>|</td><td>25.821</td><td>0.0272</td><td>15.029</td><td>0.329</td><td>17.327</td><td>0.027</td><td>25.207</td><td>0.027</td><td>|</td><td>21.582</td><td>18.4255</td><td>2.0</td><td>0.0</td><td>0.142</td><td>0.013</td><td>22.794</td><td>0.258</td><td>20.547</td><td>0.323</td><td>|</td><td>25.821</td><td>0.0272</td><td>0.814</td><td>0.011</td><td>15.029</td><td>0.124</td><td>17.334</td><td>0.027</td><td>25.215</td><td>0.032</td><td>|</td><td>3.171</td><td>0.05</td><td>|</td><td>0.1917</td><td>0.0</td><td>-1.43</td><td>0.0</td><td>0.0</td><td>0.0</td><td>0.0</td><td>0.0</td><td>0.0</td><td>0.0</td><td>0.0</td><td>0.0</td><td>0.849</td><td>||</td><td>-100.0</td><td>0.011</td><td>-100.0</td><td>-100.0</td><td>-100.0</td><td>-100.0</td><td>-100.0</td><td>|</td><td>-100.0</td><td>0.0272</td><td>-100.0</td><td>0.329</td><td>-100.0</td><td>0.027</td><td>-100.0</td><td>0.027</td><td>|</td><td>-100.0</td><td>0.0</td><td>-100.0</td><td>0.0</td><td>-100.0</td><td>0.0</td><td>-100.0</td><td>0.0</td><td>-100.0</td><td>0.0</td><td>|</td><td>-100.0</td><td>0.0</td><td>-100.0</td><td>0.0</td><td>-100.0</td><td>0.0</td><td>-100.0</td><td>0.0</td><td>-100.0</td><td>0.0</td><td>|</td><td>-100.0</td><td>-100.0</td><td>|</td><td>-100.0</td><td>-100.0</td><td>-100.0</td><td>-100.0</td><td>-100.0</td><td>-100.0</td><td>-100.0</td><td>-100.0</td><td>-100.0</td><td>-100.0</td><td>-100.0</td><td>-100.0</td><td>-100.0</td><td>||</td><td>0.856</td><td>0.007</td><td>23.918</td><td>16.025</td><td>15.263</td><td>23.282</td><td>20.55</td><td>|</td><td>23.913</td><td>0.1189</td><td>15.873</td><td>0.236</td><td>15.281</td><td>0.018</td><td>23.28</td><td>0.018</td><td>|</td><td>18.391</td><td>115.2517</td><td>2.0</td><td>0.0</td><td>0.071</td><td>0.002</td><td>21.114</td><td>0.071</td><td>17.355</td><td>0.088</td><td>|</td><td>23.911</td><td>0.1191</td><td>0.856</td><td>0.007</td><td>15.857</td><td>0.091</td><td>15.286</td><td>0.018</td><td>23.282</td><td>0.022</td><td>|</td><td>3.446</td><td>0.407</td><td>|</td><td>0.2411</td><td>0.0977</td><td>-4.65</td><td>48.44</td><td>0.00879</td><td>0.04079</td><td>-0.00832</td><td>0.05118</td><td>0.00855</td><td>0.04474</td><td>0.01487</td><td>0.04681</td><td>0.551</td><td>||</td><td>0.855</td><td>0.011</td><td>23.908</td><td>16.656</td><td>15.11</td><td>23.213</td><td>20.624</td><td>|</td><td>23.766</td><td>0.2072</td><td>15.317</td><td>0.348</td><td>15.211</td><td>0.028</td><td>23.132</td><td>0.028</td><td>|</td><td>19.288</td><td>284.8302</td><td>2.0</td><td>0.0</td><td>0.117</td><td>0.017</td><td>20.925</td><td>0.424</td><td>18.252</td><td>0.528</td><td>|</td><td>23.765</td><td>0.2074</td><td>0.855</td><td>0.011</td><td>15.309</td><td>0.129</td><td>15.217</td><td>0.028</td><td>23.137</td><td>0.033</td><td>|</td><td>3.793</td><td>1.35</td><td>|</td><td>0.1968</td><td>0.0</td><td>-0.76</td><td>0.0</td><td>0.0</td><td>0.0</td><td>0.0</td><td>0.0</td><td>0.0</td><td>0.0</td><td>0.0</td><td>0.0</td><td>0.615</td><td>||</td><td>18.0128800901</td><td>16.854198417</td><td>-100.0</td><td>16.0281178795</td><td>15.9196229064</td><td>||</td><td>-100</td><td>-100</td><td>-100</td><td>-100</td><td>-100</td><td>||</td><td>-100</td><td>-100</td><td>-100</td><td>-100</td><td>-100</td><td>||</td><td>-100</td><td>-100</td><td>-100</td><td>-100</td><td>-100</td><td>||</td><td>-100</td><td>-100</td><td>-100</td><td>-100</td><td>-100</td><td>||</td><td>-100</td><td>-100</td><td>-100</td><td>-100</td><td>-100</td><td>||</td><td>0.039</td><td>188.6085262</td><td>12:34:26.05</td><td>11.9170464</td><td>+11:55:01.4</td><td>1.0016533</td><td>4.0807631</td><td>D</td><td>0</td><td>NGVS188.6085+11.916981_VCC1563</td><td>1563</td><td>N/A</td><td>99999999.0</td><td>NGVS188.6085+11.916981_VCC1563</td><td>E</td><td>1</td><td>NGVSJ12:34:26.05+11:55:01.4</td></tr>\n",
       "<tr><td>NGVS189.95008+12.973979_VCC1809</td><td>||</td><td>1.818</td><td>0.01</td><td>21.383</td><td>7.679</td><td>13.832</td><td>20.254</td><td>16.527</td><td>|</td><td>21.226</td><td>0.7046</td><td>7.273</td><td>0.076</td><td>13.805</td><td>0.008</td><td>20.109</td><td>0.008</td><td>|</td><td>16.261</td><td>513.0917</td><td>2.0</td><td>0.0</td><td>0.226</td><td>0.004</td><td>16.463</td><td>0.044</td><td>15.225</td><td>0.056</td><td>|</td><td>21.453</td><td>0.5657</td><td>1.818</td><td>0.01</td><td>8.189</td><td>0.016</td><td>13.903</td><td>0.008</td><td>20.465</td><td>0.009</td><td>|</td><td>7.334</td><td>0.26</td><td>|</td><td>0.4143</td><td>0.0961</td><td>-48.72</td><td>73.61</td><td>-0.00596</td><td>0.00687</td><td>0.00306</td><td>0.00554</td><td>-0.00239</td><td>0.00766</td><td>0.01763</td><td>0.00663</td><td>0.698</td><td>||</td><td>2.207</td><td>0.026</td><td>22.264</td><td>6.6</td><td>14.889</td><td>20.982</td><td>17.341</td><td>|</td><td>22.177</td><td>0.5143</td><td>6.434</td><td>0.264</td><td>14.864</td><td>0.028</td><td>20.902</td><td>0.028</td><td>|</td><td>15.326</td><td>-100.0</td><td>2.0</td><td>0.0</td><td>0.107</td><td>0.004</td><td>17.144</td><td>0.122</td><td>14.29</td><td>0.152</td><td>|</td><td>22.55</td><td>0.3586</td><td>2.207</td><td>0.026</td><td>7.812</td><td>0.027</td><td>15.005</td><td>0.026</td><td>21.465</td><td>0.027</td><td>|</td><td>9.841</td><td>0.489</td><td>|</td><td>0.4061</td><td>0.1099</td><td>-70.01</td><td>49.85</td><td>-0.01195</td><td>0.00759</td><td>-0.0008</td><td>0.00485</td><td>-0.00581</td><td>0.00825</td><td>0.02404</td><td>0.00857</td><td>0.842</td><td>||</td><td>-100.0</td><td>0.026</td><td>-100.0</td><td>-100.0</td><td>-100.0</td><td>-100.0</td><td>-100.0</td><td>|</td><td>-100.0</td><td>0.5143</td><td>-100.0</td><td>0.264</td><td>-100.0</td><td>0.028</td><td>-100.0</td><td>0.028</td><td>|</td><td>-100.0</td><td>0.0</td><td>-100.0</td><td>0.0</td><td>-100.0</td><td>0.0</td><td>-100.0</td><td>0.0</td><td>-100.0</td><td>0.0</td><td>|</td><td>-100.0</td><td>0.0</td><td>-100.0</td><td>0.0</td><td>-100.0</td><td>0.0</td><td>-100.0</td><td>0.0</td><td>-100.0</td><td>0.0</td><td>|</td><td>-100.0</td><td>-100.0</td><td>|</td><td>-100.0</td><td>-100.0</td><td>-100.0</td><td>-100.0</td><td>-100.0</td><td>-100.0</td><td>-100.0</td><td>-100.0</td><td>-100.0</td><td>-100.0</td><td>-100.0</td><td>-100.0</td><td>-100.0</td><td>||</td><td>1.681</td><td>0.008</td><td>20.745</td><td>8.655</td><td>13.086</td><td>19.768</td><td>15.963</td><td>|</td><td>20.676</td><td>1.1157</td><td>8.265</td><td>0.064</td><td>13.079</td><td>0.007</td><td>19.66</td><td>0.007</td><td>|</td><td>14.899</td><td>-100.0</td><td>2.0</td><td>0.0</td><td>0.124</td><td>0.003</td><td>16.399</td><td>0.066</td><td>13.863</td><td>0.083</td><td>|</td><td>20.789</td><td>0.9997</td><td>1.681</td><td>0.008</td><td>8.766</td><td>0.015</td><td>13.131</td><td>0.006</td><td>19.84</td><td>0.007</td><td>|</td><td>5.632</td><td>0.379</td><td>|</td><td>0.4294</td><td>0.0785</td><td>0.83</td><td>89.0</td><td>-0.00676</td><td>0.00803</td><td>0.0014</td><td>0.00418</td><td>-0.00092</td><td>0.00673</td><td>0.02295</td><td>0.00852</td><td>0.545</td><td>||</td><td>1.657</td><td>0.009</td><td>20.575</td><td>8.576</td><td>12.962</td><td>19.624</td><td>16.35</td><td>|</td><td>20.575</td><td>1.6961</td><td>8.514</td><td>0.081</td><td>12.933</td><td>0.008</td><td>19.579</td><td>0.008</td><td>|</td><td>15.592</td><td>-100.0</td><td>2.0</td><td>0.0</td><td>0.166</td><td>0.003</td><td>16.466</td><td>0.049</td><td>14.556</td><td>0.062</td><td>|</td><td>20.666</td><td>1.5526</td><td>1.657</td><td>0.009</td><td>8.927</td><td>0.022</td><td>12.975</td><td>0.008</td><td>19.724</td><td>0.01</td><td>|</td><td>5.265</td><td>0.97</td><td>|</td><td>0.4054</td><td>0.0986</td><td>0.53</td><td>89.1</td><td>-0.00573</td><td>0.00873</td><td>-0.00221</td><td>0.00666</td><td>-0.00142</td><td>0.00651</td><td>0.02889</td><td>0.00581</td><td>0.629</td><td>||</td><td>15.5412201479</td><td>14.5849176151</td><td>-100.0</td><td>13.94731422</td><td>13.8159721521</td><td>||</td><td>-100</td><td>-100</td><td>-100</td><td>-100</td><td>-100</td><td>||</td><td>-100</td><td>-100</td><td>-100</td><td>-100</td><td>-100</td><td>||</td><td>-100</td><td>-100</td><td>-100</td><td>-100</td><td>-100</td><td>||</td><td>-100</td><td>-100</td><td>-100</td><td>-100</td><td>-100</td><td>||</td><td>-100</td><td>-100</td><td>-100</td><td>-100</td><td>-100</td><td>||</td><td>0.03738</td><td>189.9500562</td><td>12:39:48.01</td><td>12.9739543</td><td>+12:58:26.2</td><td>2.2656052</td><td>5.5497233</td><td>D</td><td>0</td><td>NGVS189.95008+12.973979_VCC1809</td><td>1809</td><td>N/A</td><td>0.00933</td><td>NGVS189.95008+12.973979_VCC1809</td><td>E</td><td>1</td><td>NGVSJ12:39:48.01+12:58:26.2</td></tr>\n",
       "<tr><td>NGVS190.05582+12.874752_VCC1828</td><td>||</td><td>1.525</td><td>0.004</td><td>23.947</td><td>16.631</td><td>14.844</td><td>22.944</td><td>20.618</td><td>|</td><td>23.738</td><td>0.0607</td><td>15.316</td><td>0.112</td><td>14.913</td><td>0.007</td><td>22.835</td><td>0.017</td><td>|</td><td>17.99</td><td>14.9777</td><td>2.0</td><td>0.0</td><td>0.05</td><td>0.0</td><td>21.464</td><td>0.004</td><td>16.955</td><td>0.004</td><td>|</td><td>23.741</td><td>0.0605</td><td>1.525</td><td>0.004</td><td>15.34</td><td>0.037</td><td>14.916</td><td>0.007</td><td>22.841</td><td>0.009</td><td>|</td><td>5.266</td><td>0.136</td><td>|</td><td>0.2159</td><td>0.0783</td><td>-14.85</td><td>3.6</td><td>4e-05</td><td>0.00744</td><td>-0.00414</td><td>0.00681</td><td>-0.00759</td><td>0.00762</td><td>0.00259</td><td>0.00798</td><td>0.841</td><td>||</td><td>1.453</td><td>0.009</td><td>24.997</td><td>15.123</td><td>16.207</td><td>24.1</td><td>21.895</td><td>|</td><td>24.983</td><td>0.0508</td><td>15.144</td><td>0.309</td><td>16.205</td><td>0.02</td><td>24.102</td><td>0.048</td><td>|</td><td>19.084</td><td>7.2349</td><td>2.0</td><td>0.0</td><td>0.05</td><td>0.0</td><td>22.558</td><td>0.006</td><td>18.048</td><td>0.006</td><td>|</td><td>24.986</td><td>0.0507</td><td>1.453</td><td>0.009</td><td>15.172</td><td>0.107</td><td>16.209</td><td>0.02</td><td>24.109</td><td>0.025</td><td>|</td><td>4.562</td><td>0.48</td><td>|</td><td>0.2162</td><td>0.0679</td><td>-12.88</td><td>6.73</td><td>-0.00031</td><td>0.0146</td><td>-0.00795</td><td>0.01826</td><td>-0.00723</td><td>0.01352</td><td>-0.00238</td><td>0.01841</td><td>0.847</td><td>||</td><td>-100.0</td><td>0.009</td><td>-100.0</td><td>-100.0</td><td>-100.0</td><td>-100.0</td><td>-100.0</td><td>|</td><td>-100.0</td><td>0.0508</td><td>-100.0</td><td>0.309</td><td>-100.0</td><td>0.02</td><td>-100.0</td><td>0.048</td><td>|</td><td>-100.0</td><td>0.0</td><td>-100.0</td><td>0.0</td><td>-100.0</td><td>0.0</td><td>-100.0</td><td>0.0</td><td>-100.0</td><td>0.0</td><td>|</td><td>-100.0</td><td>0.0</td><td>-100.0</td><td>0.0</td><td>-100.0</td><td>0.0</td><td>-100.0</td><td>0.0</td><td>-100.0</td><td>0.0</td><td>|</td><td>-100.0</td><td>-100.0</td><td>|</td><td>-100.0</td><td>-100.0</td><td>-100.0</td><td>-100.0</td><td>-100.0</td><td>-100.0</td><td>-100.0</td><td>-100.0</td><td>-100.0</td><td>-100.0</td><td>-100.0</td><td>-100.0</td><td>-100.0</td><td>||</td><td>1.492</td><td>0.004</td><td>22.913</td><td>15.606</td><td>13.961</td><td>21.923</td><td>19.389</td><td>|</td><td>22.698</td><td>0.2019</td><td>14.313</td><td>0.129</td><td>14.032</td><td>0.009</td><td>21.806</td><td>0.021</td><td>|</td><td>17.187</td><td>40.049</td><td>2.0</td><td>0.0</td><td>0.05</td><td>0.0</td><td>20.661</td><td>0.005</td><td>16.151</td><td>0.005</td><td>|</td><td>22.701</td><td>0.2014</td><td>1.492</td><td>0.004</td><td>14.33</td><td>0.044</td><td>14.034</td><td>0.009</td><td>21.811</td><td>0.011</td><td>|</td><td>5.24</td><td>0.331</td><td>|</td><td>0.2256</td><td>0.0767</td><td>-14.81</td><td>3.96</td><td>-0.00186</td><td>0.00799</td><td>-0.00591</td><td>0.01286</td><td>-0.00628</td><td>0.00772</td><td>0.00317</td><td>0.00882</td><td>0.546</td><td>||</td><td>1.471</td><td>0.006</td><td>22.751</td><td>15.734</td><td>13.765</td><td>21.745</td><td>19.368</td><td>|</td><td>22.475</td><td>0.3524</td><td>14.052</td><td>0.18</td><td>13.855</td><td>0.012</td><td>21.589</td><td>0.03</td><td>|</td><td>16.977</td><td>63.8707</td><td>2.0</td><td>0.0</td><td>0.05</td><td>0.0</td><td>20.451</td><td>0.007</td><td>15.941</td><td>0.007</td><td>|</td><td>22.478</td><td>0.3516</td><td>1.471</td><td>0.006</td><td>14.07</td><td>0.062</td><td>13.858</td><td>0.012</td><td>21.595</td><td>0.016</td><td>|</td><td>5.304</td><td>1.035</td><td>|</td><td>0.2181</td><td>0.0791</td><td>-16.15</td><td>4.91</td><td>0.0027</td><td>0.00855</td><td>-0.00136</td><td>0.0125</td><td>-0.00461</td><td>0.00712</td><td>0.00204</td><td>0.01023</td><td>0.636</td><td>||</td><td>16.8712668901</td><td>15.5961731528</td><td>-100.0</td><td>14.6592474342</td><td>14.4709767649</td><td>||</td><td>-100</td><td>-100</td><td>-100</td><td>-100</td><td>-100</td><td>||</td><td>-100</td><td>-100</td><td>-100</td><td>-100</td><td>-100</td><td>||</td><td>-100</td><td>-100</td><td>-100</td><td>-100</td><td>-100</td><td>||</td><td>-100</td><td>-100</td><td>-100</td><td>-100</td><td>-100</td><td>||</td><td>-100</td><td>-100</td><td>-100</td><td>-100</td><td>-100</td><td>||</td><td>0.03693</td><td>190.0557887</td><td>12:40:13.39</td><td>12.8747695</td><td>+12:52:29.2</td><td>2.3434074</td><td>5.5088679</td><td>D</td><td>0</td><td>NGVS190.05582+12.874752_VCC1828</td><td>1828</td><td>N/A</td><td>0.00523</td><td>NGVS190.05582+12.874752_VCC1828</td><td>E</td><td>1</td><td>NGVSJ12:40:13.39+12:52:29.2</td></tr>\n",
       "<tr><td>NGVS190.24403+11.184488_VCC1861</td><td>||</td><td>1.553</td><td>0.002</td><td>23.426</td><td>20.29</td><td>13.844</td><td>22.376</td><td>19.316</td><td>|</td><td>23.121</td><td>0.0557</td><td>18.198</td><td>0.068</td><td>13.912</td><td>0.003</td><td>22.207</td><td>0.009</td><td>|</td><td>16.684</td><td>40.3546</td><td>2.0</td><td>0.0</td><td>0.05</td><td>0.0</td><td>20.158</td><td>0.003</td><td>15.648</td><td>0.003</td><td>|</td><td>23.126</td><td>0.0555</td><td>1.553</td><td>0.002</td><td>18.245</td><td>0.022</td><td>13.915</td><td>0.003</td><td>22.216</td><td>0.004</td><td>|</td><td>5.641</td><td>0.15</td><td>|</td><td>0.03</td><td>0.0089</td><td>-39.61</td><td>36.06</td><td>-0.00085</td><td>0.00251</td><td>0.0014</td><td>0.00539</td><td>-0.00152</td><td>0.00547</td><td>-0.00019</td><td>0.00362</td><td>0.61</td><td>||</td><td>1.526</td><td>0.004</td><td>24.858</td><td>21.891</td><td>15.111</td><td>23.808</td><td>20.959</td><td>|</td><td>24.504</td><td>0.034</td><td>18.746</td><td>0.167</td><td>15.239</td><td>0.008</td><td>23.599</td><td>0.021</td><td>|</td><td>17.882</td><td>12.4675</td><td>2.0</td><td>0.0</td><td>0.05</td><td>0.0</td><td>21.356</td><td>0.003</td><td>16.846</td><td>0.003</td><td>|</td><td>24.51</td><td>0.0338</td><td>1.526</td><td>0.004</td><td>18.801</td><td>0.057</td><td>15.243</td><td>0.008</td><td>23.609</td><td>0.011</td><td>|</td><td>5.638</td><td>0.134</td><td>|</td><td>0.0342</td><td>0.0144</td><td>-48.7</td><td>38.79</td><td>-0.00387</td><td>0.00769</td><td>-0.00221</td><td>0.00582</td><td>0.00307</td><td>0.00643</td><td>0.00065</td><td>0.00729</td><td>0.828</td><td>||</td><td>-100.0</td><td>0.004</td><td>-100.0</td><td>-100.0</td><td>-100.0</td><td>-100.0</td><td>-100.0</td><td>|</td><td>-100.0</td><td>0.034</td><td>-100.0</td><td>0.167</td><td>-100.0</td><td>0.008</td><td>-100.0</td><td>0.021</td><td>|</td><td>-100.0</td><td>0.0</td><td>-100.0</td><td>0.0</td><td>-100.0</td><td>0.0</td><td>-100.0</td><td>0.0</td><td>-100.0</td><td>0.0</td><td>|</td><td>-100.0</td><td>0.0</td><td>-100.0</td><td>0.0</td><td>-100.0</td><td>0.0</td><td>-100.0</td><td>0.0</td><td>-100.0</td><td>0.0</td><td>|</td><td>-100.0</td><td>-100.0</td><td>|</td><td>-100.0</td><td>-100.0</td><td>-100.0</td><td>-100.0</td><td>-100.0</td><td>-100.0</td><td>-100.0</td><td>-100.0</td><td>-100.0</td><td>-100.0</td><td>-100.0</td><td>-100.0</td><td>-100.0</td><td>||</td><td>1.509</td><td>0.002</td><td>22.408</td><td>19.382</td><td>12.922</td><td>21.355</td><td>18.395</td><td>|</td><td>22.06</td><td>0.2131</td><td>17.07</td><td>0.085</td><td>13.004</td><td>0.005</td><td>21.161</td><td>0.012</td><td>|</td><td>15.861</td><td>91.2531</td><td>2.0</td><td>0.0</td><td>0.05</td><td>0.0</td><td>19.335</td><td>0.003</td><td>14.826</td><td>0.003</td><td>|</td><td>22.064</td><td>0.2122</td><td>1.509</td><td>0.002</td><td>17.106</td><td>0.028</td><td>13.007</td><td>0.005</td><td>21.169</td><td>0.006</td><td>|</td><td>5.677</td><td>0.261</td><td>|</td><td>0.0417</td><td>0.0168</td><td>-47.11</td><td>13.49</td><td>0.00165</td><td>0.00885</td><td>-0.00128</td><td>0.00655</td><td>-0.0022</td><td>0.00959</td><td>-0.00272</td><td>0.00693</td><td>0.566</td><td>||</td><td>1.379</td><td>0.003</td><td>22.043</td><td>17.746</td><td>12.791</td><td>21.032</td><td>18.636</td><td>|</td><td>21.66</td><td>0.3546</td><td>15.251</td><td>0.086</td><td>12.892</td><td>0.006</td><td>20.804</td><td>0.013</td><td>|</td><td>15.739</td><td>79.1244</td><td>2.0</td><td>0.0</td><td>0.05</td><td>0.0</td><td>19.213</td><td>0.002</td><td>14.703</td><td>0.002</td><td>|</td><td>21.663</td><td>0.3535</td><td>1.379</td><td>0.003</td><td>15.276</td><td>0.03</td><td>12.896</td><td>0.006</td><td>20.811</td><td>0.007</td><td>|</td><td>5.313</td><td>1.296</td><td>|</td><td>0.0383</td><td>0.0144</td><td>-50.01</td><td>11.64</td><td>0.00202</td><td>0.00635</td><td>-0.00189</td><td>0.00531</td><td>0.00043</td><td>0.00753</td><td>-0.00052</td><td>0.00345</td><td>0.837</td><td>||</td><td>15.9285488488</td><td>14.596915365</td><td>-100.0</td><td>13.6373142184</td><td>13.4327114872</td><td>||</td><td>-100</td><td>-100</td><td>-100</td><td>-100</td><td>-100</td><td>||</td><td>-100</td><td>-100</td><td>-100</td><td>-100</td><td>-100</td><td>||</td><td>-100</td><td>-100</td><td>-100</td><td>-100</td><td>-100</td><td>||</td><td>-100</td><td>-100</td><td>-100</td><td>-100</td><td>-100</td><td>||</td><td>-100</td><td>-100</td><td>-100</td><td>-100</td><td>-100</td><td>||</td><td>0.02956</td><td>190.2439935</td><td>12:40:58.56</td><td>11.1844975</td><td>+11:11:04.2</td><td>2.761987</td><td>4.2134905</td><td>D</td><td>0</td><td>NGVS190.24403+11.184488_VCC1861</td><td>1861</td><td>N/A</td><td>0.00209</td><td>NGVS190.24403+11.184488_VCC1861</td><td>E</td><td>1</td><td>NGVSJ12:40:58.56+11:11:04.2</td></tr>\n",
       "<tr><td>NGVS190.31398+11.298462_VCC1870</td><td>||</td><td>1.108</td><td>0.003</td><td>24.171</td><td>12.047</td><td>15.758</td><td>23.158</td><td>21.763</td><td>|</td><td>23.669</td><td>0.0723</td><td>10.09</td><td>0.027</td><td>15.907</td><td>0.008</td><td>22.922</td><td>0.01</td><td>|</td><td>-100.0</td><td>0.0</td><td>2.0</td><td>0.0</td><td>0.12</td><td>0.0</td><td>-100.0</td><td>-100.0</td><td>-100.0</td><td>-100.0</td><td>|</td><td>23.669</td><td>0.0726</td><td>1.108</td><td>0.003</td><td>10.09</td><td>0.027</td><td>15.907</td><td>0.008</td><td>22.922</td><td>0.01</td><td>|</td><td>5.131</td><td>0.17</td><td>|</td><td>0.4664</td><td>0.0538</td><td>-27.31</td><td>1.64</td><td>0.0137</td><td>0.02713</td><td>0.00281</td><td>0.01466</td><td>0.00665</td><td>0.02849</td><td>0.01068</td><td>0.00699</td><td>0.611</td><td>||</td><td>1.15</td><td>0.006</td><td>25.165</td><td>11.318</td><td>16.923</td><td>24.188</td><td>22.834</td><td>|</td><td>24.777</td><td>0.055</td><td>9.813</td><td>0.061</td><td>17.058</td><td>0.018</td><td>24.012</td><td>0.022</td><td>|</td><td>56.883</td><td>0.1241</td><td>2.0</td><td>0.0</td><td>0.052</td><td>0.0</td><td>60.269</td><td>-100.0</td><td>55.848</td><td>-100.0</td><td>|</td><td>24.777</td><td>0.0546</td><td>1.15</td><td>0.006</td><td>9.813</td><td>0.06</td><td>17.058</td><td>0.018</td><td>24.012</td><td>0.022</td><td>|</td><td>4.88</td><td>0.139</td><td>|</td><td>0.4539</td><td>0.062</td><td>-26.01</td><td>3.43</td><td>0.00109</td><td>0.02096</td><td>-0.00443</td><td>0.02049</td><td>0.03143</td><td>0.02226</td><td>0.01379</td><td>0.01484</td><td>0.834</td><td>||</td><td>-100.0</td><td>0.006</td><td>-100.0</td><td>-100.0</td><td>-100.0</td><td>-100.0</td><td>-100.0</td><td>|</td><td>-100.0</td><td>0.055</td><td>-100.0</td><td>0.061</td><td>-100.0</td><td>0.018</td><td>-100.0</td><td>0.022</td><td>|</td><td>-100.0</td><td>0.0</td><td>-100.0</td><td>0.0</td><td>-100.0</td><td>0.0</td><td>-100.0</td><td>0.0</td><td>-100.0</td><td>0.0</td><td>|</td><td>-100.0</td><td>0.0</td><td>-100.0</td><td>0.0</td><td>-100.0</td><td>0.0</td><td>-100.0</td><td>0.0</td><td>-100.0</td><td>0.0</td><td>|</td><td>-100.0</td><td>-100.0</td><td>|</td><td>-100.0</td><td>-100.0</td><td>-100.0</td><td>-100.0</td><td>-100.0</td><td>-100.0</td><td>-100.0</td><td>-100.0</td><td>-100.0</td><td>-100.0</td><td>-100.0</td><td>-100.0</td><td>-100.0</td><td>||</td><td>1.102</td><td>0.004</td><td>23.49</td><td>12.476</td><td>14.982</td><td>22.458</td><td>21.061</td><td>|</td><td>22.972</td><td>0.2079</td><td>10.379</td><td>0.043</td><td>15.151</td><td>0.012</td><td>22.227</td><td>0.015</td><td>|</td><td>23.326</td><td>6.3343</td><td>2.0</td><td>0.0</td><td>0.05</td><td>0.0</td><td>26.798</td><td>0.316</td><td>22.29</td><td>0.316</td><td>|</td><td>22.959</td><td>0.2357</td><td>1.091</td><td>0.005</td><td>10.321</td><td>0.046</td><td>15.155</td><td>0.013</td><td>22.219</td><td>0.016</td><td>|</td><td>5.217</td><td>0.347</td><td>|</td><td>0.4714</td><td>0.0545</td><td>-26.84</td><td>2.44</td><td>0.02764</td><td>0.0529</td><td>0.00541</td><td>0.01977</td><td>0.00786</td><td>0.03175</td><td>0.00439</td><td>0.01896</td><td>0.568</td><td>||</td><td>1.046</td><td>0.005</td><td>23.555</td><td>13.986</td><td>14.732</td><td>22.456</td><td>20.98</td><td>|</td><td>22.75</td><td>0.3221</td><td>10.128</td><td>0.056</td><td>15.007</td><td>0.016</td><td>22.03</td><td>0.02</td><td>|</td><td>-100.0</td><td>0.0</td><td>2.0</td><td>0.0</td><td>0.05</td><td>0.0</td><td>-100.0</td><td>-100.0</td><td>-100.0</td><td>-100.0</td><td>|</td><td>22.75</td><td>0.3203</td><td>1.046</td><td>0.005</td><td>10.128</td><td>0.056</td><td>15.007</td><td>0.016</td><td>22.03</td><td>0.02</td><td>|</td><td>5.58</td><td>1.177</td><td>|</td><td>0.4615</td><td>0.069</td><td>-25.07</td><td>4.63</td><td>0.00396</td><td>0.03709</td><td>0.00031</td><td>0.01537</td><td>0.00369</td><td>0.02546</td><td>0.00888</td><td>0.04037</td><td>0.845</td><td>||</td><td>17.6213872873</td><td>16.510098891</td><td>-100.0</td><td>15.7651645657</td><td>15.6092321706</td><td>||</td><td>-100</td><td>-100</td><td>-100</td><td>-100</td><td>-100</td><td>||</td><td>-100</td><td>-100</td><td>-100</td><td>-100</td><td>-100</td><td>||</td><td>-100</td><td>-100</td><td>-100</td><td>-100</td><td>-100</td><td>||</td><td>-100</td><td>-100</td><td>-100</td><td>-100</td><td>-100</td><td>||</td><td>-100</td><td>-100</td><td>-100</td><td>-100</td><td>-100</td><td>||</td><td>0.02798</td><td>190.3139453</td><td>12:41:15.35</td><td>11.2984787</td><td>+11:17:54.5</td><td>2.7764672</td><td>4.3445195</td><td>S</td><td>0</td><td>NGVS190.31398+11.298462_VCC1870</td><td>1870</td><td>N/A</td><td>0.00539</td><td>NGVS190.31398+11.298462_VCC1870</td><td>E</td><td>0</td><td>NGVSJ12:41:15.35+11:17:54.5</td></tr>\n",
       "<tr><td>NGVS190.31557+11.387209_VCC1871</td><td>||</td><td>1.731</td><td>0.004</td><td>21.155</td><td>6.97</td><td>13.97</td><td>20.182</td><td>17.828</td><td>|</td><td>21.15</td><td>0.2664</td><td>6.793</td><td>0.022</td><td>13.996</td><td>0.003</td><td>20.152</td><td>0.003</td><td>|</td><td>18.811</td><td>28.4833</td><td>2.0</td><td>0.0</td><td>0.363</td><td>0.005</td><td>17.98</td><td>0.034</td><td>17.775</td><td>0.045</td><td>|</td><td>21.211</td><td>0.2512</td><td>1.731</td><td>0.004</td><td>7.008</td><td>0.006</td><td>14.024</td><td>0.003</td><td>20.248</td><td>0.003</td><td>|</td><td>5.51</td><td>0.253</td><td>|</td><td>0.1378</td><td>0.0185</td><td>29.63</td><td>1.78</td><td>-0.00161</td><td>0.0026</td><td>-0.00145</td><td>0.00152</td><td>-0.00261</td><td>0.00117</td><td>-0.00127</td><td>0.00355</td><td>0.769</td><td>||</td><td>1.525</td><td>0.006</td><td>22.662</td><td>7.236</td><td>15.435</td><td>21.728</td><td>19.523</td><td>|</td><td>22.624</td><td>0.1211</td><td>6.994</td><td>0.033</td><td>15.462</td><td>0.004</td><td>21.681</td><td>0.004</td><td>|</td><td>20.559</td><td>5.6391</td><td>2.0</td><td>0.0</td><td>0.449</td><td>0.007</td><td>19.266</td><td>0.04</td><td>19.523</td><td>0.053</td><td>|</td><td>22.69</td><td>0.1136</td><td>1.525</td><td>0.006</td><td>7.24</td><td>0.01</td><td>15.495</td><td>0.004</td><td>21.789</td><td>0.005</td><td>|</td><td>5.137</td><td>0.134</td><td>|</td><td>0.1209</td><td>0.0238</td><td>30.65</td><td>3.1</td><td>-0.00178</td><td>0.00355</td><td>-0.00138</td><td>0.00267</td><td>-0.00129</td><td>0.00204</td><td>-0.00116</td><td>0.00325</td><td>0.839</td><td>||</td><td>-100.0</td><td>0.006</td><td>-100.0</td><td>-100.0</td><td>-100.0</td><td>-100.0</td><td>-100.0</td><td>|</td><td>-100.0</td><td>0.1211</td><td>-100.0</td><td>0.033</td><td>-100.0</td><td>0.004</td><td>-100.0</td><td>0.004</td><td>|</td><td>-100.0</td><td>0.0</td><td>-100.0</td><td>0.0</td><td>-100.0</td><td>0.0</td><td>-100.0</td><td>0.0</td><td>-100.0</td><td>0.0</td><td>|</td><td>-100.0</td><td>0.0</td><td>-100.0</td><td>0.0</td><td>-100.0</td><td>0.0</td><td>-100.0</td><td>0.0</td><td>-100.0</td><td>0.0</td><td>|</td><td>-100.0</td><td>-100.0</td><td>|</td><td>-100.0</td><td>-100.0</td><td>-100.0</td><td>-100.0</td><td>-100.0</td><td>-100.0</td><td>-100.0</td><td>-100.0</td><td>-100.0</td><td>-100.0</td><td>-100.0</td><td>-100.0</td><td>-100.0</td><td>||</td><td>1.76</td><td>0.004</td><td>20.092</td><td>6.752</td><td>12.969</td><td>19.112</td><td>16.509</td><td>|</td><td>20.099</td><td>0.869</td><td>6.613</td><td>0.026</td><td>12.995</td><td>0.003</td><td>19.093</td><td>0.003</td><td>|</td><td>17.745</td><td>72.3634</td><td>2.0</td><td>0.0</td><td>0.351</td><td>0.004</td><td>16.988</td><td>0.031</td><td>16.709</td><td>0.04</td><td>|</td><td>20.16</td><td>0.8192</td><td>1.76</td><td>0.004</td><td>6.822</td><td>0.006</td><td>13.023</td><td>0.003</td><td>19.188</td><td>0.004</td><td>|</td><td>5.546</td><td>0.677</td><td>|</td><td>0.1411</td><td>0.0155</td><td>29.14</td><td>0.96</td><td>-0.00213</td><td>0.00256</td><td>-0.00173</td><td>0.00148</td><td>-0.00037</td><td>0.0014</td><td>-0.00169</td><td>0.00312</td><td>0.505</td><td>||</td><td>1.662</td><td>0.006</td><td>19.82</td><td>6.772</td><td>12.703</td><td>18.852</td><td>16.705</td><td>|</td><td>19.795</td><td>1.4098</td><td>6.587</td><td>0.029</td><td>12.723</td><td>0.004</td><td>18.812</td><td>0.004</td><td>|</td><td>17.776</td><td>92.9682</td><td>2.0</td><td>0.0</td><td>0.428</td><td>0.007</td><td>16.587</td><td>0.044</td><td>16.74</td><td>0.058</td><td>|</td><td>19.861</td><td>1.3219</td><td>1.662</td><td>0.006</td><td>6.816</td><td>0.007</td><td>12.755</td><td>0.004</td><td>18.918</td><td>0.004</td><td>|</td><td>5.376</td><td>1.211</td><td>|</td><td>0.1256</td><td>0.0236</td><td>29.13</td><td>1.56</td><td>-0.0013</td><td>0.0026</td><td>-0.00231</td><td>0.00159</td><td>-0.00046</td><td>0.00188</td><td>-0.00209</td><td>0.0028</td><td>0.844</td><td>||</td><td>16.2221268162</td><td>14.7219130688</td><td>-100.0</td><td>13.6939464807</td><td>13.4295103073</td><td>||</td><td>-100</td><td>-100</td><td>-100</td><td>-100</td><td>-100</td><td>||</td><td>-100</td><td>-100</td><td>-100</td><td>-100</td><td>-100</td><td>||</td><td>-100</td><td>-100</td><td>-100</td><td>-100</td><td>-100</td><td>||</td><td>-100</td><td>-100</td><td>-100</td><td>-100</td><td>-100</td><td>||</td><td>-100</td><td>-100</td><td>-100</td><td>-100</td><td>-100</td><td>||</td><td>0.03093</td><td>190.3155405</td><td>12:41:15.73</td><td>11.3872469</td><td>+11:23:14.1</td><td>2.7438201</td><td>4.4130368</td><td>D</td><td>0</td><td>NGVS190.31557+11.387209_VCC1871</td><td>1871</td><td>N/A</td><td>0.00196</td><td>NGVS190.31557+11.387209_VCC1871</td><td>E</td><td>1</td><td>NGVSJ12:41:15.73+11:23:14.1</td></tr>\n",
       "<tr><td>NGVS190.36417+11.145868_VCC1879</td><td>||</td><td>0.973</td><td>0.006</td><td>25.463</td><td>14.578</td><td>16.83</td><td>24.644</td><td>21.907</td><td>|</td><td>25.281</td><td>0.0315</td><td>13.731</td><td>0.207</td><td>16.903</td><td>0.017</td><td>24.587</td><td>0.017</td><td>|</td><td>19.376</td><td>38.3003</td><td>2.0</td><td>0.0</td><td>0.061</td><td>0.001</td><td>22.435</td><td>0.061</td><td>18.341</td><td>0.076</td><td>|</td><td>25.284</td><td>0.0314</td><td>0.973</td><td>0.006</td><td>13.757</td><td>0.081</td><td>16.91</td><td>0.017</td><td>24.598</td><td>0.022</td><td>|</td><td>4.158</td><td>0.202</td><td>|</td><td>0.1633</td><td>0.0763</td><td>46.05</td><td>8.57</td><td>-0.02029</td><td>0.04035</td><td>-0.01727</td><td>0.02345</td><td>-0.00955</td><td>0.02772</td><td>-0.00407</td><td>0.02444</td><td>0.613</td><td>||</td><td>0.877</td><td>0.017</td><td>26.39</td><td>13.157</td><td>18.076</td><td>25.667</td><td>23.426</td><td>|</td><td>26.254</td><td>0.0316</td><td>12.408</td><td>0.458</td><td>18.143</td><td>0.044</td><td>25.607</td><td>0.044</td><td>|</td><td>20.077</td><td>2.4287</td><td>2.0</td><td>0.0</td><td>0.05</td><td>0.0</td><td>23.55</td><td>0.005</td><td>19.041</td><td>0.005</td><td>|</td><td>26.256</td><td>0.0315</td><td>0.877</td><td>0.017</td><td>12.425</td><td>0.175</td><td>18.15</td><td>0.044</td><td>25.617</td><td>0.054</td><td>|</td><td>3.71</td><td>0.103</td><td>|</td><td>0.2343</td><td>0.1416</td><td>46.3</td><td>38.4</td><td>0.01039</td><td>0.02807</td><td>-0.005</td><td>0.03119</td><td>-0.00998</td><td>0.02657</td><td>-0.02294</td><td>0.02788</td><td>0.833</td><td>||</td><td>-100.0</td><td>0.017</td><td>-100.0</td><td>-100.0</td><td>-100.0</td><td>-100.0</td><td>-100.0</td><td>|</td><td>-100.0</td><td>0.0316</td><td>-100.0</td><td>0.458</td><td>-100.0</td><td>0.044</td><td>-100.0</td><td>0.044</td><td>|</td><td>-100.0</td><td>0.0</td><td>-100.0</td><td>0.0</td><td>-100.0</td><td>0.0</td><td>-100.0</td><td>0.0</td><td>-100.0</td><td>0.0</td><td>|</td><td>-100.0</td><td>0.0</td><td>-100.0</td><td>0.0</td><td>-100.0</td><td>0.0</td><td>-100.0</td><td>0.0</td><td>-100.0</td><td>0.0</td><td>|</td><td>-100.0</td><td>-100.0</td><td>|</td><td>-100.0</td><td>-100.0</td><td>-100.0</td><td>-100.0</td><td>-100.0</td><td>-100.0</td><td>-100.0</td><td>-100.0</td><td>-100.0</td><td>-100.0</td><td>-100.0</td><td>-100.0</td><td>-100.0</td><td>||</td><td>0.948</td><td>0.012</td><td>24.596</td><td>13.936</td><td>16.084</td><td>23.8</td><td>21.108</td><td>|</td><td>24.435</td><td>0.1274</td><td>13.195</td><td>0.35</td><td>16.156</td><td>0.031</td><td>23.753</td><td>0.031</td><td>|</td><td>18.26</td><td>27.5221</td><td>2.0</td><td>0.0</td><td>0.05</td><td>0.0</td><td>21.733</td><td>0.01</td><td>17.224</td><td>0.01</td><td>|</td><td>24.437</td><td>0.1271</td><td>0.948</td><td>0.012</td><td>13.213</td><td>0.134</td><td>16.162</td><td>0.031</td><td>23.763</td><td>0.038</td><td>|</td><td>4.032</td><td>0.235</td><td>|</td><td>0.1646</td><td>0.0</td><td>46.04</td><td>0.0</td><td>0.0</td><td>0.0</td><td>0.0</td><td>0.0</td><td>0.0</td><td>0.0</td><td>0.0</td><td>0.0</td><td>0.579</td><td>||</td><td>0.994</td><td>0.015</td><td>24.541</td><td>14.74</td><td>15.871</td><td>23.709</td><td>21.558</td><td>|</td><td>24.318</td><td>0.1779</td><td>13.464</td><td>0.485</td><td>15.975</td><td>0.041</td><td>23.616</td><td>0.041</td><td>|</td><td>18.456</td><td>68.9577</td><td>2.0</td><td>0.0</td><td>0.055</td><td>0.001</td><td>21.734</td><td>0.045</td><td>17.42</td><td>0.055</td><td>|</td><td>24.32</td><td>0.1776</td><td>0.994</td><td>0.015</td><td>13.478</td><td>0.196</td><td>15.98</td><td>0.041</td><td>23.624</td><td>0.052</td><td>|</td><td>4.228</td><td>0.995</td><td>|</td><td>0.2391</td><td>0.1661</td><td>46.47</td><td>15.34</td><td>-0.0144</td><td>0.04705</td><td>-0.01219</td><td>0.05563</td><td>-0.04221</td><td>0.10168</td><td>-0.00666</td><td>0.04691</td><td>0.853</td><td>||</td><td>18.7167170832</td><td>17.5825392607</td><td>-100.0</td><td>16.789340489</td><td>16.6343341951</td><td>||</td><td>-100</td><td>-100</td><td>-100</td><td>-100</td><td>-100</td><td>||</td><td>-100</td><td>-100</td><td>-100</td><td>-100</td><td>-100</td><td>||</td><td>-100</td><td>-100</td><td>-100</td><td>-100</td><td>-100</td><td>||</td><td>-100</td><td>-100</td><td>-100</td><td>-100</td><td>-100</td><td>||</td><td>-100</td><td>-100</td><td>-100</td><td>-100</td><td>-100</td><td>||</td><td>0.0288</td><td>190.3641447</td><td>12:41:27.39</td><td>11.145837</td><td>+11:08:45.0</td><td>2.8848827</td><td>4.263521</td><td>D</td><td>0</td><td>NGVS190.36417+11.145868_VCC1879</td><td>1879</td><td>N/A</td><td>99999999.0</td><td>NGVS190.36417+11.145868_VCC1879</td><td>E</td><td>1</td><td>NGVSJ12:41:27.39+11:08:45.0</td></tr>\n",
       "</table>"
      ],
      "text/plain": [
       "<Table length=21>\n",
       "              name              div1 ... Nucleus           NewName          \n",
       "             str31              str2 ...   str2             str27           \n",
       "------------------------------- ---- ... ------- ---------------------------\n",
       "NGVS187.05132+10.297634_VCC1075   || ...       1 NGVSJ12:28:12.31+10:17:51.5\n",
       "NGVS187.05348+10.526044_VCC1076   || ...       1 NGVSJ12:28:12.84+10:31:33.7\n",
       "NGVS187.05012+10.365342_VCC1079   || ...       1 NGVSJ12:28:12.03+10:21:55.0\n",
       "NGVS187.98491+11.972695_VCC1396   || ...       1 NGVSJ12:31:56.40+11:58:21.6\n",
       "NGVS188.01143+11.890078_VCC1407   || ...       1 NGVSJ12:32:02.74+11:53:24.3\n",
       "NGVS188.05104+12.061516_VCC1420   || ...       1 NGVSJ12:32:12.24+12:03:41.5\n",
       "NGVS188.30597+9.3973257_VCC1488   || ...       0 NGVSJ12:33:13.43+09:23:50.4\n",
       "NGVS188.30842+12.857799_VCC1491   || ...       1 NGVSJ12:33:14.01+12:51:28.2\n",
       "NGVS188.33237+12.853425_VCC1499   || ...      0: NGVSJ12:33:19.78+12:51:12.4\n",
       " NGVS188.3818+9.4591986_VCC1509   || ...       1 NGVSJ12:33:31.65+09:27:33.2\n",
       "NGVS188.45282+12.780027_VCC1523   || ...       1 NGVSJ12:33:48.67+12:46:48.1\n",
       " NGVS188.5281+12.741594_VCC1539   || ...       1 NGVSJ12:34:06.74+12:44:29.7\n",
       "NGVS188.54809+12.048951_VCC1545   || ...      1: NGVSJ12:34:11.53+12:02:56.3\n",
       "NGVS188.60431+12.903622_VCC1561   || ...       0 NGVSJ12:34:25.05+12:54:12.8\n",
       " NGVS188.6085+11.916981_VCC1563   || ...       1 NGVSJ12:34:26.05+11:55:01.4\n",
       "NGVS189.95008+12.973979_VCC1809   || ...       1 NGVSJ12:39:48.01+12:58:26.2\n",
       "NGVS190.05582+12.874752_VCC1828   || ...       1 NGVSJ12:40:13.39+12:52:29.2\n",
       "NGVS190.24403+11.184488_VCC1861   || ...       1 NGVSJ12:40:58.56+11:11:04.2\n",
       "NGVS190.31398+11.298462_VCC1870   || ...       0 NGVSJ12:41:15.35+11:17:54.5\n",
       "NGVS190.31557+11.387209_VCC1871   || ...       1 NGVSJ12:41:15.73+11:23:14.1\n",
       "NGVS190.36417+11.145868_VCC1879   || ...       1 NGVSJ12:41:27.39+11:08:45.0"
      ]
     },
     "execution_count": 20,
     "metadata": {},
     "output_type": "execute_result"
    }
   ],
   "source": [
    "nucDat = ascii.read(path + 'nuc.dat')\n",
    "nucDat"
   ]
  },
  {
   "cell_type": "code",
   "execution_count": 21,
   "metadata": {},
   "outputs": [
    {
     "name": "stdout",
     "output_type": "stream",
     "text": [
      "  VCC  \n",
      "-------\n",
      "    ---\n",
      "    ---\n",
      "    ---\n",
      "    ---\n",
      "    ---\n",
      "    ---\n",
      "    ---\n",
      "    ---\n",
      "    ---\n",
      "    ---\n",
      "    ...\n",
      "VCC1539\n",
      "VCC1545\n",
      "VCC1561\n",
      "VCC1563\n",
      "VCC1809\n",
      "VCC1828\n",
      "VCC1861\n",
      "VCC1870\n",
      "VCC1871\n",
      "VCC1879\n",
      " VLSB-D\n",
      "Length = 547 rows\n",
      "VCC \n",
      "----\n",
      "1075\n",
      "1076\n",
      "1079\n",
      "1396\n",
      "1407\n",
      "1420\n",
      "1488\n",
      "1491\n",
      "1499\n",
      "1509\n",
      "1523\n",
      "1539\n",
      "1545\n",
      "1561\n",
      "1563\n",
      "1809\n",
      "1828\n",
      "1861\n",
      "1870\n",
      "1871\n",
      "1879\n",
      "335\n"
     ]
    }
   ],
   "source": [
    "nucDat.sort('VCC')\n",
    "Stacked.sort('VCC')\n",
    "print(Stacked['VCC'])\n",
    "print(nucDat['VCC'])\n",
    "print(len(nucDat[0]))"
   ]
  },
  {
   "cell_type": "code",
   "execution_count": 22,
   "metadata": {},
   "outputs": [
    {
     "data": {
      "text/plain": [
       "21"
      ]
     },
     "execution_count": 22,
     "metadata": {},
     "output_type": "execute_result"
    }
   ],
   "source": [
    "nucIndStacked = []\n",
    "nucIndDat = []\n",
    "for i in range (0, len(nucDat)):\n",
    "    for j in range (0, len(Stacked)):\n",
    "        s = Stacked[j][0]\n",
    "        if (str(nucDat[i][328]) == s[3:]):\n",
    "            nucIndStacked.append(j)\n",
    "            nucIndDat.append(i)\n",
    "\n",
    "nucIndStacked\n",
    "len(nucIndStacked)"
   ]
  },
  {
   "cell_type": "code",
   "execution_count": 23,
   "metadata": {},
   "outputs": [],
   "source": [
    "columns = []\n",
    "for m in range (0, 524):\n",
    "    columns.append('0:')\n",
    "for k in range (0, 3):\n",
    "    columns.append(nucDat[k][333])\n",
    "columns.append('0:')\n",
    "for j in range (3, 21):\n",
    "    columns.append(nucDat[j][333])\n",
    "columns.append(0)\n",
    "\n",
    "    \n",
    "Nucleus = Column(columns, name='Nucleus')\n",
    "Stacked.add_column(Nucleus)\n",
    "for i in range (0, 524):\n",
    "    if ('VCC' in Stacked[i][29]):\n",
    "        Stacked[i][29] = 0\n",
    "    elif (Stacked[i][1] == 'NUC'):\n",
    "        Stacked[i][29] = 1\n",
    "\n",
    "for k in range (524, 527):\n",
    "    Stacked[k][28] = 'DENU'\n",
    "for k in range (528, 546):\n",
    "    Stacked[k][28] = 'DENU'"
   ]
  },
  {
   "cell_type": "code",
   "execution_count": 24,
   "metadata": {},
   "outputs": [
    {
     "data": {
      "text/html": [
       "<i>Table length=21</i>\n",
       "<table id=\"table4816179720\" class=\"table-striped table-bordered table-condensed\">\n",
       "<thead><tr><th>name</th><th>Nucleus</th></tr></thead>\n",
       "<thead><tr><th>str31</th><th>str2</th></tr></thead>\n",
       "<tr><td>NGVS187.05132+10.297634_VCC1075</td><td>1</td></tr>\n",
       "<tr><td>NGVS187.05348+10.526044_VCC1076</td><td>1</td></tr>\n",
       "<tr><td>NGVS187.05012+10.365342_VCC1079</td><td>1</td></tr>\n",
       "<tr><td>NGVS187.98491+11.972695_VCC1396</td><td>1</td></tr>\n",
       "<tr><td>NGVS188.01143+11.890078_VCC1407</td><td>1</td></tr>\n",
       "<tr><td>NGVS188.05104+12.061516_VCC1420</td><td>1</td></tr>\n",
       "<tr><td>NGVS188.30597+9.3973257_VCC1488</td><td>0</td></tr>\n",
       "<tr><td>NGVS188.30842+12.857799_VCC1491</td><td>1</td></tr>\n",
       "<tr><td>NGVS188.33237+12.853425_VCC1499</td><td>0:</td></tr>\n",
       "<tr><td>NGVS188.3818+9.4591986_VCC1509</td><td>1</td></tr>\n",
       "<tr><td>NGVS188.45282+12.780027_VCC1523</td><td>1</td></tr>\n",
       "<tr><td>NGVS188.5281+12.741594_VCC1539</td><td>1</td></tr>\n",
       "<tr><td>NGVS188.54809+12.048951_VCC1545</td><td>1:</td></tr>\n",
       "<tr><td>NGVS188.60431+12.903622_VCC1561</td><td>0</td></tr>\n",
       "<tr><td>NGVS188.6085+11.916981_VCC1563</td><td>1</td></tr>\n",
       "<tr><td>NGVS189.95008+12.973979_VCC1809</td><td>1</td></tr>\n",
       "<tr><td>NGVS190.05582+12.874752_VCC1828</td><td>1</td></tr>\n",
       "<tr><td>NGVS190.24403+11.184488_VCC1861</td><td>1</td></tr>\n",
       "<tr><td>NGVS190.31398+11.298462_VCC1870</td><td>0</td></tr>\n",
       "<tr><td>NGVS190.31557+11.387209_VCC1871</td><td>1</td></tr>\n",
       "<tr><td>NGVS190.36417+11.145868_VCC1879</td><td>1</td></tr>\n",
       "</table>"
      ],
      "text/plain": [
       "<Table length=21>\n",
       "              name              Nucleus\n",
       "             str31                str2 \n",
       "------------------------------- -------\n",
       "NGVS187.05132+10.297634_VCC1075       1\n",
       "NGVS187.05348+10.526044_VCC1076       1\n",
       "NGVS187.05012+10.365342_VCC1079       1\n",
       "NGVS187.98491+11.972695_VCC1396       1\n",
       "NGVS188.01143+11.890078_VCC1407       1\n",
       "NGVS188.05104+12.061516_VCC1420       1\n",
       "NGVS188.30597+9.3973257_VCC1488       0\n",
       "NGVS188.30842+12.857799_VCC1491       1\n",
       "NGVS188.33237+12.853425_VCC1499      0:\n",
       " NGVS188.3818+9.4591986_VCC1509       1\n",
       "NGVS188.45282+12.780027_VCC1523       1\n",
       " NGVS188.5281+12.741594_VCC1539       1\n",
       "NGVS188.54809+12.048951_VCC1545      1:\n",
       "NGVS188.60431+12.903622_VCC1561       0\n",
       " NGVS188.6085+11.916981_VCC1563       1\n",
       "NGVS189.95008+12.973979_VCC1809       1\n",
       "NGVS190.05582+12.874752_VCC1828       1\n",
       "NGVS190.24403+11.184488_VCC1861       1\n",
       "NGVS190.31398+11.298462_VCC1870       0\n",
       "NGVS190.31557+11.387209_VCC1871       1\n",
       "NGVS190.36417+11.145868_VCC1879       1"
      ]
     },
     "execution_count": 24,
     "metadata": {},
     "output_type": "execute_result"
    }
   ],
   "source": [
    "nucDat[['name', 'Nucleus']]"
   ]
  },
  {
   "cell_type": "code",
   "execution_count": 25,
   "metadata": {},
   "outputs": [
    {
     "data": {
      "text/html": [
       "<i>Table masked=True length=547</i>\n",
       "<table id=\"table4815826000\" class=\"table-striped table-bordered table-condensed\">\n",
       "<thead><tr><th>VCC</th><th>TARGTYPE</th><th>GCSAT</th><th>HOST</th><th>RA</th><th>DEC</th><th>VHEL</th><th>VERR</th><th>VERR_pe</th><th>VERR_ne</th><th>ZCONF</th><th>VOBS</th><th>VOBS_pe</th><th>VOBS_ne</th><th>ABANDCOR</th><th>ABANDCOR_pe</th><th>ABANDCOR_ne</th><th>HELCOR</th><th>SN</th><th>KECKID</th><th>MASKNAME</th><th>SLITNUM</th><th>ZSPECNUM</th><th>ZQUAL</th><th>YLOW</th><th>YHIGH</th><th>SPEC1DNAME</th><th>Probability</th><th>Type</th><th>Nucleus</th></tr></thead>\n",
       "<thead><tr><th>bytes10</th><th>bytes7</th><th>bytes2</th><th>bytes10</th><th>float32</th><th>float32</th><th>float32</th><th>float32</th><th>float32</th><th>float32</th><th>float32</th><th>float32</th><th>float32</th><th>float32</th><th>float32</th><th>float32</th><th>float32</th><th>float32</th><th>float32</th><th>bytes20</th><th>bytes20</th><th>int16</th><th>int16</th><th>int16</th><th>int16</th><th>int16</th><th>bytes40</th><th>float64</th><th>str4</th><th>str2</th></tr></thead>\n",
       "<tr><td>---</td><td>GCA</td><td>Y</td><td>VCC1075</td><td>187.05533</td><td>10.299723</td><td>1795.8826</td><td>6.6943264</td><td>7.1255054</td><td>5.546625</td><td>1.0</td><td>1810.4825</td><td>7.014853</td><td>5.403738</td><td>78.81452</td><td>25.247467</td><td>23.015923</td><td>14.6</td><td>3.34</td><td>gcA10</td><td>vdgc1</td><td>11</td><td>12</td><td>3</td><td>25</td><td>31</td><td>spec1d.vdgc1.011.gcA10.fits.gz</td><td>1.0</td><td>DEGC</td><td>0:</td></tr>\n",
       "<tr><td>---</td><td>ALG</td><td>N</td><td>---</td><td>190.27109</td><td>11.294167</td><td>20.763288</td><td>2.7220166</td><td>1.6636189</td><td>1.6329079</td><td>1.0</td><td>4.2029076</td><td>0.78054</td><td>0.7905469</td><td>-9.820127e-05</td><td>2.5684435e-06</td><td>2.3015923e-06</td><td>4.3e-05</td><td>44.52</td><td>alg82</td><td>vdgc8</td><td>2</td><td>2</td><td>-1</td><td>15</td><td>21</td><td>spec1d.vdgc8.002.alg82.fits.gz</td><td>0.9828302264213562</td><td>Star</td><td>0:</td></tr>\n",
       "<tr><td>---</td><td>ALG</td><td>N</td><td>---</td><td>190.29495</td><td>11.283361</td><td>-34.52496</td><td>2.8502433</td><td>1.9209903</td><td>1.7851913</td><td>1.0</td><td>-52.42627</td><td>1.0507269</td><td>0.9006231</td><td>-0.00010267103</td><td>3.3689973e-06</td><td>3.002077e-06</td><td>4.3e-05</td><td>41.88</td><td>alg51</td><td>vdgc8</td><td>1</td><td>1</td><td>-1</td><td>16</td><td>22</td><td>spec1d.vdgc8.001.alg51.fits.gz</td><td>0.9816717505455017</td><td>Star</td><td>0:</td></tr>\n",
       "<tr><td>---</td><td>ALG</td><td>N</td><td>---</td><td>190.31303</td><td>11.408972</td><td>-23.20713</td><td>2.6620343</td><td>1.6290705</td><td>1.4862555</td><td>1.0</td><td>-56.60916</td><td>0.86059535</td><td>0.47032538</td><td>-0.0001543401</td><td>1.968028e-06</td><td>2.1681667e-06</td><td>4.3e-05</td><td>72.65</td><td>alg46</td><td>vdgc8</td><td>0</td><td>0</td><td>-1</td><td>12</td><td>19</td><td>spec1d.vdgc8.000.alg46.fits.gz</td><td>0.9822424650192261</td><td>Star</td><td>0:</td></tr>\n",
       "<tr><td>---</td><td>MST</td><td>N</td><td>---</td><td>189.94604</td><td>12.952583</td><td>171.05774</td><td>29.336287</td><td>32.617123</td><td>26.752373</td><td>1.0</td><td>155.17735</td><td>24.526968</td><td>13.039021</td><td>-9.8267985e-05</td><td>7.15495e-05</td><td>7.775379e-05</td><td>4.5333334e-05</td><td>3.81</td><td>mst578</td><td>vdgc7</td><td>62</td><td>74</td><td>1</td><td>38</td><td>44</td><td>spec1d.vdgc7.062.mst578.fits.gz</td><td>0.9557555913925171</td><td>Star</td><td>0:</td></tr>\n",
       "<tr><td>---</td><td>SERZ</td><td>N</td><td>---</td><td>190.056</td><td>12.898931</td><td>41.428066</td><td>13.958444</td><td>13.078389</td><td>14.531799</td><td>1.0</td><td>87.67065</td><td>6.344389</td><td>5.814022</td><td>0.00010880861</td><td>3.789288e-05</td><td>4.4197244e-05</td><td>4.5333334e-05</td><td>5.0</td><td>serendip1</td><td>vdgc7</td><td>58</td><td>68</td><td>4</td><td>2</td><td>10</td><td>spec1d.vdgc7.058.serendip1.fits.gz</td><td>0.9822497963905334</td><td>Star</td><td>0:</td></tr>\n",
       "<tr><td>---</td><td>MST</td><td>N</td><td>---</td><td>190.05858</td><td>12.851055</td><td>-19.994423</td><td>13.661462</td><td>15.955049</td><td>11.713739</td><td>1.0</td><td>-23.57631</td><td>13.23916</td><td>5.874064</td><td>-5.7272955e-05</td><td>2.9386996e-05</td><td>3.3523193e-05</td><td>4.5333334e-05</td><td>3.81</td><td>mst518</td><td>vdgc7</td><td>52</td><td>61</td><td>1</td><td>76</td><td>83</td><td>spec1d.vdgc7.052.mst518.fits.gz</td><td>0.9823710322380066</td><td>Star</td><td>0:</td></tr>\n",
       "<tr><td>---</td><td>SGR</td><td>N</td><td>---</td><td>189.98445</td><td>12.976361</td><td>148.54216</td><td>9.517242</td><td>9.664792</td><td>8.881892</td><td>1.0</td><td>156.56831</td><td>8.936182</td><td>8.405815</td><td>-1.857952e-05</td><td>1.1541318e-05</td><td>8.605954e-06</td><td>4.5333334e-05</td><td>5.48</td><td>sgr385</td><td>vdgc7</td><td>50</td><td>58</td><td>4</td><td>28</td><td>34</td><td>spec1d.vdgc7.050.sgr385.fits.gz</td><td>0.9653211236000061</td><td>Star</td><td>0:</td></tr>\n",
       "<tr><td>---</td><td>SGR</td><td>N</td><td>---</td><td>189.90242</td><td>12.971833</td><td>-34.844696</td><td>12.382216</td><td>10.600053</td><td>13.789851</td><td>1.0</td><td>-30.771288</td><td>9.446535</td><td>12.568695</td><td>-3.1755302e-05</td><td>1.5477373e-05</td><td>1.8446095e-05</td><td>4.5333334e-05</td><td>3.46</td><td>sgr382</td><td>vdgc7</td><td>49</td><td>57</td><td>3</td><td>9</td><td>15</td><td>spec1d.vdgc7.049.sgr382.fits.gz</td><td>0.9816529154777527</td><td>Star</td><td>0:</td></tr>\n",
       "<tr><td>---</td><td>SGR</td><td>N</td><td>---</td><td>190.0095</td><td>12.938194</td><td>125.11596</td><td>8.086512</td><td>9.021223</td><td>6.56654</td><td>1.0</td><td>126.217316</td><td>8.555919</td><td>6.1342435</td><td>-4.1662155e-05</td><td>8.572597e-06</td><td>6.604569e-06</td><td>4.5333334e-05</td><td>16.21</td><td>sgr376</td><td>vdgc7</td><td>48</td><td>56</td><td>4</td><td>213</td><td>220</td><td>spec1d.vdgc7.048.sgr376.fits.gz</td><td>0.9720748066902161</td><td>Star</td><td>0:</td></tr>\n",
       "<tr><td>...</td><td>...</td><td>...</td><td>...</td><td>...</td><td>...</td><td>...</td><td>...</td><td>...</td><td>...</td><td>...</td><td>...</td><td>...</td><td>...</td><td>...</td><td>...</td><td>...</td><td>...</td><td>...</td><td>...</td><td>...</td><td>...</td><td>...</td><td>...</td><td>...</td><td>...</td><td>...</td><td>...</td><td>...</td><td>...</td></tr>\n",
       "<tr><td>VCC1545</td><td>NUC</td><td>N</td><td>---</td><td>188.54808</td><td>12.048972</td><td>2066.659</td><td>2.6256735</td><td>1.4911994</td><td>1.4756395</td><td>1.0</td><td>2077.6475</td><td>0.41028383</td><td>0.42029074</td><td>-7.705331e-06</td><td>2.3349487e-06</td><td>2.201523e-06</td><td>4.4333334e-05</td><td>66.86</td><td>nuc5</td><td>vdgc6</td><td>5</td><td>5</td><td>4</td><td>25</td><td>35</td><td>spec1d.vdgc6.005.nuc5.fits.gz</td><td>1.0</td><td>DENU</td><td>1:</td></tr>\n",
       "<tr><td>VCC1561</td><td>NUC</td><td>N</td><td>---</td><td>188.6042</td><td>12.904695</td><td>1907.1387</td><td>3.7412846</td><td>3.4249122</td><td>2.690169</td><td>1.0</td><td>1903.1466</td><td>0.32022154</td><td>0.010006923</td><td>-5.797344e-05</td><td>1.0573982e-05</td><td>7.938826e-06</td><td>4.4666664e-05</td><td>6.93</td><td>nuc6</td><td>vdgc5</td><td>5</td><td>5</td><td>4</td><td>32</td><td>39</td><td>spec1d.vdgc5.005.nuc6.fits.gz</td><td>1.0</td><td>DENU</td><td>0</td></tr>\n",
       "<tr><td>VCC1563</td><td>NUC</td><td>N</td><td>---</td><td>188.6085</td><td>11.917</td><td>2255.8398</td><td>3.729348</td><td>2.767145</td><td>3.3087828</td><td>1.0</td><td>2268.9497</td><td>2.34162</td><td>2.9020076</td><td>-6.337718e-07</td><td>2.6018e-06</td><td>3.2689281e-06</td><td>4.4333334e-05</td><td>17.04</td><td>nuc6</td><td>vdgc6</td><td>6</td><td>6</td><td>4</td><td>56</td><td>62</td><td>spec1d.vdgc6.006.nuc6.fits.gz</td><td>1.0</td><td>DENU</td><td>1</td></tr>\n",
       "<tr><td>VCC1809</td><td>NUC</td><td>N</td><td>---</td><td>189.95009</td><td>12.973972</td><td>2808.8325</td><td>2.5079725</td><td>1.2669728</td><td>1.2601175</td><td>1.0</td><td>2813.6167</td><td>0.18012461</td><td>0.14009692</td><td>-2.9386996e-05</td><td>3.002077e-07</td><td>2.0013846e-07</td><td>4.5333334e-05</td><td>250.56</td><td>nuc6</td><td>vdgc7</td><td>7</td><td>7</td><td>4</td><td>30</td><td>37</td><td>spec1d.vdgc7.007.nuc6.fits.gz</td><td>1.0</td><td>DENU</td><td>1</td></tr>\n",
       "<tr><td>VCC1828</td><td>NUC</td><td>N</td><td>---</td><td>190.05579</td><td>12.874778</td><td>1554.725</td><td>2.8828146</td><td>2.0137053</td><td>1.8097597</td><td>1.0</td><td>1559.8992</td><td>1.1007615</td><td>1.1107684</td><td>-2.8086097e-05</td><td>3.7692744e-06</td><td>2.3015923e-06</td><td>4.5333334e-05</td><td>26.11</td><td>nuc5</td><td>vdgc7</td><td>6</td><td>6</td><td>4</td><td>33</td><td>41</td><td>spec1d.vdgc7.006.nuc5.fits.gz</td><td>1.0</td><td>DENU</td><td>1</td></tr>\n",
       "<tr><td>VCC1861</td><td>NUC</td><td>N</td><td>---</td><td>190.244</td><td>11.1845</td><td>636.2591</td><td>2.6344306</td><td>1.5071968</td><td>1.4906621</td><td>1.0</td><td>634.5189</td><td>0.66045696</td><td>0.66045696</td><td>-4.8800426e-05</td><td>1.7345333e-06</td><td>1.5677513e-06</td><td>4.3e-05</td><td>42.86</td><td>nuc5</td><td>vdgc8</td><td>5</td><td>5</td><td>4</td><td>10</td><td>16</td><td>spec1d.vdgc8.005.nuc5.fits.gz</td><td>0.9999762773513794</td><td>DENU</td><td>1</td></tr>\n",
       "<tr><td>VCC1870</td><td>NUC</td><td>N</td><td>---</td><td>190.31392</td><td>11.2983885</td><td>1658.2461</td><td>3.392369</td><td>2.6905599</td><td>2.5394132</td><td>1.0</td><td>1671.2062</td><td>2.0514193</td><td>1.7412046</td><td>2.0013846e-07</td><td>4.0361256e-06</td><td>4.536472e-06</td><td>4.3e-05</td><td>22.84</td><td>nuc7</td><td>vdgc8</td><td>7</td><td>7</td><td>4</td><td>82</td><td>142</td><td>spec1d.vdgc8.007.nuc7.fits.gz</td><td>1.0</td><td>DENU</td><td>0</td></tr>\n",
       "<tr><td>VCC1871</td><td>NUC</td><td>N</td><td>---</td><td>190.31554</td><td>11.38725</td><td>576.4477</td><td>2.5233026</td><td>1.3011693</td><td>1.286386</td><td>1.0</td><td>585.375</td><td>0.29020074</td><td>0.24016616</td><td>-1.3242495e-05</td><td>7.004846e-07</td><td>6.004154e-07</td><td>4.3e-05</td><td>110.77</td><td>nuc6</td><td>vdgc8</td><td>6</td><td>6</td><td>4</td><td>10</td><td>19</td><td>spec1d.vdgc8.006.nuc6.fits.gz</td><td>0.9996572136878967</td><td>DENU</td><td>1</td></tr>\n",
       "<tr><td>VCC1879</td><td>NUC</td><td>N</td><td>---</td><td>190.36417</td><td>11.145861</td><td>1752.4312</td><td>32.029392</td><td>34.249435</td><td>29.663242</td><td>1.0</td><td>1744.6469</td><td>34.143623</td><td>29.550444</td><td>-6.8614136e-05</td><td>7.938826e-06</td><td>7.5385487e-06</td><td>4.2666667e-05</td><td>8.2</td><td>nuc6</td><td>vdgc9B</td><td>6</td><td>6</td><td>4</td><td>63</td><td>69</td><td>spec1d.vdgc9B.006.nuc6.fits.gz</td><td>1.0</td><td>DENU</td><td>1</td></tr>\n",
       "<tr><td>VLSB-D</td><td>NUC</td><td>N</td><td>---</td><td>186.17525</td><td>13.517195</td><td>1040.13</td><td>1.422155</td><td>1.22</td><td>1.33</td><td>1.0</td><td>1057.18</td><td>1.22</td><td>1.33</td><td>8.05</td><td>0.77</td><td>0.49</td><td>9.0</td><td>36.87</td><td>0.0</td><td>vugc5</td><td>0</td><td>--</td><td>--</td><td>26</td><td>34</td><td>spec1d.vugc5.000.NUC001.fits.gz</td><td>1.0</td><td>ICL</td><td>0</td></tr>\n",
       "</table>"
      ],
      "text/plain": [
       "<Table masked=True length=547>\n",
       "  VCC   TARGTYPE GCSAT    HOST  ...    Probability     Type Nucleus\n",
       "bytes10  bytes7  bytes2 bytes10 ...      float64       str4   str2 \n",
       "------- -------- ------ ------- ... ------------------ ---- -------\n",
       "    ---      GCA      Y VCC1075 ...                1.0 DEGC      0:\n",
       "    ---      ALG      N     --- ... 0.9828302264213562 Star      0:\n",
       "    ---      ALG      N     --- ... 0.9816717505455017 Star      0:\n",
       "    ---      ALG      N     --- ... 0.9822424650192261 Star      0:\n",
       "    ---      MST      N     --- ... 0.9557555913925171 Star      0:\n",
       "    ---     SERZ      N     --- ... 0.9822497963905334 Star      0:\n",
       "    ---      MST      N     --- ... 0.9823710322380066 Star      0:\n",
       "    ---      SGR      N     --- ... 0.9653211236000061 Star      0:\n",
       "    ---      SGR      N     --- ... 0.9816529154777527 Star      0:\n",
       "    ---      SGR      N     --- ... 0.9720748066902161 Star      0:\n",
       "    ...      ...    ...     ... ...                ...  ...     ...\n",
       "VCC1545      NUC      N     --- ...                1.0 DENU      1:\n",
       "VCC1561      NUC      N     --- ...                1.0 DENU       0\n",
       "VCC1563      NUC      N     --- ...                1.0 DENU       1\n",
       "VCC1809      NUC      N     --- ...                1.0 DENU       1\n",
       "VCC1828      NUC      N     --- ...                1.0 DENU       1\n",
       "VCC1861      NUC      N     --- ... 0.9999762773513794 DENU       1\n",
       "VCC1870      NUC      N     --- ...                1.0 DENU       0\n",
       "VCC1871      NUC      N     --- ... 0.9996572136878967 DENU       1\n",
       "VCC1879      NUC      N     --- ...                1.0 DENU       1\n",
       " VLSB-D      NUC      N     --- ...                1.0  ICL       0"
      ]
     },
     "execution_count": 25,
     "metadata": {},
     "output_type": "execute_result"
    }
   ],
   "source": [
    "Stacked"
   ]
  },
  {
   "cell_type": "code",
   "execution_count": 29,
   "metadata": {},
   "outputs": [
    {
     "name": "stdout",
     "output_type": "stream",
     "text": [
      "0\n"
     ]
    }
   ],
   "source": [
    "stars = []\n",
    "icgc = []\n",
    "m87 = []\n",
    "degc = []\n",
    "udggc = []\n",
    "unknown = []\n",
    "denuc = []\n",
    "for row in Stacked:\n",
    "    if (row['Type'] == 'Star'):\n",
    "        stars.append(0)\n",
    "    elif (row['Type'] == 'ICL'):\n",
    "        icgc.append(0)\n",
    "    elif (row['Type'] == 'DEGC'):\n",
    "        degc.append(0)\n",
    "    elif (row['Type'] == 'UDG'):\n",
    "        udggc.append(0)\n",
    "    elif (row['Type'] == 'Unknown'):\n",
    "        unknown.append(0)\n",
    "    elif (row['Type'] == 'Halo'):\n",
    "        m87.append(0)\n",
    "    elif (row['Type'] == 'DENU'):\n",
    "        denuc.append(0)\n",
    "\n",
    "\n"
   ]
  },
  {
   "cell_type": "code",
   "execution_count": 27,
   "metadata": {},
   "outputs": [
    {
     "name": "stdout",
     "output_type": "stream",
     "text": [
      "354\n",
      "35\n",
      "25\n",
      "88\n",
      "23\n",
      "0\n",
      "21\n"
     ]
    }
   ],
   "source": [
    "print (len(stars))\n",
    "print (len(icgc))\n",
    "print (len(m87))\n",
    "print (len(degc))\n",
    "print (len(udggc))\n",
    "print (len(unknown))\n",
    "print (len(denuc))"
   ]
  },
  {
   "cell_type": "code",
   "execution_count": null,
   "metadata": {},
   "outputs": [],
   "source": []
  }
 ],
 "metadata": {
  "kernelspec": {
   "display_name": "Python 3",
   "language": "python",
   "name": "python3"
  },
  "language_info": {
   "codemirror_mode": {
    "name": "ipython",
    "version": 3
   },
   "file_extension": ".py",
   "mimetype": "text/x-python",
   "name": "python",
   "nbconvert_exporter": "python",
   "pygments_lexer": "ipython3",
   "version": "3.7.3"
  }
 },
 "nbformat": 4,
 "nbformat_minor": 2
}
