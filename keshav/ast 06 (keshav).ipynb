{
 "cells": [
  {
   "cell_type": "code",
   "execution_count": 1,
   "metadata": {},
   "outputs": [],
   "source": [
    "from astropy.io import fits\n",
    "import matplotlib.pyplot as plt\n",
    "import numpy as np\n",
    "import matplotlib as mpl\n",
    "from astropy.table import Table, vstack\n"
   ]
  },
  {
   "cell_type": "code",
   "execution_count": 2,
   "metadata": {},
   "outputs": [
    {
     "name": "stdout",
     "output_type": "stream",
     "text": [
      "<Table length=790>\n",
      "    name     dtype \n",
      "----------- -------\n",
      "        VCC bytes10\n",
      "   TARGTYPE  bytes7\n",
      "      GCSAT  bytes2\n",
      "       HOST bytes10\n",
      "         RA float32\n",
      "        DEC float32\n",
      "       ZHEL float32\n",
      "       ZERR float32\n",
      "    ZERR_pe float32\n",
      "    ZERR_ne float32\n",
      "      ZCONF float32\n",
      "       ZOBS float32\n",
      "    ZOBS_pe float32\n",
      "    ZOBS_ne float32\n",
      "   ABANDCOR float32\n",
      "ABANDCOR_pe float32\n",
      "ABANDCOR_ne float32\n",
      "     HELCOR float32\n",
      "         SN float32\n",
      "     KECKID bytes20\n",
      "   MASKNAME bytes20\n",
      "    SLITNUM   int16\n",
      "   ZSPECNUM   int16\n",
      "      ZQUAL   int16\n",
      "       YLOW   int16\n",
      "      YHIGH   int16\n",
      " SPEC1DNAME bytes40\n",
      "<Table length=162>\n",
      "    name     dtype \n",
      "----------- -------\n",
      "        VCC bytes10\n",
      "   TARGTYPE  bytes7\n",
      "      GCSAT  bytes2\n",
      "       HOST bytes10\n",
      "         RA float32\n",
      "        DEC float32\n",
      "       VHEL float32\n",
      "       VERR float32\n",
      "    VERR_pe float32\n",
      "    VERR_ne float32\n",
      "      ZCONF float32\n",
      "       VOBS float32\n",
      "    VOBS_pe float32\n",
      "    VOBS_ne float32\n",
      "   ABANDCOR float32\n",
      "ABANDCOR_pe float32\n",
      "ABANDCOR_ne float32\n",
      "     HELCOR float32\n",
      "         SN float32\n",
      "   MASKNAME bytes20\n",
      "    SLITNUM   int16\n",
      "       YLOW   int16\n",
      "      YHIGH   int16\n",
      " SPEC1DNAME bytes40\n"
     ]
    }
   ],
   "source": [
    "path = './../catalogs/'\n",
    "\n",
    "#open the fits file\n",
    "ope1 = Table.read(path + 'VDGC_pPXF_2017_v2.fits')\n",
    "ope2 = Table.read(path + 'VUGC_pPXF_2017_v2.fits')\n",
    "ope1.info()\n",
    "ope2.info()"
   ]
  },
  {
   "cell_type": "code",
   "execution_count": 3,
   "metadata": {},
   "outputs": [
    {
     "data": {
      "text/html": [
       "<i>Table length=790</i>\n",
       "<table id=\"table4819773872\" class=\"table-striped table-bordered table-condensed\">\n",
       "<thead><tr><th>VCC</th><th>TARGTYPE</th><th>GCSAT</th><th>HOST</th><th>RA</th><th>DEC</th><th>ZHEL</th><th>ZERR</th><th>ZERR_pe</th><th>ZERR_ne</th><th>ZCONF</th><th>ZOBS</th><th>ZOBS_pe</th><th>ZOBS_ne</th><th>ABANDCOR</th><th>ABANDCOR_pe</th><th>ABANDCOR_ne</th><th>HELCOR</th><th>SN</th><th>KECKID</th><th>MASKNAME</th><th>SLITNUM</th><th>ZSPECNUM</th><th>ZQUAL</th><th>YLOW</th><th>YHIGH</th><th>SPEC1DNAME</th></tr></thead>\n",
       "<thead><tr><th>bytes10</th><th>bytes7</th><th>bytes2</th><th>bytes10</th><th>float32</th><th>float32</th><th>float32</th><th>float32</th><th>float32</th><th>float32</th><th>float32</th><th>float32</th><th>float32</th><th>float32</th><th>float32</th><th>float32</th><th>float32</th><th>float32</th><th>float32</th><th>bytes20</th><th>bytes20</th><th>int16</th><th>int16</th><th>int16</th><th>int16</th><th>int16</th><th>bytes40</th></tr></thead>\n",
       "<tr><td>---</td><td>ALG</td><td>N</td><td>---</td><td>187.0097</td><td>10.359333</td><td>0.00018189283</td><td>8.389982e-06</td><td>4.2536944e-06</td><td>4.2911956e-06</td><td>1.0</td><td>0.00039203788</td><td>7.004846e-07</td><td>7.004846e-07</td><td>0.00016147838</td><td>4.6698975e-07</td><td>7.3384103e-07</td><td>4.866667e-05</td><td>196.03</td><td>alg42</td><td>vdgc1</td><td>0</td><td>0</td><td>-1</td><td>15</td><td>21</td><td>spec1d.vdgc1.000.alg42.fits.gz</td></tr>\n",
       "<tr><td>---</td><td>ALG</td><td>N</td><td>---</td><td>187.07608</td><td>10.3505</td><td>-0.0007024523</td><td>1.0064823e-05</td><td>6.74872e-06</td><td>7.2782736e-06</td><td>1.0</td><td>-0.0005678595</td><td>5.0034614e-06</td><td>5.5705204e-06</td><td>8.592611e-05</td><td>1.7678897e-06</td><td>2.1348103e-06</td><td>4.866667e-05</td><td>58.89</td><td>alg115</td><td>vdgc1</td><td>1</td><td>1</td><td>-1</td><td>15</td><td>21</td><td>spec1d.vdgc1.001.alg115.fits.gz</td></tr>\n",
       "<tr><td>---</td><td>ALG</td><td>N</td><td>---</td><td>186.9995</td><td>10.459528</td><td>4.2896674e-05</td><td>9.472941e-06</td><td>5.8739492e-06</td><td>6.4012156e-06</td><td>1.0</td><td>0.0002562106</td><td>3.6024921e-06</td><td>4.0361256e-06</td><td>0.00016464724</td><td>2.0347409e-06</td><td>2.701869e-06</td><td>4.866667e-05</td><td>44.0</td><td>alg140</td><td>vdgc1</td><td>2</td><td>2</td><td>-1</td><td>15</td><td>21</td><td>spec1d.vdgc1.002.alg140.fits.gz</td></tr>\n",
       "<tr><td>---</td><td>ALG</td><td>N</td><td>---</td><td>187.04004</td><td>10.45025</td><td>6.654637e-05</td><td>8.618114e-06</td><td>4.658566e-06</td><td>4.754663e-06</td><td>1.0</td><td>0.00010960916</td><td>1.5343949e-06</td><td>1.9013154e-06</td><td>-5.6038766e-06</td><td>1.4009692e-06</td><td>1.2675436e-06</td><td>4.866667e-05</td><td>80.71</td><td>alg164</td><td>vdgc1</td><td>3</td><td>3</td><td>-1</td><td>16</td><td>21</td><td>spec1d.vdgc1.003.alg164.fits.gz</td></tr>\n",
       "<tr><td>---</td><td>ALG</td><td>N</td><td>---</td><td>187.07025</td><td>10.325111</td><td>-9.1059665e-06</td><td>8.707397e-06</td><td>4.8853194e-06</td><td>4.84415e-06</td><td>1.0</td><td>0.00011594688</td><td>2.1681667e-06</td><td>2.1348103e-06</td><td>7.6386175e-05</td><td>1.3342564e-06</td><td>1.2341872e-06</td><td>4.866667e-05</td><td>92.15</td><td>alg177</td><td>vdgc1</td><td>4</td><td>4</td><td>-1</td><td>15</td><td>20</td><td>spec1d.vdgc1.004.alg177.fits.gz</td></tr>\n",
       "<tr><td>---</td><td>ALG</td><td>N</td><td>---</td><td>187.05908</td><td>10.544111</td><td>5.807384e-05</td><td>8.369103e-06</td><td>4.237577e-06</td><td>4.22153e-06</td><td>1.0</td><td>-9.893511e-05</td><td>5.67059e-07</td><td>4.6698975e-07</td><td>-0.00020567562</td><td>5.003461e-07</td><td>4.6698975e-07</td><td>4.866667e-05</td><td>222.86</td><td>alg191</td><td>vdgc1</td><td>5</td><td>5</td><td>-1</td><td>15</td><td>21</td><td>spec1d.vdgc1.005.alg191.fits.gz</td></tr>\n",
       "<tr><td>---</td><td>ALG</td><td>N</td><td>---</td><td>187.06075</td><td>10.386139</td><td>-0.00017955722</td><td>9.089515e-06</td><td>5.7391444e-06</td><td>5.3187523e-06</td><td>1.0</td><td>-6.1742714e-05</td><td>2.435018e-06</td><td>2.3349487e-06</td><td>6.9147834e-05</td><td>3.1021461e-06</td><td>2.3349487e-06</td><td>4.866667e-05</td><td>73.2</td><td>alg194</td><td>vdgc1</td><td>6</td><td>6</td><td>-1</td><td>15</td><td>20</td><td>spec1d.vdgc1.006.alg194.fits.gz</td></tr>\n",
       "<tr><td>VCC1075</td><td>NUC</td><td>N</td><td>---</td><td>187.05128</td><td>10.297639</td><td>0.006039145</td><td>9.7258535e-06</td><td>6.6017046e-06</td><td>6.4667574e-06</td><td>1.0</td><td>0.0060859434</td><td>4.803323e-06</td><td>4.202908e-06</td><td>-1.867959e-06</td><td>1.7678897e-06</td><td>2.6018e-06</td><td>4.866667e-05</td><td>28.58</td><td>nuc5</td><td>vdgc1</td><td>7</td><td>7</td><td>4</td><td>30</td><td>37</td><td>spec1d.vdgc1.007.nuc5.fits.gz</td></tr>\n",
       "<tr><td>VCC1079</td><td>NUC</td><td>N</td><td>---</td><td>187.05008</td><td>10.365334</td><td>0.00444731</td><td>1.00620455e-05</td><td>6.9665402e-06</td><td>7.04997e-06</td><td>1.0</td><td>0.0044967774</td><td>5.1702436e-06</td><td>5.136887e-06</td><td>8.0055383e-07</td><td>2.101454e-06</td><td>2.435018e-06</td><td>4.866667e-05</td><td>32.52</td><td>nuc6</td><td>vdgc1</td><td>8</td><td>8</td><td>4</td><td>19</td><td>25</td><td>spec1d.vdgc1.008.nuc6.fits.gz</td></tr>\n",
       "<tr><td>VCC1076</td><td>NUC</td><td>N</td><td>---</td><td>187.05345</td><td>10.526055</td><td>0.0054966365</td><td>1.29442e-05</td><td>9.793103e-06</td><td>1.1722346e-05</td><td>1.0</td><td>0.00556992</td><td>8.439171e-06</td><td>1.0674051e-05</td><td>2.461703e-05</td><td>2.701869e-06</td><td>2.4683743e-06</td><td>4.866667e-05</td><td>27.06</td><td>nuc7</td><td>vdgc1</td><td>9</td><td>9</td><td>4</td><td>20</td><td>26</td><td>spec1d.vdgc1.009.nuc7.fits.gz</td></tr>\n",
       "<tr><td>...</td><td>...</td><td>...</td><td>...</td><td>...</td><td>...</td><td>...</td><td>...</td><td>...</td><td>...</td><td>...</td><td>...</td><td>...</td><td>...</td><td>...</td><td>...</td><td>...</td><td>...</td><td>...</td><td>...</td><td>...</td><td>...</td><td>...</td><td>...</td><td>...</td><td>...</td><td>...</td></tr>\n",
       "<tr><td>---</td><td>SERZ</td><td>N</td><td>---</td><td>190.39067</td><td>11.162333</td><td>0.91702384</td><td>0.0001488944</td><td>9999.0</td><td>9999.0</td><td>0.0</td><td>0.91720873</td><td>9999.0</td><td>9999.0</td><td>0.00014221668</td><td>9999.0</td><td>9999.0</td><td>4.2666667e-05</td><td>-9999.9</td><td>serendip1</td><td>vdgc9B</td><td>58</td><td>68</td><td>0</td><td>162</td><td>167</td><td>spec1d.vdgc9B.058.serendip1.fits.gz</td></tr>\n",
       "<tr><td>---</td><td>MST</td><td>N</td><td>---</td><td>190.36996</td><td>11.189972</td><td>-0.0013350608</td><td>0.00013007694</td><td>7.551716e-05</td><td>0.00018471398</td><td>0.0</td><td>-0.0013366914</td><td>7.3284034e-05</td><td>0.00018359367</td><td>-4.429731e-05</td><td>1.774561e-05</td><td>1.9880421e-05</td><td>4.2666667e-05</td><td>1.13</td><td>mst514</td><td>vdgc9B</td><td>59</td><td>69</td><td>2</td><td>41</td><td>46</td><td>spec1d.vdgc9B.059.mst514.fits.gz</td></tr>\n",
       "<tr><td>---</td><td>MST</td><td>N</td><td>---</td><td>190.18108</td><td>11.235611</td><td>-0.0027711876</td><td>0.00029237676</td><td>0.00030298025</td><td>0.00028164417</td><td>0.0</td><td>-0.0027118095</td><td>0.0003026427</td><td>0.00028156146</td><td>1.6711561e-05</td><td>1.3676128e-05</td><td>5.403738e-06</td><td>4.2666667e-05</td><td>2.29</td><td>mst524</td><td>vdgc9B</td><td>60</td><td>70</td><td>1</td><td>11</td><td>14</td><td>spec1d.vdgc9B.060.mst524.fits.gz</td></tr>\n",
       "<tr><td>---</td><td>SERNZ</td><td>N</td><td>---</td><td>190.18204</td><td>11.235396</td><td>1.2071667</td><td>0.0001488944</td><td>9999.0</td><td>9999.0</td><td>0.0</td><td>-999.0</td><td>9999.0</td><td>9999.0</td><td>0.0</td><td>9999.0</td><td>9999.0</td><td>4.2666667e-05</td><td>-9999.9</td><td>serend1</td><td>vdgc9B</td><td>60</td><td>-99</td><td>1</td><td>38</td><td>45</td><td>spec1d.vdgc9B.060.serend1.fits.gz</td></tr>\n",
       "<tr><td>---</td><td>MST</td><td>N</td><td>---</td><td>190.2195</td><td>11.238611</td><td>-0.0001818296</td><td>3.370386e-05</td><td>2.6942998e-05</td><td>3.891744e-05</td><td>1.0</td><td>-0.00013916293</td><td>2.6618414e-05</td><td>3.8693433e-05</td><td>1.5577443e-05</td><td>0.00013782868</td><td>7.218327e-05</td><td>4.2666667e-05</td><td>3.44</td><td>mst526</td><td>vdgc9B</td><td>61</td><td>71</td><td>1</td><td>48</td><td>53</td><td>spec1d.vdgc9B.061.mst526.fits.gz</td></tr>\n",
       "<tr><td>---</td><td>GCA</td><td>Y</td><td>VCC1861</td><td>190.24379</td><td>11.186055</td><td>0.0022821082</td><td>4.455886e-05</td><td>3.486543e-05</td><td>5.3117e-05</td><td>1.0</td><td>0.0022021567</td><td>1.2475297e-05</td><td>2.1481528e-05</td><td>-0.00012261816</td><td>3.2289005e-05</td><td>4.840015e-05</td><td>4.2666667e-05</td><td>3.14</td><td>gcA16</td><td>vdgc9B</td><td>62</td><td>72</td><td>4</td><td>11</td><td>17</td><td>spec1d.vdgc9B.062.gcA16.fits.gz</td></tr>\n",
       "<tr><td>---</td><td>GCA</td><td>Y</td><td>VCC1861</td><td>190.24463</td><td>11.185111</td><td>0.0020616557</td><td>2.6457457e-05</td><td>2.5230987e-05</td><td>2.5707255e-05</td><td>1.0</td><td>0.0021070577</td><td>1.7678896e-05</td><td>1.6678205e-05</td><td>2.7352255e-06</td><td>1.7512115e-05</td><td>1.9113222e-05</td><td>4.2666667e-05</td><td>4.49</td><td>gcA18</td><td>vdgc9B</td><td>63</td><td>73</td><td>4</td><td>7</td><td>14</td><td>spec1d.vdgc9B.063.gcA18.fits.gz</td></tr>\n",
       "<tr><td>---</td><td>GCA</td><td>Y</td><td>VCC1861</td><td>190.24054</td><td>11.177139</td><td>0.0021166939</td><td>2.7707201e-05</td><td>2.5181194e-05</td><td>2.978692e-05</td><td>1.0</td><td>0.0021814757</td><td>1.2108377e-05</td><td>2.4483605e-05</td><td>2.2115299e-05</td><td>2.1681666e-05</td><td>1.644471e-05</td><td>4.2666667e-05</td><td>4.75</td><td>gcA21</td><td>vdgc9B</td><td>64</td><td>74</td><td>4</td><td>38</td><td>44</td><td>spec1d.vdgc9B.064.gcA21.fits.gz</td></tr>\n",
       "<tr><td>---</td><td>GCA</td><td>Y</td><td>VCC1861</td><td>190.25113</td><td>11.18025</td><td>0.0021087884</td><td>5.226562e-05</td><td>4.4467946e-05</td><td>5.912443e-05</td><td>1.0</td><td>0.0021187991</td><td>3.389011e-05</td><td>4.2496067e-05</td><td>-3.2655924e-05</td><td>2.8486375e-05</td><td>4.0894956e-05</td><td>4.2666667e-05</td><td>5.32</td><td>gcA27</td><td>vdgc9B</td><td>65</td><td>75</td><td>4</td><td>12</td><td>18</td><td>spec1d.vdgc9B.065.gcA27.fits.gz</td></tr>\n",
       "<tr><td>---</td><td>GCN</td><td>N</td><td>---</td><td>190.23608</td><td>11.185389</td><td>0.00067412923</td><td>8.494366e-06</td><td>4.474859e-06</td><td>4.470381e-06</td><td>1.0</td><td>0.0007392781</td><td>1.5343949e-06</td><td>1.4676821e-06</td><td>2.248222e-05</td><td>5.337026e-07</td><td>6.671282e-07</td><td>4.2666667e-05</td><td>105.87</td><td>gcN138</td><td>vdgc9B</td><td>66</td><td>76</td><td>4</td><td>30</td><td>36</td><td>spec1d.vdgc9B.066.gcN138.fits.gz</td></tr>\n",
       "</table>"
      ],
      "text/plain": [
       "<Table length=790>\n",
       "  VCC   TARGTYPE GCSAT  ...  YLOW YHIGH              SPEC1DNAME            \n",
       "bytes10  bytes7  bytes2 ... int16 int16               bytes40              \n",
       "------- -------- ------ ... ----- ----- -----------------------------------\n",
       "    ---      ALG      N ...    15    21      spec1d.vdgc1.000.alg42.fits.gz\n",
       "    ---      ALG      N ...    15    21     spec1d.vdgc1.001.alg115.fits.gz\n",
       "    ---      ALG      N ...    15    21     spec1d.vdgc1.002.alg140.fits.gz\n",
       "    ---      ALG      N ...    16    21     spec1d.vdgc1.003.alg164.fits.gz\n",
       "    ---      ALG      N ...    15    20     spec1d.vdgc1.004.alg177.fits.gz\n",
       "    ---      ALG      N ...    15    21     spec1d.vdgc1.005.alg191.fits.gz\n",
       "    ---      ALG      N ...    15    20     spec1d.vdgc1.006.alg194.fits.gz\n",
       "VCC1075      NUC      N ...    30    37       spec1d.vdgc1.007.nuc5.fits.gz\n",
       "VCC1079      NUC      N ...    19    25       spec1d.vdgc1.008.nuc6.fits.gz\n",
       "VCC1076      NUC      N ...    20    26       spec1d.vdgc1.009.nuc7.fits.gz\n",
       "    ...      ...    ... ...   ...   ...                                 ...\n",
       "    ---     SERZ      N ...   162   167 spec1d.vdgc9B.058.serendip1.fits.gz\n",
       "    ---      MST      N ...    41    46    spec1d.vdgc9B.059.mst514.fits.gz\n",
       "    ---      MST      N ...    11    14    spec1d.vdgc9B.060.mst524.fits.gz\n",
       "    ---    SERNZ      N ...    38    45   spec1d.vdgc9B.060.serend1.fits.gz\n",
       "    ---      MST      N ...    48    53    spec1d.vdgc9B.061.mst526.fits.gz\n",
       "    ---      GCA      Y ...    11    17     spec1d.vdgc9B.062.gcA16.fits.gz\n",
       "    ---      GCA      Y ...     7    14     spec1d.vdgc9B.063.gcA18.fits.gz\n",
       "    ---      GCA      Y ...    38    44     spec1d.vdgc9B.064.gcA21.fits.gz\n",
       "    ---      GCA      Y ...    12    18     spec1d.vdgc9B.065.gcA27.fits.gz\n",
       "    ---      GCN      N ...    30    36    spec1d.vdgc9B.066.gcN138.fits.gz"
      ]
     },
     "execution_count": 3,
     "metadata": {},
     "output_type": "execute_result"
    }
   ],
   "source": [
    "ope1"
   ]
  },
  {
   "cell_type": "code",
   "execution_count": 4,
   "metadata": {},
   "outputs": [
    {
     "data": {
      "text/html": [
       "<i>Table length=162</i>\n",
       "<table id=\"table4836860704\" class=\"table-striped table-bordered table-condensed\">\n",
       "<thead><tr><th>VCC</th><th>TARGTYPE</th><th>GCSAT</th><th>HOST</th><th>RA</th><th>DEC</th><th>VHEL</th><th>VERR</th><th>VERR_pe</th><th>VERR_ne</th><th>ZCONF</th><th>VOBS</th><th>VOBS_pe</th><th>VOBS_ne</th><th>ABANDCOR</th><th>ABANDCOR_pe</th><th>ABANDCOR_ne</th><th>HELCOR</th><th>SN</th><th>MASKNAME</th><th>SLITNUM</th><th>YLOW</th><th>YHIGH</th><th>SPEC1DNAME</th></tr></thead>\n",
       "<thead><tr><th>bytes10</th><th>bytes7</th><th>bytes2</th><th>bytes10</th><th>float32</th><th>float32</th><th>float32</th><th>float32</th><th>float32</th><th>float32</th><th>float32</th><th>float32</th><th>float32</th><th>float32</th><th>float32</th><th>float32</th><th>float32</th><th>float32</th><th>float32</th><th>bytes20</th><th>int16</th><th>int16</th><th>int16</th><th>bytes40</th></tr></thead>\n",
       "<tr><td>VCC1148</td><td>NUC</td><td>N</td><td>---</td><td>187.2422</td><td>12.661695</td><td>1417.16</td><td>0.30438462</td><td>0.21</td><td>0.24</td><td>1.0</td><td>1403.28</td><td>0.21</td><td>0.24</td><td>-23.48</td><td>0.18</td><td>0.23</td><td>9.6</td><td>151.96</td><td>vugc1</td><td>0</td><td>43</td><td>59</td><td>spec1d.vugc1.000.NUC001.fits.gz</td></tr>\n",
       "<tr><td>VCC1153</td><td>NUC</td><td>N</td><td>---</td><td>187.2492</td><td>12.648306</td><td>177.74</td><td>185.47</td><td>330.29</td><td>40.65</td><td>0.0</td><td>187.34</td><td>330.29</td><td>40.65</td><td>107.32</td><td>4.57</td><td>4.69</td><td>9.6</td><td>1.64</td><td>vugc1</td><td>1</td><td>13</td><td>23</td><td>spec1d.vugc1.001.NUC002.fits.gz</td></tr>\n",
       "<tr><td>---</td><td>GCXL</td><td>N</td><td>---</td><td>187.06187</td><td>12.719277</td><td>-24.29</td><td>16.87081</td><td>20.8</td><td>11.95</td><td>0.5</td><td>9.46</td><td>20.8</td><td>11.95</td><td>24.15</td><td>4.02</td><td>4.1</td><td>9.6</td><td>3.4</td><td>vugc1</td><td>2</td><td>36</td><td>46</td><td>spec1d.vugc1.002.GCXL001.fits.gz</td></tr>\n",
       "<tr><td>---</td><td>GCXL</td><td>N</td><td>---</td><td>187.27092</td><td>12.641306</td><td>103.29</td><td>5.125</td><td>0.0</td><td>0.0</td><td>0.0</td><td>81.61</td><td>0.0</td><td>0.0</td><td>-31.28</td><td>5.62</td><td>4.63</td><td>9.6</td><td>4.22</td><td>vugc1</td><td>3</td><td>133</td><td>143</td><td>spec1d.vugc1.003.GCXL002.fits.gz</td></tr>\n",
       "<tr><td>---</td><td>GCXL</td><td>Y</td><td>VLSB-B</td><td>187.04521</td><td>12.7260275</td><td>36.84</td><td>7.0934</td><td>7.08</td><td>6.54</td><td>1.0</td><td>85.78</td><td>7.08</td><td>6.54</td><td>39.34</td><td>2.15</td><td>1.82</td><td>9.6</td><td>10.08</td><td>vugc1</td><td>4</td><td>15</td><td>27</td><td>spec1d.vugc1.004.GCXL003.fits.gz</td></tr>\n",
       "<tr><td>---</td><td>GCXL</td><td>N</td><td>---</td><td>187.23859</td><td>12.661834</td><td>571.91</td><td>162.803</td><td>239.54</td><td>85.77</td><td>0.5</td><td>528.88</td><td>239.54</td><td>85.77</td><td>-52.63</td><td>5.9</td><td>7.98</td><td>9.6</td><td>1.94</td><td>vugc1</td><td>5</td><td>27</td><td>35</td><td>spec1d.vugc1.005.GCXL006.fits.gz</td></tr>\n",
       "<tr><td>---</td><td>GCXL</td><td>Y</td><td>VLSB-B</td><td>187.04175</td><td>12.724417</td><td>4.73</td><td>25.45554</td><td>26.43</td><td>24.23</td><td>1.0</td><td>38.71</td><td>26.43</td><td>24.23</td><td>24.38</td><td>2.72</td><td>2.33</td><td>9.6</td><td>4.85</td><td>vugc1</td><td>6</td><td>20</td><td>30</td><td>spec1d.vugc1.006.GCXL007.fits.gz</td></tr>\n",
       "<tr><td>---</td><td>GCXL</td><td>N</td><td>---</td><td>187.0645</td><td>12.741167</td><td>-591.31</td><td>5.6009865</td><td>3.6</td><td>4.99</td><td>1.0</td><td>-544.81</td><td>3.6</td><td>4.99</td><td>36.9</td><td>3.44</td><td>3.75</td><td>9.6</td><td>7.79</td><td>vugc1</td><td>7</td><td>58</td><td>68</td><td>spec1d.vugc1.007.GCXL008.fits.gz</td></tr>\n",
       "<tr><td>---</td><td>GCXL</td><td>N</td><td>---</td><td>187.26016</td><td>12.659917</td><td>81.85</td><td>575.12946</td><td>1134.6</td><td>15.5</td><td>0.0</td><td>83.95</td><td>1134.6</td><td>15.5</td><td>-7.5</td><td>7.72</td><td>11.4</td><td>9.6</td><td>3.11</td><td>vugc1</td><td>8</td><td>16</td><td>26</td><td>spec1d.vugc1.008.GCXL009.fits.gz</td></tr>\n",
       "<tr><td>---</td><td>GCXL</td><td>N</td><td>---</td><td>187.04138</td><td>12.743</td><td>-339.2</td><td>12.014878</td><td>1.14</td><td>18.9</td><td>1.0</td><td>-271.02</td><td>1.14</td><td>18.9</td><td>58.58</td><td>5.66</td><td>7.6</td><td>9.6</td><td>2.14</td><td>vugc1</td><td>9</td><td>41</td><td>51</td><td>spec1d.vugc1.009.GCXL011.fits.gz</td></tr>\n",
       "<tr><td>...</td><td>...</td><td>...</td><td>...</td><td>...</td><td>...</td><td>...</td><td>...</td><td>...</td><td>...</td><td>...</td><td>...</td><td>...</td><td>...</td><td>...</td><td>...</td><td>...</td><td>...</td><td>...</td><td>...</td><td>...</td><td>...</td><td>...</td><td>...</td></tr>\n",
       "<tr><td>---</td><td>SGR</td><td>N</td><td>---</td><td>185.79562</td><td>11.95625</td><td>-30.45</td><td>6.590131</td><td>4.42</td><td>7.3</td><td>1.0</td><td>-5.02</td><td>4.42</td><td>7.3</td><td>16.23</td><td>2.9</td><td>3.13</td><td>9.2</td><td>5.03</td><td>vugc6</td><td>49</td><td>81</td><td>91</td><td>spec1d.vugc6.049.SGR0039.fits.gz</td></tr>\n",
       "<tr><td>---</td><td>SGR</td><td>N</td><td>---</td><td>185.85175</td><td>12.10025</td><td>-48.3</td><td>4.3181043</td><td>5.08</td><td>2.88</td><td>1.0</td><td>-30.82</td><td>5.08</td><td>2.88</td><td>8.28</td><td>1.53</td><td>1.82</td><td>9.2</td><td>14.49</td><td>vugc6</td><td>50</td><td>112</td><td>120</td><td>spec1d.vugc6.050.SGR0044.fits.gz</td></tr>\n",
       "<tr><td>---</td><td>SGR</td><td>N</td><td>---</td><td>185.80034</td><td>11.969306</td><td>-35.15</td><td>5.4065537</td><td>4.37</td><td>5.56</td><td>1.0</td><td>6.67</td><td>4.37</td><td>5.56</td><td>32.62</td><td>2.34</td><td>1.94</td><td>9.2</td><td>12.16</td><td>vugc6</td><td>51</td><td>67</td><td>77</td><td>spec1d.vugc6.051.SGR0085.fits.gz</td></tr>\n",
       "<tr><td>---</td><td>SGR</td><td>N</td><td>---</td><td>185.78845</td><td>12.026778</td><td>-67.46</td><td>3.761396</td><td>3.67</td><td>3.53</td><td>1.0</td><td>-37.48</td><td>3.67</td><td>3.53</td><td>20.78</td><td>0.92</td><td>1.26</td><td>9.2</td><td>17.71</td><td>vugc6</td><td>52</td><td>21</td><td>29</td><td>spec1d.vugc6.052.SGR0105.fits.gz</td></tr>\n",
       "<tr><td>---</td><td>SGR</td><td>N</td><td>---</td><td>185.84895</td><td>12.092112</td><td>-18.66</td><td>17.332441</td><td>15.33</td><td>17.21</td><td>1.0</td><td>-15.34</td><td>15.33</td><td>17.21</td><td>-5.88</td><td>6.04</td><td>5.91</td><td>9.2</td><td>5.06</td><td>vugc6</td><td>53</td><td>8</td><td>16</td><td>spec1d.vugc6.053.SGR0118.fits.gz</td></tr>\n",
       "<tr><td>---</td><td>SGR</td><td>N</td><td>---</td><td>185.88054</td><td>12.135028</td><td>29.33</td><td>10.8752985</td><td>12.75</td><td>7.42</td><td>1.0</td><td>43.62</td><td>12.75</td><td>7.42</td><td>5.09</td><td>4.17</td><td>3.97</td><td>9.2</td><td>4.11</td><td>vugc6</td><td>54</td><td>8</td><td>16</td><td>spec1d.vugc6.054.SGR0123.fits.gz</td></tr>\n",
       "<tr><td>---</td><td>SGR</td><td>N</td><td>---</td><td>185.74037</td><td>11.945056</td><td>81.2</td><td>3.226612</td><td>3.06</td><td>3.14</td><td>1.0</td><td>134.32</td><td>3.06</td><td>3.14</td><td>43.92</td><td>0.96</td><td>0.83</td><td>9.2</td><td>19.33</td><td>vugc6</td><td>55</td><td>62</td><td>72</td><td>spec1d.vugc6.055.SGR0130.fits.gz</td></tr>\n",
       "<tr><td>---</td><td>SER</td><td>N</td><td>---</td><td>185.8101</td><td>12.019183</td><td>-47.68</td><td>7.958574</td><td>5.6</td><td>9.0</td><td>1.0</td><td>-21.63</td><td>5.6</td><td>9.0</td><td>16.85</td><td>3.69</td><td>2.65</td><td>9.2</td><td>3.45</td><td>vugc6</td><td>56</td><td>46</td><td>53</td><td>spec1d.vugc6.056.serendip1.fits.gz</td></tr>\n",
       "<tr><td>---</td><td>SGR</td><td>N</td><td>---</td><td>185.78558</td><td>12.031584</td><td>72.83</td><td>7.6939</td><td>2.39</td><td>5.21</td><td>1.0</td><td>92.59</td><td>2.39</td><td>5.21</td><td>10.56</td><td>6.03</td><td>7.35</td><td>9.2</td><td>5.99</td><td>vugc6</td><td>58</td><td>58</td><td>66</td><td>spec1d.vugc6.058.SGR0175.fits.gz</td></tr>\n",
       "<tr><td>---</td><td>SGR</td><td>N</td><td>---</td><td>185.72034</td><td>11.928528</td><td>-54.81</td><td>7.384176</td><td>8.65</td><td>5.06</td><td>1.0</td><td>6.45</td><td>8.65</td><td>5.06</td><td>52.06</td><td>2.75</td><td>2.74</td><td>9.2</td><td>4.62</td><td>vugc6</td><td>59</td><td>297</td><td>307</td><td>spec1d.vugc6.059.SGR0179.fits.gz</td></tr>\n",
       "</table>"
      ],
      "text/plain": [
       "<Table length=162>\n",
       "  VCC   TARGTYPE GCSAT  ...  YLOW YHIGH             SPEC1DNAME            \n",
       "bytes10  bytes7  bytes2 ... int16 int16              bytes40              \n",
       "------- -------- ------ ... ----- ----- ----------------------------------\n",
       "VCC1148      NUC      N ...    43    59    spec1d.vugc1.000.NUC001.fits.gz\n",
       "VCC1153      NUC      N ...    13    23    spec1d.vugc1.001.NUC002.fits.gz\n",
       "    ---     GCXL      N ...    36    46   spec1d.vugc1.002.GCXL001.fits.gz\n",
       "    ---     GCXL      N ...   133   143   spec1d.vugc1.003.GCXL002.fits.gz\n",
       "    ---     GCXL      Y ...    15    27   spec1d.vugc1.004.GCXL003.fits.gz\n",
       "    ---     GCXL      N ...    27    35   spec1d.vugc1.005.GCXL006.fits.gz\n",
       "    ---     GCXL      Y ...    20    30   spec1d.vugc1.006.GCXL007.fits.gz\n",
       "    ---     GCXL      N ...    58    68   spec1d.vugc1.007.GCXL008.fits.gz\n",
       "    ---     GCXL      N ...    16    26   spec1d.vugc1.008.GCXL009.fits.gz\n",
       "    ---     GCXL      N ...    41    51   spec1d.vugc1.009.GCXL011.fits.gz\n",
       "    ...      ...    ... ...   ...   ...                                ...\n",
       "    ---      SGR      N ...    81    91   spec1d.vugc6.049.SGR0039.fits.gz\n",
       "    ---      SGR      N ...   112   120   spec1d.vugc6.050.SGR0044.fits.gz\n",
       "    ---      SGR      N ...    67    77   spec1d.vugc6.051.SGR0085.fits.gz\n",
       "    ---      SGR      N ...    21    29   spec1d.vugc6.052.SGR0105.fits.gz\n",
       "    ---      SGR      N ...     8    16   spec1d.vugc6.053.SGR0118.fits.gz\n",
       "    ---      SGR      N ...     8    16   spec1d.vugc6.054.SGR0123.fits.gz\n",
       "    ---      SGR      N ...    62    72   spec1d.vugc6.055.SGR0130.fits.gz\n",
       "    ---      SER      N ...    46    53 spec1d.vugc6.056.serendip1.fits.gz\n",
       "    ---      SGR      N ...    58    66   spec1d.vugc6.058.SGR0175.fits.gz\n",
       "    ---      SGR      N ...   297   307   spec1d.vugc6.059.SGR0179.fits.gz"
      ]
     },
     "execution_count": 4,
     "metadata": {},
     "output_type": "execute_result"
    }
   ],
   "source": [
    "ope2"
   ]
  },
  {
   "cell_type": "code",
   "execution_count": 5,
   "metadata": {},
   "outputs": [
    {
     "data": {
      "text/html": [
       "<i>Table length=86</i>\n",
       "<table id=\"table4841445696\" class=\"table-striped table-bordered table-condensed\">\n",
       "<thead><tr><th>VCC</th><th>TARGTYPE</th><th>GCSAT</th><th>HOST</th><th>RA</th><th>DEC</th><th>ZHEL</th><th>ZERR</th><th>ZERR_pe</th><th>ZERR_ne</th><th>ZCONF</th><th>ZOBS</th><th>ZOBS_pe</th><th>ZOBS_ne</th><th>ABANDCOR</th><th>ABANDCOR_pe</th><th>ABANDCOR_ne</th><th>HELCOR</th><th>SN</th><th>KECKID</th><th>MASKNAME</th><th>SLITNUM</th><th>ZSPECNUM</th><th>ZQUAL</th><th>YLOW</th><th>YHIGH</th><th>SPEC1DNAME</th></tr></thead>\n",
       "<thead><tr><th>bytes10</th><th>bytes7</th><th>bytes2</th><th>bytes10</th><th>float32</th><th>float32</th><th>float32</th><th>float32</th><th>float32</th><th>float32</th><th>float32</th><th>float32</th><th>float32</th><th>float32</th><th>float32</th><th>float32</th><th>float32</th><th>float32</th><th>float32</th><th>bytes20</th><th>bytes20</th><th>int16</th><th>int16</th><th>int16</th><th>int16</th><th>int16</th><th>bytes40</th></tr></thead>\n",
       "<tr><td>---</td><td>GCA</td><td>Y</td><td>VCC1075</td><td>187.05533</td><td>10.299723</td><td>0.005986275</td><td>2.2314422e-05</td><td>2.3751685e-05</td><td>1.848875e-05</td><td>1.0</td><td>0.006034942</td><td>2.3382843e-05</td><td>1.801246e-05</td><td>0.00026271507</td><td>8.415822e-05</td><td>7.671974e-05</td><td>4.866667e-05</td><td>3.34</td><td>gcA10</td><td>vdgc1</td><td>11</td><td>12</td><td>3</td><td>25</td><td>31</td><td>spec1d.vdgc1.011.gcA10.fits.gz</td></tr>\n",
       "<tr><td>---</td><td>GCA</td><td>Y</td><td>VCC1075</td><td>187.04483</td><td>10.286805</td><td>0.0061436505</td><td>3.446636e-05</td><td>3.2933065e-05</td><td>3.464896e-05</td><td>1.0</td><td>0.0061850455</td><td>2.3249417e-05</td><td>2.0680975e-05</td><td>-7.271697e-06</td><td>2.2949209e-05</td><td>2.7485681e-05</td><td>4.866667e-05</td><td>5.36</td><td>gcA17</td><td>vdgc1</td><td>12</td><td>13</td><td>4</td><td>17</td><td>23</td><td>spec1d.vdgc1.012.gcA17.fits.gz</td></tr>\n",
       "<tr><td>---</td><td>GCA</td><td>Y</td><td>VCC1075</td><td>187.03674</td><td>10.289222</td><td>0.006009024</td><td>2.017543e-05</td><td>1.5238696e-05</td><td>2.3278018e-05</td><td>1.0</td><td>0.006072768</td><td>1.1040972e-05</td><td>2.1948517e-05</td><td>1.50770975e-05</td><td>9.640003e-06</td><td>6.5378563e-06</td><td>4.866667e-05</td><td>7.06</td><td>gcA19</td><td>vdgc1</td><td>14</td><td>15</td><td>4</td><td>39</td><td>46</td><td>spec1d.vdgc1.014.gcA19.fits.gz</td></tr>\n",
       "<tr><td>---</td><td>GCA</td><td>Y</td><td>VCC1075</td><td>187.04433</td><td>10.315306</td><td>0.0062040924</td><td>8.479092e-06</td><td>4.762613e-06</td><td>4.239546e-06</td><td>1.0</td><td>0.006252759</td><td>2.3015923e-06</td><td>7.6719743e-07</td><td>0.0012339203</td><td>0.00022345458</td><td>0.00019736988</td><td>4.866667e-05</td><td>2.93</td><td>gcA20</td><td>vdgc1</td><td>15</td><td>16</td><td>1</td><td>32</td><td>36</td><td>spec1d.vdgc1.015.gcA20.fits.gz</td></tr>\n",
       "<tr><td>---</td><td>GCN</td><td>Y</td><td>VCC1079</td><td>187.0423</td><td>10.3538885</td><td>0.0044107186</td><td>4.186728e-05</td><td>4.404721e-05</td><td>3.8946433e-05</td><td>1.0</td><td>0.004443507</td><td>4.1662155e-05</td><td>3.3189626e-05</td><td>-1.5877651e-05</td><td>1.3676128e-05</td><td>1.9947132e-05</td><td>4.866667e-05</td><td>6.54</td><td>gcN120</td><td>vdgc1</td><td>26</td><td>31</td><td>1</td><td>122</td><td>128</td><td>spec1d.vdgc1.026.gcN120.fits.gz</td></tr>\n",
       "<tr><td>---</td><td>GCN</td><td>Y</td><td>VCC1079</td><td>187.05162</td><td>10.367778</td><td>0.004462054</td><td>4.542385e-05</td><td>4.61065e-05</td><td>4.3703032e-05</td><td>1.0</td><td>0.0045665926</td><td>3.1054817e-05</td><td>2.5984644e-05</td><td>5.5871988e-05</td><td>3.38234e-05</td><td>3.4890803e-05</td><td>4.866667e-05</td><td>6.97</td><td>gcN138</td><td>vdgc1</td><td>27</td><td>32</td><td>4</td><td>32</td><td>38</td><td>spec1d.vdgc1.027.gcN138.fits.gz</td></tr>\n",
       "<tr><td>---</td><td>GCN</td><td>Y</td><td>VCC1079</td><td>187.05696</td><td>10.373972</td><td>0.0043796967</td><td>3.777301e-05</td><td>3.8419792e-05</td><td>3.5742727e-05</td><td>1.0</td><td>0.004434401</td><td>2.591793e-05</td><td>2.4917237e-05</td><td>6.03751e-06</td><td>2.805274e-05</td><td>2.5284158e-05</td><td>4.866667e-05</td><td>4.94</td><td>gcN145</td><td>vdgc1</td><td>29</td><td>34</td><td>4</td><td>20</td><td>26</td><td>spec1d.vdgc1.029.gcN145.fits.gz</td></tr>\n",
       "<tr><td>---</td><td>GCN</td><td>Y</td><td>VCC1079</td><td>187.05429</td><td>10.377334</td><td>0.0045286</td><td>2.2710039e-05</td><td>2.7274062e-05</td><td>1.622322e-05</td><td>1.0</td><td>0.0045875404</td><td>2.648499e-05</td><td>1.4009692e-05</td><td>1.0273774e-05</td><td>5.0034614e-06</td><td>7.0382025e-06</td><td>4.866667e-05</td><td>7.02</td><td>gcN147</td><td>vdgc1</td><td>30</td><td>35</td><td>4</td><td>30</td><td>36</td><td>spec1d.vdgc1.030.gcN147.fits.gz</td></tr>\n",
       "<tr><td>---</td><td>GCN</td><td>Y</td><td>VCC1076</td><td>187.0515</td><td>10.524445</td><td>0.0055013727</td><td>3.8134505e-05</td><td>3.846017e-05</td><td>3.643079e-05</td><td>1.0</td><td>0.00556495</td><td>3.649191e-05</td><td>3.4390458e-05</td><td>1.4910315e-05</td><td>1.1407892e-05</td><td>1.12744665e-05</td><td>4.866667e-05</td><td>6.99</td><td>gcN206</td><td>vdgc1</td><td>37</td><td>44</td><td>4</td><td>114</td><td>120</td><td>spec1d.vdgc1.037.gcN206.fits.gz</td></tr>\n",
       "<tr><td>---</td><td>GCN</td><td>Y</td><td>VCC1076</td><td>187.05412</td><td>10.529555</td><td>0.005580761</td><td>6.601178e-05</td><td>6.7960405e-05</td><td>6.3349304e-05</td><td>1.0</td><td>0.00556982</td><td>5.1168732e-05</td><td>4.469759e-05</td><td>-5.9607904e-05</td><td>4.4530807e-05</td><td>4.469759e-05</td><td>4.866667e-05</td><td>2.89</td><td>gcN210</td><td>vdgc1</td><td>38</td><td>46</td><td>4</td><td>49</td><td>55</td><td>spec1d.vdgc1.038.gcN210.fits.gz</td></tr>\n",
       "<tr><td>...</td><td>...</td><td>...</td><td>...</td><td>...</td><td>...</td><td>...</td><td>...</td><td>...</td><td>...</td><td>...</td><td>...</td><td>...</td><td>...</td><td>...</td><td>...</td><td>...</td><td>...</td><td>...</td><td>...</td><td>...</td><td>...</td><td>...</td><td>...</td><td>...</td><td>...</td><td>...</td></tr>\n",
       "<tr><td>---</td><td>GCA</td><td>Y</td><td>VCC1861</td><td>190.24992</td><td>11.188056</td><td>0.0022784057</td><td>2.139232e-05</td><td>1.8386312e-05</td><td>2.1980077e-05</td><td>1.0</td><td>0.0023270098</td><td>1.6644848e-05</td><td>1.8813014e-05</td><td>5.937441e-06</td><td>6.604569e-06</td><td>1.0573982e-05</td><td>4.2666667e-05</td><td>7.99</td><td>gcA23</td><td>vdgc9B</td><td>13</td><td>16</td><td>4</td><td>17</td><td>23</td><td>spec1d.vdgc9B.013.gcA23.fits.gz</td></tr>\n",
       "<tr><td>---</td><td>GCA</td><td>Y</td><td>VCC1861</td><td>190.2507</td><td>11.184055</td><td>0.0023529907</td><td>3.9477996e-05</td><td>3.7211492e-05</td><td>4.1059695e-05</td><td>1.0</td><td>0.0023934224</td><td>1.9546856e-05</td><td>2.9753917e-05</td><td>-2.2348795e-06</td><td>3.1388383e-05</td><td>2.7986027e-05</td><td>4.2666667e-05</td><td>3.63</td><td>gcA26</td><td>vdgc9B</td><td>14</td><td>18</td><td>4</td><td>18</td><td>24</td><td>spec1d.vdgc9B.014.gcA26.fits.gz</td></tr>\n",
       "<tr><td>---</td><td>GCA</td><td>Y</td><td>VCC1861</td><td>190.25195</td><td>11.173472</td><td>0.0020519823</td><td>1.2709022e-05</td><td>1.0701378e-05</td><td>1.0352854e-05</td><td>1.0</td><td>0.0021103933</td><td>9.00623e-06</td><td>7.4384793e-06</td><td>1.5744225e-05</td><td>4.002769e-06</td><td>5.8707283e-06</td><td>4.2666667e-05</td><td>16.56</td><td>gcA29</td><td>vdgc9B</td><td>15</td><td>19</td><td>4</td><td>27</td><td>33</td><td>spec1d.vdgc9B.015.gcA29.fits.gz</td></tr>\n",
       "<tr><td>---</td><td>GCA</td><td>Y</td><td>VCC1861</td><td>190.2625</td><td>11.179139</td><td>0.0022052217</td><td>1.2501413e-05</td><td>9.221946e-06</td><td>1.1224072e-05</td><td>1.0</td><td>0.0022422513</td><td>4.6698974e-06</td><td>6.671282e-06</td><td>-5.6372332e-06</td><td>6.7713513e-06</td><td>8.005538e-06</td><td>4.2666667e-05</td><td>13.93</td><td>gcA30</td><td>vdgc9B</td><td>16</td><td>20</td><td>4</td><td>17</td><td>23</td><td>spec1d.vdgc9B.016.gcA30.fits.gz</td></tr>\n",
       "<tr><td>---</td><td>GCA</td><td>Y</td><td>VCC1861</td><td>190.2155</td><td>11.178945</td><td>0.0022596593</td><td>5.8340338e-05</td><td>8.011011e-05</td><td>3.6488465e-05</td><td>1.0</td><td>0.002328911</td><td>7.812071e-05</td><td>3.2389074e-05</td><td>2.6585058e-05</td><td>1.7245264e-05</td><td>1.6277927e-05</td><td>4.2666667e-05</td><td>3.35</td><td>gcA31</td><td>vdgc9B</td><td>17</td><td>21</td><td>3</td><td>13</td><td>19</td><td>spec1d.vdgc9B.017.gcA31.fits.gz</td></tr>\n",
       "<tr><td>---</td><td>GCN</td><td>Y</td><td>VCC1879</td><td>190.36766</td><td>11.152972</td><td>0.0055713505</td><td>5.3471595e-05</td><td>5.9265498e-05</td><td>4.6742196e-05</td><td>1.0</td><td>0.0055634486</td><td>2.6718484e-05</td><td>1.8712946e-05</td><td>-5.0568317e-05</td><td>5.2736483e-05</td><td>4.262949e-05</td><td>4.2666667e-05</td><td>4.99</td><td>gcN121</td><td>vdgc9B</td><td>21</td><td>25</td><td>4</td><td>20</td><td>26</td><td>spec1d.vdgc9B.021.gcN121.fits.gz</td></tr>\n",
       "<tr><td>---</td><td>GCA</td><td>Y</td><td>VCC1861</td><td>190.24379</td><td>11.186055</td><td>0.0022821082</td><td>4.455886e-05</td><td>3.486543e-05</td><td>5.3117e-05</td><td>1.0</td><td>0.0022021567</td><td>1.2475297e-05</td><td>2.1481528e-05</td><td>-0.00012261816</td><td>3.2289005e-05</td><td>4.840015e-05</td><td>4.2666667e-05</td><td>3.14</td><td>gcA16</td><td>vdgc9B</td><td>62</td><td>72</td><td>4</td><td>11</td><td>17</td><td>spec1d.vdgc9B.062.gcA16.fits.gz</td></tr>\n",
       "<tr><td>---</td><td>GCA</td><td>Y</td><td>VCC1861</td><td>190.24463</td><td>11.185111</td><td>0.0020616557</td><td>2.6457457e-05</td><td>2.5230987e-05</td><td>2.5707255e-05</td><td>1.0</td><td>0.0021070577</td><td>1.7678896e-05</td><td>1.6678205e-05</td><td>2.7352255e-06</td><td>1.7512115e-05</td><td>1.9113222e-05</td><td>4.2666667e-05</td><td>4.49</td><td>gcA18</td><td>vdgc9B</td><td>63</td><td>73</td><td>4</td><td>7</td><td>14</td><td>spec1d.vdgc9B.063.gcA18.fits.gz</td></tr>\n",
       "<tr><td>---</td><td>GCA</td><td>Y</td><td>VCC1861</td><td>190.24054</td><td>11.177139</td><td>0.0021166939</td><td>2.7707201e-05</td><td>2.5181194e-05</td><td>2.978692e-05</td><td>1.0</td><td>0.0021814757</td><td>1.2108377e-05</td><td>2.4483605e-05</td><td>2.2115299e-05</td><td>2.1681666e-05</td><td>1.644471e-05</td><td>4.2666667e-05</td><td>4.75</td><td>gcA21</td><td>vdgc9B</td><td>64</td><td>74</td><td>4</td><td>38</td><td>44</td><td>spec1d.vdgc9B.064.gcA21.fits.gz</td></tr>\n",
       "<tr><td>---</td><td>GCA</td><td>Y</td><td>VCC1861</td><td>190.25113</td><td>11.18025</td><td>0.0021087884</td><td>5.226562e-05</td><td>4.4467946e-05</td><td>5.912443e-05</td><td>1.0</td><td>0.0021187991</td><td>3.389011e-05</td><td>4.2496067e-05</td><td>-3.2655924e-05</td><td>2.8486375e-05</td><td>4.0894956e-05</td><td>4.2666667e-05</td><td>5.32</td><td>gcA27</td><td>vdgc9B</td><td>65</td><td>75</td><td>4</td><td>12</td><td>18</td><td>spec1d.vdgc9B.065.gcA27.fits.gz</td></tr>\n",
       "</table>"
      ],
      "text/plain": [
       "<Table length=86>\n",
       "  VCC   TARGTYPE GCSAT    HOST  ...  YLOW YHIGH            SPEC1DNAME           \n",
       "bytes10  bytes7  bytes2 bytes10 ... int16 int16             bytes40             \n",
       "------- -------- ------ ------- ... ----- ----- --------------------------------\n",
       "    ---      GCA      Y VCC1075 ...    25    31   spec1d.vdgc1.011.gcA10.fits.gz\n",
       "    ---      GCA      Y VCC1075 ...    17    23   spec1d.vdgc1.012.gcA17.fits.gz\n",
       "    ---      GCA      Y VCC1075 ...    39    46   spec1d.vdgc1.014.gcA19.fits.gz\n",
       "    ---      GCA      Y VCC1075 ...    32    36   spec1d.vdgc1.015.gcA20.fits.gz\n",
       "    ---      GCN      Y VCC1079 ...   122   128  spec1d.vdgc1.026.gcN120.fits.gz\n",
       "    ---      GCN      Y VCC1079 ...    32    38  spec1d.vdgc1.027.gcN138.fits.gz\n",
       "    ---      GCN      Y VCC1079 ...    20    26  spec1d.vdgc1.029.gcN145.fits.gz\n",
       "    ---      GCN      Y VCC1079 ...    30    36  spec1d.vdgc1.030.gcN147.fits.gz\n",
       "    ---      GCN      Y VCC1076 ...   114   120  spec1d.vdgc1.037.gcN206.fits.gz\n",
       "    ---      GCN      Y VCC1076 ...    49    55  spec1d.vdgc1.038.gcN210.fits.gz\n",
       "    ...      ...    ...     ... ...   ...   ...                              ...\n",
       "    ---      GCA      Y VCC1861 ...    17    23  spec1d.vdgc9B.013.gcA23.fits.gz\n",
       "    ---      GCA      Y VCC1861 ...    18    24  spec1d.vdgc9B.014.gcA26.fits.gz\n",
       "    ---      GCA      Y VCC1861 ...    27    33  spec1d.vdgc9B.015.gcA29.fits.gz\n",
       "    ---      GCA      Y VCC1861 ...    17    23  spec1d.vdgc9B.016.gcA30.fits.gz\n",
       "    ---      GCA      Y VCC1861 ...    13    19  spec1d.vdgc9B.017.gcA31.fits.gz\n",
       "    ---      GCN      Y VCC1879 ...    20    26 spec1d.vdgc9B.021.gcN121.fits.gz\n",
       "    ---      GCA      Y VCC1861 ...    11    17  spec1d.vdgc9B.062.gcA16.fits.gz\n",
       "    ---      GCA      Y VCC1861 ...     7    14  spec1d.vdgc9B.063.gcA18.fits.gz\n",
       "    ---      GCA      Y VCC1861 ...    38    44  spec1d.vdgc9B.064.gcA21.fits.gz\n",
       "    ---      GCA      Y VCC1861 ...    12    18  spec1d.vdgc9B.065.gcA27.fits.gz"
      ]
     },
     "execution_count": 5,
     "metadata": {},
     "output_type": "execute_result"
    }
   ],
   "source": [
    "# remove any rows where ZCONF is not 1\n",
    "true1 = ope1[ope1['ZCONF'] == 1]\n",
    "# remove any rows where GCSAT is not 'Y'\n",
    "true1 = true1[true1['GCSAT'] == 'Y']\n",
    "true1"
   ]
  },
  {
   "cell_type": "code",
   "execution_count": 6,
   "metadata": {},
   "outputs": [
    {
     "data": {
      "text/html": [
       "<i>Table length=25</i>\n",
       "<table id=\"table4836720768\" class=\"table-striped table-bordered table-condensed\">\n",
       "<thead><tr><th>VCC</th><th>TARGTYPE</th><th>GCSAT</th><th>HOST</th><th>RA</th><th>DEC</th><th>VHEL</th><th>VERR</th><th>VERR_pe</th><th>VERR_ne</th><th>ZCONF</th><th>VOBS</th><th>VOBS_pe</th><th>VOBS_ne</th><th>ABANDCOR</th><th>ABANDCOR_pe</th><th>ABANDCOR_ne</th><th>HELCOR</th><th>SN</th><th>MASKNAME</th><th>SLITNUM</th><th>YLOW</th><th>YHIGH</th><th>SPEC1DNAME</th></tr></thead>\n",
       "<thead><tr><th>bytes10</th><th>bytes7</th><th>bytes2</th><th>bytes10</th><th>float32</th><th>float32</th><th>float32</th><th>float32</th><th>float32</th><th>float32</th><th>float32</th><th>float32</th><th>float32</th><th>float32</th><th>float32</th><th>float32</th><th>float32</th><th>float32</th><th>float32</th><th>bytes20</th><th>int16</th><th>int16</th><th>int16</th><th>bytes40</th></tr></thead>\n",
       "<tr><td>---</td><td>GCXL</td><td>Y</td><td>VLSB-B</td><td>187.04521</td><td>12.7260275</td><td>36.84</td><td>7.0934</td><td>7.08</td><td>6.54</td><td>1.0</td><td>85.78</td><td>7.08</td><td>6.54</td><td>39.34</td><td>2.15</td><td>1.82</td><td>9.6</td><td>10.08</td><td>vugc1</td><td>4</td><td>15</td><td>27</td><td>spec1d.vugc1.004.GCXL003.fits.gz</td></tr>\n",
       "<tr><td>---</td><td>GCXL</td><td>Y</td><td>VLSB-B</td><td>187.04175</td><td>12.724417</td><td>4.73</td><td>25.45554</td><td>26.43</td><td>24.23</td><td>1.0</td><td>38.71</td><td>26.43</td><td>24.23</td><td>24.38</td><td>2.72</td><td>2.33</td><td>9.6</td><td>4.85</td><td>vugc1</td><td>6</td><td>20</td><td>30</td><td>spec1d.vugc1.006.GCXL007.fits.gz</td></tr>\n",
       "<tr><td>---</td><td>GCXL</td><td>Y</td><td>VLSB-B</td><td>187.04613</td><td>12.724055</td><td>52.14</td><td>9.228409</td><td>7.88</td><td>8.58</td><td>1.0</td><td>104.23</td><td>7.88</td><td>8.58</td><td>42.49</td><td>4.41</td><td>3.94</td><td>9.6</td><td>4.28</td><td>vugc1</td><td>10</td><td>12</td><td>22</td><td>spec1d.vugc1.010.GCXL012.fits.gz</td></tr>\n",
       "<tr><td>---</td><td>GCXL</td><td>Y</td><td>VCC1148</td><td>187.23409</td><td>12.664805</td><td>1375.66</td><td>7.476045</td><td>3.42</td><td>6.91</td><td>1.0</td><td>1335.91</td><td>3.42</td><td>6.91</td><td>-49.35</td><td>4.7</td><td>6.11</td><td>9.6</td><td>4.68</td><td>vugc1</td><td>13</td><td>214</td><td>224</td><td>spec1d.vugc1.013.GCXL016.fits.gz</td></tr>\n",
       "<tr><td>---</td><td>GCXF</td><td>Y</td><td>VLSB-B</td><td>187.04088</td><td>12.735666</td><td>-73.27</td><td>48.365</td><td>39.31</td><td>57.42</td><td>1.0</td><td>-63.67</td><td>39.31</td><td>57.42</td><td>7.27</td><td>17.61</td><td>183.55</td><td>9.6</td><td>0.81</td><td>vugc1</td><td>19</td><td>15</td><td>23</td><td>spec1d.vugc1.019.GCXF011.fits.gz</td></tr>\n",
       "<tr><td>---</td><td>GCBL</td><td>Y</td><td>VCC1153</td><td>187.26996</td><td>12.665</td><td>113.24</td><td>3.2922218</td><td>2.8</td><td>3.15</td><td>1.0</td><td>96.86</td><td>2.8</td><td>3.15</td><td>-25.98</td><td>1.66</td><td>1.16</td><td>9.6</td><td>17.0</td><td>vugc1</td><td>28</td><td>40</td><td>50</td><td>spec1d.vugc1.028.GCBL005.fits.gz</td></tr>\n",
       "<tr><td>---</td><td>GCXL</td><td>Y</td><td>VLSB-D</td><td>186.17159</td><td>13.580055</td><td>1006.92</td><td>8.453587</td><td>4.7</td><td>7.19</td><td>1.0</td><td>987.41</td><td>4.7</td><td>7.19</td><td>-28.51</td><td>5.59</td><td>6.43</td><td>9.0</td><td>6.17</td><td>vugc5</td><td>1</td><td>4</td><td>7</td><td>spec1d.vugc5.001.GCXL001.fits.gz</td></tr>\n",
       "<tr><td>---</td><td>GCXL</td><td>Y</td><td>VLSB-D</td><td>186.18745</td><td>13.564</td><td>1057.16</td><td>10.3895645</td><td>7.36</td><td>7.03</td><td>1.0</td><td>1052.7</td><td>7.36</td><td>7.03</td><td>-13.46</td><td>7.44</td><td>7.55</td><td>9.0</td><td>6.33</td><td>vugc5</td><td>2</td><td>24</td><td>32</td><td>spec1d.vugc5.002.GCXL002.fits.gz</td></tr>\n",
       "<tr><td>---</td><td>GCXL</td><td>Y</td><td>VLSB-D</td><td>186.17741</td><td>13.550445</td><td>1026.31</td><td>4.880886</td><td>3.9</td><td>4.49</td><td>1.0</td><td>1028.8</td><td>3.9</td><td>4.49</td><td>-6.51</td><td>2.44</td><td>2.55</td><td>9.0</td><td>11.62</td><td>vugc5</td><td>3</td><td>55</td><td>63</td><td>spec1d.vugc5.003.GCXL003.fits.gz</td></tr>\n",
       "<tr><td>---</td><td>GCXL</td><td>Y</td><td>VLSB-D</td><td>186.18413</td><td>13.556723</td><td>1056.22</td><td>12.89066</td><td>15.56</td><td>8.47</td><td>1.0</td><td>1056.32</td><td>15.56</td><td>8.47</td><td>-8.9</td><td>4.43</td><td>4.91</td><td>9.0</td><td>2.39</td><td>vugc5</td><td>4</td><td>16</td><td>22</td><td>spec1d.vugc5.004.GCXL004.fits.gz</td></tr>\n",
       "<tr><td>...</td><td>...</td><td>...</td><td>...</td><td>...</td><td>...</td><td>...</td><td>...</td><td>...</td><td>...</td><td>...</td><td>...</td><td>...</td><td>...</td><td>...</td><td>...</td><td>...</td><td>...</td><td>...</td><td>...</td><td>...</td><td>...</td><td>...</td><td>...</td></tr>\n",
       "<tr><td>---</td><td>GCXF</td><td>Y</td><td>VLSB-D</td><td>186.17091</td><td>13.498722</td><td>1028.3</td><td>12.425</td><td>10.98</td><td>13.87</td><td>1.0</td><td>1037.3</td><td>10.98</td><td>13.87</td><td>-9.15</td><td>34.16</td><td>29.25</td><td>9.0</td><td>2.15</td><td>vugc5</td><td>15</td><td>30</td><td>38</td><td>spec1d.vugc5.015.GCXF002.fits.gz</td></tr>\n",
       "<tr><td>---</td><td>GCXF</td><td>Y</td><td>VLSB-D</td><td>186.17587</td><td>13.533361</td><td>1043.16</td><td>13.015199</td><td>8.56</td><td>11.54</td><td>1.0</td><td>1035.59</td><td>8.56</td><td>11.54</td><td>-16.57</td><td>8.82</td><td>7.72</td><td>9.0</td><td>4.38</td><td>vugc5</td><td>19</td><td>22</td><td>30</td><td>spec1d.vugc5.019.GCXF008.fits.gz</td></tr>\n",
       "<tr><td>---</td><td>GCBF</td><td>Y</td><td>VLSB-D</td><td>186.16437</td><td>13.568361</td><td>1043.72</td><td>19.373266</td><td>13.22</td><td>7.47</td><td>1.0</td><td>1047.04</td><td>13.22</td><td>7.47</td><td>-5.68</td><td>13.55</td><td>19.21</td><td>9.0</td><td>3.88</td><td>vugc5</td><td>25</td><td>43</td><td>51</td><td>spec1d.vugc5.025.GCBF006.fits.gz</td></tr>\n",
       "<tr><td>---</td><td>GCXL</td><td>Y</td><td>VCC0615</td><td>185.763</td><td>12.007584</td><td>2092.53</td><td>3.7062986</td><td>1.25</td><td>1.04</td><td>1.0</td><td>2113.06</td><td>1.25</td><td>1.04</td><td>11.33</td><td>2.5</td><td>4.55</td><td>9.2</td><td>6.85</td><td>vugc6</td><td>1</td><td>19</td><td>27</td><td>spec1d.vugc6.001.GCXL001.fits.gz</td></tr>\n",
       "<tr><td>---</td><td>GCXL</td><td>Y</td><td>VCC0615</td><td>185.7575</td><td>11.9945</td><td>2098.03</td><td>21.363428</td><td>25.18</td><td>13.07</td><td>1.0</td><td>2128.62</td><td>25.18</td><td>13.07</td><td>21.39</td><td>8.46</td><td>10.58</td><td>9.2</td><td>3.97</td><td>vugc6</td><td>2</td><td>14</td><td>24</td><td>spec1d.vugc6.002.GCXL002.fits.gz</td></tr>\n",
       "<tr><td>---</td><td>GCXL</td><td>Y</td><td>VCC0615</td><td>185.7768</td><td>12.016472</td><td>2117.74</td><td>9.1028805</td><td>11.13</td><td>5.91</td><td>1.0</td><td>2134.53</td><td>11.13</td><td>5.91</td><td>7.59</td><td>3.22</td><td>3.19</td><td>9.2</td><td>6.66</td><td>vugc6</td><td>3</td><td>39</td><td>47</td><td>spec1d.vugc6.003.GCXL003.fits.gz</td></tr>\n",
       "<tr><td>---</td><td>GCXL</td><td>Y</td><td>VCC0615</td><td>185.77496</td><td>12.022</td><td>2074.73</td><td>3.1152046</td><td>0.32</td><td>0.04</td><td>1.0</td><td>2099.35</td><td>0.32</td><td>0.04</td><td>15.42</td><td>2.99</td><td>3.23</td><td>9.2</td><td>4.27</td><td>vugc6</td><td>4</td><td>37</td><td>45</td><td>spec1d.vugc6.004.GCXL004.fits.gz</td></tr>\n",
       "<tr><td>---</td><td>GCXF</td><td>Y</td><td>VCC0615</td><td>185.77983</td><td>12.024111</td><td>2051.32</td><td>5.945473</td><td>0.06</td><td>0.09</td><td>1.0</td><td>2094.21</td><td>0.06</td><td>0.09</td><td>33.69</td><td>6.31</td><td>5.58</td><td>9.2</td><td>3.0</td><td>vugc6</td><td>5</td><td>103</td><td>113</td><td>spec1d.vugc6.005.GCXF003.fits.gz</td></tr>\n",
       "<tr><td>---</td><td>GCXF</td><td>Y</td><td>VCC0615</td><td>185.785</td><td>12.017889</td><td>2153.86</td><td>36.283745</td><td>40.04</td><td>31.06</td><td>1.0</td><td>2151.7</td><td>40.04</td><td>31.06</td><td>-11.36</td><td>7.93</td><td>6.59</td><td>9.2</td><td>2.91</td><td>vugc6</td><td>6</td><td>15</td><td>23</td><td>spec1d.vugc6.006.GCXF005.fits.gz</td></tr>\n",
       "<tr><td>---</td><td>GCXF</td><td>Y</td><td>VCC0615</td><td>185.77063</td><td>12.016639</td><td>2117.72</td><td>19.99313</td><td>10.34</td><td>8.63</td><td>1.0</td><td>2125.45</td><td>10.34</td><td>8.63</td><td>-1.47</td><td>18.24</td><td>16.96</td><td>9.2</td><td>2.97</td><td>vugc6</td><td>7</td><td>46</td><td>54</td><td>spec1d.vugc6.007.GCXF006.fits.gz</td></tr>\n",
       "</table>"
      ],
      "text/plain": [
       "<Table length=25>\n",
       "  VCC   TARGTYPE GCSAT    HOST  ...  YLOW YHIGH            SPEC1DNAME           \n",
       "bytes10  bytes7  bytes2 bytes10 ... int16 int16             bytes40             \n",
       "------- -------- ------ ------- ... ----- ----- --------------------------------\n",
       "    ---     GCXL      Y  VLSB-B ...    15    27 spec1d.vugc1.004.GCXL003.fits.gz\n",
       "    ---     GCXL      Y  VLSB-B ...    20    30 spec1d.vugc1.006.GCXL007.fits.gz\n",
       "    ---     GCXL      Y  VLSB-B ...    12    22 spec1d.vugc1.010.GCXL012.fits.gz\n",
       "    ---     GCXL      Y VCC1148 ...   214   224 spec1d.vugc1.013.GCXL016.fits.gz\n",
       "    ---     GCXF      Y  VLSB-B ...    15    23 spec1d.vugc1.019.GCXF011.fits.gz\n",
       "    ---     GCBL      Y VCC1153 ...    40    50 spec1d.vugc1.028.GCBL005.fits.gz\n",
       "    ---     GCXL      Y  VLSB-D ...     4     7 spec1d.vugc5.001.GCXL001.fits.gz\n",
       "    ---     GCXL      Y  VLSB-D ...    24    32 spec1d.vugc5.002.GCXL002.fits.gz\n",
       "    ---     GCXL      Y  VLSB-D ...    55    63 spec1d.vugc5.003.GCXL003.fits.gz\n",
       "    ---     GCXL      Y  VLSB-D ...    16    22 spec1d.vugc5.004.GCXL004.fits.gz\n",
       "    ...      ...    ...     ... ...   ...   ...                              ...\n",
       "    ---     GCXF      Y  VLSB-D ...    30    38 spec1d.vugc5.015.GCXF002.fits.gz\n",
       "    ---     GCXF      Y  VLSB-D ...    22    30 spec1d.vugc5.019.GCXF008.fits.gz\n",
       "    ---     GCBF      Y  VLSB-D ...    43    51 spec1d.vugc5.025.GCBF006.fits.gz\n",
       "    ---     GCXL      Y VCC0615 ...    19    27 spec1d.vugc6.001.GCXL001.fits.gz\n",
       "    ---     GCXL      Y VCC0615 ...    14    24 spec1d.vugc6.002.GCXL002.fits.gz\n",
       "    ---     GCXL      Y VCC0615 ...    39    47 spec1d.vugc6.003.GCXL003.fits.gz\n",
       "    ---     GCXL      Y VCC0615 ...    37    45 spec1d.vugc6.004.GCXL004.fits.gz\n",
       "    ---     GCXF      Y VCC0615 ...   103   113 spec1d.vugc6.005.GCXF003.fits.gz\n",
       "    ---     GCXF      Y VCC0615 ...    15    23 spec1d.vugc6.006.GCXF005.fits.gz\n",
       "    ---     GCXF      Y VCC0615 ...    46    54 spec1d.vugc6.007.GCXF006.fits.gz"
      ]
     },
     "execution_count": 6,
     "metadata": {},
     "output_type": "execute_result"
    }
   ],
   "source": [
    "# remove any rows where ZCONF is not 1\n",
    "true2 = ope2[ope2['ZCONF'] == 1]\n",
    "# remove any rows where GCSAT is not 'Y'\n",
    "true2 = ope2[ope2['GCSAT'] == 'Y']\n",
    "true2"
   ]
  },
  {
   "cell_type": "code",
   "execution_count": 7,
   "metadata": {
    "scrolled": true
   },
   "outputs": [
    {
     "data": {
      "text/html": [
       "<i>Table length=86</i>\n",
       "<table id=\"table4841445696\" class=\"table-striped table-bordered table-condensed\">\n",
       "<thead><tr><th>VCC</th><th>TARGTYPE</th><th>GCSAT</th><th>HOST</th><th>RA</th><th>DEC</th><th>VHEL</th><th>VERR</th><th>VERR_pe</th><th>VERR_ne</th><th>ZCONF</th><th>VOBS</th><th>VOBS_pe</th><th>VOBS_ne</th><th>ABANDCOR</th><th>ABANDCOR_pe</th><th>ABANDCOR_ne</th><th>HELCOR</th><th>SN</th><th>KECKID</th><th>MASKNAME</th><th>SLITNUM</th><th>ZSPECNUM</th><th>ZQUAL</th><th>YLOW</th><th>YHIGH</th><th>SPEC1DNAME</th></tr></thead>\n",
       "<thead><tr><th>bytes10</th><th>bytes7</th><th>bytes2</th><th>bytes10</th><th>float32</th><th>float32</th><th>float32</th><th>float32</th><th>float32</th><th>float32</th><th>float32</th><th>float32</th><th>float32</th><th>float32</th><th>float32</th><th>float32</th><th>float32</th><th>float32</th><th>float32</th><th>bytes20</th><th>bytes20</th><th>int16</th><th>int16</th><th>int16</th><th>int16</th><th>int16</th><th>bytes40</th></tr></thead>\n",
       "<tr><td>---</td><td>GCA</td><td>Y</td><td>VCC1075</td><td>187.05533</td><td>10.299723</td><td>1795.8826</td><td>6.6943264</td><td>7.1255054</td><td>5.546625</td><td>1.0</td><td>1810.4825</td><td>7.014853</td><td>5.403738</td><td>0.00026271507</td><td>8.415822e-05</td><td>7.671974e-05</td><td>4.866667e-05</td><td>3.34</td><td>gcA10</td><td>vdgc1</td><td>11</td><td>12</td><td>3</td><td>25</td><td>31</td><td>spec1d.vdgc1.011.gcA10.fits.gz</td></tr>\n",
       "<tr><td>---</td><td>GCA</td><td>Y</td><td>VCC1075</td><td>187.04483</td><td>10.286805</td><td>1843.0951</td><td>10.339908</td><td>9.879919</td><td>10.394689</td><td>1.0</td><td>1855.5137</td><td>6.974825</td><td>6.2042923</td><td>-7.271697e-06</td><td>2.2949209e-05</td><td>2.7485681e-05</td><td>4.866667e-05</td><td>5.36</td><td>gcA17</td><td>vdgc1</td><td>12</td><td>13</td><td>4</td><td>17</td><td>23</td><td>spec1d.vdgc1.012.gcA17.fits.gz</td></tr>\n",
       "<tr><td>---</td><td>GCA</td><td>Y</td><td>VCC1075</td><td>187.03674</td><td>10.289222</td><td>1802.7073</td><td>6.052629</td><td>4.5716085</td><td>6.9834056</td><td>1.0</td><td>1821.8304</td><td>3.3122916</td><td>6.584555</td><td>1.50770975e-05</td><td>9.640003e-06</td><td>6.5378563e-06</td><td>4.866667e-05</td><td>7.06</td><td>gcA19</td><td>vdgc1</td><td>14</td><td>15</td><td>4</td><td>39</td><td>46</td><td>spec1d.vdgc1.014.gcA19.fits.gz</td></tr>\n",
       "<tr><td>---</td><td>GCA</td><td>Y</td><td>VCC1075</td><td>187.04433</td><td>10.315306</td><td>1861.2278</td><td>2.5437276</td><td>1.4287839</td><td>1.2718638</td><td>1.0</td><td>1875.8278</td><td>0.69047767</td><td>0.23015922</td><td>0.0012339203</td><td>0.00022345458</td><td>0.00019736988</td><td>4.866667e-05</td><td>2.93</td><td>gcA20</td><td>vdgc1</td><td>15</td><td>16</td><td>1</td><td>32</td><td>36</td><td>spec1d.vdgc1.015.gcA20.fits.gz</td></tr>\n",
       "<tr><td>---</td><td>GCN</td><td>Y</td><td>VCC1079</td><td>187.0423</td><td>10.3538885</td><td>1323.2156</td><td>12.560184</td><td>13.214163</td><td>11.683929</td><td>1.0</td><td>1333.0521</td><td>12.498647</td><td>9.956888</td><td>-1.5877651e-05</td><td>1.3676128e-05</td><td>1.9947132e-05</td><td>4.866667e-05</td><td>6.54</td><td>gcN120</td><td>vdgc1</td><td>26</td><td>31</td><td>1</td><td>122</td><td>128</td><td>spec1d.vdgc1.026.gcN120.fits.gz</td></tr>\n",
       "<tr><td>---</td><td>GCN</td><td>Y</td><td>VCC1079</td><td>187.05162</td><td>10.367778</td><td>1338.6162</td><td>13.627155</td><td>13.83195</td><td>13.110909</td><td>1.0</td><td>1369.9778</td><td>9.316445</td><td>7.795393</td><td>5.5871988e-05</td><td>3.38234e-05</td><td>3.4890803e-05</td><td>4.866667e-05</td><td>6.97</td><td>gcN138</td><td>vdgc1</td><td>27</td><td>32</td><td>4</td><td>32</td><td>38</td><td>spec1d.vdgc1.027.gcN138.fits.gz</td></tr>\n",
       "<tr><td>---</td><td>GCN</td><td>Y</td><td>VCC1079</td><td>187.05696</td><td>10.373972</td><td>1313.909</td><td>11.331903</td><td>11.525938</td><td>10.722818</td><td>1.0</td><td>1330.3203</td><td>7.775379</td><td>7.475171</td><td>6.03751e-06</td><td>2.805274e-05</td><td>2.5284158e-05</td><td>4.866667e-05</td><td>4.94</td><td>gcN145</td><td>vdgc1</td><td>29</td><td>34</td><td>4</td><td>20</td><td>26</td><td>spec1d.vdgc1.029.gcN145.fits.gz</td></tr>\n",
       "<tr><td>---</td><td>GCN</td><td>Y</td><td>VCC1079</td><td>187.05429</td><td>10.377334</td><td>1358.58</td><td>6.8130116</td><td>8.182219</td><td>4.8669662</td><td>1.0</td><td>1376.2621</td><td>7.945497</td><td>4.2029076</td><td>1.0273774e-05</td><td>5.0034614e-06</td><td>7.0382025e-06</td><td>4.866667e-05</td><td>7.02</td><td>gcN147</td><td>vdgc1</td><td>30</td><td>35</td><td>4</td><td>30</td><td>36</td><td>spec1d.vdgc1.030.gcN147.fits.gz</td></tr>\n",
       "<tr><td>---</td><td>GCN</td><td>Y</td><td>VCC1076</td><td>187.0515</td><td>10.524445</td><td>1650.4119</td><td>11.4403515</td><td>11.538051</td><td>10.929236</td><td>1.0</td><td>1669.485</td><td>10.947573</td><td>10.317138</td><td>1.4910315e-05</td><td>1.1407892e-05</td><td>1.12744665e-05</td><td>4.866667e-05</td><td>6.99</td><td>gcN206</td><td>vdgc1</td><td>37</td><td>44</td><td>4</td><td>114</td><td>120</td><td>spec1d.vdgc1.037.gcN206.fits.gz</td></tr>\n",
       "<tr><td>---</td><td>GCN</td><td>Y</td><td>VCC1076</td><td>187.05412</td><td>10.529555</td><td>1674.2283</td><td>19.803534</td><td>20.388123</td><td>19.004791</td><td>1.0</td><td>1670.9459</td><td>15.350619</td><td>13.409277</td><td>-5.9607904e-05</td><td>4.4530807e-05</td><td>4.469759e-05</td><td>4.866667e-05</td><td>2.89</td><td>gcN210</td><td>vdgc1</td><td>38</td><td>46</td><td>4</td><td>49</td><td>55</td><td>spec1d.vdgc1.038.gcN210.fits.gz</td></tr>\n",
       "<tr><td>...</td><td>...</td><td>...</td><td>...</td><td>...</td><td>...</td><td>...</td><td>...</td><td>...</td><td>...</td><td>...</td><td>...</td><td>...</td><td>...</td><td>...</td><td>...</td><td>...</td><td>...</td><td>...</td><td>...</td><td>...</td><td>...</td><td>...</td><td>...</td><td>...</td><td>...</td><td>...</td></tr>\n",
       "<tr><td>---</td><td>GCA</td><td>Y</td><td>VCC1861</td><td>190.24992</td><td>11.188056</td><td>683.5217</td><td>6.417696</td><td>5.5158935</td><td>6.594023</td><td>1.0</td><td>698.10297</td><td>4.9934545</td><td>5.643904</td><td>5.937441e-06</td><td>6.604569e-06</td><td>1.0573982e-05</td><td>4.2666667e-05</td><td>7.99</td><td>gcA23</td><td>vdgc9B</td><td>13</td><td>16</td><td>4</td><td>17</td><td>23</td><td>spec1d.vdgc9B.013.gcA23.fits.gz</td></tr>\n",
       "<tr><td>---</td><td>GCA</td><td>Y</td><td>VCC1861</td><td>190.2507</td><td>11.184055</td><td>705.8972</td><td>11.843399</td><td>11.163447</td><td>12.317908</td><td>1.0</td><td>718.02673</td><td>5.864057</td><td>8.926175</td><td>-2.2348795e-06</td><td>3.1388383e-05</td><td>2.7986027e-05</td><td>4.2666667e-05</td><td>3.63</td><td>gcA26</td><td>vdgc9B</td><td>14</td><td>18</td><td>4</td><td>18</td><td>24</td><td>spec1d.vdgc9B.014.gcA26.fits.gz</td></tr>\n",
       "<tr><td>---</td><td>GCA</td><td>Y</td><td>VCC1861</td><td>190.25195</td><td>11.173472</td><td>615.5947</td><td>3.8127065</td><td>3.2104135</td><td>3.1058562</td><td>1.0</td><td>633.118</td><td>2.701869</td><td>2.2315438</td><td>1.5744225e-05</td><td>4.002769e-06</td><td>5.8707283e-06</td><td>4.2666667e-05</td><td>16.56</td><td>gcA29</td><td>vdgc9B</td><td>15</td><td>19</td><td>4</td><td>27</td><td>33</td><td>spec1d.vdgc9B.015.gcA29.fits.gz</td></tr>\n",
       "<tr><td>---</td><td>GCA</td><td>Y</td><td>VCC1861</td><td>190.2625</td><td>11.179139</td><td>661.5665</td><td>3.750424</td><td>2.766584</td><td>3.3672216</td><td>1.0</td><td>672.6754</td><td>1.4009693</td><td>2.0013845</td><td>-5.6372332e-06</td><td>6.7713513e-06</td><td>8.005538e-06</td><td>4.2666667e-05</td><td>13.93</td><td>gcA30</td><td>vdgc9B</td><td>16</td><td>20</td><td>4</td><td>17</td><td>23</td><td>spec1d.vdgc9B.016.gcA30.fits.gz</td></tr>\n",
       "<tr><td>---</td><td>GCA</td><td>Y</td><td>VCC1861</td><td>190.2155</td><td>11.178945</td><td>677.8978</td><td>17.502102</td><td>24.033033</td><td>10.94654</td><td>1.0</td><td>698.67334</td><td>23.436214</td><td>9.7167225</td><td>2.6585058e-05</td><td>1.7245264e-05</td><td>1.6277927e-05</td><td>4.2666667e-05</td><td>3.35</td><td>gcA31</td><td>vdgc9B</td><td>17</td><td>21</td><td>3</td><td>13</td><td>19</td><td>spec1d.vdgc9B.017.gcA31.fits.gz</td></tr>\n",
       "<tr><td>---</td><td>GCN</td><td>Y</td><td>VCC1879</td><td>190.36766</td><td>11.152972</td><td>1671.4052</td><td>16.04148</td><td>17.77965</td><td>14.022658</td><td>1.0</td><td>1669.0345</td><td>8.015545</td><td>5.613884</td><td>-5.0568317e-05</td><td>5.2736483e-05</td><td>4.262949e-05</td><td>4.2666667e-05</td><td>4.99</td><td>gcN121</td><td>vdgc9B</td><td>21</td><td>25</td><td>4</td><td>20</td><td>26</td><td>spec1d.vdgc9B.021.gcN121.fits.gz</td></tr>\n",
       "<tr><td>---</td><td>GCA</td><td>Y</td><td>VCC1861</td><td>190.24379</td><td>11.186055</td><td>684.63245</td><td>13.367658</td><td>10.459628</td><td>15.935101</td><td>1.0</td><td>660.64703</td><td>3.742589</td><td>6.4444585</td><td>-0.00012261816</td><td>3.2289005e-05</td><td>4.840015e-05</td><td>4.2666667e-05</td><td>3.14</td><td>gcA16</td><td>vdgc9B</td><td>62</td><td>72</td><td>4</td><td>11</td><td>17</td><td>spec1d.vdgc9B.062.gcA16.fits.gz</td></tr>\n",
       "<tr><td>---</td><td>GCA</td><td>Y</td><td>VCC1861</td><td>190.24463</td><td>11.185111</td><td>618.4967</td><td>7.9372373</td><td>7.5692964</td><td>7.7121763</td><td>1.0</td><td>632.1173</td><td>5.303669</td><td>5.0034614</td><td>2.7352255e-06</td><td>1.7512115e-05</td><td>1.9113222e-05</td><td>4.2666667e-05</td><td>4.49</td><td>gcA18</td><td>vdgc9B</td><td>63</td><td>73</td><td>4</td><td>7</td><td>14</td><td>spec1d.vdgc9B.063.gcA18.fits.gz</td></tr>\n",
       "<tr><td>---</td><td>GCA</td><td>Y</td><td>VCC1861</td><td>190.24054</td><td>11.177139</td><td>635.0082</td><td>8.3121605</td><td>7.5543585</td><td>8.936076</td><td>1.0</td><td>654.44275</td><td>3.632513</td><td>7.3450813</td><td>2.2115299e-05</td><td>2.1681666e-05</td><td>1.644471e-05</td><td>4.2666667e-05</td><td>4.75</td><td>gcA21</td><td>vdgc9B</td><td>64</td><td>74</td><td>4</td><td>38</td><td>44</td><td>spec1d.vdgc9B.064.gcA21.fits.gz</td></tr>\n",
       "<tr><td>---</td><td>GCA</td><td>Y</td><td>VCC1861</td><td>190.25113</td><td>11.18025</td><td>632.63654</td><td>15.679686</td><td>13.340384</td><td>17.73733</td><td>1.0</td><td>635.6398</td><td>10.167033</td><td>12.74882</td><td>-3.2655924e-05</td><td>2.8486375e-05</td><td>4.0894956e-05</td><td>4.2666667e-05</td><td>5.32</td><td>gcA27</td><td>vdgc9B</td><td>65</td><td>75</td><td>4</td><td>12</td><td>18</td><td>spec1d.vdgc9B.065.gcA27.fits.gz</td></tr>\n",
       "</table>"
      ],
      "text/plain": [
       "<Table length=86>\n",
       "  VCC   TARGTYPE GCSAT    HOST  ...  YLOW YHIGH            SPEC1DNAME           \n",
       "bytes10  bytes7  bytes2 bytes10 ... int16 int16             bytes40             \n",
       "------- -------- ------ ------- ... ----- ----- --------------------------------\n",
       "    ---      GCA      Y VCC1075 ...    25    31   spec1d.vdgc1.011.gcA10.fits.gz\n",
       "    ---      GCA      Y VCC1075 ...    17    23   spec1d.vdgc1.012.gcA17.fits.gz\n",
       "    ---      GCA      Y VCC1075 ...    39    46   spec1d.vdgc1.014.gcA19.fits.gz\n",
       "    ---      GCA      Y VCC1075 ...    32    36   spec1d.vdgc1.015.gcA20.fits.gz\n",
       "    ---      GCN      Y VCC1079 ...   122   128  spec1d.vdgc1.026.gcN120.fits.gz\n",
       "    ---      GCN      Y VCC1079 ...    32    38  spec1d.vdgc1.027.gcN138.fits.gz\n",
       "    ---      GCN      Y VCC1079 ...    20    26  spec1d.vdgc1.029.gcN145.fits.gz\n",
       "    ---      GCN      Y VCC1079 ...    30    36  spec1d.vdgc1.030.gcN147.fits.gz\n",
       "    ---      GCN      Y VCC1076 ...   114   120  spec1d.vdgc1.037.gcN206.fits.gz\n",
       "    ---      GCN      Y VCC1076 ...    49    55  spec1d.vdgc1.038.gcN210.fits.gz\n",
       "    ...      ...    ...     ... ...   ...   ...                              ...\n",
       "    ---      GCA      Y VCC1861 ...    17    23  spec1d.vdgc9B.013.gcA23.fits.gz\n",
       "    ---      GCA      Y VCC1861 ...    18    24  spec1d.vdgc9B.014.gcA26.fits.gz\n",
       "    ---      GCA      Y VCC1861 ...    27    33  spec1d.vdgc9B.015.gcA29.fits.gz\n",
       "    ---      GCA      Y VCC1861 ...    17    23  spec1d.vdgc9B.016.gcA30.fits.gz\n",
       "    ---      GCA      Y VCC1861 ...    13    19  spec1d.vdgc9B.017.gcA31.fits.gz\n",
       "    ---      GCN      Y VCC1879 ...    20    26 spec1d.vdgc9B.021.gcN121.fits.gz\n",
       "    ---      GCA      Y VCC1861 ...    11    17  spec1d.vdgc9B.062.gcA16.fits.gz\n",
       "    ---      GCA      Y VCC1861 ...     7    14  spec1d.vdgc9B.063.gcA18.fits.gz\n",
       "    ---      GCA      Y VCC1861 ...    38    44  spec1d.vdgc9B.064.gcA21.fits.gz\n",
       "    ---      GCA      Y VCC1861 ...    12    18  spec1d.vdgc9B.065.gcA27.fits.gz"
      ]
     },
     "execution_count": 7,
     "metadata": {},
     "output_type": "execute_result"
    }
   ],
   "source": [
    "#VLSBB, VLSBD, or VCC615\n",
    "\n",
    "# Change the column values in VDGC by using and ZERR to VERR conversion\n",
    "columns_to_change = ['ZERR', 'ZERR_ne', 'ZERR_pe', 'ZHEL', 'ZOBS', 'ZOBS_ne', 'ZOBS_pe']\n",
    "for col in columns_to_change:\n",
    "    true1[col] = true1[col] * 3e+5\n",
    "    # col[1:] selects the second letter through the end, so that ZERR_ne becomes ERR_ne. We then put V in front\n",
    "    true1.rename_column(col, 'V' + col[1:])   \n",
    "\n",
    "true1"
   ]
  },
  {
   "cell_type": "code",
   "execution_count": 8,
   "metadata": {},
   "outputs": [
    {
     "data": {
      "text/html": [
       "<i>Table length=23</i>\n",
       "<table id=\"table4841446872\" class=\"table-striped table-bordered table-condensed\">\n",
       "<thead><tr><th>VCC</th><th>TARGTYPE</th><th>GCSAT</th><th>HOST</th><th>RA</th><th>DEC</th><th>VHEL</th><th>VERR</th><th>VERR_pe</th><th>VERR_ne</th><th>ZCONF</th><th>VOBS</th><th>VOBS_pe</th><th>VOBS_ne</th><th>ABANDCOR</th><th>ABANDCOR_pe</th><th>ABANDCOR_ne</th><th>HELCOR</th><th>SN</th><th>MASKNAME</th><th>SLITNUM</th><th>YLOW</th><th>YHIGH</th><th>SPEC1DNAME</th></tr></thead>\n",
       "<thead><tr><th>bytes10</th><th>bytes7</th><th>bytes2</th><th>bytes10</th><th>float32</th><th>float32</th><th>float32</th><th>float32</th><th>float32</th><th>float32</th><th>float32</th><th>float32</th><th>float32</th><th>float32</th><th>float32</th><th>float32</th><th>float32</th><th>float32</th><th>float32</th><th>bytes20</th><th>int16</th><th>int16</th><th>int16</th><th>bytes40</th></tr></thead>\n",
       "<tr><td>---</td><td>GCXL</td><td>Y</td><td>VCC0615</td><td>185.763</td><td>12.007584</td><td>2092.53</td><td>3.7062986</td><td>1.25</td><td>1.04</td><td>1.0</td><td>2113.06</td><td>1.25</td><td>1.04</td><td>11.33</td><td>2.5</td><td>4.55</td><td>9.2</td><td>6.85</td><td>vugc6</td><td>1</td><td>19</td><td>27</td><td>spec1d.vugc6.001.GCXL001.fits.gz</td></tr>\n",
       "<tr><td>---</td><td>GCXL</td><td>Y</td><td>VCC0615</td><td>185.7575</td><td>11.9945</td><td>2098.03</td><td>21.363428</td><td>25.18</td><td>13.07</td><td>1.0</td><td>2128.62</td><td>25.18</td><td>13.07</td><td>21.39</td><td>8.46</td><td>10.58</td><td>9.2</td><td>3.97</td><td>vugc6</td><td>2</td><td>14</td><td>24</td><td>spec1d.vugc6.002.GCXL002.fits.gz</td></tr>\n",
       "<tr><td>---</td><td>GCXL</td><td>Y</td><td>VCC0615</td><td>185.7768</td><td>12.016472</td><td>2117.74</td><td>9.1028805</td><td>11.13</td><td>5.91</td><td>1.0</td><td>2134.53</td><td>11.13</td><td>5.91</td><td>7.59</td><td>3.22</td><td>3.19</td><td>9.2</td><td>6.66</td><td>vugc6</td><td>3</td><td>39</td><td>47</td><td>spec1d.vugc6.003.GCXL003.fits.gz</td></tr>\n",
       "<tr><td>---</td><td>GCXL</td><td>Y</td><td>VCC0615</td><td>185.77496</td><td>12.022</td><td>2074.73</td><td>3.1152046</td><td>0.32</td><td>0.04</td><td>1.0</td><td>2099.35</td><td>0.32</td><td>0.04</td><td>15.42</td><td>2.99</td><td>3.23</td><td>9.2</td><td>4.27</td><td>vugc6</td><td>4</td><td>37</td><td>45</td><td>spec1d.vugc6.004.GCXL004.fits.gz</td></tr>\n",
       "<tr><td>---</td><td>GCXF</td><td>Y</td><td>VCC0615</td><td>185.77983</td><td>12.024111</td><td>2051.32</td><td>5.945473</td><td>0.06</td><td>0.09</td><td>1.0</td><td>2094.21</td><td>0.06</td><td>0.09</td><td>33.69</td><td>6.31</td><td>5.58</td><td>9.2</td><td>3.0</td><td>vugc6</td><td>5</td><td>103</td><td>113</td><td>spec1d.vugc6.005.GCXF003.fits.gz</td></tr>\n",
       "<tr><td>---</td><td>GCXF</td><td>Y</td><td>VCC0615</td><td>185.785</td><td>12.017889</td><td>2153.86</td><td>36.283745</td><td>40.04</td><td>31.06</td><td>1.0</td><td>2151.7</td><td>40.04</td><td>31.06</td><td>-11.36</td><td>7.93</td><td>6.59</td><td>9.2</td><td>2.91</td><td>vugc6</td><td>6</td><td>15</td><td>23</td><td>spec1d.vugc6.006.GCXF005.fits.gz</td></tr>\n",
       "<tr><td>---</td><td>GCXF</td><td>Y</td><td>VCC0615</td><td>185.77063</td><td>12.016639</td><td>2117.72</td><td>19.99313</td><td>10.34</td><td>8.63</td><td>1.0</td><td>2125.45</td><td>10.34</td><td>8.63</td><td>-1.47</td><td>18.24</td><td>16.96</td><td>9.2</td><td>2.97</td><td>vugc6</td><td>7</td><td>46</td><td>54</td><td>spec1d.vugc6.007.GCXF006.fits.gz</td></tr>\n",
       "<tr><td>---</td><td>GCXL</td><td>Y</td><td>VLSB-B</td><td>187.04521</td><td>12.7260275</td><td>36.84</td><td>7.0934</td><td>7.08</td><td>6.54</td><td>1.0</td><td>85.78</td><td>7.08</td><td>6.54</td><td>39.34</td><td>2.15</td><td>1.82</td><td>9.6</td><td>10.08</td><td>vugc1</td><td>4</td><td>15</td><td>27</td><td>spec1d.vugc1.004.GCXL003.fits.gz</td></tr>\n",
       "<tr><td>---</td><td>GCXL</td><td>Y</td><td>VLSB-B</td><td>187.04175</td><td>12.724417</td><td>4.73</td><td>25.45554</td><td>26.43</td><td>24.23</td><td>1.0</td><td>38.71</td><td>26.43</td><td>24.23</td><td>24.38</td><td>2.72</td><td>2.33</td><td>9.6</td><td>4.85</td><td>vugc1</td><td>6</td><td>20</td><td>30</td><td>spec1d.vugc1.006.GCXL007.fits.gz</td></tr>\n",
       "<tr><td>---</td><td>GCXL</td><td>Y</td><td>VLSB-B</td><td>187.04613</td><td>12.724055</td><td>52.14</td><td>9.228409</td><td>7.88</td><td>8.58</td><td>1.0</td><td>104.23</td><td>7.88</td><td>8.58</td><td>42.49</td><td>4.41</td><td>3.94</td><td>9.6</td><td>4.28</td><td>vugc1</td><td>10</td><td>12</td><td>22</td><td>spec1d.vugc1.010.GCXL012.fits.gz</td></tr>\n",
       "<tr><td>...</td><td>...</td><td>...</td><td>...</td><td>...</td><td>...</td><td>...</td><td>...</td><td>...</td><td>...</td><td>...</td><td>...</td><td>...</td><td>...</td><td>...</td><td>...</td><td>...</td><td>...</td><td>...</td><td>...</td><td>...</td><td>...</td><td>...</td><td>...</td></tr>\n",
       "<tr><td>---</td><td>GCXL</td><td>Y</td><td>VLSB-D</td><td>186.17741</td><td>13.550445</td><td>1026.31</td><td>4.880886</td><td>3.9</td><td>4.49</td><td>1.0</td><td>1028.8</td><td>3.9</td><td>4.49</td><td>-6.51</td><td>2.44</td><td>2.55</td><td>9.0</td><td>11.62</td><td>vugc5</td><td>3</td><td>55</td><td>63</td><td>spec1d.vugc5.003.GCXL003.fits.gz</td></tr>\n",
       "<tr><td>---</td><td>GCXL</td><td>Y</td><td>VLSB-D</td><td>186.18413</td><td>13.556723</td><td>1056.22</td><td>12.89066</td><td>15.56</td><td>8.47</td><td>1.0</td><td>1056.32</td><td>15.56</td><td>8.47</td><td>-8.9</td><td>4.43</td><td>4.91</td><td>9.0</td><td>2.39</td><td>vugc5</td><td>4</td><td>16</td><td>22</td><td>spec1d.vugc5.004.GCXL004.fits.gz</td></tr>\n",
       "<tr><td>---</td><td>GCXL</td><td>Y</td><td>VLSB-D</td><td>186.18338</td><td>13.483723</td><td>1019.73</td><td>12.122438</td><td>7.14</td><td>5.4</td><td>1.0</td><td>1072.4</td><td>7.14</td><td>5.4</td><td>43.67</td><td>13.04</td><td>7.71</td><td>9.0</td><td>5.08</td><td>vugc5</td><td>6</td><td>72</td><td>82</td><td>spec1d.vugc5.006.GCXL007.fits.gz</td></tr>\n",
       "<tr><td>---</td><td>GCXL</td><td>Y</td><td>VLSB-D</td><td>186.18124</td><td>13.522139</td><td>1016.17</td><td>2.5402215</td><td>2.32</td><td>2.21</td><td>1.0</td><td>1037.49</td><td>2.32</td><td>2.21</td><td>12.32</td><td>1.11</td><td>1.19</td><td>9.0</td><td>21.19</td><td>vugc5</td><td>7</td><td>44</td><td>52</td><td>spec1d.vugc5.007.GCXL009.fits.gz</td></tr>\n",
       "<tr><td>---</td><td>GCXL</td><td>Y</td><td>VLSB-D</td><td>186.15533</td><td>13.511806</td><td>1030.47</td><td>18.865732</td><td>9.73</td><td>7.2</td><td>1.0</td><td>1047.31</td><td>9.73</td><td>7.2</td><td>7.84</td><td>16.95</td><td>16.77</td><td>9.0</td><td>4.41</td><td>vugc5</td><td>10</td><td>66</td><td>78</td><td>spec1d.vugc5.010.GCXL013.fits.gz</td></tr>\n",
       "<tr><td>---</td><td>GCXL</td><td>Y</td><td>VLSB-D</td><td>186.16821</td><td>13.523222</td><td>1028.09</td><td>3.355</td><td>3.79</td><td>2.92</td><td>1.0</td><td>1037.09</td><td>3.79</td><td>2.92</td><td>81.95</td><td>76.19</td><td>81.31</td><td>9.0</td><td>8.13</td><td>vugc5</td><td>11</td><td>5</td><td>13</td><td>spec1d.vugc5.011.GCXL014.fits.gz</td></tr>\n",
       "<tr><td>---</td><td>GCXL</td><td>Y</td><td>VLSB-D</td><td>186.17363</td><td>13.5448885</td><td>1057.31</td><td>8.705144</td><td>8.14</td><td>6.45</td><td>1.0</td><td>1051.42</td><td>8.14</td><td>6.45</td><td>-14.89</td><td>5.03</td><td>4.47</td><td>9.0</td><td>6.42</td><td>vugc5</td><td>13</td><td>32</td><td>40</td><td>spec1d.vugc5.013.GCXL017.fits.gz</td></tr>\n",
       "<tr><td>---</td><td>GCXF</td><td>Y</td><td>VLSB-D</td><td>186.17091</td><td>13.498722</td><td>1028.3</td><td>12.425</td><td>10.98</td><td>13.87</td><td>1.0</td><td>1037.3</td><td>10.98</td><td>13.87</td><td>-9.15</td><td>34.16</td><td>29.25</td><td>9.0</td><td>2.15</td><td>vugc5</td><td>15</td><td>30</td><td>38</td><td>spec1d.vugc5.015.GCXF002.fits.gz</td></tr>\n",
       "<tr><td>---</td><td>GCXF</td><td>Y</td><td>VLSB-D</td><td>186.17587</td><td>13.533361</td><td>1043.16</td><td>13.015199</td><td>8.56</td><td>11.54</td><td>1.0</td><td>1035.59</td><td>8.56</td><td>11.54</td><td>-16.57</td><td>8.82</td><td>7.72</td><td>9.0</td><td>4.38</td><td>vugc5</td><td>19</td><td>22</td><td>30</td><td>spec1d.vugc5.019.GCXF008.fits.gz</td></tr>\n",
       "<tr><td>---</td><td>GCBF</td><td>Y</td><td>VLSB-D</td><td>186.16437</td><td>13.568361</td><td>1043.72</td><td>19.373266</td><td>13.22</td><td>7.47</td><td>1.0</td><td>1047.04</td><td>13.22</td><td>7.47</td><td>-5.68</td><td>13.55</td><td>19.21</td><td>9.0</td><td>3.88</td><td>vugc5</td><td>25</td><td>43</td><td>51</td><td>spec1d.vugc5.025.GCBF006.fits.gz</td></tr>\n",
       "</table>"
      ],
      "text/plain": [
       "<Table length=23>\n",
       "  VCC   TARGTYPE GCSAT    HOST  ...  YLOW YHIGH            SPEC1DNAME           \n",
       "bytes10  bytes7  bytes2 bytes10 ... int16 int16             bytes40             \n",
       "------- -------- ------ ------- ... ----- ----- --------------------------------\n",
       "    ---     GCXL      Y VCC0615 ...    19    27 spec1d.vugc6.001.GCXL001.fits.gz\n",
       "    ---     GCXL      Y VCC0615 ...    14    24 spec1d.vugc6.002.GCXL002.fits.gz\n",
       "    ---     GCXL      Y VCC0615 ...    39    47 spec1d.vugc6.003.GCXL003.fits.gz\n",
       "    ---     GCXL      Y VCC0615 ...    37    45 spec1d.vugc6.004.GCXL004.fits.gz\n",
       "    ---     GCXF      Y VCC0615 ...   103   113 spec1d.vugc6.005.GCXF003.fits.gz\n",
       "    ---     GCXF      Y VCC0615 ...    15    23 spec1d.vugc6.006.GCXF005.fits.gz\n",
       "    ---     GCXF      Y VCC0615 ...    46    54 spec1d.vugc6.007.GCXF006.fits.gz\n",
       "    ---     GCXL      Y  VLSB-B ...    15    27 spec1d.vugc1.004.GCXL003.fits.gz\n",
       "    ---     GCXL      Y  VLSB-B ...    20    30 spec1d.vugc1.006.GCXL007.fits.gz\n",
       "    ---     GCXL      Y  VLSB-B ...    12    22 spec1d.vugc1.010.GCXL012.fits.gz\n",
       "    ...      ...    ...     ... ...   ...   ...                              ...\n",
       "    ---     GCXL      Y  VLSB-D ...    55    63 spec1d.vugc5.003.GCXL003.fits.gz\n",
       "    ---     GCXL      Y  VLSB-D ...    16    22 spec1d.vugc5.004.GCXL004.fits.gz\n",
       "    ---     GCXL      Y  VLSB-D ...    72    82 spec1d.vugc5.006.GCXL007.fits.gz\n",
       "    ---     GCXL      Y  VLSB-D ...    44    52 spec1d.vugc5.007.GCXL009.fits.gz\n",
       "    ---     GCXL      Y  VLSB-D ...    66    78 spec1d.vugc5.010.GCXL013.fits.gz\n",
       "    ---     GCXL      Y  VLSB-D ...     5    13 spec1d.vugc5.011.GCXL014.fits.gz\n",
       "    ---     GCXL      Y  VLSB-D ...    32    40 spec1d.vugc5.013.GCXL017.fits.gz\n",
       "    ---     GCXF      Y  VLSB-D ...    30    38 spec1d.vugc5.015.GCXF002.fits.gz\n",
       "    ---     GCXF      Y  VLSB-D ...    22    30 spec1d.vugc5.019.GCXF008.fits.gz\n",
       "    ---     GCBF      Y  VLSB-D ...    43    51 spec1d.vugc5.025.GCBF006.fits.gz"
      ]
     },
     "execution_count": 8,
     "metadata": {},
     "output_type": "execute_result"
    }
   ],
   "source": [
    "# Only keep 'HOST' values that are 'VLSB-B','VLSB-D', or 'VCC0615'\n",
    "a1 = true2[true2['HOST'] == 'VLSB-B']\n",
    "a2 = true2[true2['HOST'] == 'VLSB-D']\n",
    "a3 = true2[true2['HOST'] == 'VCC0615']\n",
    "# Stack these tables\n",
    "a4 = np.hstack((a1, a2))\n",
    "a5 = np.hstack((a3, a4))\n",
    "VUGC = Table(a5)\n",
    "VUGC"
   ]
  },
  {
   "cell_type": "code",
   "execution_count": 9,
   "metadata": {},
   "outputs": [
    {
     "data": {
      "text/html": [
       "<i>Table length=2</i>\n",
       "<table id=\"table4836313184\" class=\"table-striped table-bordered table-condensed\">\n",
       "<thead><tr><th>VCC</th><th>TARGTYPE</th><th>GCSAT</th><th>HOST</th><th>RA</th><th>DEC</th><th>VHEL</th><th>VERR</th><th>VERR_pe</th><th>VERR_ne</th><th>ZCONF</th><th>VOBS</th><th>VOBS_pe</th><th>VOBS_ne</th><th>ABANDCOR</th><th>ABANDCOR_pe</th><th>ABANDCOR_ne</th><th>HELCOR</th><th>SN</th><th>MASKNAME</th><th>SLITNUM</th><th>YLOW</th><th>YHIGH</th><th>SPEC1DNAME</th></tr></thead>\n",
       "<thead><tr><th>bytes10</th><th>bytes7</th><th>bytes2</th><th>bytes10</th><th>float32</th><th>float32</th><th>float32</th><th>float32</th><th>float32</th><th>float32</th><th>float32</th><th>float32</th><th>float32</th><th>float32</th><th>float32</th><th>float32</th><th>float32</th><th>float32</th><th>float32</th><th>bytes20</th><th>int16</th><th>int16</th><th>int16</th><th>bytes40</th></tr></thead>\n",
       "<tr><td>---</td><td>GCXL</td><td>Y</td><td>VCC1148</td><td>187.23409</td><td>12.664805</td><td>1375.66</td><td>7.476045</td><td>3.42</td><td>6.91</td><td>1.0</td><td>1335.91</td><td>3.42</td><td>6.91</td><td>-49.35</td><td>4.7</td><td>6.11</td><td>9.6</td><td>4.68</td><td>vugc1</td><td>13</td><td>214</td><td>224</td><td>spec1d.vugc1.013.GCXL016.fits.gz</td></tr>\n",
       "<tr><td>---</td><td>GCBL</td><td>Y</td><td>VCC1153</td><td>187.26996</td><td>12.665</td><td>113.24</td><td>3.2922218</td><td>2.8</td><td>3.15</td><td>1.0</td><td>96.86</td><td>2.8</td><td>3.15</td><td>-25.98</td><td>1.66</td><td>1.16</td><td>9.6</td><td>17.0</td><td>vugc1</td><td>28</td><td>40</td><td>50</td><td>spec1d.vugc1.028.GCBL005.fits.gz</td></tr>\n",
       "</table>"
      ],
      "text/plain": [
       "<Table length=2>\n",
       "  VCC   TARGTYPE GCSAT    HOST  ...  YLOW YHIGH            SPEC1DNAME           \n",
       "bytes10  bytes7  bytes2 bytes10 ... int16 int16             bytes40             \n",
       "------- -------- ------ ------- ... ----- ----- --------------------------------\n",
       "    ---     GCXL      Y VCC1148 ...   214   224 spec1d.vugc1.013.GCXL016.fits.gz\n",
       "    ---     GCBL      Y VCC1153 ...    40    50 spec1d.vugc1.028.GCBL005.fits.gz"
      ]
     },
     "execution_count": 9,
     "metadata": {},
     "output_type": "execute_result"
    }
   ],
   "source": [
    "b1 = true2[true2['HOST'] != 'VLSB-B']\n",
    "b2 = b1[b1['HOST'] != 'VLSB-D']\n",
    "b3 = b2[b2['HOST'] != 'VCC0615']\n",
    "Table(b3)"
   ]
  },
  {
   "cell_type": "code",
   "execution_count": 10,
   "metadata": {},
   "outputs": [],
   "source": [
    "# Stack the removed values from the VUGC table to the VDGC table\n",
    "VDGC = vstack([true1, b3])"
   ]
  },
  {
   "cell_type": "code",
   "execution_count": 11,
   "metadata": {
    "scrolled": true
   },
   "outputs": [
    {
     "data": {
      "text/html": [
       "<i>Table masked=True length=88</i>\n",
       "<table id=\"table4841865512\" class=\"table-striped table-bordered table-condensed\">\n",
       "<thead><tr><th>VCC</th><th>TARGTYPE</th><th>GCSAT</th><th>HOST</th><th>RA</th><th>DEC</th><th>VHEL</th><th>VERR</th><th>VERR_pe</th><th>VERR_ne</th><th>ZCONF</th><th>VOBS</th><th>VOBS_pe</th><th>VOBS_ne</th><th>ABANDCOR</th><th>ABANDCOR_pe</th><th>ABANDCOR_ne</th><th>HELCOR</th><th>SN</th><th>KECKID</th><th>MASKNAME</th><th>SLITNUM</th><th>ZSPECNUM</th><th>ZQUAL</th><th>YLOW</th><th>YHIGH</th><th>SPEC1DNAME</th></tr></thead>\n",
       "<thead><tr><th>bytes10</th><th>bytes7</th><th>bytes2</th><th>bytes10</th><th>float32</th><th>float32</th><th>float32</th><th>float32</th><th>float32</th><th>float32</th><th>float32</th><th>float32</th><th>float32</th><th>float32</th><th>float32</th><th>float32</th><th>float32</th><th>float32</th><th>float32</th><th>bytes20</th><th>bytes20</th><th>int16</th><th>int16</th><th>int16</th><th>int16</th><th>int16</th><th>bytes40</th></tr></thead>\n",
       "<tr><td>---</td><td>GCA</td><td>Y</td><td>VCC1075</td><td>187.05533</td><td>10.299723</td><td>1795.8826</td><td>6.6943264</td><td>7.1255054</td><td>5.546625</td><td>1.0</td><td>1810.4825</td><td>7.014853</td><td>5.403738</td><td>0.00026271507</td><td>8.415822e-05</td><td>7.671974e-05</td><td>4.866667e-05</td><td>3.34</td><td>gcA10</td><td>vdgc1</td><td>11</td><td>12</td><td>3</td><td>25</td><td>31</td><td>spec1d.vdgc1.011.gcA10.fits.gz</td></tr>\n",
       "<tr><td>---</td><td>GCA</td><td>Y</td><td>VCC1075</td><td>187.04483</td><td>10.286805</td><td>1843.0951</td><td>10.339908</td><td>9.879919</td><td>10.394689</td><td>1.0</td><td>1855.5137</td><td>6.974825</td><td>6.2042923</td><td>-7.271697e-06</td><td>2.2949209e-05</td><td>2.7485681e-05</td><td>4.866667e-05</td><td>5.36</td><td>gcA17</td><td>vdgc1</td><td>12</td><td>13</td><td>4</td><td>17</td><td>23</td><td>spec1d.vdgc1.012.gcA17.fits.gz</td></tr>\n",
       "<tr><td>---</td><td>GCA</td><td>Y</td><td>VCC1075</td><td>187.03674</td><td>10.289222</td><td>1802.7073</td><td>6.052629</td><td>4.5716085</td><td>6.9834056</td><td>1.0</td><td>1821.8304</td><td>3.3122916</td><td>6.584555</td><td>1.50770975e-05</td><td>9.640003e-06</td><td>6.5378563e-06</td><td>4.866667e-05</td><td>7.06</td><td>gcA19</td><td>vdgc1</td><td>14</td><td>15</td><td>4</td><td>39</td><td>46</td><td>spec1d.vdgc1.014.gcA19.fits.gz</td></tr>\n",
       "<tr><td>---</td><td>GCA</td><td>Y</td><td>VCC1075</td><td>187.04433</td><td>10.315306</td><td>1861.2278</td><td>2.5437276</td><td>1.4287839</td><td>1.2718638</td><td>1.0</td><td>1875.8278</td><td>0.69047767</td><td>0.23015922</td><td>0.0012339203</td><td>0.00022345458</td><td>0.00019736988</td><td>4.866667e-05</td><td>2.93</td><td>gcA20</td><td>vdgc1</td><td>15</td><td>16</td><td>1</td><td>32</td><td>36</td><td>spec1d.vdgc1.015.gcA20.fits.gz</td></tr>\n",
       "<tr><td>---</td><td>GCN</td><td>Y</td><td>VCC1079</td><td>187.0423</td><td>10.3538885</td><td>1323.2156</td><td>12.560184</td><td>13.214163</td><td>11.683929</td><td>1.0</td><td>1333.0521</td><td>12.498647</td><td>9.956888</td><td>-1.5877651e-05</td><td>1.3676128e-05</td><td>1.9947132e-05</td><td>4.866667e-05</td><td>6.54</td><td>gcN120</td><td>vdgc1</td><td>26</td><td>31</td><td>1</td><td>122</td><td>128</td><td>spec1d.vdgc1.026.gcN120.fits.gz</td></tr>\n",
       "<tr><td>---</td><td>GCN</td><td>Y</td><td>VCC1079</td><td>187.05162</td><td>10.367778</td><td>1338.6162</td><td>13.627155</td><td>13.83195</td><td>13.110909</td><td>1.0</td><td>1369.9778</td><td>9.316445</td><td>7.795393</td><td>5.5871988e-05</td><td>3.38234e-05</td><td>3.4890803e-05</td><td>4.866667e-05</td><td>6.97</td><td>gcN138</td><td>vdgc1</td><td>27</td><td>32</td><td>4</td><td>32</td><td>38</td><td>spec1d.vdgc1.027.gcN138.fits.gz</td></tr>\n",
       "<tr><td>---</td><td>GCN</td><td>Y</td><td>VCC1079</td><td>187.05696</td><td>10.373972</td><td>1313.909</td><td>11.331903</td><td>11.525938</td><td>10.722818</td><td>1.0</td><td>1330.3203</td><td>7.775379</td><td>7.475171</td><td>6.03751e-06</td><td>2.805274e-05</td><td>2.5284158e-05</td><td>4.866667e-05</td><td>4.94</td><td>gcN145</td><td>vdgc1</td><td>29</td><td>34</td><td>4</td><td>20</td><td>26</td><td>spec1d.vdgc1.029.gcN145.fits.gz</td></tr>\n",
       "<tr><td>---</td><td>GCN</td><td>Y</td><td>VCC1079</td><td>187.05429</td><td>10.377334</td><td>1358.58</td><td>6.8130116</td><td>8.182219</td><td>4.8669662</td><td>1.0</td><td>1376.2621</td><td>7.945497</td><td>4.2029076</td><td>1.0273774e-05</td><td>5.0034614e-06</td><td>7.0382025e-06</td><td>4.866667e-05</td><td>7.02</td><td>gcN147</td><td>vdgc1</td><td>30</td><td>35</td><td>4</td><td>30</td><td>36</td><td>spec1d.vdgc1.030.gcN147.fits.gz</td></tr>\n",
       "<tr><td>---</td><td>GCN</td><td>Y</td><td>VCC1076</td><td>187.0515</td><td>10.524445</td><td>1650.4119</td><td>11.4403515</td><td>11.538051</td><td>10.929236</td><td>1.0</td><td>1669.485</td><td>10.947573</td><td>10.317138</td><td>1.4910315e-05</td><td>1.1407892e-05</td><td>1.12744665e-05</td><td>4.866667e-05</td><td>6.99</td><td>gcN206</td><td>vdgc1</td><td>37</td><td>44</td><td>4</td><td>114</td><td>120</td><td>spec1d.vdgc1.037.gcN206.fits.gz</td></tr>\n",
       "<tr><td>---</td><td>GCN</td><td>Y</td><td>VCC1076</td><td>187.05412</td><td>10.529555</td><td>1674.2283</td><td>19.803534</td><td>20.388123</td><td>19.004791</td><td>1.0</td><td>1670.9459</td><td>15.350619</td><td>13.409277</td><td>-5.9607904e-05</td><td>4.4530807e-05</td><td>4.469759e-05</td><td>4.866667e-05</td><td>2.89</td><td>gcN210</td><td>vdgc1</td><td>38</td><td>46</td><td>4</td><td>49</td><td>55</td><td>spec1d.vdgc1.038.gcN210.fits.gz</td></tr>\n",
       "<tr><td>...</td><td>...</td><td>...</td><td>...</td><td>...</td><td>...</td><td>...</td><td>...</td><td>...</td><td>...</td><td>...</td><td>...</td><td>...</td><td>...</td><td>...</td><td>...</td><td>...</td><td>...</td><td>...</td><td>...</td><td>...</td><td>...</td><td>...</td><td>...</td><td>...</td><td>...</td><td>...</td></tr>\n",
       "<tr><td>---</td><td>GCA</td><td>Y</td><td>VCC1861</td><td>190.25195</td><td>11.173472</td><td>615.5947</td><td>3.8127065</td><td>3.2104135</td><td>3.1058562</td><td>1.0</td><td>633.118</td><td>2.701869</td><td>2.2315438</td><td>1.5744225e-05</td><td>4.002769e-06</td><td>5.8707283e-06</td><td>4.2666667e-05</td><td>16.56</td><td>gcA29</td><td>vdgc9B</td><td>15</td><td>19</td><td>4</td><td>27</td><td>33</td><td>spec1d.vdgc9B.015.gcA29.fits.gz</td></tr>\n",
       "<tr><td>---</td><td>GCA</td><td>Y</td><td>VCC1861</td><td>190.2625</td><td>11.179139</td><td>661.5665</td><td>3.750424</td><td>2.766584</td><td>3.3672216</td><td>1.0</td><td>672.6754</td><td>1.4009693</td><td>2.0013845</td><td>-5.6372332e-06</td><td>6.7713513e-06</td><td>8.005538e-06</td><td>4.2666667e-05</td><td>13.93</td><td>gcA30</td><td>vdgc9B</td><td>16</td><td>20</td><td>4</td><td>17</td><td>23</td><td>spec1d.vdgc9B.016.gcA30.fits.gz</td></tr>\n",
       "<tr><td>---</td><td>GCA</td><td>Y</td><td>VCC1861</td><td>190.2155</td><td>11.178945</td><td>677.8978</td><td>17.502102</td><td>24.033033</td><td>10.94654</td><td>1.0</td><td>698.67334</td><td>23.436214</td><td>9.7167225</td><td>2.6585058e-05</td><td>1.7245264e-05</td><td>1.6277927e-05</td><td>4.2666667e-05</td><td>3.35</td><td>gcA31</td><td>vdgc9B</td><td>17</td><td>21</td><td>3</td><td>13</td><td>19</td><td>spec1d.vdgc9B.017.gcA31.fits.gz</td></tr>\n",
       "<tr><td>---</td><td>GCN</td><td>Y</td><td>VCC1879</td><td>190.36766</td><td>11.152972</td><td>1671.4052</td><td>16.04148</td><td>17.77965</td><td>14.022658</td><td>1.0</td><td>1669.0345</td><td>8.015545</td><td>5.613884</td><td>-5.0568317e-05</td><td>5.2736483e-05</td><td>4.262949e-05</td><td>4.2666667e-05</td><td>4.99</td><td>gcN121</td><td>vdgc9B</td><td>21</td><td>25</td><td>4</td><td>20</td><td>26</td><td>spec1d.vdgc9B.021.gcN121.fits.gz</td></tr>\n",
       "<tr><td>---</td><td>GCA</td><td>Y</td><td>VCC1861</td><td>190.24379</td><td>11.186055</td><td>684.63245</td><td>13.367658</td><td>10.459628</td><td>15.935101</td><td>1.0</td><td>660.64703</td><td>3.742589</td><td>6.4444585</td><td>-0.00012261816</td><td>3.2289005e-05</td><td>4.840015e-05</td><td>4.2666667e-05</td><td>3.14</td><td>gcA16</td><td>vdgc9B</td><td>62</td><td>72</td><td>4</td><td>11</td><td>17</td><td>spec1d.vdgc9B.062.gcA16.fits.gz</td></tr>\n",
       "<tr><td>---</td><td>GCA</td><td>Y</td><td>VCC1861</td><td>190.24463</td><td>11.185111</td><td>618.4967</td><td>7.9372373</td><td>7.5692964</td><td>7.7121763</td><td>1.0</td><td>632.1173</td><td>5.303669</td><td>5.0034614</td><td>2.7352255e-06</td><td>1.7512115e-05</td><td>1.9113222e-05</td><td>4.2666667e-05</td><td>4.49</td><td>gcA18</td><td>vdgc9B</td><td>63</td><td>73</td><td>4</td><td>7</td><td>14</td><td>spec1d.vdgc9B.063.gcA18.fits.gz</td></tr>\n",
       "<tr><td>---</td><td>GCA</td><td>Y</td><td>VCC1861</td><td>190.24054</td><td>11.177139</td><td>635.0082</td><td>8.3121605</td><td>7.5543585</td><td>8.936076</td><td>1.0</td><td>654.44275</td><td>3.632513</td><td>7.3450813</td><td>2.2115299e-05</td><td>2.1681666e-05</td><td>1.644471e-05</td><td>4.2666667e-05</td><td>4.75</td><td>gcA21</td><td>vdgc9B</td><td>64</td><td>74</td><td>4</td><td>38</td><td>44</td><td>spec1d.vdgc9B.064.gcA21.fits.gz</td></tr>\n",
       "<tr><td>---</td><td>GCA</td><td>Y</td><td>VCC1861</td><td>190.25113</td><td>11.18025</td><td>632.63654</td><td>15.679686</td><td>13.340384</td><td>17.73733</td><td>1.0</td><td>635.6398</td><td>10.167033</td><td>12.74882</td><td>-3.2655924e-05</td><td>2.8486375e-05</td><td>4.0894956e-05</td><td>4.2666667e-05</td><td>5.32</td><td>gcA27</td><td>vdgc9B</td><td>65</td><td>75</td><td>4</td><td>12</td><td>18</td><td>spec1d.vdgc9B.065.gcA27.fits.gz</td></tr>\n",
       "<tr><td>---</td><td>GCXL</td><td>Y</td><td>VCC1148</td><td>187.23409</td><td>12.664805</td><td>1375.66</td><td>7.476045</td><td>3.42</td><td>6.91</td><td>1.0</td><td>1335.91</td><td>3.42</td><td>6.91</td><td>-49.35</td><td>4.7</td><td>6.11</td><td>9.6</td><td>4.68</td><td>--</td><td>vugc1</td><td>13</td><td>--</td><td>--</td><td>214</td><td>224</td><td>spec1d.vugc1.013.GCXL016.fits.gz</td></tr>\n",
       "<tr><td>---</td><td>GCBL</td><td>Y</td><td>VCC1153</td><td>187.26996</td><td>12.665</td><td>113.24</td><td>3.2922218</td><td>2.8</td><td>3.15</td><td>1.0</td><td>96.86</td><td>2.8</td><td>3.15</td><td>-25.98</td><td>1.66</td><td>1.16</td><td>9.6</td><td>17.0</td><td>--</td><td>vugc1</td><td>28</td><td>--</td><td>--</td><td>40</td><td>50</td><td>spec1d.vugc1.028.GCBL005.fits.gz</td></tr>\n",
       "</table>"
      ],
      "text/plain": [
       "<Table masked=True length=88>\n",
       "  VCC   TARGTYPE GCSAT    HOST  ...  YLOW YHIGH            SPEC1DNAME           \n",
       "bytes10  bytes7  bytes2 bytes10 ... int16 int16             bytes40             \n",
       "------- -------- ------ ------- ... ----- ----- --------------------------------\n",
       "    ---      GCA      Y VCC1075 ...    25    31   spec1d.vdgc1.011.gcA10.fits.gz\n",
       "    ---      GCA      Y VCC1075 ...    17    23   spec1d.vdgc1.012.gcA17.fits.gz\n",
       "    ---      GCA      Y VCC1075 ...    39    46   spec1d.vdgc1.014.gcA19.fits.gz\n",
       "    ---      GCA      Y VCC1075 ...    32    36   spec1d.vdgc1.015.gcA20.fits.gz\n",
       "    ---      GCN      Y VCC1079 ...   122   128  spec1d.vdgc1.026.gcN120.fits.gz\n",
       "    ---      GCN      Y VCC1079 ...    32    38  spec1d.vdgc1.027.gcN138.fits.gz\n",
       "    ---      GCN      Y VCC1079 ...    20    26  spec1d.vdgc1.029.gcN145.fits.gz\n",
       "    ---      GCN      Y VCC1079 ...    30    36  spec1d.vdgc1.030.gcN147.fits.gz\n",
       "    ---      GCN      Y VCC1076 ...   114   120  spec1d.vdgc1.037.gcN206.fits.gz\n",
       "    ---      GCN      Y VCC1076 ...    49    55  spec1d.vdgc1.038.gcN210.fits.gz\n",
       "    ...      ...    ...     ... ...   ...   ...                              ...\n",
       "    ---      GCA      Y VCC1861 ...    27    33  spec1d.vdgc9B.015.gcA29.fits.gz\n",
       "    ---      GCA      Y VCC1861 ...    17    23  spec1d.vdgc9B.016.gcA30.fits.gz\n",
       "    ---      GCA      Y VCC1861 ...    13    19  spec1d.vdgc9B.017.gcA31.fits.gz\n",
       "    ---      GCN      Y VCC1879 ...    20    26 spec1d.vdgc9B.021.gcN121.fits.gz\n",
       "    ---      GCA      Y VCC1861 ...    11    17  spec1d.vdgc9B.062.gcA16.fits.gz\n",
       "    ---      GCA      Y VCC1861 ...     7    14  spec1d.vdgc9B.063.gcA18.fits.gz\n",
       "    ---      GCA      Y VCC1861 ...    38    44  spec1d.vdgc9B.064.gcA21.fits.gz\n",
       "    ---      GCA      Y VCC1861 ...    12    18  spec1d.vdgc9B.065.gcA27.fits.gz\n",
       "    ---     GCXL      Y VCC1148 ...   214   224 spec1d.vugc1.013.GCXL016.fits.gz\n",
       "    ---     GCBL      Y VCC1153 ...    40    50 spec1d.vugc1.028.GCBL005.fits.gz"
      ]
     },
     "execution_count": 11,
     "metadata": {},
     "output_type": "execute_result"
    }
   ],
   "source": [
    "VDGC"
   ]
  },
  {
   "cell_type": "code",
   "execution_count": 17,
   "metadata": {},
   "outputs": [
    {
     "data": {
      "text/html": [
       "<i>Table masked=True length=87</i>\n",
       "<table id=\"table4842045056\" class=\"table-striped table-bordered table-condensed\">\n",
       "<thead><tr><th>VCC</th><th>TARGTYPE</th><th>GCSAT</th><th>HOST</th><th>RA</th><th>DEC</th><th>VHEL</th><th>VERR</th><th>VERR_pe</th><th>VERR_ne</th><th>ZCONF</th><th>VOBS</th><th>VOBS_pe</th><th>VOBS_ne</th><th>ABANDCOR</th><th>ABANDCOR_pe</th><th>ABANDCOR_ne</th><th>HELCOR</th><th>SN</th><th>KECKID</th><th>MASKNAME</th><th>SLITNUM</th><th>ZSPECNUM</th><th>ZQUAL</th><th>YLOW</th><th>YHIGH</th><th>SPEC1DNAME</th></tr></thead>\n",
       "<thead><tr><th>bytes10</th><th>bytes7</th><th>bytes2</th><th>bytes10</th><th>float32</th><th>float32</th><th>float32</th><th>float32</th><th>float32</th><th>float32</th><th>float32</th><th>float32</th><th>float32</th><th>float32</th><th>float32</th><th>float32</th><th>float32</th><th>float32</th><th>float32</th><th>bytes20</th><th>bytes20</th><th>int16</th><th>int16</th><th>int16</th><th>int16</th><th>int16</th><th>bytes40</th></tr></thead>\n",
       "<tr><td>---</td><td>GCA</td><td>Y</td><td>VCC1075</td><td>187.05533</td><td>10.299723</td><td>1795.8826</td><td>6.6943264</td><td>7.1255054</td><td>5.546625</td><td>1.0</td><td>1810.4825</td><td>7.014853</td><td>5.403738</td><td>0.00026271507</td><td>8.415822e-05</td><td>7.671974e-05</td><td>4.866667e-05</td><td>3.34</td><td>gcA10</td><td>vdgc1</td><td>11</td><td>12</td><td>3</td><td>25</td><td>31</td><td>spec1d.vdgc1.011.gcA10.fits.gz</td></tr>\n",
       "<tr><td>---</td><td>GCA</td><td>Y</td><td>VCC1075</td><td>187.04483</td><td>10.286805</td><td>1843.0951</td><td>10.339908</td><td>9.879919</td><td>10.394689</td><td>1.0</td><td>1855.5137</td><td>6.974825</td><td>6.2042923</td><td>-7.271697e-06</td><td>2.2949209e-05</td><td>2.7485681e-05</td><td>4.866667e-05</td><td>5.36</td><td>gcA17</td><td>vdgc1</td><td>12</td><td>13</td><td>4</td><td>17</td><td>23</td><td>spec1d.vdgc1.012.gcA17.fits.gz</td></tr>\n",
       "<tr><td>---</td><td>GCA</td><td>Y</td><td>VCC1075</td><td>187.03674</td><td>10.289222</td><td>1802.7073</td><td>6.052629</td><td>4.5716085</td><td>6.9834056</td><td>1.0</td><td>1821.8304</td><td>3.3122916</td><td>6.584555</td><td>1.50770975e-05</td><td>9.640003e-06</td><td>6.5378563e-06</td><td>4.866667e-05</td><td>7.06</td><td>gcA19</td><td>vdgc1</td><td>14</td><td>15</td><td>4</td><td>39</td><td>46</td><td>spec1d.vdgc1.014.gcA19.fits.gz</td></tr>\n",
       "<tr><td>---</td><td>GCA</td><td>Y</td><td>VCC1075</td><td>187.04433</td><td>10.315306</td><td>1861.2278</td><td>2.5437276</td><td>1.4287839</td><td>1.2718638</td><td>1.0</td><td>1875.8278</td><td>0.69047767</td><td>0.23015922</td><td>0.0012339203</td><td>0.00022345458</td><td>0.00019736988</td><td>4.866667e-05</td><td>2.93</td><td>gcA20</td><td>vdgc1</td><td>15</td><td>16</td><td>1</td><td>32</td><td>36</td><td>spec1d.vdgc1.015.gcA20.fits.gz</td></tr>\n",
       "<tr><td>---</td><td>GCN</td><td>Y</td><td>VCC1079</td><td>187.0423</td><td>10.3538885</td><td>1323.2156</td><td>12.560184</td><td>13.214163</td><td>11.683929</td><td>1.0</td><td>1333.0521</td><td>12.498647</td><td>9.956888</td><td>-1.5877651e-05</td><td>1.3676128e-05</td><td>1.9947132e-05</td><td>4.866667e-05</td><td>6.54</td><td>gcN120</td><td>vdgc1</td><td>26</td><td>31</td><td>1</td><td>122</td><td>128</td><td>spec1d.vdgc1.026.gcN120.fits.gz</td></tr>\n",
       "<tr><td>---</td><td>GCN</td><td>Y</td><td>VCC1079</td><td>187.05162</td><td>10.367778</td><td>1338.6162</td><td>13.627155</td><td>13.83195</td><td>13.110909</td><td>1.0</td><td>1369.9778</td><td>9.316445</td><td>7.795393</td><td>5.5871988e-05</td><td>3.38234e-05</td><td>3.4890803e-05</td><td>4.866667e-05</td><td>6.97</td><td>gcN138</td><td>vdgc1</td><td>27</td><td>32</td><td>4</td><td>32</td><td>38</td><td>spec1d.vdgc1.027.gcN138.fits.gz</td></tr>\n",
       "<tr><td>---</td><td>GCN</td><td>Y</td><td>VCC1079</td><td>187.05696</td><td>10.373972</td><td>1313.909</td><td>11.331903</td><td>11.525938</td><td>10.722818</td><td>1.0</td><td>1330.3203</td><td>7.775379</td><td>7.475171</td><td>6.03751e-06</td><td>2.805274e-05</td><td>2.5284158e-05</td><td>4.866667e-05</td><td>4.94</td><td>gcN145</td><td>vdgc1</td><td>29</td><td>34</td><td>4</td><td>20</td><td>26</td><td>spec1d.vdgc1.029.gcN145.fits.gz</td></tr>\n",
       "<tr><td>---</td><td>GCN</td><td>Y</td><td>VCC1079</td><td>187.05429</td><td>10.377334</td><td>1358.58</td><td>6.8130116</td><td>8.182219</td><td>4.8669662</td><td>1.0</td><td>1376.2621</td><td>7.945497</td><td>4.2029076</td><td>1.0273774e-05</td><td>5.0034614e-06</td><td>7.0382025e-06</td><td>4.866667e-05</td><td>7.02</td><td>gcN147</td><td>vdgc1</td><td>30</td><td>35</td><td>4</td><td>30</td><td>36</td><td>spec1d.vdgc1.030.gcN147.fits.gz</td></tr>\n",
       "<tr><td>---</td><td>GCN</td><td>Y</td><td>VCC1076</td><td>187.0515</td><td>10.524445</td><td>1650.4119</td><td>11.4403515</td><td>11.538051</td><td>10.929236</td><td>1.0</td><td>1669.485</td><td>10.947573</td><td>10.317138</td><td>1.4910315e-05</td><td>1.1407892e-05</td><td>1.12744665e-05</td><td>4.866667e-05</td><td>6.99</td><td>gcN206</td><td>vdgc1</td><td>37</td><td>44</td><td>4</td><td>114</td><td>120</td><td>spec1d.vdgc1.037.gcN206.fits.gz</td></tr>\n",
       "<tr><td>---</td><td>GCN</td><td>Y</td><td>VCC1076</td><td>187.05412</td><td>10.529555</td><td>1674.2283</td><td>19.803534</td><td>20.388123</td><td>19.004791</td><td>1.0</td><td>1670.9459</td><td>15.350619</td><td>13.409277</td><td>-5.9607904e-05</td><td>4.4530807e-05</td><td>4.469759e-05</td><td>4.866667e-05</td><td>2.89</td><td>gcN210</td><td>vdgc1</td><td>38</td><td>46</td><td>4</td><td>49</td><td>55</td><td>spec1d.vdgc1.038.gcN210.fits.gz</td></tr>\n",
       "<tr><td>...</td><td>...</td><td>...</td><td>...</td><td>...</td><td>...</td><td>...</td><td>...</td><td>...</td><td>...</td><td>...</td><td>...</td><td>...</td><td>...</td><td>...</td><td>...</td><td>...</td><td>...</td><td>...</td><td>...</td><td>...</td><td>...</td><td>...</td><td>...</td><td>...</td><td>...</td><td>...</td></tr>\n",
       "<tr><td>---</td><td>GCA</td><td>Y</td><td>VCC1861</td><td>190.2507</td><td>11.184055</td><td>705.8972</td><td>11.843399</td><td>11.163447</td><td>12.317908</td><td>1.0</td><td>718.02673</td><td>5.864057</td><td>8.926175</td><td>-2.2348795e-06</td><td>3.1388383e-05</td><td>2.7986027e-05</td><td>4.2666667e-05</td><td>3.63</td><td>gcA26</td><td>vdgc9B</td><td>14</td><td>18</td><td>4</td><td>18</td><td>24</td><td>spec1d.vdgc9B.014.gcA26.fits.gz</td></tr>\n",
       "<tr><td>---</td><td>GCA</td><td>Y</td><td>VCC1861</td><td>190.25195</td><td>11.173472</td><td>615.5947</td><td>3.8127065</td><td>3.2104135</td><td>3.1058562</td><td>1.0</td><td>633.118</td><td>2.701869</td><td>2.2315438</td><td>1.5744225e-05</td><td>4.002769e-06</td><td>5.8707283e-06</td><td>4.2666667e-05</td><td>16.56</td><td>gcA29</td><td>vdgc9B</td><td>15</td><td>19</td><td>4</td><td>27</td><td>33</td><td>spec1d.vdgc9B.015.gcA29.fits.gz</td></tr>\n",
       "<tr><td>---</td><td>GCA</td><td>Y</td><td>VCC1861</td><td>190.2625</td><td>11.179139</td><td>661.5665</td><td>3.750424</td><td>2.766584</td><td>3.3672216</td><td>1.0</td><td>672.6754</td><td>1.4009693</td><td>2.0013845</td><td>-5.6372332e-06</td><td>6.7713513e-06</td><td>8.005538e-06</td><td>4.2666667e-05</td><td>13.93</td><td>gcA30</td><td>vdgc9B</td><td>16</td><td>20</td><td>4</td><td>17</td><td>23</td><td>spec1d.vdgc9B.016.gcA30.fits.gz</td></tr>\n",
       "<tr><td>---</td><td>GCA</td><td>Y</td><td>VCC1861</td><td>190.2155</td><td>11.178945</td><td>677.8978</td><td>17.502102</td><td>24.033033</td><td>10.94654</td><td>1.0</td><td>698.67334</td><td>23.436214</td><td>9.7167225</td><td>2.6585058e-05</td><td>1.7245264e-05</td><td>1.6277927e-05</td><td>4.2666667e-05</td><td>3.35</td><td>gcA31</td><td>vdgc9B</td><td>17</td><td>21</td><td>3</td><td>13</td><td>19</td><td>spec1d.vdgc9B.017.gcA31.fits.gz</td></tr>\n",
       "<tr><td>---</td><td>GCN</td><td>Y</td><td>VCC1879</td><td>190.36766</td><td>11.152972</td><td>1671.4052</td><td>16.04148</td><td>17.77965</td><td>14.022658</td><td>1.0</td><td>1669.0345</td><td>8.015545</td><td>5.613884</td><td>-5.0568317e-05</td><td>5.2736483e-05</td><td>4.262949e-05</td><td>4.2666667e-05</td><td>4.99</td><td>gcN121</td><td>vdgc9B</td><td>21</td><td>25</td><td>4</td><td>20</td><td>26</td><td>spec1d.vdgc9B.021.gcN121.fits.gz</td></tr>\n",
       "<tr><td>---</td><td>GCA</td><td>Y</td><td>VCC1861</td><td>190.24379</td><td>11.186055</td><td>684.63245</td><td>13.367658</td><td>10.459628</td><td>15.935101</td><td>1.0</td><td>660.64703</td><td>3.742589</td><td>6.4444585</td><td>-0.00012261816</td><td>3.2289005e-05</td><td>4.840015e-05</td><td>4.2666667e-05</td><td>3.14</td><td>gcA16</td><td>vdgc9B</td><td>62</td><td>72</td><td>4</td><td>11</td><td>17</td><td>spec1d.vdgc9B.062.gcA16.fits.gz</td></tr>\n",
       "<tr><td>---</td><td>GCA</td><td>Y</td><td>VCC1861</td><td>190.24463</td><td>11.185111</td><td>618.4967</td><td>7.9372373</td><td>7.5692964</td><td>7.7121763</td><td>1.0</td><td>632.1173</td><td>5.303669</td><td>5.0034614</td><td>2.7352255e-06</td><td>1.7512115e-05</td><td>1.9113222e-05</td><td>4.2666667e-05</td><td>4.49</td><td>gcA18</td><td>vdgc9B</td><td>63</td><td>73</td><td>4</td><td>7</td><td>14</td><td>spec1d.vdgc9B.063.gcA18.fits.gz</td></tr>\n",
       "<tr><td>---</td><td>GCA</td><td>Y</td><td>VCC1861</td><td>190.24054</td><td>11.177139</td><td>635.0082</td><td>8.3121605</td><td>7.5543585</td><td>8.936076</td><td>1.0</td><td>654.44275</td><td>3.632513</td><td>7.3450813</td><td>2.2115299e-05</td><td>2.1681666e-05</td><td>1.644471e-05</td><td>4.2666667e-05</td><td>4.75</td><td>gcA21</td><td>vdgc9B</td><td>64</td><td>74</td><td>4</td><td>38</td><td>44</td><td>spec1d.vdgc9B.064.gcA21.fits.gz</td></tr>\n",
       "<tr><td>---</td><td>GCA</td><td>Y</td><td>VCC1861</td><td>190.25113</td><td>11.18025</td><td>632.63654</td><td>15.679686</td><td>13.340384</td><td>17.73733</td><td>1.0</td><td>635.6398</td><td>10.167033</td><td>12.74882</td><td>-3.2655924e-05</td><td>2.8486375e-05</td><td>4.0894956e-05</td><td>4.2666667e-05</td><td>5.32</td><td>gcA27</td><td>vdgc9B</td><td>65</td><td>75</td><td>4</td><td>12</td><td>18</td><td>spec1d.vdgc9B.065.gcA27.fits.gz</td></tr>\n",
       "<tr><td>---</td><td>GCXL</td><td>Y</td><td>VCC1148</td><td>187.23409</td><td>12.664805</td><td>1375.66</td><td>7.476045</td><td>3.42</td><td>6.91</td><td>1.0</td><td>1335.91</td><td>3.42</td><td>6.91</td><td>-49.35</td><td>4.7</td><td>6.11</td><td>9.6</td><td>4.68</td><td>--</td><td>vugc1</td><td>13</td><td>--</td><td>--</td><td>214</td><td>224</td><td>spec1d.vugc1.013.GCXL016.fits.gz</td></tr>\n",
       "</table>"
      ],
      "text/plain": [
       "<Table masked=True length=87>\n",
       "  VCC   TARGTYPE GCSAT    HOST  ...  YLOW YHIGH            SPEC1DNAME           \n",
       "bytes10  bytes7  bytes2 bytes10 ... int16 int16             bytes40             \n",
       "------- -------- ------ ------- ... ----- ----- --------------------------------\n",
       "    ---      GCA      Y VCC1075 ...    25    31   spec1d.vdgc1.011.gcA10.fits.gz\n",
       "    ---      GCA      Y VCC1075 ...    17    23   spec1d.vdgc1.012.gcA17.fits.gz\n",
       "    ---      GCA      Y VCC1075 ...    39    46   spec1d.vdgc1.014.gcA19.fits.gz\n",
       "    ---      GCA      Y VCC1075 ...    32    36   spec1d.vdgc1.015.gcA20.fits.gz\n",
       "    ---      GCN      Y VCC1079 ...   122   128  spec1d.vdgc1.026.gcN120.fits.gz\n",
       "    ---      GCN      Y VCC1079 ...    32    38  spec1d.vdgc1.027.gcN138.fits.gz\n",
       "    ---      GCN      Y VCC1079 ...    20    26  spec1d.vdgc1.029.gcN145.fits.gz\n",
       "    ---      GCN      Y VCC1079 ...    30    36  spec1d.vdgc1.030.gcN147.fits.gz\n",
       "    ---      GCN      Y VCC1076 ...   114   120  spec1d.vdgc1.037.gcN206.fits.gz\n",
       "    ---      GCN      Y VCC1076 ...    49    55  spec1d.vdgc1.038.gcN210.fits.gz\n",
       "    ...      ...    ...     ... ...   ...   ...                              ...\n",
       "    ---      GCA      Y VCC1861 ...    18    24  spec1d.vdgc9B.014.gcA26.fits.gz\n",
       "    ---      GCA      Y VCC1861 ...    27    33  spec1d.vdgc9B.015.gcA29.fits.gz\n",
       "    ---      GCA      Y VCC1861 ...    17    23  spec1d.vdgc9B.016.gcA30.fits.gz\n",
       "    ---      GCA      Y VCC1861 ...    13    19  spec1d.vdgc9B.017.gcA31.fits.gz\n",
       "    ---      GCN      Y VCC1879 ...    20    26 spec1d.vdgc9B.021.gcN121.fits.gz\n",
       "    ---      GCA      Y VCC1861 ...    11    17  spec1d.vdgc9B.062.gcA16.fits.gz\n",
       "    ---      GCA      Y VCC1861 ...     7    14  spec1d.vdgc9B.063.gcA18.fits.gz\n",
       "    ---      GCA      Y VCC1861 ...    38    44  spec1d.vdgc9B.064.gcA21.fits.gz\n",
       "    ---      GCA      Y VCC1861 ...    12    18  spec1d.vdgc9B.065.gcA27.fits.gz\n",
       "    ---     GCXL      Y VCC1148 ...   214   224 spec1d.vugc1.013.GCXL016.fits.gz"
      ]
     },
     "execution_count": 17,
     "metadata": {},
     "output_type": "execute_result"
    }
   ],
   "source": [
    "# If the velocities are in between 300 and -300, remove them\n",
    "VDGC1 = VDGC[np.abs(VDGC['VHEL']) > 300]\n",
    "VDGC1"
   ]
  },
  {
   "cell_type": "code",
   "execution_count": 18,
   "metadata": {},
   "outputs": [
    {
     "data": {
      "text/html": [
       "<i>Table length=19</i>\n",
       "<table id=\"table4842429520\" class=\"table-striped table-bordered table-condensed\">\n",
       "<thead><tr><th>VCC</th><th>TARGTYPE</th><th>GCSAT</th><th>HOST</th><th>RA</th><th>DEC</th><th>VHEL</th><th>VERR</th><th>VERR_pe</th><th>VERR_ne</th><th>ZCONF</th><th>VOBS</th><th>VOBS_pe</th><th>VOBS_ne</th><th>ABANDCOR</th><th>ABANDCOR_pe</th><th>ABANDCOR_ne</th><th>HELCOR</th><th>SN</th><th>MASKNAME</th><th>SLITNUM</th><th>YLOW</th><th>YHIGH</th><th>SPEC1DNAME</th></tr></thead>\n",
       "<thead><tr><th>bytes10</th><th>bytes7</th><th>bytes2</th><th>bytes10</th><th>float32</th><th>float32</th><th>float32</th><th>float32</th><th>float32</th><th>float32</th><th>float32</th><th>float32</th><th>float32</th><th>float32</th><th>float32</th><th>float32</th><th>float32</th><th>float32</th><th>float32</th><th>bytes20</th><th>int16</th><th>int16</th><th>int16</th><th>bytes40</th></tr></thead>\n",
       "<tr><td>---</td><td>GCXL</td><td>Y</td><td>VCC0615</td><td>185.763</td><td>12.007584</td><td>2092.53</td><td>3.7062986</td><td>1.25</td><td>1.04</td><td>1.0</td><td>2113.06</td><td>1.25</td><td>1.04</td><td>11.33</td><td>2.5</td><td>4.55</td><td>9.2</td><td>6.85</td><td>vugc6</td><td>1</td><td>19</td><td>27</td><td>spec1d.vugc6.001.GCXL001.fits.gz</td></tr>\n",
       "<tr><td>---</td><td>GCXL</td><td>Y</td><td>VCC0615</td><td>185.7575</td><td>11.9945</td><td>2098.03</td><td>21.363428</td><td>25.18</td><td>13.07</td><td>1.0</td><td>2128.62</td><td>25.18</td><td>13.07</td><td>21.39</td><td>8.46</td><td>10.58</td><td>9.2</td><td>3.97</td><td>vugc6</td><td>2</td><td>14</td><td>24</td><td>spec1d.vugc6.002.GCXL002.fits.gz</td></tr>\n",
       "<tr><td>---</td><td>GCXL</td><td>Y</td><td>VCC0615</td><td>185.7768</td><td>12.016472</td><td>2117.74</td><td>9.1028805</td><td>11.13</td><td>5.91</td><td>1.0</td><td>2134.53</td><td>11.13</td><td>5.91</td><td>7.59</td><td>3.22</td><td>3.19</td><td>9.2</td><td>6.66</td><td>vugc6</td><td>3</td><td>39</td><td>47</td><td>spec1d.vugc6.003.GCXL003.fits.gz</td></tr>\n",
       "<tr><td>---</td><td>GCXL</td><td>Y</td><td>VCC0615</td><td>185.77496</td><td>12.022</td><td>2074.73</td><td>3.1152046</td><td>0.32</td><td>0.04</td><td>1.0</td><td>2099.35</td><td>0.32</td><td>0.04</td><td>15.42</td><td>2.99</td><td>3.23</td><td>9.2</td><td>4.27</td><td>vugc6</td><td>4</td><td>37</td><td>45</td><td>spec1d.vugc6.004.GCXL004.fits.gz</td></tr>\n",
       "<tr><td>---</td><td>GCXF</td><td>Y</td><td>VCC0615</td><td>185.77983</td><td>12.024111</td><td>2051.32</td><td>5.945473</td><td>0.06</td><td>0.09</td><td>1.0</td><td>2094.21</td><td>0.06</td><td>0.09</td><td>33.69</td><td>6.31</td><td>5.58</td><td>9.2</td><td>3.0</td><td>vugc6</td><td>5</td><td>103</td><td>113</td><td>spec1d.vugc6.005.GCXF003.fits.gz</td></tr>\n",
       "<tr><td>---</td><td>GCXF</td><td>Y</td><td>VCC0615</td><td>185.785</td><td>12.017889</td><td>2153.86</td><td>36.283745</td><td>40.04</td><td>31.06</td><td>1.0</td><td>2151.7</td><td>40.04</td><td>31.06</td><td>-11.36</td><td>7.93</td><td>6.59</td><td>9.2</td><td>2.91</td><td>vugc6</td><td>6</td><td>15</td><td>23</td><td>spec1d.vugc6.006.GCXF005.fits.gz</td></tr>\n",
       "<tr><td>---</td><td>GCXF</td><td>Y</td><td>VCC0615</td><td>185.77063</td><td>12.016639</td><td>2117.72</td><td>19.99313</td><td>10.34</td><td>8.63</td><td>1.0</td><td>2125.45</td><td>10.34</td><td>8.63</td><td>-1.47</td><td>18.24</td><td>16.96</td><td>9.2</td><td>2.97</td><td>vugc6</td><td>7</td><td>46</td><td>54</td><td>spec1d.vugc6.007.GCXF006.fits.gz</td></tr>\n",
       "<tr><td>---</td><td>GCXL</td><td>Y</td><td>VLSB-D</td><td>186.17159</td><td>13.580055</td><td>1006.92</td><td>8.453587</td><td>4.7</td><td>7.19</td><td>1.0</td><td>987.41</td><td>4.7</td><td>7.19</td><td>-28.51</td><td>5.59</td><td>6.43</td><td>9.0</td><td>6.17</td><td>vugc5</td><td>1</td><td>4</td><td>7</td><td>spec1d.vugc5.001.GCXL001.fits.gz</td></tr>\n",
       "<tr><td>---</td><td>GCXL</td><td>Y</td><td>VLSB-D</td><td>186.18745</td><td>13.564</td><td>1057.16</td><td>10.3895645</td><td>7.36</td><td>7.03</td><td>1.0</td><td>1052.7</td><td>7.36</td><td>7.03</td><td>-13.46</td><td>7.44</td><td>7.55</td><td>9.0</td><td>6.33</td><td>vugc5</td><td>2</td><td>24</td><td>32</td><td>spec1d.vugc5.002.GCXL002.fits.gz</td></tr>\n",
       "<tr><td>---</td><td>GCXL</td><td>Y</td><td>VLSB-D</td><td>186.17741</td><td>13.550445</td><td>1026.31</td><td>4.880886</td><td>3.9</td><td>4.49</td><td>1.0</td><td>1028.8</td><td>3.9</td><td>4.49</td><td>-6.51</td><td>2.44</td><td>2.55</td><td>9.0</td><td>11.62</td><td>vugc5</td><td>3</td><td>55</td><td>63</td><td>spec1d.vugc5.003.GCXL003.fits.gz</td></tr>\n",
       "<tr><td>---</td><td>GCXL</td><td>Y</td><td>VLSB-D</td><td>186.18413</td><td>13.556723</td><td>1056.22</td><td>12.89066</td><td>15.56</td><td>8.47</td><td>1.0</td><td>1056.32</td><td>15.56</td><td>8.47</td><td>-8.9</td><td>4.43</td><td>4.91</td><td>9.0</td><td>2.39</td><td>vugc5</td><td>4</td><td>16</td><td>22</td><td>spec1d.vugc5.004.GCXL004.fits.gz</td></tr>\n",
       "<tr><td>---</td><td>GCXL</td><td>Y</td><td>VLSB-D</td><td>186.18338</td><td>13.483723</td><td>1019.73</td><td>12.122438</td><td>7.14</td><td>5.4</td><td>1.0</td><td>1072.4</td><td>7.14</td><td>5.4</td><td>43.67</td><td>13.04</td><td>7.71</td><td>9.0</td><td>5.08</td><td>vugc5</td><td>6</td><td>72</td><td>82</td><td>spec1d.vugc5.006.GCXL007.fits.gz</td></tr>\n",
       "<tr><td>---</td><td>GCXL</td><td>Y</td><td>VLSB-D</td><td>186.18124</td><td>13.522139</td><td>1016.17</td><td>2.5402215</td><td>2.32</td><td>2.21</td><td>1.0</td><td>1037.49</td><td>2.32</td><td>2.21</td><td>12.32</td><td>1.11</td><td>1.19</td><td>9.0</td><td>21.19</td><td>vugc5</td><td>7</td><td>44</td><td>52</td><td>spec1d.vugc5.007.GCXL009.fits.gz</td></tr>\n",
       "<tr><td>---</td><td>GCXL</td><td>Y</td><td>VLSB-D</td><td>186.15533</td><td>13.511806</td><td>1030.47</td><td>18.865732</td><td>9.73</td><td>7.2</td><td>1.0</td><td>1047.31</td><td>9.73</td><td>7.2</td><td>7.84</td><td>16.95</td><td>16.77</td><td>9.0</td><td>4.41</td><td>vugc5</td><td>10</td><td>66</td><td>78</td><td>spec1d.vugc5.010.GCXL013.fits.gz</td></tr>\n",
       "<tr><td>---</td><td>GCXL</td><td>Y</td><td>VLSB-D</td><td>186.16821</td><td>13.523222</td><td>1028.09</td><td>3.355</td><td>3.79</td><td>2.92</td><td>1.0</td><td>1037.09</td><td>3.79</td><td>2.92</td><td>81.95</td><td>76.19</td><td>81.31</td><td>9.0</td><td>8.13</td><td>vugc5</td><td>11</td><td>5</td><td>13</td><td>spec1d.vugc5.011.GCXL014.fits.gz</td></tr>\n",
       "<tr><td>---</td><td>GCXL</td><td>Y</td><td>VLSB-D</td><td>186.17363</td><td>13.5448885</td><td>1057.31</td><td>8.705144</td><td>8.14</td><td>6.45</td><td>1.0</td><td>1051.42</td><td>8.14</td><td>6.45</td><td>-14.89</td><td>5.03</td><td>4.47</td><td>9.0</td><td>6.42</td><td>vugc5</td><td>13</td><td>32</td><td>40</td><td>spec1d.vugc5.013.GCXL017.fits.gz</td></tr>\n",
       "<tr><td>---</td><td>GCXF</td><td>Y</td><td>VLSB-D</td><td>186.17091</td><td>13.498722</td><td>1028.3</td><td>12.425</td><td>10.98</td><td>13.87</td><td>1.0</td><td>1037.3</td><td>10.98</td><td>13.87</td><td>-9.15</td><td>34.16</td><td>29.25</td><td>9.0</td><td>2.15</td><td>vugc5</td><td>15</td><td>30</td><td>38</td><td>spec1d.vugc5.015.GCXF002.fits.gz</td></tr>\n",
       "<tr><td>---</td><td>GCXF</td><td>Y</td><td>VLSB-D</td><td>186.17587</td><td>13.533361</td><td>1043.16</td><td>13.015199</td><td>8.56</td><td>11.54</td><td>1.0</td><td>1035.59</td><td>8.56</td><td>11.54</td><td>-16.57</td><td>8.82</td><td>7.72</td><td>9.0</td><td>4.38</td><td>vugc5</td><td>19</td><td>22</td><td>30</td><td>spec1d.vugc5.019.GCXF008.fits.gz</td></tr>\n",
       "<tr><td>---</td><td>GCBF</td><td>Y</td><td>VLSB-D</td><td>186.16437</td><td>13.568361</td><td>1043.72</td><td>19.373266</td><td>13.22</td><td>7.47</td><td>1.0</td><td>1047.04</td><td>13.22</td><td>7.47</td><td>-5.68</td><td>13.55</td><td>19.21</td><td>9.0</td><td>3.88</td><td>vugc5</td><td>25</td><td>43</td><td>51</td><td>spec1d.vugc5.025.GCBF006.fits.gz</td></tr>\n",
       "</table>"
      ],
      "text/plain": [
       "<Table length=19>\n",
       "  VCC   TARGTYPE GCSAT    HOST  ...  YLOW YHIGH            SPEC1DNAME           \n",
       "bytes10  bytes7  bytes2 bytes10 ... int16 int16             bytes40             \n",
       "------- -------- ------ ------- ... ----- ----- --------------------------------\n",
       "    ---     GCXL      Y VCC0615 ...    19    27 spec1d.vugc6.001.GCXL001.fits.gz\n",
       "    ---     GCXL      Y VCC0615 ...    14    24 spec1d.vugc6.002.GCXL002.fits.gz\n",
       "    ---     GCXL      Y VCC0615 ...    39    47 spec1d.vugc6.003.GCXL003.fits.gz\n",
       "    ---     GCXL      Y VCC0615 ...    37    45 spec1d.vugc6.004.GCXL004.fits.gz\n",
       "    ---     GCXF      Y VCC0615 ...   103   113 spec1d.vugc6.005.GCXF003.fits.gz\n",
       "    ---     GCXF      Y VCC0615 ...    15    23 spec1d.vugc6.006.GCXF005.fits.gz\n",
       "    ---     GCXF      Y VCC0615 ...    46    54 spec1d.vugc6.007.GCXF006.fits.gz\n",
       "    ---     GCXL      Y  VLSB-D ...     4     7 spec1d.vugc5.001.GCXL001.fits.gz\n",
       "    ---     GCXL      Y  VLSB-D ...    24    32 spec1d.vugc5.002.GCXL002.fits.gz\n",
       "    ---     GCXL      Y  VLSB-D ...    55    63 spec1d.vugc5.003.GCXL003.fits.gz\n",
       "    ---     GCXL      Y  VLSB-D ...    16    22 spec1d.vugc5.004.GCXL004.fits.gz\n",
       "    ---     GCXL      Y  VLSB-D ...    72    82 spec1d.vugc5.006.GCXL007.fits.gz\n",
       "    ---     GCXL      Y  VLSB-D ...    44    52 spec1d.vugc5.007.GCXL009.fits.gz\n",
       "    ---     GCXL      Y  VLSB-D ...    66    78 spec1d.vugc5.010.GCXL013.fits.gz\n",
       "    ---     GCXL      Y  VLSB-D ...     5    13 spec1d.vugc5.011.GCXL014.fits.gz\n",
       "    ---     GCXL      Y  VLSB-D ...    32    40 spec1d.vugc5.013.GCXL017.fits.gz\n",
       "    ---     GCXF      Y  VLSB-D ...    30    38 spec1d.vugc5.015.GCXF002.fits.gz\n",
       "    ---     GCXF      Y  VLSB-D ...    22    30 spec1d.vugc5.019.GCXF008.fits.gz\n",
       "    ---     GCBF      Y  VLSB-D ...    43    51 spec1d.vugc5.025.GCBF006.fits.gz"
      ]
     },
     "execution_count": 18,
     "metadata": {},
     "output_type": "execute_result"
    }
   ],
   "source": [
    "# If the velocities are in between 300 and -300, remove them\n",
    "VUGC1 = VUGC[np.abs(VUGC['VHEL']) > 300]\n",
    "VUGC1\n"
   ]
  }
 ],
 "metadata": {
  "kernelspec": {
   "display_name": "Python 3",
   "language": "python",
   "name": "python3"
  },
  "language_info": {
   "codemirror_mode": {
    "name": "ipython",
    "version": 3
   },
   "file_extension": ".py",
   "mimetype": "text/x-python",
   "name": "python",
   "nbconvert_exporter": "python",
   "pygments_lexer": "ipython3",
   "version": "3.7.3"
  }
 },
 "nbformat": 4,
 "nbformat_minor": 2
}
