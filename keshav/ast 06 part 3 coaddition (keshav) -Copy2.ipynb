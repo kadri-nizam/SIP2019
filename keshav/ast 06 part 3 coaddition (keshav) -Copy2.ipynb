{
 "cells": [
  {
   "cell_type": "code",
   "execution_count": 1,
   "metadata": {},
   "outputs": [],
   "source": [
    "from astropy.io import fits\n",
    "import matplotlib.pyplot as plt\n",
    "import matplotlib.image as mpimg\n",
    "import numpy as np\n",
    "from astropy.table import Table, vstack, Column\n",
    "import os\n",
    "import pdb\n",
    "import pandas as pd\n",
    "from pandas import DataFrame as df\n",
    "import numpy as np\n",
    "import warnings\n",
    "import resource\n",
    "import timeit\n",
    "start_time = timeit.default_timer()\n",
    "# code you want to evaluate\n",
    "resource.setrlimit(resource.RLIMIT_NOFILE, (10000,-1))"
   ]
  },
  {
   "cell_type": "code",
   "execution_count": 2,
   "metadata": {},
   "outputs": [],
   "source": [
    "path = './../spectra/'\n",
    "path2 = './../catalogs/'\n",
    "bigFile = Table.read('bigfile.fits')\n",
    "allnames = list(bigFile['SPEC1DNAME'])\n",
    "vccfiles = []\n",
    "vdgcfiles = []\n",
    "vugcfiles = []\n",
    "for filename in os.listdir(path):\n",
    "    if ((filename.endswith(\".fits\")) & (\"spec\" in filename)):\n",
    "       vdgcfiles.append(filename)\n",
    "    elif ((filename.endswith(\".gz\")) & (\"spec\" in filename)):\n",
    "       vugcfiles.append(filename)\n",
    "    elif ((filename.endswith(\".fits\")) & (\"VCC\" in filename)):\n",
    "        vccfiles.append(filename)\n",
    "        \n",
    "degc, denuc, icgc, m87gc, udggc= [],[],[],[],[]\n",
    "path = './../spectra/'\n",
    "for filename in os.listdir(path):\n",
    "   if ((filename in allnames) | (filename + '.gz' in allnames)):\n",
    "       if('.gz' in filename):\n",
    "           objtype = str(bigFile[bigFile['SPEC1DNAME'] == filename]['Type'])\n",
    "       else:\n",
    "           objtype = str(bigFile[bigFile['SPEC1DNAME'] == filename + '.gz']['Type'])\n",
    "       if ('DEGC' in objtype):\n",
    "           degc.append(filename)\n",
    "       elif ('DENU' in objtype):\n",
    "           denuc.append(filename)\n",
    "       elif ('ICL' in objtype):\n",
    "           icgc.append(filename)\n",
    "       elif ('Halo' in objtype):\n",
    "           m87gc.append(filename)\n",
    "       elif ('UDG' in objtype):\n",
    "           udggc.append(filename)\n"
   ]
  },
  {
   "cell_type": "code",
   "execution_count": 3,
   "metadata": {},
   "outputs": [],
   "source": [
    "vobsDEGC, vobsDENUC, vobsICGC, vobsM87, vobsUDGGC = [], [], [], [], [] \n",
    "def vobs(files):\n",
    "    vobszero = np.zeros(len(files))\n",
    "    for i in range(len(files)):\n",
    "        try:\n",
    "            vobszero[i] = (float(bigFile[bigFile['SPEC1DNAME'] == files[i]]['VOBS']))\n",
    "        except:\n",
    "            vobszero[i] = (float(bigFile[bigFile['SPEC1DNAME'] == files[i]+'.gz']['VOBS']))\n",
    "    return vobszero\n",
    "vobsDEGC = vobs(degc)\n",
    "vobsDENUC = vobs(denuc)\n",
    "vobsICGC = vobs(icgc)\n",
    "vobsM87 = vobs(m87gc)\n",
    "vobsUDGGC = vobs(udggc)"
   ]
  },
  {
   "cell_type": "code",
   "execution_count": 9,
   "metadata": {},
   "outputs": [],
   "source": [
    "warnings.simplefilter(\"ignore\", RuntimeWarning)\n",
    "def spec_interp(wv,fx,nwwv,*args):\n",
    "    #Required arguments:\n",
    "    #   - wv: old wavelength array\n",
    "    #   - fx: flux to be rebinned, 'SPEC'\n",
    "    #   - nwwv: new wavelen gth array, interval\n",
    "    #\n",
    "    #Optional argument: variance\n",
    "    npix = len(wv)\n",
    "    if len(args) == 0:\n",
    "        var = np.ones(npix)\n",
    "        nwvarFlag = False\n",
    "    else:\n",
    "        var = args[0]\n",
    "        nwvarFlag = True\n",
    "    nwpix = len(nwwv)\n",
    "    #Calculate wavelength endpoints for each pixel\n",
    "    wvl = (wv + np.roll(wv,1))/2.\n",
    "    wvh = (wv + np.roll(wv,-1))/2.\n",
    "    wvl[0] = wv[0] - (wv[1] - wv[0])/2.\n",
    "    wvh[npix-1] = wv[npix-1] + (wv[npix-1]-wv[npix-2])/2.\n",
    "    #Calculate endpoints of the final array\n",
    "    bwv = np.zeros(nwpix+1)\n",
    "    bwv[0:nwpix] = (nwwv+np.roll(nwwv,1))/2.\n",
    "    bwv[0] = nwwv[0] - (nwwv[1] - nwwv[0])/2.\n",
    "    bwv[nwpix] = nwwv[nwpix-1]+(nwwv[nwpix-1] - nwwv[nwpix - 1])/2.\n",
    "    #Create tmp arrays for final array\n",
    "    nwfx = np.zeros(nwpix)\n",
    "    nwvar = np.zeros(nwpix)\n",
    "    nwunitfx = np.zeros(nwpix)\n",
    "    #Loop through the arrays\n",
    "    for q in range(npix):\n",
    "        #No overlap\n",
    "        if (wvh[q] <= bwv[0]) | (wvl[q] >= bwv[nwpix]):\n",
    "            continue\n",
    "        #Find pixel that bw is within\n",
    "        if wvl[q] <= bwv[0]:\n",
    "            i1 = [0]\n",
    "        else:\n",
    "            i1 = np.argwhere((wvl[q] <= np.roll(bwv,-1)) & (wvl[q] > bwv))[0]\n",
    "        if wvh[q] > bwv[nwpix]:\n",
    "            i2 = [nwpix-1]\n",
    "        else:\n",
    "            i2 = np.argwhere((wvh[q] <= np.roll(bwv,-1)) & (wvh[q] > bwv))[0]\n",
    "        j1 = i1[0]\n",
    "        j2 = i2[0]\n",
    "        #Now Sum up\n",
    "        for kk in range(j1,j2+1):\n",
    "            #Rejected pixesl do not get added in\n",
    "            if var[q] > 0.:\n",
    "                frac = ( np.min([wvh[q],bwv[kk+1]]) - np.max([wvl[q],bwv[kk]]) ) / (wvh[q]-wvl[q])\n",
    "                nwfx[kk] = nwfx[kk]+frac*fx[q]\n",
    "                nwunitfx[kk] = nwunitfx[kk]+frac*1.0\n",
    "                #Variance\n",
    "                if nwvarFlag:\n",
    "                    if (var[q] <= 0.) | (nwvar[kk] == -1):\n",
    "                       nwvar[kk] = -1\n",
    "                    else:\n",
    "                       nwvar[kk] = nwvar[kk]+frac*var[q]\n",
    "    if nwvarFlag:\n",
    "        fxOut = nwfx/nwunitfx\n",
    "        varOut = nwvar*nwunitfx\n",
    "        \n",
    "        return fxOut,varOut\n",
    "    else:\n",
    "        fxOut = nwfx/nwunitfx\n",
    "        return fxOut\n",
    "\n",
    "\n",
    "def rebinspec(*args,**kwargs):\n",
    "    #Required arguments:\n",
    "    #   - wv: old wavelength array\n",
    "    #   - fx: flux to be rebinned\n",
    "    #   - nwwv: new wavelength array\n",
    "    #\n",
    "    #Optional arguments:\n",
    "    #   - var = var, input and output variance\n",
    "    #   - ivar = ivar, input and output ivar\n",
    "\n",
    "    if len(args) != 3:\n",
    "        print('Proper syntax is: out = rebinspec(wv, fx, nwwv, **kwargs)')\n",
    "        return np.nan\n",
    "\n",
    "    else:\n",
    "        wv, fx, nwwv = args\n",
    "\n",
    "        var = kwargs.get('var',None)\n",
    "        ivar = kwargs.get('ivar',None)\n",
    "\n",
    "        if (var is not None) & (ivar is None):\n",
    "            nwfx,nwvar = spec_interp(wv,fx,nwwv,var)\n",
    "\n",
    "            return nwfx, nwvar\n",
    "        elif (var is None) & (ivar is not None):\n",
    "            var = 1./ivar\n",
    "            nwfx,nwvar_1 = spec_interp(wv,fx,nwwv,var)\n",
    "            nwvar_1[nwvar_1 == 0.0] = -10.0\n",
    "            nwivar = 1.0/nwvar_1\n",
    "            nwivar[nwivar < 0.0] = 0.0\n",
    "            \n",
    "            return nwfx, nwivar\n",
    "        else:\n",
    "            nwfx = spec_interp(wv,fx,nwwv)\n",
    "\n",
    "            return nwfx"
   ]
  },
  {
   "cell_type": "code",
   "execution_count": 10,
   "metadata": {},
   "outputs": [],
   "source": [
    "def plotting (fileName, title, vel, colors):\n",
    "    correct = np.arange(4000,8750.9,0.9)\n",
    "    allFluxes = []\n",
    "    allIvar = []\n",
    "    allWaves = []\n",
    "    i = 0\n",
    "    for f in fileName: \n",
    "        file = fits.open(path + f)\n",
    "        try:                                  #check for Bxspf blue or red, if not I resort to Horne\n",
    "            tempB = file['Bxspf-' + 'B']\n",
    "            tempR = file['Bxspf-' + 'R']\n",
    "        except:\n",
    "            tempB = file['Horne-' + 'B']\n",
    "            tempR = file['Horne-' + 'R']\n",
    "        \n",
    "        allWaves.append(np.append(((tempB.data['LAMBDA'])/(1 + ((vel[i]/300000)))), ((tempR.data['LAMBDA'])/(1 + ((vel[i]/300000))))))\n",
    "        allFluxes.append(np.append(tempB.data['SPEC'], tempR.data['SPEC']))\n",
    "        allIvar.append(np.append(tempB.data['IVAR'], tempR.data['IVAR']))              \n",
    "        i = i + 1\n",
    "        file.close()\n",
    "    fileFlux = np.zeros((len(allWaves), len(correct)))\n",
    "    fileVar = np.zeros((len(allWaves), len(correct)))\n",
    "    for i in range (0, len(allWaves)):\n",
    "        newFlux, newVar = np.nan_to_num(rebinspec(allWaves[i], allFluxes[i], correct, ivar = allIvar[i]))\n",
    "        '''plt.plot(correct, newFlux, color = colors)\n",
    "        plt.xlabel('Wavelength')\n",
    "        plt.ylabel('Flux')\n",
    "        plt.title(title)\n",
    "        plt.show()'''\n",
    "        fileFlux[i][:] = newFlux\n",
    "        fileVar[i][:] = newVar\n",
    "        \n",
    "    \n",
    "    return fileFlux, fileVar"
   ]
  },
  {
   "cell_type": "code",
   "execution_count": 11,
   "metadata": {},
   "outputs": [],
   "source": [
    "fluxDEGC, varDEGC = plotting(degc, 'DEGC Spectra', vobsDEGC, 'mediumspringgreen')\n",
    "fluxDENUC, varDENUC = plotting(denuc, 'NUC Spectra', vobsDENUC, 'mediumspringgreen')\n",
    "fluxICGC, varICGC = plotting(icgc, 'ICGC Spectra', vobsICGC, 'mediumspringgreen')\n",
    "fluxM87, varM87 = plotting(m87gc, 'Halo Spectra', vobsM87, 'mediumspringgreen')\n",
    "fluxUDGGC, varUDGGC = plotting(udggc, 'UDGC Spectra', vobsUDGGC, 'mediumspringgreen')"
   ]
  },
  {
   "cell_type": "code",
   "execution_count": 12,
   "metadata": {},
   "outputs": [],
   "source": [
    "def sigmaclipping(flux):\n",
    "    correct = np.arange(4000,8750.9,0.9)\n",
    "    ones = np.ones(np.shape(flux))\n",
    "    means = np.mean(flux, axis = 0)\n",
    "    stds = np.std(flux, axis = 0)\n",
    "    ones[np.abs(flux - means) > 3 * stds] = 0\n",
    "    a = ones * flux\n",
    "    return ones"
   ]
  },
  {
   "cell_type": "code",
   "execution_count": 95,
   "metadata": {},
   "outputs": [],
   "source": [
    "#region 6500 - 6600\n",
    "# divide everything in that region of array a by that median\n",
    "def normalize (flux):\n",
    "    start = 2777\n",
    "    end = 2889\n",
    "    region = []\n",
    "    np.array(region)\n",
    "    medians = []\n",
    "    increment = 0\n",
    "    for j in range (0, len(flux)):\n",
    "        for i in range (start, end):\n",
    "            region = []\n",
    "            region.append(flux[j][i])\n",
    "            #fix this\n",
    "        medians.append(np.median(region))\n",
    "    for i in range (0, len(medians)):\n",
    "            flux[i] = (flux[i] / medians[i])\n",
    "    return flux\n",
    "\n",
    "\n"
   ]
  },
  {
   "cell_type": "code",
   "execution_count": 96,
   "metadata": {},
   "outputs": [],
   "source": [
    "fluxDEGCnorm = normalize(fluxDEGC)\n",
    "fluxDENUCnorm = normalize(fluxDENUC)\n",
    "fluxICGCnorm = normalize(fluxICGC)\n",
    "fluxM87norm = normalize(fluxM87)\n",
    "fluxUDGGCnorm = normalize(fluxUDGGC)\n",
    "#fluxVDGC = normalize(flux1)\n",
    "#fluxVCC = normalize(flux2)"
   ]
  },
  {
   "cell_type": "code",
   "execution_count": 99,
   "metadata": {},
   "outputs": [
    {
     "data": {
      "text/plain": [
       "array([[0.        , 0.        , 0.        , ..., 1.87150774, 1.49482998,\n",
       "        1.19071838],\n",
       "       [       nan,        nan,        nan, ...,        nan,        nan,\n",
       "               nan],\n",
       "       [       nan,        nan,        nan, ...,        nan,        nan,\n",
       "               nan],\n",
       "       ...,\n",
       "       [       nan,        nan,        nan, ...,        nan,        nan,\n",
       "               nan],\n",
       "       [       nan,        nan,        nan, ...,        nan,        nan,\n",
       "               nan],\n",
       "       [       nan,        nan,        nan, ...,        nan,        nan,\n",
       "               nan]])"
      ]
     },
     "execution_count": 99,
     "metadata": {},
     "output_type": "execute_result"
    }
   ],
   "source": [
    "fluxDEGCnorm"
   ]
  },
  {
   "cell_type": "code",
   "execution_count": 35,
   "metadata": {},
   "outputs": [],
   "source": [
    "def coadd(spectra, ivar, sigma):    \n",
    "    spectra = np.nan_to_num(spectra)\n",
    "    ivar = np.nan_to_num(ivar)\n",
    "\n",
    "    clip = sigmaclipping(spectra)\n",
    "    coadd_spectra = np.nan_to_num(np.sum(spectra * ivar * clip, axis = 0) / np.sum(ivar * clip, axis = 0))\n",
    "    coadd_ivar = np.nan_to_num(np.sum(ivar * clip, axis = 0))\n",
    "    coadd_err = np.nan_to_num(1 / np.sqrt(np.sum(ivar * clip, axis = 0)))\n",
    "\n",
    "    return coadd_spectra, coadd_ivar, coadd_err"
   ]
  },
  {
   "cell_type": "code",
   "execution_count": 60,
   "metadata": {},
   "outputs": [],
   "source": [
    "coaddSpecDEGC, coaddIvarDEGC, coaddErrDEGC = coadd(fluxDEGCnorm, varDEGC, 3)\n",
    "coaddSpecDENUC, coaddIvarDENUC, coaddErrDENUC = coadd(fluxDENUCnorm, varDENUC, 3)\n",
    "coaddSpecICGC, coaddIvarICGC, coaddErrICGC = coadd(np.nan_to_num(fluxICGCnorm), varICGC, 3)\n",
    "coaddSpecM87, coaddIvarM87, coaddErrM87 = coadd(fluxM87norm, varM87, 3)\n",
    "coaddSpecUDGGC, coaddIvarUDGGC, coaddErrUDGGC = coadd(fluxUDGGCnorm, varUDGGC, 3)"
   ]
  },
  {
   "cell_type": "code",
   "execution_count": 62,
   "metadata": {},
   "outputs": [
    {
     "data": {
      "text/plain": [
       "[<matplotlib.lines.Line2D at 0x117d66860>]"
      ]
     },
     "execution_count": 62,
     "metadata": {},
     "output_type": "execute_result"
    },
    {
     "data": {
      "image/png": "[encoded data removed]",
      "text/plain": [
       "<Figure size 2160x720 with 1 Axes>"
      ]
     },
     "metadata": {
      "needs_background": "light"
     },
     "output_type": "display_data"
    }
   ],
   "source": [
    "correct = np.arange(4000,8750.9,0.9)\n",
    "plt.figure(figsize = (30,10))\n",
    "plt.plot(correct, coaddSpecDEGC)\n",
    "plt.xlabel('Wavelength')\n",
    "plt.ylabel('Flux')\n",
    "plt.title('Plot')\n",
    "plt.plot(correct, coaddSpecDENUC)\n",
    "plt.plot(correct, coaddSpecUDGGC)\n",
    "plt.plot(correct, coaddSpecICGC)\n",
    "plt.plot(correct, coaddSpecM87)\n",
    "\n"
   ]
  },
  {
   "cell_type": "code",
   "execution_count": 19,
   "metadata": {},
   "outputs": [],
   "source": [
    "test = sigmaclipping(fluxM87norm)"
   ]
  },
  {
   "cell_type": "code",
   "execution_count": 20,
   "metadata": {},
   "outputs": [
    {
     "data": {
      "text/plain": [
       "array([1.])"
      ]
     },
     "execution_count": 20,
     "metadata": {},
     "output_type": "execute_result"
    }
   ],
   "source": [
    "np.unique(test)"
   ]
  },
  {
   "cell_type": "code",
   "execution_count": null,
   "metadata": {},
   "outputs": [],
   "source": []
  }
 ],
 "metadata": {
  "kernelspec": {
   "display_name": "Python 3",
   "language": "python",
   "name": "python3"
  },
  "language_info": {
   "codemirror_mode": {
    "name": "ipython",
    "version": 3
   },
   "file_extension": ".py",
   "mimetype": "text/x-python",
   "name": "python",
   "nbconvert_exporter": "python",
   "pygments_lexer": "ipython3",
   "version": "3.7.3"
  }
 },
 "nbformat": 4,
 "nbformat_minor": 2
}
