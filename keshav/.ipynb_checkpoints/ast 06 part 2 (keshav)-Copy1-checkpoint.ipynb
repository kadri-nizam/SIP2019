{
 "cells": [
  {
   "cell_type": "code",
   "execution_count": 1,
   "metadata": {},
   "outputs": [],
   "source": [
    "from astropy.io import fits\n",
    "import matplotlib.pyplot as plt\n",
    "import numpy as np\n",
    "import matplotlib as mpl\n",
    "from astropy.table import Table, vstack, Column"
   ]
  },
  {
   "cell_type": "code",
   "execution_count": 2,
   "metadata": {},
   "outputs": [],
   "source": [
    "path = './../catalogs/'\n",
    "\n",
    "VDGC = Table.read(path + 'VDGC_pPXF_2017_v2.fits')\n",
    "VUGC = Table.read(path + 'VUGC_pPXF_2017_v2.fits')\n",
    "orphDE = Table.read(path + 'orphanGCs.fits')\n",
    "kinematicsGC = Table.read(path + 'VDGC_kinematic_prob.fits')\n",
    "orphanUDG = Table.read(path+'SelectGCsTrue2.fits')\n",
    "kinematicsUDG = Table.read(path+'SelectGCsTrue_kinematic_prob.fits')"
   ]
  },
  {
   "cell_type": "code",
   "execution_count": 3,
   "metadata": {},
   "outputs": [],
   "source": [
    "def probability(file):\n",
    "    values = []\n",
    "    names = []\n",
    "    for row in file:\n",
    "        values.append(max(row))\n",
    "        for ind, val in enumerate(row):\n",
    "            count = []\n",
    "            count.append(val)\n",
    "        if (count.index(max(count)) == 0):\n",
    "            names.append('Star')\n",
    "        elif (count.index(max(count)) == 1):\n",
    "            names.append('ICL')\n",
    "        elif (count.index(max(count)) == 2):\n",
    "            names.append('Halo')\n",
    "    \n",
    "    return values, names\n",
    "\n",
    "probValueGC, nameGC = probability(kinematicsGC)\n",
    "probValueUDG, nameUDG = probability(kinematicsUDG)\n"
   ]
  },
  {
   "cell_type": "code",
   "execution_count": 4,
   "metadata": {},
   "outputs": [],
   "source": [
    "ProbColumnDE = Column(probValueGC, name='Probability')\n",
    "orphDE.add_column(ProbColumnDE)\n",
    "TypeColumnDE = Column(nameGC, name='Type')\n",
    "orphDE.add_column(TypeColumnDE)\n",
    "ProbColumnUDG = Column(probValueUDG, name='Probability')\n",
    "orphanUDG.add_column(ProbColumnUDG)\n",
    "TypeColumnUDG = Column(nameUDG, name='Type')\n",
    "orphanUDG.add_column(TypeColumnUDG)\n"
   ]
  },
  {
   "cell_type": "code",
   "execution_count": 5,
   "metadata": {},
   "outputs": [
    {
     "data": {
      "text/html": [
       "<i>Table length=364</i>\n",
       "<table id=\"table4840226208\" class=\"table-striped table-bordered table-condensed\">\n",
       "<thead><tr><th>SPEC1DNAME</th><th>ZHEL</th><th>Probability</th><th>Type</th></tr></thead>\n",
       "<thead><tr><th>bytes40</th><th>float32</th><th>float32</th><th>str4</th></tr></thead>\n",
       "<tr><td>spec1d.vdgc1.000.alg42.fits.gz</td><td>0.00018189283</td><td>0.98157275</td><td>Star</td></tr>\n",
       "<tr><td>spec1d.vdgc1.001.alg115.fits.gz</td><td>-0.0007024523</td><td>0.90411496</td><td>Star</td></tr>\n",
       "<tr><td>spec1d.vdgc1.002.alg140.fits.gz</td><td>4.2896674e-05</td><td>0.982906</td><td>Star</td></tr>\n",
       "<tr><td>spec1d.vdgc1.003.alg164.fits.gz</td><td>6.654637e-05</td><td>0.9828415</td><td>Star</td></tr>\n",
       "<tr><td>spec1d.vdgc1.004.alg177.fits.gz</td><td>-9.1059665e-06</td><td>0.98282486</td><td>Star</td></tr>\n",
       "<tr><td>spec1d.vdgc1.005.alg191.fits.gz</td><td>5.807384e-05</td><td>0.9828719</td><td>Star</td></tr>\n",
       "<tr><td>spec1d.vdgc1.006.alg194.fits.gz</td><td>-0.00017955722</td><td>0.9802294</td><td>Star</td></tr>\n",
       "<tr><td>spec1d.vdgc1.007.nuc5.fits.gz</td><td>0.006039145</td><td>1.0</td><td>Star</td></tr>\n",
       "<tr><td>spec1d.vdgc1.008.nuc6.fits.gz</td><td>0.00444731</td><td>1.0</td><td>Star</td></tr>\n",
       "<tr><td>spec1d.vdgc1.009.nuc7.fits.gz</td><td>0.0054966365</td><td>1.0</td><td>Star</td></tr>\n",
       "<tr><td>...</td><td>...</td><td>...</td><td>...</td></tr>\n",
       "<tr><td>spec1d.vdgc9B.049.sgr375.fits.gz</td><td>-0.00013766572</td><td>0.9812374</td><td>Star</td></tr>\n",
       "<tr><td>spec1d.vdgc9B.050.sgr377.fits.gz</td><td>9.873115e-05</td><td>0.9826506</td><td>Star</td></tr>\n",
       "<tr><td>spec1d.vdgc9B.051.sgr382.fits.gz</td><td>-9.9972975e-05</td><td>0.9819229</td><td>Star</td></tr>\n",
       "<tr><td>spec1d.vdgc9B.052.sgr383.fits.gz</td><td>0.0002730184</td><td>0.9792581</td><td>Star</td></tr>\n",
       "<tr><td>spec1d.vdgc9B.053.sgr387.fits.gz</td><td>-2.9791092e-05</td><td>0.9827067</td><td>Star</td></tr>\n",
       "<tr><td>spec1d.vdgc9B.054.sgr388.fits.gz</td><td>0.00057632825</td><td>0.9547984</td><td>Star</td></tr>\n",
       "<tr><td>spec1d.vdgc9B.055.sgr389.fits.gz</td><td>-7.792439e-05</td><td>0.98223525</td><td>Star</td></tr>\n",
       "<tr><td>spec1d.vdgc9B.056.sgr391.fits.gz</td><td>-3.836369e-05</td><td>0.9826431</td><td>Star</td></tr>\n",
       "<tr><td>spec1d.vdgc9B.061.mst526.fits.gz</td><td>-0.0001818296</td><td>0.9801667</td><td>Star</td></tr>\n",
       "<tr><td>spec1d.vdgc9B.066.gcN138.fits.gz</td><td>0.00067412923</td><td>0.9345655</td><td>Star</td></tr>\n",
       "</table>"
      ],
      "text/plain": [
       "<Table length=364>\n",
       "           SPEC1DNAME                 ZHEL      Probability Type\n",
       "            bytes40                 float32       float32   str4\n",
       "-------------------------------- -------------- ----------- ----\n",
       "  spec1d.vdgc1.000.alg42.fits.gz  0.00018189283  0.98157275 Star\n",
       " spec1d.vdgc1.001.alg115.fits.gz  -0.0007024523  0.90411496 Star\n",
       " spec1d.vdgc1.002.alg140.fits.gz  4.2896674e-05    0.982906 Star\n",
       " spec1d.vdgc1.003.alg164.fits.gz   6.654637e-05   0.9828415 Star\n",
       " spec1d.vdgc1.004.alg177.fits.gz -9.1059665e-06  0.98282486 Star\n",
       " spec1d.vdgc1.005.alg191.fits.gz   5.807384e-05   0.9828719 Star\n",
       " spec1d.vdgc1.006.alg194.fits.gz -0.00017955722   0.9802294 Star\n",
       "   spec1d.vdgc1.007.nuc5.fits.gz    0.006039145         1.0 Star\n",
       "   spec1d.vdgc1.008.nuc6.fits.gz     0.00444731         1.0 Star\n",
       "   spec1d.vdgc1.009.nuc7.fits.gz   0.0054966365         1.0 Star\n",
       "                             ...            ...         ...  ...\n",
       "spec1d.vdgc9B.049.sgr375.fits.gz -0.00013766572   0.9812374 Star\n",
       "spec1d.vdgc9B.050.sgr377.fits.gz   9.873115e-05   0.9826506 Star\n",
       "spec1d.vdgc9B.051.sgr382.fits.gz -9.9972975e-05   0.9819229 Star\n",
       "spec1d.vdgc9B.052.sgr383.fits.gz   0.0002730184   0.9792581 Star\n",
       "spec1d.vdgc9B.053.sgr387.fits.gz -2.9791092e-05   0.9827067 Star\n",
       "spec1d.vdgc9B.054.sgr388.fits.gz  0.00057632825   0.9547984 Star\n",
       "spec1d.vdgc9B.055.sgr389.fits.gz  -7.792439e-05  0.98223525 Star\n",
       "spec1d.vdgc9B.056.sgr391.fits.gz  -3.836369e-05   0.9826431 Star\n",
       "spec1d.vdgc9B.061.mst526.fits.gz  -0.0001818296   0.9801667 Star\n",
       "spec1d.vdgc9B.066.gcN138.fits.gz  0.00067412923   0.9345655 Star"
      ]
     },
     "execution_count": 5,
     "metadata": {},
     "output_type": "execute_result"
    }
   ],
   "source": [
    "orphDE"
   ]
  },
  {
   "cell_type": "code",
   "execution_count": 6,
   "metadata": {},
   "outputs": [
    {
     "data": {
      "text/html": [
       "<i>Table length=71</i>\n",
       "<table id=\"table4844886168\" class=\"table-striped table-bordered table-condensed\">\n",
       "<thead><tr><th>VCC</th><th>TARGTYPE</th><th>GCSAT</th><th>HOST</th><th>RA</th><th>DEC</th><th>VHEL</th><th>VERR</th><th>VERR_pe</th><th>VERR_ne</th><th>ZCONF</th><th>VOBS</th><th>VOBS_pe</th><th>VOBS_ne</th><th>ABANDCOR</th><th>ABANDCOR_pe</th><th>ABANDCOR_ne</th><th>HELCOR</th><th>SN</th><th>MASKNAME</th><th>SLITNUM</th><th>YLOW</th><th>YHIGH</th><th>SPEC1DNAME</th><th>Probability</th><th>Type</th></tr></thead>\n",
       "<thead><tr><th>bytes7</th><th>bytes4</th><th>bytes1</th><th>bytes7</th><th>float32</th><th>float32</th><th>float32</th><th>float32</th><th>float32</th><th>float32</th><th>float32</th><th>float32</th><th>float32</th><th>float32</th><th>float32</th><th>float32</th><th>float32</th><th>float32</th><th>float32</th><th>bytes5</th><th>int16</th><th>int16</th><th>int16</th><th>bytes34</th><th>float32</th><th>str4</th></tr></thead>\n",
       "<tr><td>VCC1148</td><td>NUC</td><td>N</td><td>---</td><td>187.2422</td><td>12.661695</td><td>1417.16</td><td>0.30438462</td><td>0.21</td><td>0.24</td><td>1.0</td><td>1403.28</td><td>0.21</td><td>0.24</td><td>-23.48</td><td>0.18</td><td>0.23</td><td>9.6</td><td>151.96</td><td>vugc1</td><td>0</td><td>43</td><td>59</td><td>spec1d.vugc1.000.NUC001.fits.gz</td><td>0.84855264</td><td>Star</td></tr>\n",
       "<tr><td>---</td><td>GCXL</td><td>N</td><td>---</td><td>187.0645</td><td>12.741167</td><td>-591.31</td><td>5.6009865</td><td>3.6</td><td>4.99</td><td>1.0</td><td>-544.81</td><td>3.6</td><td>4.99</td><td>36.9</td><td>3.44</td><td>3.75</td><td>9.6</td><td>7.79</td><td>vugc1</td><td>7</td><td>58</td><td>68</td><td>spec1d.vugc1.007.GCXL008.fits.gz</td><td>0.9999366</td><td>Star</td></tr>\n",
       "<tr><td>---</td><td>GCXL</td><td>N</td><td>---</td><td>187.04138</td><td>12.743</td><td>-339.2</td><td>12.014878</td><td>1.14</td><td>18.9</td><td>1.0</td><td>-271.02</td><td>1.14</td><td>18.9</td><td>58.58</td><td>5.66</td><td>7.6</td><td>9.6</td><td>2.14</td><td>vugc1</td><td>9</td><td>41</td><td>51</td><td>spec1d.vugc1.009.GCXL011.fits.gz</td><td>0.6393685</td><td>Star</td></tr>\n",
       "<tr><td>---</td><td>GCXL</td><td>N</td><td>---</td><td>187.26938</td><td>12.675</td><td>1265.91</td><td>10.11425</td><td>9.15</td><td>6.84</td><td>1.0</td><td>1251.6</td><td>9.15</td><td>6.84</td><td>-23.91</td><td>6.78</td><td>5.61</td><td>9.6</td><td>4.19</td><td>vugc1</td><td>11</td><td>16</td><td>26</td><td>spec1d.vugc1.011.GCXL013.fits.gz</td><td>0.83778</td><td>Star</td></tr>\n",
       "<tr><td>---</td><td>GCXL</td><td>N</td><td>---</td><td>187.0158</td><td>12.7225275</td><td>1397.37</td><td>7.2989125</td><td>5.45</td><td>7.26</td><td>1.0</td><td>1452.44</td><td>5.45</td><td>7.26</td><td>45.47</td><td>3.44</td><td>3.74</td><td>9.6</td><td>6.01</td><td>vugc1</td><td>12</td><td>12</td><td>22</td><td>spec1d.vugc1.012.GCXL015.fits.gz</td><td>0.8498808</td><td>Star</td></tr>\n",
       "<tr><td>---</td><td>GCXL</td><td>N</td><td>---</td><td>187.25525</td><td>12.648389</td><td>951.12</td><td>30.016117</td><td>12.48</td><td>16.38</td><td>1.0</td><td>943.01</td><td>12.48</td><td>16.38</td><td>-17.71</td><td>28.32</td><td>24.32</td><td>9.6</td><td>2.21</td><td>vugc1</td><td>14</td><td>60</td><td>70</td><td>spec1d.vugc1.014.GCXL017.fits.gz</td><td>0.57101935</td><td>Star</td></tr>\n",
       "<tr><td>---</td><td>GCBL</td><td>N</td><td>---</td><td>187.07175</td><td>12.729305</td><td>190.86</td><td>12.783288</td><td>3.2</td><td>4.53</td><td>1.0</td><td>220.64</td><td>3.2</td><td>4.53</td><td>20.18</td><td>13.53</td><td>10.84</td><td>9.6</td><td>7.97</td><td>vugc1</td><td>25</td><td>11</td><td>19</td><td>spec1d.vugc1.025.GCBL001.fits.gz</td><td>0.9511431</td><td>Star</td></tr>\n",
       "<tr><td>---</td><td>GCBL</td><td>N</td><td>---</td><td>187.27963</td><td>12.6585</td><td>-14.56</td><td>0.59682494</td><td>0.53</td><td>0.49</td><td>1.0</td><td>-35.26</td><td>0.53</td><td>0.49</td><td>-30.3</td><td>0.3</td><td>0.32</td><td>9.6</td><td>61.11</td><td>vugc1</td><td>29</td><td>48</td><td>58</td><td>spec1d.vugc1.029.GCBL007.fits.gz</td><td>0.98372805</td><td>Star</td></tr>\n",
       "<tr><td>---</td><td>GCBL</td><td>N</td><td>---</td><td>187.24742</td><td>12.637139</td><td>-55.26</td><td>5.19</td><td>4.92</td><td>5.46</td><td>1.0</td><td>-45.66</td><td>4.92</td><td>5.46</td><td>-8.24</td><td>29.95</td><td>48.57</td><td>9.6</td><td>7.79</td><td>vugc1</td><td>30</td><td>13</td><td>23</td><td>spec1d.vugc1.030.GCBL008.fits.gz</td><td>0.98111</td><td>Star</td></tr>\n",
       "<tr><td>---</td><td>GCXO</td><td>N</td><td>---</td><td>187.10078</td><td>12.674723</td><td>988.08</td><td>22.852507</td><td>10.37</td><td>11.94</td><td>1.0</td><td>897.41</td><td>10.37</td><td>11.94</td><td>-100.27</td><td>16.91</td><td>22.98</td><td>9.6</td><td>3.48</td><td>vugc1</td><td>34</td><td>92</td><td>102</td><td>spec1d.vugc1.034.GCXO0018.fits.gz</td><td>0.62906873</td><td>Star</td></tr>\n",
       "<tr><td>...</td><td>...</td><td>...</td><td>...</td><td>...</td><td>...</td><td>...</td><td>...</td><td>...</td><td>...</td><td>...</td><td>...</td><td>...</td><td>...</td><td>...</td><td>...</td><td>...</td><td>...</td><td>...</td><td>...</td><td>...</td><td>...</td><td>...</td><td>...</td><td>...</td><td>...</td></tr>\n",
       "<tr><td>---</td><td>SGR</td><td>N</td><td>---</td><td>185.79562</td><td>11.95625</td><td>-30.45</td><td>6.590131</td><td>4.42</td><td>7.3</td><td>1.0</td><td>-5.02</td><td>4.42</td><td>7.3</td><td>16.23</td><td>2.9</td><td>3.13</td><td>9.2</td><td>5.03</td><td>vugc6</td><td>49</td><td>81</td><td>91</td><td>spec1d.vugc6.049.SGR0039.fits.gz</td><td>0.9818989</td><td>Star</td></tr>\n",
       "<tr><td>---</td><td>SGR</td><td>N</td><td>---</td><td>185.85175</td><td>12.10025</td><td>-48.3</td><td>4.3181043</td><td>5.08</td><td>2.88</td><td>1.0</td><td>-30.82</td><td>5.08</td><td>2.88</td><td>8.28</td><td>1.53</td><td>1.82</td><td>9.2</td><td>14.49</td><td>vugc6</td><td>50</td><td>112</td><td>120</td><td>spec1d.vugc6.050.SGR0044.fits.gz</td><td>0.9807099</td><td>Star</td></tr>\n",
       "<tr><td>---</td><td>SGR</td><td>N</td><td>---</td><td>185.80034</td><td>11.969306</td><td>-35.15</td><td>5.4065537</td><td>4.37</td><td>5.56</td><td>1.0</td><td>6.67</td><td>4.37</td><td>5.56</td><td>32.62</td><td>2.34</td><td>1.94</td><td>9.2</td><td>12.16</td><td>vugc6</td><td>51</td><td>67</td><td>77</td><td>spec1d.vugc6.051.SGR0085.fits.gz</td><td>0.9816347</td><td>Star</td></tr>\n",
       "<tr><td>---</td><td>SGR</td><td>N</td><td>---</td><td>185.78845</td><td>12.026778</td><td>-67.46</td><td>3.761396</td><td>3.67</td><td>3.53</td><td>1.0</td><td>-37.48</td><td>3.67</td><td>3.53</td><td>20.78</td><td>0.92</td><td>1.26</td><td>9.2</td><td>17.71</td><td>vugc6</td><td>52</td><td>21</td><td>29</td><td>spec1d.vugc6.052.SGR0105.fits.gz</td><td>0.9788053</td><td>Star</td></tr>\n",
       "<tr><td>---</td><td>SGR</td><td>N</td><td>---</td><td>185.84895</td><td>12.092112</td><td>-18.66</td><td>17.332441</td><td>15.33</td><td>17.21</td><td>1.0</td><td>-15.34</td><td>15.33</td><td>17.21</td><td>-5.88</td><td>6.04</td><td>5.91</td><td>9.2</td><td>5.06</td><td>vugc6</td><td>53</td><td>8</td><td>16</td><td>spec1d.vugc6.053.SGR0118.fits.gz</td><td>0.98242027</td><td>Star</td></tr>\n",
       "<tr><td>---</td><td>SGR</td><td>N</td><td>---</td><td>185.88054</td><td>12.135028</td><td>29.33</td><td>10.8752985</td><td>12.75</td><td>7.42</td><td>1.0</td><td>43.62</td><td>12.75</td><td>7.42</td><td>5.09</td><td>4.17</td><td>3.97</td><td>9.2</td><td>4.11</td><td>vugc6</td><td>54</td><td>8</td><td>16</td><td>spec1d.vugc6.054.SGR0123.fits.gz</td><td>0.9826581</td><td>Star</td></tr>\n",
       "<tr><td>---</td><td>SGR</td><td>N</td><td>---</td><td>185.74037</td><td>11.945056</td><td>81.2</td><td>3.226612</td><td>3.06</td><td>3.14</td><td>1.0</td><td>134.32</td><td>3.06</td><td>3.14</td><td>43.92</td><td>0.96</td><td>0.83</td><td>9.2</td><td>19.33</td><td>vugc6</td><td>55</td><td>62</td><td>72</td><td>spec1d.vugc6.055.SGR0130.fits.gz</td><td>0.9793355</td><td>Star</td></tr>\n",
       "<tr><td>---</td><td>SER</td><td>N</td><td>---</td><td>185.8101</td><td>12.019183</td><td>-47.68</td><td>7.958574</td><td>5.6</td><td>9.0</td><td>1.0</td><td>-21.63</td><td>5.6</td><td>9.0</td><td>16.85</td><td>3.69</td><td>2.65</td><td>9.2</td><td>3.45</td><td>vugc6</td><td>56</td><td>46</td><td>53</td><td>spec1d.vugc6.056.serendip1.fits.gz</td><td>0.98076</td><td>Star</td></tr>\n",
       "<tr><td>---</td><td>SGR</td><td>N</td><td>---</td><td>185.78558</td><td>12.031584</td><td>72.83</td><td>7.6939</td><td>2.39</td><td>5.21</td><td>1.0</td><td>92.59</td><td>2.39</td><td>5.21</td><td>10.56</td><td>6.03</td><td>7.35</td><td>9.2</td><td>5.99</td><td>vugc6</td><td>58</td><td>58</td><td>66</td><td>spec1d.vugc6.058.SGR0175.fits.gz</td><td>0.9801772</td><td>Star</td></tr>\n",
       "<tr><td>---</td><td>SGR</td><td>N</td><td>---</td><td>185.72034</td><td>11.928528</td><td>-54.81</td><td>7.384176</td><td>8.65</td><td>5.06</td><td>1.0</td><td>6.45</td><td>8.65</td><td>5.06</td><td>52.06</td><td>2.75</td><td>2.74</td><td>9.2</td><td>4.62</td><td>vugc6</td><td>59</td><td>297</td><td>307</td><td>spec1d.vugc6.059.SGR0179.fits.gz</td><td>0.98014235</td><td>Star</td></tr>\n",
       "</table>"
      ],
      "text/plain": [
       "<Table length=71>\n",
       "  VCC   TARGTYPE GCSAT  ...             SPEC1DNAME             Probability Type\n",
       " bytes7  bytes4  bytes1 ...              bytes34                 float32   str4\n",
       "------- -------- ------ ... ---------------------------------- ----------- ----\n",
       "VCC1148      NUC      N ...    spec1d.vugc1.000.NUC001.fits.gz  0.84855264 Star\n",
       "    ---     GCXL      N ...   spec1d.vugc1.007.GCXL008.fits.gz   0.9999366 Star\n",
       "    ---     GCXL      N ...   spec1d.vugc1.009.GCXL011.fits.gz   0.6393685 Star\n",
       "    ---     GCXL      N ...   spec1d.vugc1.011.GCXL013.fits.gz     0.83778 Star\n",
       "    ---     GCXL      N ...   spec1d.vugc1.012.GCXL015.fits.gz   0.8498808 Star\n",
       "    ---     GCXL      N ...   spec1d.vugc1.014.GCXL017.fits.gz  0.57101935 Star\n",
       "    ---     GCBL      N ...   spec1d.vugc1.025.GCBL001.fits.gz   0.9511431 Star\n",
       "    ---     GCBL      N ...   spec1d.vugc1.029.GCBL007.fits.gz  0.98372805 Star\n",
       "    ---     GCBL      N ...   spec1d.vugc1.030.GCBL008.fits.gz     0.98111 Star\n",
       "    ---     GCXO      N ...  spec1d.vugc1.034.GCXO0018.fits.gz  0.62906873 Star\n",
       "    ...      ...    ... ...                                ...         ...  ...\n",
       "    ---      SGR      N ...   spec1d.vugc6.049.SGR0039.fits.gz   0.9818989 Star\n",
       "    ---      SGR      N ...   spec1d.vugc6.050.SGR0044.fits.gz   0.9807099 Star\n",
       "    ---      SGR      N ...   spec1d.vugc6.051.SGR0085.fits.gz   0.9816347 Star\n",
       "    ---      SGR      N ...   spec1d.vugc6.052.SGR0105.fits.gz   0.9788053 Star\n",
       "    ---      SGR      N ...   spec1d.vugc6.053.SGR0118.fits.gz  0.98242027 Star\n",
       "    ---      SGR      N ...   spec1d.vugc6.054.SGR0123.fits.gz   0.9826581 Star\n",
       "    ---      SGR      N ...   spec1d.vugc6.055.SGR0130.fits.gz   0.9793355 Star\n",
       "    ---      SER      N ... spec1d.vugc6.056.serendip1.fits.gz     0.98076 Star\n",
       "    ---      SGR      N ...   spec1d.vugc6.058.SGR0175.fits.gz   0.9801772 Star\n",
       "    ---      SGR      N ...   spec1d.vugc6.059.SGR0179.fits.gz  0.98014235 Star"
      ]
     },
     "execution_count": 6,
     "metadata": {},
     "output_type": "execute_result"
    }
   ],
   "source": [
    "orphanUDG"
   ]
  },
  {
   "cell_type": "code",
   "execution_count": 7,
   "metadata": {
    "scrolled": true
   },
   "outputs": [
    {
     "data": {
      "text/html": [
       "<i>Table length=364</i>\n",
       "<table id=\"table4840175320\" class=\"table-striped table-bordered table-condensed\">\n",
       "<thead><tr><th>VCC</th><th>TARGTYPE</th><th>GCSAT</th><th>HOST</th><th>RA</th><th>DEC</th><th>ZHEL</th><th>ZERR</th><th>ZERR_pe</th><th>ZERR_ne</th><th>ZCONF</th><th>ZOBS</th><th>ZOBS_pe</th><th>ZOBS_ne</th><th>ABANDCOR</th><th>ABANDCOR_pe</th><th>ABANDCOR_ne</th><th>HELCOR</th><th>SN</th><th>KECKID</th><th>MASKNAME</th><th>SLITNUM</th><th>ZSPECNUM</th><th>ZQUAL</th><th>YLOW</th><th>YHIGH</th><th>SPEC1DNAME</th></tr></thead>\n",
       "<thead><tr><th>bytes10</th><th>bytes7</th><th>bytes2</th><th>bytes10</th><th>float32</th><th>float32</th><th>float32</th><th>float32</th><th>float32</th><th>float32</th><th>float32</th><th>float32</th><th>float32</th><th>float32</th><th>float32</th><th>float32</th><th>float32</th><th>float32</th><th>float32</th><th>bytes20</th><th>bytes20</th><th>int16</th><th>int16</th><th>int16</th><th>int16</th><th>int16</th><th>bytes40</th></tr></thead>\n",
       "<tr><td>---</td><td>ALG</td><td>N</td><td>---</td><td>187.0097</td><td>10.359333</td><td>0.00018189283</td><td>8.389982e-06</td><td>4.2536944e-06</td><td>4.2911956e-06</td><td>1.0</td><td>0.00039203788</td><td>7.004846e-07</td><td>7.004846e-07</td><td>0.00016147838</td><td>4.6698975e-07</td><td>7.3384103e-07</td><td>4.866667e-05</td><td>196.03</td><td>alg42</td><td>vdgc1</td><td>0</td><td>0</td><td>-1</td><td>15</td><td>21</td><td>spec1d.vdgc1.000.alg42.fits.gz</td></tr>\n",
       "<tr><td>---</td><td>ALG</td><td>N</td><td>---</td><td>187.07608</td><td>10.3505</td><td>-0.0007024523</td><td>1.0064823e-05</td><td>6.74872e-06</td><td>7.2782736e-06</td><td>1.0</td><td>-0.0005678595</td><td>5.0034614e-06</td><td>5.5705204e-06</td><td>8.592611e-05</td><td>1.7678897e-06</td><td>2.1348103e-06</td><td>4.866667e-05</td><td>58.89</td><td>alg115</td><td>vdgc1</td><td>1</td><td>1</td><td>-1</td><td>15</td><td>21</td><td>spec1d.vdgc1.001.alg115.fits.gz</td></tr>\n",
       "<tr><td>---</td><td>ALG</td><td>N</td><td>---</td><td>186.9995</td><td>10.459528</td><td>4.2896674e-05</td><td>9.472941e-06</td><td>5.8739492e-06</td><td>6.4012156e-06</td><td>1.0</td><td>0.0002562106</td><td>3.6024921e-06</td><td>4.0361256e-06</td><td>0.00016464724</td><td>2.0347409e-06</td><td>2.701869e-06</td><td>4.866667e-05</td><td>44.0</td><td>alg140</td><td>vdgc1</td><td>2</td><td>2</td><td>-1</td><td>15</td><td>21</td><td>spec1d.vdgc1.002.alg140.fits.gz</td></tr>\n",
       "<tr><td>---</td><td>ALG</td><td>N</td><td>---</td><td>187.04004</td><td>10.45025</td><td>6.654637e-05</td><td>8.618114e-06</td><td>4.658566e-06</td><td>4.754663e-06</td><td>1.0</td><td>0.00010960916</td><td>1.5343949e-06</td><td>1.9013154e-06</td><td>-5.6038766e-06</td><td>1.4009692e-06</td><td>1.2675436e-06</td><td>4.866667e-05</td><td>80.71</td><td>alg164</td><td>vdgc1</td><td>3</td><td>3</td><td>-1</td><td>16</td><td>21</td><td>spec1d.vdgc1.003.alg164.fits.gz</td></tr>\n",
       "<tr><td>---</td><td>ALG</td><td>N</td><td>---</td><td>187.07025</td><td>10.325111</td><td>-9.1059665e-06</td><td>8.707397e-06</td><td>4.8853194e-06</td><td>4.84415e-06</td><td>1.0</td><td>0.00011594688</td><td>2.1681667e-06</td><td>2.1348103e-06</td><td>7.6386175e-05</td><td>1.3342564e-06</td><td>1.2341872e-06</td><td>4.866667e-05</td><td>92.15</td><td>alg177</td><td>vdgc1</td><td>4</td><td>4</td><td>-1</td><td>15</td><td>20</td><td>spec1d.vdgc1.004.alg177.fits.gz</td></tr>\n",
       "<tr><td>---</td><td>ALG</td><td>N</td><td>---</td><td>187.05908</td><td>10.544111</td><td>5.807384e-05</td><td>8.369103e-06</td><td>4.237577e-06</td><td>4.22153e-06</td><td>1.0</td><td>-9.893511e-05</td><td>5.67059e-07</td><td>4.6698975e-07</td><td>-0.00020567562</td><td>5.003461e-07</td><td>4.6698975e-07</td><td>4.866667e-05</td><td>222.86</td><td>alg191</td><td>vdgc1</td><td>5</td><td>5</td><td>-1</td><td>15</td><td>21</td><td>spec1d.vdgc1.005.alg191.fits.gz</td></tr>\n",
       "<tr><td>---</td><td>ALG</td><td>N</td><td>---</td><td>187.06075</td><td>10.386139</td><td>-0.00017955722</td><td>9.089515e-06</td><td>5.7391444e-06</td><td>5.3187523e-06</td><td>1.0</td><td>-6.1742714e-05</td><td>2.435018e-06</td><td>2.3349487e-06</td><td>6.9147834e-05</td><td>3.1021461e-06</td><td>2.3349487e-06</td><td>4.866667e-05</td><td>73.2</td><td>alg194</td><td>vdgc1</td><td>6</td><td>6</td><td>-1</td><td>15</td><td>20</td><td>spec1d.vdgc1.006.alg194.fits.gz</td></tr>\n",
       "<tr><td>VCC1075</td><td>NUC</td><td>N</td><td>---</td><td>187.05128</td><td>10.297639</td><td>0.006039145</td><td>9.7258535e-06</td><td>6.6017046e-06</td><td>6.4667574e-06</td><td>1.0</td><td>0.0060859434</td><td>4.803323e-06</td><td>4.202908e-06</td><td>-1.867959e-06</td><td>1.7678897e-06</td><td>2.6018e-06</td><td>4.866667e-05</td><td>28.58</td><td>nuc5</td><td>vdgc1</td><td>7</td><td>7</td><td>4</td><td>30</td><td>37</td><td>spec1d.vdgc1.007.nuc5.fits.gz</td></tr>\n",
       "<tr><td>VCC1079</td><td>NUC</td><td>N</td><td>---</td><td>187.05008</td><td>10.365334</td><td>0.00444731</td><td>1.00620455e-05</td><td>6.9665402e-06</td><td>7.04997e-06</td><td>1.0</td><td>0.0044967774</td><td>5.1702436e-06</td><td>5.136887e-06</td><td>8.0055383e-07</td><td>2.101454e-06</td><td>2.435018e-06</td><td>4.866667e-05</td><td>32.52</td><td>nuc6</td><td>vdgc1</td><td>8</td><td>8</td><td>4</td><td>19</td><td>25</td><td>spec1d.vdgc1.008.nuc6.fits.gz</td></tr>\n",
       "<tr><td>VCC1076</td><td>NUC</td><td>N</td><td>---</td><td>187.05345</td><td>10.526055</td><td>0.0054966365</td><td>1.29442e-05</td><td>9.793103e-06</td><td>1.1722346e-05</td><td>1.0</td><td>0.00556992</td><td>8.439171e-06</td><td>1.0674051e-05</td><td>2.461703e-05</td><td>2.701869e-06</td><td>2.4683743e-06</td><td>4.866667e-05</td><td>27.06</td><td>nuc7</td><td>vdgc1</td><td>9</td><td>9</td><td>4</td><td>20</td><td>26</td><td>spec1d.vdgc1.009.nuc7.fits.gz</td></tr>\n",
       "<tr><td>...</td><td>...</td><td>...</td><td>...</td><td>...</td><td>...</td><td>...</td><td>...</td><td>...</td><td>...</td><td>...</td><td>...</td><td>...</td><td>...</td><td>...</td><td>...</td><td>...</td><td>...</td><td>...</td><td>...</td><td>...</td><td>...</td><td>...</td><td>...</td><td>...</td><td>...</td><td>...</td></tr>\n",
       "<tr><td>---</td><td>SGR</td><td>N</td><td>---</td><td>190.39262</td><td>11.137917</td><td>-0.00013766572</td><td>1.7570226e-05</td><td>1.531862e-05</td><td>1.6725404e-05</td><td>1.0</td><td>-0.000115446535</td><td>1.43099e-05</td><td>1.5877651e-05</td><td>-2.0447478e-05</td><td>3.5357793e-06</td><td>3.2022153e-06</td><td>4.2666667e-05</td><td>17.14</td><td>sgr375</td><td>vdgc9B</td><td>49</td><td>56</td><td>4</td><td>30</td><td>36</td><td>spec1d.vdgc9B.049.sgr375.fits.gz</td></tr>\n",
       "<tr><td>---</td><td>SGR</td><td>N</td><td>---</td><td>190.33159</td><td>11.156917</td><td>9.873115e-05</td><td>4.130444e-05</td><td>4.0748742e-05</td><td>4.061011e-05</td><td>1.0</td><td>-9.0462585e-05</td><td>2.2982565e-05</td><td>2.4450248e-05</td><td>-0.00023186041</td><td>3.3389766e-05</td><td>3.2155578e-05</td><td>4.2666667e-05</td><td>4.98</td><td>sgr377</td><td>vdgc9B</td><td>50</td><td>57</td><td>4</td><td>10</td><td>16</td><td>spec1d.vdgc9B.050.sgr377.fits.gz</td></tr>\n",
       "<tr><td>---</td><td>SGR</td><td>N</td><td>---</td><td>190.36142</td><td>11.1675</td><td>-9.9972975e-05</td><td>1.1751035e-05</td><td>7.890607e-06</td><td>1.073294e-05</td><td>1.0</td><td>-9.8034485e-05</td><td>5.770659e-06</td><td>9.072944e-06</td><td>-4.0728177e-05</td><td>3.4023537e-06</td><td>3.936056e-06</td><td>4.2666667e-05</td><td>19.86</td><td>sgr382</td><td>vdgc9B</td><td>51</td><td>59</td><td>4</td><td>116</td><td>121</td><td>spec1d.vdgc9B.051.sgr382.fits.gz</td></tr>\n",
       "<tr><td>---</td><td>SGR</td><td>N</td><td>---</td><td>190.4127</td><td>11.171166</td><td>0.0002730184</td><td>2.0547339e-05</td><td>1.877862e-05</td><td>1.9707371e-05</td><td>1.0</td><td>0.00028539743</td><td>1.701177e-05</td><td>1.8245955e-05</td><td>-3.028762e-05</td><td>6.7713513e-06</td><td>6.1709356e-06</td><td>4.2666667e-05</td><td>8.43</td><td>sgr383</td><td>vdgc9B</td><td>52</td><td>60</td><td>4</td><td>23</td><td>29</td><td>spec1d.vdgc9B.052.sgr383.fits.gz</td></tr>\n",
       "<tr><td>---</td><td>SGR</td><td>N</td><td>---</td><td>190.35304</td><td>11.182972</td><td>-2.9791092e-05</td><td>1.5340178e-05</td><td>1.3280251e-05</td><td>1.3787984e-05</td><td>1.0</td><td>3.7025613e-06</td><td>0.0</td><td>0.0</td><td>-9.173013e-06</td><td>1.26087225e-05</td><td>1.3142425e-05</td><td>4.2666667e-05</td><td>5.14</td><td>sgr387</td><td>vdgc9B</td><td>53</td><td>61</td><td>1</td><td>12</td><td>18</td><td>spec1d.vdgc9B.053.sgr387.fits.gz</td></tr>\n",
       "<tr><td>---</td><td>SGR</td><td>N</td><td>---</td><td>190.30571</td><td>11.186861</td><td>0.00057632825</td><td>3.3442e-05</td><td>3.560162e-05</td><td>3.0066876e-05</td><td>1.0</td><td>0.00057242933</td><td>2.4883882e-05</td><td>1.6044432e-05</td><td>-4.6565547e-05</td><td>2.5117377e-05</td><td>2.508402e-05</td><td>4.2666667e-05</td><td>4.17</td><td>sgr388</td><td>vdgc9B</td><td>54</td><td>62</td><td>4</td><td>20</td><td>26</td><td>spec1d.vdgc9B.054.sgr388.fits.gz</td></tr>\n",
       "<tr><td>---</td><td>SGR</td><td>N</td><td>---</td><td>190.20183</td><td>11.189305</td><td>-7.792439e-05</td><td>4.5845423e-05</td><td>4.715065e-05</td><td>4.3402022e-05</td><td>1.0</td><td>-4.803323e-06</td><td>4.579835e-05</td><td>4.189565e-05</td><td>3.0454401e-05</td><td>1.04072e-05</td><td>1.0540625e-05</td><td>4.2666667e-05</td><td>5.77</td><td>sgr389</td><td>vdgc9B</td><td>55</td><td>63</td><td>4</td><td>66</td><td>72</td><td>spec1d.vdgc9B.055.sgr389.fits.gz</td></tr>\n",
       "<tr><td>---</td><td>SGR</td><td>N</td><td>---</td><td>190.21959</td><td>11.203083</td><td>-3.836369e-05</td><td>2.0415819e-05</td><td>2.0026906e-05</td><td>1.8237295e-05</td><td>1.0</td><td>4.6031844e-05</td><td>1.857952e-05</td><td>1.6011076e-05</td><td>4.172887e-05</td><td>6.2042923e-06</td><td>7.671974e-06</td><td>4.2666667e-05</td><td>8.92</td><td>sgr391</td><td>vdgc9B</td><td>56</td><td>64</td><td>4</td><td>36</td><td>42</td><td>spec1d.vdgc9B.056.sgr391.fits.gz</td></tr>\n",
       "<tr><td>---</td><td>MST</td><td>N</td><td>---</td><td>190.2195</td><td>11.238611</td><td>-0.0001818296</td><td>3.370386e-05</td><td>2.6942998e-05</td><td>3.891744e-05</td><td>1.0</td><td>-0.00013916293</td><td>2.6618414e-05</td><td>3.8693433e-05</td><td>1.5577443e-05</td><td>0.00013782868</td><td>7.218327e-05</td><td>4.2666667e-05</td><td>3.44</td><td>mst526</td><td>vdgc9B</td><td>61</td><td>71</td><td>1</td><td>48</td><td>53</td><td>spec1d.vdgc9B.061.mst526.fits.gz</td></tr>\n",
       "<tr><td>---</td><td>GCN</td><td>N</td><td>---</td><td>190.23608</td><td>11.185389</td><td>0.00067412923</td><td>8.494366e-06</td><td>4.474859e-06</td><td>4.470381e-06</td><td>1.0</td><td>0.0007392781</td><td>1.5343949e-06</td><td>1.4676821e-06</td><td>2.248222e-05</td><td>5.337026e-07</td><td>6.671282e-07</td><td>4.2666667e-05</td><td>105.87</td><td>gcN138</td><td>vdgc9B</td><td>66</td><td>76</td><td>4</td><td>30</td><td>36</td><td>spec1d.vdgc9B.066.gcN138.fits.gz</td></tr>\n",
       "</table>"
      ],
      "text/plain": [
       "<Table length=364>\n",
       "  VCC   TARGTYPE GCSAT    HOST  ...  YLOW YHIGH            SPEC1DNAME           \n",
       "bytes10  bytes7  bytes2 bytes10 ... int16 int16             bytes40             \n",
       "------- -------- ------ ------- ... ----- ----- --------------------------------\n",
       "    ---      ALG      N     --- ...    15    21   spec1d.vdgc1.000.alg42.fits.gz\n",
       "    ---      ALG      N     --- ...    15    21  spec1d.vdgc1.001.alg115.fits.gz\n",
       "    ---      ALG      N     --- ...    15    21  spec1d.vdgc1.002.alg140.fits.gz\n",
       "    ---      ALG      N     --- ...    16    21  spec1d.vdgc1.003.alg164.fits.gz\n",
       "    ---      ALG      N     --- ...    15    20  spec1d.vdgc1.004.alg177.fits.gz\n",
       "    ---      ALG      N     --- ...    15    21  spec1d.vdgc1.005.alg191.fits.gz\n",
       "    ---      ALG      N     --- ...    15    20  spec1d.vdgc1.006.alg194.fits.gz\n",
       "VCC1075      NUC      N     --- ...    30    37    spec1d.vdgc1.007.nuc5.fits.gz\n",
       "VCC1079      NUC      N     --- ...    19    25    spec1d.vdgc1.008.nuc6.fits.gz\n",
       "VCC1076      NUC      N     --- ...    20    26    spec1d.vdgc1.009.nuc7.fits.gz\n",
       "    ...      ...    ...     ... ...   ...   ...                              ...\n",
       "    ---      SGR      N     --- ...    30    36 spec1d.vdgc9B.049.sgr375.fits.gz\n",
       "    ---      SGR      N     --- ...    10    16 spec1d.vdgc9B.050.sgr377.fits.gz\n",
       "    ---      SGR      N     --- ...   116   121 spec1d.vdgc9B.051.sgr382.fits.gz\n",
       "    ---      SGR      N     --- ...    23    29 spec1d.vdgc9B.052.sgr383.fits.gz\n",
       "    ---      SGR      N     --- ...    12    18 spec1d.vdgc9B.053.sgr387.fits.gz\n",
       "    ---      SGR      N     --- ...    20    26 spec1d.vdgc9B.054.sgr388.fits.gz\n",
       "    ---      SGR      N     --- ...    66    72 spec1d.vdgc9B.055.sgr389.fits.gz\n",
       "    ---      SGR      N     --- ...    36    42 spec1d.vdgc9B.056.sgr391.fits.gz\n",
       "    ---      MST      N     --- ...    48    53 spec1d.vdgc9B.061.mst526.fits.gz\n",
       "    ---      GCN      N     --- ...    30    36 spec1d.vdgc9B.066.gcN138.fits.gz"
      ]
     },
     "execution_count": 7,
     "metadata": {},
     "output_type": "execute_result"
    }
   ],
   "source": [
    "VDGC1 = VDGC[VDGC['ZCONF'] == 1]\n",
    "# remove any rows where GCSAT is not 'Y'\n",
    "VDGC1 = VDGC1[VDGC1['GCSAT'] == 'N']\n",
    "VDGC1"
   ]
  },
  {
   "cell_type": "code",
   "execution_count": 8,
   "metadata": {},
   "outputs": [
    {
     "data": {
      "text/html": [
       "<i>Table length=72</i>\n",
       "<table id=\"table4845039968\" class=\"table-striped table-bordered table-condensed\">\n",
       "<thead><tr><th>VCC</th><th>TARGTYPE</th><th>GCSAT</th><th>HOST</th><th>RA</th><th>DEC</th><th>VHEL</th><th>VERR</th><th>VERR_pe</th><th>VERR_ne</th><th>ZCONF</th><th>VOBS</th><th>VOBS_pe</th><th>VOBS_ne</th><th>ABANDCOR</th><th>ABANDCOR_pe</th><th>ABANDCOR_ne</th><th>HELCOR</th><th>SN</th><th>MASKNAME</th><th>SLITNUM</th><th>YLOW</th><th>YHIGH</th><th>SPEC1DNAME</th></tr></thead>\n",
       "<thead><tr><th>bytes10</th><th>bytes7</th><th>bytes2</th><th>bytes10</th><th>float32</th><th>float32</th><th>float32</th><th>float32</th><th>float32</th><th>float32</th><th>float32</th><th>float32</th><th>float32</th><th>float32</th><th>float32</th><th>float32</th><th>float32</th><th>float32</th><th>float32</th><th>bytes20</th><th>int16</th><th>int16</th><th>int16</th><th>bytes40</th></tr></thead>\n",
       "<tr><td>VCC1148</td><td>NUC</td><td>N</td><td>---</td><td>187.2422</td><td>12.661695</td><td>1417.16</td><td>0.30438462</td><td>0.21</td><td>0.24</td><td>1.0</td><td>1403.28</td><td>0.21</td><td>0.24</td><td>-23.48</td><td>0.18</td><td>0.23</td><td>9.6</td><td>151.96</td><td>vugc1</td><td>0</td><td>43</td><td>59</td><td>spec1d.vugc1.000.NUC001.fits.gz</td></tr>\n",
       "<tr><td>---</td><td>GCXL</td><td>N</td><td>---</td><td>187.0645</td><td>12.741167</td><td>-591.31</td><td>5.6009865</td><td>3.6</td><td>4.99</td><td>1.0</td><td>-544.81</td><td>3.6</td><td>4.99</td><td>36.9</td><td>3.44</td><td>3.75</td><td>9.6</td><td>7.79</td><td>vugc1</td><td>7</td><td>58</td><td>68</td><td>spec1d.vugc1.007.GCXL008.fits.gz</td></tr>\n",
       "<tr><td>---</td><td>GCXL</td><td>N</td><td>---</td><td>187.04138</td><td>12.743</td><td>-339.2</td><td>12.014878</td><td>1.14</td><td>18.9</td><td>1.0</td><td>-271.02</td><td>1.14</td><td>18.9</td><td>58.58</td><td>5.66</td><td>7.6</td><td>9.6</td><td>2.14</td><td>vugc1</td><td>9</td><td>41</td><td>51</td><td>spec1d.vugc1.009.GCXL011.fits.gz</td></tr>\n",
       "<tr><td>---</td><td>GCXL</td><td>N</td><td>---</td><td>187.26938</td><td>12.675</td><td>1265.91</td><td>10.11425</td><td>9.15</td><td>6.84</td><td>1.0</td><td>1251.6</td><td>9.15</td><td>6.84</td><td>-23.91</td><td>6.78</td><td>5.61</td><td>9.6</td><td>4.19</td><td>vugc1</td><td>11</td><td>16</td><td>26</td><td>spec1d.vugc1.011.GCXL013.fits.gz</td></tr>\n",
       "<tr><td>---</td><td>GCXL</td><td>N</td><td>---</td><td>187.0158</td><td>12.7225275</td><td>1397.37</td><td>7.2989125</td><td>5.45</td><td>7.26</td><td>1.0</td><td>1452.44</td><td>5.45</td><td>7.26</td><td>45.47</td><td>3.44</td><td>3.74</td><td>9.6</td><td>6.01</td><td>vugc1</td><td>12</td><td>12</td><td>22</td><td>spec1d.vugc1.012.GCXL015.fits.gz</td></tr>\n",
       "<tr><td>---</td><td>GCXL</td><td>N</td><td>---</td><td>187.25525</td><td>12.648389</td><td>951.12</td><td>30.016117</td><td>12.48</td><td>16.38</td><td>1.0</td><td>943.01</td><td>12.48</td><td>16.38</td><td>-17.71</td><td>28.32</td><td>24.32</td><td>9.6</td><td>2.21</td><td>vugc1</td><td>14</td><td>60</td><td>70</td><td>spec1d.vugc1.014.GCXL017.fits.gz</td></tr>\n",
       "<tr><td>---</td><td>GCBL</td><td>N</td><td>---</td><td>187.07175</td><td>12.729305</td><td>190.86</td><td>12.783288</td><td>3.2</td><td>4.53</td><td>1.0</td><td>220.64</td><td>3.2</td><td>4.53</td><td>20.18</td><td>13.53</td><td>10.84</td><td>9.6</td><td>7.97</td><td>vugc1</td><td>25</td><td>11</td><td>19</td><td>spec1d.vugc1.025.GCBL001.fits.gz</td></tr>\n",
       "<tr><td>---</td><td>GCBL</td><td>N</td><td>---</td><td>187.27963</td><td>12.6585</td><td>-14.56</td><td>0.59682494</td><td>0.53</td><td>0.49</td><td>1.0</td><td>-35.26</td><td>0.53</td><td>0.49</td><td>-30.3</td><td>0.3</td><td>0.32</td><td>9.6</td><td>61.11</td><td>vugc1</td><td>29</td><td>48</td><td>58</td><td>spec1d.vugc1.029.GCBL007.fits.gz</td></tr>\n",
       "<tr><td>---</td><td>GCBL</td><td>N</td><td>---</td><td>187.24742</td><td>12.637139</td><td>-55.26</td><td>5.19</td><td>4.92</td><td>5.46</td><td>1.0</td><td>-45.66</td><td>4.92</td><td>5.46</td><td>-8.24</td><td>29.95</td><td>48.57</td><td>9.6</td><td>7.79</td><td>vugc1</td><td>30</td><td>13</td><td>23</td><td>spec1d.vugc1.030.GCBL008.fits.gz</td></tr>\n",
       "<tr><td>---</td><td>GCXO</td><td>N</td><td>---</td><td>187.10078</td><td>12.674723</td><td>988.08</td><td>22.852507</td><td>10.37</td><td>11.94</td><td>1.0</td><td>897.41</td><td>10.37</td><td>11.94</td><td>-100.27</td><td>16.91</td><td>22.98</td><td>9.6</td><td>3.48</td><td>vugc1</td><td>34</td><td>92</td><td>102</td><td>spec1d.vugc1.034.GCXO0018.fits.gz</td></tr>\n",
       "<tr><td>...</td><td>...</td><td>...</td><td>...</td><td>...</td><td>...</td><td>...</td><td>...</td><td>...</td><td>...</td><td>...</td><td>...</td><td>...</td><td>...</td><td>...</td><td>...</td><td>...</td><td>...</td><td>...</td><td>...</td><td>...</td><td>...</td><td>...</td><td>...</td></tr>\n",
       "<tr><td>---</td><td>SGR</td><td>N</td><td>---</td><td>185.79562</td><td>11.95625</td><td>-30.45</td><td>6.590131</td><td>4.42</td><td>7.3</td><td>1.0</td><td>-5.02</td><td>4.42</td><td>7.3</td><td>16.23</td><td>2.9</td><td>3.13</td><td>9.2</td><td>5.03</td><td>vugc6</td><td>49</td><td>81</td><td>91</td><td>spec1d.vugc6.049.SGR0039.fits.gz</td></tr>\n",
       "<tr><td>---</td><td>SGR</td><td>N</td><td>---</td><td>185.85175</td><td>12.10025</td><td>-48.3</td><td>4.3181043</td><td>5.08</td><td>2.88</td><td>1.0</td><td>-30.82</td><td>5.08</td><td>2.88</td><td>8.28</td><td>1.53</td><td>1.82</td><td>9.2</td><td>14.49</td><td>vugc6</td><td>50</td><td>112</td><td>120</td><td>spec1d.vugc6.050.SGR0044.fits.gz</td></tr>\n",
       "<tr><td>---</td><td>SGR</td><td>N</td><td>---</td><td>185.80034</td><td>11.969306</td><td>-35.15</td><td>5.4065537</td><td>4.37</td><td>5.56</td><td>1.0</td><td>6.67</td><td>4.37</td><td>5.56</td><td>32.62</td><td>2.34</td><td>1.94</td><td>9.2</td><td>12.16</td><td>vugc6</td><td>51</td><td>67</td><td>77</td><td>spec1d.vugc6.051.SGR0085.fits.gz</td></tr>\n",
       "<tr><td>---</td><td>SGR</td><td>N</td><td>---</td><td>185.78845</td><td>12.026778</td><td>-67.46</td><td>3.761396</td><td>3.67</td><td>3.53</td><td>1.0</td><td>-37.48</td><td>3.67</td><td>3.53</td><td>20.78</td><td>0.92</td><td>1.26</td><td>9.2</td><td>17.71</td><td>vugc6</td><td>52</td><td>21</td><td>29</td><td>spec1d.vugc6.052.SGR0105.fits.gz</td></tr>\n",
       "<tr><td>---</td><td>SGR</td><td>N</td><td>---</td><td>185.84895</td><td>12.092112</td><td>-18.66</td><td>17.332441</td><td>15.33</td><td>17.21</td><td>1.0</td><td>-15.34</td><td>15.33</td><td>17.21</td><td>-5.88</td><td>6.04</td><td>5.91</td><td>9.2</td><td>5.06</td><td>vugc6</td><td>53</td><td>8</td><td>16</td><td>spec1d.vugc6.053.SGR0118.fits.gz</td></tr>\n",
       "<tr><td>---</td><td>SGR</td><td>N</td><td>---</td><td>185.88054</td><td>12.135028</td><td>29.33</td><td>10.8752985</td><td>12.75</td><td>7.42</td><td>1.0</td><td>43.62</td><td>12.75</td><td>7.42</td><td>5.09</td><td>4.17</td><td>3.97</td><td>9.2</td><td>4.11</td><td>vugc6</td><td>54</td><td>8</td><td>16</td><td>spec1d.vugc6.054.SGR0123.fits.gz</td></tr>\n",
       "<tr><td>---</td><td>SGR</td><td>N</td><td>---</td><td>185.74037</td><td>11.945056</td><td>81.2</td><td>3.226612</td><td>3.06</td><td>3.14</td><td>1.0</td><td>134.32</td><td>3.06</td><td>3.14</td><td>43.92</td><td>0.96</td><td>0.83</td><td>9.2</td><td>19.33</td><td>vugc6</td><td>55</td><td>62</td><td>72</td><td>spec1d.vugc6.055.SGR0130.fits.gz</td></tr>\n",
       "<tr><td>---</td><td>SER</td><td>N</td><td>---</td><td>185.8101</td><td>12.019183</td><td>-47.68</td><td>7.958574</td><td>5.6</td><td>9.0</td><td>1.0</td><td>-21.63</td><td>5.6</td><td>9.0</td><td>16.85</td><td>3.69</td><td>2.65</td><td>9.2</td><td>3.45</td><td>vugc6</td><td>56</td><td>46</td><td>53</td><td>spec1d.vugc6.056.serendip1.fits.gz</td></tr>\n",
       "<tr><td>---</td><td>SGR</td><td>N</td><td>---</td><td>185.78558</td><td>12.031584</td><td>72.83</td><td>7.6939</td><td>2.39</td><td>5.21</td><td>1.0</td><td>92.59</td><td>2.39</td><td>5.21</td><td>10.56</td><td>6.03</td><td>7.35</td><td>9.2</td><td>5.99</td><td>vugc6</td><td>58</td><td>58</td><td>66</td><td>spec1d.vugc6.058.SGR0175.fits.gz</td></tr>\n",
       "<tr><td>---</td><td>SGR</td><td>N</td><td>---</td><td>185.72034</td><td>11.928528</td><td>-54.81</td><td>7.384176</td><td>8.65</td><td>5.06</td><td>1.0</td><td>6.45</td><td>8.65</td><td>5.06</td><td>52.06</td><td>2.75</td><td>2.74</td><td>9.2</td><td>4.62</td><td>vugc6</td><td>59</td><td>297</td><td>307</td><td>spec1d.vugc6.059.SGR0179.fits.gz</td></tr>\n",
       "</table>"
      ],
      "text/plain": [
       "<Table length=72>\n",
       "  VCC   TARGTYPE GCSAT  ...  YLOW YHIGH             SPEC1DNAME            \n",
       "bytes10  bytes7  bytes2 ... int16 int16              bytes40              \n",
       "------- -------- ------ ... ----- ----- ----------------------------------\n",
       "VCC1148      NUC      N ...    43    59    spec1d.vugc1.000.NUC001.fits.gz\n",
       "    ---     GCXL      N ...    58    68   spec1d.vugc1.007.GCXL008.fits.gz\n",
       "    ---     GCXL      N ...    41    51   spec1d.vugc1.009.GCXL011.fits.gz\n",
       "    ---     GCXL      N ...    16    26   spec1d.vugc1.011.GCXL013.fits.gz\n",
       "    ---     GCXL      N ...    12    22   spec1d.vugc1.012.GCXL015.fits.gz\n",
       "    ---     GCXL      N ...    60    70   spec1d.vugc1.014.GCXL017.fits.gz\n",
       "    ---     GCBL      N ...    11    19   spec1d.vugc1.025.GCBL001.fits.gz\n",
       "    ---     GCBL      N ...    48    58   spec1d.vugc1.029.GCBL007.fits.gz\n",
       "    ---     GCBL      N ...    13    23   spec1d.vugc1.030.GCBL008.fits.gz\n",
       "    ---     GCXO      N ...    92   102  spec1d.vugc1.034.GCXO0018.fits.gz\n",
       "    ...      ...    ... ...   ...   ...                                ...\n",
       "    ---      SGR      N ...    81    91   spec1d.vugc6.049.SGR0039.fits.gz\n",
       "    ---      SGR      N ...   112   120   spec1d.vugc6.050.SGR0044.fits.gz\n",
       "    ---      SGR      N ...    67    77   spec1d.vugc6.051.SGR0085.fits.gz\n",
       "    ---      SGR      N ...    21    29   spec1d.vugc6.052.SGR0105.fits.gz\n",
       "    ---      SGR      N ...     8    16   spec1d.vugc6.053.SGR0118.fits.gz\n",
       "    ---      SGR      N ...     8    16   spec1d.vugc6.054.SGR0123.fits.gz\n",
       "    ---      SGR      N ...    62    72   spec1d.vugc6.055.SGR0130.fits.gz\n",
       "    ---      SER      N ...    46    53 spec1d.vugc6.056.serendip1.fits.gz\n",
       "    ---      SGR      N ...    58    66   spec1d.vugc6.058.SGR0175.fits.gz\n",
       "    ---      SGR      N ...   297   307   spec1d.vugc6.059.SGR0179.fits.gz"
      ]
     },
     "execution_count": 8,
     "metadata": {},
     "output_type": "execute_result"
    }
   ],
   "source": [
    "VUGC1 = VUGC[(VUGC['ZCONF']==1) & ((VUGC['GCSAT'] == 'N') | (VUGC['GCSAT'] == 'M'))]  \n",
    "VUGC1"
   ]
  },
  {
   "cell_type": "code",
   "execution_count": 9,
   "metadata": {},
   "outputs": [],
   "source": [
    "VUGC1.sort(['SPEC1DNAME'])"
   ]
  },
  {
   "cell_type": "code",
   "execution_count": 10,
   "metadata": {},
   "outputs": [
    {
     "data": {
      "text/html": [
       "<i>Table length=72</i>\n",
       "<table id=\"table4845039968\" class=\"table-striped table-bordered table-condensed\">\n",
       "<thead><tr><th>VCC</th><th>TARGTYPE</th><th>GCSAT</th><th>HOST</th><th>RA</th><th>DEC</th><th>VHEL</th><th>VERR</th><th>VERR_pe</th><th>VERR_ne</th><th>ZCONF</th><th>VOBS</th><th>VOBS_pe</th><th>VOBS_ne</th><th>ABANDCOR</th><th>ABANDCOR_pe</th><th>ABANDCOR_ne</th><th>HELCOR</th><th>SN</th><th>MASKNAME</th><th>SLITNUM</th><th>YLOW</th><th>YHIGH</th><th>SPEC1DNAME</th></tr></thead>\n",
       "<thead><tr><th>bytes10</th><th>bytes7</th><th>bytes2</th><th>bytes10</th><th>float32</th><th>float32</th><th>float32</th><th>float32</th><th>float32</th><th>float32</th><th>float32</th><th>float32</th><th>float32</th><th>float32</th><th>float32</th><th>float32</th><th>float32</th><th>float32</th><th>float32</th><th>bytes20</th><th>int16</th><th>int16</th><th>int16</th><th>bytes40</th></tr></thead>\n",
       "<tr><td>VCC1148</td><td>NUC</td><td>N</td><td>---</td><td>187.2422</td><td>12.661695</td><td>1417.16</td><td>0.30438462</td><td>0.21</td><td>0.24</td><td>1.0</td><td>1403.28</td><td>0.21</td><td>0.24</td><td>-23.48</td><td>0.18</td><td>0.23</td><td>9.6</td><td>151.96</td><td>vugc1</td><td>0</td><td>43</td><td>59</td><td>spec1d.vugc1.000.NUC001.fits.gz</td></tr>\n",
       "<tr><td>---</td><td>GCXL</td><td>N</td><td>---</td><td>187.0645</td><td>12.741167</td><td>-591.31</td><td>5.6009865</td><td>3.6</td><td>4.99</td><td>1.0</td><td>-544.81</td><td>3.6</td><td>4.99</td><td>36.9</td><td>3.44</td><td>3.75</td><td>9.6</td><td>7.79</td><td>vugc1</td><td>7</td><td>58</td><td>68</td><td>spec1d.vugc1.007.GCXL008.fits.gz</td></tr>\n",
       "<tr><td>---</td><td>GCXL</td><td>N</td><td>---</td><td>187.04138</td><td>12.743</td><td>-339.2</td><td>12.014878</td><td>1.14</td><td>18.9</td><td>1.0</td><td>-271.02</td><td>1.14</td><td>18.9</td><td>58.58</td><td>5.66</td><td>7.6</td><td>9.6</td><td>2.14</td><td>vugc1</td><td>9</td><td>41</td><td>51</td><td>spec1d.vugc1.009.GCXL011.fits.gz</td></tr>\n",
       "<tr><td>---</td><td>GCXL</td><td>N</td><td>---</td><td>187.26938</td><td>12.675</td><td>1265.91</td><td>10.11425</td><td>9.15</td><td>6.84</td><td>1.0</td><td>1251.6</td><td>9.15</td><td>6.84</td><td>-23.91</td><td>6.78</td><td>5.61</td><td>9.6</td><td>4.19</td><td>vugc1</td><td>11</td><td>16</td><td>26</td><td>spec1d.vugc1.011.GCXL013.fits.gz</td></tr>\n",
       "<tr><td>---</td><td>GCXL</td><td>N</td><td>---</td><td>187.0158</td><td>12.7225275</td><td>1397.37</td><td>7.2989125</td><td>5.45</td><td>7.26</td><td>1.0</td><td>1452.44</td><td>5.45</td><td>7.26</td><td>45.47</td><td>3.44</td><td>3.74</td><td>9.6</td><td>6.01</td><td>vugc1</td><td>12</td><td>12</td><td>22</td><td>spec1d.vugc1.012.GCXL015.fits.gz</td></tr>\n",
       "<tr><td>---</td><td>GCXL</td><td>N</td><td>---</td><td>187.25525</td><td>12.648389</td><td>951.12</td><td>30.016117</td><td>12.48</td><td>16.38</td><td>1.0</td><td>943.01</td><td>12.48</td><td>16.38</td><td>-17.71</td><td>28.32</td><td>24.32</td><td>9.6</td><td>2.21</td><td>vugc1</td><td>14</td><td>60</td><td>70</td><td>spec1d.vugc1.014.GCXL017.fits.gz</td></tr>\n",
       "<tr><td>---</td><td>GCBL</td><td>N</td><td>---</td><td>187.07175</td><td>12.729305</td><td>190.86</td><td>12.783288</td><td>3.2</td><td>4.53</td><td>1.0</td><td>220.64</td><td>3.2</td><td>4.53</td><td>20.18</td><td>13.53</td><td>10.84</td><td>9.6</td><td>7.97</td><td>vugc1</td><td>25</td><td>11</td><td>19</td><td>spec1d.vugc1.025.GCBL001.fits.gz</td></tr>\n",
       "<tr><td>---</td><td>GCBL</td><td>N</td><td>---</td><td>187.27963</td><td>12.6585</td><td>-14.56</td><td>0.59682494</td><td>0.53</td><td>0.49</td><td>1.0</td><td>-35.26</td><td>0.53</td><td>0.49</td><td>-30.3</td><td>0.3</td><td>0.32</td><td>9.6</td><td>61.11</td><td>vugc1</td><td>29</td><td>48</td><td>58</td><td>spec1d.vugc1.029.GCBL007.fits.gz</td></tr>\n",
       "<tr><td>---</td><td>GCBL</td><td>N</td><td>---</td><td>187.24742</td><td>12.637139</td><td>-55.26</td><td>5.19</td><td>4.92</td><td>5.46</td><td>1.0</td><td>-45.66</td><td>4.92</td><td>5.46</td><td>-8.24</td><td>29.95</td><td>48.57</td><td>9.6</td><td>7.79</td><td>vugc1</td><td>30</td><td>13</td><td>23</td><td>spec1d.vugc1.030.GCBL008.fits.gz</td></tr>\n",
       "<tr><td>---</td><td>GCXO</td><td>N</td><td>---</td><td>187.10078</td><td>12.674723</td><td>988.08</td><td>22.852507</td><td>10.37</td><td>11.94</td><td>1.0</td><td>897.41</td><td>10.37</td><td>11.94</td><td>-100.27</td><td>16.91</td><td>22.98</td><td>9.6</td><td>3.48</td><td>vugc1</td><td>34</td><td>92</td><td>102</td><td>spec1d.vugc1.034.GCXO0018.fits.gz</td></tr>\n",
       "<tr><td>...</td><td>...</td><td>...</td><td>...</td><td>...</td><td>...</td><td>...</td><td>...</td><td>...</td><td>...</td><td>...</td><td>...</td><td>...</td><td>...</td><td>...</td><td>...</td><td>...</td><td>...</td><td>...</td><td>...</td><td>...</td><td>...</td><td>...</td><td>...</td></tr>\n",
       "<tr><td>---</td><td>SGR</td><td>N</td><td>---</td><td>185.79562</td><td>11.95625</td><td>-30.45</td><td>6.590131</td><td>4.42</td><td>7.3</td><td>1.0</td><td>-5.02</td><td>4.42</td><td>7.3</td><td>16.23</td><td>2.9</td><td>3.13</td><td>9.2</td><td>5.03</td><td>vugc6</td><td>49</td><td>81</td><td>91</td><td>spec1d.vugc6.049.SGR0039.fits.gz</td></tr>\n",
       "<tr><td>---</td><td>SGR</td><td>N</td><td>---</td><td>185.85175</td><td>12.10025</td><td>-48.3</td><td>4.3181043</td><td>5.08</td><td>2.88</td><td>1.0</td><td>-30.82</td><td>5.08</td><td>2.88</td><td>8.28</td><td>1.53</td><td>1.82</td><td>9.2</td><td>14.49</td><td>vugc6</td><td>50</td><td>112</td><td>120</td><td>spec1d.vugc6.050.SGR0044.fits.gz</td></tr>\n",
       "<tr><td>---</td><td>SGR</td><td>N</td><td>---</td><td>185.80034</td><td>11.969306</td><td>-35.15</td><td>5.4065537</td><td>4.37</td><td>5.56</td><td>1.0</td><td>6.67</td><td>4.37</td><td>5.56</td><td>32.62</td><td>2.34</td><td>1.94</td><td>9.2</td><td>12.16</td><td>vugc6</td><td>51</td><td>67</td><td>77</td><td>spec1d.vugc6.051.SGR0085.fits.gz</td></tr>\n",
       "<tr><td>---</td><td>SGR</td><td>N</td><td>---</td><td>185.78845</td><td>12.026778</td><td>-67.46</td><td>3.761396</td><td>3.67</td><td>3.53</td><td>1.0</td><td>-37.48</td><td>3.67</td><td>3.53</td><td>20.78</td><td>0.92</td><td>1.26</td><td>9.2</td><td>17.71</td><td>vugc6</td><td>52</td><td>21</td><td>29</td><td>spec1d.vugc6.052.SGR0105.fits.gz</td></tr>\n",
       "<tr><td>---</td><td>SGR</td><td>N</td><td>---</td><td>185.84895</td><td>12.092112</td><td>-18.66</td><td>17.332441</td><td>15.33</td><td>17.21</td><td>1.0</td><td>-15.34</td><td>15.33</td><td>17.21</td><td>-5.88</td><td>6.04</td><td>5.91</td><td>9.2</td><td>5.06</td><td>vugc6</td><td>53</td><td>8</td><td>16</td><td>spec1d.vugc6.053.SGR0118.fits.gz</td></tr>\n",
       "<tr><td>---</td><td>SGR</td><td>N</td><td>---</td><td>185.88054</td><td>12.135028</td><td>29.33</td><td>10.8752985</td><td>12.75</td><td>7.42</td><td>1.0</td><td>43.62</td><td>12.75</td><td>7.42</td><td>5.09</td><td>4.17</td><td>3.97</td><td>9.2</td><td>4.11</td><td>vugc6</td><td>54</td><td>8</td><td>16</td><td>spec1d.vugc6.054.SGR0123.fits.gz</td></tr>\n",
       "<tr><td>---</td><td>SGR</td><td>N</td><td>---</td><td>185.74037</td><td>11.945056</td><td>81.2</td><td>3.226612</td><td>3.06</td><td>3.14</td><td>1.0</td><td>134.32</td><td>3.06</td><td>3.14</td><td>43.92</td><td>0.96</td><td>0.83</td><td>9.2</td><td>19.33</td><td>vugc6</td><td>55</td><td>62</td><td>72</td><td>spec1d.vugc6.055.SGR0130.fits.gz</td></tr>\n",
       "<tr><td>---</td><td>SER</td><td>N</td><td>---</td><td>185.8101</td><td>12.019183</td><td>-47.68</td><td>7.958574</td><td>5.6</td><td>9.0</td><td>1.0</td><td>-21.63</td><td>5.6</td><td>9.0</td><td>16.85</td><td>3.69</td><td>2.65</td><td>9.2</td><td>3.45</td><td>vugc6</td><td>56</td><td>46</td><td>53</td><td>spec1d.vugc6.056.serendip1.fits.gz</td></tr>\n",
       "<tr><td>---</td><td>SGR</td><td>N</td><td>---</td><td>185.78558</td><td>12.031584</td><td>72.83</td><td>7.6939</td><td>2.39</td><td>5.21</td><td>1.0</td><td>92.59</td><td>2.39</td><td>5.21</td><td>10.56</td><td>6.03</td><td>7.35</td><td>9.2</td><td>5.99</td><td>vugc6</td><td>58</td><td>58</td><td>66</td><td>spec1d.vugc6.058.SGR0175.fits.gz</td></tr>\n",
       "<tr><td>---</td><td>SGR</td><td>N</td><td>---</td><td>185.72034</td><td>11.928528</td><td>-54.81</td><td>7.384176</td><td>8.65</td><td>5.06</td><td>1.0</td><td>6.45</td><td>8.65</td><td>5.06</td><td>52.06</td><td>2.75</td><td>2.74</td><td>9.2</td><td>4.62</td><td>vugc6</td><td>59</td><td>297</td><td>307</td><td>spec1d.vugc6.059.SGR0179.fits.gz</td></tr>\n",
       "</table>"
      ],
      "text/plain": [
       "<Table length=72>\n",
       "  VCC   TARGTYPE GCSAT  ...  YLOW YHIGH             SPEC1DNAME            \n",
       "bytes10  bytes7  bytes2 ... int16 int16              bytes40              \n",
       "------- -------- ------ ... ----- ----- ----------------------------------\n",
       "VCC1148      NUC      N ...    43    59    spec1d.vugc1.000.NUC001.fits.gz\n",
       "    ---     GCXL      N ...    58    68   spec1d.vugc1.007.GCXL008.fits.gz\n",
       "    ---     GCXL      N ...    41    51   spec1d.vugc1.009.GCXL011.fits.gz\n",
       "    ---     GCXL      N ...    16    26   spec1d.vugc1.011.GCXL013.fits.gz\n",
       "    ---     GCXL      N ...    12    22   spec1d.vugc1.012.GCXL015.fits.gz\n",
       "    ---     GCXL      N ...    60    70   spec1d.vugc1.014.GCXL017.fits.gz\n",
       "    ---     GCBL      N ...    11    19   spec1d.vugc1.025.GCBL001.fits.gz\n",
       "    ---     GCBL      N ...    48    58   spec1d.vugc1.029.GCBL007.fits.gz\n",
       "    ---     GCBL      N ...    13    23   spec1d.vugc1.030.GCBL008.fits.gz\n",
       "    ---     GCXO      N ...    92   102  spec1d.vugc1.034.GCXO0018.fits.gz\n",
       "    ...      ...    ... ...   ...   ...                                ...\n",
       "    ---      SGR      N ...    81    91   spec1d.vugc6.049.SGR0039.fits.gz\n",
       "    ---      SGR      N ...   112   120   spec1d.vugc6.050.SGR0044.fits.gz\n",
       "    ---      SGR      N ...    67    77   spec1d.vugc6.051.SGR0085.fits.gz\n",
       "    ---      SGR      N ...    21    29   spec1d.vugc6.052.SGR0105.fits.gz\n",
       "    ---      SGR      N ...     8    16   spec1d.vugc6.053.SGR0118.fits.gz\n",
       "    ---      SGR      N ...     8    16   spec1d.vugc6.054.SGR0123.fits.gz\n",
       "    ---      SGR      N ...    62    72   spec1d.vugc6.055.SGR0130.fits.gz\n",
       "    ---      SER      N ...    46    53 spec1d.vugc6.056.serendip1.fits.gz\n",
       "    ---      SGR      N ...    58    66   spec1d.vugc6.058.SGR0175.fits.gz\n",
       "    ---      SGR      N ...   297   307   spec1d.vugc6.059.SGR0179.fits.gz"
      ]
     },
     "execution_count": 10,
     "metadata": {},
     "output_type": "execute_result"
    }
   ],
   "source": [
    "VUGC1"
   ]
  },
  {
   "cell_type": "code",
   "execution_count": 11,
   "metadata": {},
   "outputs": [],
   "source": [
    "ProbColumnDE = Column(probValueGC, name='Probability')\n",
    "VDGC1.add_column(ProbColumnDE)\n",
    "TypeColumnDE = Column(nameGC, name='Type')\n",
    "VDGC1.add_column(TypeColumnDE)\n",
    "VDGC1.sort(['SPEC1DNAME'])\n"
   ]
  },
  {
   "cell_type": "code",
   "execution_count": 12,
   "metadata": {},
   "outputs": [
    {
     "data": {
      "text/html": [
       "<i>Table length=364</i>\n",
       "<table id=\"table4840175320\" class=\"table-striped table-bordered table-condensed\">\n",
       "<thead><tr><th>VCC</th><th>TARGTYPE</th><th>GCSAT</th><th>HOST</th><th>RA</th><th>DEC</th><th>ZHEL</th><th>ZERR</th><th>ZERR_pe</th><th>ZERR_ne</th><th>ZCONF</th><th>ZOBS</th><th>ZOBS_pe</th><th>ZOBS_ne</th><th>ABANDCOR</th><th>ABANDCOR_pe</th><th>ABANDCOR_ne</th><th>HELCOR</th><th>SN</th><th>KECKID</th><th>MASKNAME</th><th>SLITNUM</th><th>ZSPECNUM</th><th>ZQUAL</th><th>YLOW</th><th>YHIGH</th><th>SPEC1DNAME</th><th>Probability</th><th>Type</th></tr></thead>\n",
       "<thead><tr><th>bytes10</th><th>bytes7</th><th>bytes2</th><th>bytes10</th><th>float32</th><th>float32</th><th>float32</th><th>float32</th><th>float32</th><th>float32</th><th>float32</th><th>float32</th><th>float32</th><th>float32</th><th>float32</th><th>float32</th><th>float32</th><th>float32</th><th>float32</th><th>bytes20</th><th>bytes20</th><th>int16</th><th>int16</th><th>int16</th><th>int16</th><th>int16</th><th>bytes40</th><th>float32</th><th>str4</th></tr></thead>\n",
       "<tr><td>---</td><td>ALG</td><td>N</td><td>---</td><td>187.0097</td><td>10.359333</td><td>0.00018189283</td><td>8.389982e-06</td><td>4.2536944e-06</td><td>4.2911956e-06</td><td>1.0</td><td>0.00039203788</td><td>7.004846e-07</td><td>7.004846e-07</td><td>0.00016147838</td><td>4.6698975e-07</td><td>7.3384103e-07</td><td>4.866667e-05</td><td>196.03</td><td>alg42</td><td>vdgc1</td><td>0</td><td>0</td><td>-1</td><td>15</td><td>21</td><td>spec1d.vdgc1.000.alg42.fits.gz</td><td>0.98157275</td><td>Star</td></tr>\n",
       "<tr><td>---</td><td>ALG</td><td>N</td><td>---</td><td>187.07608</td><td>10.3505</td><td>-0.0007024523</td><td>1.0064823e-05</td><td>6.74872e-06</td><td>7.2782736e-06</td><td>1.0</td><td>-0.0005678595</td><td>5.0034614e-06</td><td>5.5705204e-06</td><td>8.592611e-05</td><td>1.7678897e-06</td><td>2.1348103e-06</td><td>4.866667e-05</td><td>58.89</td><td>alg115</td><td>vdgc1</td><td>1</td><td>1</td><td>-1</td><td>15</td><td>21</td><td>spec1d.vdgc1.001.alg115.fits.gz</td><td>0.90411496</td><td>Star</td></tr>\n",
       "<tr><td>---</td><td>ALG</td><td>N</td><td>---</td><td>186.9995</td><td>10.459528</td><td>4.2896674e-05</td><td>9.472941e-06</td><td>5.8739492e-06</td><td>6.4012156e-06</td><td>1.0</td><td>0.0002562106</td><td>3.6024921e-06</td><td>4.0361256e-06</td><td>0.00016464724</td><td>2.0347409e-06</td><td>2.701869e-06</td><td>4.866667e-05</td><td>44.0</td><td>alg140</td><td>vdgc1</td><td>2</td><td>2</td><td>-1</td><td>15</td><td>21</td><td>spec1d.vdgc1.002.alg140.fits.gz</td><td>0.982906</td><td>Star</td></tr>\n",
       "<tr><td>---</td><td>ALG</td><td>N</td><td>---</td><td>187.04004</td><td>10.45025</td><td>6.654637e-05</td><td>8.618114e-06</td><td>4.658566e-06</td><td>4.754663e-06</td><td>1.0</td><td>0.00010960916</td><td>1.5343949e-06</td><td>1.9013154e-06</td><td>-5.6038766e-06</td><td>1.4009692e-06</td><td>1.2675436e-06</td><td>4.866667e-05</td><td>80.71</td><td>alg164</td><td>vdgc1</td><td>3</td><td>3</td><td>-1</td><td>16</td><td>21</td><td>spec1d.vdgc1.003.alg164.fits.gz</td><td>0.9828415</td><td>Star</td></tr>\n",
       "<tr><td>---</td><td>ALG</td><td>N</td><td>---</td><td>187.07025</td><td>10.325111</td><td>-9.1059665e-06</td><td>8.707397e-06</td><td>4.8853194e-06</td><td>4.84415e-06</td><td>1.0</td><td>0.00011594688</td><td>2.1681667e-06</td><td>2.1348103e-06</td><td>7.6386175e-05</td><td>1.3342564e-06</td><td>1.2341872e-06</td><td>4.866667e-05</td><td>92.15</td><td>alg177</td><td>vdgc1</td><td>4</td><td>4</td><td>-1</td><td>15</td><td>20</td><td>spec1d.vdgc1.004.alg177.fits.gz</td><td>0.98282486</td><td>Star</td></tr>\n",
       "<tr><td>---</td><td>ALG</td><td>N</td><td>---</td><td>187.05908</td><td>10.544111</td><td>5.807384e-05</td><td>8.369103e-06</td><td>4.237577e-06</td><td>4.22153e-06</td><td>1.0</td><td>-9.893511e-05</td><td>5.67059e-07</td><td>4.6698975e-07</td><td>-0.00020567562</td><td>5.003461e-07</td><td>4.6698975e-07</td><td>4.866667e-05</td><td>222.86</td><td>alg191</td><td>vdgc1</td><td>5</td><td>5</td><td>-1</td><td>15</td><td>21</td><td>spec1d.vdgc1.005.alg191.fits.gz</td><td>0.9828719</td><td>Star</td></tr>\n",
       "<tr><td>---</td><td>ALG</td><td>N</td><td>---</td><td>187.06075</td><td>10.386139</td><td>-0.00017955722</td><td>9.089515e-06</td><td>5.7391444e-06</td><td>5.3187523e-06</td><td>1.0</td><td>-6.1742714e-05</td><td>2.435018e-06</td><td>2.3349487e-06</td><td>6.9147834e-05</td><td>3.1021461e-06</td><td>2.3349487e-06</td><td>4.866667e-05</td><td>73.2</td><td>alg194</td><td>vdgc1</td><td>6</td><td>6</td><td>-1</td><td>15</td><td>20</td><td>spec1d.vdgc1.006.alg194.fits.gz</td><td>0.9802294</td><td>Star</td></tr>\n",
       "<tr><td>VCC1075</td><td>NUC</td><td>N</td><td>---</td><td>187.05128</td><td>10.297639</td><td>0.006039145</td><td>9.7258535e-06</td><td>6.6017046e-06</td><td>6.4667574e-06</td><td>1.0</td><td>0.0060859434</td><td>4.803323e-06</td><td>4.202908e-06</td><td>-1.867959e-06</td><td>1.7678897e-06</td><td>2.6018e-06</td><td>4.866667e-05</td><td>28.58</td><td>nuc5</td><td>vdgc1</td><td>7</td><td>7</td><td>4</td><td>30</td><td>37</td><td>spec1d.vdgc1.007.nuc5.fits.gz</td><td>1.0</td><td>Star</td></tr>\n",
       "<tr><td>VCC1079</td><td>NUC</td><td>N</td><td>---</td><td>187.05008</td><td>10.365334</td><td>0.00444731</td><td>1.00620455e-05</td><td>6.9665402e-06</td><td>7.04997e-06</td><td>1.0</td><td>0.0044967774</td><td>5.1702436e-06</td><td>5.136887e-06</td><td>8.0055383e-07</td><td>2.101454e-06</td><td>2.435018e-06</td><td>4.866667e-05</td><td>32.52</td><td>nuc6</td><td>vdgc1</td><td>8</td><td>8</td><td>4</td><td>19</td><td>25</td><td>spec1d.vdgc1.008.nuc6.fits.gz</td><td>1.0</td><td>Star</td></tr>\n",
       "<tr><td>VCC1076</td><td>NUC</td><td>N</td><td>---</td><td>187.05345</td><td>10.526055</td><td>0.0054966365</td><td>1.29442e-05</td><td>9.793103e-06</td><td>1.1722346e-05</td><td>1.0</td><td>0.00556992</td><td>8.439171e-06</td><td>1.0674051e-05</td><td>2.461703e-05</td><td>2.701869e-06</td><td>2.4683743e-06</td><td>4.866667e-05</td><td>27.06</td><td>nuc7</td><td>vdgc1</td><td>9</td><td>9</td><td>4</td><td>20</td><td>26</td><td>spec1d.vdgc1.009.nuc7.fits.gz</td><td>1.0</td><td>Star</td></tr>\n",
       "<tr><td>...</td><td>...</td><td>...</td><td>...</td><td>...</td><td>...</td><td>...</td><td>...</td><td>...</td><td>...</td><td>...</td><td>...</td><td>...</td><td>...</td><td>...</td><td>...</td><td>...</td><td>...</td><td>...</td><td>...</td><td>...</td><td>...</td><td>...</td><td>...</td><td>...</td><td>...</td><td>...</td><td>...</td><td>...</td></tr>\n",
       "<tr><td>---</td><td>SGR</td><td>N</td><td>---</td><td>190.39262</td><td>11.137917</td><td>-0.00013766572</td><td>1.7570226e-05</td><td>1.531862e-05</td><td>1.6725404e-05</td><td>1.0</td><td>-0.000115446535</td><td>1.43099e-05</td><td>1.5877651e-05</td><td>-2.0447478e-05</td><td>3.5357793e-06</td><td>3.2022153e-06</td><td>4.2666667e-05</td><td>17.14</td><td>sgr375</td><td>vdgc9B</td><td>49</td><td>56</td><td>4</td><td>30</td><td>36</td><td>spec1d.vdgc9B.049.sgr375.fits.gz</td><td>0.9812374</td><td>Star</td></tr>\n",
       "<tr><td>---</td><td>SGR</td><td>N</td><td>---</td><td>190.33159</td><td>11.156917</td><td>9.873115e-05</td><td>4.130444e-05</td><td>4.0748742e-05</td><td>4.061011e-05</td><td>1.0</td><td>-9.0462585e-05</td><td>2.2982565e-05</td><td>2.4450248e-05</td><td>-0.00023186041</td><td>3.3389766e-05</td><td>3.2155578e-05</td><td>4.2666667e-05</td><td>4.98</td><td>sgr377</td><td>vdgc9B</td><td>50</td><td>57</td><td>4</td><td>10</td><td>16</td><td>spec1d.vdgc9B.050.sgr377.fits.gz</td><td>0.9826506</td><td>Star</td></tr>\n",
       "<tr><td>---</td><td>SGR</td><td>N</td><td>---</td><td>190.36142</td><td>11.1675</td><td>-9.9972975e-05</td><td>1.1751035e-05</td><td>7.890607e-06</td><td>1.073294e-05</td><td>1.0</td><td>-9.8034485e-05</td><td>5.770659e-06</td><td>9.072944e-06</td><td>-4.0728177e-05</td><td>3.4023537e-06</td><td>3.936056e-06</td><td>4.2666667e-05</td><td>19.86</td><td>sgr382</td><td>vdgc9B</td><td>51</td><td>59</td><td>4</td><td>116</td><td>121</td><td>spec1d.vdgc9B.051.sgr382.fits.gz</td><td>0.9819229</td><td>Star</td></tr>\n",
       "<tr><td>---</td><td>SGR</td><td>N</td><td>---</td><td>190.4127</td><td>11.171166</td><td>0.0002730184</td><td>2.0547339e-05</td><td>1.877862e-05</td><td>1.9707371e-05</td><td>1.0</td><td>0.00028539743</td><td>1.701177e-05</td><td>1.8245955e-05</td><td>-3.028762e-05</td><td>6.7713513e-06</td><td>6.1709356e-06</td><td>4.2666667e-05</td><td>8.43</td><td>sgr383</td><td>vdgc9B</td><td>52</td><td>60</td><td>4</td><td>23</td><td>29</td><td>spec1d.vdgc9B.052.sgr383.fits.gz</td><td>0.9792581</td><td>Star</td></tr>\n",
       "<tr><td>---</td><td>SGR</td><td>N</td><td>---</td><td>190.35304</td><td>11.182972</td><td>-2.9791092e-05</td><td>1.5340178e-05</td><td>1.3280251e-05</td><td>1.3787984e-05</td><td>1.0</td><td>3.7025613e-06</td><td>0.0</td><td>0.0</td><td>-9.173013e-06</td><td>1.26087225e-05</td><td>1.3142425e-05</td><td>4.2666667e-05</td><td>5.14</td><td>sgr387</td><td>vdgc9B</td><td>53</td><td>61</td><td>1</td><td>12</td><td>18</td><td>spec1d.vdgc9B.053.sgr387.fits.gz</td><td>0.9827067</td><td>Star</td></tr>\n",
       "<tr><td>---</td><td>SGR</td><td>N</td><td>---</td><td>190.30571</td><td>11.186861</td><td>0.00057632825</td><td>3.3442e-05</td><td>3.560162e-05</td><td>3.0066876e-05</td><td>1.0</td><td>0.00057242933</td><td>2.4883882e-05</td><td>1.6044432e-05</td><td>-4.6565547e-05</td><td>2.5117377e-05</td><td>2.508402e-05</td><td>4.2666667e-05</td><td>4.17</td><td>sgr388</td><td>vdgc9B</td><td>54</td><td>62</td><td>4</td><td>20</td><td>26</td><td>spec1d.vdgc9B.054.sgr388.fits.gz</td><td>0.9547984</td><td>Star</td></tr>\n",
       "<tr><td>---</td><td>SGR</td><td>N</td><td>---</td><td>190.20183</td><td>11.189305</td><td>-7.792439e-05</td><td>4.5845423e-05</td><td>4.715065e-05</td><td>4.3402022e-05</td><td>1.0</td><td>-4.803323e-06</td><td>4.579835e-05</td><td>4.189565e-05</td><td>3.0454401e-05</td><td>1.04072e-05</td><td>1.0540625e-05</td><td>4.2666667e-05</td><td>5.77</td><td>sgr389</td><td>vdgc9B</td><td>55</td><td>63</td><td>4</td><td>66</td><td>72</td><td>spec1d.vdgc9B.055.sgr389.fits.gz</td><td>0.98223525</td><td>Star</td></tr>\n",
       "<tr><td>---</td><td>SGR</td><td>N</td><td>---</td><td>190.21959</td><td>11.203083</td><td>-3.836369e-05</td><td>2.0415819e-05</td><td>2.0026906e-05</td><td>1.8237295e-05</td><td>1.0</td><td>4.6031844e-05</td><td>1.857952e-05</td><td>1.6011076e-05</td><td>4.172887e-05</td><td>6.2042923e-06</td><td>7.671974e-06</td><td>4.2666667e-05</td><td>8.92</td><td>sgr391</td><td>vdgc9B</td><td>56</td><td>64</td><td>4</td><td>36</td><td>42</td><td>spec1d.vdgc9B.056.sgr391.fits.gz</td><td>0.9826431</td><td>Star</td></tr>\n",
       "<tr><td>---</td><td>MST</td><td>N</td><td>---</td><td>190.2195</td><td>11.238611</td><td>-0.0001818296</td><td>3.370386e-05</td><td>2.6942998e-05</td><td>3.891744e-05</td><td>1.0</td><td>-0.00013916293</td><td>2.6618414e-05</td><td>3.8693433e-05</td><td>1.5577443e-05</td><td>0.00013782868</td><td>7.218327e-05</td><td>4.2666667e-05</td><td>3.44</td><td>mst526</td><td>vdgc9B</td><td>61</td><td>71</td><td>1</td><td>48</td><td>53</td><td>spec1d.vdgc9B.061.mst526.fits.gz</td><td>0.9801667</td><td>Star</td></tr>\n",
       "<tr><td>---</td><td>GCN</td><td>N</td><td>---</td><td>190.23608</td><td>11.185389</td><td>0.00067412923</td><td>8.494366e-06</td><td>4.474859e-06</td><td>4.470381e-06</td><td>1.0</td><td>0.0007392781</td><td>1.5343949e-06</td><td>1.4676821e-06</td><td>2.248222e-05</td><td>5.337026e-07</td><td>6.671282e-07</td><td>4.2666667e-05</td><td>105.87</td><td>gcN138</td><td>vdgc9B</td><td>66</td><td>76</td><td>4</td><td>30</td><td>36</td><td>spec1d.vdgc9B.066.gcN138.fits.gz</td><td>0.9345655</td><td>Star</td></tr>\n",
       "</table>"
      ],
      "text/plain": [
       "<Table length=364>\n",
       "  VCC   TARGTYPE GCSAT  ...            SPEC1DNAME            Probability Type\n",
       "bytes10  bytes7  bytes2 ...             bytes40                float32   str4\n",
       "------- -------- ------ ... -------------------------------- ----------- ----\n",
       "    ---      ALG      N ...   spec1d.vdgc1.000.alg42.fits.gz  0.98157275 Star\n",
       "    ---      ALG      N ...  spec1d.vdgc1.001.alg115.fits.gz  0.90411496 Star\n",
       "    ---      ALG      N ...  spec1d.vdgc1.002.alg140.fits.gz    0.982906 Star\n",
       "    ---      ALG      N ...  spec1d.vdgc1.003.alg164.fits.gz   0.9828415 Star\n",
       "    ---      ALG      N ...  spec1d.vdgc1.004.alg177.fits.gz  0.98282486 Star\n",
       "    ---      ALG      N ...  spec1d.vdgc1.005.alg191.fits.gz   0.9828719 Star\n",
       "    ---      ALG      N ...  spec1d.vdgc1.006.alg194.fits.gz   0.9802294 Star\n",
       "VCC1075      NUC      N ...    spec1d.vdgc1.007.nuc5.fits.gz         1.0 Star\n",
       "VCC1079      NUC      N ...    spec1d.vdgc1.008.nuc6.fits.gz         1.0 Star\n",
       "VCC1076      NUC      N ...    spec1d.vdgc1.009.nuc7.fits.gz         1.0 Star\n",
       "    ...      ...    ... ...                              ...         ...  ...\n",
       "    ---      SGR      N ... spec1d.vdgc9B.049.sgr375.fits.gz   0.9812374 Star\n",
       "    ---      SGR      N ... spec1d.vdgc9B.050.sgr377.fits.gz   0.9826506 Star\n",
       "    ---      SGR      N ... spec1d.vdgc9B.051.sgr382.fits.gz   0.9819229 Star\n",
       "    ---      SGR      N ... spec1d.vdgc9B.052.sgr383.fits.gz   0.9792581 Star\n",
       "    ---      SGR      N ... spec1d.vdgc9B.053.sgr387.fits.gz   0.9827067 Star\n",
       "    ---      SGR      N ... spec1d.vdgc9B.054.sgr388.fits.gz   0.9547984 Star\n",
       "    ---      SGR      N ... spec1d.vdgc9B.055.sgr389.fits.gz  0.98223525 Star\n",
       "    ---      SGR      N ... spec1d.vdgc9B.056.sgr391.fits.gz   0.9826431 Star\n",
       "    ---      MST      N ... spec1d.vdgc9B.061.mst526.fits.gz   0.9801667 Star\n",
       "    ---      GCN      N ... spec1d.vdgc9B.066.gcN138.fits.gz   0.9345655 Star"
      ]
     },
     "execution_count": 12,
     "metadata": {},
     "output_type": "execute_result"
    }
   ],
   "source": [
    "VDGC1"
   ]
  },
  {
   "cell_type": "code",
   "execution_count": 13,
   "metadata": {},
   "outputs": [
    {
     "data": {
      "text/html": [
       "<i>Table length=72</i>\n",
       "<table id=\"table4840158600\" class=\"table-striped table-bordered table-condensed\">\n",
       "<thead><tr><th>SPEC1DNAME</th><th>Probability</th><th>Type</th></tr></thead>\n",
       "<thead><tr><th>bytes34</th><th>float32</th><th>str4</th></tr></thead>\n",
       "<tr><td>spec1d.vugc1.000.NUC001.fits.gz</td><td>0.84855264</td><td>Star</td></tr>\n",
       "<tr><td>spec1d.vugc1.007.GCXL008.fits.gz</td><td>0.9999366</td><td>Star</td></tr>\n",
       "<tr><td>spec1d.vugc1.009.GCXL011.fits.gz</td><td>0.6393685</td><td>Star</td></tr>\n",
       "<tr><td>spec1d.vugc1.011.GCXL013.fits.gz</td><td>0.83778</td><td>Star</td></tr>\n",
       "<tr><td>spec1d.vugc1.012.GCXL015.fits.gz</td><td>0.8498808</td><td>Star</td></tr>\n",
       "<tr><td>spec1d.vugc1.014.GCXL017.fits.gz</td><td>0.57101935</td><td>Star</td></tr>\n",
       "<tr><td>spec1d.vugc1.025.GCBL001.fits.gz</td><td>0.9511431</td><td>Star</td></tr>\n",
       "<tr><td>spec1d.vugc1.029.GCBL007.fits.gz</td><td>0.98372805</td><td>Star</td></tr>\n",
       "<tr><td>spec1d.vugc1.030.GCBL008.fits.gz</td><td>0.98111</td><td>Star</td></tr>\n",
       "<tr><td>spec1d.vugc1.034.GCXO0018.fits.gz</td><td>0.62906873</td><td>Star</td></tr>\n",
       "<tr><td>...</td><td>...</td><td>...</td></tr>\n",
       "<tr><td>spec1d.vugc6.049.SGR0039.fits.gz</td><td>0.9818989</td><td>Star</td></tr>\n",
       "<tr><td>spec1d.vugc6.050.SGR0044.fits.gz</td><td>0.9807099</td><td>Star</td></tr>\n",
       "<tr><td>spec1d.vugc6.051.SGR0085.fits.gz</td><td>0.9816347</td><td>Star</td></tr>\n",
       "<tr><td>spec1d.vugc6.052.SGR0105.fits.gz</td><td>0.9788053</td><td>Star</td></tr>\n",
       "<tr><td>spec1d.vugc6.053.SGR0118.fits.gz</td><td>0.98242027</td><td>Star</td></tr>\n",
       "<tr><td>spec1d.vugc6.054.SGR0123.fits.gz</td><td>0.9826581</td><td>Star</td></tr>\n",
       "<tr><td>spec1d.vugc6.055.SGR0130.fits.gz</td><td>0.9793355</td><td>Star</td></tr>\n",
       "<tr><td>spec1d.vugc6.056.serendip1.fits.gz</td><td>0.98076</td><td>Star</td></tr>\n",
       "<tr><td>spec1d.vugc6.058.SGR0175.fits.gz</td><td>0.9801772</td><td>Star</td></tr>\n",
       "<tr><td>spec1d.vugc6.059.SGR0179.fits.gz</td><td>0.98014235</td><td>Star</td></tr>\n",
       "</table>"
      ],
      "text/plain": [
       "<Table length=72>\n",
       "            SPEC1DNAME             Probability Type\n",
       "             bytes34                 float32   str4\n",
       "---------------------------------- ----------- ----\n",
       "   spec1d.vugc1.000.NUC001.fits.gz  0.84855264 Star\n",
       "  spec1d.vugc1.007.GCXL008.fits.gz   0.9999366 Star\n",
       "  spec1d.vugc1.009.GCXL011.fits.gz   0.6393685 Star\n",
       "  spec1d.vugc1.011.GCXL013.fits.gz     0.83778 Star\n",
       "  spec1d.vugc1.012.GCXL015.fits.gz   0.8498808 Star\n",
       "  spec1d.vugc1.014.GCXL017.fits.gz  0.57101935 Star\n",
       "  spec1d.vugc1.025.GCBL001.fits.gz   0.9511431 Star\n",
       "  spec1d.vugc1.029.GCBL007.fits.gz  0.98372805 Star\n",
       "  spec1d.vugc1.030.GCBL008.fits.gz     0.98111 Star\n",
       " spec1d.vugc1.034.GCXO0018.fits.gz  0.62906873 Star\n",
       "                               ...         ...  ...\n",
       "  spec1d.vugc6.049.SGR0039.fits.gz   0.9818989 Star\n",
       "  spec1d.vugc6.050.SGR0044.fits.gz   0.9807099 Star\n",
       "  spec1d.vugc6.051.SGR0085.fits.gz   0.9816347 Star\n",
       "  spec1d.vugc6.052.SGR0105.fits.gz   0.9788053 Star\n",
       "  spec1d.vugc6.053.SGR0118.fits.gz  0.98242027 Star\n",
       "  spec1d.vugc6.054.SGR0123.fits.gz   0.9826581 Star\n",
       "  spec1d.vugc6.055.SGR0130.fits.gz   0.9793355 Star\n",
       "spec1d.vugc6.056.serendip1.fits.gz     0.98076 Star\n",
       "  spec1d.vugc6.058.SGR0175.fits.gz   0.9801772 Star\n",
       "  spec1d.vugc6.059.SGR0179.fits.gz  0.98014235 Star"
      ]
     },
     "execution_count": 13,
     "metadata": {},
     "output_type": "execute_result"
    }
   ],
   "source": [
    "copyUDG = orphanUDG['SPEC1DNAME', 'Probability', 'Type']\n",
    "copyUDG.add_row(['spec1d.vugc1.044.GCXO0504.fits.gz',-1,'Unknown'])\n",
    "copyUDG.sort('SPEC1DNAME')\n",
    "copyUDG"
   ]
  },
  {
   "cell_type": "code",
   "execution_count": 14,
   "metadata": {},
   "outputs": [],
   "source": [
    "prob = copyUDG['Probability']\n",
    "VUGC1['Probability'] = prob\n",
    "name = copyUDG['Type']\n",
    "VUGC1['Type'] = name"
   ]
  },
  {
   "cell_type": "code",
   "execution_count": 15,
   "metadata": {},
   "outputs": [
    {
     "data": {
      "text/html": [
       "<i>Table length=72</i>\n",
       "<table id=\"table4845039968\" class=\"table-striped table-bordered table-condensed\">\n",
       "<thead><tr><th>VCC</th><th>TARGTYPE</th><th>GCSAT</th><th>HOST</th><th>RA</th><th>DEC</th><th>VHEL</th><th>VERR</th><th>VERR_pe</th><th>VERR_ne</th><th>ZCONF</th><th>VOBS</th><th>VOBS_pe</th><th>VOBS_ne</th><th>ABANDCOR</th><th>ABANDCOR_pe</th><th>ABANDCOR_ne</th><th>HELCOR</th><th>SN</th><th>MASKNAME</th><th>SLITNUM</th><th>YLOW</th><th>YHIGH</th><th>SPEC1DNAME</th><th>Probability</th><th>Type</th></tr></thead>\n",
       "<thead><tr><th>bytes10</th><th>bytes7</th><th>bytes2</th><th>bytes10</th><th>float32</th><th>float32</th><th>float32</th><th>float32</th><th>float32</th><th>float32</th><th>float32</th><th>float32</th><th>float32</th><th>float32</th><th>float32</th><th>float32</th><th>float32</th><th>float32</th><th>float32</th><th>bytes20</th><th>int16</th><th>int16</th><th>int16</th><th>bytes40</th><th>float32</th><th>str4</th></tr></thead>\n",
       "<tr><td>VCC1148</td><td>NUC</td><td>N</td><td>---</td><td>187.2422</td><td>12.661695</td><td>1417.16</td><td>0.30438462</td><td>0.21</td><td>0.24</td><td>1.0</td><td>1403.28</td><td>0.21</td><td>0.24</td><td>-23.48</td><td>0.18</td><td>0.23</td><td>9.6</td><td>151.96</td><td>vugc1</td><td>0</td><td>43</td><td>59</td><td>spec1d.vugc1.000.NUC001.fits.gz</td><td>0.84855264</td><td>Star</td></tr>\n",
       "<tr><td>---</td><td>GCXL</td><td>N</td><td>---</td><td>187.0645</td><td>12.741167</td><td>-591.31</td><td>5.6009865</td><td>3.6</td><td>4.99</td><td>1.0</td><td>-544.81</td><td>3.6</td><td>4.99</td><td>36.9</td><td>3.44</td><td>3.75</td><td>9.6</td><td>7.79</td><td>vugc1</td><td>7</td><td>58</td><td>68</td><td>spec1d.vugc1.007.GCXL008.fits.gz</td><td>0.9999366</td><td>Star</td></tr>\n",
       "<tr><td>---</td><td>GCXL</td><td>N</td><td>---</td><td>187.04138</td><td>12.743</td><td>-339.2</td><td>12.014878</td><td>1.14</td><td>18.9</td><td>1.0</td><td>-271.02</td><td>1.14</td><td>18.9</td><td>58.58</td><td>5.66</td><td>7.6</td><td>9.6</td><td>2.14</td><td>vugc1</td><td>9</td><td>41</td><td>51</td><td>spec1d.vugc1.009.GCXL011.fits.gz</td><td>0.6393685</td><td>Star</td></tr>\n",
       "<tr><td>---</td><td>GCXL</td><td>N</td><td>---</td><td>187.26938</td><td>12.675</td><td>1265.91</td><td>10.11425</td><td>9.15</td><td>6.84</td><td>1.0</td><td>1251.6</td><td>9.15</td><td>6.84</td><td>-23.91</td><td>6.78</td><td>5.61</td><td>9.6</td><td>4.19</td><td>vugc1</td><td>11</td><td>16</td><td>26</td><td>spec1d.vugc1.011.GCXL013.fits.gz</td><td>0.83778</td><td>Star</td></tr>\n",
       "<tr><td>---</td><td>GCXL</td><td>N</td><td>---</td><td>187.0158</td><td>12.7225275</td><td>1397.37</td><td>7.2989125</td><td>5.45</td><td>7.26</td><td>1.0</td><td>1452.44</td><td>5.45</td><td>7.26</td><td>45.47</td><td>3.44</td><td>3.74</td><td>9.6</td><td>6.01</td><td>vugc1</td><td>12</td><td>12</td><td>22</td><td>spec1d.vugc1.012.GCXL015.fits.gz</td><td>0.8498808</td><td>Star</td></tr>\n",
       "<tr><td>---</td><td>GCXL</td><td>N</td><td>---</td><td>187.25525</td><td>12.648389</td><td>951.12</td><td>30.016117</td><td>12.48</td><td>16.38</td><td>1.0</td><td>943.01</td><td>12.48</td><td>16.38</td><td>-17.71</td><td>28.32</td><td>24.32</td><td>9.6</td><td>2.21</td><td>vugc1</td><td>14</td><td>60</td><td>70</td><td>spec1d.vugc1.014.GCXL017.fits.gz</td><td>0.57101935</td><td>Star</td></tr>\n",
       "<tr><td>---</td><td>GCBL</td><td>N</td><td>---</td><td>187.07175</td><td>12.729305</td><td>190.86</td><td>12.783288</td><td>3.2</td><td>4.53</td><td>1.0</td><td>220.64</td><td>3.2</td><td>4.53</td><td>20.18</td><td>13.53</td><td>10.84</td><td>9.6</td><td>7.97</td><td>vugc1</td><td>25</td><td>11</td><td>19</td><td>spec1d.vugc1.025.GCBL001.fits.gz</td><td>0.9511431</td><td>Star</td></tr>\n",
       "<tr><td>---</td><td>GCBL</td><td>N</td><td>---</td><td>187.27963</td><td>12.6585</td><td>-14.56</td><td>0.59682494</td><td>0.53</td><td>0.49</td><td>1.0</td><td>-35.26</td><td>0.53</td><td>0.49</td><td>-30.3</td><td>0.3</td><td>0.32</td><td>9.6</td><td>61.11</td><td>vugc1</td><td>29</td><td>48</td><td>58</td><td>spec1d.vugc1.029.GCBL007.fits.gz</td><td>0.98372805</td><td>Star</td></tr>\n",
       "<tr><td>---</td><td>GCBL</td><td>N</td><td>---</td><td>187.24742</td><td>12.637139</td><td>-55.26</td><td>5.19</td><td>4.92</td><td>5.46</td><td>1.0</td><td>-45.66</td><td>4.92</td><td>5.46</td><td>-8.24</td><td>29.95</td><td>48.57</td><td>9.6</td><td>7.79</td><td>vugc1</td><td>30</td><td>13</td><td>23</td><td>spec1d.vugc1.030.GCBL008.fits.gz</td><td>0.98111</td><td>Star</td></tr>\n",
       "<tr><td>---</td><td>GCXO</td><td>N</td><td>---</td><td>187.10078</td><td>12.674723</td><td>988.08</td><td>22.852507</td><td>10.37</td><td>11.94</td><td>1.0</td><td>897.41</td><td>10.37</td><td>11.94</td><td>-100.27</td><td>16.91</td><td>22.98</td><td>9.6</td><td>3.48</td><td>vugc1</td><td>34</td><td>92</td><td>102</td><td>spec1d.vugc1.034.GCXO0018.fits.gz</td><td>0.62906873</td><td>Star</td></tr>\n",
       "<tr><td>...</td><td>...</td><td>...</td><td>...</td><td>...</td><td>...</td><td>...</td><td>...</td><td>...</td><td>...</td><td>...</td><td>...</td><td>...</td><td>...</td><td>...</td><td>...</td><td>...</td><td>...</td><td>...</td><td>...</td><td>...</td><td>...</td><td>...</td><td>...</td><td>...</td><td>...</td></tr>\n",
       "<tr><td>---</td><td>SGR</td><td>N</td><td>---</td><td>185.79562</td><td>11.95625</td><td>-30.45</td><td>6.590131</td><td>4.42</td><td>7.3</td><td>1.0</td><td>-5.02</td><td>4.42</td><td>7.3</td><td>16.23</td><td>2.9</td><td>3.13</td><td>9.2</td><td>5.03</td><td>vugc6</td><td>49</td><td>81</td><td>91</td><td>spec1d.vugc6.049.SGR0039.fits.gz</td><td>0.9818989</td><td>Star</td></tr>\n",
       "<tr><td>---</td><td>SGR</td><td>N</td><td>---</td><td>185.85175</td><td>12.10025</td><td>-48.3</td><td>4.3181043</td><td>5.08</td><td>2.88</td><td>1.0</td><td>-30.82</td><td>5.08</td><td>2.88</td><td>8.28</td><td>1.53</td><td>1.82</td><td>9.2</td><td>14.49</td><td>vugc6</td><td>50</td><td>112</td><td>120</td><td>spec1d.vugc6.050.SGR0044.fits.gz</td><td>0.9807099</td><td>Star</td></tr>\n",
       "<tr><td>---</td><td>SGR</td><td>N</td><td>---</td><td>185.80034</td><td>11.969306</td><td>-35.15</td><td>5.4065537</td><td>4.37</td><td>5.56</td><td>1.0</td><td>6.67</td><td>4.37</td><td>5.56</td><td>32.62</td><td>2.34</td><td>1.94</td><td>9.2</td><td>12.16</td><td>vugc6</td><td>51</td><td>67</td><td>77</td><td>spec1d.vugc6.051.SGR0085.fits.gz</td><td>0.9816347</td><td>Star</td></tr>\n",
       "<tr><td>---</td><td>SGR</td><td>N</td><td>---</td><td>185.78845</td><td>12.026778</td><td>-67.46</td><td>3.761396</td><td>3.67</td><td>3.53</td><td>1.0</td><td>-37.48</td><td>3.67</td><td>3.53</td><td>20.78</td><td>0.92</td><td>1.26</td><td>9.2</td><td>17.71</td><td>vugc6</td><td>52</td><td>21</td><td>29</td><td>spec1d.vugc6.052.SGR0105.fits.gz</td><td>0.9788053</td><td>Star</td></tr>\n",
       "<tr><td>---</td><td>SGR</td><td>N</td><td>---</td><td>185.84895</td><td>12.092112</td><td>-18.66</td><td>17.332441</td><td>15.33</td><td>17.21</td><td>1.0</td><td>-15.34</td><td>15.33</td><td>17.21</td><td>-5.88</td><td>6.04</td><td>5.91</td><td>9.2</td><td>5.06</td><td>vugc6</td><td>53</td><td>8</td><td>16</td><td>spec1d.vugc6.053.SGR0118.fits.gz</td><td>0.98242027</td><td>Star</td></tr>\n",
       "<tr><td>---</td><td>SGR</td><td>N</td><td>---</td><td>185.88054</td><td>12.135028</td><td>29.33</td><td>10.8752985</td><td>12.75</td><td>7.42</td><td>1.0</td><td>43.62</td><td>12.75</td><td>7.42</td><td>5.09</td><td>4.17</td><td>3.97</td><td>9.2</td><td>4.11</td><td>vugc6</td><td>54</td><td>8</td><td>16</td><td>spec1d.vugc6.054.SGR0123.fits.gz</td><td>0.9826581</td><td>Star</td></tr>\n",
       "<tr><td>---</td><td>SGR</td><td>N</td><td>---</td><td>185.74037</td><td>11.945056</td><td>81.2</td><td>3.226612</td><td>3.06</td><td>3.14</td><td>1.0</td><td>134.32</td><td>3.06</td><td>3.14</td><td>43.92</td><td>0.96</td><td>0.83</td><td>9.2</td><td>19.33</td><td>vugc6</td><td>55</td><td>62</td><td>72</td><td>spec1d.vugc6.055.SGR0130.fits.gz</td><td>0.9793355</td><td>Star</td></tr>\n",
       "<tr><td>---</td><td>SER</td><td>N</td><td>---</td><td>185.8101</td><td>12.019183</td><td>-47.68</td><td>7.958574</td><td>5.6</td><td>9.0</td><td>1.0</td><td>-21.63</td><td>5.6</td><td>9.0</td><td>16.85</td><td>3.69</td><td>2.65</td><td>9.2</td><td>3.45</td><td>vugc6</td><td>56</td><td>46</td><td>53</td><td>spec1d.vugc6.056.serendip1.fits.gz</td><td>0.98076</td><td>Star</td></tr>\n",
       "<tr><td>---</td><td>SGR</td><td>N</td><td>---</td><td>185.78558</td><td>12.031584</td><td>72.83</td><td>7.6939</td><td>2.39</td><td>5.21</td><td>1.0</td><td>92.59</td><td>2.39</td><td>5.21</td><td>10.56</td><td>6.03</td><td>7.35</td><td>9.2</td><td>5.99</td><td>vugc6</td><td>58</td><td>58</td><td>66</td><td>spec1d.vugc6.058.SGR0175.fits.gz</td><td>0.9801772</td><td>Star</td></tr>\n",
       "<tr><td>---</td><td>SGR</td><td>N</td><td>---</td><td>185.72034</td><td>11.928528</td><td>-54.81</td><td>7.384176</td><td>8.65</td><td>5.06</td><td>1.0</td><td>6.45</td><td>8.65</td><td>5.06</td><td>52.06</td><td>2.75</td><td>2.74</td><td>9.2</td><td>4.62</td><td>vugc6</td><td>59</td><td>297</td><td>307</td><td>spec1d.vugc6.059.SGR0179.fits.gz</td><td>0.98014235</td><td>Star</td></tr>\n",
       "</table>"
      ],
      "text/plain": [
       "<Table length=72>\n",
       "  VCC   TARGTYPE GCSAT  ...             SPEC1DNAME             Probability Type\n",
       "bytes10  bytes7  bytes2 ...              bytes40                 float32   str4\n",
       "------- -------- ------ ... ---------------------------------- ----------- ----\n",
       "VCC1148      NUC      N ...    spec1d.vugc1.000.NUC001.fits.gz  0.84855264 Star\n",
       "    ---     GCXL      N ...   spec1d.vugc1.007.GCXL008.fits.gz   0.9999366 Star\n",
       "    ---     GCXL      N ...   spec1d.vugc1.009.GCXL011.fits.gz   0.6393685 Star\n",
       "    ---     GCXL      N ...   spec1d.vugc1.011.GCXL013.fits.gz     0.83778 Star\n",
       "    ---     GCXL      N ...   spec1d.vugc1.012.GCXL015.fits.gz   0.8498808 Star\n",
       "    ---     GCXL      N ...   spec1d.vugc1.014.GCXL017.fits.gz  0.57101935 Star\n",
       "    ---     GCBL      N ...   spec1d.vugc1.025.GCBL001.fits.gz   0.9511431 Star\n",
       "    ---     GCBL      N ...   spec1d.vugc1.029.GCBL007.fits.gz  0.98372805 Star\n",
       "    ---     GCBL      N ...   spec1d.vugc1.030.GCBL008.fits.gz     0.98111 Star\n",
       "    ---     GCXO      N ...  spec1d.vugc1.034.GCXO0018.fits.gz  0.62906873 Star\n",
       "    ...      ...    ... ...                                ...         ...  ...\n",
       "    ---      SGR      N ...   spec1d.vugc6.049.SGR0039.fits.gz   0.9818989 Star\n",
       "    ---      SGR      N ...   spec1d.vugc6.050.SGR0044.fits.gz   0.9807099 Star\n",
       "    ---      SGR      N ...   spec1d.vugc6.051.SGR0085.fits.gz   0.9816347 Star\n",
       "    ---      SGR      N ...   spec1d.vugc6.052.SGR0105.fits.gz   0.9788053 Star\n",
       "    ---      SGR      N ...   spec1d.vugc6.053.SGR0118.fits.gz  0.98242027 Star\n",
       "    ---      SGR      N ...   spec1d.vugc6.054.SGR0123.fits.gz   0.9826581 Star\n",
       "    ---      SGR      N ...   spec1d.vugc6.055.SGR0130.fits.gz   0.9793355 Star\n",
       "    ---      SER      N ... spec1d.vugc6.056.serendip1.fits.gz     0.98076 Star\n",
       "    ---      SGR      N ...   spec1d.vugc6.058.SGR0175.fits.gz   0.9801772 Star\n",
       "    ---      SGR      N ...   spec1d.vugc6.059.SGR0179.fits.gz  0.98014235 Star"
      ]
     },
     "execution_count": 15,
     "metadata": {},
     "output_type": "execute_result"
    }
   ],
   "source": [
    "VUGC1"
   ]
  },
  {
   "cell_type": "code",
   "execution_count": null,
   "metadata": {},
   "outputs": [],
   "source": []
  }
 ],
 "metadata": {
  "kernelspec": {
   "display_name": "Python 3",
   "language": "python",
   "name": "python3"
  },
  "language_info": {
   "codemirror_mode": {
    "name": "ipython",
    "version": 3
   },
   "file_extension": ".py",
   "mimetype": "text/x-python",
   "name": "python",
   "nbconvert_exporter": "python",
   "pygments_lexer": "ipython3",
   "version": "3.7.3"
  }
 },
 "nbformat": 4,
 "nbformat_minor": 2
}
