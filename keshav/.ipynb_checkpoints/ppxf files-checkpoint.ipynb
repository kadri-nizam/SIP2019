{
 "cells": [
  {
   "cell_type": "code",
   "execution_count": 51,
   "metadata": {},
   "outputs": [],
   "source": [
    "import webbrowser\n",
    "import matplotlib.pyplot as plt\n",
    "import matplotlib.image as mpimg\n",
    "import numpy as np\n",
    "from astropy.table import Table, vstack, Column\n",
    "import os\n",
    "from os import listdir\n",
    "from os.path import isfile, join\n",
    "import subprocess\n",
    "import shutil"
   ]
  },
  {
   "cell_type": "code",
   "execution_count": 52,
   "metadata": {},
   "outputs": [
    {
     "data": {
      "text/plain": [
       "True"
      ]
     },
     "execution_count": 52,
     "metadata": {},
     "output_type": "execute_result"
    }
   ],
   "source": [
    "pathVDGC = './../lib/ppxf/VDGC'\n",
    "pathVUGC = './../lib/ppxf/VUGC'\n",
    "\n",
    "\n",
    "webbrowser.open_new_tab('file:///Users/Keshav/Documents/GitHub/SIP2019/lib/ppxf/VDGC/spec1d.vdgc1.000.alg42.fits.pdf')"
   ]
  },
  {
   "cell_type": "code",
   "execution_count": 53,
   "metadata": {},
   "outputs": [
    {
     "data": {
      "text/plain": [
       "533"
      ]
     },
     "execution_count": 53,
     "metadata": {},
     "output_type": "execute_result"
    }
   ],
   "source": [
    "files = []\n",
    "for filename in os.listdir(pathVDGC):\n",
    "    files.append(filename)\n",
    "len(files)"
   ]
  },
  {
   "cell_type": "code",
   "execution_count": 55,
   "metadata": {},
   "outputs": [
    {
     "data": {
      "text/plain": [
       "[]"
      ]
     },
     "execution_count": 55,
     "metadata": {},
     "output_type": "execute_result"
    }
   ],
   "source": [
    "fileRating = []\n",
    "fileRating"
   ]
  },
  {
   "cell_type": "code",
   "execution_count": 66,
   "metadata": {},
   "outputs": [],
   "source": [
    "for i in range (360, 361):\n",
    "    webbrowser.open_new_tab('file:///Users/Keshav/Documents/GitHub/SIP2019/lib/ppxf/VDGC/' + files[i])"
   ]
  },
  {
   "cell_type": "code",
   "execution_count": 72,
   "metadata": {},
   "outputs": [
    {
     "name": "stdout",
     "output_type": "stream",
     "text": [
      "What is the rating?1\n",
      "What is the rating?0\n",
      "What is the rating?0\n",
      "What is the rating?1\n",
      "What is the rating?0.5\n",
      "What is the rating?0\n",
      "What is the rating?0\n",
      "What is the rating?1\n",
      "What is the rating?0.5\n",
      "What is the rating?1\n",
      "What is the rating?1\n",
      "What is the rating?0\n",
      "What is the rating?0.5\n",
      "What is the rating?0\n",
      "What is the rating?1\n",
      "What is the rating?1\n",
      "What is the rating?1\n",
      "What is the rating?1\n",
      "What is the rating?1\n",
      "What is the rating?1\n",
      "What is the rating?1\n",
      "What is the rating?1\n",
      "What is the rating?1\n",
      "What is the rating?0\n",
      "What is the rating?1\n",
      "What is the rating?0\n",
      "What is the rating?0.5\n",
      "What is the rating?1\n",
      "What is the rating?1\n",
      "What is the rating?2\n",
      "What is the rating?1\n",
      "What is the rating?1\n",
      "What is the rating?1\n",
      "What is the rating?1\n",
      "What is the rating?0\n",
      "What is the rating?1\n",
      "What is the rating?0\n",
      "What is the rating?1\n",
      "What is the rating?1\n",
      "What is the rating?1\n",
      "What is the rating?1\n",
      "What is the rating?2\n",
      "What is the rating?1\n",
      "What is the rating?1\n",
      "What is the rating?1\n",
      "What is the rating?1\n",
      "What is the rating?2\n",
      "What is the rating?0\n",
      "What is the rating?1\n",
      "What is the rating?1\n",
      "What is the rating?1\n",
      "What is the rating?1\n",
      "What is the rating?2\n",
      "What is the rating?1\n",
      "What is the rating?1\n",
      "What is the rating?0.5\n",
      "What is the rating?0.5\n",
      "What is the rating?2\n",
      "What is the rating?0.5\n",
      "What is the rating?0\n",
      "What is the rating?0.5\n",
      "What is the rating?1\n",
      "What is the rating?0.5\n",
      "What is the rating?2\n",
      "What is the rating?1\n",
      "What is the rating?1\n",
      "What is the rating?0\n",
      "What is the rating?0\n",
      "What is the rating?0\n",
      "What is the rating?0.6\n",
      "What is the rating?0.5\n",
      "What is the rating?1\n",
      "What is the rating?1\n",
      "What is the rating?1\n",
      "What is the rating?1\n",
      "What is the rating?0.5\n",
      "What is the rating?1\n",
      "What is the rating?1\n",
      "What is the rating?1\n",
      "What is the rating?1\n",
      "What is the rating?1\n",
      "What is the rating?1\n",
      "What is the rating?1\n",
      "What is the rating?1\n",
      "What is the rating?0\n",
      "What is the rating?2\n",
      "What is the rating?0.5\n",
      "What is the rating?0.5\n",
      "What is the rating?1\n",
      "What is the rating?1\n",
      "What is the rating?1\n",
      "What is the rating?0.5\n",
      "What is the rating?0\n",
      "What is the rating?0.5\n",
      "What is the rating?1\n",
      "What is the rating?1\n",
      "What is the rating?1\n",
      "What is the rating?1\n",
      "What is the rating?1\n",
      "What is the rating?1\n",
      "What is the rating?0\n",
      "What is the rating?0.5\n",
      "What is the rating?0\n",
      "What is the rating?1\n",
      "What is the rating?1\n",
      "What is the rating?1\n",
      "What is the rating?0\n",
      "What is the rating?0\n",
      "What is the rating?0.5\n",
      "What is the rating?0\n",
      "What is the rating?2\n",
      "What is the rating?1\n",
      "What is the rating?1\n",
      "What is the rating?1\n",
      "What is the rating?1\n",
      "What is the rating?0\n",
      "What is the rating?1\n",
      "What is the rating?0\n",
      "What is the rating?1\n",
      "What is the rating?1\n",
      "What is the rating?2\n",
      "What is the rating?1\n",
      "What is the rating?0\n",
      "What is the rating?1\n"
     ]
    }
   ],
   "source": [
    "for i in range (362, 486):\n",
    "    webbrowser.open_new_tab('file:///Users/Keshav/Documents/GitHub/SIP2019/lib/ppxf/VDGC/' + files[i])\n",
    "    rating = input('What is the rating?')\n",
    "    fileRating.append(rating)\n",
    "        \n",
    "\n"
   ]
  },
  {
   "cell_type": "code",
   "execution_count": 76,
   "metadata": {},
   "outputs": [],
   "source": [
    "a = fileRating"
   ]
  },
  {
   "cell_type": "code",
   "execution_count": 78,
   "metadata": {},
   "outputs": [
    {
     "data": {
      "text/plain": [
       "178"
      ]
     },
     "execution_count": 78,
     "metadata": {},
     "output_type": "execute_result"
    }
   ],
   "source": [
    "len(a)"
   ]
  },
  {
   "cell_type": "code",
   "execution_count": 81,
   "metadata": {},
   "outputs": [],
   "source": [
    "j = 0\n",
    "for i in range (307, 486):\n",
    "    if (fileRating[j - 1] == 0):\n",
    "        shutil.move(pathVDGC + '/' + files[i], pathVDGC + '/bad')\n",
    "    elif (fileRating[j - 1] == 0.5):\n",
    "        shutil.move(pathVDGC + '/' + files[i], pathVDGC + '/uncertain')\n",
    "    elif (fileRating[j - 1] == 1):\n",
    "        shutil.move(pathVDGC + '/' + files[i], pathVDGC + '/good')\n",
    "    elif(fileRating[j - 1] == 2):\n",
    "        shutil.move(pathVDGC + '/' + files[i], pathVDGC + '/inspect')\n",
    "    j = j + 1"
   ]
  },
  {
   "cell_type": "code",
   "execution_count": 40,
   "metadata": {},
   "outputs": [
    {
     "data": {
      "text/plain": [
       "'/Users/Keshav/Documents/GitHub/SIP2019/keshav'"
      ]
     },
     "execution_count": 40,
     "metadata": {},
     "output_type": "execute_result"
    }
   ],
   "source": [
    "%pwd"
   ]
  },
  {
   "cell_type": "code",
   "execution_count": null,
   "metadata": {},
   "outputs": [],
   "source": []
  }
 ],
 "metadata": {
  "kernelspec": {
   "display_name": "Python 3",
   "language": "python",
   "name": "python3"
  },
  "language_info": {
   "codemirror_mode": {
    "name": "ipython",
    "version": 3
   },
   "file_extension": ".py",
   "mimetype": "text/x-python",
   "name": "python",
   "nbconvert_exporter": "python",
   "pygments_lexer": "ipython3",
   "version": "3.7.3"
  }
 },
 "nbformat": 4,
 "nbformat_minor": 2
}
