{
 "cells": [
  {
   "cell_type": "markdown",
   "metadata": {},
   "source": [
    "# Initializations"
   ]
  },
  {
   "cell_type": "code",
   "execution_count": 1,
   "metadata": {},
   "outputs": [],
   "source": [
    "from astropy.table import Table, vstack\n",
    "from astropy.io import ascii\n",
    "import numpy as np"
   ]
  },
  {
   "cell_type": "code",
   "execution_count": 2,
   "metadata": {
    "scrolled": true
   },
   "outputs": [
    {
     "data": {
      "text/plain": [
       "'/Users/kmohamad/Documents/GitHub/SIP2019/Kadri'"
      ]
     },
     "execution_count": 2,
     "metadata": {},
     "output_type": "execute_result"
    }
   ],
   "source": [
    "%pwd"
   ]
  },
  {
   "cell_type": "code",
   "execution_count": 3,
   "metadata": {
    "scrolled": true
   },
   "outputs": [
    {
     "name": "stdout",
     "output_type": "stream",
     "text": [
      "total 736\r\n",
      "drwxr-xr-x@ 13 kmohamad  staff   416B Jun 25 23:05 \u001b[34m.\u001b[m\u001b[m/\r\n",
      "drwxr-xr-x  14 kmohamad  staff   448B Jun 25 17:28 \u001b[34m..\u001b[m\u001b[m/\r\n",
      "-rw-r--r--@  1 kmohamad  staff   6.0K Jun 24 13:30 .DS_Store\r\n",
      "drwxr-xr-x@  2 kmohamad  staff    64B Oct  6  2018 \u001b[34m.ipynb_checkpoints\u001b[m\u001b[m/\r\n",
      "-rw-r--r--@  1 kmohamad  staff    20K Sep 28  2018 SelectGCsTrue2.fits\r\n",
      "-rw-r--r--@  1 kmohamad  staff   8.4K Sep 28  2018 SelectGCsTrue_kinematic_prob.fits\r\n",
      "-rw-r--r--@  1 kmohamad  staff    11K Sep 28  2018 VDGC_kinematic_prob.fits\r\n",
      "-rw-r--r--@  1 kmohamad  staff   3.0K Sep 26  2018 VDGC_pPXF_2017.README\r\n",
      "-rw-r--r--@  1 kmohamad  staff   149K Sep 26  2018 VDGC_pPXF_2017_v2.fits\r\n",
      "-rw-r--r--@  1 kmohamad  staff   2.7K Sep 26  2018 VUGC_pPXF_2017.README\r\n",
      "-rw-r--r--@  1 kmohamad  staff    34K Sep 26  2018 VUGC_pPXF_2017_v2.fits\r\n",
      "-rw-r--r--@  1 kmohamad  staff    92K Oct  2  2018 nuc.dat\r\n",
      "-rw-r--r--@  1 kmohamad  staff    23K Sep 28  2018 orphanGCs.fits\r\n"
     ]
    }
   ],
   "source": [
    "%ls -alh ./../catalogs"
   ]
  },
  {
   "cell_type": "code",
   "execution_count": 4,
   "metadata": {},
   "outputs": [],
   "source": [
    "working_dir = '/Users/kmohamad/Documents/GitHub/SIP2019/'"
   ]
  },
  {
   "cell_type": "markdown",
   "metadata": {},
   "source": [
    "# The Catalogs"
   ]
  },
  {
   "cell_type": "code",
   "execution_count": 5,
   "metadata": {},
   "outputs": [],
   "source": [
    "main = {\n",
    "    'VDGC':Table.read(working_dir + 'catalogs/VDGC_pPXF_2017_v2.fits'),\n",
    "    'VUGC':Table.read(working_dir + 'catalogs/VUGC_pPXF_2017_v2.fits')\n",
    "}\n",
    "\n",
    "main_ref = {\n",
    "    'VDGC_K':Table.read(working_dir + 'catalogs/VDGC_kinematic_prob.fits'),\n",
    "    'VDGC_O':Table.read(working_dir + 'catalogs/orphanGCs.fits'),\n",
    "    'VUGC_K':Table.read(working_dir + 'catalogs/SelectGCsTrue_kinematic_prob.fits'),\n",
    "    'VUGC_O':Table.read(working_dir + 'catalogs/SelectGCsTrue2.fits'),\n",
    "    'NUC':ascii.read(working_dir + 'catalogs/nuc.dat')\n",
    "}"
   ]
  },
  {
   "cell_type": "code",
   "execution_count": 6,
   "metadata": {},
   "outputs": [
    {
     "name": "stdout",
     "output_type": "stream",
     "text": [
      "VDGC: 27 VUGC: 24\n"
     ]
    }
   ],
   "source": [
    "print(\n",
    "    'VDGC:', str(len(main['VDGC'].colnames)), \n",
    "    'VUGC:', str(len(main['VUGC'].colnames))\n",
    ")"
   ]
  },
  {
   "cell_type": "code",
   "execution_count": 7,
   "metadata": {},
   "outputs": [
    {
     "data": {
      "text/plain": [
       "{'KECKID',\n",
       " 'ZERR',\n",
       " 'ZERR_ne',\n",
       " 'ZERR_pe',\n",
       " 'ZHEL',\n",
       " 'ZOBS',\n",
       " 'ZOBS_ne',\n",
       " 'ZOBS_pe',\n",
       " 'ZQUAL',\n",
       " 'ZSPECNUM'}"
      ]
     },
     "execution_count": 7,
     "metadata": {},
     "output_type": "execute_result"
    }
   ],
   "source": [
    "set(main['VDGC'].colnames).difference(set(main['VUGC'].colnames))"
   ]
  },
  {
   "cell_type": "code",
   "execution_count": 8,
   "metadata": {},
   "outputs": [
    {
     "data": {
      "text/plain": [
       "{'VERR', 'VERR_ne', 'VERR_pe', 'VHEL', 'VOBS', 'VOBS_ne', 'VOBS_pe'}"
      ]
     },
     "execution_count": 8,
     "metadata": {},
     "output_type": "execute_result"
    }
   ],
   "source": [
    "set(main['VUGC'].colnames).difference(set(main['VDGC'].colnames))"
   ]
  },
  {
   "cell_type": "code",
   "execution_count": 9,
   "metadata": {},
   "outputs": [],
   "source": [
    "columns_to_change = [\n",
    "    'ZERR', 'ZERR_ne', 'ZERR_pe', \n",
    "    'ZHEL', 'HELCOR',\n",
    "    'ZOBS', 'ZOBS_ne', 'ZOBS_pe',\n",
    "    'ABANDCOR', 'ABANDCOR_ne', 'ABANDCOR_pe'\n",
    "]\n",
    "\n",
    "for col in columns_to_change:\n",
    "    main['VDGC'][col] = main['VDGC'][col] * 3e+5\n",
    "    if col[0] is 'Z':\n",
    "        main['VDGC'].rename_column(col, 'V' + col[1:])   \n",
    "    \n",
    "main['VUGC']['KECKID'] = '---'\n",
    "main['VUGC']['ZQUAL'] = -101010\n",
    "main['VUGC']['ZSPECNUM'] = -101010"
   ]
  },
  {
   "cell_type": "code",
   "execution_count": 10,
   "metadata": {},
   "outputs": [],
   "source": [
    "for cat in ['VDGC', 'VUGC']:\n",
    "    main[cat]['NUCLEUS'] = '--------'\n",
    "    main[cat]['OBJ_TYPE'] = '--------'\n",
    "    main[cat]['OBJ_PROB'] = -1"
   ]
  },
  {
   "cell_type": "code",
   "execution_count": 11,
   "metadata": {},
   "outputs": [],
   "source": [
    "for cat in main:\n",
    "    main[cat] = main[cat][sorted(main[cat].colnames)]"
   ]
  },
  {
   "cell_type": "markdown",
   "metadata": {},
   "source": [
    "# Prepping Sub-Catalogs\n"
   ]
  },
  {
   "cell_type": "code",
   "execution_count": 12,
   "metadata": {},
   "outputs": [
    {
     "name": "stdout",
     "output_type": "stream",
     "text": [
      "[{1.0}, {1.0}]\n"
     ]
    }
   ],
   "source": [
    "for cat in main:\n",
    "    main[cat] = main[cat][main[cat]['ZCONF'] == 1]\n",
    "\n",
    "print([set(main[cat]['ZCONF']) for cat in main])"
   ]
  },
  {
   "cell_type": "markdown",
   "metadata": {},
   "source": [
    "### DE and UDG GC Satellites"
   ]
  },
  {
   "cell_type": "code",
   "execution_count": 13,
   "metadata": {},
   "outputs": [],
   "source": [
    "DE_GC = main['VDGC'][main['VDGC']['GCSAT'] == 'Y']\n",
    "UDG_GC = main['VUGC'][main['VUGC']['GCSAT'] == 'Y']\n",
    "\n",
    "non_udg = (UDG_GC['HOST'] != 'VLSB-B') & (UDG_GC['HOST'] != 'VLSB-D') & (UDG_GC['HOST'] != 'VCC0615')\n",
    "\n",
    "DE_GC = vstack([DE_GC, UDG_GC[non_udg]])\n",
    "UDG_GC.remove_rows(np.nonzero(non_udg))\n",
    "\n",
    "DE_GC['OBJ_TYPE'] = 'DE_GC'\n",
    "DE_GC['OBJ_PROB'] = 1\n",
    "UDG_GC['OBJ_TYPE'] = 'UDG_GC'\n",
    "UDG_GC['OBJ_PROB'] = 1"
   ]
  },
  {
   "cell_type": "markdown",
   "metadata": {},
   "source": [
    "### IGC, M87 GC, and Milky Way Stars"
   ]
  },
  {
   "cell_type": "code",
   "execution_count": 14,
   "metadata": {},
   "outputs": [],
   "source": [
    "def getGCType(catalog):\n",
    "    df = catalog.to_pandas()\n",
    "    obj_type = df.idxmax(axis = 1)\n",
    "    probability = df.apply(max, axis = 1)\n",
    "    \n",
    "    obj_type[obj_type == 'p_star_V'] = 'Star'\n",
    "    obj_type[obj_type == 'p_ICL_V'] = 'IGC'\n",
    "    obj_type[obj_type == 'p_halo_V'] = 'M87_GC'\n",
    "    \n",
    "    return list(obj_type), list(probability)"
   ]
  },
  {
   "cell_type": "code",
   "execution_count": 15,
   "metadata": {},
   "outputs": [
    {
     "name": "stdout",
     "output_type": "stream",
     "text": [
      "{'spec1d.vugc1.044.GCXO0504.fits.gz'}\n"
     ]
    }
   ],
   "source": [
    "non_sat = {\n",
    "    'VDGC':main['VDGC'][main['VDGC']['GCSAT'] != 'Y'],\n",
    "    'VUGC':main['VUGC'][main['VUGC']['GCSAT'] != 'Y']    \n",
    "}\n",
    "\n",
    "obj = {}\n",
    "prob = {}\n",
    "\n",
    "obj['VDGC'], prob['VDGC'] = getGCType(main_ref['VDGC_K'])\n",
    "obj['VUGC'], prob['VUGC'] = getGCType(main_ref['VUGC_K'])\n",
    "\n",
    "# One row is missing in the VUGC_O catalog. Add a row with UNK and -1 values for the particular SPEC1DNAME\n",
    "print(set(non_sat['VUGC']['SPEC1DNAME']).difference(set(main_ref['VUGC_O']['SPEC1DNAME'])))\n",
    "\n",
    "for cat in ['VDGC', 'VUGC']:\n",
    "    non_sat[cat].sort('SPEC1DNAME')\n",
    "    \n",
    "    temp = Table()\n",
    "    temp['SPEC1DNAME'] = main_ref[cat + '_O']['SPEC1DNAME']\n",
    "    temp['OBJ_TYPE'] = obj[cat]\n",
    "    temp['OBJ_PROB'] = prob[cat]\n",
    "    \n",
    "    if cat is 'VUGC':\n",
    "        temp.add_row(['spec1d.vugc1.044.GCXO0504.fits.gz', 'UNK', -1])\n",
    "    \n",
    "    temp.sort('SPEC1DNAME')\n",
    "\n",
    "    non_sat[cat]['OBJ_TYPE'] = temp['OBJ_TYPE']\n",
    "    non_sat[cat]['OBJ_PROB'] = temp['OBJ_PROB']"
   ]
  },
  {
   "cell_type": "markdown",
   "metadata": {},
   "source": [
    "### Identifying Nuclei"
   ]
  },
  {
   "cell_type": "code",
   "execution_count": 16,
   "metadata": {
    "scrolled": true
   },
   "outputs": [],
   "source": [
    "ind = np.where(non_sat['VDGC']['VCC'] != '---')\n",
    "\n",
    "DE_NUC = non_sat['VDGC'][ind].copy()\n",
    "DE_NUC.sort('SPEC1DNAME')\n",
    "DE_NUC['OBJ_TYPE'] = 'DE_NUC'\n",
    "DE_NUC['OBJ_PROB'] = 1\n",
    "DE_NUC['NUCLEUS'] = main_ref['NUC']['Nucleus']\n",
    "\n",
    "non_sat['VDGC'].remove_rows(ind)"
   ]
  },
  {
   "cell_type": "code",
   "execution_count": 17,
   "metadata": {},
   "outputs": [],
   "source": [
    "ind = np.where(non_sat['VUGC']['TARGTYPE'] == 'NUC')\n",
    "non_sat['VUGC']['NUCLEUS'][ind] = 1"
   ]
  },
  {
   "cell_type": "markdown",
   "metadata": {},
   "source": [
    "### A Unified Catalog"
   ]
  },
  {
   "cell_type": "code",
   "execution_count": 18,
   "metadata": {},
   "outputs": [],
   "source": [
    "catalog = vstack([\n",
    "    DE_GC, \n",
    "    UDG_GC, \n",
    "    non_sat['VDGC'], \n",
    "    non_sat['VUGC'],\n",
    "    DE_NUC\n",
    "])"
   ]
  },
  {
   "cell_type": "code",
   "execution_count": 21,
   "metadata": {},
   "outputs": [],
   "source": [
    "# catalog.write('sip_catalog.csv', format = 'csv')"
   ]
  }
 ],
 "metadata": {
  "kernelspec": {
   "display_name": "Python 3",
   "language": "python",
   "name": "python3"
  },
  "language_info": {
   "codemirror_mode": {
    "name": "ipython",
    "version": 3
   },
   "file_extension": ".py",
   "mimetype": "text/x-python",
   "name": "python",
   "nbconvert_exporter": "python",
   "pygments_lexer": "ipython3",
   "version": "3.7.1"
  }
 },
 "nbformat": 4,
 "nbformat_minor": 2
}
