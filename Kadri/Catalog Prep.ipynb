{
 "cells": [
  {
   "cell_type": "markdown",
   "metadata": {},
   "source": [
    "# Initializations"
   ]
  },
  {
   "cell_type": "code",
   "execution_count": 1,
   "metadata": {},
   "outputs": [],
   "source": [
    "from astropy.table import Table, vstack\n",
    "from astropy.io import ascii\n",
    "import numpy as np\n",
    "\n",
    "working_dir = '/Users/kmohamad/Documents/GitHub/SIP2019/'"
   ]
  },
  {
   "cell_type": "markdown",
   "metadata": {},
   "source": [
    "# The Catalogs"
   ]
  },
  {
   "cell_type": "code",
   "execution_count": 2,
   "metadata": {},
   "outputs": [],
   "source": [
    "main = {\n",
    "    'VDGC':Table.read(working_dir + 'catalogs/VDGC_pPXF_2017_v2.fits'),\n",
    "    'VUGC':Table.read(working_dir + 'catalogs/VUGC_pPXF_2017_v2.fits')\n",
    "}\n",
    "\n",
    "main_ref = {\n",
    "    'VDGC_K':Table.read(working_dir + 'catalogs/VDGC_kinematic_prob.fits'),\n",
    "    'VDGC_O':Table.read(working_dir + 'catalogs/orphanGCs.fits'),\n",
    "    'VUGC_K':Table.read(working_dir + 'catalogs/SelectGCsTrue_kinematic_prob.fits'),\n",
    "    'VUGC_O':Table.read(working_dir + 'catalogs/SelectGCsTrue2.fits'),\n",
    "    'NUC':ascii.read(working_dir + 'catalogs/nuc.dat')\n",
    "}"
   ]
  },
  {
   "cell_type": "code",
   "execution_count": 3,
   "metadata": {},
   "outputs": [
    {
     "name": "stdout",
     "output_type": "stream",
     "text": [
      "VDGC: 27 VUGC: 24\n"
     ]
    }
   ],
   "source": [
    "print(\n",
    "    'VDGC:', str(len(main['VDGC'].colnames)), \n",
    "    'VUGC:', str(len(main['VUGC'].colnames))\n",
    ")"
   ]
  },
  {
   "cell_type": "code",
   "execution_count": 4,
   "metadata": {},
   "outputs": [
    {
     "data": {
      "text/plain": [
       "{'KECKID',\n",
       " 'ZERR',\n",
       " 'ZERR_ne',\n",
       " 'ZERR_pe',\n",
       " 'ZHEL',\n",
       " 'ZOBS',\n",
       " 'ZOBS_ne',\n",
       " 'ZOBS_pe',\n",
       " 'ZQUAL',\n",
       " 'ZSPECNUM'}"
      ]
     },
     "execution_count": 4,
     "metadata": {},
     "output_type": "execute_result"
    }
   ],
   "source": [
    "set(main['VDGC'].colnames).difference(set(main['VUGC'].colnames))"
   ]
  },
  {
   "cell_type": "code",
   "execution_count": 5,
   "metadata": {},
   "outputs": [
    {
     "data": {
      "text/plain": [
       "{'VERR', 'VERR_ne', 'VERR_pe', 'VHEL', 'VOBS', 'VOBS_ne', 'VOBS_pe'}"
      ]
     },
     "execution_count": 5,
     "metadata": {},
     "output_type": "execute_result"
    }
   ],
   "source": [
    "set(main['VUGC'].colnames).difference(set(main['VDGC'].colnames))"
   ]
  },
  {
   "cell_type": "code",
   "execution_count": 6,
   "metadata": {},
   "outputs": [],
   "source": [
    "columns_to_change = [\n",
    "    'ZERR', 'ZERR_ne', 'ZERR_pe', \n",
    "    'ZHEL', 'HELCOR',\n",
    "    'ZOBS', 'ZOBS_ne', 'ZOBS_pe',\n",
    "    'ABANDCOR', 'ABANDCOR_ne', 'ABANDCOR_pe'\n",
    "]\n",
    "\n",
    "for col in columns_to_change:\n",
    "    main['VDGC'][col] = main['VDGC'][col] * 3e+5\n",
    "    if col[0] is 'Z':\n",
    "        main['VDGC'].rename_column(col, 'V' + col[1:])   \n",
    "    \n",
    "main['VUGC']['KECKID'] = '---'\n",
    "main['VUGC']['ZQUAL'] = -101010\n",
    "main['VUGC']['ZSPECNUM'] = -101010\n",
    "\n",
    "main['VDGC']['CATALOG'] = 'VDGC'\n",
    "main['VUGC']['CATALOG'] = 'VUGC'"
   ]
  },
  {
   "cell_type": "code",
   "execution_count": 7,
   "metadata": {},
   "outputs": [],
   "source": [
    "for cat in ['VDGC', 'VUGC']:\n",
    "    main[cat]['NUCLEUS'] = '--------'\n",
    "    main[cat]['OBJ_TYPE'] = '--------'\n",
    "    main[cat]['OBJ_PROB'] = -1"
   ]
  },
  {
   "cell_type": "code",
   "execution_count": 8,
   "metadata": {},
   "outputs": [],
   "source": [
    "for cat in main:\n",
    "    main[cat] = main[cat][sorted(main[cat].colnames)]"
   ]
  },
  {
   "cell_type": "markdown",
   "metadata": {},
   "source": [
    "# Prepping Sub-Catalogs\n"
   ]
  },
  {
   "cell_type": "code",
   "execution_count": 9,
   "metadata": {},
   "outputs": [
    {
     "name": "stdout",
     "output_type": "stream",
     "text": [
      "[{1.0}, {1.0}]\n"
     ]
    }
   ],
   "source": [
    "for cat in main:\n",
    "    main[cat] = main[cat][main[cat]['ZCONF'] == 1]\n",
    "\n",
    "print([set(main[cat]['ZCONF']) for cat in main])"
   ]
  },
  {
   "cell_type": "markdown",
   "metadata": {},
   "source": [
    "### DE and UDG GC Satellites"
   ]
  },
  {
   "cell_type": "code",
   "execution_count": 10,
   "metadata": {},
   "outputs": [],
   "source": [
    "DE_GC = main['VDGC'][main['VDGC']['GCSAT'] == 'Y']\n",
    "UDG_GC = main['VUGC'][main['VUGC']['GCSAT'] == 'Y']\n",
    "\n",
    "non_udg = (UDG_GC['HOST'] != 'VLSB-B') & (UDG_GC['HOST'] != 'VLSB-D') & (UDG_GC['HOST'] != 'VCC0615')\n",
    "\n",
    "DE_GC = vstack([DE_GC, UDG_GC[non_udg]])\n",
    "UDG_GC.remove_rows(np.nonzero(non_udg))\n",
    "\n",
    "DE_GC['OBJ_TYPE'] = 'DE_GC'\n",
    "DE_GC['OBJ_PROB'] = 1\n",
    "UDG_GC['OBJ_TYPE'] = 'UDG_GC'\n",
    "UDG_GC['OBJ_PROB'] = 1"
   ]
  },
  {
   "cell_type": "markdown",
   "metadata": {},
   "source": [
    "### IGC, M87 GC, and Milky Way Stars"
   ]
  },
  {
   "cell_type": "code",
   "execution_count": 11,
   "metadata": {},
   "outputs": [],
   "source": [
    "def getGCType(catalog):\n",
    "    df = catalog.to_pandas()\n",
    "    obj_type = df.idxmax(axis = 1)\n",
    "    probability = df.apply(max, axis = 1)\n",
    "    \n",
    "    obj_type[obj_type == 'p_star_V'] = 'Star'\n",
    "    obj_type[obj_type == 'p_ICL_V'] = 'IGC'\n",
    "    obj_type[obj_type == 'p_halo_V'] = 'M87_GC'\n",
    "    \n",
    "    return list(obj_type), list(probability)"
   ]
  },
  {
   "cell_type": "code",
   "execution_count": 12,
   "metadata": {},
   "outputs": [
    {
     "name": "stdout",
     "output_type": "stream",
     "text": [
      "{'spec1d.vugc1.044.GCXO0504.fits.gz'}\n"
     ]
    }
   ],
   "source": [
    "non_sat = {\n",
    "    'VDGC':main['VDGC'][main['VDGC']['GCSAT'] != 'Y'],\n",
    "    'VUGC':main['VUGC'][main['VUGC']['GCSAT'] != 'Y']    \n",
    "}\n",
    "\n",
    "obj = {}\n",
    "prob = {}\n",
    "\n",
    "obj['VDGC'], prob['VDGC'] = getGCType(main_ref['VDGC_K'])\n",
    "obj['VUGC'], prob['VUGC'] = getGCType(main_ref['VUGC_K'])\n",
    "\n",
    "# One row is missing in the VUGC_O catalog. Add a row with UNK and -1 values for the particular SPEC1DNAME\n",
    "print(set(non_sat['VUGC']['SPEC1DNAME']).difference(set(main_ref['VUGC_O']['SPEC1DNAME'])))\n",
    "\n",
    "for cat in ['VDGC', 'VUGC']:\n",
    "    non_sat[cat].sort('SPEC1DNAME')\n",
    "    \n",
    "    temp = Table()\n",
    "    temp['SPEC1DNAME'] = main_ref[cat + '_O']['SPEC1DNAME']\n",
    "    temp['OBJ_TYPE'] = obj[cat]\n",
    "    temp['OBJ_PROB'] = prob[cat]\n",
    "    \n",
    "    if cat is 'VUGC':\n",
    "        temp.add_row(['spec1d.vugc1.044.GCXO0504.fits.gz', 'UNK', -1])\n",
    "    \n",
    "    temp.sort('SPEC1DNAME')\n",
    "\n",
    "    non_sat[cat]['OBJ_TYPE'] = temp['OBJ_TYPE']\n",
    "    non_sat[cat]['OBJ_PROB'] = temp['OBJ_PROB']"
   ]
  },
  {
   "cell_type": "markdown",
   "metadata": {},
   "source": [
    "### Identifying Nuclei"
   ]
  },
  {
   "cell_type": "code",
   "execution_count": 13,
   "metadata": {
    "scrolled": true
   },
   "outputs": [],
   "source": [
    "ind = np.where(non_sat['VDGC']['VCC'] != '---')\n",
    "\n",
    "DE_NUC = non_sat['VDGC'][ind].copy()\n",
    "DE_NUC.sort('SPEC1DNAME')\n",
    "DE_NUC['OBJ_TYPE'] = 'DE_NUC'\n",
    "DE_NUC['OBJ_PROB'] = 1\n",
    "DE_NUC['NUCLEUS'] = main_ref['NUC']['Nucleus']\n",
    "\n",
    "non_sat['VDGC'].remove_rows(ind)"
   ]
  },
  {
   "cell_type": "code",
   "execution_count": 14,
   "metadata": {},
   "outputs": [],
   "source": [
    "ind = np.where(non_sat['VUGC']['TARGTYPE'] == 'NUC')\n",
    "non_sat['VUGC']['NUCLEUS'][ind] = 1"
   ]
  },
  {
   "cell_type": "markdown",
   "metadata": {},
   "source": [
    "### A Unified Catalog"
   ]
  },
  {
   "cell_type": "code",
   "execution_count": 15,
   "metadata": {},
   "outputs": [],
   "source": [
    "catalog = vstack([\n",
    "    DE_GC, \n",
    "    UDG_GC, \n",
    "    non_sat['VDGC'], \n",
    "    non_sat['VUGC'],\n",
    "    DE_NUC\n",
    "])"
   ]
  },
  {
   "cell_type": "code",
   "execution_count": 16,
   "metadata": {},
   "outputs": [],
   "source": [
    "# catalog.write('sip_catalog.csv', format = 'csv', overwrite = True)"
   ]
  },
  {
   "cell_type": "code",
   "execution_count": 17,
   "metadata": {},
   "outputs": [
    {
     "data": {
      "text/plain": [
       "['ABANDCOR',\n",
       " 'ABANDCOR_ne',\n",
       " 'ABANDCOR_pe',\n",
       " 'CATALOG',\n",
       " 'DEC',\n",
       " 'GCSAT',\n",
       " 'HELCOR',\n",
       " 'HOST',\n",
       " 'KECKID',\n",
       " 'MASKNAME',\n",
       " 'NUCLEUS',\n",
       " 'OBJ_PROB',\n",
       " 'OBJ_TYPE',\n",
       " 'RA',\n",
       " 'SLITNUM',\n",
       " 'SN',\n",
       " 'SPEC1DNAME',\n",
       " 'TARGTYPE',\n",
       " 'VCC',\n",
       " 'VERR',\n",
       " 'VERR_ne',\n",
       " 'VERR_pe',\n",
       " 'VHEL',\n",
       " 'VOBS',\n",
       " 'VOBS_ne',\n",
       " 'VOBS_pe',\n",
       " 'YHIGH',\n",
       " 'YLOW',\n",
       " 'ZCONF',\n",
       " 'ZQUAL',\n",
       " 'ZSPECNUM']"
      ]
     },
     "execution_count": 17,
     "metadata": {},
     "output_type": "execute_result"
    }
   ],
   "source": [
    "catalog.colnames"
   ]
  },
  {
   "cell_type": "code",
   "execution_count": 18,
   "metadata": {
    "scrolled": true
   },
   "outputs": [],
   "source": [
    "catalog.keep_columns(['SPEC1DNAME', 'ABANDCOR', 'ABANDCOR_ne', 'ABANDCOR_pe','VOBS', 'VOBS_ne', 'VOBS_pe'])"
   ]
  },
  {
   "cell_type": "code",
   "execution_count": 24,
   "metadata": {},
   "outputs": [
    {
     "data": {
      "text/plain": [
       "['ABANDCOR',\n",
       " 'ABANDCOR_ne',\n",
       " 'ABANDCOR_pe',\n",
       " 'SPEC1DNAME',\n",
       " 'VOBS',\n",
       " 'VOBS_ne',\n",
       " 'VOBS_pe']"
      ]
     },
     "execution_count": 24,
     "metadata": {},
     "output_type": "execute_result"
    }
   ],
   "source": [
    "a = catalog.to_pandas()\n",
    "col = a.columns.tolist()\n",
    "col"
   ]
  },
  {
   "cell_type": "code",
   "execution_count": 25,
   "metadata": {},
   "outputs": [],
   "source": [
    "col.insert(0, col.pop(col.index('SPEC1DNAME')))"
   ]
  },
  {
   "cell_type": "code",
   "execution_count": 26,
   "metadata": {},
   "outputs": [],
   "source": [
    "a = a.reindex(columns=col)"
   ]
  },
  {
   "cell_type": "code",
   "execution_count": 27,
   "metadata": {},
   "outputs": [],
   "source": [
    "a['SPEC1DNAME'] = a['SPEC1DNAME'].str.decode('UTF-8')"
   ]
  },
  {
   "cell_type": "code",
   "execution_count": 32,
   "metadata": {},
   "outputs": [],
   "source": [
    "a.to_csv('table_info_aband.csv', index = False)"
   ]
  },
  {
   "cell_type": "code",
   "execution_count": null,
   "metadata": {},
   "outputs": [],
   "source": []
  }
 ],
 "metadata": {
  "kernelspec": {
   "display_name": "Python 3",
   "language": "python",
   "name": "python3"
  },
  "language_info": {
   "codemirror_mode": {
    "name": "ipython",
    "version": 3
   },
   "file_extension": ".py",
   "mimetype": "text/x-python",
   "name": "python",
   "nbconvert_exporter": "python",
   "pygments_lexer": "ipython3",
   "version": "3.7.1"
  }
 },
 "nbformat": 4,
 "nbformat_minor": 2
}
