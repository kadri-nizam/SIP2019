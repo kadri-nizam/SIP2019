{
 "cells": [
  {
   "cell_type": "markdown",
   "metadata": {},
   "source": [
    "# Initialization\n",
    "\n",
    "We import libraries that we will need to work with the catalog and define paths to our workspace. I also include here some useful commands that you should add to your toolbelt."
   ]
  },
  {
   "cell_type": "code",
   "execution_count": 1,
   "metadata": {},
   "outputs": [],
   "source": [
    "from astropy.table import Table, vstack\n",
    "import numpy as np"
   ]
  },
  {
   "cell_type": "markdown",
   "metadata": {},
   "source": [
    "## Print Working Directory\n",
    "Very useful to know which folder you are working in, and what the parent folders are"
   ]
  },
  {
   "cell_type": "code",
   "execution_count": 2,
   "metadata": {
    "scrolled": true
   },
   "outputs": [
    {
     "data": {
      "text/plain": [
       "'/Users/kmohamad/Documents/GitHub/SIP2019/Kadri'"
      ]
     },
     "execution_count": 2,
     "metadata": {},
     "output_type": "execute_result"
    }
   ],
   "source": [
    "%pwd"
   ]
  },
  {
   "cell_type": "markdown",
   "metadata": {},
   "source": [
    "The percent sign used at the front of <code>pwd</code> tells Jupyter Notebook that I am calling a magic function. They are just special function that allow more interactivity.\n",
    "\n",
    "## List Directory\n",
    "I use this all the time to see what's in my directory."
   ]
  },
  {
   "cell_type": "code",
   "execution_count": 3,
   "metadata": {},
   "outputs": [
    {
     "name": "stdout",
     "output_type": "stream",
     "text": [
      "Untitled.ipynb\r\n"
     ]
    }
   ],
   "source": [
    "%ls"
   ]
  },
  {
   "cell_type": "markdown",
   "metadata": {},
   "source": [
    "You can even go further and have it display the items in other directories as lists in human readable formats. You can learn some basic examples of how to use <code>ls</code> <a href='https://www.tecmint.com/15-basic-ls-command-examples-in-linux/'>here</a>. You can then easily copy the names of the catalogs for use later."
   ]
  },
  {
   "cell_type": "code",
   "execution_count": 4,
   "metadata": {
    "scrolled": true
   },
   "outputs": [
    {
     "name": "stdout",
     "output_type": "stream",
     "text": [
      "total 544\r\n",
      "drwxr-xr-x@ 12 kmohamad  staff   384B Jun 24 13:21 \u001b[34m.\u001b[m\u001b[m/\r\n",
      "drwxr-xr-x  12 kmohamad  staff   384B Jun 24 17:51 \u001b[34m..\u001b[m\u001b[m/\r\n",
      "-rw-r--r--@  1 kmohamad  staff   6.0K Jun 24 13:30 .DS_Store\r\n",
      "drwxr-xr-x@  2 kmohamad  staff    64B Oct  6  2018 \u001b[34m.ipynb_checkpoints\u001b[m\u001b[m/\r\n",
      "-rw-r--r--@  1 kmohamad  staff    20K Sep 28  2018 SelectGCsTrue2.fits\r\n",
      "-rw-r--r--@  1 kmohamad  staff   8.4K Sep 28  2018 SelectGCsTrue_kinematic_prob.fits\r\n",
      "-rw-r--r--@  1 kmohamad  staff    11K Sep 28  2018 VDGC_kinematic_prob.fits\r\n",
      "-rw-r--r--@  1 kmohamad  staff   3.0K Sep 26  2018 VDGC_pPXF_2017.README\r\n",
      "-rw-r--r--@  1 kmohamad  staff   149K Sep 26  2018 VDGC_pPXF_2017_v2.fits\r\n",
      "-rw-r--r--@  1 kmohamad  staff   2.7K Sep 26  2018 VUGC_pPXF_2017.README\r\n",
      "-rw-r--r--@  1 kmohamad  staff    34K Sep 26  2018 VUGC_pPXF_2017_v2.fits\r\n",
      "-rw-r--r--@  1 kmohamad  staff    23K Sep 28  2018 orphanGCs.fits\r\n"
     ]
    }
   ],
   "source": [
    "%ls -alh ./../catalogs"
   ]
  },
  {
   "cell_type": "code",
   "execution_count": 5,
   "metadata": {},
   "outputs": [],
   "source": [
    "# Note that my working directory is specific to my computer. You will have to change the path\n",
    "# for your own computer\n",
    "working_dir = '/Users/kmohamad/Documents/GitHub/SIP2019/'"
   ]
  },
  {
   "cell_type": "markdown",
   "metadata": {},
   "source": [
    "# The Catalogs\n",
    "\n",
    "## Cleaning up the catalog\n",
    "We now import the catalogs that we want to use, and prepare dictionaries that will allow us to access them easily"
   ]
  },
  {
   "cell_type": "code",
   "execution_count": 6,
   "metadata": {},
   "outputs": [],
   "source": [
    "tables = [\n",
    "    Table.read(working_dir + 'catalogs/VDGC_pPXF_2017_v2.fits'),\n",
    "    Table.read(working_dir + 'catalogs/VUGC_pPXF_2017_v2.fits')\n",
    "]"
   ]
  },
  {
   "cell_type": "markdown",
   "metadata": {},
   "source": [
    "I will be using dictionaries to make accessing the different catalogs neater. Dictionaries are simply <b>keys</b> that you define to certain <b>values</b>. If you're familiar with Computer Science terminology, it is similar to a hash table."
   ]
  },
  {
   "cell_type": "code",
   "execution_count": 7,
   "metadata": {},
   "outputs": [],
   "source": [
    "catalog = {'VDGC':0, 'VUGC':1}"
   ]
  },
  {
   "cell_type": "markdown",
   "metadata": {},
   "source": [
    "We access the catalogs like so:"
   ]
  },
  {
   "cell_type": "code",
   "execution_count": 8,
   "metadata": {},
   "outputs": [
    {
     "data": {
      "text/html": [
       "<i>Table length=5</i>\n",
       "<table id=\"table4614347184\" class=\"table-striped table-bordered table-condensed\">\n",
       "<thead><tr><th>VCC</th><th>TARGTYPE</th><th>GCSAT</th><th>HOST</th><th>RA</th><th>DEC</th><th>ZHEL</th><th>ZERR</th><th>ZERR_pe</th><th>ZERR_ne</th><th>ZCONF</th><th>ZOBS</th><th>ZOBS_pe</th><th>ZOBS_ne</th><th>ABANDCOR</th><th>ABANDCOR_pe</th><th>ABANDCOR_ne</th><th>HELCOR</th><th>SN</th><th>KECKID</th><th>MASKNAME</th><th>SLITNUM</th><th>ZSPECNUM</th><th>ZQUAL</th><th>YLOW</th><th>YHIGH</th><th>SPEC1DNAME</th></tr></thead>\n",
       "<thead><tr><th>bytes10</th><th>bytes7</th><th>bytes2</th><th>bytes10</th><th>float32</th><th>float32</th><th>float32</th><th>float32</th><th>float32</th><th>float32</th><th>float32</th><th>float32</th><th>float32</th><th>float32</th><th>float32</th><th>float32</th><th>float32</th><th>float32</th><th>float32</th><th>bytes20</th><th>bytes20</th><th>int16</th><th>int16</th><th>int16</th><th>int16</th><th>int16</th><th>bytes40</th></tr></thead>\n",
       "<tr><td>---</td><td>ALG</td><td>N</td><td>---</td><td>187.0097</td><td>10.359333</td><td>0.00018189283</td><td>8.389982e-06</td><td>4.2536944e-06</td><td>4.2911956e-06</td><td>1.0</td><td>0.00039203788</td><td>7.004846e-07</td><td>7.004846e-07</td><td>0.00016147838</td><td>4.6698975e-07</td><td>7.3384103e-07</td><td>4.866667e-05</td><td>196.03</td><td>alg42</td><td>vdgc1</td><td>0</td><td>0</td><td>-1</td><td>15</td><td>21</td><td>spec1d.vdgc1.000.alg42.fits.gz</td></tr>\n",
       "<tr><td>---</td><td>ALG</td><td>N</td><td>---</td><td>187.07608</td><td>10.3505</td><td>-0.0007024523</td><td>1.0064823e-05</td><td>6.74872e-06</td><td>7.2782736e-06</td><td>1.0</td><td>-0.0005678595</td><td>5.0034614e-06</td><td>5.5705204e-06</td><td>8.592611e-05</td><td>1.7678897e-06</td><td>2.1348103e-06</td><td>4.866667e-05</td><td>58.89</td><td>alg115</td><td>vdgc1</td><td>1</td><td>1</td><td>-1</td><td>15</td><td>21</td><td>spec1d.vdgc1.001.alg115.fits.gz</td></tr>\n",
       "<tr><td>---</td><td>ALG</td><td>N</td><td>---</td><td>186.9995</td><td>10.459528</td><td>4.2896674e-05</td><td>9.472941e-06</td><td>5.8739492e-06</td><td>6.4012156e-06</td><td>1.0</td><td>0.0002562106</td><td>3.6024921e-06</td><td>4.0361256e-06</td><td>0.00016464724</td><td>2.0347409e-06</td><td>2.701869e-06</td><td>4.866667e-05</td><td>44.0</td><td>alg140</td><td>vdgc1</td><td>2</td><td>2</td><td>-1</td><td>15</td><td>21</td><td>spec1d.vdgc1.002.alg140.fits.gz</td></tr>\n",
       "<tr><td>---</td><td>ALG</td><td>N</td><td>---</td><td>187.04004</td><td>10.45025</td><td>6.654637e-05</td><td>8.618114e-06</td><td>4.658566e-06</td><td>4.754663e-06</td><td>1.0</td><td>0.00010960916</td><td>1.5343949e-06</td><td>1.9013154e-06</td><td>-5.6038766e-06</td><td>1.4009692e-06</td><td>1.2675436e-06</td><td>4.866667e-05</td><td>80.71</td><td>alg164</td><td>vdgc1</td><td>3</td><td>3</td><td>-1</td><td>16</td><td>21</td><td>spec1d.vdgc1.003.alg164.fits.gz</td></tr>\n",
       "<tr><td>---</td><td>ALG</td><td>N</td><td>---</td><td>187.07025</td><td>10.325111</td><td>-9.1059665e-06</td><td>8.707397e-06</td><td>4.8853194e-06</td><td>4.84415e-06</td><td>1.0</td><td>0.00011594688</td><td>2.1681667e-06</td><td>2.1348103e-06</td><td>7.6386175e-05</td><td>1.3342564e-06</td><td>1.2341872e-06</td><td>4.866667e-05</td><td>92.15</td><td>alg177</td><td>vdgc1</td><td>4</td><td>4</td><td>-1</td><td>15</td><td>20</td><td>spec1d.vdgc1.004.alg177.fits.gz</td></tr>\n",
       "</table>"
      ],
      "text/plain": [
       "<Table length=5>\n",
       "  VCC   TARGTYPE GCSAT    HOST  ...  YLOW YHIGH            SPEC1DNAME          \n",
       "bytes10  bytes7  bytes2 bytes10 ... int16 int16             bytes40            \n",
       "------- -------- ------ ------- ... ----- ----- -------------------------------\n",
       "    ---      ALG      N     --- ...    15    21  spec1d.vdgc1.000.alg42.fits.gz\n",
       "    ---      ALG      N     --- ...    15    21 spec1d.vdgc1.001.alg115.fits.gz\n",
       "    ---      ALG      N     --- ...    15    21 spec1d.vdgc1.002.alg140.fits.gz\n",
       "    ---      ALG      N     --- ...    16    21 spec1d.vdgc1.003.alg164.fits.gz\n",
       "    ---      ALG      N     --- ...    15    20 spec1d.vdgc1.004.alg177.fits.gz"
      ]
     },
     "execution_count": 8,
     "metadata": {},
     "output_type": "execute_result"
    }
   ],
   "source": [
    "# Show only the first five rows of the VDGC catalog\n",
    "tables[catalog['VDGC']][:5]"
   ]
  },
  {
   "cell_type": "markdown",
   "metadata": {},
   "source": [
    "We now check what columns the table contains, and what <code>dtype</code> they contain"
   ]
  },
  {
   "cell_type": "code",
   "execution_count": 9,
   "metadata": {},
   "outputs": [
    {
     "name": "stdout",
     "output_type": "stream",
     "text": [
      "<Table length=790>\n",
      "    name     dtype \n",
      "----------- -------\n",
      "        VCC bytes10\n",
      "   TARGTYPE  bytes7\n",
      "      GCSAT  bytes2\n",
      "       HOST bytes10\n",
      "         RA float32\n",
      "        DEC float32\n",
      "       ZHEL float32\n",
      "       ZERR float32\n",
      "    ZERR_pe float32\n",
      "    ZERR_ne float32\n",
      "      ZCONF float32\n",
      "       ZOBS float32\n",
      "    ZOBS_pe float32\n",
      "    ZOBS_ne float32\n",
      "   ABANDCOR float32\n",
      "ABANDCOR_pe float32\n",
      "ABANDCOR_ne float32\n",
      "     HELCOR float32\n",
      "         SN float32\n",
      "     KECKID bytes20\n",
      "   MASKNAME bytes20\n",
      "    SLITNUM   int16\n",
      "   ZSPECNUM   int16\n",
      "      ZQUAL   int16\n",
      "       YLOW   int16\n",
      "      YHIGH   int16\n",
      " SPEC1DNAME bytes40\n",
      " <Table length=162>\n",
      "    name     dtype \n",
      "----------- -------\n",
      "        VCC bytes10\n",
      "   TARGTYPE  bytes7\n",
      "      GCSAT  bytes2\n",
      "       HOST bytes10\n",
      "         RA float32\n",
      "        DEC float32\n",
      "       VHEL float32\n",
      "       VERR float32\n",
      "    VERR_pe float32\n",
      "    VERR_ne float32\n",
      "      ZCONF float32\n",
      "       VOBS float32\n",
      "    VOBS_pe float32\n",
      "    VOBS_ne float32\n",
      "   ABANDCOR float32\n",
      "ABANDCOR_pe float32\n",
      "ABANDCOR_ne float32\n",
      "     HELCOR float32\n",
      "         SN float32\n",
      "   MASKNAME bytes20\n",
      "    SLITNUM   int16\n",
      "       YLOW   int16\n",
      "      YHIGH   int16\n",
      " SPEC1DNAME bytes40\n",
      "\n"
     ]
    }
   ],
   "source": [
    "print(\n",
    "    tables[catalog['VDGC']].info, \n",
    "    tables[catalog['VUGC']].info\n",
    ")"
   ]
  },
  {
   "cell_type": "markdown",
   "metadata": {},
   "source": [
    "Since we are going to merge the two catalogs together, let's see if they both have the same number of columns. If they don't, let's see what columns are missing"
   ]
  },
  {
   "cell_type": "code",
   "execution_count": 10,
   "metadata": {},
   "outputs": [
    {
     "name": "stdout",
     "output_type": "stream",
     "text": [
      "VDGC: 27 VUGC: 24\n"
     ]
    }
   ],
   "source": [
    "print(\n",
    "    'VDGC:', str(len(tables[catalog['VDGC']].colnames)), \n",
    "    'VUGC:', str(len(tables[catalog['VUGC']].colnames))\n",
    ")"
   ]
  },
  {
   "cell_type": "markdown",
   "metadata": {},
   "source": [
    "To find the different columns, we use sets and set operations - yes, the math one - to help us. We take the set difference of <code>VDGC - VUGC</code>:"
   ]
  },
  {
   "cell_type": "code",
   "execution_count": 11,
   "metadata": {},
   "outputs": [
    {
     "data": {
      "text/plain": [
       "{'KECKID',\n",
       " 'ZERR',\n",
       " 'ZERR_ne',\n",
       " 'ZERR_pe',\n",
       " 'ZHEL',\n",
       " 'ZOBS',\n",
       " 'ZOBS_ne',\n",
       " 'ZOBS_pe',\n",
       " 'ZQUAL',\n",
       " 'ZSPECNUM'}"
      ]
     },
     "execution_count": 11,
     "metadata": {},
     "output_type": "execute_result"
    }
   ],
   "source": [
    "set(tables[catalog['VDGC']].colnames).difference(set(tables[catalog['VUGC']].colnames))"
   ]
  },
  {
   "cell_type": "markdown",
   "metadata": {},
   "source": [
    "Wait. Up above we saw that we are missing only 3 columns. The results have more than 3 columns. What's the deal? If we run it in reverse, that is <code>VUGC - VDGC</code> we get:"
   ]
  },
  {
   "cell_type": "code",
   "execution_count": 12,
   "metadata": {},
   "outputs": [
    {
     "data": {
      "text/plain": [
       "{'VERR', 'VERR_ne', 'VERR_pe', 'VHEL', 'VOBS', 'VOBS_ne', 'VOBS_pe'}"
      ]
     },
     "execution_count": 12,
     "metadata": {},
     "output_type": "execute_result"
    }
   ],
   "source": [
    "set(tables[catalog['VUGC']].colnames).difference(set(tables[catalog['VDGC']].colnames))"
   ]
  },
  {
   "cell_type": "markdown",
   "metadata": {},
   "source": [
    "It looks like <code>VERR</code> and <code>ZERR</code> might be related, and so do a few other columns. Turns out, the columns with \"Z\" are redshifts, so we have to multiply by 300,000 to get the velocity in km/s. So it looks like the columns that are really missing in the VUGC catalogs are:\n",
    "<ul>\n",
    "    <li> <code>KECKID</code>\n",
    "    <li> <code>ZQUAL</code>\n",
    "    <li> <code>ZSPECNUM</code>\n",
    "</ul>\n",
    "So we first rescale then rename the columns in the VDGC catalog. We can then add the missing columns to the VUGC catalog and initialize them with values that won't be mistaken for real data (respecting the column <code>dtype</code>)."
   ]
  },
  {
   "cell_type": "code",
   "execution_count": 13,
   "metadata": {},
   "outputs": [],
   "source": [
    "columns_to_change = ['ZERR', 'ZERR_ne', 'ZERR_pe', 'ZHEL', 'ZOBS', 'ZOBS_ne', 'ZOBS_pe']\n",
    "\n",
    "for col in columns_to_change:\n",
    "    tables[catalog['VDGC']][col] = tables[catalog['VDGC']][col] * 3e+5\n",
    "    \n",
    "    # col[1:] selects the second letter through the end, so that ZERR_ne becomes ERR_ne. We then put V in front\n",
    "    tables[catalog['VDGC']].rename_column(col, 'V' + col[1:])   \n",
    "    \n",
    "tables[catalog['VUGC']]['KECKID'] = '---'\n",
    "tables[catalog['VUGC']]['ZQUAL'] = -101010\n",
    "tables[catalog['VUGC']]['ZSPECNUM'] = -101010"
   ]
  },
  {
   "cell_type": "markdown",
   "metadata": {},
   "source": [
    "I also like to sort the header of the table in alphabetical order. You can do this thusly"
   ]
  },
  {
   "cell_type": "code",
   "execution_count": 14,
   "metadata": {},
   "outputs": [],
   "source": [
    "for ind, cat in enumerate(tables):\n",
    "    tables[ind] = cat[sorted(cat.colnames)]"
   ]
  },
  {
   "cell_type": "markdown",
   "metadata": {},
   "source": [
    "Now that we have this prepared, we can start doing stuff with the catalogs.\n",
    "\n",
    "## Extracting things\n",
    "We now will filter the tables to get what we want (as per the email I sent you). First up, we need all entries in both catalogs to have <code>ZCONF == 1</code>."
   ]
  },
  {
   "cell_type": "code",
   "execution_count": 15,
   "metadata": {},
   "outputs": [
    {
     "name": "stdout",
     "output_type": "stream",
     "text": [
      "[{1.0}, {1.0}]\n"
     ]
    }
   ],
   "source": [
    "for ind, cat in enumerate(tables):\n",
    "    tables[ind] = cat[cat['ZCONF'] == 1]\n",
    "    \n",
    "# Check that ZCONF only contains 1. I'm using list comprehensions here.\n",
    "# If you don't understand what's going on, don't worry! I'll explain tomorrow.\n",
    "print([set(cat['ZCONF']) for cat in tables])"
   ]
  },
  {
   "cell_type": "code",
   "execution_count": 24,
   "metadata": {},
   "outputs": [],
   "source": [
    "DE_GC = tables[catalog['VDGC']][tables[catalog['VDGC']]['GCSAT'] == 'Y']\n",
    "UDG_GC = tables[catalog['VUGC']][tables[catalog['VUGC']]['GCSAT'] == 'Y']\n",
    "\n",
    "set(tables[catalog['VUGC']]['HOST'])\n",
    "\n",
    "# Create a boolean mask for boolean indexing later\n",
    "non_udg = (UDG_GC['HOST'] != 'VLSB-B') & (UDG_GC['HOST'] != 'VLSB-D') & (UDG_GC['HOST'] != 'VCC0615')\n",
    "\n",
    "DE_GC = vstack([DE_GC, UDG_GC[non_udg]])\n",
    "UDG_GC.remove_rows(np.nonzero(non_udg)[0])"
   ]
  },
  {
   "cell_type": "markdown",
   "metadata": {},
   "source": [
    "Now we have two new tables that holds DE and UDG GC satellites like the prompt asked.\n",
    "\n",
    "So this is a little introduction to how I would have approached the problem. I wrote this in hopes of giving you ideas on how you could approach it, or as a reference if you are feeling stuck and need a little help. I recommend that you continue doing it the way you are and try to avoid imitating my code too much. This is a learning process and you should be proud with your code! Also, it is always fun to share code and see the various approaches. \n",
    "\n",
    "Lastly, remember that you can always reach out to me for anything!\n",
    "\n",
    "Happy coding! :)"
   ]
  }
 ],
 "metadata": {
  "kernelspec": {
   "display_name": "Python 3",
   "language": "python",
   "name": "python3"
  },
  "language_info": {
   "codemirror_mode": {
    "name": "ipython",
    "version": 3
   },
   "file_extension": ".py",
   "mimetype": "text/x-python",
   "name": "python",
   "nbconvert_exporter": "python",
   "pygments_lexer": "ipython3",
   "version": "3.7.1"
  }
 },
 "nbformat": 4,
 "nbformat_minor": 2
}
