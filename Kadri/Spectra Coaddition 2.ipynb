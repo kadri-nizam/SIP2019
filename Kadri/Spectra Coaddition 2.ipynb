{
 "cells": [
  {
   "cell_type": "code",
   "execution_count": 1,
   "metadata": {},
   "outputs": [],
   "source": [
    "#-----------------------#\n",
    "#      Directories      #\n",
    "#-----------------------#\n",
    "working_dir = '/Users/kmohamad/Documents/GitHub/SIP2019/'\n",
    "\n",
    "import numpy as np\n",
    "import pandas as pd\n",
    "import matplotlib.pyplot as plt\n",
    "import collections\n",
    "import requests\n",
    "import glob\n",
    "import re\n",
    "import sys\n",
    "\n",
    "sys.path.append(working_dir + 'lib')\n",
    "\n",
    "from astropy.io import fits, ascii\n",
    "from astropy.table import Table\n",
    "from os import path\n",
    "from py_specrebin import rebinspec"
   ]
  },
  {
   "cell_type": "code",
   "execution_count": 2,
   "metadata": {},
   "outputs": [],
   "source": [
    "# Speed of light in km/s\n",
    "C = 299792"
   ]
  },
  {
   "cell_type": "code",
   "execution_count": 3,
   "metadata": {},
   "outputs": [],
   "source": [
    "polyval_results = np.load(working_dir + 'Kadri/galaxy_LSF_output/COSMOS.deltaLambdaFit.npy')\n",
    "polyval_results = polyval_results[:,0]\n",
    "delta_lambda_function = np.poly1d(polyval_results)"
   ]
  },
  {
   "cell_type": "code",
   "execution_count": 4,
   "metadata": {},
   "outputs": [],
   "source": [
    "def send_simple_message():\n",
    "    return requests.post(\n",
    "        \"https://api.mailgun.net/v3/sandbox1859aa1e747740578e897d1d8d07469f.mailgun.org/messages\",\n",
    "        auth=(\"api\", \"f7cede1a6d4568b38b0837c2d2c7efe6-2b778fc3-74f1176e\"),\n",
    "        data={\"from\": \"Spectra Coadd 2 <mailgun@sandbox1859aa1e747740578e897d1d8d07469f.mailgun.org>\",\n",
    "            \"to\": [\"kadri.mnizam@gmail.com\"],\n",
    "            \"subject\": \"Script Finished Running\",\n",
    "            \"text\": \"The spectra coadd script has finished running!\"})"
   ]
  },
  {
   "cell_type": "code",
   "execution_count": 5,
   "metadata": {},
   "outputs": [],
   "source": [
    "#-----------------------#\n",
    "#   Class Definitions   #\n",
    "#-----------------------#\n",
    "\n",
    "class HDU_Reader:\n",
    "    \n",
    "    def __init__(self, hdu, catalog, wavelength_range):\n",
    "        \n",
    "        try:\n",
    "            if 'Bxspf-B' in hdu and 'Bxspf-R' in hdu:\n",
    "                blue_name = 'Bxspf-B'\n",
    "                red_name = 'Bxspf-R'\n",
    "            else:\n",
    "                blue_name = 'Horne-B'\n",
    "                red_name = 'Horne-R'\n",
    "                \n",
    "            blue = Spectrum(hdu[blue_name].data)\n",
    "            red = Spectrum(hdu[red_name].data)\n",
    "            \n",
    "        except KeyError:\n",
    "            return None\n",
    "        \n",
    "        self.wavelength = wavelength_range\n",
    "        self.spectra, self.ivar = self.rebin_wavelength(\n",
    "            self.correct_lambda_shifts(np.append(blue.wavelength, red.wavelength), catalog),\n",
    "            np.append(blue.flux, red.flux), \n",
    "            np.append(blue.ivar, red.ivar),\n",
    "            wavelength_range\n",
    "        )\n",
    "        \n",
    "    def correct_lambda_shifts(self, wavelength, obj):\n",
    "        pass\n",
    "        # Correct for A-Band\n",
    "        delta_lambda = obj['ABANDCOR'] * 7600 * delta_lambda_function(wavelength) / (C * delta_lambda_function(7600))\n",
    "        wavelength -= delta_lambda\n",
    "        \n",
    "        # Correct for doppler shift\n",
    "        wavelength /=  (1 + obj['VOBS']/C)\n",
    "        \n",
    "        \n",
    "        return wavelength\n",
    "    \n",
    "    # The rebin_wavelength function takes in 4 inputs:\n",
    "    #       wavelength: Original wavelength associated with the file\n",
    "    #             flux: Original flux associated with the file\n",
    "    #          inv_var: Inverse variance associated with the file used in the interpolation\n",
    "    # wavelength_range: An array of wavelength values that we would like to have a value of the flux interpolated\n",
    "    def rebin_wavelength(self, wavelength, flux, inv_var, wavelength_range):\n",
    "        spectra, ivar = rebinspec(wavelength, flux, wavelength_range, ivar = inv_var)\n",
    "        return np.nan_to_num(spectra), np.nan_to_num(ivar)\n",
    "        \n",
    "    \n",
    "class Spectrum:\n",
    "    \n",
    "    def __init__(self, hdu):\n",
    "        self.wavelength = hdu['LAMBDA'][0]\n",
    "        self.flux = hdu['SPEC'][0]\n",
    "        self.ivar = hdu['IVAR'][0]"
   ]
  },
  {
   "cell_type": "code",
   "execution_count": 6,
   "metadata": {},
   "outputs": [],
   "source": [
    "#-----------------------#\n",
    "#  Function Definitions #\n",
    "#-----------------------#\n",
    "def sigma_clipping(flux, sigma):\n",
    "    clip = np.ones(np.shape(flux))\n",
    "    std = np.std(flux, axis = 0)\n",
    "    gaus_mid = np.mean(flux, axis = 0)\n",
    "    \n",
    "    clip[np.abs(flux - gaus_mid) > sigma * std] = 0\n",
    "    \n",
    "    return np.nan_to_num(clip)\n",
    "\n",
    "def coadd(spectra, ivar, sigma):    \n",
    "    spectra = np.nan_to_num(spectra)\n",
    "    ivar = np.nan_to_num(ivar)\n",
    "\n",
    "    clip = sigma_clipping(spectra, sigma)\n",
    "    coadd_spectra = np.nan_to_num(np.sum(spectra * ivar * clip, axis = 0) / np.sum(ivar * clip, axis = 0))\n",
    "    coadd_ivar = np.nan_to_num(np.sum(ivar * clip, axis = 0))\n",
    "    coadd_err = np.nan_to_num(1 / np.sqrt(np.sum(ivar * clip, axis = 0)))\n",
    "\n",
    "    return coadd_spectra, coadd_ivar, coadd_err"
   ]
  },
  {
   "cell_type": "code",
   "execution_count": 7,
   "metadata": {},
   "outputs": [],
   "source": [
    "catalog = pd.read_csv(working_dir + '/Kadri/sip_catalog.csv')\n",
    "catalog.set_index(['OBJ_TYPE','SPEC1DNAME'], inplace = True)"
   ]
  },
  {
   "cell_type": "code",
   "execution_count": 8,
   "metadata": {},
   "outputs": [
    {
     "data": {
      "text/plain": [
       "Counter({'DE_GC': 88,\n",
       "         'UDG_GC': 23,\n",
       "         'Star': 354,\n",
       "         'IGC': 35,\n",
       "         'M87_GC': 25,\n",
       "         'UNK': 1,\n",
       "         'DE_NUC': 21})"
      ]
     },
     "execution_count": 8,
     "metadata": {},
     "output_type": "execute_result"
    }
   ],
   "source": [
    "collections.Counter(catalog.index.get_level_values(0))"
   ]
  },
  {
   "cell_type": "code",
   "execution_count": 9,
   "metadata": {},
   "outputs": [],
   "source": [
    "fits_file = glob.glob(working_dir + '/spectra/*.fits')\n",
    "gz_file = glob.glob(working_dir + '/spectra/*.gz')\n",
    "\n",
    "files = np.append(fits_file, gz_file)"
   ]
  },
  {
   "cell_type": "code",
   "execution_count": 10,
   "metadata": {},
   "outputs": [],
   "source": [
    "l_initial = 4000\n",
    "l_final = 8950.9\n",
    "l_sampling = 0.9\n",
    "wavelength_range = np.arange(l_initial, l_final, l_sampling)\n",
    "\n",
    "norm_region = {\n",
    "    'Ca_Trip':[8400, 8700],\n",
    "    'Mg_Trip':[5100, 5200],\n",
    "    'Ha':[6500, 6600]\n",
    "}\n",
    "sigma = 3"
   ]
  },
  {
   "cell_type": "code",
   "execution_count": 14,
   "metadata": {},
   "outputs": [],
   "source": [
    "if True:\n",
    "\n",
    "#     for region in ['Ha', 'Ca_Trip', 'Mg_Trip']:\n",
    "    for region in ['Mg_Trip']:\n",
    "        stacked_spectra = np.zeros((catalog.shape[0], wavelength_range.shape[0]))\n",
    "        stacked_ivar = np.zeros((catalog.shape[0], wavelength_range.shape[0]))\n",
    "\n",
    "        row_ind = 0\n",
    "\n",
    "        for ind, row in catalog.iterrows():\n",
    "\n",
    "            file_path = working_dir + 'spectra/' + ind[1]\n",
    "\n",
    "            if path.exists(file_path):\n",
    "                f = fits.open(file_path)\n",
    "            elif path.exists(file_path[:-3]):\n",
    "                f = fits.open(file_path[:-3])\n",
    "            else:\n",
    "                print(row.name)\n",
    "                raise FileNotFoundError\n",
    "\n",
    "            data = HDU_Reader(f, row, wavelength_range)\n",
    "            med = np.median(\n",
    "                data.spectra[(data.wavelength >= norm_region[region][0]) & (data.wavelength <= norm_region[region][1])]\n",
    "            )\n",
    "\n",
    "            stacked_spectra[:][row_ind] = data.spectra/med\n",
    "            stacked_ivar[:][row_ind] = data.ivar*(med**2)\n",
    "\n",
    "            f.close()\n",
    "            row_ind += 1\n",
    "\n",
    "        np.savetxt(working_dir + 'Kadri/' + region + '/stacked_spectra.csv', stacked_spectra, delimiter = ',')\n",
    "        np.savetxt(working_dir + 'Kadri/' + region + '/stacked_ivar.csv', stacked_ivar, delimiter = ',')\n",
    "    \n",
    "    send_simple_message()"
   ]
  },
  {
   "cell_type": "code",
   "execution_count": 13,
   "metadata": {},
   "outputs": [],
   "source": [
    "np.savetxt(working_dir + 'Kadri/' + region + '/stacked_spectra.csv', stacked_spectra, delimiter = ',')\n",
    "np.savetxt(working_dir + 'Kadri/' + region + '/stacked_ivar.csv', stacked_ivar, delimiter = ',')"
   ]
  },
  {
   "cell_type": "code",
   "execution_count": null,
   "metadata": {},
   "outputs": [],
   "source": [
    "spectra = {}\n",
    "ivar = {}\n",
    "err = {}"
   ]
  },
  {
   "cell_type": "code",
   "execution_count": 16,
   "metadata": {
    "scrolled": true
   },
   "outputs": [
    {
     "ename": "NameError",
     "evalue": "name 'spectra' is not defined",
     "output_type": "error",
     "traceback": [
      "\u001b[0;31m---------------------------------------------------------------------------\u001b[0m",
      "\u001b[0;31mNameError\u001b[0m                                 Traceback (most recent call last)",
      "\u001b[0;32m<ipython-input-16-8dd86f783a79>\u001b[0m in \u001b[0;36m<module>\u001b[0;34m\u001b[0m\n\u001b[1;32m      5\u001b[0m         \u001b[0mind\u001b[0m \u001b[0;34m=\u001b[0m \u001b[0mrange\u001b[0m\u001b[0;34m(\u001b[0m\u001b[0;36m0\u001b[0m\u001b[0;34m,\u001b[0m \u001b[0mlen\u001b[0m\u001b[0;34m(\u001b[0m\u001b[0mcatalog\u001b[0m\u001b[0;34m)\u001b[0m\u001b[0;34m)\u001b[0m\u001b[0;34m\u001b[0m\u001b[0;34m\u001b[0m\u001b[0m\n\u001b[1;32m      6\u001b[0m \u001b[0;34m\u001b[0m\u001b[0m\n\u001b[0;32m----> 7\u001b[0;31m     \u001b[0mspectra\u001b[0m\u001b[0;34m[\u001b[0m\u001b[0mcat\u001b[0m\u001b[0;34m]\u001b[0m\u001b[0;34m,\u001b[0m \u001b[0mivar\u001b[0m\u001b[0;34m[\u001b[0m\u001b[0mcat\u001b[0m\u001b[0;34m]\u001b[0m\u001b[0;34m,\u001b[0m \u001b[0merr\u001b[0m\u001b[0;34m[\u001b[0m\u001b[0mcat\u001b[0m\u001b[0;34m]\u001b[0m \u001b[0;34m=\u001b[0m \u001b[0mcoadd\u001b[0m\u001b[0;34m(\u001b[0m\u001b[0mstacked_spectra\u001b[0m\u001b[0;34m[\u001b[0m\u001b[0mind\u001b[0m\u001b[0;34m]\u001b[0m\u001b[0;34m,\u001b[0m \u001b[0mstacked_ivar\u001b[0m\u001b[0;34m[\u001b[0m\u001b[0mind\u001b[0m\u001b[0;34m]\u001b[0m\u001b[0;34m,\u001b[0m \u001b[0;36m3\u001b[0m\u001b[0;34m)\u001b[0m\u001b[0;34m\u001b[0m\u001b[0;34m\u001b[0m\u001b[0m\n\u001b[0m\u001b[1;32m      8\u001b[0m \u001b[0;34m\u001b[0m\u001b[0m\n\u001b[1;32m      9\u001b[0m     \u001b[0mplt\u001b[0m\u001b[0;34m.\u001b[0m\u001b[0mfigure\u001b[0m\u001b[0;34m(\u001b[0m\u001b[0mfigsize\u001b[0m \u001b[0;34m=\u001b[0m \u001b[0;34m(\u001b[0m\u001b[0;36m20\u001b[0m\u001b[0;34m,\u001b[0m \u001b[0;36m15\u001b[0m\u001b[0;34m)\u001b[0m\u001b[0;34m)\u001b[0m\u001b[0;34m\u001b[0m\u001b[0;34m\u001b[0m\u001b[0m\n",
      "\u001b[0;31mNameError\u001b[0m: name 'spectra' is not defined"
     ]
    }
   ],
   "source": [
    "for cat in ['DE_GC', 'UDG_GC', 'M87_GC', 'IGC', 'DE_NUC', 'ALL']:\n",
    "    if not cat is 'ALL':\n",
    "        ind = np.where(catalog.index.get_level_values(0) == cat)\n",
    "    else:\n",
    "        ind = range(0, len(catalog))\n",
    "        \n",
    "    spectra[cat], ivar[cat], err[cat] = coadd(stacked_spectra[ind], stacked_ivar[ind], 3)\n",
    "    \n",
    "    plt.figure(figsize = (20, 15))\n",
    "\n",
    "    for ind, cat in enumerate(['DE_GC', 'UDG_GC', 'M87_GC', 'IGC', 'DE_NUC']):\n",
    "        plt.plot(wavelength_range, spectra[cat])\n",
    "\n",
    "    plt.xlim((norm_region['Mg_Trip']))\n",
    "    plt.legend(['DE_GC', 'UDG_GC', 'M87_GC', 'IGC', 'DE_NUC'])\n",
    "    plt.ylim((0.5, 1.2))"
   ]
  },
  {
   "cell_type": "code",
   "execution_count": null,
   "metadata": {
    "scrolled": false
   },
   "outputs": [],
   "source": [
    "plt.figure(figsize = (20, 15))\n",
    "\n",
    "for ind, cat in enumerate(['DE_GC', 'UDG_GC', 'M87_GC', 'IGC', 'DE_NUC']):\n",
    "    plt.plot(wavelength_range, spectra[cat])\n",
    "    \n",
    "plt.xlim((norm_region['Mg_Trip']))\n",
    "plt.legend(['DE_GC', 'UDG_GC', 'M87_GC', 'IGC', 'DE_NUC'])\n",
    "plt.ylim((0.5, 1.2))"
   ]
  },
  {
   "cell_type": "code",
   "execution_count": null,
   "metadata": {},
   "outputs": [],
   "source": [
    "file"
   ]
  },
  {
   "cell_type": "code",
   "execution_count": null,
   "metadata": {},
   "outputs": [],
   "source": [
    "def plot_spectra(catalog, file, region):\n",
    "    \n",
    "    stacked_spectra = np.loadtxt(file[0], dtype = float, delimiter = ',')\n",
    "    stacked_ivar = np.loadtxt(file[1], dtype = float, delimiter = ',')\n",
    "    \n",
    "    for cat in ['DE_GC', 'UDG_GC', 'M87_GC', 'IGC', 'DE_NUC', 'ALL']:\n",
    "        if not cat is 'ALL':\n",
    "            ind = np.where(catalog.index.get_level_values(0) == cat)\n",
    "        else:\n",
    "            ind = range(0, len(catalog))\n",
    "\n",
    "        spectra[cat], ivar[cat], err[cat] = coadd(stacked_spectra[ind], stacked_ivar[ind], 3)\n",
    "\n",
    "    \n",
    "    plt.figure(figsize = (20, 12))\n",
    "\n",
    "    for cat in ['DE_GC', 'UDG_GC', 'M87_GC', 'IGC', 'DE_NUC']:\n",
    "        plt.plot(wavelength_range, spectra[cat])\n",
    "\n",
    "    plt.xlim((region[0], region[1]))\n",
    "    plt.legend(['DE_GC', 'UDG_GC', 'M87_GC', 'IGC', 'DE_NUC'])\n",
    "    \n",
    "    return spectra, ivar, err"
   ]
  },
  {
   "cell_type": "code",
   "execution_count": null,
   "metadata": {
    "scrolled": false
   },
   "outputs": [],
   "source": [
    "# Folders are Ha, Mg Triplet, Ca Triplet\n",
    "\n",
    "file = [\n",
    "    working_dir + 'Kadri/' + region + '/stacked_spectra.csv',\n",
    "    working_dir + 'Kadri/' + region + '/stacked_ivar.csv'\n",
    "]\n",
    "\n",
    "spectra, ivar, err = plot_spectra(catalog, file, norm_region['Ca_Trip'])\n",
    "plt.ylim((0.5, 1.2))"
   ]
  },
  {
   "cell_type": "code",
   "execution_count": null,
   "metadata": {},
   "outputs": [],
   "source": [
    "hdr = fits.Header()\n",
    "hdr['NAXIS1'] = 5501\n",
    "hdr['NAXIS2'] = 6\n",
    "hdr['CRVAL1'] = 4000\n",
    "hdr['CDELT1'] = 0.9\n",
    "hdu = fits.PrimaryHDU(list(spectra.values()), header=hdr)\n",
    "hdu.writeto('test.fits', overwrite = True)"
   ]
  }
 ],
 "metadata": {
  "kernelspec": {
   "display_name": "Python 3",
   "language": "python",
   "name": "python3"
  },
  "language_info": {
   "codemirror_mode": {
    "name": "ipython",
    "version": 3
   },
   "file_extension": ".py",
   "mimetype": "text/x-python",
   "name": "python",
   "nbconvert_exporter": "python",
   "pygments_lexer": "ipython3",
   "version": "3.7.1"
  }
 },
 "nbformat": 4,
 "nbformat_minor": 2
}
