{
 "cells": [
  {
   "cell_type": "code",
   "execution_count": 1,
   "metadata": {},
   "outputs": [],
   "source": [
    "import os\n",
    "from selenium import webdriver\n",
    "from selenium.webdriver.common.keys import Keys\n",
    "import pyautogui,time\n",
    "import shutil"
   ]
  },
  {
   "cell_type": "code",
   "execution_count": 2,
   "metadata": {},
   "outputs": [],
   "source": [
    "pdfpath = '.\\\\..\\\\lib\\\\ppxf\\\\VDGC\\\\'\n",
    "pdfs = []\n",
    "ratings = []"
   ]
  },
  {
   "cell_type": "code",
   "execution_count": 138,
   "metadata": {},
   "outputs": [],
   "source": [
    "for filename in os.listdir(pdfpath):\n",
    "    if ('spec1d' in str(filename)):\n",
    "        pdfs.append(str(filename))"
   ]
  },
  {
   "cell_type": "code",
   "execution_count": 4,
   "metadata": {},
   "outputs": [],
   "source": [
    "def pdfanalyzer(start, end, pdfs):\n",
    "    ratings = []\n",
    "    if (end > len(pdfs)):\n",
    "        return 'Error: length exceeds pdf files length'\n",
    "    for i in range(start, end):\n",
    "        chromepath='C:\\\\Program Files (x86)\\\\Google\\\\Chrome\\\\Application\\\\chrome.exe'\n",
    "        dr = webdriver.Chrome(\"C:/Users/Owner/Downloads/chromedriver.exe\")\n",
    "        dr.get('file:///C:/Users/Owner/Documents/GitHub/SIP2019/lib/ppxf/VDGC/' + pdfs[i])\n",
    "        rating = float(input('Rating?'))\n",
    "        ratings.append([rating,pdfs[i]])\n",
    "        pyautogui.keyDown('alt')\n",
    "        time.sleep(0.1)\n",
    "        pyautogui.press('tab')\n",
    "        time.sleep(0.1)\n",
    "        pyautogui.keyUp('alt')\n",
    "        time.sleep(0.1)\n",
    "        pyautogui.keyUp('enter')\n",
    "        pyautogui.hotkey('ctrl', 'w')\n",
    "        print(i)\n",
    "    return ratings"
   ]
  },
  {
   "cell_type": "code",
   "execution_count": 134,
   "metadata": {},
   "outputs": [],
   "source": [
    "def filemover(files, originalpath, file, num):\n",
    "    for i in range(len(files)):\n",
    "        if (float(files[i][files[i].index('[')+1:files[i].index(',')]) == num):\n",
    "            shutil.move(originalpath + str(files[i][files[i].index('spec'):files[i].index('pdf')+3]) , \"C:\\\\Users\\\\Owner\\\\Documents\\\\GitHub\\\\SIP2019\\\\lib\\\\ppxf\\\\VDGC\\\\\" + file)              "
   ]
  },
  {
   "cell_type": "code",
   "execution_count": 120,
   "metadata": {},
   "outputs": [],
   "source": [
    "text_file = open(\"pdfreadervals.txt\", \"r\")\n",
    "lines = text_file.readlines()"
   ]
  },
  {
   "cell_type": "code",
   "execution_count": null,
   "metadata": {},
   "outputs": [],
   "source": []
  }
 ],
 "metadata": {
  "kernelspec": {
   "display_name": "Python 3",
   "language": "python",
   "name": "python3"
  },
  "language_info": {
   "codemirror_mode": {
    "name": "ipython",
    "version": 3
   },
   "file_extension": ".py",
   "mimetype": "text/x-python",
   "name": "python",
   "nbconvert_exporter": "python",
   "pygments_lexer": "ipython3",
   "version": "3.7.3"
  }
 },
 "nbformat": 4,
 "nbformat_minor": 2
}
