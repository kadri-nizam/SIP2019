{
 "cells": [
  {
   "cell_type": "code",
   "execution_count": 1,
   "metadata": {},
   "outputs": [],
   "source": [
    "import os\n",
    "from selenium import webdriver\n",
    "from selenium.webdriver.common.keys import Keys\n",
    "import pyautogui,time"
   ]
  },
  {
   "cell_type": "code",
   "execution_count": 2,
   "metadata": {},
   "outputs": [],
   "source": [
    "pdfpath = '.\\\\..\\\\lib\\\\ppxf\\\\VDGC\\\\'\n",
    "pdfs = []\n",
    "ratings = []"
   ]
  },
  {
   "cell_type": "code",
   "execution_count": 3,
   "metadata": {},
   "outputs": [],
   "source": [
    "for filename in os.listdir(pdfpath):\n",
    "    pdfs.append(str(filename))"
   ]
  },
  {
   "cell_type": "code",
   "execution_count": 5,
   "metadata": {},
   "outputs": [],
   "source": [
    "def pdfanalyzer(start, end, pdfs):\n",
    "    ratings = []\n",
    "    if (length > len(pdfs)):\n",
    "        return 'Error: length exceeds pdf files length'\n",
    "    for i in range(start, end):\n",
    "        chromepath='C:\\\\Program Files (x86)\\\\Google\\\\Chrome\\\\Application\\\\chrome.exe'\n",
    "        dr = webdriver.Chrome(\"C:/Users/Owner/Downloads/chromedriver.exe\")\n",
    "        dr.get('file:///C:/Users/Owner/Documents/GitHub/SIP2019/lib/ppxf/VDGC/' + pdfs[i])\n",
    "        rating = float(input('Rating?'))\n",
    "        ratings.append([rating,pdfs[i]])\n",
    "        pyautogui.keyDown('alt')\n",
    "        time.sleep(0.1)\n",
    "        pyautogui.press('tab')\n",
    "        time.sleep(0.1)\n",
    "        pyautogui.keyUp('alt')\n",
    "        time.sleep(0.1)\n",
    "        pyautogui.keyUp('enter')\n",
    "        pyautogui.hotkey('ctrl', 'w')\n",
    "    return ratings"
   ]
  },
  {
   "cell_type": "code",
   "execution_count": 6,
   "metadata": {},
   "outputs": [],
   "source": [
    "def filemover(ratings):\n",
    "    for i in range(len(ratings)):\n",
    "        if (ratings[i][0] == 0):\n",
    "            os.rename(pdfpath + ratings[i][1] , \"path/to/new/destination/for/file.foo\")"
   ]
  },
  {
   "cell_type": "code",
   "execution_count": null,
   "metadata": {},
   "outputs": [],
   "source": []
  }
 ],
 "metadata": {
  "kernelspec": {
   "display_name": "Python 3",
   "language": "python",
   "name": "python3"
  },
  "language_info": {
   "codemirror_mode": {
    "name": "ipython",
    "version": 3
   },
   "file_extension": ".py",
   "mimetype": "text/x-python",
   "name": "python",
   "nbconvert_exporter": "python",
   "pygments_lexer": "ipython3",
   "version": "3.7.3"
  }
 },
 "nbformat": 4,
 "nbformat_minor": 2
}
