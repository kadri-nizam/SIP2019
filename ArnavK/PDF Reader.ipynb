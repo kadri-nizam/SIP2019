{
 "cells": [
  {
   "cell_type": "code",
   "execution_count": 8,
   "metadata": {},
   "outputs": [],
   "source": [
    "import os\n",
    "from selenium import webdriver\n",
    "from selenium.webdriver.common.keys import Keys\n",
    "import pyautogui,time"
   ]
  },
  {
   "cell_type": "code",
   "execution_count": 11,
   "metadata": {},
   "outputs": [],
   "source": [
    "pdfpath = '.\\\\..\\\\lib\\\\ppxf\\\\VDGC\\\\'\n",
    "pdfs = []\n",
    "ratings = []"
   ]
  },
  {
   "cell_type": "code",
   "execution_count": 12,
   "metadata": {},
   "outputs": [],
   "source": [
    "for filename in os.listdir(pdfpath):\n",
    "    pdfs.append(str(filename))"
   ]
  },
  {
   "cell_type": "code",
   "execution_count": 30,
   "metadata": {},
   "outputs": [],
   "source": [
    "def pdfanalyzer(length, pdfs):\n",
    "    ratings = []\n",
    "    if (length > len(pdfs)):\n",
    "        return 'Error: length exceeds pdf files length'\n",
    "    for i in range(length):\n",
    "        chromepath='C:\\\\Program Files (x86)\\\\Google\\\\Chrome\\\\Application\\\\chrome.exe'\n",
    "        dr = webdriver.Chrome(\"C:/Users/Owner/Downloads/chromedriver.exe\")\n",
    "        dr.get('file:///C:/Users/Owner/Documents/GitHub/SIP2019/lib/ppxf/VDGC/' + pdfs[i])\n",
    "        rating = float(input('Rating?'))\n",
    "        ratings.append([rating,pdfs[i]])\n",
    "        pyautogui.keyDown('alt')\n",
    "        time.sleep(0.1)\n",
    "        pyautogui.press('tab')\n",
    "        time.sleep(0.1)\n",
    "        pyautogui.keyUp('alt')\n",
    "        time.sleep(0.1)\n",
    "        pyautogui.keyUp('enter')\n",
    "        pyautogui.hotkey('ctrl', 'w')\n",
    "    return ratings"
   ]
  }
 ],
 "metadata": {
  "kernelspec": {
   "display_name": "Python 3",
   "language": "python",
   "name": "python3"
  },
  "language_info": {
   "codemirror_mode": {
    "name": "ipython",
    "version": 3
   },
   "file_extension": ".py",
   "mimetype": "text/x-python",
   "name": "python",
   "nbconvert_exporter": "python",
   "pygments_lexer": "ipython3",
   "version": "3.7.3"
  }
 },
 "nbformat": 4,
 "nbformat_minor": 2
}
