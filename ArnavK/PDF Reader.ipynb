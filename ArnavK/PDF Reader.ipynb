{
 "cells": [
  {
   "cell_type": "code",
   "execution_count": 1,
   "metadata": {},
   "outputs": [],
   "source": [
    "import os\n",
    "from selenium import webdriver\n",
    "from selenium.webdriver.common.keys import Keys\n",
    "import pyautogui,time\n",
    "import shutil"
   ]
  },
  {
   "cell_type": "code",
   "execution_count": 2,
   "metadata": {},
   "outputs": [],
   "source": [
    "# pdfpath = '.\\\\..\\\\lib\\\\ppxf\\\\VUGC\\\\'\n",
    "# pdfs = []\n",
    "# ratings = []"
   ]
  },
  {
   "cell_type": "code",
   "execution_count": 3,
   "metadata": {},
   "outputs": [],
   "source": [
    "# pdfs = []\n",
    "# for filename in os.listdir(pdfpath):\n",
    "#     if ('spec1d' in str(filename)):\n",
    "#         pdfs.append(str(filename))"
   ]
  },
  {
   "cell_type": "code",
   "execution_count": 22,
   "metadata": {},
   "outputs": [],
   "source": [
    "def pdfanalyzer(pdfs, length):\n",
    "    ratings = []\n",
    "    for i in range(length):\n",
    "        chromepath='C:\\\\Program Files (x86)\\\\Google\\\\Chrome\\\\Application\\\\chrome.exe'\n",
    "        dr = webdriver.Chrome(\"C:/Users/Owner/Downloads/chromedriver.exe\")\n",
    "        dr.get('file:///C:/Users/Owner/Documents/GitHub/SIP2019/lib/ppxf/VDGC/' + pdfs[i])\n",
    "        rating = float(input('Rating?'))\n",
    "        ratings.append([rating,pdfs[i]])\n",
    "        pyautogui.keyDown('alt')\n",
    "        time.sleep(0.1)\n",
    "        pyautogui.press('tab')\n",
    "        time.sleep(0.1)\n",
    "        pyautogui.keyUp('alt')\n",
    "        time.sleep(0.1)\n",
    "        pyautogui.keyUp('enter')\n",
    "        pyautogui.hotkey('ctrl', 'w')\n",
    "        print(i)\n",
    "    return ratings"
   ]
  },
  {
   "cell_type": "code",
   "execution_count": 6,
   "metadata": {},
   "outputs": [],
   "source": [
    "def filemover(files, originalpath, file, num):\n",
    "    for i in range(len(files)):\n",
    "        if (i == num):\n",
    "            shutil.move(originalpath + str(files[i][files[i].index('spec'):files[i].index('pdf')+3]) , \"C:\\\\Users\\\\Owner\\\\Documents\\\\GitHub\\\\SIP2019\\\\lib\\\\ppxf\\\\VDGC\\\\\" + file)              "
   ]
  },
  {
   "cell_type": "code",
   "execution_count": 29,
   "metadata": {},
   "outputs": [],
   "source": [
    "lines = []\n",
    "with open(\"missingvals.txt\") as f:\n",
    "    for line in f:\n",
    "        line = line.strip()\n",
    "        if line:\n",
    "            lines.append(line)"
   ]
  },
  {
   "cell_type": "code",
   "execution_count": 31,
   "metadata": {},
   "outputs": [
    {
     "name": "stdout",
     "output_type": "stream",
     "text": [
      "Rating?1\n",
      "0\n",
      "Rating?1\n",
      "1\n",
      "Rating?1\n",
      "2\n",
      "Rating?1\n",
      "3\n",
      "Rating?1\n",
      "4\n",
      "Rating?1\n",
      "5\n",
      "Rating?0.5\n",
      "6\n",
      "Rating?0\n",
      "7\n",
      "Rating?1\n",
      "8\n",
      "Rating?0\n",
      "9\n",
      "Rating?1\n",
      "10\n",
      "Rating?1\n",
      "11\n",
      "Rating?1\n",
      "12\n",
      "Rating?1\n",
      "13\n",
      "Rating?1\n",
      "14\n",
      "Rating?0\n",
      "15\n",
      "Rating?1\n",
      "16\n",
      "Rating?0\n",
      "17\n",
      "Rating?1\n",
      "18\n",
      "Rating?0\n",
      "19\n",
      "Rating?1\n",
      "20\n",
      "Rating?0\n",
      "21\n",
      "Rating?1\n",
      "22\n",
      "Rating?0\n",
      "23\n",
      "Rating?0.5\n",
      "24\n",
      "Rating?1\n",
      "25\n",
      "Rating?1\n",
      "26\n",
      "Rating?1\n",
      "27\n",
      "Rating?1\n",
      "28\n",
      "Rating?1\n",
      "29\n",
      "Rating?1\n",
      "30\n",
      "Rating?0\n",
      "31\n",
      "Rating?1\n",
      "32\n",
      "Rating?0\n",
      "33\n",
      "Rating?1\n",
      "34\n",
      "Rating?-1\n",
      "35\n"
     ]
    }
   ],
   "source": [
    "myvals = pdfanalyzer(lines, len(lines))"
   ]
  },
  {
   "cell_type": "code",
   "execution_count": 32,
   "metadata": {},
   "outputs": [
    {
     "data": {
      "text/plain": [
       "[[1.0, 'spec1d.vdgc6.038.gcN190.fits.pdf'],\n",
       " [1.0, 'spec1d.vdgc2.061.vir690.fits.pdf'],\n",
       " [1.0, 'spec1d.vdgc3.040.vir203.fits.pdf'],\n",
       " [1.0, 'spec1d.vdgc5.038.vir311.fits.pdf'],\n",
       " [1.0, 'spec1d.vdgc6.039.gcN192.fits.pdf'],\n",
       " [1.0, 'spec1d.vdgc2.062.sgr734.fits.pdf'],\n",
       " [0.5, 'spec1d.vdgc3.042.sgr264.fits.pdf'],\n",
       " [0.0, 'spec1d.vdgc5.041.serendip1.fits.pdf'],\n",
       " [1.0, 'spec1d.vdgc6.041.serendip1.fits.pdf'],\n",
       " [0.0, 'spec1d.vdgc2.063.sgr739.fits.pdf'],\n",
       " [1.0, 'spec1d.vdgc3.044.sgr271.fits.pdf'],\n",
       " [1.0, 'spec1d.vdgc5.041.sgr337.fits.pdf'],\n",
       " [1.0, 'spec1d.vdgc6.042.gcN205.fits.pdf'],\n",
       " [1.0, 'spec1d.vdgc2.064.sgr747.fits.pdf'],\n",
       " [1.0, 'spec1d.vdgc3.045.sgr273.fits.pdf'],\n",
       " [0.0, 'spec1d.vdgc5.042.mst436.fits.pdf'],\n",
       " [1.0, 'spec1d.vdgc6.043.gcN216.fits.pdf'],\n",
       " [0.0, 'spec1d.vdgc2.065.sgr752.fits.pdf'],\n",
       " [1.0, 'spec1d.vdgc3.046.sgr277.fits.pdf'],\n",
       " [0.0, 'spec1d.vdgc5.042.serendip1.fits.pdf'],\n",
       " [1.0, 'spec1d.vdgc6.044.gcN220.fits.pdf'],\n",
       " [0.0, 'spec1d.vdgc2.066.sgr764.fits.pdf'],\n",
       " [1.0, 'spec1d.vdgc3.047.sgr284.fits.pdf'],\n",
       " [0.0, 'spec1d.vdgc5.043.mst439.fits.pdf'],\n",
       " [0.5, 'spec1d.vdgc6.044.serendip1.fits.pdf'],\n",
       " [1.0, 'spec1d.vdgc2.069.sgr779.fits.pdf'],\n",
       " [1.0, 'spec1d.vdgc3.048.sgr292.fits.pdf'],\n",
       " [1.0, 'spec1d.vdgc5.044.mst443.fits.pdf'],\n",
       " [1.0, 'spec1d.vdgc6.045.gcN221.fits.pdf'],\n",
       " [1.0, 'spec1d.vdgc2.072.sgr797.fits.pdf'],\n",
       " [1.0, 'spec1d.vdgc3.049.sgr294.fits.pdf'],\n",
       " [0.0, 'spec1d.vdgc5.046.mst504.fits.pdf'],\n",
       " [1.0, 'spec1d.vdgc6.046.gcN223.fits.pdf'],\n",
       " [0.0, 'spec1d.vdgc2.073.sgr800.fits.pdf'],\n",
       " [1.0, 'spec1d.vdgc3.050.sgr298.fits.pdf'],\n",
       " [-1.0, 'spec1d.vdgc5.048.mst513.fits.pdf']]"
      ]
     },
     "execution_count": 32,
     "metadata": {},
     "output_type": "execute_result"
    }
   ],
   "source": [
    "myvals"
   ]
  },
  {
   "cell_type": "code",
   "execution_count": null,
   "metadata": {},
   "outputs": [],
   "source": []
  }
 ],
 "metadata": {
  "kernelspec": {
   "display_name": "Python 3",
   "language": "python",
   "name": "python3"
  },
  "language_info": {
   "codemirror_mode": {
    "name": "ipython",
    "version": 3
   },
   "file_extension": ".py",
   "mimetype": "text/x-python",
   "name": "python",
   "nbconvert_exporter": "python",
   "pygments_lexer": "ipython3",
   "version": "3.7.3"
  }
 },
 "nbformat": 4,
 "nbformat_minor": 2
}
