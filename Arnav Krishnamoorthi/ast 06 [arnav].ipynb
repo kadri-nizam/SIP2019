{
 "cells": [
  {
   "cell_type": "code",
   "execution_count": 1,
   "metadata": {},
   "outputs": [],
   "source": [
    "import numpy as np\n",
    "from astropy.table import Table, vstack"
   ]
  },
  {
   "cell_type": "code",
   "execution_count": 2,
   "metadata": {},
   "outputs": [],
   "source": [
    "path = '.\\\\..\\\\catalogs\\\\'\n",
    "fileDE = Table.read(path+'VDGC_pPXF_2017_v2.fits')\n",
    "fileUDG = Table.read(path+'VUGC_pPXF_2017_v2.fits')"
   ]
  },
  {
   "cell_type": "code",
   "execution_count": 3,
   "metadata": {},
   "outputs": [],
   "source": [
    "columns_to_change = ['ZERR', 'ZERR_ne', 'ZERR_pe', 'ZHEL', 'ZOBS', 'ZOBS_ne', 'ZOBS_pe']     #rename columns for the DE\n",
    "for col in columns_to_change:\n",
    "    fileDE[col] = fileDE[col] * 3e+5\n",
    "    fileDE.rename_column(col, 'V' + col[1:])   "
   ]
  },
  {
   "cell_type": "code",
   "execution_count": 4,
   "metadata": {},
   "outputs": [],
   "source": [
    "DE_GC = fileDE[fileDE['ZCONF']==1]      #cuts down to ZCONF = 1\n",
    "DE_GC = DE_GC[DE_GC['GCSAT']== 'Y']     #cuts down to GCSAT = yes\n",
    "belongDGC = fileUDG[((fileUDG['HOST'] != 'VLSB-B') & (fileUDG['HOST'] != 'VLSB-D') & (fileUDG['HOST'] != 'VCC0615')) & ((fileUDG['GCSAT']== 'Y') & (fileUDG['ZCONF']==1))]\n",
    "UDG_GC= fileUDG[(fileUDG['HOST'] == 'VLSB-B') | (fileUDG['HOST'] == 'VLSB-D') | (fileUDG['HOST'] == 'VCC0615') & ((fileUDG['ZCONF']==1) & (fileUDG['GCSAT']== 'Y'))]\n",
    "DE_GC = vstack([DE_GC, belongDGC])     #combines DE_GC with the rows originally from UDG data\n",
    "UDG_GC.remove_rows(np.nonzero(belongDGC)[0])   #removes those rows from UDG"
   ]
  },
  {
   "cell_type": "code",
   "execution_count": 5,
   "metadata": {},
   "outputs": [],
   "source": [
    "DE_GC.remove_rows(np.nonzero((DE_GC['VHEL'] > -300) & (DE_GC['VHEL'] < 300))[0])     #removes potential milky way stars\n",
    "UDG_GC.remove_rows(np.nonzero((UDG_GC['VHEL'] > -300) & (UDG_GC['VHEL'] < 300))[0])"
   ]
  }
 ],
 "metadata": {
  "kernelspec": {
   "display_name": "Python 3",
   "language": "python",
   "name": "python3"
  },
  "language_info": {
   "codemirror_mode": {
    "name": "ipython",
    "version": 3
   },
   "file_extension": ".py",
   "mimetype": "text/x-python",
   "name": "python",
   "nbconvert_exporter": "python",
   "pygments_lexer": "ipython3",
   "version": "3.7.3"
  }
 },
 "nbformat": 4,
 "nbformat_minor": 2
}
