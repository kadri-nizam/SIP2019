{
 "cells": [
  {
   "cell_type": "code",
   "execution_count": 1,
   "metadata": {},
   "outputs": [],
   "source": [
    "import numpy as np\n",
    "from astropy.table import Table, vstack, Column"
   ]
  },
  {
   "cell_type": "code",
   "execution_count": 2,
   "metadata": {},
   "outputs": [],
   "source": [
    "path = '.\\\\..\\\\catalogs\\\\'\n",
    "fileDE = Table.read(path+'VDGC_pPXF_2017_v2.fits')\n",
    "fileUDG = Table.read(path+'VUGC_pPXF_2017_v2.fits')"
   ]
  },
  {
   "cell_type": "code",
   "execution_count": 3,
   "metadata": {},
   "outputs": [],
   "source": [
    "columns_to_change = ['ZERR', 'ZERR_ne', 'ZERR_pe', 'ZHEL', 'ZOBS', 'ZOBS_ne', 'ZOBS_pe']     #rename columns for the DE\n",
    "for col in columns_to_change:\n",
    "    fileDE[col] = fileDE[col] * 3e+5\n",
    "    fileDE.rename_column(col, 'V' + col[1:])   "
   ]
  },
  {
   "cell_type": "code",
   "execution_count": 4,
   "metadata": {},
   "outputs": [
    {
     "name": "stdout",
     "output_type": "stream",
     "text": [
      "88\n"
     ]
    }
   ],
   "source": [
    "DE_GC = fileDE[fileDE['ZCONF']==1]      #cuts down to ZCONF = 1\n",
    "DE_GC = DE_GC[DE_GC['GCSAT']== 'Y']     #cuts down to GCSAT = yes\n",
    "belongDGC = fileUDG[((fileUDG['HOST'] != 'VLSB-B') & (fileUDG['HOST'] != 'VLSB-D') & (fileUDG['HOST'] != 'VCC0615')) & ((fileUDG['GCSAT']== 'Y') & (fileUDG['ZCONF']==1))]\n",
    "UDG_GC= fileUDG[(fileUDG['HOST'] == 'VLSB-B') | (fileUDG['HOST'] == 'VLSB-D') | (fileUDG['HOST'] == 'VCC0615') & ((fileUDG['ZCONF']==1) & (fileUDG['GCSAT']== 'Y'))]\n",
    "DE_GC = vstack([DE_GC, belongDGC])     #combines DE_GC with the rows originally from UDG data\n",
    "UDG_GC.remove_rows(np.nonzero(belongDGC)[0])   #removes those rows from UDG\n",
    "print(len(DE_GC))"
   ]
  },
  {
   "cell_type": "code",
   "execution_count": 5,
   "metadata": {},
   "outputs": [
    {
     "name": "stdout",
     "output_type": "stream",
     "text": [
      "87\n"
     ]
    }
   ],
   "source": [
    "DE_GC.remove_rows(np.nonzero((DE_GC['VHEL'] > -300) & (DE_GC['VHEL'] < 300))[0])     #removes potential milky way stars\n",
    "UDG_GC.remove_rows(np.nonzero((UDG_GC['VHEL'] > -300) & (UDG_GC['VHEL'] < 300))[0])\n",
    "print(len(DE_GC))"
   ]
  },
  {
   "cell_type": "code",
   "execution_count": 6,
   "metadata": {},
   "outputs": [],
   "source": [
    "fileOrphanDE = Table.read(path+'orphanGCs.fits')\n",
    "filekinDE = Table.read(path+'VDGC_kinematic_prob.fits')\n",
    "fileOrphanUDG = Table.read(path+'SelectGCsTrue2.fits')\n",
    "filekinUDG = Table.read(path+'SelectGCsTrue_kinematic_prob.fits')\n",
    "def typeandprob(file):\n",
    "    probability = []\n",
    "    objecttype = []\n",
    "    for row in file:\n",
    "        probability.append(max(row))\n",
    "        vals = []\n",
    "        for ind, val in enumerate(row):\n",
    "            vals.append(val)\n",
    "        if (vals.index(max(vals))== 0):\n",
    "            objecttype.append('Star')\n",
    "        elif (vals.index(max(vals))== 1):\n",
    "            objecttype.append('ICGC')\n",
    "        elif (vals.index(max(vals))== 2):\n",
    "            objecttype.append('M87GC')\n",
    "    return probability, objecttype\n",
    "probabilityDE, objecttypeDE = typeandprob(filekinDE)\n",
    "probabilityUDG, objecttypeUDG = typeandprob(filekinUDG)\n",
    "fileOrphanDE['Probability'] = probabilityDE\n",
    "fileOrphanUDG['Probability'] = probabilityUDG\n",
    "fileOrphanDE['Type'] = objecttypeDE\n",
    "fileOrphanUDG['Type'] = objecttypeUDG"
   ]
  },
  {
   "cell_type": "code",
   "execution_count": 36,
   "metadata": {},
   "outputs": [],
   "source": [
    "allnoDE = fileDE[(fileDE['ZCONF']==1) & ((fileDE['GCSAT'] == 'N') | (fileDE['GCSAT'] == 'M'))]        #gets all GCSATs that are NO and ZCONF that are 1 for DE\n",
    "allnoUDG = fileUDG[(fileUDG['ZCONF']==1) & ((fileUDG['GCSAT'] == 'N') | (fileUDG['GCSAT'] == 'M'))]     #does same for the UDG\n",
    "allnoDE.sort('SPEC1DNAME')     #organizes based on SPEC1DNAME for all tables, now since they are all sorted by the same manner their rows must correspond to one another\n",
    "allnoUDG.sort('SPEC1DNAME')\n",
    "fileOrphanDE.sort('SPEC1DNAME')\n",
    "fileOrphanUDG.sort('SPEC1DNAME')\n",
    "focusedUDG = fileOrphanUDG['SPEC1DNAME','Probability','Type']\n",
    "focusedUDG.add_row(['spec1d.vugc1.044.GCXO0504.fits.gz',-1,'Unknown'])\n",
    "focusedUDG.sort('SPEC1DNAME')\n",
    "allnoDE['Probability'] = probabilityDE\n",
    "allnoUDG['Probability'] = focusedUDG['Probability']\n",
    "allnoDE['Type'] = objecttypeDE\n",
    "allnoUDG['Type'] = focusedUDG['Type']"
   ]
  },
  {
   "cell_type": "code",
   "execution_count": 39,
   "metadata": {},
   "outputs": [
    {
     "data": {
      "text/html": [
       "<i>Table length=72</i>\n",
       "<table id=\"table1143647701592\" class=\"table-striped table-bordered table-condensed\">\n",
       "<thead><tr><th>VCC</th><th>TARGTYPE</th><th>GCSAT</th><th>HOST</th><th>RA</th><th>DEC</th><th>VHEL</th><th>VERR</th><th>VERR_pe</th><th>VERR_ne</th><th>ZCONF</th><th>VOBS</th><th>VOBS_pe</th><th>VOBS_ne</th><th>ABANDCOR</th><th>ABANDCOR_pe</th><th>ABANDCOR_ne</th><th>HELCOR</th><th>SN</th><th>MASKNAME</th><th>SLITNUM</th><th>YLOW</th><th>YHIGH</th><th>SPEC1DNAME</th><th>Probability</th><th>Type</th></tr></thead>\n",
       "<thead><tr><th>bytes10</th><th>bytes7</th><th>bytes2</th><th>bytes10</th><th>float32</th><th>float32</th><th>float32</th><th>float32</th><th>float32</th><th>float32</th><th>float32</th><th>float32</th><th>float32</th><th>float32</th><th>float32</th><th>float32</th><th>float32</th><th>float32</th><th>float32</th><th>bytes20</th><th>int16</th><th>int16</th><th>int16</th><th>bytes40</th><th>float32</th><th>str5</th></tr></thead>\n",
       "<tr><td>VCC1148</td><td>NUC</td><td>N</td><td>---</td><td>187.2422</td><td>12.661695</td><td>1417.16</td><td>0.30438462</td><td>0.21</td><td>0.24</td><td>1.0</td><td>1403.28</td><td>0.21</td><td>0.24</td><td>-23.48</td><td>0.18</td><td>0.23</td><td>9.6</td><td>151.96</td><td>vugc1</td><td>0</td><td>43</td><td>59</td><td>spec1d.vugc1.000.NUC001.fits.gz</td><td>0.84855264</td><td>M87GC</td></tr>\n",
       "<tr><td>---</td><td>GCXL</td><td>N</td><td>---</td><td>187.0645</td><td>12.741167</td><td>-591.31</td><td>5.6009865</td><td>3.6</td><td>4.99</td><td>1.0</td><td>-544.81</td><td>3.6</td><td>4.99</td><td>36.9</td><td>3.44</td><td>3.75</td><td>9.6</td><td>7.79</td><td>vugc1</td><td>7</td><td>58</td><td>68</td><td>spec1d.vugc1.007.GCXL008.fits.gz</td><td>0.9999366</td><td>ICGC</td></tr>\n",
       "<tr><td>---</td><td>GCXL</td><td>N</td><td>---</td><td>187.04138</td><td>12.743</td><td>-339.2</td><td>12.014878</td><td>1.14</td><td>18.9</td><td>1.0</td><td>-271.02</td><td>1.14</td><td>18.9</td><td>58.58</td><td>5.66</td><td>7.6</td><td>9.6</td><td>2.14</td><td>vugc1</td><td>9</td><td>41</td><td>51</td><td>spec1d.vugc1.009.GCXL011.fits.gz</td><td>0.6393685</td><td>ICGC</td></tr>\n",
       "<tr><td>---</td><td>GCXL</td><td>N</td><td>---</td><td>187.26938</td><td>12.675</td><td>1265.91</td><td>10.11425</td><td>9.15</td><td>6.84</td><td>1.0</td><td>1251.6</td><td>9.15</td><td>6.84</td><td>-23.91</td><td>6.78</td><td>5.61</td><td>9.6</td><td>4.19</td><td>vugc1</td><td>11</td><td>16</td><td>26</td><td>spec1d.vugc1.011.GCXL013.fits.gz</td><td>0.83778</td><td>M87GC</td></tr>\n",
       "<tr><td>---</td><td>GCXL</td><td>N</td><td>---</td><td>187.0158</td><td>12.7225275</td><td>1397.37</td><td>7.2989125</td><td>5.45</td><td>7.26</td><td>1.0</td><td>1452.44</td><td>5.45</td><td>7.26</td><td>45.47</td><td>3.44</td><td>3.74</td><td>9.6</td><td>6.01</td><td>vugc1</td><td>12</td><td>12</td><td>22</td><td>spec1d.vugc1.012.GCXL015.fits.gz</td><td>0.8498808</td><td>M87GC</td></tr>\n",
       "<tr><td>---</td><td>GCXL</td><td>N</td><td>---</td><td>187.25525</td><td>12.648389</td><td>951.12</td><td>30.016117</td><td>12.48</td><td>16.38</td><td>1.0</td><td>943.01</td><td>12.48</td><td>16.38</td><td>-17.71</td><td>28.32</td><td>24.32</td><td>9.6</td><td>2.21</td><td>vugc1</td><td>14</td><td>60</td><td>70</td><td>spec1d.vugc1.014.GCXL017.fits.gz</td><td>0.57101935</td><td>M87GC</td></tr>\n",
       "<tr><td>---</td><td>GCBL</td><td>N</td><td>---</td><td>187.07175</td><td>12.729305</td><td>190.86</td><td>12.783288</td><td>3.2</td><td>4.53</td><td>1.0</td><td>220.64</td><td>3.2</td><td>4.53</td><td>20.18</td><td>13.53</td><td>10.84</td><td>9.6</td><td>7.97</td><td>vugc1</td><td>25</td><td>11</td><td>19</td><td>spec1d.vugc1.025.GCBL001.fits.gz</td><td>0.9511431</td><td>Star</td></tr>\n",
       "<tr><td>---</td><td>GCBL</td><td>N</td><td>---</td><td>187.27963</td><td>12.6585</td><td>-14.56</td><td>0.59682494</td><td>0.53</td><td>0.49</td><td>1.0</td><td>-35.26</td><td>0.53</td><td>0.49</td><td>-30.3</td><td>0.3</td><td>0.32</td><td>9.6</td><td>61.11</td><td>vugc1</td><td>29</td><td>48</td><td>58</td><td>spec1d.vugc1.029.GCBL007.fits.gz</td><td>0.98372805</td><td>Star</td></tr>\n",
       "<tr><td>---</td><td>GCBL</td><td>N</td><td>---</td><td>187.24742</td><td>12.637139</td><td>-55.26</td><td>5.19</td><td>4.92</td><td>5.46</td><td>1.0</td><td>-45.66</td><td>4.92</td><td>5.46</td><td>-8.24</td><td>29.95</td><td>48.57</td><td>9.6</td><td>7.79</td><td>vugc1</td><td>30</td><td>13</td><td>23</td><td>spec1d.vugc1.030.GCBL008.fits.gz</td><td>0.98111</td><td>Star</td></tr>\n",
       "<tr><td>---</td><td>GCXO</td><td>N</td><td>---</td><td>187.10078</td><td>12.674723</td><td>988.08</td><td>22.852507</td><td>10.37</td><td>11.94</td><td>1.0</td><td>897.41</td><td>10.37</td><td>11.94</td><td>-100.27</td><td>16.91</td><td>22.98</td><td>9.6</td><td>3.48</td><td>vugc1</td><td>34</td><td>92</td><td>102</td><td>spec1d.vugc1.034.GCXO0018.fits.gz</td><td>0.62906873</td><td>M87GC</td></tr>\n",
       "<tr><td>...</td><td>...</td><td>...</td><td>...</td><td>...</td><td>...</td><td>...</td><td>...</td><td>...</td><td>...</td><td>...</td><td>...</td><td>...</td><td>...</td><td>...</td><td>...</td><td>...</td><td>...</td><td>...</td><td>...</td><td>...</td><td>...</td><td>...</td><td>...</td><td>...</td><td>...</td></tr>\n",
       "<tr><td>---</td><td>SGR</td><td>N</td><td>---</td><td>185.79562</td><td>11.95625</td><td>-30.45</td><td>6.590131</td><td>4.42</td><td>7.3</td><td>1.0</td><td>-5.02</td><td>4.42</td><td>7.3</td><td>16.23</td><td>2.9</td><td>3.13</td><td>9.2</td><td>5.03</td><td>vugc6</td><td>49</td><td>81</td><td>91</td><td>spec1d.vugc6.049.SGR0039.fits.gz</td><td>0.9818989</td><td>Star</td></tr>\n",
       "<tr><td>---</td><td>SGR</td><td>N</td><td>---</td><td>185.85175</td><td>12.10025</td><td>-48.3</td><td>4.3181043</td><td>5.08</td><td>2.88</td><td>1.0</td><td>-30.82</td><td>5.08</td><td>2.88</td><td>8.28</td><td>1.53</td><td>1.82</td><td>9.2</td><td>14.49</td><td>vugc6</td><td>50</td><td>112</td><td>120</td><td>spec1d.vugc6.050.SGR0044.fits.gz</td><td>0.9807099</td><td>Star</td></tr>\n",
       "<tr><td>---</td><td>SGR</td><td>N</td><td>---</td><td>185.80034</td><td>11.969306</td><td>-35.15</td><td>5.4065537</td><td>4.37</td><td>5.56</td><td>1.0</td><td>6.67</td><td>4.37</td><td>5.56</td><td>32.62</td><td>2.34</td><td>1.94</td><td>9.2</td><td>12.16</td><td>vugc6</td><td>51</td><td>67</td><td>77</td><td>spec1d.vugc6.051.SGR0085.fits.gz</td><td>0.9816347</td><td>Star</td></tr>\n",
       "<tr><td>---</td><td>SGR</td><td>N</td><td>---</td><td>185.78845</td><td>12.026778</td><td>-67.46</td><td>3.761396</td><td>3.67</td><td>3.53</td><td>1.0</td><td>-37.48</td><td>3.67</td><td>3.53</td><td>20.78</td><td>0.92</td><td>1.26</td><td>9.2</td><td>17.71</td><td>vugc6</td><td>52</td><td>21</td><td>29</td><td>spec1d.vugc6.052.SGR0105.fits.gz</td><td>0.9788053</td><td>Star</td></tr>\n",
       "<tr><td>---</td><td>SGR</td><td>N</td><td>---</td><td>185.84895</td><td>12.092112</td><td>-18.66</td><td>17.332441</td><td>15.33</td><td>17.21</td><td>1.0</td><td>-15.34</td><td>15.33</td><td>17.21</td><td>-5.88</td><td>6.04</td><td>5.91</td><td>9.2</td><td>5.06</td><td>vugc6</td><td>53</td><td>8</td><td>16</td><td>spec1d.vugc6.053.SGR0118.fits.gz</td><td>0.98242027</td><td>Star</td></tr>\n",
       "<tr><td>---</td><td>SGR</td><td>N</td><td>---</td><td>185.88054</td><td>12.135028</td><td>29.33</td><td>10.8752985</td><td>12.75</td><td>7.42</td><td>1.0</td><td>43.62</td><td>12.75</td><td>7.42</td><td>5.09</td><td>4.17</td><td>3.97</td><td>9.2</td><td>4.11</td><td>vugc6</td><td>54</td><td>8</td><td>16</td><td>spec1d.vugc6.054.SGR0123.fits.gz</td><td>0.9826581</td><td>Star</td></tr>\n",
       "<tr><td>---</td><td>SGR</td><td>N</td><td>---</td><td>185.74037</td><td>11.945056</td><td>81.2</td><td>3.226612</td><td>3.06</td><td>3.14</td><td>1.0</td><td>134.32</td><td>3.06</td><td>3.14</td><td>43.92</td><td>0.96</td><td>0.83</td><td>9.2</td><td>19.33</td><td>vugc6</td><td>55</td><td>62</td><td>72</td><td>spec1d.vugc6.055.SGR0130.fits.gz</td><td>0.9793355</td><td>Star</td></tr>\n",
       "<tr><td>---</td><td>SER</td><td>N</td><td>---</td><td>185.8101</td><td>12.019183</td><td>-47.68</td><td>7.958574</td><td>5.6</td><td>9.0</td><td>1.0</td><td>-21.63</td><td>5.6</td><td>9.0</td><td>16.85</td><td>3.69</td><td>2.65</td><td>9.2</td><td>3.45</td><td>vugc6</td><td>56</td><td>46</td><td>53</td><td>spec1d.vugc6.056.serendip1.fits.gz</td><td>0.98076</td><td>Star</td></tr>\n",
       "<tr><td>---</td><td>SGR</td><td>N</td><td>---</td><td>185.78558</td><td>12.031584</td><td>72.83</td><td>7.6939</td><td>2.39</td><td>5.21</td><td>1.0</td><td>92.59</td><td>2.39</td><td>5.21</td><td>10.56</td><td>6.03</td><td>7.35</td><td>9.2</td><td>5.99</td><td>vugc6</td><td>58</td><td>58</td><td>66</td><td>spec1d.vugc6.058.SGR0175.fits.gz</td><td>0.9801772</td><td>Star</td></tr>\n",
       "<tr><td>---</td><td>SGR</td><td>N</td><td>---</td><td>185.72034</td><td>11.928528</td><td>-54.81</td><td>7.384176</td><td>8.65</td><td>5.06</td><td>1.0</td><td>6.45</td><td>8.65</td><td>5.06</td><td>52.06</td><td>2.75</td><td>2.74</td><td>9.2</td><td>4.62</td><td>vugc6</td><td>59</td><td>297</td><td>307</td><td>spec1d.vugc6.059.SGR0179.fits.gz</td><td>0.98014235</td><td>Star</td></tr>\n",
       "</table>"
      ],
      "text/plain": [
       "<Table length=72>\n",
       "  VCC   TARGTYPE GCSAT  ...             SPEC1DNAME             Probability  Type\n",
       "bytes10  bytes7  bytes2 ...              bytes40                 float32    str5\n",
       "------- -------- ------ ... ---------------------------------- ----------- -----\n",
       "VCC1148      NUC      N ...    spec1d.vugc1.000.NUC001.fits.gz  0.84855264 M87GC\n",
       "    ---     GCXL      N ...   spec1d.vugc1.007.GCXL008.fits.gz   0.9999366  ICGC\n",
       "    ---     GCXL      N ...   spec1d.vugc1.009.GCXL011.fits.gz   0.6393685  ICGC\n",
       "    ---     GCXL      N ...   spec1d.vugc1.011.GCXL013.fits.gz     0.83778 M87GC\n",
       "    ---     GCXL      N ...   spec1d.vugc1.012.GCXL015.fits.gz   0.8498808 M87GC\n",
       "    ---     GCXL      N ...   spec1d.vugc1.014.GCXL017.fits.gz  0.57101935 M87GC\n",
       "    ---     GCBL      N ...   spec1d.vugc1.025.GCBL001.fits.gz   0.9511431  Star\n",
       "    ---     GCBL      N ...   spec1d.vugc1.029.GCBL007.fits.gz  0.98372805  Star\n",
       "    ---     GCBL      N ...   spec1d.vugc1.030.GCBL008.fits.gz     0.98111  Star\n",
       "    ---     GCXO      N ...  spec1d.vugc1.034.GCXO0018.fits.gz  0.62906873 M87GC\n",
       "    ...      ...    ... ...                                ...         ...   ...\n",
       "    ---      SGR      N ...   spec1d.vugc6.049.SGR0039.fits.gz   0.9818989  Star\n",
       "    ---      SGR      N ...   spec1d.vugc6.050.SGR0044.fits.gz   0.9807099  Star\n",
       "    ---      SGR      N ...   spec1d.vugc6.051.SGR0085.fits.gz   0.9816347  Star\n",
       "    ---      SGR      N ...   spec1d.vugc6.052.SGR0105.fits.gz   0.9788053  Star\n",
       "    ---      SGR      N ...   spec1d.vugc6.053.SGR0118.fits.gz  0.98242027  Star\n",
       "    ---      SGR      N ...   spec1d.vugc6.054.SGR0123.fits.gz   0.9826581  Star\n",
       "    ---      SGR      N ...   spec1d.vugc6.055.SGR0130.fits.gz   0.9793355  Star\n",
       "    ---      SER      N ... spec1d.vugc6.056.serendip1.fits.gz     0.98076  Star\n",
       "    ---      SGR      N ...   spec1d.vugc6.058.SGR0175.fits.gz   0.9801772  Star\n",
       "    ---      SGR      N ...   spec1d.vugc6.059.SGR0179.fits.gz  0.98014235  Star"
      ]
     },
     "execution_count": 39,
     "metadata": {},
     "output_type": "execute_result"
    }
   ],
   "source": []
  }
 ],
 "metadata": {
  "kernelspec": {
   "display_name": "Python 3",
   "language": "python",
   "name": "python3"
  },
  "language_info": {
   "codemirror_mode": {
    "name": "ipython",
    "version": 3
   },
   "file_extension": ".py",
   "mimetype": "text/x-python",
   "name": "python",
   "nbconvert_exporter": "python",
   "pygments_lexer": "ipython3",
   "version": "3.7.3"
  }
 },
 "nbformat": 4,
 "nbformat_minor": 2
}
