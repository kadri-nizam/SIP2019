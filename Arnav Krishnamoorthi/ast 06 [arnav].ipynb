{
 "cells": [
  {
   "cell_type": "code",
   "execution_count": 1,
   "metadata": {},
   "outputs": [],
   "source": [
    "import numpy as np\n",
    "from astropy.table import Table, vstack, Column\n",
    "from astropy.io import fits, ascii\n",
    "import matplotlib.pyplot as plt\n",
    "import matplotlib.image as mpimg\n",
    "import os\n",
    "import warnings\n",
    "import seaborn as sns\n",
    "import py_specrebin\n",
    "import pandas as pd \n",
    "from pandas import DataFrame as df"
   ]
  },
  {
   "cell_type": "code",
   "execution_count": 2,
   "metadata": {},
   "outputs": [],
   "source": [
    "path = '.\\\\..\\\\catalogs\\\\'\n",
    "fileDE = Table.read(path+'VDGC_pPXF_2017_v2.fits')\n",
    "fileUDG = Table.read(path+'VUGC_pPXF_2017_v2.fits')"
   ]
  },
  {
   "cell_type": "code",
   "execution_count": 3,
   "metadata": {},
   "outputs": [],
   "source": [
    "columns_to_change = ['ZERR', 'ZERR_ne', 'ZERR_pe', 'ZHEL', 'ZOBS', 'ZOBS_ne', 'ZOBS_pe']\n",
    "columns_to_change2 = ['HELCOR','ABANDCOR', 'ABANDCOR_ne', 'ABANDCOR_pe']     #rename columns for the DE\n",
    "for col in columns_to_change:\n",
    "    fileDE[col] = fileDE[col] * 3e+5\n",
    "    fileDE.rename_column(col, 'V' + col[1:]) \n",
    "for col in columns_to_change2:\n",
    "    fileDE[col] = fileDE[col] * 3e+5"
   ]
  },
  {
   "cell_type": "code",
   "execution_count": 4,
   "metadata": {},
   "outputs": [],
   "source": [
    "DE_GC = fileDE[fileDE['ZCONF']==1]      #cuts down to ZCONF = 1\n",
    "DE_GC = DE_GC[DE_GC['GCSAT']== 'Y']     #cuts down to GCSAT = yes\n",
    "UDG_GC = fileUDG[fileUDG['ZCONF']==1]\n",
    "UDG_GC = UDG_GC[UDG_GC['GCSAT']== 'Y']\n",
    "intermediate = UDG_GC.copy()\n",
    "udg_bool = (UDG_GC['HOST'] == 'VLSB-B') | (UDG_GC['HOST'] == 'VLSB-D') | (UDG_GC['HOST'] == 'VCC0615')\n",
    "UDG_GC= UDG_GC[udg_bool]\n",
    "belongDGC = ~udg_bool\n",
    "DE_GC = vstack([DE_GC, intermediate[belongDGC]])     #combines DE_GC with the rows originally from UDG data\n",
    "# DE_GC.remove_rows(np.nonzero((DE_GC['VHEL'] > -300) & (DE_GC['VHEL'] < 300))[0])     #removes potential milky way stars\n",
    "# UDG_GC.remove_rows(np.no vgvvggggggggggggggggggggggggggggggggginzero((UDG_GC['VHEL'] > -300) & (UDG_GC['VHEL'] < 300))[0])"
   ]
  },
  {
   "cell_type": "code",
   "execution_count": 5,
   "metadata": {},
   "outputs": [],
   "source": [
    "fileOrphanDE = Table.read(path+'orphanGCs.fits')\n",
    "filekinDE = Table.read(path+'VDGC_kinematic_prob.fits')\n",
    "fileOrphanUDG = Table.read(path+'SelectGCsTrue2.fits')\n",
    "filekinUDG = Table.read(path+'SelectGCsTrue_kinematic_prob.fits')\n",
    "def typeandprob(file):\n",
    "    probability = []\n",
    "    objecttype = []\n",
    "    for row in file:\n",
    "        probability.append(max(row))\n",
    "        vals = []\n",
    "        for val in row:\n",
    "            vals.append(val)\n",
    "        if (vals.index(max(vals))== 0):\n",
    "            objecttype.append('Star')\n",
    "        elif (vals.index(max(vals))== 1):\n",
    "            objecttype.append('ICGC')\n",
    "        elif (vals.index(max(vals))== 2):\n",
    "            objecttype.append('M87GC')\n",
    "    return probability, objecttype\n",
    "probabilityDE, objecttypeDE = typeandprob(filekinDE)\n",
    "probabilityUDG, objecttypeUDG = typeandprob(filekinUDG)\n",
    "fileOrphanDE['Probability'] = probabilityDE\n",
    "fileOrphanUDG['Probability'] = probabilityUDG\n",
    "fileOrphanDE['Type'] = objecttypeDE\n",
    "fileOrphanUDG['Type'] = objecttypeUDG"
   ]
  },
  {
   "cell_type": "code",
   "execution_count": 6,
   "metadata": {},
   "outputs": [],
   "source": [
    "allnoDE = fileDE[(fileDE['ZCONF']==1) & ((fileDE['GCSAT'] == 'N') | (fileDE['GCSAT'] == 'M'))]        #gets all GCSATs that are NO and ZCONF that are 1 for DE\n",
    "allnoUDG = fileUDG[(fileUDG['ZCONF']==1) & ((fileUDG['GCSAT'] == 'N') | (fileUDG['GCSAT'] == 'M'))]     #does same for the UDG\n",
    "allnoDE.sort('SPEC1DNAME')     #organizes based on SPEC1DNAME for all tables, now since they are all sorted by the same manner their rows must correspond to one another\n",
    "allnoUDG.sort('SPEC1DNAME')\n",
    "fileOrphanDE.sort('SPEC1DNAME')\n",
    "fileOrphanUDG.sort('SPEC1DNAME')\n",
    "focusedUDG = fileOrphanUDG['SPEC1DNAME','Probability','Type']\n",
    "focusedUDG.add_row(['spec1d.vugc1.044.GCXO0504.fits.gz',-1,'Unkwn'])\n",
    "focusedUDG.sort('SPEC1DNAME')\n",
    "allnoDE['Probability'] = probabilityDE\n",
    "allnoUDG['Probability'] = focusedUDG['Probability']\n",
    "allnoDE['Type'] = objecttypeDE\n",
    "allnoUDG['Type'] = focusedUDG['Type']"
   ]
  },
  {
   "cell_type": "code",
   "execution_count": 7,
   "metadata": {},
   "outputs": [],
   "source": [
    "DEtype = []\n",
    "DEprob = []\n",
    "UDGtype = []\n",
    "UDGprob = []\n",
    "for i in range(len(DE_GC)):\n",
    "    DEtype.append('DE_GC')\n",
    "    DEprob.append(1)\n",
    "for i in range(len(UDG_GC)):\n",
    "    UDGtype.append('UDG_GC')\n",
    "    UDGprob.append(1)\n",
    "DE_GC['Type'] = DEtype\n",
    "DE_GC['Probability'] = DEprob\n",
    "UDG_GC['Type'] = UDGtype\n",
    "UDG_GC['Probability'] = UDGprob"
   ]
  },
  {
   "cell_type": "code",
   "execution_count": 8,
   "metadata": {},
   "outputs": [],
   "source": [
    "finaltable = Table()\n",
    "finaltable = vstack([DE_GC, UDG_GC])  \n",
    "finaltable = vstack([finaltable, allnoDE])     \n",
    "finaltable = vstack([finaltable, allnoUDG])\n",
    "allnames = []\n",
    "test = Table()\n",
    "finaltable.sort('SPEC1DNAME')\n",
    "for i in range (len(finaltable)):\n",
    "    allnames.append(finaltable[i]['SPEC1DNAME'])\n",
    "    allnames[i] = allnames[i][:-3]"
   ]
  },
  {
   "cell_type": "code",
   "execution_count": 9,
   "metadata": {},
   "outputs": [],
   "source": [
    "nucDat = ascii.read(path + 'nuc.dat')\n",
    "nucDat.sort('VCC')\n",
    "finaltable.sort('VCC')\n",
    "myVCC = []\n",
    "nucVCC = []\n",
    "for i in range (len(finaltable)):\n",
    "    if (finaltable[i]['VCC'] == '---'):\n",
    "        pass\n",
    "    else:\n",
    "        myVCC.append(finaltable[i]['VCC'])\n",
    "for i in range(len(nucDat)):\n",
    "    nucVCC.append(''+(str(nucDat[i]['name'][24:])))\n",
    "for i in range(len(nucVCC)):\n",
    "    if (nucVCC[i][0] == 'V'):\n",
    "        pass\n",
    "    else:\n",
    "        nucVCC[i] = 'V' + nucVCC[i]\n",
    "indexmatches = []\n",
    "valmatches = []\n",
    "sub = 'VCC'\n",
    "UDGtingz = []\n",
    "UDGtingz.append([s for s in myVCC if sub not in s])\n",
    "UDGtingz = UDGtingz[0]\n",
    "for i in range(len(UDGtingz)):\n",
    "    myVCC.remove(UDGtingz[i])\n",
    "zerocolon = []\n",
    "for val in myVCC:\n",
    "    if val not in nucVCC:\n",
    "        zerocolon.append(val)\n",
    "for val in zerocolon:\n",
    "    myVCC.remove(val)\n",
    "for val in myVCC:\n",
    "    if val in nucVCC:\n",
    "        valmatches.append(val)"
   ]
  },
  {
   "cell_type": "code",
   "execution_count": 10,
   "metadata": {},
   "outputs": [],
   "source": [
    "nuclei = list(nucDat['Nucleus'])\n",
    "finaltable['Nucleus'] = ' 0'\n",
    "i = 0\n",
    "for row in finaltable:\n",
    "    if row['VCC'] == myVCC[i]:\n",
    "        row['Nucleus'] = nuclei[i]\n",
    "        row['Type'] = 'DE_NUC'\n",
    "        if (i < len(myVCC)- 1):\n",
    "            i += 1\n",
    "        else:\n",
    "            pass\n",
    "    elif row['VCC'] in zerocolon:\n",
    "        row['Nucleus'] = ':'\n",
    "    elif row['VCC'] in UDGtingz:\n",
    "        if row['TARGTYPE'] == 'NUC':\n",
    "            row['Nucleus'] = '1'\n",
    "        else:\n",
    "            row['Nucleus'] = '0' \n",
    "    else:\n",
    "        pass\n",
    "for name in finaltable:\n",
    "    name['SPEC1DNAME'] = name['SPEC1DNAME'][:-3]"
   ]
  },
  {
   "cell_type": "code",
   "execution_count": 11,
   "metadata": {},
   "outputs": [],
   "source": [
    "finaltable['SPEC1DNAME'] = allnames"
   ]
  },
  {
   "cell_type": "code",
   "execution_count": 12,
   "metadata": {},
   "outputs": [
    {
     "data": {
      "text/html": [
       "<i>Table masked=True length=547</i>\n",
       "<table id=\"table1720408685536\" class=\"table-striped table-bordered table-condensed\">\n",
       "<thead><tr><th>VCC</th><th>TARGTYPE</th><th>GCSAT</th><th>HOST</th><th>RA</th><th>DEC</th><th>VHEL</th><th>VERR</th><th>VERR_pe</th><th>VERR_ne</th><th>ZCONF</th><th>VOBS</th><th>VOBS_pe</th><th>VOBS_ne</th><th>ABANDCOR</th><th>ABANDCOR_pe</th><th>ABANDCOR_ne</th><th>HELCOR</th><th>SN</th><th>KECKID</th><th>MASKNAME</th><th>SLITNUM</th><th>ZSPECNUM</th><th>ZQUAL</th><th>YLOW</th><th>YHIGH</th><th>SPEC1DNAME</th><th>Type</th><th>Probability</th><th>Nucleus</th></tr></thead>\n",
       "<thead><tr><th>bytes10</th><th>bytes7</th><th>bytes2</th><th>bytes10</th><th>float32</th><th>float32</th><th>float32</th><th>float32</th><th>float32</th><th>float32</th><th>float32</th><th>float32</th><th>float32</th><th>float32</th><th>float32</th><th>float32</th><th>float32</th><th>float32</th><th>float32</th><th>bytes20</th><th>bytes20</th><th>int16</th><th>int16</th><th>int16</th><th>int16</th><th>int16</th><th>str31</th><th>str6</th><th>float64</th><th>str2</th></tr></thead>\n",
       "<tr><td>---</td><td>ALG</td><td>N</td><td>---</td><td>187.0097</td><td>10.359333</td><td>54.56785</td><td>2.5169947</td><td>1.2761084</td><td>1.2873586</td><td>1.0</td><td>117.61137</td><td>0.21014537</td><td>0.21014537</td><td>48.443516</td><td>0.14009692</td><td>0.2201523</td><td>14.6</td><td>196.03</td><td>alg42</td><td>vdgc1</td><td>0</td><td>0</td><td>-1</td><td>15</td><td>21</td><td>spec1d.vdgc1.000.alg42.fits</td><td>Star</td><td>0.9815727472305298</td><td>0</td></tr>\n",
       "<tr><td>---</td><td>GCN</td><td>N</td><td>---</td><td>190.27808</td><td>11.347694</td><td>188.05902</td><td>3.7075615</td><td>3.0438979</td><td>2.974683</td><td>1.0</td><td>176.13185</td><td>2.5017307</td><td>2.481717</td><td>-24.827175</td><td>1.2008307</td><td>1.0607338</td><td>12.9</td><td>16.66</td><td>gcN188</td><td>vdgc8</td><td>42</td><td>51</td><td>4</td><td>4</td><td>10</td><td>spec1d.vdgc1.001.alg115.fits</td><td>Star</td><td>0.9456380605697632</td><td>0</td></tr>\n",
       "<tr><td>---</td><td>GCN</td><td>N</td><td>---</td><td>190.29584</td><td>11.295389</td><td>61.981804</td><td>2.5828428</td><td>1.3721166</td><td>1.4436005</td><td>1.0</td><td>46.822395</td><td>0.5003461</td><td>0.65045</td><td>-28.059412</td><td>0.26018</td><td>0.31021464</td><td>12.9</td><td>60.51</td><td>gcN168</td><td>vdgc8</td><td>40</td><td>48</td><td>4</td><td>200</td><td>205</td><td>spec1d.vdgc1.002.alg140.fits</td><td>Star</td><td>0.9810741543769836</td><td>0</td></tr>\n",
       "<tr><td>---</td><td>GCN</td><td>N</td><td>---</td><td>190.26013</td><td>11.257055</td><td>1412.1558</td><td>7.218932</td><td>6.1288867</td><td>7.670063</td><td>1.0</td><td>1400.5588</td><td>5.1235447</td><td>5.9441123</td><td>-24.496948</td><td>3.12216</td><td>4.68324</td><td>12.9</td><td>6.76</td><td>gcN150</td><td>vdgc8</td><td>38</td><td>44</td><td>4</td><td>72</td><td>78</td><td>spec1d.vdgc1.003.alg164.fits</td><td>ICGC</td><td>1.0</td><td>0</td></tr>\n",
       "<tr><td>---</td><td>GCN</td><td>N</td><td>---</td><td>190.31033</td><td>11.256194</td><td>553.4618</td><td>4.6429586</td><td>4.5116687</td><td>3.7755418</td><td>1.0</td><td>539.77344</td><td>4.2129145</td><td>3.1021461</td><td>-26.588394</td><td>1.0207062</td><td>1.7512115</td><td>12.9</td><td>15.38</td><td>gcN149</td><td>vdgc8</td><td>37</td><td>41</td><td>4</td><td>125</td><td>131</td><td>spec1d.vdgc1.004.alg177.fits</td><td>ICGC</td><td>0.9991095662117004</td><td>0</td></tr>\n",
       "<tr><td>---</td><td>GCN</td><td>N</td><td>---</td><td>190.29695</td><td>11.242444</td><td>217.64949</td><td>7.3605747</td><td>6.507694</td><td>7.5643997</td><td>1.0</td><td>212.53703</td><td>6.0341744</td><td>7.1249294</td><td>-18.01246</td><td>2.0914469</td><td>2.21153</td><td>12.9</td><td>5.84</td><td>gcN141</td><td>vdgc8</td><td>36</td><td>40</td><td>4</td><td>19</td><td>25</td><td>spec1d.vdgc1.005.alg191.fits</td><td>Star</td><td>0.9189153909683228</td><td>0</td></tr>\n",
       "<tr><td>---</td><td>GCN</td><td>N</td><td>---</td><td>190.27217</td><td>11.235723</td><td>687.12427</td><td>6.7171874</td><td>4.529523</td><td>8.342857</td><td>1.0</td><td>673.9462</td><td>3.1621876</td><td>7.4251366</td><td>-26.078041</td><td>2.99207</td><td>3.5924854</td><td>12.9</td><td>5.36</td><td>gcN136</td><td>vdgc8</td><td>35</td><td>39</td><td>1</td><td>21</td><td>27</td><td>spec1d.vdgc1.006.alg194.fits</td><td>ICGC</td><td>0.9999980330467224</td><td>0</td></tr>\n",
       "<tr><td>---</td><td>GCN</td><td>N</td><td>---</td><td>190.27824</td><td>11.225139</td><td>4.3819556</td><td>2.957761</td><td>1.9460571</td><td>2.0825222</td><td>1.0</td><td>-6.1842785</td><td>1.3509345</td><td>1.5010384</td><td>-23.466234</td><td>0.6304362</td><td>0.72049844</td><td>12.9</td><td>29.78</td><td>gcN130</td><td>vdgc8</td><td>34</td><td>38</td><td>4</td><td>29</td><td>35</td><td>spec1d.vdgc1.007.nuc5.fits</td><td>Star</td><td>0.9828998446464539</td><td>0</td></tr>\n",
       "<tr><td>---</td><td>GCN</td><td>N</td><td>---</td><td>190.27042</td><td>11.220639</td><td>-113.08931</td><td>4.0795856</td><td>3.6248136</td><td>3.306391</td><td>1.0</td><td>-119.50267</td><td>2.952042</td><td>2.851973</td><td>-19.31336</td><td>1.69117</td><td>1.1107684</td><td>12.9</td><td>15.27</td><td>gcN126</td><td>vdgc8</td><td>33</td><td>37</td><td>4</td><td>25</td><td>30</td><td>spec1d.vdgc1.008.nuc6.fits</td><td>Star</td><td>0.9704931974411011</td><td>0</td></tr>\n",
       "<tr><td>---</td><td>GCN</td><td>N</td><td>---</td><td>190.27975</td><td>11.219417</td><td>260.33902</td><td>5.971262</td><td>6.119608</td><td>5.0163536</td><td>1.0</td><td>251.9743</td><td>5.6739254</td><td>4.68324</td><td>-21.264711</td><td>1.9213293</td><td>1.2908931</td><td>12.9</td><td>10.57</td><td>gcN123</td><td>vdgc8</td><td>32</td><td>35</td><td>4</td><td>12</td><td>17</td><td>spec1d.vdgc1.009.nuc7.fits</td><td>Star</td><td>0.8447699546813965</td><td>0</td></tr>\n",
       "<tr><td>...</td><td>...</td><td>...</td><td>...</td><td>...</td><td>...</td><td>...</td><td>...</td><td>...</td><td>...</td><td>...</td><td>...</td><td>...</td><td>...</td><td>...</td><td>...</td><td>...</td><td>...</td><td>...</td><td>...</td><td>...</td><td>...</td><td>...</td><td>...</td><td>...</td><td>...</td><td>...</td><td>...</td><td>...</td><td>...</td></tr>\n",
       "<tr><td>VCC1545</td><td>NUC</td><td>N</td><td>---</td><td>188.54808</td><td>12.048972</td><td>2066.659</td><td>2.6256735</td><td>1.4911994</td><td>1.4756395</td><td>1.0</td><td>2077.6475</td><td>0.41028383</td><td>0.42029074</td><td>-2.3115993</td><td>0.70048463</td><td>0.66045696</td><td>13.3</td><td>66.86</td><td>nuc5</td><td>vdgc6</td><td>5</td><td>5</td><td>4</td><td>25</td><td>35</td><td>spec1d.vugc6.049.SGR0039.fits</td><td>DE_NUC</td><td>1.0</td><td>1:</td></tr>\n",
       "<tr><td>VCC1561</td><td>NUC</td><td>N</td><td>---</td><td>188.6042</td><td>12.904695</td><td>1907.1387</td><td>3.7412846</td><td>3.4249122</td><td>2.690169</td><td>1.0</td><td>1903.1466</td><td>0.32022154</td><td>0.010006923</td><td>-17.392033</td><td>3.1721945</td><td>2.3816476</td><td>13.399999</td><td>6.93</td><td>nuc6</td><td>vdgc5</td><td>5</td><td>5</td><td>4</td><td>32</td><td>39</td><td>spec1d.vugc6.050.SGR0044.fits</td><td>DE_NUC</td><td>1.0</td><td>0</td></tr>\n",
       "<tr><td>VCC1563</td><td>NUC</td><td>N</td><td>---</td><td>188.6085</td><td>11.917</td><td>2255.8398</td><td>3.729348</td><td>2.767145</td><td>3.3087828</td><td>1.0</td><td>2268.9497</td><td>2.34162</td><td>2.9020076</td><td>-0.19013153</td><td>0.78054</td><td>0.98067844</td><td>13.3</td><td>17.04</td><td>nuc6</td><td>vdgc6</td><td>6</td><td>6</td><td>4</td><td>56</td><td>62</td><td>spec1d.vugc6.051.SGR0085.fits</td><td>DE_NUC</td><td>1.0</td><td>1</td></tr>\n",
       "<tr><td>VCC1809</td><td>NUC</td><td>N</td><td>---</td><td>189.95009</td><td>12.973972</td><td>2808.8325</td><td>2.5079725</td><td>1.2669728</td><td>1.2601175</td><td>1.0</td><td>2813.6167</td><td>0.18012461</td><td>0.14009692</td><td>-8.816099</td><td>0.090062305</td><td>0.06004154</td><td>13.6</td><td>250.56</td><td>nuc6</td><td>vdgc7</td><td>7</td><td>7</td><td>4</td><td>30</td><td>37</td><td>spec1d.vugc6.052.SGR0105.fits</td><td>DE_NUC</td><td>1.0</td><td>1</td></tr>\n",
       "<tr><td>VCC1828</td><td>NUC</td><td>N</td><td>---</td><td>190.05579</td><td>12.874778</td><td>1554.725</td><td>2.8828146</td><td>2.0137053</td><td>1.8097597</td><td>1.0</td><td>1559.8992</td><td>1.1007615</td><td>1.1107684</td><td>-8.425829</td><td>1.1307824</td><td>0.69047767</td><td>13.6</td><td>26.11</td><td>nuc5</td><td>vdgc7</td><td>6</td><td>6</td><td>4</td><td>33</td><td>41</td><td>spec1d.vugc6.053.SGR0118.fits</td><td>DE_NUC</td><td>1.0</td><td>1</td></tr>\n",
       "<tr><td>VCC1861</td><td>NUC</td><td>N</td><td>---</td><td>190.244</td><td>11.1845</td><td>636.2591</td><td>2.6344306</td><td>1.5071968</td><td>1.4906621</td><td>1.0</td><td>634.5189</td><td>0.66045696</td><td>0.66045696</td><td>-14.640128</td><td>0.52036</td><td>0.47032538</td><td>12.9</td><td>42.86</td><td>nuc5</td><td>vdgc8</td><td>5</td><td>5</td><td>4</td><td>10</td><td>16</td><td>spec1d.vugc6.054.SGR0123.fits</td><td>DE_NUC</td><td>0.9999762773513794</td><td>1</td></tr>\n",
       "<tr><td>VCC1870</td><td>NUC</td><td>N</td><td>---</td><td>190.31392</td><td>11.2983885</td><td>1658.2461</td><td>3.392369</td><td>2.6905599</td><td>2.5394132</td><td>1.0</td><td>1671.2062</td><td>2.0514193</td><td>1.7412046</td><td>0.06004154</td><td>1.2108377</td><td>1.3609415</td><td>12.9</td><td>22.84</td><td>nuc7</td><td>vdgc8</td><td>7</td><td>7</td><td>4</td><td>82</td><td>142</td><td>spec1d.vugc6.055.SGR0130.fits</td><td>DE_NUC</td><td>1.0</td><td>0</td></tr>\n",
       "<tr><td>VCC1871</td><td>NUC</td><td>N</td><td>---</td><td>190.31554</td><td>11.38725</td><td>576.4477</td><td>2.5233026</td><td>1.3011693</td><td>1.286386</td><td>1.0</td><td>585.375</td><td>0.29020074</td><td>0.24016616</td><td>-3.9727485</td><td>0.21014537</td><td>0.18012461</td><td>12.9</td><td>110.77</td><td>nuc6</td><td>vdgc8</td><td>6</td><td>6</td><td>4</td><td>10</td><td>19</td><td>spec1d.vugc6.056.serendip1.fits</td><td>DE_NUC</td><td>0.9996572136878967</td><td>1</td></tr>\n",
       "<tr><td>VCC1879</td><td>NUC</td><td>N</td><td>---</td><td>190.36417</td><td>11.145861</td><td>1752.4312</td><td>32.029392</td><td>34.249435</td><td>29.663242</td><td>1.0</td><td>1744.6469</td><td>34.143623</td><td>29.550444</td><td>-20.58424</td><td>2.3816476</td><td>2.2615647</td><td>12.8</td><td>8.2</td><td>nuc6</td><td>vdgc9B</td><td>6</td><td>6</td><td>4</td><td>63</td><td>69</td><td>spec1d.vugc6.058.SGR0175.fits</td><td>DE_NUC</td><td>1.0</td><td>1</td></tr>\n",
       "<tr><td>VLSB-D</td><td>NUC</td><td>N</td><td>---</td><td>186.17525</td><td>13.517195</td><td>1040.13</td><td>1.422155</td><td>1.22</td><td>1.33</td><td>1.0</td><td>1057.18</td><td>1.22</td><td>1.33</td><td>8.05</td><td>0.77</td><td>0.49</td><td>9.0</td><td>36.87</td><td>0.0</td><td>vugc5</td><td>0</td><td>--</td><td>--</td><td>26</td><td>34</td><td>spec1d.vugc6.059.SGR0179.fits</td><td>ICGC</td><td>1.0</td><td>1</td></tr>\n",
       "</table>"
      ],
      "text/plain": [
       "<Table masked=True length=547>\n",
       "  VCC   TARGTYPE GCSAT    HOST  ...  Type     Probability     Nucleus\n",
       "bytes10  bytes7  bytes2 bytes10 ...  str6       float64         str2 \n",
       "------- -------- ------ ------- ... ------ ------------------ -------\n",
       "    ---      ALG      N     --- ...   Star 0.9815727472305298       0\n",
       "    ---      GCN      N     --- ...   Star 0.9456380605697632       0\n",
       "    ---      GCN      N     --- ...   Star 0.9810741543769836       0\n",
       "    ---      GCN      N     --- ...   ICGC                1.0       0\n",
       "    ---      GCN      N     --- ...   ICGC 0.9991095662117004       0\n",
       "    ---      GCN      N     --- ...   Star 0.9189153909683228       0\n",
       "    ---      GCN      N     --- ...   ICGC 0.9999980330467224       0\n",
       "    ---      GCN      N     --- ...   Star 0.9828998446464539       0\n",
       "    ---      GCN      N     --- ...   Star 0.9704931974411011       0\n",
       "    ---      GCN      N     --- ...   Star 0.8447699546813965       0\n",
       "    ...      ...    ...     ... ...    ...                ...     ...\n",
       "VCC1545      NUC      N     --- ... DE_NUC                1.0      1:\n",
       "VCC1561      NUC      N     --- ... DE_NUC                1.0       0\n",
       "VCC1563      NUC      N     --- ... DE_NUC                1.0       1\n",
       "VCC1809      NUC      N     --- ... DE_NUC                1.0       1\n",
       "VCC1828      NUC      N     --- ... DE_NUC                1.0       1\n",
       "VCC1861      NUC      N     --- ... DE_NUC 0.9999762773513794       1\n",
       "VCC1870      NUC      N     --- ... DE_NUC                1.0       0\n",
       "VCC1871      NUC      N     --- ... DE_NUC 0.9996572136878967       1\n",
       "VCC1879      NUC      N     --- ... DE_NUC                1.0       1\n",
       " VLSB-D      NUC      N     --- ...   ICGC                1.0       1"
      ]
     },
     "execution_count": 12,
     "metadata": {},
     "output_type": "execute_result"
    }
   ],
   "source": [
    "finaltable"
   ]
  },
  {
   "cell_type": "code",
   "execution_count": 13,
   "metadata": {},
   "outputs": [],
   "source": [
    "a = finaltable"
   ]
  },
  {
   "cell_type": "code",
   "execution_count": 15,
   "metadata": {},
   "outputs": [],
   "source": [
    "a.write('finaltable.csv', format = 'csv')"
   ]
  },
  {
   "cell_type": "code",
   "execution_count": null,
   "metadata": {},
   "outputs": [],
   "source": []
  }
 ],
 "metadata": {
  "kernelspec": {
   "display_name": "Python 3",
   "language": "python",
   "name": "python3"
  },
  "language_info": {
   "codemirror_mode": {
    "name": "ipython",
    "version": 3
   },
   "file_extension": ".py",
   "mimetype": "text/x-python",
   "name": "python",
   "nbconvert_exporter": "python",
   "pygments_lexer": "ipython3",
   "version": "3.7.3"
  }
 },
 "nbformat": 4,
 "nbformat_minor": 2
}
