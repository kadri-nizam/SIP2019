{
 "cells": [
  {
   "cell_type": "code",
   "execution_count": 11,
   "metadata": {},
   "outputs": [],
   "source": [
    "from astropy.io import fits\n",
    "import matplotlib.pyplot as plt\n",
    "import matplotlib.image as mpimg\n",
    "import numpy as np\n",
    "from astropy.table import Table, vstack, Column\n",
    "import os\n",
    "import pdb\n",
    "import numpy as np\n",
    "import warnings\n",
    "import seaborn as sns"
   ]
  },
  {
   "cell_type": "code",
   "execution_count": 2,
   "metadata": {},
   "outputs": [],
   "source": [
    "path = '.\\\\..\\\\spectra\\\\'\n",
    "vdgcfiles = []\n",
    "vugcfiles = []\n",
    "for filename in os.listdir(path):\n",
    "    if ((filename.endswith(\".fits\")) & (\"spec\" in filename)): \n",
    "        vdgcfiles.append(filename)\n",
    "    elif ((filename.endswith(\".gz\")) & (\"spec\" in filename)): \n",
    "        vugcfiles.append(filename)"
   ]
  },
  {
   "cell_type": "code",
   "execution_count": 3,
   "metadata": {},
   "outputs": [],
   "source": [
    "def info(file):\n",
    "    file.info()\n",
    "    file[1].data['SPEC']"
   ]
  },
  {
   "cell_type": "code",
   "execution_count": 4,
   "metadata": {},
   "outputs": [],
   "source": [
    "alllambdas = []\n",
    "allfluxes = []\n",
    "allvariances = []\n",
    "for i in range(len(vdgcfiles)):\n",
    "    f = fits.open(path + vdgcfiles[i])\n",
    "    alllambdas.append(f[1].data['LAMBDA'])\n",
    "    allfluxes.append(f[1].data['SPEC'])\n",
    "    allvariances.append(f[1].data['IVAR'])"
   ]
  },
  {
   "cell_type": "code",
   "execution_count": 5,
   "metadata": {},
   "outputs": [],
   "source": [
    "warnings.simplefilter(\"ignore\", RuntimeWarning)\n",
    "def spec_interp(wv,fx,nwwv,*args):\n",
    "    #Required arguments:\n",
    "    #   - wv: old wavelength array\n",
    "    #   - fx: flux to be rebinned\n",
    "    #   - nwwv: new wavelength array\n",
    "    #\n",
    "    #Optional argument: variance\n",
    "    npix = len(wv)\n",
    "    if len(args) == 0:\n",
    "        var = np.ones(npix)\n",
    "        nwvarFlag = False\n",
    "    else:\n",
    "        var = args[0]\n",
    "        nwvarFlag = True\n",
    "    nwpix = len(nwwv)\n",
    "    #Calculate wavelength endpoints for each pixel\n",
    "    wvl = (wv + np.roll(wv,1))/2.\n",
    "    wvh = (wv + np.roll(wv,-1))/2.\n",
    "    wvl[0] = wv[0] - (wv[1] - wv[0])/2.\n",
    "    wvh[npix-1] = wv[npix-1] + (wv[npix-1]-wv[npix-2])/2.\n",
    "    #Calculate endpoints of the final array\n",
    "    bwv = np.zeros(nwpix+1)\n",
    "    bwv[0:nwpix] = (nwwv+np.roll(nwwv,1))/2.\n",
    "    bwv[0] = nwwv[0] - (nwwv[1] - nwwv[0])/2.\n",
    "    bwv[nwpix] = nwwv[nwpix-1]+(nwwv[nwpix-1] - nwwv[nwpix - 1])/2.\n",
    "    #Create tmp arrays for final array\n",
    "    nwfx = np.zeros(nwpix)\n",
    "    nwvar = np.zeros(nwpix)\n",
    "    nwunitfx = np.zeros(nwpix)\n",
    "    #Loop through the arrays\n",
    "    for q in range(npix):\n",
    "        #No overlap\n",
    "        if (wvh[q] <= bwv[0]) | (wvl[q] >= bwv[nwpix]):\n",
    "            continue\n",
    "        #Find pixel that bw is within\n",
    "        if wvl[q] <= bwv[0]:\n",
    "            i1 = [0]\n",
    "        else:\n",
    "            i1 = np.argwhere((wvl[q] <= np.roll(bwv,-1)) & (wvl[q] > bwv))[0]\n",
    "        if wvh[q] > bwv[nwpix]:\n",
    "            i2 = [nwpix-1]\n",
    "        else:\n",
    "            i2 = np.argwhere((wvh[q] <= np.roll(bwv,-1)) & (wvh[q] > bwv))[0]\n",
    "        j1 = i1[0]\n",
    "        j2 = i2[0]\n",
    "        #Now Sum up\n",
    "        for kk in range(j1,j2+1):\n",
    "            #Rejected pixesl do not get added in\n",
    "            if var[q] > 0.:\n",
    "                frac = ( np.min([wvh[q],bwv[kk+1]]) - np.max([wvl[q],bwv[kk]]) ) / (wvh[q]-wvl[q])\n",
    "                nwfx[kk] = nwfx[kk]+frac*fx[q]\n",
    "                nwunitfx[kk] = nwunitfx[kk]+frac*1.0\n",
    "                #Variance\n",
    "                if nwvarFlag:\n",
    "                    if (var[q] <= 0.) | (nwvar[kk] == -1):\n",
    "                       nwvar[kk] = -1\n",
    "                    else:\n",
    "                       nwvar[kk] = nwvar[kk]+frac*var[q]\n",
    "    if nwvarFlag:\n",
    "        fxOut = nwfx/nwunitfx\n",
    "        varOut = nwvar*nwunitfx\n",
    "        \n",
    "        return fxOut,varOut\n",
    "    else:\n",
    "        fxOut = nwfx/nwunitfx\n",
    "        return fxOut\n",
    "\n",
    "\n",
    "def rebinspec(*args,**kwargs):\n",
    "    #Required arguments:\n",
    "    #   - wv: old wavelength array\n",
    "    #   - fx: flux to be rebinned\n",
    "    #   - nwwv: new wavelength array\n",
    "    #\n",
    "    #Optional arguments:\n",
    "    #   - var = var, input and output variance\n",
    "    #   - ivar = ivar, input and output ivar\n",
    "\n",
    "    if len(args) != 3:\n",
    "        print('Proper syntax is: out = rebinspec(wv, fx, nwwv, **kwargs)')\n",
    "        return np.nan\n",
    "\n",
    "    else:\n",
    "        wv, fx, nwwv = args\n",
    "\n",
    "        var = kwargs.get('var',None)\n",
    "        ivar = kwargs.get('ivar',None)\n",
    "\n",
    "        if (var is not None) & (ivar is None):\n",
    "            nwfx,nwvar = spec_interp(wv,fx,nwwv,var)\n",
    "\n",
    "            return nwfx, nwvar\n",
    "        elif (var is None) & (ivar is not None):\n",
    "            var = 1./ivar\n",
    "            nwfx,nwvar_1 = spec_interp(wv,fx,nwwv,var)\n",
    "            nwvar_1[nwvar_1 == 0.0] = -10.0\n",
    "            nwivar = 1.0/nwvar_1\n",
    "            nwivar[nwivar < 0.0] = 0.0\n",
    "            \n",
    "            return nwfx, nwivar\n",
    "        else:\n",
    "            nwfx = spec_interp(wv,fx,nwwv)\n",
    "\n",
    "            return nwfx\n",
    "testlambdas = alllambdas[:10]\n",
    "testfluxes = allfluxes[:10]\n",
    "testvariances = allvariances[:10]"
   ]
  },
  {
   "cell_type": "code",
   "execution_count": 6,
   "metadata": {},
   "outputs": [],
   "source": [
    "# correct = np.arange(4000,8750.9,0.9)\n",
    "# newflux = []\n",
    "# newvar = []\n",
    "# for i in range(len(testlambdas)):  \n",
    "#     newflux, newvar = rebinspec(testlambdas[i][0],testfluxes[i][0], correct, ivar = testvariances[i][0])"
   ]
  },
  {
   "cell_type": "code",
   "execution_count": 15,
   "metadata": {},
   "outputs": [
    {
     "ename": "ValueError",
     "evalue": "Could not interpret input 'smoker'",
     "output_type": "error",
     "traceback": [
      "\u001b[1;31m---------------------------------------------------------------------------\u001b[0m",
      "\u001b[1;31mValueError\u001b[0m                                Traceback (most recent call last)",
      "\u001b[1;32m<ipython-input-15-c078f8740435>\u001b[0m in \u001b[0;36m<module>\u001b[1;34m\u001b[0m\n\u001b[0;32m      1\u001b[0m sns.relplot(x=[1,2], y=[1,2], col=\"time\",\n\u001b[1;32m----> 2\u001b[1;33m             hue=\"smoker\", style=\"smoker\", size=\"size\")\n\u001b[0m",
      "\u001b[1;32m~\\Anaconda3\\lib\\site-packages\\seaborn\\relational.py\u001b[0m in \u001b[0;36mrelplot\u001b[1;34m(x, y, hue, size, style, data, row, col, col_wrap, row_order, col_order, palette, hue_order, hue_norm, sizes, size_order, size_norm, markers, dashes, style_order, legend, kind, height, aspect, facet_kws, **kwargs)\u001b[0m\n\u001b[0;32m   1574\u001b[0m         \u001b[0msizes\u001b[0m\u001b[1;33m=\u001b[0m\u001b[0msizes\u001b[0m\u001b[1;33m,\u001b[0m \u001b[0msize_order\u001b[0m\u001b[1;33m=\u001b[0m\u001b[0msize_order\u001b[0m\u001b[1;33m,\u001b[0m \u001b[0msize_norm\u001b[0m\u001b[1;33m=\u001b[0m\u001b[0msize_norm\u001b[0m\u001b[1;33m,\u001b[0m\u001b[1;33m\u001b[0m\u001b[1;33m\u001b[0m\u001b[0m\n\u001b[0;32m   1575\u001b[0m         \u001b[0mmarkers\u001b[0m\u001b[1;33m=\u001b[0m\u001b[0mmarkers\u001b[0m\u001b[1;33m,\u001b[0m \u001b[0mdashes\u001b[0m\u001b[1;33m=\u001b[0m\u001b[0mdashes\u001b[0m\u001b[1;33m,\u001b[0m \u001b[0mstyle_order\u001b[0m\u001b[1;33m=\u001b[0m\u001b[0mstyle_order\u001b[0m\u001b[1;33m,\u001b[0m\u001b[1;33m\u001b[0m\u001b[1;33m\u001b[0m\u001b[0m\n\u001b[1;32m-> 1576\u001b[1;33m         \u001b[0mlegend\u001b[0m\u001b[1;33m=\u001b[0m\u001b[0mlegend\u001b[0m\u001b[1;33m,\u001b[0m\u001b[1;33m\u001b[0m\u001b[1;33m\u001b[0m\u001b[0m\n\u001b[0m\u001b[0;32m   1577\u001b[0m     )\n\u001b[0;32m   1578\u001b[0m \u001b[1;33m\u001b[0m\u001b[0m\n",
      "\u001b[1;32m~\\Anaconda3\\lib\\site-packages\\seaborn\\relational.py\u001b[0m in \u001b[0;36m__init__\u001b[1;34m(self, x, y, hue, size, style, data, palette, hue_order, hue_norm, sizes, size_order, size_norm, dashes, markers, style_order, x_bins, y_bins, units, estimator, ci, n_boot, alpha, x_jitter, y_jitter, legend)\u001b[0m\n\u001b[0;32m    850\u001b[0m \u001b[1;33m\u001b[0m\u001b[0m\n\u001b[0;32m    851\u001b[0m         plot_data = self.establish_variables(\n\u001b[1;32m--> 852\u001b[1;33m             \u001b[0mx\u001b[0m\u001b[1;33m,\u001b[0m \u001b[0my\u001b[0m\u001b[1;33m,\u001b[0m \u001b[0mhue\u001b[0m\u001b[1;33m,\u001b[0m \u001b[0msize\u001b[0m\u001b[1;33m,\u001b[0m \u001b[0mstyle\u001b[0m\u001b[1;33m,\u001b[0m \u001b[0munits\u001b[0m\u001b[1;33m,\u001b[0m \u001b[0mdata\u001b[0m\u001b[1;33m\u001b[0m\u001b[1;33m\u001b[0m\u001b[0m\n\u001b[0m\u001b[0;32m    853\u001b[0m         )\n\u001b[0;32m    854\u001b[0m \u001b[1;33m\u001b[0m\u001b[0m\n",
      "\u001b[1;32m~\\Anaconda3\\lib\\site-packages\\seaborn\\relational.py\u001b[0m in \u001b[0;36mestablish_variables\u001b[1;34m(self, x, y, hue, size, style, units, data)\u001b[0m\n\u001b[0;32m    140\u001b[0m                 \u001b[1;32mif\u001b[0m \u001b[0misinstance\u001b[0m\u001b[1;33m(\u001b[0m\u001b[0mvar\u001b[0m\u001b[1;33m,\u001b[0m \u001b[0mstring_types\u001b[0m\u001b[1;33m)\u001b[0m\u001b[1;33m:\u001b[0m\u001b[1;33m\u001b[0m\u001b[1;33m\u001b[0m\u001b[0m\n\u001b[0;32m    141\u001b[0m                     \u001b[0merr\u001b[0m \u001b[1;33m=\u001b[0m \u001b[1;34m\"Could not interpret input '{}'\"\u001b[0m\u001b[1;33m.\u001b[0m\u001b[0mformat\u001b[0m\u001b[1;33m(\u001b[0m\u001b[0mvar\u001b[0m\u001b[1;33m)\u001b[0m\u001b[1;33m\u001b[0m\u001b[1;33m\u001b[0m\u001b[0m\n\u001b[1;32m--> 142\u001b[1;33m                     \u001b[1;32mraise\u001b[0m \u001b[0mValueError\u001b[0m\u001b[1;33m(\u001b[0m\u001b[0merr\u001b[0m\u001b[1;33m)\u001b[0m\u001b[1;33m\u001b[0m\u001b[1;33m\u001b[0m\u001b[0m\n\u001b[0m\u001b[0;32m    143\u001b[0m \u001b[1;33m\u001b[0m\u001b[0m\n\u001b[0;32m    144\u001b[0m             \u001b[1;31m# Extract variable names\u001b[0m\u001b[1;33m\u001b[0m\u001b[1;33m\u001b[0m\u001b[1;33m\u001b[0m\u001b[0m\n",
      "\u001b[1;31mValueError\u001b[0m: Could not interpret input 'smoker'"
     ]
    }
   ],
   "source": [
    "sns.relplot(x=[1,2], y=[1,2], col=\"time\",\n",
    "            hue=\"smoker\", style=\"smoker\", size=\"size\")"
   ]
  },
  {
   "cell_type": "code",
   "execution_count": null,
   "metadata": {},
   "outputs": [],
   "source": []
  }
 ],
 "metadata": {
  "kernelspec": {
   "display_name": "Python 3",
   "language": "python",
   "name": "python3"
  },
  "language_info": {
   "codemirror_mode": {
    "name": "ipython",
    "version": 3
   },
   "file_extension": ".py",
   "mimetype": "text/x-python",
   "name": "python",
   "nbconvert_exporter": "python",
   "pygments_lexer": "ipython3",
   "version": "3.7.3"
  }
 },
 "nbformat": 4,
 "nbformat_minor": 2
}
