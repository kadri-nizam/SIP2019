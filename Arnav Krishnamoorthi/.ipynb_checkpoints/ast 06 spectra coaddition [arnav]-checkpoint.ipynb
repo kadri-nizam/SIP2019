{
 "cells": [
  {
   "cell_type": "code",
   "execution_count": 1,
   "metadata": {},
   "outputs": [],
   "source": [
    "from astropy.io import fits\n",
    "import matplotlib.pyplot as plt\n",
    "import matplotlib.image as mpimg\n",
    "import numpy as np\n",
    "from astropy.table import Table, vstack, Column\n",
    "import os\n",
    "import pdb\n",
    "import numpy as np\n",
    "import warnings"
   ]
  },
  {
   "cell_type": "code",
   "execution_count": 2,
   "metadata": {},
   "outputs": [],
   "source": [
    "path = '.\\\\..\\\\spectra\\\\'\n",
    "vdgcfiles = []\n",
    "vugcfiles = []\n",
    "for filename in os.listdir(path):\n",
    "    if ((filename.endswith(\".fits\")) & (\"spec\" in filename)): \n",
    "        vdgcfiles.append(filename)\n",
    "    elif ((filename.endswith(\".gz\")) & (\"spec\" in filename)): \n",
    "        vugcfiles.append(filename)"
   ]
  },
  {
   "cell_type": "code",
   "execution_count": 3,
   "metadata": {},
   "outputs": [],
   "source": [
    "def info(file):\n",
    "    file.info()\n",
    "    file[1].data['SPEC']"
   ]
  },
  {
   "cell_type": "code",
   "execution_count": 4,
   "metadata": {},
   "outputs": [],
   "source": [
    "alllambdas = []\n",
    "allfluxes = []\n",
    "allvariances = []\n",
    "for i in range(len(vdgcfiles)):\n",
    "    f = fits.open(path + vdgcfiles[i])\n",
    "    alllambdas.append(f[1].data['LAMBDA'])\n",
    "    allfluxes.append(f[1].data['SPEC'])\n",
    "    allvariances.append(f[1].data['IVAR'])"
   ]
  },
  {
   "cell_type": "code",
   "execution_count": 5,
   "metadata": {},
   "outputs": [],
   "source": [
    "warnings.simplefilter(\"ignore\", RuntimeWarning)\n",
    "def spec_interp(wv,fx,nwwv,*args):\n",
    "    #Required arguments:\n",
    "    #   - wv: old wavelength array\n",
    "    #   - fx: flux to be rebinned\n",
    "    #   - nwwv: new wavelength array\n",
    "    #\n",
    "    #Optional argument: variance\n",
    "    npix = len(wv)\n",
    "    if len(args) == 0:\n",
    "        var = np.ones(npix)\n",
    "        nwvarFlag = False\n",
    "    else:\n",
    "        var = args[0]\n",
    "        nwvarFlag = True\n",
    "    nwpix = len(nwwv)\n",
    "    #Calculate wavelength endpoints for each pixel\n",
    "    wvl = (wv + np.roll(wv,1))/2.\n",
    "    wvh = (wv + np.roll(wv,-1))/2.\n",
    "    wvl[0] = wv[0] - (wv[1] - wv[0])/2.\n",
    "    wvh[npix-1] = wv[npix-1] + (wv[npix-1]-wv[npix-2])/2.\n",
    "    #Calculate endpoints of the final array\n",
    "    bwv = np.zeros(nwpix+1)\n",
    "    bwv[0:nwpix] = (nwwv+np.roll(nwwv,1))/2.\n",
    "    bwv[0] = nwwv[0] - (nwwv[1] - nwwv[0])/2.\n",
    "    bwv[nwpix] = nwwv[nwpix-1]+(nwwv[nwpix-1] - nwwv[nwpix - 1])/2.\n",
    "    #Create tmp arrays for final array\n",
    "    nwfx = np.zeros(nwpix)\n",
    "    nwvar = np.zeros(nwpix)\n",
    "    nwunitfx = np.zeros(nwpix)\n",
    "    #Loop through the arrays\n",
    "    for q in range(npix):\n",
    "        #No overlap\n",
    "        if (wvh[q] <= bwv[0]) | (wvl[q] >= bwv[nwpix]):\n",
    "            continue\n",
    "        #Find pixel that bw is within\n",
    "        if wvl[q] <= bwv[0]:\n",
    "            i1 = [0]\n",
    "        else:\n",
    "            i1 = np.argwhere((wvl[q] <= np.roll(bwv,-1)) & (wvl[q] > bwv))[0]\n",
    "        if wvh[q] > bwv[nwpix]:\n",
    "            i2 = [nwpix-1]\n",
    "        else:\n",
    "            i2 = np.argwhere((wvh[q] <= np.roll(bwv,-1)) & (wvh[q] > bwv))[0]\n",
    "        j1 = i1[0]\n",
    "        j2 = i2[0]\n",
    "        #Now Sum up\n",
    "        for kk in range(j1,j2+1):\n",
    "            #Rejected pixesl do not get added in\n",
    "            if var[q] > 0.:\n",
    "                frac = ( np.min([wvh[q],bwv[kk+1]]) - np.max([wvl[q],bwv[kk]]) ) / (wvh[q]-wvl[q])\n",
    "                nwfx[kk] = nwfx[kk]+frac*fx[q]\n",
    "                nwunitfx[kk] = nwunitfx[kk]+frac*1.0\n",
    "                #Variance\n",
    "                if nwvarFlag:\n",
    "                    if (var[q] <= 0.) | (nwvar[kk] == -1):\n",
    "                       nwvar[kk] = -1\n",
    "                    else:\n",
    "                       nwvar[kk] = nwvar[kk]+frac*var[q]\n",
    "    if nwvarFlag:\n",
    "        fxOut = nwfx/nwunitfx\n",
    "        varOut = nwvar*nwunitfx\n",
    "        \n",
    "        return fxOut,varOut\n",
    "    else:\n",
    "        fxOut = nwfx/nwunitfx\n",
    "        return fxOut\n",
    "\n",
    "\n",
    "def rebinspec(*args,**kwargs):\n",
    "    #Required arguments:\n",
    "    #   - wv: old wavelength array\n",
    "    #   - fx: flux to be rebinned\n",
    "    #   - nwwv: new wavelength array\n",
    "    #\n",
    "    #Optional arguments:\n",
    "    #   - var = var, input and output variance\n",
    "    #   - ivar = ivar, input and output ivar\n",
    "\n",
    "    if len(args) != 3:\n",
    "        print('Proper syntax is: out = rebinspec(wv, fx, nwwv, **kwargs)')\n",
    "        return np.nan\n",
    "\n",
    "    else:\n",
    "        wv, fx, nwwv = args\n",
    "\n",
    "        var = kwargs.get('var',None)\n",
    "        ivar = kwargs.get('ivar',None)\n",
    "\n",
    "        if (var is not None) & (ivar is None):\n",
    "            nwfx,nwvar = spec_interp(wv,fx,nwwv,var)\n",
    "\n",
    "            return nwfx, nwvar\n",
    "        elif (var is None) & (ivar is not None):\n",
    "            var = 1./ivar\n",
    "            nwfx,nwvar_1 = spec_interp(wv,fx,nwwv,var)\n",
    "            nwvar_1[nwvar_1 == 0.0] = -10.0\n",
    "            nwivar = 1.0/nwvar_1\n",
    "            nwivar[nwivar < 0.0] = 0.0\n",
    "            \n",
    "            return nwfx, nwivar\n",
    "        else:\n",
    "            nwfx = spec_interp(wv,fx,nwwv)\n",
    "\n",
    "            return nwfx\n",
    "testlambdas = alllambdas[:10]\n",
    "testfluxes = allfluxes[:10]\n",
    "testvariances = allvariances[:10]"
   ]
  },
  {
   "cell_type": "code",
   "execution_count": 6,
   "metadata": {},
   "outputs": [
    {
     "name": "stdout",
     "output_type": "stream",
     "text": [
      "Proper syntax is: out = rebinspec(wv, fx, nwwv, **kwargs)\n",
      "Proper syntax is: out = rebinspec(wv, fx, nwwv, **kwargs)\n",
      "Proper syntax is: out = rebinspec(wv, fx, nwwv, **kwargs)\n",
      "Proper syntax is: out = rebinspec(wv, fx, nwwv, **kwargs)\n",
      "Proper syntax is: out = rebinspec(wv, fx, nwwv, **kwargs)\n",
      "Proper syntax is: out = rebinspec(wv, fx, nwwv, **kwargs)\n",
      "Proper syntax is: out = rebinspec(wv, fx, nwwv, **kwargs)\n",
      "Proper syntax is: out = rebinspec(wv, fx, nwwv, **kwargs)\n",
      "Proper syntax is: out = rebinspec(wv, fx, nwwv, **kwargs)\n",
      "Proper syntax is: out = rebinspec(wv, fx, nwwv, **kwargs)\n"
     ]
    }
   ],
   "source": [
    "correct = np.arange(4000,8750.9,0.9)\n",
    "specinterps = []\n",
    "for i in range(len(testlambdas)):  \n",
    "    rebinspec(testlambdas[i][0],testfluxes[i][0], correct, testvariances[i][0])"
   ]
  },
  {
   "cell_type": "code",
   "execution_count": 8,
   "metadata": {},
   "outputs": [
    {
     "data": {
      "text/plain": [
       "(array([nan, nan, nan, ..., nan, nan, nan]),\n",
       " array([0., 0., 0., ..., 0., 0., 0.]))"
      ]
     },
     "execution_count": 8,
     "metadata": {},
     "output_type": "execute_result"
    }
   ],
   "source": [
    "rebinspec(testlambdas[i][0],testfluxes[i][0], correct, ivar = testvariances[i][0])"
   ]
  },
  {
   "cell_type": "code",
   "execution_count": null,
   "metadata": {},
   "outputs": [],
   "source": []
  },
  {
   "cell_type": "code",
   "execution_count": null,
   "metadata": {},
   "outputs": [],
   "source": []
  }
 ],
 "metadata": {
  "kernelspec": {
   "display_name": "Python 3",
   "language": "python",
   "name": "python3"
  },
  "language_info": {
   "codemirror_mode": {
    "name": "ipython",
    "version": 3
   },
   "file_extension": ".py",
   "mimetype": "text/x-python",
   "name": "python",
   "nbconvert_exporter": "python",
   "pygments_lexer": "ipython3",
   "version": "3.7.3"
  }
 },
 "nbformat": 4,
 "nbformat_minor": 2
}
