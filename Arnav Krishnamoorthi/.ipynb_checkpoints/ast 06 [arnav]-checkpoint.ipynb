{
 "cells": [
  {
   "cell_type": "code",
   "execution_count": 2,
   "metadata": {},
   "outputs": [],
   "source": [
    "from astropy.io import fits\n",
    "import matplotlib.pyplot as plt\n",
    "import matplotlib.image as mpimg\n",
    "import numpy as np\n",
    "from astropy.table import Table, vstack"
   ]
  },
  {
   "cell_type": "code",
   "execution_count": 3,
   "metadata": {},
   "outputs": [],
   "source": [
    "path = '.\\\\..\\\\catalogs\\\\'\n",
    "file = Table.read(path+'VDGC_pPXF_2017_v2.fits')\n",
    "file2 = Table.read(path+'VUGC_pPXF_2017_v2.fits')"
   ]
  },
  {
   "cell_type": "code",
   "execution_count": 4,
   "metadata": {},
   "outputs": [],
   "source": [
    "columns_to_change = ['ZERR', 'ZERR_ne', 'ZERR_pe', 'ZHEL', 'ZOBS', 'ZOBS_ne', 'ZOBS_pe']\n",
    "for col in columns_to_change:\n",
    "    file[col] = file[col] * 3e+5\n",
    "    file.rename_column(col, 'V' + col[1:])   "
   ]
  },
  {
   "cell_type": "code",
   "execution_count": 5,
   "metadata": {},
   "outputs": [],
   "source": [
    "DE_GC = []\n",
    "UDG_GC = []\n",
    "DE_GC = file[file['ZCONF']==1.0]\n",
    "DE_GC = file[file['GCSAT']== 'Y']\n",
    "#print(DE_GC[16]) #for some reason element 16 is safe even with zconf of 0.0\n",
    "belongDGC = file2[((file2['HOST'] != 'VLSB-B') & (file2['HOST'] != 'VLSB-D') & (file2['HOST'] != 'VCC0615')) & ((file2['GCSAT']== 'Y') & (file2['ZCONF']==1))]\n",
    "UDG_GC= file2[(file2['HOST'] == 'VLSB-B') | (file2['HOST'] == 'VLSB-D') | (file2['HOST'] == 'VCC0615') & ((file2['ZCONF']==1) & (file2['GCSAT']== 'Y'))]\n",
    "DE_GC = vstack([DE_GC, belongDGC])\n",
    "UDG_GC.remove_rows(np.nonzero(belongDGC)[0])"
   ]
  },
  {
   "cell_type": "code",
   "execution_count": null,
   "metadata": {},
   "outputs": [],
   "source": []
  }
 ],
 "metadata": {
  "kernelspec": {
   "display_name": "Python 3",
   "language": "python",
   "name": "python3"
  },
  "language_info": {
   "codemirror_mode": {
    "name": "ipython",
    "version": 3
   },
   "file_extension": ".py",
   "mimetype": "text/x-python",
   "name": "python",
   "nbconvert_exporter": "python",
   "pygments_lexer": "ipython3",
   "version": "3.7.3"
  }
 },
 "nbformat": 4,
 "nbformat_minor": 2
}
