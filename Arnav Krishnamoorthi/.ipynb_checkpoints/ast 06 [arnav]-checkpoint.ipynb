{
 "cells": [
  {
   "cell_type": "code",
   "execution_count": 1,
   "metadata": {},
   "outputs": [],
   "source": [
    "import numpy as np\n",
    "from astropy.table import Table, vstack, Column\n",
    "from astropy.io import fits, ascii"
   ]
  },
  {
   "cell_type": "code",
   "execution_count": 2,
   "metadata": {},
   "outputs": [],
   "source": [
    "path = '.\\\\..\\\\catalogs\\\\'\n",
    "fileDE = Table.read(path+'VDGC_pPXF_2017_v2.fits')\n",
    "fileUDG = Table.read(path+'VUGC_pPXF_2017_v2.fits')"
   ]
  },
  {
   "cell_type": "code",
   "execution_count": 3,
   "metadata": {},
   "outputs": [],
   "source": [
    "columns_to_change = ['ZERR', 'ZERR_ne', 'ZERR_pe', 'ZHEL', 'ZOBS', 'ZOBS_ne', 'ZOBS_pe']\n",
    "columns_to_change2 = ['HELCOR','ABANDCOR', 'ABANDCOR_ne', 'ABANDCOR_pe']     #rename columns for the DE\n",
    "for col in columns_to_change:\n",
    "    fileDE[col] = fileDE[col] * 3e+5\n",
    "    fileDE.rename_column(col, 'V' + col[1:]) \n",
    "for col in columns_to_change2:\n",
    "    fileDE[col] = fileDE[col] * 3e+5"
   ]
  },
  {
   "cell_type": "code",
   "execution_count": 4,
   "metadata": {},
   "outputs": [],
   "source": [
    "DE_GC = fileDE[fileDE['ZCONF']==1]      #cuts down to ZCONF = 1\n",
    "DE_GC = DE_GC[DE_GC['GCSAT']== 'Y']     #cuts down to GCSAT = yes\n",
    "UDG_GC = fileUDG[fileUDG['ZCONF']==1]\n",
    "UDG_GC = UDG_GC[UDG_GC['GCSAT']== 'Y']\n",
    "intermediate = UDG_GC.copy()\n",
    "udg_bool = (UDG_GC['HOST'] == 'VLSB-B') | (UDG_GC['HOST'] == 'VLSB-D') | (UDG_GC['HOST'] == 'VCC0615')\n",
    "UDG_GC= UDG_GC[udg_bool]\n",
    "belongDGC = ~udg_bool\n",
    "DE_GC = vstack([DE_GC, intermediate[belongDGC]])     #combines DE_GC with the rows originally from UDG data\n",
    "# DE_GC.remove_rows(np.nonzero((DE_GC['VHEL'] > -300) & (DE_GC['VHEL'] < 300))[0])     #removes potential milky way stars\n",
    "# UDG_GC.remove_rows(np.nonzero((UDG_GC['VHEL'] > -300) & (UDG_GC['VHEL'] < 300))[0])"
   ]
  },
  {
   "cell_type": "code",
   "execution_count": 5,
   "metadata": {},
   "outputs": [],
   "source": [
    "fileOrphanDE = Table.read(path+'orphanGCs.fits')\n",
    "filekinDE = Table.read(path+'VDGC_kinematic_prob.fits')\n",
    "fileOrphanUDG = Table.read(path+'SelectGCsTrue2.fits')\n",
    "filekinUDG = Table.read(path+'SelectGCsTrue_kinematic_prob.fits')\n",
    "def typeandprob(file):\n",
    "    probability = []\n",
    "    objecttype = []\n",
    "    for row in file:\n",
    "        probability.append(max(row))\n",
    "        vals = []\n",
    "        for val in row:\n",
    "            vals.append(val)\n",
    "        if (vals.index(max(vals))== 0):\n",
    "            objecttype.append('Star')\n",
    "        elif (vals.index(max(vals))== 1):\n",
    "            objecttype.append('ICGC')\n",
    "        elif (vals.index(max(vals))== 2):\n",
    "            objecttype.append('M87GC')\n",
    "    return probability, objecttype\n",
    "probabilityDE, objecttypeDE = typeandprob(filekinDE)\n",
    "probabilityUDG, objecttypeUDG = typeandprob(filekinUDG)\n",
    "fileOrphanDE['Probability'] = probabilityDE\n",
    "fileOrphanUDG['Probability'] = probabilityUDG\n",
    "fileOrphanDE['Type'] = objecttypeDE\n",
    "fileOrphanUDG['Type'] = objecttypeUDG"
   ]
  },
  {
   "cell_type": "code",
   "execution_count": 6,
   "metadata": {},
   "outputs": [],
   "source": [
    "allnoDE = fileDE[(fileDE['ZCONF']==1) & ((fileDE['GCSAT'] == 'N') | (fileDE['GCSAT'] == 'M'))]        #gets all GCSATs that are NO and ZCONF that are 1 for DE\n",
    "allnoUDG = fileUDG[(fileUDG['ZCONF']==1) & ((fileUDG['GCSAT'] == 'N') | (fileUDG['GCSAT'] == 'M'))]     #does same for the UDG\n",
    "allnoDE.sort('SPEC1DNAME')     #organizes based on SPEC1DNAME for all tables, now since they are all sorted by the same manner their rows must correspond to one another\n",
    "allnoUDG.sort('SPEC1DNAME')\n",
    "fileOrphanDE.sort('SPEC1DNAME')\n",
    "fileOrphanUDG.sort('SPEC1DNAME')\n",
    "focusedUDG = fileOrphanUDG['SPEC1DNAME','Probability','Type']\n",
    "focusedUDG.add_row(['spec1d.vugc1.044.GCXO0504.fits.gz',-1,'Unkwn'])\n",
    "focusedUDG.sort('SPEC1DNAME')\n",
    "allnoDE['Probability'] = probabilityDE\n",
    "allnoUDG['Probability'] = focusedUDG['Probability']\n",
    "allnoDE['Type'] = objecttypeDE\n",
    "allnoUDG['Type'] = focusedUDG['Type']"
   ]
  },
  {
   "cell_type": "code",
   "execution_count": 7,
   "metadata": {},
   "outputs": [],
   "source": [
    "DEtype = []\n",
    "DEprob = []\n",
    "UDGtype = []\n",
    "UDGprob = []\n",
    "for i in range(len(DE_GC)):\n",
    "    DEtype.append('DE_GC')\n",
    "    DEprob.append(1)\n",
    "for i in range(len(UDG_GC)):\n",
    "    UDGtype.append('UDG_GC')\n",
    "    UDGprob.append(1)\n",
    "DE_GC['Type'] = DEtype\n",
    "DE_GC['Probability'] = DEprob\n",
    "UDG_GC['Type'] = UDGtype\n",
    "UDG_GC['Probability'] = UDGprob"
   ]
  },
  {
   "cell_type": "code",
   "execution_count": 8,
   "metadata": {},
   "outputs": [],
   "source": [
    "finaltable = Table()\n",
    "finaltable = vstack([DE_GC, UDG_GC])  \n",
    "finaltable = vstack([finaltable, allnoDE])     \n",
    "finaltable = vstack([finaltable, allnoUDG])\n",
    "allnames = []\n",
    "test = Table()\n",
    "for i in range (len(finaltable)):\n",
    "    allnames.append(finaltable[i]['SPEC1DNAME'])"
   ]
  },
  {
   "cell_type": "code",
   "execution_count": 9,
   "metadata": {},
   "outputs": [],
   "source": [
    "nucDat = ascii.read(path + 'nuc.dat')\n",
    "nucDat.sort('VCC')\n",
    "finaltable.sort('VCC')\n",
    "myVCC = []\n",
    "nucVCC = []\n",
    "for i in range (len(finaltable)):\n",
    "    if (finaltable[i]['VCC'] == '---'):\n",
    "        pass\n",
    "    else:\n",
    "        myVCC.append(finaltable[i]['VCC'])\n",
    "for i in range(len(nucDat)):\n",
    "    nucVCC.append(''+(str(nucDat[i]['name'][24:])))\n",
    "for i in range(len(nucVCC)):\n",
    "    if (nucVCC[i][0] == 'V'):\n",
    "        pass\n",
    "    else:\n",
    "        nucVCC[i] = 'V' + nucVCC[i]\n",
    "indexmatches = []\n",
    "valmatches = []\n",
    "sub = 'VCC'\n",
    "UDGtingz = []\n",
    "UDGtingz.append([s for s in myVCC if sub not in s])\n",
    "UDGtingz = UDGtingz[0]\n",
    "for i in range(len(UDGtingz)):\n",
    "    myVCC.remove(UDGtingz[i])\n",
    "zerocolon = []\n",
    "for val in myVCC:\n",
    "    if val not in nucVCC:\n",
    "        zerocolon.append(val)\n",
    "for val in zerocolon:\n",
    "    myVCC.remove(val)\n",
    "for val in myVCC:\n",
    "    if val in nucVCC:\n",
    "        valmatches.append(val)\n",
    "#0615, 1148"
   ]
  },
  {
   "cell_type": "code",
   "execution_count": 10,
   "metadata": {},
   "outputs": [],
   "source": [
    "nuclei = list(nucDat['Nucleus'])"
   ]
  },
  {
   "cell_type": "code",
   "execution_count": 11,
   "metadata": {},
   "outputs": [],
   "source": [
    "finaltable['Nucleus'] = ' 0'\n",
    "i = 0\n",
    "for row in finaltable:\n",
    "    if row['VCC'] == myVCC[i]:\n",
    "        row['Nucleus'] = nuclei[i]\n",
    "        if (i < len(myVCC)- 1):\n",
    "            i += 1\n",
    "        else:\n",
    "            pass\n",
    "    elif row['VCC'] in zerocolon:\n",
    "        row['Nucleus'] = ':'\n",
    "    elif row['VCC'] in UDGtingz:\n",
    "        if row['TARGTYPE'] == 'NUC':\n",
    "            row['Nucleus'] = '1'\n",
    "        else:\n",
    "            row['Nucleus'] = '0' \n",
    "    else:\n",
    "        pass"
   ]
  }
 ],
 "metadata": {
  "kernelspec": {
   "display_name": "Python 3",
   "language": "python",
   "name": "python3"
  },
  "language_info": {
   "codemirror_mode": {
    "name": "ipython",
    "version": 3
   },
   "file_extension": ".py",
   "mimetype": "text/x-python",
   "name": "python",
   "nbconvert_exporter": "python",
   "pygments_lexer": "ipython3",
   "version": "3.7.3"
  }
 },
 "nbformat": 4,
 "nbformat_minor": 2
}
