{
 "cells": [
  {
   "cell_type": "code",
   "execution_count": 6,
   "metadata": {},
   "outputs": [],
   "source": [
    "from astropy.io import fits\n",
    "import matplotlib.pyplot as plt\n",
    "import matplotlib.image as mpimg\n",
    "import numpy as np\n",
    "from astropy.table import Table"
   ]
  },
  {
   "cell_type": "code",
   "execution_count": 48,
   "metadata": {},
   "outputs": [],
   "source": [
    "path = './../catalogs/'\n",
    "file = Table.read(path+'VUGC_pPXF_2017_v2.fits')\n",
    "file2 = Table.read(path+'VDGC_pPXF_2017_v2.fits')"
   ]
  },
  {
   "cell_type": "code",
   "execution_count": 148,
   "metadata": {},
   "outputs": [],
   "source": [
    "one=file[file['ZCONF']==1]"
   ]
  },
  {
   "cell_type": "code",
   "execution_count": 152,
   "metadata": {},
   "outputs": [
    {
     "data": {
      "text/html": [
       "<i>Table length=97</i>\n",
       "<table id=\"table4869194584\" class=\"table-striped table-bordered table-condensed\">\n",
       "<thead><tr><th>VCC</th><th>TARGTYPE</th><th>GCSAT</th><th>HOST</th><th>RA</th><th>DEC</th><th>VHEL</th><th>VERR</th><th>VERR_pe</th><th>VERR_ne</th><th>ZCONF</th><th>VOBS</th><th>VOBS_pe</th><th>VOBS_ne</th><th>ABANDCOR</th><th>ABANDCOR_pe</th><th>ABANDCOR_ne</th><th>HELCOR</th><th>SN</th><th>MASKNAME</th><th>SLITNUM</th><th>YLOW</th><th>YHIGH</th><th>SPEC1DNAME</th></tr></thead>\n",
       "<thead><tr><th>bytes10</th><th>bytes7</th><th>bytes2</th><th>bytes10</th><th>float32</th><th>float32</th><th>float32</th><th>float32</th><th>float32</th><th>float32</th><th>float32</th><th>float32</th><th>float32</th><th>float32</th><th>float32</th><th>float32</th><th>float32</th><th>float32</th><th>float32</th><th>bytes20</th><th>int16</th><th>int16</th><th>int16</th><th>bytes40</th></tr></thead>\n",
       "<tr><td>VCC1148</td><td>NUC</td><td>N</td><td>---</td><td>187.2422</td><td>12.661695</td><td>1417.16</td><td>0.30438462</td><td>0.21</td><td>0.24</td><td>1.0</td><td>1403.28</td><td>0.21</td><td>0.24</td><td>-23.48</td><td>0.18</td><td>0.23</td><td>9.6</td><td>151.96</td><td>vugc1</td><td>0</td><td>43</td><td>59</td><td>spec1d.vugc1.000.NUC001.fits.gz</td></tr>\n",
       "<tr><td>---</td><td>GCXL</td><td>Y</td><td>VLSB-B</td><td>187.04521</td><td>12.7260275</td><td>36.84</td><td>7.0934</td><td>7.08</td><td>6.54</td><td>1.0</td><td>85.78</td><td>7.08</td><td>6.54</td><td>39.34</td><td>2.15</td><td>1.82</td><td>9.6</td><td>10.08</td><td>vugc1</td><td>4</td><td>15</td><td>27</td><td>spec1d.vugc1.004.GCXL003.fits.gz</td></tr>\n",
       "<tr><td>---</td><td>GCXL</td><td>Y</td><td>VLSB-B</td><td>187.04175</td><td>12.724417</td><td>4.73</td><td>25.45554</td><td>26.43</td><td>24.23</td><td>1.0</td><td>38.71</td><td>26.43</td><td>24.23</td><td>24.38</td><td>2.72</td><td>2.33</td><td>9.6</td><td>4.85</td><td>vugc1</td><td>6</td><td>20</td><td>30</td><td>spec1d.vugc1.006.GCXL007.fits.gz</td></tr>\n",
       "<tr><td>---</td><td>GCXL</td><td>N</td><td>---</td><td>187.0645</td><td>12.741167</td><td>-591.31</td><td>5.6009865</td><td>3.6</td><td>4.99</td><td>1.0</td><td>-544.81</td><td>3.6</td><td>4.99</td><td>36.9</td><td>3.44</td><td>3.75</td><td>9.6</td><td>7.79</td><td>vugc1</td><td>7</td><td>58</td><td>68</td><td>spec1d.vugc1.007.GCXL008.fits.gz</td></tr>\n",
       "<tr><td>---</td><td>GCXL</td><td>N</td><td>---</td><td>187.04138</td><td>12.743</td><td>-339.2</td><td>12.014878</td><td>1.14</td><td>18.9</td><td>1.0</td><td>-271.02</td><td>1.14</td><td>18.9</td><td>58.58</td><td>5.66</td><td>7.6</td><td>9.6</td><td>2.14</td><td>vugc1</td><td>9</td><td>41</td><td>51</td><td>spec1d.vugc1.009.GCXL011.fits.gz</td></tr>\n",
       "<tr><td>---</td><td>GCXL</td><td>Y</td><td>VLSB-B</td><td>187.04613</td><td>12.724055</td><td>52.14</td><td>9.228409</td><td>7.88</td><td>8.58</td><td>1.0</td><td>104.23</td><td>7.88</td><td>8.58</td><td>42.49</td><td>4.41</td><td>3.94</td><td>9.6</td><td>4.28</td><td>vugc1</td><td>10</td><td>12</td><td>22</td><td>spec1d.vugc1.010.GCXL012.fits.gz</td></tr>\n",
       "<tr><td>---</td><td>GCXL</td><td>N</td><td>---</td><td>187.26938</td><td>12.675</td><td>1265.91</td><td>10.11425</td><td>9.15</td><td>6.84</td><td>1.0</td><td>1251.6</td><td>9.15</td><td>6.84</td><td>-23.91</td><td>6.78</td><td>5.61</td><td>9.6</td><td>4.19</td><td>vugc1</td><td>11</td><td>16</td><td>26</td><td>spec1d.vugc1.011.GCXL013.fits.gz</td></tr>\n",
       "<tr><td>---</td><td>GCXL</td><td>N</td><td>---</td><td>187.0158</td><td>12.7225275</td><td>1397.37</td><td>7.2989125</td><td>5.45</td><td>7.26</td><td>1.0</td><td>1452.44</td><td>5.45</td><td>7.26</td><td>45.47</td><td>3.44</td><td>3.74</td><td>9.6</td><td>6.01</td><td>vugc1</td><td>12</td><td>12</td><td>22</td><td>spec1d.vugc1.012.GCXL015.fits.gz</td></tr>\n",
       "<tr><td>---</td><td>GCXL</td><td>Y</td><td>VCC1148</td><td>187.23409</td><td>12.664805</td><td>1375.66</td><td>7.476045</td><td>3.42</td><td>6.91</td><td>1.0</td><td>1335.91</td><td>3.42</td><td>6.91</td><td>-49.35</td><td>4.7</td><td>6.11</td><td>9.6</td><td>4.68</td><td>vugc1</td><td>13</td><td>214</td><td>224</td><td>spec1d.vugc1.013.GCXL016.fits.gz</td></tr>\n",
       "<tr><td>---</td><td>GCXL</td><td>N</td><td>---</td><td>187.25525</td><td>12.648389</td><td>951.12</td><td>30.016117</td><td>12.48</td><td>16.38</td><td>1.0</td><td>943.01</td><td>12.48</td><td>16.38</td><td>-17.71</td><td>28.32</td><td>24.32</td><td>9.6</td><td>2.21</td><td>vugc1</td><td>14</td><td>60</td><td>70</td><td>spec1d.vugc1.014.GCXL017.fits.gz</td></tr>\n",
       "<tr><td>...</td><td>...</td><td>...</td><td>...</td><td>...</td><td>...</td><td>...</td><td>...</td><td>...</td><td>...</td><td>...</td><td>...</td><td>...</td><td>...</td><td>...</td><td>...</td><td>...</td><td>...</td><td>...</td><td>...</td><td>...</td><td>...</td><td>...</td><td>...</td></tr>\n",
       "<tr><td>---</td><td>SGR</td><td>N</td><td>---</td><td>185.79562</td><td>11.95625</td><td>-30.45</td><td>6.590131</td><td>4.42</td><td>7.3</td><td>1.0</td><td>-5.02</td><td>4.42</td><td>7.3</td><td>16.23</td><td>2.9</td><td>3.13</td><td>9.2</td><td>5.03</td><td>vugc6</td><td>49</td><td>81</td><td>91</td><td>spec1d.vugc6.049.SGR0039.fits.gz</td></tr>\n",
       "<tr><td>---</td><td>SGR</td><td>N</td><td>---</td><td>185.85175</td><td>12.10025</td><td>-48.3</td><td>4.3181043</td><td>5.08</td><td>2.88</td><td>1.0</td><td>-30.82</td><td>5.08</td><td>2.88</td><td>8.28</td><td>1.53</td><td>1.82</td><td>9.2</td><td>14.49</td><td>vugc6</td><td>50</td><td>112</td><td>120</td><td>spec1d.vugc6.050.SGR0044.fits.gz</td></tr>\n",
       "<tr><td>---</td><td>SGR</td><td>N</td><td>---</td><td>185.80034</td><td>11.969306</td><td>-35.15</td><td>5.4065537</td><td>4.37</td><td>5.56</td><td>1.0</td><td>6.67</td><td>4.37</td><td>5.56</td><td>32.62</td><td>2.34</td><td>1.94</td><td>9.2</td><td>12.16</td><td>vugc6</td><td>51</td><td>67</td><td>77</td><td>spec1d.vugc6.051.SGR0085.fits.gz</td></tr>\n",
       "<tr><td>---</td><td>SGR</td><td>N</td><td>---</td><td>185.78845</td><td>12.026778</td><td>-67.46</td><td>3.761396</td><td>3.67</td><td>3.53</td><td>1.0</td><td>-37.48</td><td>3.67</td><td>3.53</td><td>20.78</td><td>0.92</td><td>1.26</td><td>9.2</td><td>17.71</td><td>vugc6</td><td>52</td><td>21</td><td>29</td><td>spec1d.vugc6.052.SGR0105.fits.gz</td></tr>\n",
       "<tr><td>---</td><td>SGR</td><td>N</td><td>---</td><td>185.84895</td><td>12.092112</td><td>-18.66</td><td>17.332441</td><td>15.33</td><td>17.21</td><td>1.0</td><td>-15.34</td><td>15.33</td><td>17.21</td><td>-5.88</td><td>6.04</td><td>5.91</td><td>9.2</td><td>5.06</td><td>vugc6</td><td>53</td><td>8</td><td>16</td><td>spec1d.vugc6.053.SGR0118.fits.gz</td></tr>\n",
       "<tr><td>---</td><td>SGR</td><td>N</td><td>---</td><td>185.88054</td><td>12.135028</td><td>29.33</td><td>10.8752985</td><td>12.75</td><td>7.42</td><td>1.0</td><td>43.62</td><td>12.75</td><td>7.42</td><td>5.09</td><td>4.17</td><td>3.97</td><td>9.2</td><td>4.11</td><td>vugc6</td><td>54</td><td>8</td><td>16</td><td>spec1d.vugc6.054.SGR0123.fits.gz</td></tr>\n",
       "<tr><td>---</td><td>SGR</td><td>N</td><td>---</td><td>185.74037</td><td>11.945056</td><td>81.2</td><td>3.226612</td><td>3.06</td><td>3.14</td><td>1.0</td><td>134.32</td><td>3.06</td><td>3.14</td><td>43.92</td><td>0.96</td><td>0.83</td><td>9.2</td><td>19.33</td><td>vugc6</td><td>55</td><td>62</td><td>72</td><td>spec1d.vugc6.055.SGR0130.fits.gz</td></tr>\n",
       "<tr><td>---</td><td>SER</td><td>N</td><td>---</td><td>185.8101</td><td>12.019183</td><td>-47.68</td><td>7.958574</td><td>5.6</td><td>9.0</td><td>1.0</td><td>-21.63</td><td>5.6</td><td>9.0</td><td>16.85</td><td>3.69</td><td>2.65</td><td>9.2</td><td>3.45</td><td>vugc6</td><td>56</td><td>46</td><td>53</td><td>spec1d.vugc6.056.serendip1.fits.gz</td></tr>\n",
       "<tr><td>---</td><td>SGR</td><td>N</td><td>---</td><td>185.78558</td><td>12.031584</td><td>72.83</td><td>7.6939</td><td>2.39</td><td>5.21</td><td>1.0</td><td>92.59</td><td>2.39</td><td>5.21</td><td>10.56</td><td>6.03</td><td>7.35</td><td>9.2</td><td>5.99</td><td>vugc6</td><td>58</td><td>58</td><td>66</td><td>spec1d.vugc6.058.SGR0175.fits.gz</td></tr>\n",
       "<tr><td>---</td><td>SGR</td><td>N</td><td>---</td><td>185.72034</td><td>11.928528</td><td>-54.81</td><td>7.384176</td><td>8.65</td><td>5.06</td><td>1.0</td><td>6.45</td><td>8.65</td><td>5.06</td><td>52.06</td><td>2.75</td><td>2.74</td><td>9.2</td><td>4.62</td><td>vugc6</td><td>59</td><td>297</td><td>307</td><td>spec1d.vugc6.059.SGR0179.fits.gz</td></tr>\n",
       "</table>"
      ],
      "text/plain": [
       "<Table length=97>\n",
       "  VCC   TARGTYPE GCSAT  ...  YLOW YHIGH             SPEC1DNAME            \n",
       "bytes10  bytes7  bytes2 ... int16 int16              bytes40              \n",
       "------- -------- ------ ... ----- ----- ----------------------------------\n",
       "VCC1148      NUC      N ...    43    59    spec1d.vugc1.000.NUC001.fits.gz\n",
       "    ---     GCXL      Y ...    15    27   spec1d.vugc1.004.GCXL003.fits.gz\n",
       "    ---     GCXL      Y ...    20    30   spec1d.vugc1.006.GCXL007.fits.gz\n",
       "    ---     GCXL      N ...    58    68   spec1d.vugc1.007.GCXL008.fits.gz\n",
       "    ---     GCXL      N ...    41    51   spec1d.vugc1.009.GCXL011.fits.gz\n",
       "    ---     GCXL      Y ...    12    22   spec1d.vugc1.010.GCXL012.fits.gz\n",
       "    ---     GCXL      N ...    16    26   spec1d.vugc1.011.GCXL013.fits.gz\n",
       "    ---     GCXL      N ...    12    22   spec1d.vugc1.012.GCXL015.fits.gz\n",
       "    ---     GCXL      Y ...   214   224   spec1d.vugc1.013.GCXL016.fits.gz\n",
       "    ---     GCXL      N ...    60    70   spec1d.vugc1.014.GCXL017.fits.gz\n",
       "    ...      ...    ... ...   ...   ...                                ...\n",
       "    ---      SGR      N ...    81    91   spec1d.vugc6.049.SGR0039.fits.gz\n",
       "    ---      SGR      N ...   112   120   spec1d.vugc6.050.SGR0044.fits.gz\n",
       "    ---      SGR      N ...    67    77   spec1d.vugc6.051.SGR0085.fits.gz\n",
       "    ---      SGR      N ...    21    29   spec1d.vugc6.052.SGR0105.fits.gz\n",
       "    ---      SGR      N ...     8    16   spec1d.vugc6.053.SGR0118.fits.gz\n",
       "    ---      SGR      N ...     8    16   spec1d.vugc6.054.SGR0123.fits.gz\n",
       "    ---      SGR      N ...    62    72   spec1d.vugc6.055.SGR0130.fits.gz\n",
       "    ---      SER      N ...    46    53 spec1d.vugc6.056.serendip1.fits.gz\n",
       "    ---      SGR      N ...    58    66   spec1d.vugc6.058.SGR0175.fits.gz\n",
       "    ---      SGR      N ...   297   307   spec1d.vugc6.059.SGR0179.fits.gz"
      ]
     },
     "execution_count": 152,
     "metadata": {},
     "output_type": "execute_result"
    }
   ],
   "source": [
    "one"
   ]
  },
  {
   "cell_type": "code",
   "execution_count": 155,
   "metadata": {},
   "outputs": [],
   "source": [
    "Y=one[one['GCSAT']=='Y']"
   ]
  },
  {
   "cell_type": "code",
   "execution_count": 156,
   "metadata": {},
   "outputs": [
    {
     "data": {
      "text/html": [
       "<i>Table length=25</i>\n",
       "<table id=\"table4869760448\" class=\"table-striped table-bordered table-condensed\">\n",
       "<thead><tr><th>VCC</th><th>TARGTYPE</th><th>GCSAT</th><th>HOST</th><th>RA</th><th>DEC</th><th>VHEL</th><th>VERR</th><th>VERR_pe</th><th>VERR_ne</th><th>ZCONF</th><th>VOBS</th><th>VOBS_pe</th><th>VOBS_ne</th><th>ABANDCOR</th><th>ABANDCOR_pe</th><th>ABANDCOR_ne</th><th>HELCOR</th><th>SN</th><th>MASKNAME</th><th>SLITNUM</th><th>YLOW</th><th>YHIGH</th><th>SPEC1DNAME</th></tr></thead>\n",
       "<thead><tr><th>bytes10</th><th>bytes7</th><th>bytes2</th><th>bytes10</th><th>float32</th><th>float32</th><th>float32</th><th>float32</th><th>float32</th><th>float32</th><th>float32</th><th>float32</th><th>float32</th><th>float32</th><th>float32</th><th>float32</th><th>float32</th><th>float32</th><th>float32</th><th>bytes20</th><th>int16</th><th>int16</th><th>int16</th><th>bytes40</th></tr></thead>\n",
       "<tr><td>---</td><td>GCXL</td><td>Y</td><td>VLSB-B</td><td>187.04521</td><td>12.7260275</td><td>36.84</td><td>7.0934</td><td>7.08</td><td>6.54</td><td>1.0</td><td>85.78</td><td>7.08</td><td>6.54</td><td>39.34</td><td>2.15</td><td>1.82</td><td>9.6</td><td>10.08</td><td>vugc1</td><td>4</td><td>15</td><td>27</td><td>spec1d.vugc1.004.GCXL003.fits.gz</td></tr>\n",
       "<tr><td>---</td><td>GCXL</td><td>Y</td><td>VLSB-B</td><td>187.04175</td><td>12.724417</td><td>4.73</td><td>25.45554</td><td>26.43</td><td>24.23</td><td>1.0</td><td>38.71</td><td>26.43</td><td>24.23</td><td>24.38</td><td>2.72</td><td>2.33</td><td>9.6</td><td>4.85</td><td>vugc1</td><td>6</td><td>20</td><td>30</td><td>spec1d.vugc1.006.GCXL007.fits.gz</td></tr>\n",
       "<tr><td>---</td><td>GCXL</td><td>Y</td><td>VLSB-B</td><td>187.04613</td><td>12.724055</td><td>52.14</td><td>9.228409</td><td>7.88</td><td>8.58</td><td>1.0</td><td>104.23</td><td>7.88</td><td>8.58</td><td>42.49</td><td>4.41</td><td>3.94</td><td>9.6</td><td>4.28</td><td>vugc1</td><td>10</td><td>12</td><td>22</td><td>spec1d.vugc1.010.GCXL012.fits.gz</td></tr>\n",
       "<tr><td>---</td><td>GCXL</td><td>Y</td><td>VCC1148</td><td>187.23409</td><td>12.664805</td><td>1375.66</td><td>7.476045</td><td>3.42</td><td>6.91</td><td>1.0</td><td>1335.91</td><td>3.42</td><td>6.91</td><td>-49.35</td><td>4.7</td><td>6.11</td><td>9.6</td><td>4.68</td><td>vugc1</td><td>13</td><td>214</td><td>224</td><td>spec1d.vugc1.013.GCXL016.fits.gz</td></tr>\n",
       "<tr><td>---</td><td>GCXF</td><td>Y</td><td>VLSB-B</td><td>187.04088</td><td>12.735666</td><td>-73.27</td><td>48.365</td><td>39.31</td><td>57.42</td><td>1.0</td><td>-63.67</td><td>39.31</td><td>57.42</td><td>7.27</td><td>17.61</td><td>183.55</td><td>9.6</td><td>0.81</td><td>vugc1</td><td>19</td><td>15</td><td>23</td><td>spec1d.vugc1.019.GCXF011.fits.gz</td></tr>\n",
       "<tr><td>---</td><td>GCBL</td><td>Y</td><td>VCC1153</td><td>187.26996</td><td>12.665</td><td>113.24</td><td>3.2922218</td><td>2.8</td><td>3.15</td><td>1.0</td><td>96.86</td><td>2.8</td><td>3.15</td><td>-25.98</td><td>1.66</td><td>1.16</td><td>9.6</td><td>17.0</td><td>vugc1</td><td>28</td><td>40</td><td>50</td><td>spec1d.vugc1.028.GCBL005.fits.gz</td></tr>\n",
       "<tr><td>---</td><td>GCXL</td><td>Y</td><td>VLSB-D</td><td>186.17159</td><td>13.580055</td><td>1006.92</td><td>8.453587</td><td>4.7</td><td>7.19</td><td>1.0</td><td>987.41</td><td>4.7</td><td>7.19</td><td>-28.51</td><td>5.59</td><td>6.43</td><td>9.0</td><td>6.17</td><td>vugc5</td><td>1</td><td>4</td><td>7</td><td>spec1d.vugc5.001.GCXL001.fits.gz</td></tr>\n",
       "<tr><td>---</td><td>GCXL</td><td>Y</td><td>VLSB-D</td><td>186.18745</td><td>13.564</td><td>1057.16</td><td>10.3895645</td><td>7.36</td><td>7.03</td><td>1.0</td><td>1052.7</td><td>7.36</td><td>7.03</td><td>-13.46</td><td>7.44</td><td>7.55</td><td>9.0</td><td>6.33</td><td>vugc5</td><td>2</td><td>24</td><td>32</td><td>spec1d.vugc5.002.GCXL002.fits.gz</td></tr>\n",
       "<tr><td>---</td><td>GCXL</td><td>Y</td><td>VLSB-D</td><td>186.17741</td><td>13.550445</td><td>1026.31</td><td>4.880886</td><td>3.9</td><td>4.49</td><td>1.0</td><td>1028.8</td><td>3.9</td><td>4.49</td><td>-6.51</td><td>2.44</td><td>2.55</td><td>9.0</td><td>11.62</td><td>vugc5</td><td>3</td><td>55</td><td>63</td><td>spec1d.vugc5.003.GCXL003.fits.gz</td></tr>\n",
       "<tr><td>---</td><td>GCXL</td><td>Y</td><td>VLSB-D</td><td>186.18413</td><td>13.556723</td><td>1056.22</td><td>12.89066</td><td>15.56</td><td>8.47</td><td>1.0</td><td>1056.32</td><td>15.56</td><td>8.47</td><td>-8.9</td><td>4.43</td><td>4.91</td><td>9.0</td><td>2.39</td><td>vugc5</td><td>4</td><td>16</td><td>22</td><td>spec1d.vugc5.004.GCXL004.fits.gz</td></tr>\n",
       "<tr><td>...</td><td>...</td><td>...</td><td>...</td><td>...</td><td>...</td><td>...</td><td>...</td><td>...</td><td>...</td><td>...</td><td>...</td><td>...</td><td>...</td><td>...</td><td>...</td><td>...</td><td>...</td><td>...</td><td>...</td><td>...</td><td>...</td><td>...</td><td>...</td></tr>\n",
       "<tr><td>---</td><td>GCXF</td><td>Y</td><td>VLSB-D</td><td>186.17091</td><td>13.498722</td><td>1028.3</td><td>12.425</td><td>10.98</td><td>13.87</td><td>1.0</td><td>1037.3</td><td>10.98</td><td>13.87</td><td>-9.15</td><td>34.16</td><td>29.25</td><td>9.0</td><td>2.15</td><td>vugc5</td><td>15</td><td>30</td><td>38</td><td>spec1d.vugc5.015.GCXF002.fits.gz</td></tr>\n",
       "<tr><td>---</td><td>GCXF</td><td>Y</td><td>VLSB-D</td><td>186.17587</td><td>13.533361</td><td>1043.16</td><td>13.015199</td><td>8.56</td><td>11.54</td><td>1.0</td><td>1035.59</td><td>8.56</td><td>11.54</td><td>-16.57</td><td>8.82</td><td>7.72</td><td>9.0</td><td>4.38</td><td>vugc5</td><td>19</td><td>22</td><td>30</td><td>spec1d.vugc5.019.GCXF008.fits.gz</td></tr>\n",
       "<tr><td>---</td><td>GCBF</td><td>Y</td><td>VLSB-D</td><td>186.16437</td><td>13.568361</td><td>1043.72</td><td>19.373266</td><td>13.22</td><td>7.47</td><td>1.0</td><td>1047.04</td><td>13.22</td><td>7.47</td><td>-5.68</td><td>13.55</td><td>19.21</td><td>9.0</td><td>3.88</td><td>vugc5</td><td>25</td><td>43</td><td>51</td><td>spec1d.vugc5.025.GCBF006.fits.gz</td></tr>\n",
       "<tr><td>---</td><td>GCXL</td><td>Y</td><td>VCC0615</td><td>185.763</td><td>12.007584</td><td>2092.53</td><td>3.7062986</td><td>1.25</td><td>1.04</td><td>1.0</td><td>2113.06</td><td>1.25</td><td>1.04</td><td>11.33</td><td>2.5</td><td>4.55</td><td>9.2</td><td>6.85</td><td>vugc6</td><td>1</td><td>19</td><td>27</td><td>spec1d.vugc6.001.GCXL001.fits.gz</td></tr>\n",
       "<tr><td>---</td><td>GCXL</td><td>Y</td><td>VCC0615</td><td>185.7575</td><td>11.9945</td><td>2098.03</td><td>21.363428</td><td>25.18</td><td>13.07</td><td>1.0</td><td>2128.62</td><td>25.18</td><td>13.07</td><td>21.39</td><td>8.46</td><td>10.58</td><td>9.2</td><td>3.97</td><td>vugc6</td><td>2</td><td>14</td><td>24</td><td>spec1d.vugc6.002.GCXL002.fits.gz</td></tr>\n",
       "<tr><td>---</td><td>GCXL</td><td>Y</td><td>VCC0615</td><td>185.7768</td><td>12.016472</td><td>2117.74</td><td>9.1028805</td><td>11.13</td><td>5.91</td><td>1.0</td><td>2134.53</td><td>11.13</td><td>5.91</td><td>7.59</td><td>3.22</td><td>3.19</td><td>9.2</td><td>6.66</td><td>vugc6</td><td>3</td><td>39</td><td>47</td><td>spec1d.vugc6.003.GCXL003.fits.gz</td></tr>\n",
       "<tr><td>---</td><td>GCXL</td><td>Y</td><td>VCC0615</td><td>185.77496</td><td>12.022</td><td>2074.73</td><td>3.1152046</td><td>0.32</td><td>0.04</td><td>1.0</td><td>2099.35</td><td>0.32</td><td>0.04</td><td>15.42</td><td>2.99</td><td>3.23</td><td>9.2</td><td>4.27</td><td>vugc6</td><td>4</td><td>37</td><td>45</td><td>spec1d.vugc6.004.GCXL004.fits.gz</td></tr>\n",
       "<tr><td>---</td><td>GCXF</td><td>Y</td><td>VCC0615</td><td>185.77983</td><td>12.024111</td><td>2051.32</td><td>5.945473</td><td>0.06</td><td>0.09</td><td>1.0</td><td>2094.21</td><td>0.06</td><td>0.09</td><td>33.69</td><td>6.31</td><td>5.58</td><td>9.2</td><td>3.0</td><td>vugc6</td><td>5</td><td>103</td><td>113</td><td>spec1d.vugc6.005.GCXF003.fits.gz</td></tr>\n",
       "<tr><td>---</td><td>GCXF</td><td>Y</td><td>VCC0615</td><td>185.785</td><td>12.017889</td><td>2153.86</td><td>36.283745</td><td>40.04</td><td>31.06</td><td>1.0</td><td>2151.7</td><td>40.04</td><td>31.06</td><td>-11.36</td><td>7.93</td><td>6.59</td><td>9.2</td><td>2.91</td><td>vugc6</td><td>6</td><td>15</td><td>23</td><td>spec1d.vugc6.006.GCXF005.fits.gz</td></tr>\n",
       "<tr><td>---</td><td>GCXF</td><td>Y</td><td>VCC0615</td><td>185.77063</td><td>12.016639</td><td>2117.72</td><td>19.99313</td><td>10.34</td><td>8.63</td><td>1.0</td><td>2125.45</td><td>10.34</td><td>8.63</td><td>-1.47</td><td>18.24</td><td>16.96</td><td>9.2</td><td>2.97</td><td>vugc6</td><td>7</td><td>46</td><td>54</td><td>spec1d.vugc6.007.GCXF006.fits.gz</td></tr>\n",
       "</table>"
      ],
      "text/plain": [
       "<Table length=25>\n",
       "  VCC   TARGTYPE GCSAT    HOST  ...  YLOW YHIGH            SPEC1DNAME           \n",
       "bytes10  bytes7  bytes2 bytes10 ... int16 int16             bytes40             \n",
       "------- -------- ------ ------- ... ----- ----- --------------------------------\n",
       "    ---     GCXL      Y  VLSB-B ...    15    27 spec1d.vugc1.004.GCXL003.fits.gz\n",
       "    ---     GCXL      Y  VLSB-B ...    20    30 spec1d.vugc1.006.GCXL007.fits.gz\n",
       "    ---     GCXL      Y  VLSB-B ...    12    22 spec1d.vugc1.010.GCXL012.fits.gz\n",
       "    ---     GCXL      Y VCC1148 ...   214   224 spec1d.vugc1.013.GCXL016.fits.gz\n",
       "    ---     GCXF      Y  VLSB-B ...    15    23 spec1d.vugc1.019.GCXF011.fits.gz\n",
       "    ---     GCBL      Y VCC1153 ...    40    50 spec1d.vugc1.028.GCBL005.fits.gz\n",
       "    ---     GCXL      Y  VLSB-D ...     4     7 spec1d.vugc5.001.GCXL001.fits.gz\n",
       "    ---     GCXL      Y  VLSB-D ...    24    32 spec1d.vugc5.002.GCXL002.fits.gz\n",
       "    ---     GCXL      Y  VLSB-D ...    55    63 spec1d.vugc5.003.GCXL003.fits.gz\n",
       "    ---     GCXL      Y  VLSB-D ...    16    22 spec1d.vugc5.004.GCXL004.fits.gz\n",
       "    ...      ...    ...     ... ...   ...   ...                              ...\n",
       "    ---     GCXF      Y  VLSB-D ...    30    38 spec1d.vugc5.015.GCXF002.fits.gz\n",
       "    ---     GCXF      Y  VLSB-D ...    22    30 spec1d.vugc5.019.GCXF008.fits.gz\n",
       "    ---     GCBF      Y  VLSB-D ...    43    51 spec1d.vugc5.025.GCBF006.fits.gz\n",
       "    ---     GCXL      Y VCC0615 ...    19    27 spec1d.vugc6.001.GCXL001.fits.gz\n",
       "    ---     GCXL      Y VCC0615 ...    14    24 spec1d.vugc6.002.GCXL002.fits.gz\n",
       "    ---     GCXL      Y VCC0615 ...    39    47 spec1d.vugc6.003.GCXL003.fits.gz\n",
       "    ---     GCXL      Y VCC0615 ...    37    45 spec1d.vugc6.004.GCXL004.fits.gz\n",
       "    ---     GCXF      Y VCC0615 ...   103   113 spec1d.vugc6.005.GCXF003.fits.gz\n",
       "    ---     GCXF      Y VCC0615 ...    15    23 spec1d.vugc6.006.GCXF005.fits.gz\n",
       "    ---     GCXF      Y VCC0615 ...    46    54 spec1d.vugc6.007.GCXF006.fits.gz"
      ]
     },
     "execution_count": 156,
     "metadata": {},
     "output_type": "execute_result"
    }
   ],
   "source": [
    "Y"
   ]
  },
  {
   "cell_type": "code",
   "execution_count": 126,
   "metadata": {},
   "outputs": [],
   "source": [
    "test = []\n",
    "# test2 = []\n",
    "test = file[file['ZCONF']==1]\n",
    "test = test[test['GCSAT']== 'Y']\n",
    "ind_VLSBB= test['HOST']== 'VLSB-B'\n",
    "ind_VLSBD= test['HOST']== 'VLSB-D'\n",
    "ind_VCC0615= test['HOST']== 'VCC0615'\n",
    "# test2 = file2[file2['ZCONF']==1]\n",
    "# test2 = file2[file2['GCSAT']== 'Y']\n"
   ]
  },
  {
   "cell_type": "code",
   "execution_count": 147,
   "metadata": {},
   "outputs": [],
   "source": [
    "\n",
    "UDGGC = test[ind_VLSBB | ind_VLSBD | ind_VCC0615]"
   ]
  },
  {
   "cell_type": "code",
   "execution_count": 128,
   "metadata": {},
   "outputs": [
    {
     "data": {
      "text/html": [
       "<i>Table length=23</i>\n",
       "<table id=\"table4869070520\" class=\"table-striped table-bordered table-condensed\">\n",
       "<thead><tr><th>VCC</th><th>TARGTYPE</th><th>GCSAT</th><th>HOST</th><th>RA</th><th>DEC</th><th>VHEL</th><th>VERR</th><th>VERR_pe</th><th>VERR_ne</th><th>ZCONF</th><th>VOBS</th><th>VOBS_pe</th><th>VOBS_ne</th><th>ABANDCOR</th><th>ABANDCOR_pe</th><th>ABANDCOR_ne</th><th>HELCOR</th><th>SN</th><th>MASKNAME</th><th>SLITNUM</th><th>YLOW</th><th>YHIGH</th><th>SPEC1DNAME</th></tr></thead>\n",
       "<thead><tr><th>bytes10</th><th>bytes7</th><th>bytes2</th><th>bytes10</th><th>float32</th><th>float32</th><th>float32</th><th>float32</th><th>float32</th><th>float32</th><th>float32</th><th>float32</th><th>float32</th><th>float32</th><th>float32</th><th>float32</th><th>float32</th><th>float32</th><th>float32</th><th>bytes20</th><th>int16</th><th>int16</th><th>int16</th><th>bytes40</th></tr></thead>\n",
       "<tr><td>---</td><td>GCXL</td><td>Y</td><td>VLSB-B</td><td>187.04521</td><td>12.7260275</td><td>36.84</td><td>7.0934</td><td>7.08</td><td>6.54</td><td>1.0</td><td>85.78</td><td>7.08</td><td>6.54</td><td>39.34</td><td>2.15</td><td>1.82</td><td>9.6</td><td>10.08</td><td>vugc1</td><td>4</td><td>15</td><td>27</td><td>spec1d.vugc1.004.GCXL003.fits.gz</td></tr>\n",
       "<tr><td>---</td><td>GCXL</td><td>Y</td><td>VLSB-B</td><td>187.04175</td><td>12.724417</td><td>4.73</td><td>25.45554</td><td>26.43</td><td>24.23</td><td>1.0</td><td>38.71</td><td>26.43</td><td>24.23</td><td>24.38</td><td>2.72</td><td>2.33</td><td>9.6</td><td>4.85</td><td>vugc1</td><td>6</td><td>20</td><td>30</td><td>spec1d.vugc1.006.GCXL007.fits.gz</td></tr>\n",
       "<tr><td>---</td><td>GCXL</td><td>Y</td><td>VLSB-B</td><td>187.04613</td><td>12.724055</td><td>52.14</td><td>9.228409</td><td>7.88</td><td>8.58</td><td>1.0</td><td>104.23</td><td>7.88</td><td>8.58</td><td>42.49</td><td>4.41</td><td>3.94</td><td>9.6</td><td>4.28</td><td>vugc1</td><td>10</td><td>12</td><td>22</td><td>spec1d.vugc1.010.GCXL012.fits.gz</td></tr>\n",
       "<tr><td>---</td><td>GCXF</td><td>Y</td><td>VLSB-B</td><td>187.04088</td><td>12.735666</td><td>-73.27</td><td>48.365</td><td>39.31</td><td>57.42</td><td>1.0</td><td>-63.67</td><td>39.31</td><td>57.42</td><td>7.27</td><td>17.61</td><td>183.55</td><td>9.6</td><td>0.81</td><td>vugc1</td><td>19</td><td>15</td><td>23</td><td>spec1d.vugc1.019.GCXF011.fits.gz</td></tr>\n",
       "<tr><td>---</td><td>GCXL</td><td>Y</td><td>VLSB-D</td><td>186.17159</td><td>13.580055</td><td>1006.92</td><td>8.453587</td><td>4.7</td><td>7.19</td><td>1.0</td><td>987.41</td><td>4.7</td><td>7.19</td><td>-28.51</td><td>5.59</td><td>6.43</td><td>9.0</td><td>6.17</td><td>vugc5</td><td>1</td><td>4</td><td>7</td><td>spec1d.vugc5.001.GCXL001.fits.gz</td></tr>\n",
       "<tr><td>---</td><td>GCXL</td><td>Y</td><td>VLSB-D</td><td>186.18745</td><td>13.564</td><td>1057.16</td><td>10.3895645</td><td>7.36</td><td>7.03</td><td>1.0</td><td>1052.7</td><td>7.36</td><td>7.03</td><td>-13.46</td><td>7.44</td><td>7.55</td><td>9.0</td><td>6.33</td><td>vugc5</td><td>2</td><td>24</td><td>32</td><td>spec1d.vugc5.002.GCXL002.fits.gz</td></tr>\n",
       "<tr><td>---</td><td>GCXL</td><td>Y</td><td>VLSB-D</td><td>186.17741</td><td>13.550445</td><td>1026.31</td><td>4.880886</td><td>3.9</td><td>4.49</td><td>1.0</td><td>1028.8</td><td>3.9</td><td>4.49</td><td>-6.51</td><td>2.44</td><td>2.55</td><td>9.0</td><td>11.62</td><td>vugc5</td><td>3</td><td>55</td><td>63</td><td>spec1d.vugc5.003.GCXL003.fits.gz</td></tr>\n",
       "<tr><td>---</td><td>GCXL</td><td>Y</td><td>VLSB-D</td><td>186.18413</td><td>13.556723</td><td>1056.22</td><td>12.89066</td><td>15.56</td><td>8.47</td><td>1.0</td><td>1056.32</td><td>15.56</td><td>8.47</td><td>-8.9</td><td>4.43</td><td>4.91</td><td>9.0</td><td>2.39</td><td>vugc5</td><td>4</td><td>16</td><td>22</td><td>spec1d.vugc5.004.GCXL004.fits.gz</td></tr>\n",
       "<tr><td>---</td><td>GCXL</td><td>Y</td><td>VLSB-D</td><td>186.18338</td><td>13.483723</td><td>1019.73</td><td>12.122438</td><td>7.14</td><td>5.4</td><td>1.0</td><td>1072.4</td><td>7.14</td><td>5.4</td><td>43.67</td><td>13.04</td><td>7.71</td><td>9.0</td><td>5.08</td><td>vugc5</td><td>6</td><td>72</td><td>82</td><td>spec1d.vugc5.006.GCXL007.fits.gz</td></tr>\n",
       "<tr><td>---</td><td>GCXL</td><td>Y</td><td>VLSB-D</td><td>186.18124</td><td>13.522139</td><td>1016.17</td><td>2.5402215</td><td>2.32</td><td>2.21</td><td>1.0</td><td>1037.49</td><td>2.32</td><td>2.21</td><td>12.32</td><td>1.11</td><td>1.19</td><td>9.0</td><td>21.19</td><td>vugc5</td><td>7</td><td>44</td><td>52</td><td>spec1d.vugc5.007.GCXL009.fits.gz</td></tr>\n",
       "<tr><td>...</td><td>...</td><td>...</td><td>...</td><td>...</td><td>...</td><td>...</td><td>...</td><td>...</td><td>...</td><td>...</td><td>...</td><td>...</td><td>...</td><td>...</td><td>...</td><td>...</td><td>...</td><td>...</td><td>...</td><td>...</td><td>...</td><td>...</td><td>...</td></tr>\n",
       "<tr><td>---</td><td>GCXF</td><td>Y</td><td>VLSB-D</td><td>186.17091</td><td>13.498722</td><td>1028.3</td><td>12.425</td><td>10.98</td><td>13.87</td><td>1.0</td><td>1037.3</td><td>10.98</td><td>13.87</td><td>-9.15</td><td>34.16</td><td>29.25</td><td>9.0</td><td>2.15</td><td>vugc5</td><td>15</td><td>30</td><td>38</td><td>spec1d.vugc5.015.GCXF002.fits.gz</td></tr>\n",
       "<tr><td>---</td><td>GCXF</td><td>Y</td><td>VLSB-D</td><td>186.17587</td><td>13.533361</td><td>1043.16</td><td>13.015199</td><td>8.56</td><td>11.54</td><td>1.0</td><td>1035.59</td><td>8.56</td><td>11.54</td><td>-16.57</td><td>8.82</td><td>7.72</td><td>9.0</td><td>4.38</td><td>vugc5</td><td>19</td><td>22</td><td>30</td><td>spec1d.vugc5.019.GCXF008.fits.gz</td></tr>\n",
       "<tr><td>---</td><td>GCBF</td><td>Y</td><td>VLSB-D</td><td>186.16437</td><td>13.568361</td><td>1043.72</td><td>19.373266</td><td>13.22</td><td>7.47</td><td>1.0</td><td>1047.04</td><td>13.22</td><td>7.47</td><td>-5.68</td><td>13.55</td><td>19.21</td><td>9.0</td><td>3.88</td><td>vugc5</td><td>25</td><td>43</td><td>51</td><td>spec1d.vugc5.025.GCBF006.fits.gz</td></tr>\n",
       "<tr><td>---</td><td>GCXL</td><td>Y</td><td>VCC0615</td><td>185.763</td><td>12.007584</td><td>2092.53</td><td>3.7062986</td><td>1.25</td><td>1.04</td><td>1.0</td><td>2113.06</td><td>1.25</td><td>1.04</td><td>11.33</td><td>2.5</td><td>4.55</td><td>9.2</td><td>6.85</td><td>vugc6</td><td>1</td><td>19</td><td>27</td><td>spec1d.vugc6.001.GCXL001.fits.gz</td></tr>\n",
       "<tr><td>---</td><td>GCXL</td><td>Y</td><td>VCC0615</td><td>185.7575</td><td>11.9945</td><td>2098.03</td><td>21.363428</td><td>25.18</td><td>13.07</td><td>1.0</td><td>2128.62</td><td>25.18</td><td>13.07</td><td>21.39</td><td>8.46</td><td>10.58</td><td>9.2</td><td>3.97</td><td>vugc6</td><td>2</td><td>14</td><td>24</td><td>spec1d.vugc6.002.GCXL002.fits.gz</td></tr>\n",
       "<tr><td>---</td><td>GCXL</td><td>Y</td><td>VCC0615</td><td>185.7768</td><td>12.016472</td><td>2117.74</td><td>9.1028805</td><td>11.13</td><td>5.91</td><td>1.0</td><td>2134.53</td><td>11.13</td><td>5.91</td><td>7.59</td><td>3.22</td><td>3.19</td><td>9.2</td><td>6.66</td><td>vugc6</td><td>3</td><td>39</td><td>47</td><td>spec1d.vugc6.003.GCXL003.fits.gz</td></tr>\n",
       "<tr><td>---</td><td>GCXL</td><td>Y</td><td>VCC0615</td><td>185.77496</td><td>12.022</td><td>2074.73</td><td>3.1152046</td><td>0.32</td><td>0.04</td><td>1.0</td><td>2099.35</td><td>0.32</td><td>0.04</td><td>15.42</td><td>2.99</td><td>3.23</td><td>9.2</td><td>4.27</td><td>vugc6</td><td>4</td><td>37</td><td>45</td><td>spec1d.vugc6.004.GCXL004.fits.gz</td></tr>\n",
       "<tr><td>---</td><td>GCXF</td><td>Y</td><td>VCC0615</td><td>185.77983</td><td>12.024111</td><td>2051.32</td><td>5.945473</td><td>0.06</td><td>0.09</td><td>1.0</td><td>2094.21</td><td>0.06</td><td>0.09</td><td>33.69</td><td>6.31</td><td>5.58</td><td>9.2</td><td>3.0</td><td>vugc6</td><td>5</td><td>103</td><td>113</td><td>spec1d.vugc6.005.GCXF003.fits.gz</td></tr>\n",
       "<tr><td>---</td><td>GCXF</td><td>Y</td><td>VCC0615</td><td>185.785</td><td>12.017889</td><td>2153.86</td><td>36.283745</td><td>40.04</td><td>31.06</td><td>1.0</td><td>2151.7</td><td>40.04</td><td>31.06</td><td>-11.36</td><td>7.93</td><td>6.59</td><td>9.2</td><td>2.91</td><td>vugc6</td><td>6</td><td>15</td><td>23</td><td>spec1d.vugc6.006.GCXF005.fits.gz</td></tr>\n",
       "<tr><td>---</td><td>GCXF</td><td>Y</td><td>VCC0615</td><td>185.77063</td><td>12.016639</td><td>2117.72</td><td>19.99313</td><td>10.34</td><td>8.63</td><td>1.0</td><td>2125.45</td><td>10.34</td><td>8.63</td><td>-1.47</td><td>18.24</td><td>16.96</td><td>9.2</td><td>2.97</td><td>vugc6</td><td>7</td><td>46</td><td>54</td><td>spec1d.vugc6.007.GCXF006.fits.gz</td></tr>\n",
       "</table>"
      ],
      "text/plain": [
       "<Table length=23>\n",
       "  VCC   TARGTYPE GCSAT    HOST  ...  YLOW YHIGH            SPEC1DNAME           \n",
       "bytes10  bytes7  bytes2 bytes10 ... int16 int16             bytes40             \n",
       "------- -------- ------ ------- ... ----- ----- --------------------------------\n",
       "    ---     GCXL      Y  VLSB-B ...    15    27 spec1d.vugc1.004.GCXL003.fits.gz\n",
       "    ---     GCXL      Y  VLSB-B ...    20    30 spec1d.vugc1.006.GCXL007.fits.gz\n",
       "    ---     GCXL      Y  VLSB-B ...    12    22 spec1d.vugc1.010.GCXL012.fits.gz\n",
       "    ---     GCXF      Y  VLSB-B ...    15    23 spec1d.vugc1.019.GCXF011.fits.gz\n",
       "    ---     GCXL      Y  VLSB-D ...     4     7 spec1d.vugc5.001.GCXL001.fits.gz\n",
       "    ---     GCXL      Y  VLSB-D ...    24    32 spec1d.vugc5.002.GCXL002.fits.gz\n",
       "    ---     GCXL      Y  VLSB-D ...    55    63 spec1d.vugc5.003.GCXL003.fits.gz\n",
       "    ---     GCXL      Y  VLSB-D ...    16    22 spec1d.vugc5.004.GCXL004.fits.gz\n",
       "    ---     GCXL      Y  VLSB-D ...    72    82 spec1d.vugc5.006.GCXL007.fits.gz\n",
       "    ---     GCXL      Y  VLSB-D ...    44    52 spec1d.vugc5.007.GCXL009.fits.gz\n",
       "    ...      ...    ...     ... ...   ...   ...                              ...\n",
       "    ---     GCXF      Y  VLSB-D ...    30    38 spec1d.vugc5.015.GCXF002.fits.gz\n",
       "    ---     GCXF      Y  VLSB-D ...    22    30 spec1d.vugc5.019.GCXF008.fits.gz\n",
       "    ---     GCBF      Y  VLSB-D ...    43    51 spec1d.vugc5.025.GCBF006.fits.gz\n",
       "    ---     GCXL      Y VCC0615 ...    19    27 spec1d.vugc6.001.GCXL001.fits.gz\n",
       "    ---     GCXL      Y VCC0615 ...    14    24 spec1d.vugc6.002.GCXL002.fits.gz\n",
       "    ---     GCXL      Y VCC0615 ...    39    47 spec1d.vugc6.003.GCXL003.fits.gz\n",
       "    ---     GCXL      Y VCC0615 ...    37    45 spec1d.vugc6.004.GCXL004.fits.gz\n",
       "    ---     GCXF      Y VCC0615 ...   103   113 spec1d.vugc6.005.GCXF003.fits.gz\n",
       "    ---     GCXF      Y VCC0615 ...    15    23 spec1d.vugc6.006.GCXF005.fits.gz\n",
       "    ---     GCXF      Y VCC0615 ...    46    54 spec1d.vugc6.007.GCXF006.fits.gz"
      ]
     },
     "execution_count": 128,
     "metadata": {},
     "output_type": "execute_result"
    }
   ],
   "source": [
    "UDGGC"
   ]
  },
  {
   "cell_type": "code",
   "execution_count": 133,
   "metadata": {},
   "outputs": [
    {
     "data": {
      "text/plain": [
       "array([False, False, False,  True, False,  True,  True,  True,  True,\n",
       "        True,  True,  True,  True,  True,  True,  True,  True,  True,\n",
       "        True,  True,  True,  True,  True,  True,  True])"
      ]
     },
     "execution_count": 133,
     "metadata": {},
     "output_type": "execute_result"
    }
   ],
   "source": [
    "~ind_VLSBB"
   ]
  },
  {
   "cell_type": "code",
   "execution_count": 134,
   "metadata": {},
   "outputs": [
    {
     "data": {
      "text/plain": [
       "array([ True,  True,  True, False,  True, False, False, False, False,\n",
       "       False, False, False, False, False, False, False, False, False,\n",
       "       False, False, False, False, False, False, False])"
      ]
     },
     "execution_count": 134,
     "metadata": {},
     "output_type": "execute_result"
    }
   ],
   "source": [
    "ind_VLSBB"
   ]
  },
  {
   "cell_type": "code",
   "execution_count": 142,
   "metadata": {},
   "outputs": [
    {
     "data": {
      "text/plain": [
       "array([False, False, False,  True, False,  True, False, False, False,\n",
       "       False, False, False, False, False, False, False, False, False,\n",
       "       False, False, False, False, False, False, False])"
      ]
     },
     "execution_count": 142,
     "metadata": {},
     "output_type": "execute_result"
    }
   ],
   "source": [
    "~ind_VLSBB & ~ind_VLSBD & ~ind_VCC0615"
   ]
  },
  {
   "cell_type": "code",
   "execution_count": 143,
   "metadata": {},
   "outputs": [],
   "source": [
    "opp=[~ind_VLSBB & ~ind_VLSBD & ~ind_VCC0615]"
   ]
  },
  {
   "cell_type": "code",
   "execution_count": 144,
   "metadata": {},
   "outputs": [
    {
     "data": {
      "text/html": [
       "<i>Table length=2</i>\n",
       "<table id=\"table4869067048\" class=\"table-striped table-bordered table-condensed\">\n",
       "<thead><tr><th>VCC</th><th>TARGTYPE</th><th>GCSAT</th><th>HOST</th><th>RA</th><th>DEC</th><th>VHEL</th><th>VERR</th><th>VERR_pe</th><th>VERR_ne</th><th>ZCONF</th><th>VOBS</th><th>VOBS_pe</th><th>VOBS_ne</th><th>ABANDCOR</th><th>ABANDCOR_pe</th><th>ABANDCOR_ne</th><th>HELCOR</th><th>SN</th><th>MASKNAME</th><th>SLITNUM</th><th>YLOW</th><th>YHIGH</th><th>SPEC1DNAME</th></tr></thead>\n",
       "<thead><tr><th>bytes10</th><th>bytes7</th><th>bytes2</th><th>bytes10</th><th>float32</th><th>float32</th><th>float32</th><th>float32</th><th>float32</th><th>float32</th><th>float32</th><th>float32</th><th>float32</th><th>float32</th><th>float32</th><th>float32</th><th>float32</th><th>float32</th><th>float32</th><th>bytes20</th><th>int16</th><th>int16</th><th>int16</th><th>bytes40</th></tr></thead>\n",
       "<tr><td>---</td><td>GCXL</td><td>Y</td><td>VCC1148</td><td>187.23409</td><td>12.664805</td><td>1375.66</td><td>7.476045</td><td>3.42</td><td>6.91</td><td>1.0</td><td>1335.91</td><td>3.42</td><td>6.91</td><td>-49.35</td><td>4.7</td><td>6.11</td><td>9.6</td><td>4.68</td><td>vugc1</td><td>13</td><td>214</td><td>224</td><td>spec1d.vugc1.013.GCXL016.fits.gz</td></tr>\n",
       "<tr><td>---</td><td>GCBL</td><td>Y</td><td>VCC1153</td><td>187.26996</td><td>12.665</td><td>113.24</td><td>3.2922218</td><td>2.8</td><td>3.15</td><td>1.0</td><td>96.86</td><td>2.8</td><td>3.15</td><td>-25.98</td><td>1.66</td><td>1.16</td><td>9.6</td><td>17.0</td><td>vugc1</td><td>28</td><td>40</td><td>50</td><td>spec1d.vugc1.028.GCBL005.fits.gz</td></tr>\n",
       "</table>"
      ],
      "text/plain": [
       "<Table length=2>\n",
       "  VCC   TARGTYPE GCSAT    HOST  ...  YLOW YHIGH            SPEC1DNAME           \n",
       "bytes10  bytes7  bytes2 bytes10 ... int16 int16             bytes40             \n",
       "------- -------- ------ ------- ... ----- ----- --------------------------------\n",
       "    ---     GCXL      Y VCC1148 ...   214   224 spec1d.vugc1.013.GCXL016.fits.gz\n",
       "    ---     GCBL      Y VCC1153 ...    40    50 spec1d.vugc1.028.GCBL005.fits.gz"
      ]
     },
     "execution_count": 144,
     "metadata": {},
     "output_type": "execute_result"
    }
   ],
   "source": [
    "test[opp]"
   ]
  },
  {
   "cell_type": "code",
   "execution_count": null,
   "metadata": {},
   "outputs": [],
   "source": []
  }
 ],
 "metadata": {
  "kernelspec": {
   "display_name": "Python 3",
   "language": "python",
   "name": "python3"
  },
  "language_info": {
   "codemirror_mode": {
    "name": "ipython",
    "version": 3
   },
   "file_extension": ".py",
   "mimetype": "text/x-python",
   "name": "python",
   "nbconvert_exporter": "python",
   "pygments_lexer": "ipython3",
   "version": "3.7.3"
  }
 },
 "nbformat": 4,
 "nbformat_minor": 2
}
