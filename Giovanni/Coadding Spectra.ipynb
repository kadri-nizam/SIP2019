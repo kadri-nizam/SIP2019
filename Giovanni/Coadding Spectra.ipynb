{
 "cells": [
  {
   "cell_type": "code",
   "execution_count": 1,
   "metadata": {},
   "outputs": [],
   "source": [
    "from astropy.io import fits\n",
    "import matplotlib.pyplot as plt\n",
    "import matplotlib.image as mpimg\n",
    "import numpy as np\n",
    "from astropy.table import Table, vstack, Column\n",
    "import os\n",
    "import pdb\n",
    "import numpy as np\n",
    "import warnings\n",
    "import sys"
   ]
  },
  {
   "cell_type": "code",
   "execution_count": null,
   "metadata": {},
   "outputs": [],
   "source": []
  },
  {
   "cell_type": "code",
   "execution_count": 5,
   "metadata": {},
   "outputs": [],
   "source": [
    "path1 = './../spectra/'\n",
    "path2 = './../catalogs/'\n",
    "\n",
    "bigFile = Table.read('bigfile-Copy1.fits')\n",
    "\n",
    "vdgcfiles = []\n",
    "vugcfiles = []\n",
    "\n",
    "for filename in os.listdir(path1):\n",
    "    if((filename.endswith('.fits')) & ('spec' in filename)):\n",
    "       vdgcfiles.append(filename)\n",
    "    if ((filename.endswith('.gz')) & ('spec' in filename)):\n",
    "       vugcfiles.append(filename)"
   ]
  },
  {
   "cell_type": "code",
   "execution_count": null,
   "metadata": {},
   "outputs": [],
   "source": [
    "restFrame = []\n",
    "velocity = []\n",
    "VUGC = []\n",
    "\n",
    "for string in vugcfiles:\n",
    "    file = fits.open (path1 + string)\n",
    "    wavelength = file[1].data['LAMBDA']\n",
    "    for otherFile in bigFile:\n",
    "        if (string == otherFile['SPEC1DNAME']):\n",
    "            velocityVal = otherFile ['VOBS']\n",
    "            VUGC.append(otherFile)\n",
    "            \n",
    "            velocity.append(velocityVal)\n",
    "            a = wavelength * ((1)/(1+(velocityVal/(3e+5))))\n",
    "            restFrame.append(a)\n",
    "            \n",
    "restFrame        "
   ]
  },
  {
   "cell_type": "code",
   "execution_count": 10,
   "metadata": {},
   "outputs": [
    {
     "ename": "NameError",
     "evalue": "name 'working_dir' is not defined",
     "output_type": "error",
     "traceback": [
      "\u001b[0;31m---------------------------------------------------------------------------\u001b[0m",
      "\u001b[0;31mNameError\u001b[0m                                 Traceback (most recent call last)",
      "\u001b[0;32m<ipython-input-10-f0da89309aea>\u001b[0m in \u001b[0;36m<module>\u001b[0;34m()\u001b[0m\n\u001b[1;32m      1\u001b[0m \u001b[0;34m\u001b[0m\u001b[0m\n\u001b[0;32m----> 2\u001b[0;31m \u001b[0msys\u001b[0m\u001b[0;34m.\u001b[0m\u001b[0mpath\u001b[0m\u001b[0;34m.\u001b[0m\u001b[0mappend\u001b[0m\u001b[0;34m(\u001b[0m\u001b[0mworking_dir\u001b[0m \u001b[0;34m+\u001b[0m \u001b[0;34m'lib'\u001b[0m\u001b[0;34m)\u001b[0m\u001b[0;34m\u001b[0m\u001b[0m\n\u001b[0m\u001b[1;32m      3\u001b[0m \u001b[0;34m\u001b[0m\u001b[0m\n\u001b[1;32m      4\u001b[0m \u001b[0;32mfrom\u001b[0m \u001b[0mpy_specrebin\u001b[0m \u001b[0;32mimport\u001b[0m \u001b[0mrebinspec\u001b[0m\u001b[0;34m\u001b[0m\u001b[0m\n",
      "\u001b[0;31mNameError\u001b[0m: name 'working_dir' is not defined"
     ]
    }
   ],
   "source": [
    "\n",
    "\n",
    "sys.path.append(working_dir + 'lib')\n",
    "\n",
    "from py_specrebin import rebinspec"
   ]
  },
  {
   "cell_type": "code",
   "execution_count": null,
   "metadata": {},
   "outputs": [],
   "source": []
  }
 ],
 "metadata": {
  "kernelspec": {
   "display_name": "Python 3",
   "language": "python",
   "name": "python3"
  },
  "language_info": {
   "codemirror_mode": {
    "name": "ipython",
    "version": 3
   },
   "file_extension": ".py",
   "mimetype": "text/x-python",
   "name": "python",
   "nbconvert_exporter": "python",
   "pygments_lexer": "ipython3",
   "version": "3.7.0"
  }
 },
 "nbformat": 4,
 "nbformat_minor": 2
}
