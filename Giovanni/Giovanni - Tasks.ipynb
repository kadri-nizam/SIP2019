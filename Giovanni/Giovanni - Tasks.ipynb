{
 "cells": [
  {
   "cell_type": "code",
   "execution_count": 1,
   "metadata": {},
   "outputs": [],
   "source": [
    "import numpy as np\n",
    "from astropy.table import Table, vstack"
   ]
  },
  {
   "cell_type": "code",
   "execution_count": 2,
   "metadata": {},
   "outputs": [],
   "source": [
    "path = './../catalogs/'\n",
    "VU_GC = Table.read(path+'VUGC_pPXF_2017_v2.fits')\n",
    "VD_GC = Table.read(path+'VDGC_pPXF_2017_v2.fits')"
   ]
  },
  {
   "cell_type": "code",
   "execution_count": 3,
   "metadata": {},
   "outputs": [],
   "source": [
    "columns_to_change= ['ZERR', 'ZERR_ne', 'ZERR_pe', 'ZHEL', 'ZOBS', 'ZOBS_ne', 'ZOBS_pe']\n",
    "\n",
    "for col in columns_to_change:\n",
    "    VD_GC[col] = VD_GC[col] * 3e+5\n",
    "    \n",
    "    VD_GC.rename_column(col,'V' + col[1:])\n",
    "    \n",
    "VU_GC['KECKID'] = '---'\n",
    "VU_GC['ZQUAL'] = -101010\n",
    "VU_GC['ZSPECNUM'] = -101010\n",
    "\n"
   ]
  },
  {
   "cell_type": "code",
   "execution_count": 4,
   "metadata": {},
   "outputs": [],
   "source": [
    "test_VDGC = VD_GC[VD_GC['ZCONF']==1]\n",
    "test_VDGC = test_VDGC[test_VDGC['GCSAT']== 'Y']\n",
    "Host = VU_GC[((VU_GC['HOST']== 'VLSB-B') | (VU_GC['HOST']== 'VLSB-D') | (VU_GC['HOST']=='VCC0615')) & (VU_GC['ZCONF']==1) & (VU_GC['GCSAT']=='Y')]\n",
    "Not_host = VU_GC[VU_GC['ZCONF']==1]\n",
    "Not_host = Not_host[Not_host['GCSAT']=='Y']\n",
    "Not_host = Not_host[((Not_host['HOST'] != 'VLSB-B') & (Not_host['HOST'] != 'VLSB-D') & (Not_host['HOST'] != 'VCC0615'))]\n",
    "test_VDGC= vstack([test_VDGC, Not_host])\n",
    "Host.remove_rows(np.nonzero(Not_host)[0])"
   ]
  },
  {
   "cell_type": "code",
   "execution_count": 5,
   "metadata": {},
   "outputs": [],
   "source": [
    "# test_VDGC.remove_rows(np.nonzero((test_VDGC['VHEL']>-300)  & (test_VDGC['VHEL'] < 300)))\n",
    "#  Host.remove_rows(np.nonzero((Host['VHEL'] > -300) & (Host['VHEL'] < 300)))"
   ]
  },
  {
   "cell_type": "code",
   "execution_count": 6,
   "metadata": {
    "scrolled": false
   },
   "outputs": [
    {
     "data": {
      "text/html": [
       "<i>Table length=21</i>\n",
       "<table id=\"table4595582456\" class=\"table-striped table-bordered table-condensed\">\n",
       "<thead><tr><th>VCC</th><th>TARGTYPE</th><th>GCSAT</th><th>HOST</th><th>RA</th><th>DEC</th><th>VHEL</th><th>VERR</th><th>VERR_pe</th><th>VERR_ne</th><th>ZCONF</th><th>VOBS</th><th>VOBS_pe</th><th>VOBS_ne</th><th>ABANDCOR</th><th>ABANDCOR_pe</th><th>ABANDCOR_ne</th><th>HELCOR</th><th>SN</th><th>MASKNAME</th><th>SLITNUM</th><th>YLOW</th><th>YHIGH</th><th>SPEC1DNAME</th><th>KECKID</th><th>ZQUAL</th><th>ZSPECNUM</th></tr></thead>\n",
       "<thead><tr><th>bytes10</th><th>bytes7</th><th>bytes2</th><th>bytes10</th><th>float32</th><th>float32</th><th>float32</th><th>float32</th><th>float32</th><th>float32</th><th>float32</th><th>float32</th><th>float32</th><th>float32</th><th>float32</th><th>float32</th><th>float32</th><th>float32</th><th>float32</th><th>bytes20</th><th>int16</th><th>int16</th><th>int16</th><th>bytes40</th><th>str3</th><th>int64</th><th>int64</th></tr></thead>\n",
       "<tr><td>---</td><td>GCXL</td><td>Y</td><td>VLSB-B</td><td>187.04613</td><td>12.724055</td><td>52.14</td><td>9.228409</td><td>7.88</td><td>8.58</td><td>1.0</td><td>104.23</td><td>7.88</td><td>8.58</td><td>42.49</td><td>4.41</td><td>3.94</td><td>9.6</td><td>4.28</td><td>vugc1</td><td>10</td><td>12</td><td>22</td><td>spec1d.vugc1.010.GCXL012.fits.gz</td><td>---</td><td>-101010</td><td>-101010</td></tr>\n",
       "<tr><td>---</td><td>GCXF</td><td>Y</td><td>VLSB-B</td><td>187.04088</td><td>12.735666</td><td>-73.27</td><td>48.365</td><td>39.31</td><td>57.42</td><td>1.0</td><td>-63.67</td><td>39.31</td><td>57.42</td><td>7.27</td><td>17.61</td><td>183.55</td><td>9.6</td><td>0.81</td><td>vugc1</td><td>19</td><td>15</td><td>23</td><td>spec1d.vugc1.019.GCXF011.fits.gz</td><td>---</td><td>-101010</td><td>-101010</td></tr>\n",
       "<tr><td>---</td><td>GCXL</td><td>Y</td><td>VLSB-D</td><td>186.17159</td><td>13.580055</td><td>1006.92</td><td>8.453587</td><td>4.7</td><td>7.19</td><td>1.0</td><td>987.41</td><td>4.7</td><td>7.19</td><td>-28.51</td><td>5.59</td><td>6.43</td><td>9.0</td><td>6.17</td><td>vugc5</td><td>1</td><td>4</td><td>7</td><td>spec1d.vugc5.001.GCXL001.fits.gz</td><td>---</td><td>-101010</td><td>-101010</td></tr>\n",
       "<tr><td>---</td><td>GCXL</td><td>Y</td><td>VLSB-D</td><td>186.18745</td><td>13.564</td><td>1057.16</td><td>10.3895645</td><td>7.36</td><td>7.03</td><td>1.0</td><td>1052.7</td><td>7.36</td><td>7.03</td><td>-13.46</td><td>7.44</td><td>7.55</td><td>9.0</td><td>6.33</td><td>vugc5</td><td>2</td><td>24</td><td>32</td><td>spec1d.vugc5.002.GCXL002.fits.gz</td><td>---</td><td>-101010</td><td>-101010</td></tr>\n",
       "<tr><td>---</td><td>GCXL</td><td>Y</td><td>VLSB-D</td><td>186.17741</td><td>13.550445</td><td>1026.31</td><td>4.880886</td><td>3.9</td><td>4.49</td><td>1.0</td><td>1028.8</td><td>3.9</td><td>4.49</td><td>-6.51</td><td>2.44</td><td>2.55</td><td>9.0</td><td>11.62</td><td>vugc5</td><td>3</td><td>55</td><td>63</td><td>spec1d.vugc5.003.GCXL003.fits.gz</td><td>---</td><td>-101010</td><td>-101010</td></tr>\n",
       "<tr><td>---</td><td>GCXL</td><td>Y</td><td>VLSB-D</td><td>186.18413</td><td>13.556723</td><td>1056.22</td><td>12.89066</td><td>15.56</td><td>8.47</td><td>1.0</td><td>1056.32</td><td>15.56</td><td>8.47</td><td>-8.9</td><td>4.43</td><td>4.91</td><td>9.0</td><td>2.39</td><td>vugc5</td><td>4</td><td>16</td><td>22</td><td>spec1d.vugc5.004.GCXL004.fits.gz</td><td>---</td><td>-101010</td><td>-101010</td></tr>\n",
       "<tr><td>---</td><td>GCXL</td><td>Y</td><td>VLSB-D</td><td>186.18338</td><td>13.483723</td><td>1019.73</td><td>12.122438</td><td>7.14</td><td>5.4</td><td>1.0</td><td>1072.4</td><td>7.14</td><td>5.4</td><td>43.67</td><td>13.04</td><td>7.71</td><td>9.0</td><td>5.08</td><td>vugc5</td><td>6</td><td>72</td><td>82</td><td>spec1d.vugc5.006.GCXL007.fits.gz</td><td>---</td><td>-101010</td><td>-101010</td></tr>\n",
       "<tr><td>---</td><td>GCXL</td><td>Y</td><td>VLSB-D</td><td>186.18124</td><td>13.522139</td><td>1016.17</td><td>2.5402215</td><td>2.32</td><td>2.21</td><td>1.0</td><td>1037.49</td><td>2.32</td><td>2.21</td><td>12.32</td><td>1.11</td><td>1.19</td><td>9.0</td><td>21.19</td><td>vugc5</td><td>7</td><td>44</td><td>52</td><td>spec1d.vugc5.007.GCXL009.fits.gz</td><td>---</td><td>-101010</td><td>-101010</td></tr>\n",
       "<tr><td>---</td><td>GCXL</td><td>Y</td><td>VLSB-D</td><td>186.15533</td><td>13.511806</td><td>1030.47</td><td>18.865732</td><td>9.73</td><td>7.2</td><td>1.0</td><td>1047.31</td><td>9.73</td><td>7.2</td><td>7.84</td><td>16.95</td><td>16.77</td><td>9.0</td><td>4.41</td><td>vugc5</td><td>10</td><td>66</td><td>78</td><td>spec1d.vugc5.010.GCXL013.fits.gz</td><td>---</td><td>-101010</td><td>-101010</td></tr>\n",
       "<tr><td>---</td><td>GCXL</td><td>Y</td><td>VLSB-D</td><td>186.16821</td><td>13.523222</td><td>1028.09</td><td>3.355</td><td>3.79</td><td>2.92</td><td>1.0</td><td>1037.09</td><td>3.79</td><td>2.92</td><td>81.95</td><td>76.19</td><td>81.31</td><td>9.0</td><td>8.13</td><td>vugc5</td><td>11</td><td>5</td><td>13</td><td>spec1d.vugc5.011.GCXL014.fits.gz</td><td>---</td><td>-101010</td><td>-101010</td></tr>\n",
       "<tr><td>---</td><td>GCXL</td><td>Y</td><td>VLSB-D</td><td>186.17363</td><td>13.5448885</td><td>1057.31</td><td>8.705144</td><td>8.14</td><td>6.45</td><td>1.0</td><td>1051.42</td><td>8.14</td><td>6.45</td><td>-14.89</td><td>5.03</td><td>4.47</td><td>9.0</td><td>6.42</td><td>vugc5</td><td>13</td><td>32</td><td>40</td><td>spec1d.vugc5.013.GCXL017.fits.gz</td><td>---</td><td>-101010</td><td>-101010</td></tr>\n",
       "<tr><td>---</td><td>GCXF</td><td>Y</td><td>VLSB-D</td><td>186.17091</td><td>13.498722</td><td>1028.3</td><td>12.425</td><td>10.98</td><td>13.87</td><td>1.0</td><td>1037.3</td><td>10.98</td><td>13.87</td><td>-9.15</td><td>34.16</td><td>29.25</td><td>9.0</td><td>2.15</td><td>vugc5</td><td>15</td><td>30</td><td>38</td><td>spec1d.vugc5.015.GCXF002.fits.gz</td><td>---</td><td>-101010</td><td>-101010</td></tr>\n",
       "<tr><td>---</td><td>GCXF</td><td>Y</td><td>VLSB-D</td><td>186.17587</td><td>13.533361</td><td>1043.16</td><td>13.015199</td><td>8.56</td><td>11.54</td><td>1.0</td><td>1035.59</td><td>8.56</td><td>11.54</td><td>-16.57</td><td>8.82</td><td>7.72</td><td>9.0</td><td>4.38</td><td>vugc5</td><td>19</td><td>22</td><td>30</td><td>spec1d.vugc5.019.GCXF008.fits.gz</td><td>---</td><td>-101010</td><td>-101010</td></tr>\n",
       "<tr><td>---</td><td>GCBF</td><td>Y</td><td>VLSB-D</td><td>186.16437</td><td>13.568361</td><td>1043.72</td><td>19.373266</td><td>13.22</td><td>7.47</td><td>1.0</td><td>1047.04</td><td>13.22</td><td>7.47</td><td>-5.68</td><td>13.55</td><td>19.21</td><td>9.0</td><td>3.88</td><td>vugc5</td><td>25</td><td>43</td><td>51</td><td>spec1d.vugc5.025.GCBF006.fits.gz</td><td>---</td><td>-101010</td><td>-101010</td></tr>\n",
       "<tr><td>---</td><td>GCXL</td><td>Y</td><td>VCC0615</td><td>185.763</td><td>12.007584</td><td>2092.53</td><td>3.7062986</td><td>1.25</td><td>1.04</td><td>1.0</td><td>2113.06</td><td>1.25</td><td>1.04</td><td>11.33</td><td>2.5</td><td>4.55</td><td>9.2</td><td>6.85</td><td>vugc6</td><td>1</td><td>19</td><td>27</td><td>spec1d.vugc6.001.GCXL001.fits.gz</td><td>---</td><td>-101010</td><td>-101010</td></tr>\n",
       "<tr><td>---</td><td>GCXL</td><td>Y</td><td>VCC0615</td><td>185.7575</td><td>11.9945</td><td>2098.03</td><td>21.363428</td><td>25.18</td><td>13.07</td><td>1.0</td><td>2128.62</td><td>25.18</td><td>13.07</td><td>21.39</td><td>8.46</td><td>10.58</td><td>9.2</td><td>3.97</td><td>vugc6</td><td>2</td><td>14</td><td>24</td><td>spec1d.vugc6.002.GCXL002.fits.gz</td><td>---</td><td>-101010</td><td>-101010</td></tr>\n",
       "<tr><td>---</td><td>GCXL</td><td>Y</td><td>VCC0615</td><td>185.7768</td><td>12.016472</td><td>2117.74</td><td>9.1028805</td><td>11.13</td><td>5.91</td><td>1.0</td><td>2134.53</td><td>11.13</td><td>5.91</td><td>7.59</td><td>3.22</td><td>3.19</td><td>9.2</td><td>6.66</td><td>vugc6</td><td>3</td><td>39</td><td>47</td><td>spec1d.vugc6.003.GCXL003.fits.gz</td><td>---</td><td>-101010</td><td>-101010</td></tr>\n",
       "<tr><td>---</td><td>GCXL</td><td>Y</td><td>VCC0615</td><td>185.77496</td><td>12.022</td><td>2074.73</td><td>3.1152046</td><td>0.32</td><td>0.04</td><td>1.0</td><td>2099.35</td><td>0.32</td><td>0.04</td><td>15.42</td><td>2.99</td><td>3.23</td><td>9.2</td><td>4.27</td><td>vugc6</td><td>4</td><td>37</td><td>45</td><td>spec1d.vugc6.004.GCXL004.fits.gz</td><td>---</td><td>-101010</td><td>-101010</td></tr>\n",
       "<tr><td>---</td><td>GCXF</td><td>Y</td><td>VCC0615</td><td>185.77983</td><td>12.024111</td><td>2051.32</td><td>5.945473</td><td>0.06</td><td>0.09</td><td>1.0</td><td>2094.21</td><td>0.06</td><td>0.09</td><td>33.69</td><td>6.31</td><td>5.58</td><td>9.2</td><td>3.0</td><td>vugc6</td><td>5</td><td>103</td><td>113</td><td>spec1d.vugc6.005.GCXF003.fits.gz</td><td>---</td><td>-101010</td><td>-101010</td></tr>\n",
       "<tr><td>---</td><td>GCXF</td><td>Y</td><td>VCC0615</td><td>185.785</td><td>12.017889</td><td>2153.86</td><td>36.283745</td><td>40.04</td><td>31.06</td><td>1.0</td><td>2151.7</td><td>40.04</td><td>31.06</td><td>-11.36</td><td>7.93</td><td>6.59</td><td>9.2</td><td>2.91</td><td>vugc6</td><td>6</td><td>15</td><td>23</td><td>spec1d.vugc6.006.GCXF005.fits.gz</td><td>---</td><td>-101010</td><td>-101010</td></tr>\n",
       "<tr><td>---</td><td>GCXF</td><td>Y</td><td>VCC0615</td><td>185.77063</td><td>12.016639</td><td>2117.72</td><td>19.99313</td><td>10.34</td><td>8.63</td><td>1.0</td><td>2125.45</td><td>10.34</td><td>8.63</td><td>-1.47</td><td>18.24</td><td>16.96</td><td>9.2</td><td>2.97</td><td>vugc6</td><td>7</td><td>46</td><td>54</td><td>spec1d.vugc6.007.GCXF006.fits.gz</td><td>---</td><td>-101010</td><td>-101010</td></tr>\n",
       "</table>"
      ],
      "text/plain": [
       "<Table length=21>\n",
       "  VCC   TARGTYPE GCSAT    HOST  ... KECKID  ZQUAL  ZSPECNUM\n",
       "bytes10  bytes7  bytes2 bytes10 ...  str3   int64   int64  \n",
       "------- -------- ------ ------- ... ------ ------- --------\n",
       "    ---     GCXL      Y  VLSB-B ...    --- -101010  -101010\n",
       "    ---     GCXF      Y  VLSB-B ...    --- -101010  -101010\n",
       "    ---     GCXL      Y  VLSB-D ...    --- -101010  -101010\n",
       "    ---     GCXL      Y  VLSB-D ...    --- -101010  -101010\n",
       "    ---     GCXL      Y  VLSB-D ...    --- -101010  -101010\n",
       "    ---     GCXL      Y  VLSB-D ...    --- -101010  -101010\n",
       "    ---     GCXL      Y  VLSB-D ...    --- -101010  -101010\n",
       "    ---     GCXL      Y  VLSB-D ...    --- -101010  -101010\n",
       "    ---     GCXL      Y  VLSB-D ...    --- -101010  -101010\n",
       "    ---     GCXL      Y  VLSB-D ...    --- -101010  -101010\n",
       "    ---     GCXL      Y  VLSB-D ...    --- -101010  -101010\n",
       "    ---     GCXF      Y  VLSB-D ...    --- -101010  -101010\n",
       "    ---     GCXF      Y  VLSB-D ...    --- -101010  -101010\n",
       "    ---     GCBF      Y  VLSB-D ...    --- -101010  -101010\n",
       "    ---     GCXL      Y VCC0615 ...    --- -101010  -101010\n",
       "    ---     GCXL      Y VCC0615 ...    --- -101010  -101010\n",
       "    ---     GCXL      Y VCC0615 ...    --- -101010  -101010\n",
       "    ---     GCXL      Y VCC0615 ...    --- -101010  -101010\n",
       "    ---     GCXF      Y VCC0615 ...    --- -101010  -101010\n",
       "    ---     GCXF      Y VCC0615 ...    --- -101010  -101010\n",
       "    ---     GCXF      Y VCC0615 ...    --- -101010  -101010"
      ]
     },
     "execution_count": 6,
     "metadata": {},
     "output_type": "execute_result"
    }
   ],
   "source": [
    "Host"
   ]
  },
  {
   "cell_type": "code",
   "execution_count": 7,
   "metadata": {},
   "outputs": [
    {
     "data": {
      "text/html": [
       "<i>Table length=109</i>\n",
       "<table id=\"table4595717624\" class=\"table-striped table-bordered table-condensed\">\n",
       "<thead><tr><th>VCC</th><th>TARGTYPE</th><th>GCSAT</th><th>HOST</th><th>RA</th><th>DEC</th><th>VHEL</th><th>VERR</th><th>VERR_pe</th><th>VERR_ne</th><th>ZCONF</th><th>VOBS</th><th>VOBS_pe</th><th>VOBS_ne</th><th>ABANDCOR</th><th>ABANDCOR_pe</th><th>ABANDCOR_ne</th><th>HELCOR</th><th>SN</th><th>KECKID</th><th>MASKNAME</th><th>SLITNUM</th><th>ZSPECNUM</th><th>ZQUAL</th><th>YLOW</th><th>YHIGH</th><th>SPEC1DNAME</th></tr></thead>\n",
       "<thead><tr><th>bytes10</th><th>bytes7</th><th>bytes2</th><th>bytes10</th><th>float32</th><th>float32</th><th>float32</th><th>float32</th><th>float32</th><th>float32</th><th>float32</th><th>float32</th><th>float32</th><th>float32</th><th>float32</th><th>float32</th><th>float32</th><th>float32</th><th>float32</th><th>str20</th><th>bytes20</th><th>int16</th><th>int64</th><th>int64</th><th>int16</th><th>int16</th><th>bytes40</th></tr></thead>\n",
       "<tr><td>---</td><td>GCA</td><td>Y</td><td>VCC1075</td><td>187.05533</td><td>10.299723</td><td>1795.8826</td><td>6.6943264</td><td>7.1255054</td><td>5.546625</td><td>1.0</td><td>1810.4825</td><td>7.014853</td><td>5.403738</td><td>0.00026271507</td><td>8.415822e-05</td><td>7.671974e-05</td><td>4.866667e-05</td><td>3.34</td><td>gcA10</td><td>vdgc1</td><td>11</td><td>12</td><td>3</td><td>25</td><td>31</td><td>spec1d.vdgc1.011.gcA10.fits.gz</td></tr>\n",
       "<tr><td>---</td><td>GCA</td><td>Y</td><td>VCC1075</td><td>187.04483</td><td>10.286805</td><td>1843.0951</td><td>10.339908</td><td>9.879919</td><td>10.394689</td><td>1.0</td><td>1855.5137</td><td>6.974825</td><td>6.2042923</td><td>-7.271697e-06</td><td>2.2949209e-05</td><td>2.7485681e-05</td><td>4.866667e-05</td><td>5.36</td><td>gcA17</td><td>vdgc1</td><td>12</td><td>13</td><td>4</td><td>17</td><td>23</td><td>spec1d.vdgc1.012.gcA17.fits.gz</td></tr>\n",
       "<tr><td>---</td><td>GCA</td><td>Y</td><td>VCC1075</td><td>187.03674</td><td>10.289222</td><td>1802.7073</td><td>6.052629</td><td>4.5716085</td><td>6.9834056</td><td>1.0</td><td>1821.8304</td><td>3.3122916</td><td>6.584555</td><td>1.50770975e-05</td><td>9.640003e-06</td><td>6.5378563e-06</td><td>4.866667e-05</td><td>7.06</td><td>gcA19</td><td>vdgc1</td><td>14</td><td>15</td><td>4</td><td>39</td><td>46</td><td>spec1d.vdgc1.014.gcA19.fits.gz</td></tr>\n",
       "<tr><td>---</td><td>GCA</td><td>Y</td><td>VCC1075</td><td>187.04433</td><td>10.315306</td><td>1861.2278</td><td>2.5437276</td><td>1.4287839</td><td>1.2718638</td><td>1.0</td><td>1875.8278</td><td>0.69047767</td><td>0.23015922</td><td>0.0012339203</td><td>0.00022345458</td><td>0.00019736988</td><td>4.866667e-05</td><td>2.93</td><td>gcA20</td><td>vdgc1</td><td>15</td><td>16</td><td>1</td><td>32</td><td>36</td><td>spec1d.vdgc1.015.gcA20.fits.gz</td></tr>\n",
       "<tr><td>---</td><td>GCN</td><td>Y</td><td>VCC1079</td><td>187.0423</td><td>10.3538885</td><td>1323.2156</td><td>12.560184</td><td>13.214163</td><td>11.683929</td><td>1.0</td><td>1333.0521</td><td>12.498647</td><td>9.956888</td><td>-1.5877651e-05</td><td>1.3676128e-05</td><td>1.9947132e-05</td><td>4.866667e-05</td><td>6.54</td><td>gcN120</td><td>vdgc1</td><td>26</td><td>31</td><td>1</td><td>122</td><td>128</td><td>spec1d.vdgc1.026.gcN120.fits.gz</td></tr>\n",
       "<tr><td>---</td><td>GCN</td><td>Y</td><td>VCC1079</td><td>187.05162</td><td>10.367778</td><td>1338.6162</td><td>13.627155</td><td>13.83195</td><td>13.110909</td><td>1.0</td><td>1369.9778</td><td>9.316445</td><td>7.795393</td><td>5.5871988e-05</td><td>3.38234e-05</td><td>3.4890803e-05</td><td>4.866667e-05</td><td>6.97</td><td>gcN138</td><td>vdgc1</td><td>27</td><td>32</td><td>4</td><td>32</td><td>38</td><td>spec1d.vdgc1.027.gcN138.fits.gz</td></tr>\n",
       "<tr><td>---</td><td>GCN</td><td>Y</td><td>VCC1079</td><td>187.05696</td><td>10.373972</td><td>1313.909</td><td>11.331903</td><td>11.525938</td><td>10.722818</td><td>1.0</td><td>1330.3203</td><td>7.775379</td><td>7.475171</td><td>6.03751e-06</td><td>2.805274e-05</td><td>2.5284158e-05</td><td>4.866667e-05</td><td>4.94</td><td>gcN145</td><td>vdgc1</td><td>29</td><td>34</td><td>4</td><td>20</td><td>26</td><td>spec1d.vdgc1.029.gcN145.fits.gz</td></tr>\n",
       "<tr><td>---</td><td>GCN</td><td>Y</td><td>VCC1079</td><td>187.05429</td><td>10.377334</td><td>1358.58</td><td>6.8130116</td><td>8.182219</td><td>4.8669662</td><td>1.0</td><td>1376.2621</td><td>7.945497</td><td>4.2029076</td><td>1.0273774e-05</td><td>5.0034614e-06</td><td>7.0382025e-06</td><td>4.866667e-05</td><td>7.02</td><td>gcN147</td><td>vdgc1</td><td>30</td><td>35</td><td>4</td><td>30</td><td>36</td><td>spec1d.vdgc1.030.gcN147.fits.gz</td></tr>\n",
       "<tr><td>---</td><td>GCN</td><td>Y</td><td>VCC1076</td><td>187.0515</td><td>10.524445</td><td>1650.4119</td><td>11.4403515</td><td>11.538051</td><td>10.929236</td><td>1.0</td><td>1669.485</td><td>10.947573</td><td>10.317138</td><td>1.4910315e-05</td><td>1.1407892e-05</td><td>1.12744665e-05</td><td>4.866667e-05</td><td>6.99</td><td>gcN206</td><td>vdgc1</td><td>37</td><td>44</td><td>4</td><td>114</td><td>120</td><td>spec1d.vdgc1.037.gcN206.fits.gz</td></tr>\n",
       "<tr><td>---</td><td>GCN</td><td>Y</td><td>VCC1076</td><td>187.05412</td><td>10.529555</td><td>1674.2283</td><td>19.803534</td><td>20.388123</td><td>19.004791</td><td>1.0</td><td>1670.9459</td><td>15.350619</td><td>13.409277</td><td>-5.9607904e-05</td><td>4.4530807e-05</td><td>4.469759e-05</td><td>4.866667e-05</td><td>2.89</td><td>gcN210</td><td>vdgc1</td><td>38</td><td>46</td><td>4</td><td>49</td><td>55</td><td>spec1d.vdgc1.038.gcN210.fits.gz</td></tr>\n",
       "<tr><td>...</td><td>...</td><td>...</td><td>...</td><td>...</td><td>...</td><td>...</td><td>...</td><td>...</td><td>...</td><td>...</td><td>...</td><td>...</td><td>...</td><td>...</td><td>...</td><td>...</td><td>...</td><td>...</td><td>...</td><td>...</td><td>...</td><td>...</td><td>...</td><td>...</td><td>...</td><td>...</td></tr>\n",
       "<tr><td>---</td><td>GCXF</td><td>Y</td><td>VLSB-D</td><td>186.17091</td><td>13.498722</td><td>1028.3</td><td>12.425</td><td>10.98</td><td>13.87</td><td>1.0</td><td>1037.3</td><td>10.98</td><td>13.87</td><td>-9.15</td><td>34.16</td><td>29.25</td><td>9.0</td><td>2.15</td><td>---</td><td>vugc5</td><td>15</td><td>-101010</td><td>-101010</td><td>30</td><td>38</td><td>spec1d.vugc5.015.GCXF002.fits.gz</td></tr>\n",
       "<tr><td>---</td><td>GCXF</td><td>Y</td><td>VLSB-D</td><td>186.17587</td><td>13.533361</td><td>1043.16</td><td>13.015199</td><td>8.56</td><td>11.54</td><td>1.0</td><td>1035.59</td><td>8.56</td><td>11.54</td><td>-16.57</td><td>8.82</td><td>7.72</td><td>9.0</td><td>4.38</td><td>---</td><td>vugc5</td><td>19</td><td>-101010</td><td>-101010</td><td>22</td><td>30</td><td>spec1d.vugc5.019.GCXF008.fits.gz</td></tr>\n",
       "<tr><td>---</td><td>GCBF</td><td>Y</td><td>VLSB-D</td><td>186.16437</td><td>13.568361</td><td>1043.72</td><td>19.373266</td><td>13.22</td><td>7.47</td><td>1.0</td><td>1047.04</td><td>13.22</td><td>7.47</td><td>-5.68</td><td>13.55</td><td>19.21</td><td>9.0</td><td>3.88</td><td>---</td><td>vugc5</td><td>25</td><td>-101010</td><td>-101010</td><td>43</td><td>51</td><td>spec1d.vugc5.025.GCBF006.fits.gz</td></tr>\n",
       "<tr><td>---</td><td>GCXL</td><td>Y</td><td>VCC0615</td><td>185.763</td><td>12.007584</td><td>2092.53</td><td>3.7062986</td><td>1.25</td><td>1.04</td><td>1.0</td><td>2113.06</td><td>1.25</td><td>1.04</td><td>11.33</td><td>2.5</td><td>4.55</td><td>9.2</td><td>6.85</td><td>---</td><td>vugc6</td><td>1</td><td>-101010</td><td>-101010</td><td>19</td><td>27</td><td>spec1d.vugc6.001.GCXL001.fits.gz</td></tr>\n",
       "<tr><td>---</td><td>GCXL</td><td>Y</td><td>VCC0615</td><td>185.7575</td><td>11.9945</td><td>2098.03</td><td>21.363428</td><td>25.18</td><td>13.07</td><td>1.0</td><td>2128.62</td><td>25.18</td><td>13.07</td><td>21.39</td><td>8.46</td><td>10.58</td><td>9.2</td><td>3.97</td><td>---</td><td>vugc6</td><td>2</td><td>-101010</td><td>-101010</td><td>14</td><td>24</td><td>spec1d.vugc6.002.GCXL002.fits.gz</td></tr>\n",
       "<tr><td>---</td><td>GCXL</td><td>Y</td><td>VCC0615</td><td>185.7768</td><td>12.016472</td><td>2117.74</td><td>9.1028805</td><td>11.13</td><td>5.91</td><td>1.0</td><td>2134.53</td><td>11.13</td><td>5.91</td><td>7.59</td><td>3.22</td><td>3.19</td><td>9.2</td><td>6.66</td><td>---</td><td>vugc6</td><td>3</td><td>-101010</td><td>-101010</td><td>39</td><td>47</td><td>spec1d.vugc6.003.GCXL003.fits.gz</td></tr>\n",
       "<tr><td>---</td><td>GCXL</td><td>Y</td><td>VCC0615</td><td>185.77496</td><td>12.022</td><td>2074.73</td><td>3.1152046</td><td>0.32</td><td>0.04</td><td>1.0</td><td>2099.35</td><td>0.32</td><td>0.04</td><td>15.42</td><td>2.99</td><td>3.23</td><td>9.2</td><td>4.27</td><td>---</td><td>vugc6</td><td>4</td><td>-101010</td><td>-101010</td><td>37</td><td>45</td><td>spec1d.vugc6.004.GCXL004.fits.gz</td></tr>\n",
       "<tr><td>---</td><td>GCXF</td><td>Y</td><td>VCC0615</td><td>185.77983</td><td>12.024111</td><td>2051.32</td><td>5.945473</td><td>0.06</td><td>0.09</td><td>1.0</td><td>2094.21</td><td>0.06</td><td>0.09</td><td>33.69</td><td>6.31</td><td>5.58</td><td>9.2</td><td>3.0</td><td>---</td><td>vugc6</td><td>5</td><td>-101010</td><td>-101010</td><td>103</td><td>113</td><td>spec1d.vugc6.005.GCXF003.fits.gz</td></tr>\n",
       "<tr><td>---</td><td>GCXF</td><td>Y</td><td>VCC0615</td><td>185.785</td><td>12.017889</td><td>2153.86</td><td>36.283745</td><td>40.04</td><td>31.06</td><td>1.0</td><td>2151.7</td><td>40.04</td><td>31.06</td><td>-11.36</td><td>7.93</td><td>6.59</td><td>9.2</td><td>2.91</td><td>---</td><td>vugc6</td><td>6</td><td>-101010</td><td>-101010</td><td>15</td><td>23</td><td>spec1d.vugc6.006.GCXF005.fits.gz</td></tr>\n",
       "<tr><td>---</td><td>GCXF</td><td>Y</td><td>VCC0615</td><td>185.77063</td><td>12.016639</td><td>2117.72</td><td>19.99313</td><td>10.34</td><td>8.63</td><td>1.0</td><td>2125.45</td><td>10.34</td><td>8.63</td><td>-1.47</td><td>18.24</td><td>16.96</td><td>9.2</td><td>2.97</td><td>---</td><td>vugc6</td><td>7</td><td>-101010</td><td>-101010</td><td>46</td><td>54</td><td>spec1d.vugc6.007.GCXF006.fits.gz</td></tr>\n",
       "</table>"
      ],
      "text/plain": [
       "<Table length=109>\n",
       "  VCC   TARGTYPE GCSAT    HOST  ...  YLOW YHIGH            SPEC1DNAME           \n",
       "bytes10  bytes7  bytes2 bytes10 ... int16 int16             bytes40             \n",
       "------- -------- ------ ------- ... ----- ----- --------------------------------\n",
       "    ---      GCA      Y VCC1075 ...    25    31   spec1d.vdgc1.011.gcA10.fits.gz\n",
       "    ---      GCA      Y VCC1075 ...    17    23   spec1d.vdgc1.012.gcA17.fits.gz\n",
       "    ---      GCA      Y VCC1075 ...    39    46   spec1d.vdgc1.014.gcA19.fits.gz\n",
       "    ---      GCA      Y VCC1075 ...    32    36   spec1d.vdgc1.015.gcA20.fits.gz\n",
       "    ---      GCN      Y VCC1079 ...   122   128  spec1d.vdgc1.026.gcN120.fits.gz\n",
       "    ---      GCN      Y VCC1079 ...    32    38  spec1d.vdgc1.027.gcN138.fits.gz\n",
       "    ---      GCN      Y VCC1079 ...    20    26  spec1d.vdgc1.029.gcN145.fits.gz\n",
       "    ---      GCN      Y VCC1079 ...    30    36  spec1d.vdgc1.030.gcN147.fits.gz\n",
       "    ---      GCN      Y VCC1076 ...   114   120  spec1d.vdgc1.037.gcN206.fits.gz\n",
       "    ---      GCN      Y VCC1076 ...    49    55  spec1d.vdgc1.038.gcN210.fits.gz\n",
       "    ...      ...    ...     ... ...   ...   ...                              ...\n",
       "    ---     GCXF      Y  VLSB-D ...    30    38 spec1d.vugc5.015.GCXF002.fits.gz\n",
       "    ---     GCXF      Y  VLSB-D ...    22    30 spec1d.vugc5.019.GCXF008.fits.gz\n",
       "    ---     GCBF      Y  VLSB-D ...    43    51 spec1d.vugc5.025.GCBF006.fits.gz\n",
       "    ---     GCXL      Y VCC0615 ...    19    27 spec1d.vugc6.001.GCXL001.fits.gz\n",
       "    ---     GCXL      Y VCC0615 ...    14    24 spec1d.vugc6.002.GCXL002.fits.gz\n",
       "    ---     GCXL      Y VCC0615 ...    39    47 spec1d.vugc6.003.GCXL003.fits.gz\n",
       "    ---     GCXL      Y VCC0615 ...    37    45 spec1d.vugc6.004.GCXL004.fits.gz\n",
       "    ---     GCXF      Y VCC0615 ...   103   113 spec1d.vugc6.005.GCXF003.fits.gz\n",
       "    ---     GCXF      Y VCC0615 ...    15    23 spec1d.vugc6.006.GCXF005.fits.gz\n",
       "    ---     GCXF      Y VCC0615 ...    46    54 spec1d.vugc6.007.GCXF006.fits.gz"
      ]
     },
     "execution_count": 7,
     "metadata": {},
     "output_type": "execute_result"
    }
   ],
   "source": [
    "VUGC_VDGC=vstack([test_VDGC,Host])\n",
    "\n",
    "VUGC_VDGC"
   ]
  },
  {
   "cell_type": "code",
   "execution_count": 8,
   "metadata": {},
   "outputs": [],
   "source": [
    "fileOrphanDE = Table.read(path + 'orphanGCs.fits')\n",
    "filekinDE = Table.read(path + 'VDGC_kinematic_prob.fits')\n",
    "fileOrphanUDG = Table.read(path + 'SelectGCsTrue2.fits')\n",
    "filekinUDG = Table.read(path + 'SelectGCsTrue_kinematic_prob.fits')"
   ]
  },
  {
   "cell_type": "code",
   "execution_count": 9,
   "metadata": {},
   "outputs": [],
   "source": [
    "def typeandprob(file):\n",
    "    probability= []\n",
    "    objecttype= []\n",
    "    for row in file:\n",
    "        probability.append(max(row))\n",
    "        vals = []\n",
    "        for ind, val in enumerate(row):\n",
    "            vals.append(val)\n",
    "        if (vals.index(max(vals))==0):\n",
    "            objecttype.append('Star')\n",
    "        elif (vals.index(max(vals))==1):\n",
    "            objecttype.append('ICGC')\n",
    "        elif (vals.index(max(vals))==2):\n",
    "            objecttype.append('M87GC')\n",
    "    return probability, objecttype"
   ]
  },
  {
   "cell_type": "code",
   "execution_count": 10,
   "metadata": {},
   "outputs": [],
   "source": [
    "probabilityDE, objecttypeDE = typeandprob(filekinDE)\n",
    "probabilityUDG, objecttypeUDG = typeandprob(filekinUDG)\n"
   ]
  },
  {
   "cell_type": "code",
   "execution_count": 11,
   "metadata": {},
   "outputs": [],
   "source": [
    "fileOrphanDE['Probability'] = probabilityDE\n",
    "fileOrphanUDG['Probability'] = probabilityUDG\n",
    "fileOrphanDE['Type'] = objecttypeDE\n",
    "fileOrphanUDG['Type'] = objecttypeUDG"
   ]
  },
  {
   "cell_type": "code",
   "execution_count": 12,
   "metadata": {},
   "outputs": [],
   "source": [
    "noDE = VD_GC[(VD_GC['ZCONF']==1) & (VD_GC['GCSAT']=='N') | (VD_GC['GCSAT']=='M')]\n",
    "noUDG = VU_GC[(VU_GC['ZCONF']==1) & (VU_GC['GCSAT']=='N') | (VU_GC['GCSAT']=='M')]\n"
   ]
  },
  {
   "cell_type": "code",
   "execution_count": 13,
   "metadata": {},
   "outputs": [],
   "source": [
    "noDE.sort('SPEC1DNAME')\n",
    "noUDG.sort('SPEC1DNAME')\n",
    "fileOrphanDE.sort('SPEC1DNAME')\n",
    "fileOrphanUDG.sort('SPEC1DNAME')\n",
    "\n",
    "focusedUDG = fileOrphanUDG['SPEC1DNAME', 'Probability', 'Type']\n",
    "focusedUDG.add_row(['spec1d.vugc1.044.GCXO0504.fits.gz', -1, 'Unknown'])\n",
    "focusedUDG.sort('SPEC1DNAME')\n",
    "\n",
    "noDE['Probability'] = probabilityDE\n",
    "noUDG['Probability'] = focusedUDG['Probability']\n",
    "noDE['Type'] = objecttypeDE\n",
    "noUDG['Type'] = focusedUDG['Type']"
   ]
  },
  {
   "cell_type": "code",
   "execution_count": 14,
   "metadata": {},
   "outputs": [
    {
     "data": {
      "text/html": [
       "<i>Table length=72</i>\n",
       "<table id=\"table4595581392\" class=\"table-striped table-bordered table-condensed\">\n",
       "<thead><tr><th>VCC</th><th>TARGTYPE</th><th>GCSAT</th><th>HOST</th><th>RA</th><th>DEC</th><th>VHEL</th><th>VERR</th><th>VERR_pe</th><th>VERR_ne</th><th>ZCONF</th><th>VOBS</th><th>VOBS_pe</th><th>VOBS_ne</th><th>ABANDCOR</th><th>ABANDCOR_pe</th><th>ABANDCOR_ne</th><th>HELCOR</th><th>SN</th><th>MASKNAME</th><th>SLITNUM</th><th>YLOW</th><th>YHIGH</th><th>SPEC1DNAME</th><th>KECKID</th><th>ZQUAL</th><th>ZSPECNUM</th><th>Probability</th><th>Type</th></tr></thead>\n",
       "<thead><tr><th>bytes10</th><th>bytes7</th><th>bytes2</th><th>bytes10</th><th>float32</th><th>float32</th><th>float32</th><th>float32</th><th>float32</th><th>float32</th><th>float32</th><th>float32</th><th>float32</th><th>float32</th><th>float32</th><th>float32</th><th>float32</th><th>float32</th><th>float32</th><th>bytes20</th><th>int16</th><th>int16</th><th>int16</th><th>bytes40</th><th>str3</th><th>int64</th><th>int64</th><th>float32</th><th>str5</th></tr></thead>\n",
       "<tr><td>VCC1148</td><td>NUC</td><td>N</td><td>---</td><td>187.2422</td><td>12.661695</td><td>1417.16</td><td>0.30438462</td><td>0.21</td><td>0.24</td><td>1.0</td><td>1403.28</td><td>0.21</td><td>0.24</td><td>-23.48</td><td>0.18</td><td>0.23</td><td>9.6</td><td>151.96</td><td>vugc1</td><td>0</td><td>43</td><td>59</td><td>spec1d.vugc1.000.NUC001.fits.gz</td><td>---</td><td>-101010</td><td>-101010</td><td>0.84855264</td><td>M87GC</td></tr>\n",
       "<tr><td>---</td><td>GCXL</td><td>N</td><td>---</td><td>187.0645</td><td>12.741167</td><td>-591.31</td><td>5.6009865</td><td>3.6</td><td>4.99</td><td>1.0</td><td>-544.81</td><td>3.6</td><td>4.99</td><td>36.9</td><td>3.44</td><td>3.75</td><td>9.6</td><td>7.79</td><td>vugc1</td><td>7</td><td>58</td><td>68</td><td>spec1d.vugc1.007.GCXL008.fits.gz</td><td>---</td><td>-101010</td><td>-101010</td><td>0.9999366</td><td>ICGC</td></tr>\n",
       "<tr><td>---</td><td>GCXL</td><td>N</td><td>---</td><td>187.04138</td><td>12.743</td><td>-339.2</td><td>12.014878</td><td>1.14</td><td>18.9</td><td>1.0</td><td>-271.02</td><td>1.14</td><td>18.9</td><td>58.58</td><td>5.66</td><td>7.6</td><td>9.6</td><td>2.14</td><td>vugc1</td><td>9</td><td>41</td><td>51</td><td>spec1d.vugc1.009.GCXL011.fits.gz</td><td>---</td><td>-101010</td><td>-101010</td><td>0.6393685</td><td>ICGC</td></tr>\n",
       "<tr><td>---</td><td>GCXL</td><td>N</td><td>---</td><td>187.26938</td><td>12.675</td><td>1265.91</td><td>10.11425</td><td>9.15</td><td>6.84</td><td>1.0</td><td>1251.6</td><td>9.15</td><td>6.84</td><td>-23.91</td><td>6.78</td><td>5.61</td><td>9.6</td><td>4.19</td><td>vugc1</td><td>11</td><td>16</td><td>26</td><td>spec1d.vugc1.011.GCXL013.fits.gz</td><td>---</td><td>-101010</td><td>-101010</td><td>0.83778</td><td>M87GC</td></tr>\n",
       "<tr><td>---</td><td>GCXL</td><td>N</td><td>---</td><td>187.0158</td><td>12.7225275</td><td>1397.37</td><td>7.2989125</td><td>5.45</td><td>7.26</td><td>1.0</td><td>1452.44</td><td>5.45</td><td>7.26</td><td>45.47</td><td>3.44</td><td>3.74</td><td>9.6</td><td>6.01</td><td>vugc1</td><td>12</td><td>12</td><td>22</td><td>spec1d.vugc1.012.GCXL015.fits.gz</td><td>---</td><td>-101010</td><td>-101010</td><td>0.8498808</td><td>M87GC</td></tr>\n",
       "<tr><td>---</td><td>GCXL</td><td>N</td><td>---</td><td>187.25525</td><td>12.648389</td><td>951.12</td><td>30.016117</td><td>12.48</td><td>16.38</td><td>1.0</td><td>943.01</td><td>12.48</td><td>16.38</td><td>-17.71</td><td>28.32</td><td>24.32</td><td>9.6</td><td>2.21</td><td>vugc1</td><td>14</td><td>60</td><td>70</td><td>spec1d.vugc1.014.GCXL017.fits.gz</td><td>---</td><td>-101010</td><td>-101010</td><td>0.57101935</td><td>M87GC</td></tr>\n",
       "<tr><td>---</td><td>GCBL</td><td>N</td><td>---</td><td>187.07175</td><td>12.729305</td><td>190.86</td><td>12.783288</td><td>3.2</td><td>4.53</td><td>1.0</td><td>220.64</td><td>3.2</td><td>4.53</td><td>20.18</td><td>13.53</td><td>10.84</td><td>9.6</td><td>7.97</td><td>vugc1</td><td>25</td><td>11</td><td>19</td><td>spec1d.vugc1.025.GCBL001.fits.gz</td><td>---</td><td>-101010</td><td>-101010</td><td>0.9511431</td><td>Star</td></tr>\n",
       "<tr><td>---</td><td>GCBL</td><td>N</td><td>---</td><td>187.27963</td><td>12.6585</td><td>-14.56</td><td>0.59682494</td><td>0.53</td><td>0.49</td><td>1.0</td><td>-35.26</td><td>0.53</td><td>0.49</td><td>-30.3</td><td>0.3</td><td>0.32</td><td>9.6</td><td>61.11</td><td>vugc1</td><td>29</td><td>48</td><td>58</td><td>spec1d.vugc1.029.GCBL007.fits.gz</td><td>---</td><td>-101010</td><td>-101010</td><td>0.98372805</td><td>Star</td></tr>\n",
       "<tr><td>---</td><td>GCBL</td><td>N</td><td>---</td><td>187.24742</td><td>12.637139</td><td>-55.26</td><td>5.19</td><td>4.92</td><td>5.46</td><td>1.0</td><td>-45.66</td><td>4.92</td><td>5.46</td><td>-8.24</td><td>29.95</td><td>48.57</td><td>9.6</td><td>7.79</td><td>vugc1</td><td>30</td><td>13</td><td>23</td><td>spec1d.vugc1.030.GCBL008.fits.gz</td><td>---</td><td>-101010</td><td>-101010</td><td>0.98111</td><td>Star</td></tr>\n",
       "<tr><td>---</td><td>GCXO</td><td>N</td><td>---</td><td>187.10078</td><td>12.674723</td><td>988.08</td><td>22.852507</td><td>10.37</td><td>11.94</td><td>1.0</td><td>897.41</td><td>10.37</td><td>11.94</td><td>-100.27</td><td>16.91</td><td>22.98</td><td>9.6</td><td>3.48</td><td>vugc1</td><td>34</td><td>92</td><td>102</td><td>spec1d.vugc1.034.GCXO0018.fits.gz</td><td>---</td><td>-101010</td><td>-101010</td><td>0.62906873</td><td>M87GC</td></tr>\n",
       "<tr><td>...</td><td>...</td><td>...</td><td>...</td><td>...</td><td>...</td><td>...</td><td>...</td><td>...</td><td>...</td><td>...</td><td>...</td><td>...</td><td>...</td><td>...</td><td>...</td><td>...</td><td>...</td><td>...</td><td>...</td><td>...</td><td>...</td><td>...</td><td>...</td><td>...</td><td>...</td><td>...</td><td>...</td><td>...</td></tr>\n",
       "<tr><td>---</td><td>SGR</td><td>N</td><td>---</td><td>185.79562</td><td>11.95625</td><td>-30.45</td><td>6.590131</td><td>4.42</td><td>7.3</td><td>1.0</td><td>-5.02</td><td>4.42</td><td>7.3</td><td>16.23</td><td>2.9</td><td>3.13</td><td>9.2</td><td>5.03</td><td>vugc6</td><td>49</td><td>81</td><td>91</td><td>spec1d.vugc6.049.SGR0039.fits.gz</td><td>---</td><td>-101010</td><td>-101010</td><td>0.9818989</td><td>Star</td></tr>\n",
       "<tr><td>---</td><td>SGR</td><td>N</td><td>---</td><td>185.85175</td><td>12.10025</td><td>-48.3</td><td>4.3181043</td><td>5.08</td><td>2.88</td><td>1.0</td><td>-30.82</td><td>5.08</td><td>2.88</td><td>8.28</td><td>1.53</td><td>1.82</td><td>9.2</td><td>14.49</td><td>vugc6</td><td>50</td><td>112</td><td>120</td><td>spec1d.vugc6.050.SGR0044.fits.gz</td><td>---</td><td>-101010</td><td>-101010</td><td>0.9807099</td><td>Star</td></tr>\n",
       "<tr><td>---</td><td>SGR</td><td>N</td><td>---</td><td>185.80034</td><td>11.969306</td><td>-35.15</td><td>5.4065537</td><td>4.37</td><td>5.56</td><td>1.0</td><td>6.67</td><td>4.37</td><td>5.56</td><td>32.62</td><td>2.34</td><td>1.94</td><td>9.2</td><td>12.16</td><td>vugc6</td><td>51</td><td>67</td><td>77</td><td>spec1d.vugc6.051.SGR0085.fits.gz</td><td>---</td><td>-101010</td><td>-101010</td><td>0.9816347</td><td>Star</td></tr>\n",
       "<tr><td>---</td><td>SGR</td><td>N</td><td>---</td><td>185.78845</td><td>12.026778</td><td>-67.46</td><td>3.761396</td><td>3.67</td><td>3.53</td><td>1.0</td><td>-37.48</td><td>3.67</td><td>3.53</td><td>20.78</td><td>0.92</td><td>1.26</td><td>9.2</td><td>17.71</td><td>vugc6</td><td>52</td><td>21</td><td>29</td><td>spec1d.vugc6.052.SGR0105.fits.gz</td><td>---</td><td>-101010</td><td>-101010</td><td>0.9788053</td><td>Star</td></tr>\n",
       "<tr><td>---</td><td>SGR</td><td>N</td><td>---</td><td>185.84895</td><td>12.092112</td><td>-18.66</td><td>17.332441</td><td>15.33</td><td>17.21</td><td>1.0</td><td>-15.34</td><td>15.33</td><td>17.21</td><td>-5.88</td><td>6.04</td><td>5.91</td><td>9.2</td><td>5.06</td><td>vugc6</td><td>53</td><td>8</td><td>16</td><td>spec1d.vugc6.053.SGR0118.fits.gz</td><td>---</td><td>-101010</td><td>-101010</td><td>0.98242027</td><td>Star</td></tr>\n",
       "<tr><td>---</td><td>SGR</td><td>N</td><td>---</td><td>185.88054</td><td>12.135028</td><td>29.33</td><td>10.8752985</td><td>12.75</td><td>7.42</td><td>1.0</td><td>43.62</td><td>12.75</td><td>7.42</td><td>5.09</td><td>4.17</td><td>3.97</td><td>9.2</td><td>4.11</td><td>vugc6</td><td>54</td><td>8</td><td>16</td><td>spec1d.vugc6.054.SGR0123.fits.gz</td><td>---</td><td>-101010</td><td>-101010</td><td>0.9826581</td><td>Star</td></tr>\n",
       "<tr><td>---</td><td>SGR</td><td>N</td><td>---</td><td>185.74037</td><td>11.945056</td><td>81.2</td><td>3.226612</td><td>3.06</td><td>3.14</td><td>1.0</td><td>134.32</td><td>3.06</td><td>3.14</td><td>43.92</td><td>0.96</td><td>0.83</td><td>9.2</td><td>19.33</td><td>vugc6</td><td>55</td><td>62</td><td>72</td><td>spec1d.vugc6.055.SGR0130.fits.gz</td><td>---</td><td>-101010</td><td>-101010</td><td>0.9793355</td><td>Star</td></tr>\n",
       "<tr><td>---</td><td>SER</td><td>N</td><td>---</td><td>185.8101</td><td>12.019183</td><td>-47.68</td><td>7.958574</td><td>5.6</td><td>9.0</td><td>1.0</td><td>-21.63</td><td>5.6</td><td>9.0</td><td>16.85</td><td>3.69</td><td>2.65</td><td>9.2</td><td>3.45</td><td>vugc6</td><td>56</td><td>46</td><td>53</td><td>spec1d.vugc6.056.serendip1.fits.gz</td><td>---</td><td>-101010</td><td>-101010</td><td>0.98076</td><td>Star</td></tr>\n",
       "<tr><td>---</td><td>SGR</td><td>N</td><td>---</td><td>185.78558</td><td>12.031584</td><td>72.83</td><td>7.6939</td><td>2.39</td><td>5.21</td><td>1.0</td><td>92.59</td><td>2.39</td><td>5.21</td><td>10.56</td><td>6.03</td><td>7.35</td><td>9.2</td><td>5.99</td><td>vugc6</td><td>58</td><td>58</td><td>66</td><td>spec1d.vugc6.058.SGR0175.fits.gz</td><td>---</td><td>-101010</td><td>-101010</td><td>0.9801772</td><td>Star</td></tr>\n",
       "<tr><td>---</td><td>SGR</td><td>N</td><td>---</td><td>185.72034</td><td>11.928528</td><td>-54.81</td><td>7.384176</td><td>8.65</td><td>5.06</td><td>1.0</td><td>6.45</td><td>8.65</td><td>5.06</td><td>52.06</td><td>2.75</td><td>2.74</td><td>9.2</td><td>4.62</td><td>vugc6</td><td>59</td><td>297</td><td>307</td><td>spec1d.vugc6.059.SGR0179.fits.gz</td><td>---</td><td>-101010</td><td>-101010</td><td>0.98014235</td><td>Star</td></tr>\n",
       "</table>"
      ],
      "text/plain": [
       "<Table length=72>\n",
       "  VCC   TARGTYPE GCSAT    HOST      RA    ...  ZQUAL  ZSPECNUM Probability  Type\n",
       "bytes10  bytes7  bytes2 bytes10  float32  ...  int64   int64     float32    str5\n",
       "------- -------- ------ ------- --------- ... ------- -------- ----------- -----\n",
       "VCC1148      NUC      N     ---  187.2422 ... -101010  -101010  0.84855264 M87GC\n",
       "    ---     GCXL      N     ---  187.0645 ... -101010  -101010   0.9999366  ICGC\n",
       "    ---     GCXL      N     --- 187.04138 ... -101010  -101010   0.6393685  ICGC\n",
       "    ---     GCXL      N     --- 187.26938 ... -101010  -101010     0.83778 M87GC\n",
       "    ---     GCXL      N     ---  187.0158 ... -101010  -101010   0.8498808 M87GC\n",
       "    ---     GCXL      N     --- 187.25525 ... -101010  -101010  0.57101935 M87GC\n",
       "    ---     GCBL      N     --- 187.07175 ... -101010  -101010   0.9511431  Star\n",
       "    ---     GCBL      N     --- 187.27963 ... -101010  -101010  0.98372805  Star\n",
       "    ---     GCBL      N     --- 187.24742 ... -101010  -101010     0.98111  Star\n",
       "    ---     GCXO      N     --- 187.10078 ... -101010  -101010  0.62906873 M87GC\n",
       "    ...      ...    ...     ...       ... ...     ...      ...         ...   ...\n",
       "    ---      SGR      N     --- 185.79562 ... -101010  -101010   0.9818989  Star\n",
       "    ---      SGR      N     --- 185.85175 ... -101010  -101010   0.9807099  Star\n",
       "    ---      SGR      N     --- 185.80034 ... -101010  -101010   0.9816347  Star\n",
       "    ---      SGR      N     --- 185.78845 ... -101010  -101010   0.9788053  Star\n",
       "    ---      SGR      N     --- 185.84895 ... -101010  -101010  0.98242027  Star\n",
       "    ---      SGR      N     --- 185.88054 ... -101010  -101010   0.9826581  Star\n",
       "    ---      SGR      N     --- 185.74037 ... -101010  -101010   0.9793355  Star\n",
       "    ---      SER      N     ---  185.8101 ... -101010  -101010     0.98076  Star\n",
       "    ---      SGR      N     --- 185.78558 ... -101010  -101010   0.9801772  Star\n",
       "    ---      SGR      N     --- 185.72034 ... -101010  -101010  0.98014235  Star"
      ]
     },
     "execution_count": 14,
     "metadata": {},
     "output_type": "execute_result"
    }
   ],
   "source": [
    "noUDG"
   ]
  },
  {
   "cell_type": "code",
   "execution_count": 15,
   "metadata": {},
   "outputs": [
    {
     "data": {
      "text/html": [
       "<i>Table length=436</i>\n",
       "<table id=\"table4595583128\" class=\"table-striped table-bordered table-condensed\">\n",
       "<thead><tr><th>VCC</th><th>TARGTYPE</th><th>GCSAT</th><th>HOST</th><th>RA</th><th>DEC</th><th>VHEL</th><th>VERR</th><th>VERR_pe</th><th>VERR_ne</th><th>ZCONF</th><th>VOBS</th><th>VOBS_pe</th><th>VOBS_ne</th><th>ABANDCOR</th><th>ABANDCOR_pe</th><th>ABANDCOR_ne</th><th>HELCOR</th><th>SN</th><th>KECKID</th><th>MASKNAME</th><th>SLITNUM</th><th>ZSPECNUM</th><th>ZQUAL</th><th>YLOW</th><th>YHIGH</th><th>SPEC1DNAME</th><th>Probability</th><th>Type</th></tr></thead>\n",
       "<thead><tr><th>bytes10</th><th>bytes7</th><th>bytes2</th><th>bytes10</th><th>float32</th><th>float32</th><th>float32</th><th>float32</th><th>float32</th><th>float32</th><th>float32</th><th>float32</th><th>float32</th><th>float32</th><th>float32</th><th>float32</th><th>float32</th><th>float32</th><th>float32</th><th>str20</th><th>bytes20</th><th>int16</th><th>int64</th><th>int64</th><th>int16</th><th>int16</th><th>bytes40</th><th>float32</th><th>str5</th></tr></thead>\n",
       "<tr><td>---</td><td>ALG</td><td>N</td><td>---</td><td>187.0097</td><td>10.359333</td><td>54.56785</td><td>2.5169947</td><td>1.2761084</td><td>1.2873586</td><td>1.0</td><td>117.61137</td><td>0.21014537</td><td>0.21014537</td><td>0.00016147838</td><td>4.6698975e-07</td><td>7.3384103e-07</td><td>4.866667e-05</td><td>196.03</td><td>alg42</td><td>vdgc1</td><td>0</td><td>0</td><td>-1</td><td>15</td><td>21</td><td>spec1d.vdgc1.000.alg42.fits.gz</td><td>0.98157275</td><td>Star</td></tr>\n",
       "<tr><td>---</td><td>ALG</td><td>N</td><td>---</td><td>187.07608</td><td>10.3505</td><td>-210.7357</td><td>3.0194468</td><td>2.024616</td><td>2.1834822</td><td>1.0</td><td>-170.35785</td><td>1.5010384</td><td>1.6711562</td><td>8.592611e-05</td><td>1.7678897e-06</td><td>2.1348103e-06</td><td>4.866667e-05</td><td>58.89</td><td>alg115</td><td>vdgc1</td><td>1</td><td>1</td><td>-1</td><td>15</td><td>21</td><td>spec1d.vdgc1.001.alg115.fits.gz</td><td>0.90411496</td><td>Star</td></tr>\n",
       "<tr><td>---</td><td>ALG</td><td>N</td><td>---</td><td>186.9995</td><td>10.459528</td><td>12.869002</td><td>2.8418825</td><td>1.7621847</td><td>1.9203647</td><td>1.0</td><td>76.86318</td><td>1.0807476</td><td>1.2108377</td><td>0.00016464724</td><td>2.0347409e-06</td><td>2.701869e-06</td><td>4.866667e-05</td><td>44.0</td><td>alg140</td><td>vdgc1</td><td>2</td><td>2</td><td>-1</td><td>15</td><td>21</td><td>spec1d.vdgc1.002.alg140.fits.gz</td><td>0.982906</td><td>Star</td></tr>\n",
       "<tr><td>---</td><td>ALG</td><td>N</td><td>---</td><td>187.04004</td><td>10.45025</td><td>19.96391</td><td>2.5854344</td><td>1.3975698</td><td>1.426399</td><td>1.0</td><td>32.882748</td><td>0.46031845</td><td>0.57039464</td><td>-5.6038766e-06</td><td>1.4009692e-06</td><td>1.2675436e-06</td><td>4.866667e-05</td><td>80.71</td><td>alg164</td><td>vdgc1</td><td>3</td><td>3</td><td>-1</td><td>16</td><td>21</td><td>spec1d.vdgc1.003.alg164.fits.gz</td><td>0.9828415</td><td>Star</td></tr>\n",
       "<tr><td>---</td><td>ALG</td><td>N</td><td>---</td><td>187.07025</td><td>10.325111</td><td>-2.7317898</td><td>2.612219</td><td>1.4655958</td><td>1.453245</td><td>1.0</td><td>34.784065</td><td>0.65045</td><td>0.6404431</td><td>7.6386175e-05</td><td>1.3342564e-06</td><td>1.2341872e-06</td><td>4.866667e-05</td><td>92.15</td><td>alg177</td><td>vdgc1</td><td>4</td><td>4</td><td>-1</td><td>15</td><td>20</td><td>spec1d.vdgc1.004.alg177.fits.gz</td><td>0.98282486</td><td>Star</td></tr>\n",
       "<tr><td>---</td><td>ALG</td><td>N</td><td>---</td><td>187.05908</td><td>10.544111</td><td>17.422152</td><td>2.510731</td><td>1.271273</td><td>1.2664591</td><td>1.0</td><td>-29.680532</td><td>0.17011769</td><td>0.14009692</td><td>-0.00020567562</td><td>5.003461e-07</td><td>4.6698975e-07</td><td>4.866667e-05</td><td>222.86</td><td>alg191</td><td>vdgc1</td><td>5</td><td>5</td><td>-1</td><td>15</td><td>21</td><td>spec1d.vdgc1.005.alg191.fits.gz</td><td>0.9828719</td><td>Star</td></tr>\n",
       "<tr><td>---</td><td>ALG</td><td>N</td><td>---</td><td>187.06075</td><td>10.386139</td><td>-53.867165</td><td>2.7268543</td><td>1.7217433</td><td>1.5956256</td><td>1.0</td><td>-18.522814</td><td>0.73050535</td><td>0.70048463</td><td>6.9147834e-05</td><td>3.1021461e-06</td><td>2.3349487e-06</td><td>4.866667e-05</td><td>73.2</td><td>alg194</td><td>vdgc1</td><td>6</td><td>6</td><td>-1</td><td>15</td><td>20</td><td>spec1d.vdgc1.006.alg194.fits.gz</td><td>0.9802294</td><td>Star</td></tr>\n",
       "<tr><td>VCC1075</td><td>NUC</td><td>N</td><td>---</td><td>187.05128</td><td>10.297639</td><td>1811.7435</td><td>2.917756</td><td>1.9805114</td><td>1.9400272</td><td>1.0</td><td>1825.7831</td><td>1.4409969</td><td>1.2608724</td><td>-1.867959e-06</td><td>1.7678897e-06</td><td>2.6018e-06</td><td>4.866667e-05</td><td>28.58</td><td>nuc5</td><td>vdgc1</td><td>7</td><td>7</td><td>4</td><td>30</td><td>37</td><td>spec1d.vdgc1.007.nuc5.fits.gz</td><td>1.0</td><td>ICGC</td></tr>\n",
       "<tr><td>VCC1079</td><td>NUC</td><td>N</td><td>---</td><td>187.05008</td><td>10.365334</td><td>1334.1931</td><td>3.0186136</td><td>2.089962</td><td>2.114991</td><td>1.0</td><td>1349.0332</td><td>1.5510731</td><td>1.541066</td><td>8.0055383e-07</td><td>2.101454e-06</td><td>2.435018e-06</td><td>4.866667e-05</td><td>32.52</td><td>nuc6</td><td>vdgc1</td><td>8</td><td>8</td><td>4</td><td>19</td><td>25</td><td>spec1d.vdgc1.008.nuc6.fits.gz</td><td>1.0</td><td>ICGC</td></tr>\n",
       "<tr><td>VCC1076</td><td>NUC</td><td>N</td><td>---</td><td>187.05345</td><td>10.526055</td><td>1648.991</td><td>3.8832598</td><td>2.937931</td><td>3.5167038</td><td>1.0</td><td>1670.976</td><td>2.5317514</td><td>3.2022152</td><td>2.461703e-05</td><td>2.701869e-06</td><td>2.4683743e-06</td><td>4.866667e-05</td><td>27.06</td><td>nuc7</td><td>vdgc1</td><td>9</td><td>9</td><td>4</td><td>20</td><td>26</td><td>spec1d.vdgc1.009.nuc7.fits.gz</td><td>1.0</td><td>ICGC</td></tr>\n",
       "<tr><td>...</td><td>...</td><td>...</td><td>...</td><td>...</td><td>...</td><td>...</td><td>...</td><td>...</td><td>...</td><td>...</td><td>...</td><td>...</td><td>...</td><td>...</td><td>...</td><td>...</td><td>...</td><td>...</td><td>...</td><td>...</td><td>...</td><td>...</td><td>...</td><td>...</td><td>...</td><td>...</td><td>...</td><td>...</td></tr>\n",
       "<tr><td>---</td><td>SGR</td><td>N</td><td>---</td><td>185.79562</td><td>11.95625</td><td>-30.45</td><td>6.590131</td><td>4.42</td><td>7.3</td><td>1.0</td><td>-5.02</td><td>4.42</td><td>7.3</td><td>16.23</td><td>2.9</td><td>3.13</td><td>9.2</td><td>5.03</td><td>---</td><td>vugc6</td><td>49</td><td>-101010</td><td>-101010</td><td>81</td><td>91</td><td>spec1d.vugc6.049.SGR0039.fits.gz</td><td>0.9818989</td><td>Star</td></tr>\n",
       "<tr><td>---</td><td>SGR</td><td>N</td><td>---</td><td>185.85175</td><td>12.10025</td><td>-48.3</td><td>4.3181043</td><td>5.08</td><td>2.88</td><td>1.0</td><td>-30.82</td><td>5.08</td><td>2.88</td><td>8.28</td><td>1.53</td><td>1.82</td><td>9.2</td><td>14.49</td><td>---</td><td>vugc6</td><td>50</td><td>-101010</td><td>-101010</td><td>112</td><td>120</td><td>spec1d.vugc6.050.SGR0044.fits.gz</td><td>0.9807099</td><td>Star</td></tr>\n",
       "<tr><td>---</td><td>SGR</td><td>N</td><td>---</td><td>185.80034</td><td>11.969306</td><td>-35.15</td><td>5.4065537</td><td>4.37</td><td>5.56</td><td>1.0</td><td>6.67</td><td>4.37</td><td>5.56</td><td>32.62</td><td>2.34</td><td>1.94</td><td>9.2</td><td>12.16</td><td>---</td><td>vugc6</td><td>51</td><td>-101010</td><td>-101010</td><td>67</td><td>77</td><td>spec1d.vugc6.051.SGR0085.fits.gz</td><td>0.9816347</td><td>Star</td></tr>\n",
       "<tr><td>---</td><td>SGR</td><td>N</td><td>---</td><td>185.78845</td><td>12.026778</td><td>-67.46</td><td>3.761396</td><td>3.67</td><td>3.53</td><td>1.0</td><td>-37.48</td><td>3.67</td><td>3.53</td><td>20.78</td><td>0.92</td><td>1.26</td><td>9.2</td><td>17.71</td><td>---</td><td>vugc6</td><td>52</td><td>-101010</td><td>-101010</td><td>21</td><td>29</td><td>spec1d.vugc6.052.SGR0105.fits.gz</td><td>0.9788053</td><td>Star</td></tr>\n",
       "<tr><td>---</td><td>SGR</td><td>N</td><td>---</td><td>185.84895</td><td>12.092112</td><td>-18.66</td><td>17.332441</td><td>15.33</td><td>17.21</td><td>1.0</td><td>-15.34</td><td>15.33</td><td>17.21</td><td>-5.88</td><td>6.04</td><td>5.91</td><td>9.2</td><td>5.06</td><td>---</td><td>vugc6</td><td>53</td><td>-101010</td><td>-101010</td><td>8</td><td>16</td><td>spec1d.vugc6.053.SGR0118.fits.gz</td><td>0.98242027</td><td>Star</td></tr>\n",
       "<tr><td>---</td><td>SGR</td><td>N</td><td>---</td><td>185.88054</td><td>12.135028</td><td>29.33</td><td>10.8752985</td><td>12.75</td><td>7.42</td><td>1.0</td><td>43.62</td><td>12.75</td><td>7.42</td><td>5.09</td><td>4.17</td><td>3.97</td><td>9.2</td><td>4.11</td><td>---</td><td>vugc6</td><td>54</td><td>-101010</td><td>-101010</td><td>8</td><td>16</td><td>spec1d.vugc6.054.SGR0123.fits.gz</td><td>0.9826581</td><td>Star</td></tr>\n",
       "<tr><td>---</td><td>SGR</td><td>N</td><td>---</td><td>185.74037</td><td>11.945056</td><td>81.2</td><td>3.226612</td><td>3.06</td><td>3.14</td><td>1.0</td><td>134.32</td><td>3.06</td><td>3.14</td><td>43.92</td><td>0.96</td><td>0.83</td><td>9.2</td><td>19.33</td><td>---</td><td>vugc6</td><td>55</td><td>-101010</td><td>-101010</td><td>62</td><td>72</td><td>spec1d.vugc6.055.SGR0130.fits.gz</td><td>0.9793355</td><td>Star</td></tr>\n",
       "<tr><td>---</td><td>SER</td><td>N</td><td>---</td><td>185.8101</td><td>12.019183</td><td>-47.68</td><td>7.958574</td><td>5.6</td><td>9.0</td><td>1.0</td><td>-21.63</td><td>5.6</td><td>9.0</td><td>16.85</td><td>3.69</td><td>2.65</td><td>9.2</td><td>3.45</td><td>---</td><td>vugc6</td><td>56</td><td>-101010</td><td>-101010</td><td>46</td><td>53</td><td>spec1d.vugc6.056.serendip1.fits.gz</td><td>0.98076</td><td>Star</td></tr>\n",
       "<tr><td>---</td><td>SGR</td><td>N</td><td>---</td><td>185.78558</td><td>12.031584</td><td>72.83</td><td>7.6939</td><td>2.39</td><td>5.21</td><td>1.0</td><td>92.59</td><td>2.39</td><td>5.21</td><td>10.56</td><td>6.03</td><td>7.35</td><td>9.2</td><td>5.99</td><td>---</td><td>vugc6</td><td>58</td><td>-101010</td><td>-101010</td><td>58</td><td>66</td><td>spec1d.vugc6.058.SGR0175.fits.gz</td><td>0.9801772</td><td>Star</td></tr>\n",
       "<tr><td>---</td><td>SGR</td><td>N</td><td>---</td><td>185.72034</td><td>11.928528</td><td>-54.81</td><td>7.384176</td><td>8.65</td><td>5.06</td><td>1.0</td><td>6.45</td><td>8.65</td><td>5.06</td><td>52.06</td><td>2.75</td><td>2.74</td><td>9.2</td><td>4.62</td><td>---</td><td>vugc6</td><td>59</td><td>-101010</td><td>-101010</td><td>297</td><td>307</td><td>spec1d.vugc6.059.SGR0179.fits.gz</td><td>0.98014235</td><td>Star</td></tr>\n",
       "</table>"
      ],
      "text/plain": [
       "<Table length=436>\n",
       "  VCC   TARGTYPE GCSAT  ...             SPEC1DNAME             Probability Type\n",
       "bytes10  bytes7  bytes2 ...              bytes40                 float32   str5\n",
       "------- -------- ------ ... ---------------------------------- ----------- ----\n",
       "    ---      ALG      N ...     spec1d.vdgc1.000.alg42.fits.gz  0.98157275 Star\n",
       "    ---      ALG      N ...    spec1d.vdgc1.001.alg115.fits.gz  0.90411496 Star\n",
       "    ---      ALG      N ...    spec1d.vdgc1.002.alg140.fits.gz    0.982906 Star\n",
       "    ---      ALG      N ...    spec1d.vdgc1.003.alg164.fits.gz   0.9828415 Star\n",
       "    ---      ALG      N ...    spec1d.vdgc1.004.alg177.fits.gz  0.98282486 Star\n",
       "    ---      ALG      N ...    spec1d.vdgc1.005.alg191.fits.gz   0.9828719 Star\n",
       "    ---      ALG      N ...    spec1d.vdgc1.006.alg194.fits.gz   0.9802294 Star\n",
       "VCC1075      NUC      N ...      spec1d.vdgc1.007.nuc5.fits.gz         1.0 ICGC\n",
       "VCC1079      NUC      N ...      spec1d.vdgc1.008.nuc6.fits.gz         1.0 ICGC\n",
       "VCC1076      NUC      N ...      spec1d.vdgc1.009.nuc7.fits.gz         1.0 ICGC\n",
       "    ...      ...    ... ...                                ...         ...  ...\n",
       "    ---      SGR      N ...   spec1d.vugc6.049.SGR0039.fits.gz   0.9818989 Star\n",
       "    ---      SGR      N ...   spec1d.vugc6.050.SGR0044.fits.gz   0.9807099 Star\n",
       "    ---      SGR      N ...   spec1d.vugc6.051.SGR0085.fits.gz   0.9816347 Star\n",
       "    ---      SGR      N ...   spec1d.vugc6.052.SGR0105.fits.gz   0.9788053 Star\n",
       "    ---      SGR      N ...   spec1d.vugc6.053.SGR0118.fits.gz  0.98242027 Star\n",
       "    ---      SGR      N ...   spec1d.vugc6.054.SGR0123.fits.gz   0.9826581 Star\n",
       "    ---      SGR      N ...   spec1d.vugc6.055.SGR0130.fits.gz   0.9793355 Star\n",
       "    ---      SER      N ... spec1d.vugc6.056.serendip1.fits.gz     0.98076 Star\n",
       "    ---      SGR      N ...   spec1d.vugc6.058.SGR0175.fits.gz   0.9801772 Star\n",
       "    ---      SGR      N ...   spec1d.vugc6.059.SGR0179.fits.gz  0.98014235 Star"
      ]
     },
     "execution_count": 15,
     "metadata": {},
     "output_type": "execute_result"
    }
   ],
   "source": [
    "noDE_UDG=vstack([noDE,noUDG])\n",
    "\n",
    "noDE_UDG"
   ]
  },
  {
   "cell_type": "code",
   "execution_count": 16,
   "metadata": {},
   "outputs": [
    {
     "data": {
      "text/html": [
       "<i>Table masked=True length=545</i>\n",
       "<table id=\"table4596561904\" class=\"table-striped table-bordered table-condensed\">\n",
       "<thead><tr><th>VCC</th><th>TARGTYPE</th><th>GCSAT</th><th>HOST</th><th>RA</th><th>DEC</th><th>VHEL</th><th>VERR</th><th>VERR_pe</th><th>VERR_ne</th><th>ZCONF</th><th>VOBS</th><th>VOBS_pe</th><th>VOBS_ne</th><th>ABANDCOR</th><th>ABANDCOR_pe</th><th>ABANDCOR_ne</th><th>HELCOR</th><th>SN</th><th>KECKID</th><th>MASKNAME</th><th>SLITNUM</th><th>ZSPECNUM</th><th>ZQUAL</th><th>YLOW</th><th>YHIGH</th><th>SPEC1DNAME</th><th>Probability</th><th>Type</th></tr></thead>\n",
       "<thead><tr><th>bytes10</th><th>bytes7</th><th>bytes2</th><th>bytes10</th><th>float32</th><th>float32</th><th>float32</th><th>float32</th><th>float32</th><th>float32</th><th>float32</th><th>float32</th><th>float32</th><th>float32</th><th>float32</th><th>float32</th><th>float32</th><th>float32</th><th>float32</th><th>str20</th><th>bytes20</th><th>int16</th><th>int64</th><th>int64</th><th>int16</th><th>int16</th><th>bytes40</th><th>float32</th><th>str5</th></tr></thead>\n",
       "<tr><td>---</td><td>GCA</td><td>Y</td><td>VCC1075</td><td>187.05533</td><td>10.299723</td><td>1795.8826</td><td>6.6943264</td><td>7.1255054</td><td>5.546625</td><td>1.0</td><td>1810.4825</td><td>7.014853</td><td>5.403738</td><td>0.00026271507</td><td>8.415822e-05</td><td>7.671974e-05</td><td>4.866667e-05</td><td>3.34</td><td>gcA10</td><td>vdgc1</td><td>11</td><td>12</td><td>3</td><td>25</td><td>31</td><td>spec1d.vdgc1.011.gcA10.fits.gz</td><td>--</td><td>--</td></tr>\n",
       "<tr><td>---</td><td>GCA</td><td>Y</td><td>VCC1075</td><td>187.04483</td><td>10.286805</td><td>1843.0951</td><td>10.339908</td><td>9.879919</td><td>10.394689</td><td>1.0</td><td>1855.5137</td><td>6.974825</td><td>6.2042923</td><td>-7.271697e-06</td><td>2.2949209e-05</td><td>2.7485681e-05</td><td>4.866667e-05</td><td>5.36</td><td>gcA17</td><td>vdgc1</td><td>12</td><td>13</td><td>4</td><td>17</td><td>23</td><td>spec1d.vdgc1.012.gcA17.fits.gz</td><td>--</td><td>--</td></tr>\n",
       "<tr><td>---</td><td>GCA</td><td>Y</td><td>VCC1075</td><td>187.03674</td><td>10.289222</td><td>1802.7073</td><td>6.052629</td><td>4.5716085</td><td>6.9834056</td><td>1.0</td><td>1821.8304</td><td>3.3122916</td><td>6.584555</td><td>1.50770975e-05</td><td>9.640003e-06</td><td>6.5378563e-06</td><td>4.866667e-05</td><td>7.06</td><td>gcA19</td><td>vdgc1</td><td>14</td><td>15</td><td>4</td><td>39</td><td>46</td><td>spec1d.vdgc1.014.gcA19.fits.gz</td><td>--</td><td>--</td></tr>\n",
       "<tr><td>---</td><td>GCA</td><td>Y</td><td>VCC1075</td><td>187.04433</td><td>10.315306</td><td>1861.2278</td><td>2.5437276</td><td>1.4287839</td><td>1.2718638</td><td>1.0</td><td>1875.8278</td><td>0.69047767</td><td>0.23015922</td><td>0.0012339203</td><td>0.00022345458</td><td>0.00019736988</td><td>4.866667e-05</td><td>2.93</td><td>gcA20</td><td>vdgc1</td><td>15</td><td>16</td><td>1</td><td>32</td><td>36</td><td>spec1d.vdgc1.015.gcA20.fits.gz</td><td>--</td><td>--</td></tr>\n",
       "<tr><td>---</td><td>GCN</td><td>Y</td><td>VCC1079</td><td>187.0423</td><td>10.3538885</td><td>1323.2156</td><td>12.560184</td><td>13.214163</td><td>11.683929</td><td>1.0</td><td>1333.0521</td><td>12.498647</td><td>9.956888</td><td>-1.5877651e-05</td><td>1.3676128e-05</td><td>1.9947132e-05</td><td>4.866667e-05</td><td>6.54</td><td>gcN120</td><td>vdgc1</td><td>26</td><td>31</td><td>1</td><td>122</td><td>128</td><td>spec1d.vdgc1.026.gcN120.fits.gz</td><td>--</td><td>--</td></tr>\n",
       "<tr><td>---</td><td>GCN</td><td>Y</td><td>VCC1079</td><td>187.05162</td><td>10.367778</td><td>1338.6162</td><td>13.627155</td><td>13.83195</td><td>13.110909</td><td>1.0</td><td>1369.9778</td><td>9.316445</td><td>7.795393</td><td>5.5871988e-05</td><td>3.38234e-05</td><td>3.4890803e-05</td><td>4.866667e-05</td><td>6.97</td><td>gcN138</td><td>vdgc1</td><td>27</td><td>32</td><td>4</td><td>32</td><td>38</td><td>spec1d.vdgc1.027.gcN138.fits.gz</td><td>--</td><td>--</td></tr>\n",
       "<tr><td>---</td><td>GCN</td><td>Y</td><td>VCC1079</td><td>187.05696</td><td>10.373972</td><td>1313.909</td><td>11.331903</td><td>11.525938</td><td>10.722818</td><td>1.0</td><td>1330.3203</td><td>7.775379</td><td>7.475171</td><td>6.03751e-06</td><td>2.805274e-05</td><td>2.5284158e-05</td><td>4.866667e-05</td><td>4.94</td><td>gcN145</td><td>vdgc1</td><td>29</td><td>34</td><td>4</td><td>20</td><td>26</td><td>spec1d.vdgc1.029.gcN145.fits.gz</td><td>--</td><td>--</td></tr>\n",
       "<tr><td>---</td><td>GCN</td><td>Y</td><td>VCC1079</td><td>187.05429</td><td>10.377334</td><td>1358.58</td><td>6.8130116</td><td>8.182219</td><td>4.8669662</td><td>1.0</td><td>1376.2621</td><td>7.945497</td><td>4.2029076</td><td>1.0273774e-05</td><td>5.0034614e-06</td><td>7.0382025e-06</td><td>4.866667e-05</td><td>7.02</td><td>gcN147</td><td>vdgc1</td><td>30</td><td>35</td><td>4</td><td>30</td><td>36</td><td>spec1d.vdgc1.030.gcN147.fits.gz</td><td>--</td><td>--</td></tr>\n",
       "<tr><td>---</td><td>GCN</td><td>Y</td><td>VCC1076</td><td>187.0515</td><td>10.524445</td><td>1650.4119</td><td>11.4403515</td><td>11.538051</td><td>10.929236</td><td>1.0</td><td>1669.485</td><td>10.947573</td><td>10.317138</td><td>1.4910315e-05</td><td>1.1407892e-05</td><td>1.12744665e-05</td><td>4.866667e-05</td><td>6.99</td><td>gcN206</td><td>vdgc1</td><td>37</td><td>44</td><td>4</td><td>114</td><td>120</td><td>spec1d.vdgc1.037.gcN206.fits.gz</td><td>--</td><td>--</td></tr>\n",
       "<tr><td>---</td><td>GCN</td><td>Y</td><td>VCC1076</td><td>187.05412</td><td>10.529555</td><td>1674.2283</td><td>19.803534</td><td>20.388123</td><td>19.004791</td><td>1.0</td><td>1670.9459</td><td>15.350619</td><td>13.409277</td><td>-5.9607904e-05</td><td>4.4530807e-05</td><td>4.469759e-05</td><td>4.866667e-05</td><td>2.89</td><td>gcN210</td><td>vdgc1</td><td>38</td><td>46</td><td>4</td><td>49</td><td>55</td><td>spec1d.vdgc1.038.gcN210.fits.gz</td><td>--</td><td>--</td></tr>\n",
       "<tr><td>...</td><td>...</td><td>...</td><td>...</td><td>...</td><td>...</td><td>...</td><td>...</td><td>...</td><td>...</td><td>...</td><td>...</td><td>...</td><td>...</td><td>...</td><td>...</td><td>...</td><td>...</td><td>...</td><td>...</td><td>...</td><td>...</td><td>...</td><td>...</td><td>...</td><td>...</td><td>...</td><td>...</td><td>...</td></tr>\n",
       "<tr><td>---</td><td>SGR</td><td>N</td><td>---</td><td>185.79562</td><td>11.95625</td><td>-30.45</td><td>6.590131</td><td>4.42</td><td>7.3</td><td>1.0</td><td>-5.02</td><td>4.42</td><td>7.3</td><td>16.23</td><td>2.9</td><td>3.13</td><td>9.2</td><td>5.03</td><td>---</td><td>vugc6</td><td>49</td><td>-101010</td><td>-101010</td><td>81</td><td>91</td><td>spec1d.vugc6.049.SGR0039.fits.gz</td><td>0.9818989</td><td>Star</td></tr>\n",
       "<tr><td>---</td><td>SGR</td><td>N</td><td>---</td><td>185.85175</td><td>12.10025</td><td>-48.3</td><td>4.3181043</td><td>5.08</td><td>2.88</td><td>1.0</td><td>-30.82</td><td>5.08</td><td>2.88</td><td>8.28</td><td>1.53</td><td>1.82</td><td>9.2</td><td>14.49</td><td>---</td><td>vugc6</td><td>50</td><td>-101010</td><td>-101010</td><td>112</td><td>120</td><td>spec1d.vugc6.050.SGR0044.fits.gz</td><td>0.9807099</td><td>Star</td></tr>\n",
       "<tr><td>---</td><td>SGR</td><td>N</td><td>---</td><td>185.80034</td><td>11.969306</td><td>-35.15</td><td>5.4065537</td><td>4.37</td><td>5.56</td><td>1.0</td><td>6.67</td><td>4.37</td><td>5.56</td><td>32.62</td><td>2.34</td><td>1.94</td><td>9.2</td><td>12.16</td><td>---</td><td>vugc6</td><td>51</td><td>-101010</td><td>-101010</td><td>67</td><td>77</td><td>spec1d.vugc6.051.SGR0085.fits.gz</td><td>0.9816347</td><td>Star</td></tr>\n",
       "<tr><td>---</td><td>SGR</td><td>N</td><td>---</td><td>185.78845</td><td>12.026778</td><td>-67.46</td><td>3.761396</td><td>3.67</td><td>3.53</td><td>1.0</td><td>-37.48</td><td>3.67</td><td>3.53</td><td>20.78</td><td>0.92</td><td>1.26</td><td>9.2</td><td>17.71</td><td>---</td><td>vugc6</td><td>52</td><td>-101010</td><td>-101010</td><td>21</td><td>29</td><td>spec1d.vugc6.052.SGR0105.fits.gz</td><td>0.9788053</td><td>Star</td></tr>\n",
       "<tr><td>---</td><td>SGR</td><td>N</td><td>---</td><td>185.84895</td><td>12.092112</td><td>-18.66</td><td>17.332441</td><td>15.33</td><td>17.21</td><td>1.0</td><td>-15.34</td><td>15.33</td><td>17.21</td><td>-5.88</td><td>6.04</td><td>5.91</td><td>9.2</td><td>5.06</td><td>---</td><td>vugc6</td><td>53</td><td>-101010</td><td>-101010</td><td>8</td><td>16</td><td>spec1d.vugc6.053.SGR0118.fits.gz</td><td>0.98242027</td><td>Star</td></tr>\n",
       "<tr><td>---</td><td>SGR</td><td>N</td><td>---</td><td>185.88054</td><td>12.135028</td><td>29.33</td><td>10.8752985</td><td>12.75</td><td>7.42</td><td>1.0</td><td>43.62</td><td>12.75</td><td>7.42</td><td>5.09</td><td>4.17</td><td>3.97</td><td>9.2</td><td>4.11</td><td>---</td><td>vugc6</td><td>54</td><td>-101010</td><td>-101010</td><td>8</td><td>16</td><td>spec1d.vugc6.054.SGR0123.fits.gz</td><td>0.9826581</td><td>Star</td></tr>\n",
       "<tr><td>---</td><td>SGR</td><td>N</td><td>---</td><td>185.74037</td><td>11.945056</td><td>81.2</td><td>3.226612</td><td>3.06</td><td>3.14</td><td>1.0</td><td>134.32</td><td>3.06</td><td>3.14</td><td>43.92</td><td>0.96</td><td>0.83</td><td>9.2</td><td>19.33</td><td>---</td><td>vugc6</td><td>55</td><td>-101010</td><td>-101010</td><td>62</td><td>72</td><td>spec1d.vugc6.055.SGR0130.fits.gz</td><td>0.9793355</td><td>Star</td></tr>\n",
       "<tr><td>---</td><td>SER</td><td>N</td><td>---</td><td>185.8101</td><td>12.019183</td><td>-47.68</td><td>7.958574</td><td>5.6</td><td>9.0</td><td>1.0</td><td>-21.63</td><td>5.6</td><td>9.0</td><td>16.85</td><td>3.69</td><td>2.65</td><td>9.2</td><td>3.45</td><td>---</td><td>vugc6</td><td>56</td><td>-101010</td><td>-101010</td><td>46</td><td>53</td><td>spec1d.vugc6.056.serendip1.fits.gz</td><td>0.98076</td><td>Star</td></tr>\n",
       "<tr><td>---</td><td>SGR</td><td>N</td><td>---</td><td>185.78558</td><td>12.031584</td><td>72.83</td><td>7.6939</td><td>2.39</td><td>5.21</td><td>1.0</td><td>92.59</td><td>2.39</td><td>5.21</td><td>10.56</td><td>6.03</td><td>7.35</td><td>9.2</td><td>5.99</td><td>---</td><td>vugc6</td><td>58</td><td>-101010</td><td>-101010</td><td>58</td><td>66</td><td>spec1d.vugc6.058.SGR0175.fits.gz</td><td>0.9801772</td><td>Star</td></tr>\n",
       "<tr><td>---</td><td>SGR</td><td>N</td><td>---</td><td>185.72034</td><td>11.928528</td><td>-54.81</td><td>7.384176</td><td>8.65</td><td>5.06</td><td>1.0</td><td>6.45</td><td>8.65</td><td>5.06</td><td>52.06</td><td>2.75</td><td>2.74</td><td>9.2</td><td>4.62</td><td>---</td><td>vugc6</td><td>59</td><td>-101010</td><td>-101010</td><td>297</td><td>307</td><td>spec1d.vugc6.059.SGR0179.fits.gz</td><td>0.98014235</td><td>Star</td></tr>\n",
       "</table>"
      ],
      "text/plain": [
       "<Table masked=True length=545>\n",
       "  VCC   TARGTYPE GCSAT  ...             SPEC1DNAME             Probability Type\n",
       "bytes10  bytes7  bytes2 ...              bytes40                 float32   str5\n",
       "------- -------- ------ ... ---------------------------------- ----------- ----\n",
       "    ---      GCA      Y ...     spec1d.vdgc1.011.gcA10.fits.gz          --   --\n",
       "    ---      GCA      Y ...     spec1d.vdgc1.012.gcA17.fits.gz          --   --\n",
       "    ---      GCA      Y ...     spec1d.vdgc1.014.gcA19.fits.gz          --   --\n",
       "    ---      GCA      Y ...     spec1d.vdgc1.015.gcA20.fits.gz          --   --\n",
       "    ---      GCN      Y ...    spec1d.vdgc1.026.gcN120.fits.gz          --   --\n",
       "    ---      GCN      Y ...    spec1d.vdgc1.027.gcN138.fits.gz          --   --\n",
       "    ---      GCN      Y ...    spec1d.vdgc1.029.gcN145.fits.gz          --   --\n",
       "    ---      GCN      Y ...    spec1d.vdgc1.030.gcN147.fits.gz          --   --\n",
       "    ---      GCN      Y ...    spec1d.vdgc1.037.gcN206.fits.gz          --   --\n",
       "    ---      GCN      Y ...    spec1d.vdgc1.038.gcN210.fits.gz          --   --\n",
       "    ...      ...    ... ...                                ...         ...  ...\n",
       "    ---      SGR      N ...   spec1d.vugc6.049.SGR0039.fits.gz   0.9818989 Star\n",
       "    ---      SGR      N ...   spec1d.vugc6.050.SGR0044.fits.gz   0.9807099 Star\n",
       "    ---      SGR      N ...   spec1d.vugc6.051.SGR0085.fits.gz   0.9816347 Star\n",
       "    ---      SGR      N ...   spec1d.vugc6.052.SGR0105.fits.gz   0.9788053 Star\n",
       "    ---      SGR      N ...   spec1d.vugc6.053.SGR0118.fits.gz  0.98242027 Star\n",
       "    ---      SGR      N ...   spec1d.vugc6.054.SGR0123.fits.gz   0.9826581 Star\n",
       "    ---      SGR      N ...   spec1d.vugc6.055.SGR0130.fits.gz   0.9793355 Star\n",
       "    ---      SER      N ... spec1d.vugc6.056.serendip1.fits.gz     0.98076 Star\n",
       "    ---      SGR      N ...   spec1d.vugc6.058.SGR0175.fits.gz   0.9801772 Star\n",
       "    ---      SGR      N ...   spec1d.vugc6.059.SGR0179.fits.gz  0.98014235 Star"
      ]
     },
     "execution_count": 16,
     "metadata": {},
     "output_type": "execute_result"
    }
   ],
   "source": [
    "table1=vstack([VUGC_VDGC,noDE_UDG])\n",
    "\n",
    "table1"
   ]
  },
  {
   "cell_type": "code",
   "execution_count": null,
   "metadata": {},
   "outputs": [],
   "source": [
    "import csv\n",
    "test1 = []\n",
    "with open('catalog.csv') as csv_file:\n",
    "    csv_reader = csv.reader(csv_file, delimiter=',')\n",
    "    line_count = 0\n",
    "    for row in csv_reader:\n",
    "        test1.append(row)"
   ]
  },
  {
   "cell_type": "code",
   "execution_count": null,
   "metadata": {},
   "outputs": [],
   "source": []
  },
  {
   "cell_type": "code",
   "execution_count": null,
   "metadata": {},
   "outputs": [],
   "source": []
  },
  {
   "cell_type": "code",
   "execution_count": null,
   "metadata": {},
   "outputs": [],
   "source": []
  }
 ],
 "metadata": {
  "kernelspec": {
   "display_name": "Python 3",
   "language": "python",
   "name": "python3"
  },
  "language_info": {
   "codemirror_mode": {
    "name": "ipython",
    "version": 3
   },
   "file_extension": ".py",
   "mimetype": "text/x-python",
   "name": "python",
   "nbconvert_exporter": "python",
   "pygments_lexer": "ipython3",
   "version": "3.7.3"
  }
 },
 "nbformat": 4,
 "nbformat_minor": 2
}
