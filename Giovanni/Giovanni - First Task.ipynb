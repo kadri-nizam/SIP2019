{
 "cells": [
  {
   "cell_type": "code",
   "execution_count": 19,
   "metadata": {},
   "outputs": [],
   "source": [
    "import numpy as np\n",
    "from astropy.table import Table, vstack"
   ]
  },
  {
   "cell_type": "code",
   "execution_count": 20,
   "metadata": {},
   "outputs": [],
   "source": [
    "path = './../catalogs/'\n",
    "VU_GC = Table.read(path+'VUGC_pPXF_2017_v2.fits')\n",
    "VD_GC = Table.read(path+'VDGC_pPXF_2017_v2.fits')"
   ]
  },
  {
   "cell_type": "code",
   "execution_count": 21,
   "metadata": {},
   "outputs": [],
   "source": [
    "columns_to_change= ['ZERR', 'ZERR_ne', 'ZERR_pe', 'ZHEL', 'ZOBS', 'ZOBS_ne', 'ZOBS_pe']\n",
    "\n",
    "for col in columns_to_change:\n",
    "    VD_GC[col] = VD_GC[col] * 3e+5\n",
    "    \n",
    "    VD_GC.rename_column(col,'V' + col[1:])\n",
    "    \n",
    "VU_GC['KECKID'] = '---'\n",
    "VU_GC['ZQUAL'] = -101010\n",
    "VU_GC['ZSPECNUM'] = -101010"
   ]
  },
  {
   "cell_type": "code",
   "execution_count": 32,
   "metadata": {},
   "outputs": [],
   "source": [
    "test_VDGC = VD_GC[VD_GC['ZCONF']==1]\n",
    "test_VDGC = test_VDGC[test_VDGC['GCSAT']== 'Y']\n",
    "Host = VU_GC[((VU_GC['HOST']== 'VLSB-B') | (VU_GC['HOST']== 'VLSB-D') | (VU_GC['HOST']=='VCC0615')) & (VU_GC['ZCONF']==1) & (VU_GC['GCSAT']=='Y')]\n",
    "Not_host = VU_GC[((VU_GC['HOST'] != 'VLSB-B') & (VU_GC['HOST'] != 'VLSB-D') & (VU_GC['HOST'] != 'VCC0615') & (VU_GC['ZCONF']==1) & (VU_GC['GCSAT']=='Y'))]\n",
    "test_VDGC= vstack([test_VDGC, Not_host])\n",
    "Host.remove_rows(np.nonzero(Not_host)[0])"
   ]
  },
  {
   "cell_type": "code",
   "execution_count": 39,
   "metadata": {},
   "outputs": [],
   "source": [
    "test_VDGC.remove_rows(np.nonzero((test_VDGC['VHEL']>-300) & (test_VDGC['VHEL'] < 300)))\n",
    "Host.remove_rows(np.nonzero((Host['VHEL'] > -300) & (Host['VHEL'] < 300)))"
   ]
  },
  {
   "cell_type": "code",
   "execution_count": 41,
   "metadata": {},
   "outputs": [
    {
     "data": {
      "text/html": [
       "<i>Table length=19</i>\n",
       "<table id=\"table4624790696\" class=\"table-striped table-bordered table-condensed\">\n",
       "<thead><tr><th>VCC</th><th>TARGTYPE</th><th>GCSAT</th><th>HOST</th><th>RA</th><th>DEC</th><th>VHEL</th><th>VERR</th><th>VERR_pe</th><th>VERR_ne</th><th>ZCONF</th><th>VOBS</th><th>VOBS_pe</th><th>VOBS_ne</th><th>ABANDCOR</th><th>ABANDCOR_pe</th><th>ABANDCOR_ne</th><th>HELCOR</th><th>SN</th><th>MASKNAME</th><th>SLITNUM</th><th>YLOW</th><th>YHIGH</th><th>SPEC1DNAME</th><th>KECKID</th><th>ZQUAL</th><th>ZSPECNUM</th></tr></thead>\n",
       "<thead><tr><th>bytes10</th><th>bytes7</th><th>bytes2</th><th>bytes10</th><th>float32</th><th>float32</th><th>float32</th><th>float32</th><th>float32</th><th>float32</th><th>float32</th><th>float32</th><th>float32</th><th>float32</th><th>float32</th><th>float32</th><th>float32</th><th>float32</th><th>float32</th><th>bytes20</th><th>int16</th><th>int16</th><th>int16</th><th>bytes40</th><th>str3</th><th>int64</th><th>int64</th></tr></thead>\n",
       "<tr><td>---</td><td>GCXL</td><td>Y</td><td>VLSB-D</td><td>186.17159</td><td>13.580055</td><td>1006.92</td><td>8.453587</td><td>4.7</td><td>7.19</td><td>1.0</td><td>987.41</td><td>4.7</td><td>7.19</td><td>-28.51</td><td>5.59</td><td>6.43</td><td>9.0</td><td>6.17</td><td>vugc5</td><td>1</td><td>4</td><td>7</td><td>spec1d.vugc5.001.GCXL001.fits.gz</td><td>---</td><td>-101010</td><td>-101010</td></tr>\n",
       "<tr><td>---</td><td>GCXL</td><td>Y</td><td>VLSB-D</td><td>186.18745</td><td>13.564</td><td>1057.16</td><td>10.3895645</td><td>7.36</td><td>7.03</td><td>1.0</td><td>1052.7</td><td>7.36</td><td>7.03</td><td>-13.46</td><td>7.44</td><td>7.55</td><td>9.0</td><td>6.33</td><td>vugc5</td><td>2</td><td>24</td><td>32</td><td>spec1d.vugc5.002.GCXL002.fits.gz</td><td>---</td><td>-101010</td><td>-101010</td></tr>\n",
       "<tr><td>---</td><td>GCXL</td><td>Y</td><td>VLSB-D</td><td>186.17741</td><td>13.550445</td><td>1026.31</td><td>4.880886</td><td>3.9</td><td>4.49</td><td>1.0</td><td>1028.8</td><td>3.9</td><td>4.49</td><td>-6.51</td><td>2.44</td><td>2.55</td><td>9.0</td><td>11.62</td><td>vugc5</td><td>3</td><td>55</td><td>63</td><td>spec1d.vugc5.003.GCXL003.fits.gz</td><td>---</td><td>-101010</td><td>-101010</td></tr>\n",
       "<tr><td>---</td><td>GCXL</td><td>Y</td><td>VLSB-D</td><td>186.18413</td><td>13.556723</td><td>1056.22</td><td>12.89066</td><td>15.56</td><td>8.47</td><td>1.0</td><td>1056.32</td><td>15.56</td><td>8.47</td><td>-8.9</td><td>4.43</td><td>4.91</td><td>9.0</td><td>2.39</td><td>vugc5</td><td>4</td><td>16</td><td>22</td><td>spec1d.vugc5.004.GCXL004.fits.gz</td><td>---</td><td>-101010</td><td>-101010</td></tr>\n",
       "<tr><td>---</td><td>GCXL</td><td>Y</td><td>VLSB-D</td><td>186.18338</td><td>13.483723</td><td>1019.73</td><td>12.122438</td><td>7.14</td><td>5.4</td><td>1.0</td><td>1072.4</td><td>7.14</td><td>5.4</td><td>43.67</td><td>13.04</td><td>7.71</td><td>9.0</td><td>5.08</td><td>vugc5</td><td>6</td><td>72</td><td>82</td><td>spec1d.vugc5.006.GCXL007.fits.gz</td><td>---</td><td>-101010</td><td>-101010</td></tr>\n",
       "<tr><td>---</td><td>GCXL</td><td>Y</td><td>VLSB-D</td><td>186.18124</td><td>13.522139</td><td>1016.17</td><td>2.5402215</td><td>2.32</td><td>2.21</td><td>1.0</td><td>1037.49</td><td>2.32</td><td>2.21</td><td>12.32</td><td>1.11</td><td>1.19</td><td>9.0</td><td>21.19</td><td>vugc5</td><td>7</td><td>44</td><td>52</td><td>spec1d.vugc5.007.GCXL009.fits.gz</td><td>---</td><td>-101010</td><td>-101010</td></tr>\n",
       "<tr><td>---</td><td>GCXL</td><td>Y</td><td>VLSB-D</td><td>186.15533</td><td>13.511806</td><td>1030.47</td><td>18.865732</td><td>9.73</td><td>7.2</td><td>1.0</td><td>1047.31</td><td>9.73</td><td>7.2</td><td>7.84</td><td>16.95</td><td>16.77</td><td>9.0</td><td>4.41</td><td>vugc5</td><td>10</td><td>66</td><td>78</td><td>spec1d.vugc5.010.GCXL013.fits.gz</td><td>---</td><td>-101010</td><td>-101010</td></tr>\n",
       "<tr><td>---</td><td>GCXL</td><td>Y</td><td>VLSB-D</td><td>186.16821</td><td>13.523222</td><td>1028.09</td><td>3.355</td><td>3.79</td><td>2.92</td><td>1.0</td><td>1037.09</td><td>3.79</td><td>2.92</td><td>81.95</td><td>76.19</td><td>81.31</td><td>9.0</td><td>8.13</td><td>vugc5</td><td>11</td><td>5</td><td>13</td><td>spec1d.vugc5.011.GCXL014.fits.gz</td><td>---</td><td>-101010</td><td>-101010</td></tr>\n",
       "<tr><td>---</td><td>GCXL</td><td>Y</td><td>VLSB-D</td><td>186.17363</td><td>13.5448885</td><td>1057.31</td><td>8.705144</td><td>8.14</td><td>6.45</td><td>1.0</td><td>1051.42</td><td>8.14</td><td>6.45</td><td>-14.89</td><td>5.03</td><td>4.47</td><td>9.0</td><td>6.42</td><td>vugc5</td><td>13</td><td>32</td><td>40</td><td>spec1d.vugc5.013.GCXL017.fits.gz</td><td>---</td><td>-101010</td><td>-101010</td></tr>\n",
       "<tr><td>---</td><td>GCXF</td><td>Y</td><td>VLSB-D</td><td>186.17091</td><td>13.498722</td><td>1028.3</td><td>12.425</td><td>10.98</td><td>13.87</td><td>1.0</td><td>1037.3</td><td>10.98</td><td>13.87</td><td>-9.15</td><td>34.16</td><td>29.25</td><td>9.0</td><td>2.15</td><td>vugc5</td><td>15</td><td>30</td><td>38</td><td>spec1d.vugc5.015.GCXF002.fits.gz</td><td>---</td><td>-101010</td><td>-101010</td></tr>\n",
       "<tr><td>---</td><td>GCXF</td><td>Y</td><td>VLSB-D</td><td>186.17587</td><td>13.533361</td><td>1043.16</td><td>13.015199</td><td>8.56</td><td>11.54</td><td>1.0</td><td>1035.59</td><td>8.56</td><td>11.54</td><td>-16.57</td><td>8.82</td><td>7.72</td><td>9.0</td><td>4.38</td><td>vugc5</td><td>19</td><td>22</td><td>30</td><td>spec1d.vugc5.019.GCXF008.fits.gz</td><td>---</td><td>-101010</td><td>-101010</td></tr>\n",
       "<tr><td>---</td><td>GCBF</td><td>Y</td><td>VLSB-D</td><td>186.16437</td><td>13.568361</td><td>1043.72</td><td>19.373266</td><td>13.22</td><td>7.47</td><td>1.0</td><td>1047.04</td><td>13.22</td><td>7.47</td><td>-5.68</td><td>13.55</td><td>19.21</td><td>9.0</td><td>3.88</td><td>vugc5</td><td>25</td><td>43</td><td>51</td><td>spec1d.vugc5.025.GCBF006.fits.gz</td><td>---</td><td>-101010</td><td>-101010</td></tr>\n",
       "<tr><td>---</td><td>GCXL</td><td>Y</td><td>VCC0615</td><td>185.763</td><td>12.007584</td><td>2092.53</td><td>3.7062986</td><td>1.25</td><td>1.04</td><td>1.0</td><td>2113.06</td><td>1.25</td><td>1.04</td><td>11.33</td><td>2.5</td><td>4.55</td><td>9.2</td><td>6.85</td><td>vugc6</td><td>1</td><td>19</td><td>27</td><td>spec1d.vugc6.001.GCXL001.fits.gz</td><td>---</td><td>-101010</td><td>-101010</td></tr>\n",
       "<tr><td>---</td><td>GCXL</td><td>Y</td><td>VCC0615</td><td>185.7575</td><td>11.9945</td><td>2098.03</td><td>21.363428</td><td>25.18</td><td>13.07</td><td>1.0</td><td>2128.62</td><td>25.18</td><td>13.07</td><td>21.39</td><td>8.46</td><td>10.58</td><td>9.2</td><td>3.97</td><td>vugc6</td><td>2</td><td>14</td><td>24</td><td>spec1d.vugc6.002.GCXL002.fits.gz</td><td>---</td><td>-101010</td><td>-101010</td></tr>\n",
       "<tr><td>---</td><td>GCXL</td><td>Y</td><td>VCC0615</td><td>185.7768</td><td>12.016472</td><td>2117.74</td><td>9.1028805</td><td>11.13</td><td>5.91</td><td>1.0</td><td>2134.53</td><td>11.13</td><td>5.91</td><td>7.59</td><td>3.22</td><td>3.19</td><td>9.2</td><td>6.66</td><td>vugc6</td><td>3</td><td>39</td><td>47</td><td>spec1d.vugc6.003.GCXL003.fits.gz</td><td>---</td><td>-101010</td><td>-101010</td></tr>\n",
       "<tr><td>---</td><td>GCXL</td><td>Y</td><td>VCC0615</td><td>185.77496</td><td>12.022</td><td>2074.73</td><td>3.1152046</td><td>0.32</td><td>0.04</td><td>1.0</td><td>2099.35</td><td>0.32</td><td>0.04</td><td>15.42</td><td>2.99</td><td>3.23</td><td>9.2</td><td>4.27</td><td>vugc6</td><td>4</td><td>37</td><td>45</td><td>spec1d.vugc6.004.GCXL004.fits.gz</td><td>---</td><td>-101010</td><td>-101010</td></tr>\n",
       "<tr><td>---</td><td>GCXF</td><td>Y</td><td>VCC0615</td><td>185.77983</td><td>12.024111</td><td>2051.32</td><td>5.945473</td><td>0.06</td><td>0.09</td><td>1.0</td><td>2094.21</td><td>0.06</td><td>0.09</td><td>33.69</td><td>6.31</td><td>5.58</td><td>9.2</td><td>3.0</td><td>vugc6</td><td>5</td><td>103</td><td>113</td><td>spec1d.vugc6.005.GCXF003.fits.gz</td><td>---</td><td>-101010</td><td>-101010</td></tr>\n",
       "<tr><td>---</td><td>GCXF</td><td>Y</td><td>VCC0615</td><td>185.785</td><td>12.017889</td><td>2153.86</td><td>36.283745</td><td>40.04</td><td>31.06</td><td>1.0</td><td>2151.7</td><td>40.04</td><td>31.06</td><td>-11.36</td><td>7.93</td><td>6.59</td><td>9.2</td><td>2.91</td><td>vugc6</td><td>6</td><td>15</td><td>23</td><td>spec1d.vugc6.006.GCXF005.fits.gz</td><td>---</td><td>-101010</td><td>-101010</td></tr>\n",
       "<tr><td>---</td><td>GCXF</td><td>Y</td><td>VCC0615</td><td>185.77063</td><td>12.016639</td><td>2117.72</td><td>19.99313</td><td>10.34</td><td>8.63</td><td>1.0</td><td>2125.45</td><td>10.34</td><td>8.63</td><td>-1.47</td><td>18.24</td><td>16.96</td><td>9.2</td><td>2.97</td><td>vugc6</td><td>7</td><td>46</td><td>54</td><td>spec1d.vugc6.007.GCXF006.fits.gz</td><td>---</td><td>-101010</td><td>-101010</td></tr>\n",
       "</table>"
      ],
      "text/plain": [
       "<Table length=19>\n",
       "  VCC   TARGTYPE GCSAT    HOST  ... KECKID  ZQUAL  ZSPECNUM\n",
       "bytes10  bytes7  bytes2 bytes10 ...  str3   int64   int64  \n",
       "------- -------- ------ ------- ... ------ ------- --------\n",
       "    ---     GCXL      Y  VLSB-D ...    --- -101010  -101010\n",
       "    ---     GCXL      Y  VLSB-D ...    --- -101010  -101010\n",
       "    ---     GCXL      Y  VLSB-D ...    --- -101010  -101010\n",
       "    ---     GCXL      Y  VLSB-D ...    --- -101010  -101010\n",
       "    ---     GCXL      Y  VLSB-D ...    --- -101010  -101010\n",
       "    ---     GCXL      Y  VLSB-D ...    --- -101010  -101010\n",
       "    ---     GCXL      Y  VLSB-D ...    --- -101010  -101010\n",
       "    ---     GCXL      Y  VLSB-D ...    --- -101010  -101010\n",
       "    ---     GCXL      Y  VLSB-D ...    --- -101010  -101010\n",
       "    ---     GCXF      Y  VLSB-D ...    --- -101010  -101010\n",
       "    ---     GCXF      Y  VLSB-D ...    --- -101010  -101010\n",
       "    ---     GCBF      Y  VLSB-D ...    --- -101010  -101010\n",
       "    ---     GCXL      Y VCC0615 ...    --- -101010  -101010\n",
       "    ---     GCXL      Y VCC0615 ...    --- -101010  -101010\n",
       "    ---     GCXL      Y VCC0615 ...    --- -101010  -101010\n",
       "    ---     GCXL      Y VCC0615 ...    --- -101010  -101010\n",
       "    ---     GCXF      Y VCC0615 ...    --- -101010  -101010\n",
       "    ---     GCXF      Y VCC0615 ...    --- -101010  -101010\n",
       "    ---     GCXF      Y VCC0615 ...    --- -101010  -101010"
      ]
     },
     "execution_count": 41,
     "metadata": {},
     "output_type": "execute_result"
    }
   ],
   "source": [
    "Host"
   ]
  }
 ],
 "metadata": {
  "kernelspec": {
   "display_name": "Python 3",
   "language": "python",
   "name": "python3"
  },
  "language_info": {
   "codemirror_mode": {
    "name": "ipython",
    "version": 3
   },
   "file_extension": ".py",
   "mimetype": "text/x-python",
   "name": "python",
   "nbconvert_exporter": "python",
   "pygments_lexer": "ipython3",
   "version": "3.7.3"
  }
 },
 "nbformat": 4,
 "nbformat_minor": 2
}
