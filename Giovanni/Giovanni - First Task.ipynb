{
 "cells": [
  {
   "cell_type": "code",
   "execution_count": 1,
   "metadata": {},
   "outputs": [],
   "source": [
    "import numpy as np\n",
    "from astropy.table import Table, vstack"
   ]
  },
  {
   "cell_type": "code",
   "execution_count": 2,
   "metadata": {},
   "outputs": [],
   "source": [
    "path = './../catalogs/'\n",
    "VU_GC = Table.read(path+'VUGC_pPXF_2017_v2.fits')\n",
    "VD_GC = Table.read(path+'VDGC_pPXF_2017_v2.fits')"
   ]
  },
  {
   "cell_type": "code",
   "execution_count": 3,
   "metadata": {},
   "outputs": [],
   "source": [
    "columns_to_change= ['ZERR', 'ZERR_ne', 'ZERR_pe', 'ZHEL', 'ZOBS', 'ZOBS_ne', 'ZOBS_pe']\n",
    "\n",
    "for col in columns_to_change:\n",
    "    VD_GC[col] = VD_GC[col] * 3e+5\n",
    "    \n",
    "    VD_GC.rename_column(col,'V' + col[1:])\n",
    "    \n",
    "VU_GC['KECKID'] = '---'\n",
    "VU_GC['ZQUAL'] = -101010\n",
    "VU_GC['ZSPECNUM'] = -101010"
   ]
  },
  {
   "cell_type": "code",
   "execution_count": 4,
   "metadata": {},
   "outputs": [],
   "source": [
    "test_VDGC = VD_GC[VD_GC['ZCONF']==1]\n",
    "test_VDGC = test_VDGC[test_VDGC['GCSAT']== 'Y']\n",
    "Host = VU_GC[((VU_GC['HOST']== 'VLSB-B') | (VU_GC['HOST']== 'VLSB-D') | (VU_GC['HOST']=='VCC0615')) & (VU_GC['ZCONF']==1) & (VU_GC['GCSAT']=='Y')]\n",
    "Not_host = VU_GC[((VU_GC['HOST'] != 'VLSB-B') & (VU_GC['HOST'] != 'VLSB-D') & (VU_GC['HOST'] != 'VCC0615') & (VU_GC['ZCONF']==1) & (VU_GC['GCSAT']=='Y'))]\n",
    "test_VDGC= vstack([test_VDGC, Not_host])\n",
    "Host.remove_rows(np.nonzero(Not_host)[0])"
   ]
  },
  {
   "cell_type": "code",
   "execution_count": 5,
   "metadata": {},
   "outputs": [],
   "source": [
    "test_VDGC.remove_rows(np.nonzero((test_VDGC['VHEL']>-300) & (test_VDGC['VHEL'] < 300)))\n",
    "Host.remove_rows(np.nonzero((Host['VHEL'] > -300) & (Host['VHEL'] < 300)))"
   ]
  },
  {
   "cell_type": "code",
   "execution_count": 6,
   "metadata": {},
   "outputs": [
    {
     "data": {
      "text/html": [
       "<i>Table length=19</i>\n",
       "<table id=\"table4728168520\" class=\"table-striped table-bordered table-condensed\">\n",
       "<thead><tr><th>VCC</th><th>TARGTYPE</th><th>GCSAT</th><th>HOST</th><th>RA</th><th>DEC</th><th>VHEL</th><th>VERR</th><th>VERR_pe</th><th>VERR_ne</th><th>ZCONF</th><th>VOBS</th><th>VOBS_pe</th><th>VOBS_ne</th><th>ABANDCOR</th><th>ABANDCOR_pe</th><th>ABANDCOR_ne</th><th>HELCOR</th><th>SN</th><th>MASKNAME</th><th>SLITNUM</th><th>YLOW</th><th>YHIGH</th><th>SPEC1DNAME</th><th>KECKID</th><th>ZQUAL</th><th>ZSPECNUM</th></tr></thead>\n",
       "<thead><tr><th>bytes10</th><th>bytes7</th><th>bytes2</th><th>bytes10</th><th>float32</th><th>float32</th><th>float32</th><th>float32</th><th>float32</th><th>float32</th><th>float32</th><th>float32</th><th>float32</th><th>float32</th><th>float32</th><th>float32</th><th>float32</th><th>float32</th><th>float32</th><th>bytes20</th><th>int16</th><th>int16</th><th>int16</th><th>bytes40</th><th>str3</th><th>int64</th><th>int64</th></tr></thead>\n",
       "<tr><td>---</td><td>GCXL</td><td>Y</td><td>VLSB-D</td><td>186.17159</td><td>13.580055</td><td>1006.92</td><td>8.453587</td><td>4.7</td><td>7.19</td><td>1.0</td><td>987.41</td><td>4.7</td><td>7.19</td><td>-28.51</td><td>5.59</td><td>6.43</td><td>9.0</td><td>6.17</td><td>vugc5</td><td>1</td><td>4</td><td>7</td><td>spec1d.vugc5.001.GCXL001.fits.gz</td><td>---</td><td>-101010</td><td>-101010</td></tr>\n",
       "<tr><td>---</td><td>GCXL</td><td>Y</td><td>VLSB-D</td><td>186.18745</td><td>13.564</td><td>1057.16</td><td>10.3895645</td><td>7.36</td><td>7.03</td><td>1.0</td><td>1052.7</td><td>7.36</td><td>7.03</td><td>-13.46</td><td>7.44</td><td>7.55</td><td>9.0</td><td>6.33</td><td>vugc5</td><td>2</td><td>24</td><td>32</td><td>spec1d.vugc5.002.GCXL002.fits.gz</td><td>---</td><td>-101010</td><td>-101010</td></tr>\n",
       "<tr><td>---</td><td>GCXL</td><td>Y</td><td>VLSB-D</td><td>186.17741</td><td>13.550445</td><td>1026.31</td><td>4.880886</td><td>3.9</td><td>4.49</td><td>1.0</td><td>1028.8</td><td>3.9</td><td>4.49</td><td>-6.51</td><td>2.44</td><td>2.55</td><td>9.0</td><td>11.62</td><td>vugc5</td><td>3</td><td>55</td><td>63</td><td>spec1d.vugc5.003.GCXL003.fits.gz</td><td>---</td><td>-101010</td><td>-101010</td></tr>\n",
       "<tr><td>---</td><td>GCXL</td><td>Y</td><td>VLSB-D</td><td>186.18413</td><td>13.556723</td><td>1056.22</td><td>12.89066</td><td>15.56</td><td>8.47</td><td>1.0</td><td>1056.32</td><td>15.56</td><td>8.47</td><td>-8.9</td><td>4.43</td><td>4.91</td><td>9.0</td><td>2.39</td><td>vugc5</td><td>4</td><td>16</td><td>22</td><td>spec1d.vugc5.004.GCXL004.fits.gz</td><td>---</td><td>-101010</td><td>-101010</td></tr>\n",
       "<tr><td>---</td><td>GCXL</td><td>Y</td><td>VLSB-D</td><td>186.18338</td><td>13.483723</td><td>1019.73</td><td>12.122438</td><td>7.14</td><td>5.4</td><td>1.0</td><td>1072.4</td><td>7.14</td><td>5.4</td><td>43.67</td><td>13.04</td><td>7.71</td><td>9.0</td><td>5.08</td><td>vugc5</td><td>6</td><td>72</td><td>82</td><td>spec1d.vugc5.006.GCXL007.fits.gz</td><td>---</td><td>-101010</td><td>-101010</td></tr>\n",
       "<tr><td>---</td><td>GCXL</td><td>Y</td><td>VLSB-D</td><td>186.18124</td><td>13.522139</td><td>1016.17</td><td>2.5402215</td><td>2.32</td><td>2.21</td><td>1.0</td><td>1037.49</td><td>2.32</td><td>2.21</td><td>12.32</td><td>1.11</td><td>1.19</td><td>9.0</td><td>21.19</td><td>vugc5</td><td>7</td><td>44</td><td>52</td><td>spec1d.vugc5.007.GCXL009.fits.gz</td><td>---</td><td>-101010</td><td>-101010</td></tr>\n",
       "<tr><td>---</td><td>GCXL</td><td>Y</td><td>VLSB-D</td><td>186.15533</td><td>13.511806</td><td>1030.47</td><td>18.865732</td><td>9.73</td><td>7.2</td><td>1.0</td><td>1047.31</td><td>9.73</td><td>7.2</td><td>7.84</td><td>16.95</td><td>16.77</td><td>9.0</td><td>4.41</td><td>vugc5</td><td>10</td><td>66</td><td>78</td><td>spec1d.vugc5.010.GCXL013.fits.gz</td><td>---</td><td>-101010</td><td>-101010</td></tr>\n",
       "<tr><td>---</td><td>GCXL</td><td>Y</td><td>VLSB-D</td><td>186.16821</td><td>13.523222</td><td>1028.09</td><td>3.355</td><td>3.79</td><td>2.92</td><td>1.0</td><td>1037.09</td><td>3.79</td><td>2.92</td><td>81.95</td><td>76.19</td><td>81.31</td><td>9.0</td><td>8.13</td><td>vugc5</td><td>11</td><td>5</td><td>13</td><td>spec1d.vugc5.011.GCXL014.fits.gz</td><td>---</td><td>-101010</td><td>-101010</td></tr>\n",
       "<tr><td>---</td><td>GCXL</td><td>Y</td><td>VLSB-D</td><td>186.17363</td><td>13.5448885</td><td>1057.31</td><td>8.705144</td><td>8.14</td><td>6.45</td><td>1.0</td><td>1051.42</td><td>8.14</td><td>6.45</td><td>-14.89</td><td>5.03</td><td>4.47</td><td>9.0</td><td>6.42</td><td>vugc5</td><td>13</td><td>32</td><td>40</td><td>spec1d.vugc5.013.GCXL017.fits.gz</td><td>---</td><td>-101010</td><td>-101010</td></tr>\n",
       "<tr><td>---</td><td>GCXF</td><td>Y</td><td>VLSB-D</td><td>186.17091</td><td>13.498722</td><td>1028.3</td><td>12.425</td><td>10.98</td><td>13.87</td><td>1.0</td><td>1037.3</td><td>10.98</td><td>13.87</td><td>-9.15</td><td>34.16</td><td>29.25</td><td>9.0</td><td>2.15</td><td>vugc5</td><td>15</td><td>30</td><td>38</td><td>spec1d.vugc5.015.GCXF002.fits.gz</td><td>---</td><td>-101010</td><td>-101010</td></tr>\n",
       "<tr><td>---</td><td>GCXF</td><td>Y</td><td>VLSB-D</td><td>186.17587</td><td>13.533361</td><td>1043.16</td><td>13.015199</td><td>8.56</td><td>11.54</td><td>1.0</td><td>1035.59</td><td>8.56</td><td>11.54</td><td>-16.57</td><td>8.82</td><td>7.72</td><td>9.0</td><td>4.38</td><td>vugc5</td><td>19</td><td>22</td><td>30</td><td>spec1d.vugc5.019.GCXF008.fits.gz</td><td>---</td><td>-101010</td><td>-101010</td></tr>\n",
       "<tr><td>---</td><td>GCBF</td><td>Y</td><td>VLSB-D</td><td>186.16437</td><td>13.568361</td><td>1043.72</td><td>19.373266</td><td>13.22</td><td>7.47</td><td>1.0</td><td>1047.04</td><td>13.22</td><td>7.47</td><td>-5.68</td><td>13.55</td><td>19.21</td><td>9.0</td><td>3.88</td><td>vugc5</td><td>25</td><td>43</td><td>51</td><td>spec1d.vugc5.025.GCBF006.fits.gz</td><td>---</td><td>-101010</td><td>-101010</td></tr>\n",
       "<tr><td>---</td><td>GCXL</td><td>Y</td><td>VCC0615</td><td>185.763</td><td>12.007584</td><td>2092.53</td><td>3.7062986</td><td>1.25</td><td>1.04</td><td>1.0</td><td>2113.06</td><td>1.25</td><td>1.04</td><td>11.33</td><td>2.5</td><td>4.55</td><td>9.2</td><td>6.85</td><td>vugc6</td><td>1</td><td>19</td><td>27</td><td>spec1d.vugc6.001.GCXL001.fits.gz</td><td>---</td><td>-101010</td><td>-101010</td></tr>\n",
       "<tr><td>---</td><td>GCXL</td><td>Y</td><td>VCC0615</td><td>185.7575</td><td>11.9945</td><td>2098.03</td><td>21.363428</td><td>25.18</td><td>13.07</td><td>1.0</td><td>2128.62</td><td>25.18</td><td>13.07</td><td>21.39</td><td>8.46</td><td>10.58</td><td>9.2</td><td>3.97</td><td>vugc6</td><td>2</td><td>14</td><td>24</td><td>spec1d.vugc6.002.GCXL002.fits.gz</td><td>---</td><td>-101010</td><td>-101010</td></tr>\n",
       "<tr><td>---</td><td>GCXL</td><td>Y</td><td>VCC0615</td><td>185.7768</td><td>12.016472</td><td>2117.74</td><td>9.1028805</td><td>11.13</td><td>5.91</td><td>1.0</td><td>2134.53</td><td>11.13</td><td>5.91</td><td>7.59</td><td>3.22</td><td>3.19</td><td>9.2</td><td>6.66</td><td>vugc6</td><td>3</td><td>39</td><td>47</td><td>spec1d.vugc6.003.GCXL003.fits.gz</td><td>---</td><td>-101010</td><td>-101010</td></tr>\n",
       "<tr><td>---</td><td>GCXL</td><td>Y</td><td>VCC0615</td><td>185.77496</td><td>12.022</td><td>2074.73</td><td>3.1152046</td><td>0.32</td><td>0.04</td><td>1.0</td><td>2099.35</td><td>0.32</td><td>0.04</td><td>15.42</td><td>2.99</td><td>3.23</td><td>9.2</td><td>4.27</td><td>vugc6</td><td>4</td><td>37</td><td>45</td><td>spec1d.vugc6.004.GCXL004.fits.gz</td><td>---</td><td>-101010</td><td>-101010</td></tr>\n",
       "<tr><td>---</td><td>GCXF</td><td>Y</td><td>VCC0615</td><td>185.77983</td><td>12.024111</td><td>2051.32</td><td>5.945473</td><td>0.06</td><td>0.09</td><td>1.0</td><td>2094.21</td><td>0.06</td><td>0.09</td><td>33.69</td><td>6.31</td><td>5.58</td><td>9.2</td><td>3.0</td><td>vugc6</td><td>5</td><td>103</td><td>113</td><td>spec1d.vugc6.005.GCXF003.fits.gz</td><td>---</td><td>-101010</td><td>-101010</td></tr>\n",
       "<tr><td>---</td><td>GCXF</td><td>Y</td><td>VCC0615</td><td>185.785</td><td>12.017889</td><td>2153.86</td><td>36.283745</td><td>40.04</td><td>31.06</td><td>1.0</td><td>2151.7</td><td>40.04</td><td>31.06</td><td>-11.36</td><td>7.93</td><td>6.59</td><td>9.2</td><td>2.91</td><td>vugc6</td><td>6</td><td>15</td><td>23</td><td>spec1d.vugc6.006.GCXF005.fits.gz</td><td>---</td><td>-101010</td><td>-101010</td></tr>\n",
       "<tr><td>---</td><td>GCXF</td><td>Y</td><td>VCC0615</td><td>185.77063</td><td>12.016639</td><td>2117.72</td><td>19.99313</td><td>10.34</td><td>8.63</td><td>1.0</td><td>2125.45</td><td>10.34</td><td>8.63</td><td>-1.47</td><td>18.24</td><td>16.96</td><td>9.2</td><td>2.97</td><td>vugc6</td><td>7</td><td>46</td><td>54</td><td>spec1d.vugc6.007.GCXF006.fits.gz</td><td>---</td><td>-101010</td><td>-101010</td></tr>\n",
       "</table>"
      ],
      "text/plain": [
       "<Table length=19>\n",
       "  VCC   TARGTYPE GCSAT    HOST  ... KECKID  ZQUAL  ZSPECNUM\n",
       "bytes10  bytes7  bytes2 bytes10 ...  str3   int64   int64  \n",
       "------- -------- ------ ------- ... ------ ------- --------\n",
       "    ---     GCXL      Y  VLSB-D ...    --- -101010  -101010\n",
       "    ---     GCXL      Y  VLSB-D ...    --- -101010  -101010\n",
       "    ---     GCXL      Y  VLSB-D ...    --- -101010  -101010\n",
       "    ---     GCXL      Y  VLSB-D ...    --- -101010  -101010\n",
       "    ---     GCXL      Y  VLSB-D ...    --- -101010  -101010\n",
       "    ---     GCXL      Y  VLSB-D ...    --- -101010  -101010\n",
       "    ---     GCXL      Y  VLSB-D ...    --- -101010  -101010\n",
       "    ---     GCXL      Y  VLSB-D ...    --- -101010  -101010\n",
       "    ---     GCXL      Y  VLSB-D ...    --- -101010  -101010\n",
       "    ---     GCXF      Y  VLSB-D ...    --- -101010  -101010\n",
       "    ---     GCXF      Y  VLSB-D ...    --- -101010  -101010\n",
       "    ---     GCBF      Y  VLSB-D ...    --- -101010  -101010\n",
       "    ---     GCXL      Y VCC0615 ...    --- -101010  -101010\n",
       "    ---     GCXL      Y VCC0615 ...    --- -101010  -101010\n",
       "    ---     GCXL      Y VCC0615 ...    --- -101010  -101010\n",
       "    ---     GCXL      Y VCC0615 ...    --- -101010  -101010\n",
       "    ---     GCXF      Y VCC0615 ...    --- -101010  -101010\n",
       "    ---     GCXF      Y VCC0615 ...    --- -101010  -101010\n",
       "    ---     GCXF      Y VCC0615 ...    --- -101010  -101010"
      ]
     },
     "execution_count": 6,
     "metadata": {},
     "output_type": "execute_result"
    }
   ],
   "source": [
    "Host"
   ]
  },
  {
   "cell_type": "code",
   "execution_count": 7,
   "metadata": {},
   "outputs": [],
   "source": [
    "fileOrphanDE = Table.read(path + 'orphanGCs.fits')\n",
    "filekinDE = Table.read(path + 'VDGC_kinematic_prob.fits')\n",
    "fileOrphanUDG = Table.read(path + 'SelectGCsTrue2.fits')\n",
    "filekinUDG = Table.read(path + 'SelectGCsTrue_kinematic_prob.fits')"
   ]
  },
  {
   "cell_type": "code",
   "execution_count": 8,
   "metadata": {},
   "outputs": [],
   "source": [
    "def typeandprob(file):\n",
    "    probability= []\n",
    "    objecttype= []\n",
    "    for row in file:\n",
    "        probability.append(max(row))\n",
    "        vals = []\n",
    "        for ind, val in enumerate(row):\n",
    "            vals.append(val)\n",
    "        if (vals.index(max(vals))==0):\n",
    "            objecttype.append('Star')\n",
    "        elif (vals.index(max(vals))==1):\n",
    "            objecttype.append('ICGC')\n",
    "        elif (vals.index(max(vals))==2):\n",
    "            objecttype.append('M87GC')\n",
    "    return probability, objecttype"
   ]
  },
  {
   "cell_type": "code",
   "execution_count": 9,
   "metadata": {},
   "outputs": [],
   "source": [
    "probabilityDE, objecttypeDE = typeandprob(filekinDE)\n",
    "probabilityUDG, objecttypeUDG = typeandprob(filekinUDG)\n"
   ]
  },
  {
   "cell_type": "code",
   "execution_count": 10,
   "metadata": {},
   "outputs": [],
   "source": [
    "fileOrphanDE['Probability'] = probabilityDE\n",
    "fileOrphanUDG['Probability'] = probabilityUDG\n",
    "fileOrphanDE['Type'] = objecttypeDE\n",
    "fileOrphanUDG['Type'] = objecttypeUDG"
   ]
  },
  {
   "cell_type": "code",
   "execution_count": 37,
   "metadata": {},
   "outputs": [],
   "source": [
    "noDE = VD_GC[(VD_GC['ZCONF']==1) & (VD_GC['GCSAT']=='N') | (VD_GC['GCSAT']=='M')]\n",
    "noUDG = VU_GC[(VU_GC['ZCONF']==1) & (VU_GC['GCSAT']=='N') | (VU_GC['GCSAT']=='M')]\n"
   ]
  },
  {
   "cell_type": "code",
   "execution_count": 38,
   "metadata": {},
   "outputs": [],
   "source": [
    "noDE.sort('SPEC1DNAME')\n",
    "noUDG.sort('SPEC1DNAME')\n",
    "fileOrphanDE.sort('SPEC1DNAME')\n",
    "fileOrphanUDG.sort('SPEC1DNAME')\n",
    "\n",
    "focusedUDG = fileOrphanUDG['SPEC1DNAME', 'Probability', 'Type']\n",
    "focusedUDG.add_row(['spec1d.vugc1.044.GCXO0504.fits.gz', -1, 'Unknown'])\n",
    "focusedUDG.sort('SPEC1DNAME')\n",
    "\n",
    "noDE['Probability'] = probabilityDE\n",
    "noUDG['Probability'] = focusedUDG['Probability']\n",
    "noDE['Type'] = objecttypeDE\n",
    "noUDG['Type'] = focusedUDG['Type']"
   ]
  },
  {
   "cell_type": "code",
   "execution_count": 40,
   "metadata": {},
   "outputs": [
    {
     "data": {
      "text/html": [
       "<i>Table length=364</i>\n",
       "<table id=\"table4730051440\" class=\"table-striped table-bordered table-condensed\">\n",
       "<thead><tr><th>VCC</th><th>TARGTYPE</th><th>GCSAT</th><th>HOST</th><th>RA</th><th>DEC</th><th>VHEL</th><th>VERR</th><th>VERR_pe</th><th>VERR_ne</th><th>ZCONF</th><th>VOBS</th><th>VOBS_pe</th><th>VOBS_ne</th><th>ABANDCOR</th><th>ABANDCOR_pe</th><th>ABANDCOR_ne</th><th>HELCOR</th><th>SN</th><th>KECKID</th><th>MASKNAME</th><th>SLITNUM</th><th>ZSPECNUM</th><th>ZQUAL</th><th>YLOW</th><th>YHIGH</th><th>SPEC1DNAME</th><th>Probability</th><th>Type</th></tr></thead>\n",
       "<thead><tr><th>bytes10</th><th>bytes7</th><th>bytes2</th><th>bytes10</th><th>float32</th><th>float32</th><th>float32</th><th>float32</th><th>float32</th><th>float32</th><th>float32</th><th>float32</th><th>float32</th><th>float32</th><th>float32</th><th>float32</th><th>float32</th><th>float32</th><th>float32</th><th>bytes20</th><th>bytes20</th><th>int16</th><th>int16</th><th>int16</th><th>int16</th><th>int16</th><th>bytes40</th><th>float32</th><th>str5</th></tr></thead>\n",
       "<tr><td>---</td><td>ALG</td><td>N</td><td>---</td><td>187.0097</td><td>10.359333</td><td>54.56785</td><td>2.5169947</td><td>1.2761084</td><td>1.2873586</td><td>1.0</td><td>117.61137</td><td>0.21014537</td><td>0.21014537</td><td>0.00016147838</td><td>4.6698975e-07</td><td>7.3384103e-07</td><td>4.866667e-05</td><td>196.03</td><td>alg42</td><td>vdgc1</td><td>0</td><td>0</td><td>-1</td><td>15</td><td>21</td><td>spec1d.vdgc1.000.alg42.fits.gz</td><td>0.98157275</td><td>Star</td></tr>\n",
       "<tr><td>---</td><td>ALG</td><td>N</td><td>---</td><td>187.07608</td><td>10.3505</td><td>-210.7357</td><td>3.0194468</td><td>2.024616</td><td>2.1834822</td><td>1.0</td><td>-170.35785</td><td>1.5010384</td><td>1.6711562</td><td>8.592611e-05</td><td>1.7678897e-06</td><td>2.1348103e-06</td><td>4.866667e-05</td><td>58.89</td><td>alg115</td><td>vdgc1</td><td>1</td><td>1</td><td>-1</td><td>15</td><td>21</td><td>spec1d.vdgc1.001.alg115.fits.gz</td><td>0.90411496</td><td>Star</td></tr>\n",
       "<tr><td>---</td><td>ALG</td><td>N</td><td>---</td><td>186.9995</td><td>10.459528</td><td>12.869002</td><td>2.8418825</td><td>1.7621847</td><td>1.9203647</td><td>1.0</td><td>76.86318</td><td>1.0807476</td><td>1.2108377</td><td>0.00016464724</td><td>2.0347409e-06</td><td>2.701869e-06</td><td>4.866667e-05</td><td>44.0</td><td>alg140</td><td>vdgc1</td><td>2</td><td>2</td><td>-1</td><td>15</td><td>21</td><td>spec1d.vdgc1.002.alg140.fits.gz</td><td>0.982906</td><td>Star</td></tr>\n",
       "<tr><td>---</td><td>ALG</td><td>N</td><td>---</td><td>187.04004</td><td>10.45025</td><td>19.96391</td><td>2.5854344</td><td>1.3975698</td><td>1.426399</td><td>1.0</td><td>32.882748</td><td>0.46031845</td><td>0.57039464</td><td>-5.6038766e-06</td><td>1.4009692e-06</td><td>1.2675436e-06</td><td>4.866667e-05</td><td>80.71</td><td>alg164</td><td>vdgc1</td><td>3</td><td>3</td><td>-1</td><td>16</td><td>21</td><td>spec1d.vdgc1.003.alg164.fits.gz</td><td>0.9828415</td><td>Star</td></tr>\n",
       "<tr><td>---</td><td>ALG</td><td>N</td><td>---</td><td>187.07025</td><td>10.325111</td><td>-2.7317898</td><td>2.612219</td><td>1.4655958</td><td>1.453245</td><td>1.0</td><td>34.784065</td><td>0.65045</td><td>0.6404431</td><td>7.6386175e-05</td><td>1.3342564e-06</td><td>1.2341872e-06</td><td>4.866667e-05</td><td>92.15</td><td>alg177</td><td>vdgc1</td><td>4</td><td>4</td><td>-1</td><td>15</td><td>20</td><td>spec1d.vdgc1.004.alg177.fits.gz</td><td>0.98282486</td><td>Star</td></tr>\n",
       "<tr><td>---</td><td>ALG</td><td>N</td><td>---</td><td>187.05908</td><td>10.544111</td><td>17.422152</td><td>2.510731</td><td>1.271273</td><td>1.2664591</td><td>1.0</td><td>-29.680532</td><td>0.17011769</td><td>0.14009692</td><td>-0.00020567562</td><td>5.003461e-07</td><td>4.6698975e-07</td><td>4.866667e-05</td><td>222.86</td><td>alg191</td><td>vdgc1</td><td>5</td><td>5</td><td>-1</td><td>15</td><td>21</td><td>spec1d.vdgc1.005.alg191.fits.gz</td><td>0.9828719</td><td>Star</td></tr>\n",
       "<tr><td>---</td><td>ALG</td><td>N</td><td>---</td><td>187.06075</td><td>10.386139</td><td>-53.867165</td><td>2.7268543</td><td>1.7217433</td><td>1.5956256</td><td>1.0</td><td>-18.522814</td><td>0.73050535</td><td>0.70048463</td><td>6.9147834e-05</td><td>3.1021461e-06</td><td>2.3349487e-06</td><td>4.866667e-05</td><td>73.2</td><td>alg194</td><td>vdgc1</td><td>6</td><td>6</td><td>-1</td><td>15</td><td>20</td><td>spec1d.vdgc1.006.alg194.fits.gz</td><td>0.9802294</td><td>Star</td></tr>\n",
       "<tr><td>VCC1075</td><td>NUC</td><td>N</td><td>---</td><td>187.05128</td><td>10.297639</td><td>1811.7435</td><td>2.917756</td><td>1.9805114</td><td>1.9400272</td><td>1.0</td><td>1825.7831</td><td>1.4409969</td><td>1.2608724</td><td>-1.867959e-06</td><td>1.7678897e-06</td><td>2.6018e-06</td><td>4.866667e-05</td><td>28.58</td><td>nuc5</td><td>vdgc1</td><td>7</td><td>7</td><td>4</td><td>30</td><td>37</td><td>spec1d.vdgc1.007.nuc5.fits.gz</td><td>1.0</td><td>ICGC</td></tr>\n",
       "<tr><td>VCC1079</td><td>NUC</td><td>N</td><td>---</td><td>187.05008</td><td>10.365334</td><td>1334.1931</td><td>3.0186136</td><td>2.089962</td><td>2.114991</td><td>1.0</td><td>1349.0332</td><td>1.5510731</td><td>1.541066</td><td>8.0055383e-07</td><td>2.101454e-06</td><td>2.435018e-06</td><td>4.866667e-05</td><td>32.52</td><td>nuc6</td><td>vdgc1</td><td>8</td><td>8</td><td>4</td><td>19</td><td>25</td><td>spec1d.vdgc1.008.nuc6.fits.gz</td><td>1.0</td><td>ICGC</td></tr>\n",
       "<tr><td>VCC1076</td><td>NUC</td><td>N</td><td>---</td><td>187.05345</td><td>10.526055</td><td>1648.991</td><td>3.8832598</td><td>2.937931</td><td>3.5167038</td><td>1.0</td><td>1670.976</td><td>2.5317514</td><td>3.2022152</td><td>2.461703e-05</td><td>2.701869e-06</td><td>2.4683743e-06</td><td>4.866667e-05</td><td>27.06</td><td>nuc7</td><td>vdgc1</td><td>9</td><td>9</td><td>4</td><td>20</td><td>26</td><td>spec1d.vdgc1.009.nuc7.fits.gz</td><td>1.0</td><td>ICGC</td></tr>\n",
       "<tr><td>...</td><td>...</td><td>...</td><td>...</td><td>...</td><td>...</td><td>...</td><td>...</td><td>...</td><td>...</td><td>...</td><td>...</td><td>...</td><td>...</td><td>...</td><td>...</td><td>...</td><td>...</td><td>...</td><td>...</td><td>...</td><td>...</td><td>...</td><td>...</td><td>...</td><td>...</td><td>...</td><td>...</td><td>...</td></tr>\n",
       "<tr><td>---</td><td>SGR</td><td>N</td><td>---</td><td>190.39262</td><td>11.137917</td><td>-41.299713</td><td>5.2710676</td><td>4.595586</td><td>5.017621</td><td>1.0</td><td>-34.63396</td><td>4.2929697</td><td>4.763295</td><td>-2.0447478e-05</td><td>3.5357793e-06</td><td>3.2022153e-06</td><td>4.2666667e-05</td><td>17.14</td><td>sgr375</td><td>vdgc9B</td><td>49</td><td>56</td><td>4</td><td>30</td><td>36</td><td>spec1d.vdgc9B.049.sgr375.fits.gz</td><td>0.9812374</td><td>Star</td></tr>\n",
       "<tr><td>---</td><td>SGR</td><td>N</td><td>---</td><td>190.33159</td><td>11.156917</td><td>29.619345</td><td>12.391332</td><td>12.224623</td><td>12.183033</td><td>1.0</td><td>-27.138775</td><td>6.8947697</td><td>7.3350744</td><td>-0.00023186041</td><td>3.3389766e-05</td><td>3.2155578e-05</td><td>4.2666667e-05</td><td>4.98</td><td>sgr377</td><td>vdgc9B</td><td>50</td><td>57</td><td>4</td><td>10</td><td>16</td><td>spec1d.vdgc9B.050.sgr377.fits.gz</td><td>0.9826506</td><td>Star</td></tr>\n",
       "<tr><td>---</td><td>SGR</td><td>N</td><td>---</td><td>190.36142</td><td>11.1675</td><td>-29.991892</td><td>3.5253105</td><td>2.367182</td><td>3.219882</td><td>1.0</td><td>-29.410345</td><td>1.7311976</td><td>2.721883</td><td>-4.0728177e-05</td><td>3.4023537e-06</td><td>3.936056e-06</td><td>4.2666667e-05</td><td>19.86</td><td>sgr382</td><td>vdgc9B</td><td>51</td><td>59</td><td>4</td><td>116</td><td>121</td><td>spec1d.vdgc9B.051.sgr382.fits.gz</td><td>0.9819229</td><td>Star</td></tr>\n",
       "<tr><td>---</td><td>SGR</td><td>N</td><td>---</td><td>190.4127</td><td>11.171166</td><td>81.905525</td><td>6.1642017</td><td>5.6335864</td><td>5.9122114</td><td>1.0</td><td>85.61923</td><td>5.103531</td><td>5.4737864</td><td>-3.028762e-05</td><td>6.7713513e-06</td><td>6.1709356e-06</td><td>4.2666667e-05</td><td>8.43</td><td>sgr383</td><td>vdgc9B</td><td>52</td><td>60</td><td>4</td><td>23</td><td>29</td><td>spec1d.vdgc9B.052.sgr383.fits.gz</td><td>0.9792581</td><td>Star</td></tr>\n",
       "<tr><td>---</td><td>SGR</td><td>N</td><td>---</td><td>190.35304</td><td>11.182972</td><td>-8.937327</td><td>4.602053</td><td>3.9840753</td><td>4.1363955</td><td>1.0</td><td>1.1107684</td><td>0.0</td><td>0.0</td><td>-9.173013e-06</td><td>1.26087225e-05</td><td>1.3142425e-05</td><td>4.2666667e-05</td><td>5.14</td><td>sgr387</td><td>vdgc9B</td><td>53</td><td>61</td><td>1</td><td>12</td><td>18</td><td>spec1d.vdgc9B.053.sgr387.fits.gz</td><td>0.9827067</td><td>Star</td></tr>\n",
       "<tr><td>---</td><td>SGR</td><td>N</td><td>---</td><td>190.30571</td><td>11.186861</td><td>172.89848</td><td>10.0326</td><td>10.680487</td><td>9.020062</td><td>1.0</td><td>171.7288</td><td>7.4651647</td><td>4.8133297</td><td>-4.6565547e-05</td><td>2.5117377e-05</td><td>2.508402e-05</td><td>4.2666667e-05</td><td>4.17</td><td>sgr388</td><td>vdgc9B</td><td>54</td><td>62</td><td>4</td><td>20</td><td>26</td><td>spec1d.vdgc9B.054.sgr388.fits.gz</td><td>0.9547984</td><td>Star</td></tr>\n",
       "<tr><td>---</td><td>SGR</td><td>N</td><td>---</td><td>190.20183</td><td>11.189305</td><td>-23.377317</td><td>13.753627</td><td>14.145195</td><td>13.020607</td><td>1.0</td><td>-1.4409969</td><td>13.739506</td><td>12.568695</td><td>3.0454401e-05</td><td>1.04072e-05</td><td>1.0540625e-05</td><td>4.2666667e-05</td><td>5.77</td><td>sgr389</td><td>vdgc9B</td><td>55</td><td>63</td><td>4</td><td>66</td><td>72</td><td>spec1d.vdgc9B.055.sgr389.fits.gz</td><td>0.98223525</td><td>Star</td></tr>\n",
       "<tr><td>---</td><td>SGR</td><td>N</td><td>---</td><td>190.21959</td><td>11.203083</td><td>-11.509108</td><td>6.1247454</td><td>6.008072</td><td>5.4711885</td><td>1.0</td><td>13.809553</td><td>5.573856</td><td>4.803323</td><td>4.172887e-05</td><td>6.2042923e-06</td><td>7.671974e-06</td><td>4.2666667e-05</td><td>8.92</td><td>sgr391</td><td>vdgc9B</td><td>56</td><td>64</td><td>4</td><td>36</td><td>42</td><td>spec1d.vdgc9B.056.sgr391.fits.gz</td><td>0.9826431</td><td>Star</td></tr>\n",
       "<tr><td>---</td><td>MST</td><td>N</td><td>---</td><td>190.2195</td><td>11.238611</td><td>-54.54888</td><td>10.111157</td><td>8.082899</td><td>11.675232</td><td>1.0</td><td>-41.74888</td><td>7.985524</td><td>11.60803</td><td>1.5577443e-05</td><td>0.00013782868</td><td>7.218327e-05</td><td>4.2666667e-05</td><td>3.44</td><td>mst526</td><td>vdgc9B</td><td>61</td><td>71</td><td>1</td><td>48</td><td>53</td><td>spec1d.vdgc9B.061.mst526.fits.gz</td><td>0.9801667</td><td>Star</td></tr>\n",
       "<tr><td>---</td><td>GCN</td><td>N</td><td>---</td><td>190.23608</td><td>11.185389</td><td>202.23877</td><td>2.5483098</td><td>1.3424577</td><td>1.3411143</td><td>1.0</td><td>221.78343</td><td>0.46031845</td><td>0.4403046</td><td>2.248222e-05</td><td>5.337026e-07</td><td>6.671282e-07</td><td>4.2666667e-05</td><td>105.87</td><td>gcN138</td><td>vdgc9B</td><td>66</td><td>76</td><td>4</td><td>30</td><td>36</td><td>spec1d.vdgc9B.066.gcN138.fits.gz</td><td>0.9345655</td><td>Star</td></tr>\n",
       "</table>"
      ],
      "text/plain": [
       "<Table length=364>\n",
       "  VCC   TARGTYPE GCSAT  ...            SPEC1DNAME            Probability Type\n",
       "bytes10  bytes7  bytes2 ...             bytes40                float32   str5\n",
       "------- -------- ------ ... -------------------------------- ----------- ----\n",
       "    ---      ALG      N ...   spec1d.vdgc1.000.alg42.fits.gz  0.98157275 Star\n",
       "    ---      ALG      N ...  spec1d.vdgc1.001.alg115.fits.gz  0.90411496 Star\n",
       "    ---      ALG      N ...  spec1d.vdgc1.002.alg140.fits.gz    0.982906 Star\n",
       "    ---      ALG      N ...  spec1d.vdgc1.003.alg164.fits.gz   0.9828415 Star\n",
       "    ---      ALG      N ...  spec1d.vdgc1.004.alg177.fits.gz  0.98282486 Star\n",
       "    ---      ALG      N ...  spec1d.vdgc1.005.alg191.fits.gz   0.9828719 Star\n",
       "    ---      ALG      N ...  spec1d.vdgc1.006.alg194.fits.gz   0.9802294 Star\n",
       "VCC1075      NUC      N ...    spec1d.vdgc1.007.nuc5.fits.gz         1.0 ICGC\n",
       "VCC1079      NUC      N ...    spec1d.vdgc1.008.nuc6.fits.gz         1.0 ICGC\n",
       "VCC1076      NUC      N ...    spec1d.vdgc1.009.nuc7.fits.gz         1.0 ICGC\n",
       "    ...      ...    ... ...                              ...         ...  ...\n",
       "    ---      SGR      N ... spec1d.vdgc9B.049.sgr375.fits.gz   0.9812374 Star\n",
       "    ---      SGR      N ... spec1d.vdgc9B.050.sgr377.fits.gz   0.9826506 Star\n",
       "    ---      SGR      N ... spec1d.vdgc9B.051.sgr382.fits.gz   0.9819229 Star\n",
       "    ---      SGR      N ... spec1d.vdgc9B.052.sgr383.fits.gz   0.9792581 Star\n",
       "    ---      SGR      N ... spec1d.vdgc9B.053.sgr387.fits.gz   0.9827067 Star\n",
       "    ---      SGR      N ... spec1d.vdgc9B.054.sgr388.fits.gz   0.9547984 Star\n",
       "    ---      SGR      N ... spec1d.vdgc9B.055.sgr389.fits.gz  0.98223525 Star\n",
       "    ---      SGR      N ... spec1d.vdgc9B.056.sgr391.fits.gz   0.9826431 Star\n",
       "    ---      MST      N ... spec1d.vdgc9B.061.mst526.fits.gz   0.9801667 Star\n",
       "    ---      GCN      N ... spec1d.vdgc9B.066.gcN138.fits.gz   0.9345655 Star"
      ]
     },
     "execution_count": 40,
     "metadata": {},
     "output_type": "execute_result"
    }
   ],
   "source": [
    "noDE"
   ]
  },
  {
   "cell_type": "code",
   "execution_count": null,
   "metadata": {},
   "outputs": [],
   "source": []
  }
 ],
 "metadata": {
  "kernelspec": {
   "display_name": "Python 3",
   "language": "python",
   "name": "python3"
  },
  "language_info": {
   "codemirror_mode": {
    "name": "ipython",
    "version": 3
   },
   "file_extension": ".py",
   "mimetype": "text/x-python",
   "name": "python",
   "nbconvert_exporter": "python",
   "pygments_lexer": "ipython3",
   "version": "3.7.3"
  }
 },
 "nbformat": 4,
 "nbformat_minor": 2
}
