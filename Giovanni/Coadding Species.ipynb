{
 "cells": [
  {
   "cell_type": "code",
   "execution_count": 1,
   "metadata": {},
   "outputs": [
    {
     "data": {
      "text/plain": [
       "['',\n",
       " '/Users/Gianna/Documents/GitHub/SIP2019/Giovanni',\n",
       " '/Users/Gianna/anaconda3/lib/python37.zip',\n",
       " '/Users/Gianna/anaconda3/lib/python3.7',\n",
       " '/Users/Gianna/anaconda3/lib/python3.7/lib-dynload',\n",
       " '/Users/Gianna/anaconda3/lib/python3.7/site-packages',\n",
       " '/Users/Gianna/anaconda3/lib/python3.7/site-packages/aeosa',\n",
       " '/Users/Gianna/anaconda3/lib/python3.7/site-packages/IPython/extensions',\n",
       " '/Users/Gianna/.ipython']"
      ]
     },
     "execution_count": 1,
     "metadata": {},
     "output_type": "execute_result"
    }
   ],
   "source": [
    "from astropy.io import fits\n",
    "import matplotlib.pyplot as plt\n",
    "import matplotlib.image as mpimg\n",
    "import numpy as np\n",
    "from astropy.table import Table, vstack, Column\n",
    "import os\n",
    "import pdb\n",
    "import warnings\n",
    "import sys\n",
    "import pandas as pd\n",
    "from pandas import DataFrame as df\n",
    "\n",
    "working_dir = '/Users/Gianna/Documents/GitHub/SIP2019/'\n",
    "\n",
    "sys.path"
   ]
  },
  {
   "cell_type": "code",
   "execution_count": 2,
   "metadata": {},
   "outputs": [],
   "source": [
    "objtypes=[]\n",
    "objfiles=[]\n",
    "path1 = './../spectra/'\n",
    "\n",
    "bigFile = Table.read('bigfile-Copy1.fits')\n",
    "allnames=list(bigFile['SPEC1DNAME'])\n",
    "\n",
    "for filename in os.listdir(path1):\n",
    "    if ((filename in allnames) | (filename [:-3] in allnames)):\n",
    "        if ('[]' not in str((bigFile[bigFile['SPEC1DNAME']==filename])['Type'])):\n",
    "            objtypes.append(str((bigFile[bigFile['SPEC1DNAME']==filename])['Type']))\n",
    "        else:\n",
    "            objtypes.append(str((bigFile[bigFile['SPEC1DNAME']==filename[:-3]])['Type']))\n",
    "        objfiles.append(filename)\n",
    "\n",
    "degc, star, icl, udg, halo, denu = [],[],[],[],[],[]\n",
    "for i in range(len(objfiles)):\n",
    "    if('DEGC'in objtypes[i]):\n",
    "        degc.append(objfiles[i])\n",
    "    elif('ICL' in objtypes[i]):\n",
    "        icl.append(objfiles[i])\n",
    "    elif('UDG'in objtypes[i]):\n",
    "        udg.append(objfiles[i] +'.gz')\n",
    "    elif('Halo' in objtypes[i]):\n",
    "        halo.append(objfiles[i])\n",
    "    elif('DENU' in objtypes[i]):\n",
    "        denu.append(objfiles[i])"
   ]
  },
  {
   "cell_type": "code",
   "execution_count": 3,
   "metadata": {},
   "outputs": [],
   "source": [
    "sys.path.append(working_dir + 'lib')\n",
    "\n",
    "from py_specrebin import rebinspec\n",
    "\n",
    "correct = np.arange(4000,8750.9,0.9)\n",
    "\n",
    "i = 0"
   ]
  },
  {
   "cell_type": "code",
   "execution_count": 5,
   "metadata": {},
   "outputs": [
    {
     "ename": "ValueError",
     "evalue": "can only convert an array of size 1 to a Python scalar",
     "output_type": "error",
     "traceback": [
      "\u001b[0;31m---------------------------------------------------------------------------\u001b[0m",
      "\u001b[0;31mValueError\u001b[0m                                Traceback (most recent call last)",
      "\u001b[0;32m<ipython-input-5-22db061fb36e>\u001b[0m in \u001b[0;36m<module>\u001b[0;34m()\u001b[0m\n\u001b[1;32m     10\u001b[0m \u001b[0mvobsHalo\u001b[0m \u001b[0;34m=\u001b[0m \u001b[0mvobs\u001b[0m\u001b[0;34m(\u001b[0m\u001b[0mhalo\u001b[0m\u001b[0;34m)\u001b[0m\u001b[0;34m\u001b[0m\u001b[0m\n\u001b[1;32m     11\u001b[0m \u001b[0mvobsDENU\u001b[0m \u001b[0;34m=\u001b[0m \u001b[0mvobs\u001b[0m\u001b[0;34m(\u001b[0m\u001b[0mdenu\u001b[0m\u001b[0;34m)\u001b[0m\u001b[0;34m\u001b[0m\u001b[0m\n\u001b[0;32m---> 12\u001b[0;31m \u001b[0mvobsUDG\u001b[0m \u001b[0;34m=\u001b[0m \u001b[0mvobs\u001b[0m\u001b[0;34m(\u001b[0m\u001b[0mudg\u001b[0m\u001b[0;34m)\u001b[0m\u001b[0;34m\u001b[0m\u001b[0m\n\u001b[0m\u001b[1;32m     13\u001b[0m \u001b[0mvobsICL\u001b[0m \u001b[0;34m=\u001b[0m \u001b[0mvobs\u001b[0m\u001b[0;34m(\u001b[0m\u001b[0micl\u001b[0m\u001b[0;34m)\u001b[0m\u001b[0;34m\u001b[0m\u001b[0m\n",
      "\u001b[0;32m<ipython-input-5-22db061fb36e>\u001b[0m in \u001b[0;36mvobs\u001b[0;34m(objfiles)\u001b[0m\n\u001b[1;32m      4\u001b[0m     \u001b[0mvobszero\u001b[0m \u001b[0;34m=\u001b[0m \u001b[0mnp\u001b[0m\u001b[0;34m.\u001b[0m\u001b[0mzeros\u001b[0m\u001b[0;34m(\u001b[0m\u001b[0mlen\u001b[0m\u001b[0;34m(\u001b[0m\u001b[0mobjfiles\u001b[0m\u001b[0;34m)\u001b[0m\u001b[0;34m)\u001b[0m\u001b[0;34m\u001b[0m\u001b[0m\n\u001b[1;32m      5\u001b[0m     \u001b[0;32mfor\u001b[0m \u001b[0mi\u001b[0m \u001b[0;32min\u001b[0m \u001b[0mrange\u001b[0m\u001b[0;34m(\u001b[0m\u001b[0mlen\u001b[0m\u001b[0;34m(\u001b[0m\u001b[0mobjfiles\u001b[0m\u001b[0;34m)\u001b[0m\u001b[0;34m)\u001b[0m\u001b[0;34m:\u001b[0m\u001b[0;34m\u001b[0m\u001b[0m\n\u001b[0;32m----> 6\u001b[0;31m         \u001b[0mvobszero\u001b[0m\u001b[0;34m[\u001b[0m\u001b[0mi\u001b[0m\u001b[0;34m]\u001b[0m\u001b[0;34m=\u001b[0m\u001b[0;34m(\u001b[0m\u001b[0mfloat\u001b[0m\u001b[0;34m(\u001b[0m\u001b[0mbigFile\u001b[0m\u001b[0;34m[\u001b[0m\u001b[0mbigFile\u001b[0m\u001b[0;34m[\u001b[0m\u001b[0;34m'SPEC1DNAME'\u001b[0m\u001b[0;34m]\u001b[0m \u001b[0;34m==\u001b[0m \u001b[0mobjfiles\u001b[0m\u001b[0;34m[\u001b[0m\u001b[0mi\u001b[0m\u001b[0;34m]\u001b[0m\u001b[0;34m]\u001b[0m\u001b[0;34m[\u001b[0m\u001b[0;34m'VOBS'\u001b[0m\u001b[0;34m]\u001b[0m\u001b[0;34m)\u001b[0m\u001b[0;34m)\u001b[0m\u001b[0;34m\u001b[0m\u001b[0m\n\u001b[0m\u001b[1;32m      7\u001b[0m     \u001b[0;32mreturn\u001b[0m \u001b[0mvobszero\u001b[0m\u001b[0;34m\u001b[0m\u001b[0m\n\u001b[1;32m      8\u001b[0m \u001b[0;34m\u001b[0m\u001b[0m\n",
      "\u001b[0;32m~/anaconda3/lib/python3.7/site-packages/numpy/ma/core.py\u001b[0m in \u001b[0;36m__float__\u001b[0;34m(self)\u001b[0m\n\u001b[1;32m   4285\u001b[0m             \u001b[0mwarnings\u001b[0m\u001b[0;34m.\u001b[0m\u001b[0mwarn\u001b[0m\u001b[0;34m(\u001b[0m\u001b[0;34m\"Warning: converting a masked element to nan.\"\u001b[0m\u001b[0;34m,\u001b[0m \u001b[0mstacklevel\u001b[0m\u001b[0;34m=\u001b[0m\u001b[0;36m2\u001b[0m\u001b[0;34m)\u001b[0m\u001b[0;34m\u001b[0m\u001b[0m\n\u001b[1;32m   4286\u001b[0m             \u001b[0;32mreturn\u001b[0m \u001b[0mnp\u001b[0m\u001b[0;34m.\u001b[0m\u001b[0mnan\u001b[0m\u001b[0;34m\u001b[0m\u001b[0m\n\u001b[0;32m-> 4287\u001b[0;31m         \u001b[0;32mreturn\u001b[0m \u001b[0mfloat\u001b[0m\u001b[0;34m(\u001b[0m\u001b[0mself\u001b[0m\u001b[0;34m.\u001b[0m\u001b[0mitem\u001b[0m\u001b[0;34m(\u001b[0m\u001b[0;34m)\u001b[0m\u001b[0;34m)\u001b[0m\u001b[0;34m\u001b[0m\u001b[0m\n\u001b[0m\u001b[1;32m   4288\u001b[0m \u001b[0;34m\u001b[0m\u001b[0m\n\u001b[1;32m   4289\u001b[0m     \u001b[0;32mdef\u001b[0m \u001b[0m__int__\u001b[0m\u001b[0;34m(\u001b[0m\u001b[0mself\u001b[0m\u001b[0;34m)\u001b[0m\u001b[0;34m:\u001b[0m\u001b[0;34m\u001b[0m\u001b[0m\n",
      "\u001b[0;31mValueError\u001b[0m: can only convert an array of size 1 to a Python scalar"
     ]
    }
   ],
   "source": [
    "vobsDEGC, vobsHalo, vobsDENU, vobsUDG, vobsICL = [],[],[],[],[]\n",
    "\n",
    "def vobs(objfiles):\n",
    "    vobszero = np.zeros(len(objfiles))\n",
    "    for i in range(len(objfiles)):\n",
    "        vobszero[i]=(float(bigFile[bigFile['SPEC1DNAME'] == objfiles[i]]['VOBS']))\n",
    "    return vobszero\n",
    "\n",
    "vobsDEGC = vobs(degc)\n",
    "vobsHalo = vobs(halo)\n",
    "vobsDENU = vobs(denu)\n",
    "vobsUDG = vobs(udg)\n",
    "vobsICL = vobs(icl)"
   ]
  },
  {
   "cell_type": "code",
   "execution_count": null,
   "metadata": {},
   "outputs": [],
   "source": []
  }
 ],
 "metadata": {
  "kernelspec": {
   "display_name": "Python 3",
   "language": "python",
   "name": "python3"
  },
  "language_info": {
   "codemirror_mode": {
    "name": "ipython",
    "version": 3
   },
   "file_extension": ".py",
   "mimetype": "text/x-python",
   "name": "python",
   "nbconvert_exporter": "python",
   "pygments_lexer": "ipython3",
   "version": "3.7.0"
  }
 },
 "nbformat": 4,
 "nbformat_minor": 2
}
