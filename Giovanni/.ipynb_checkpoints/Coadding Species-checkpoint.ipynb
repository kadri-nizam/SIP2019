{
 "cells": [
  {
   "cell_type": "code",
   "execution_count": 1,
   "metadata": {},
   "outputs": [
    {
     "data": {
      "text/plain": [
       "['',\n",
       " '/Users/Gianna/Documents/GitHub/SIP2019/Giovanni',\n",
       " '/Users/Gianna/anaconda3/lib/python37.zip',\n",
       " '/Users/Gianna/anaconda3/lib/python3.7',\n",
       " '/Users/Gianna/anaconda3/lib/python3.7/lib-dynload',\n",
       " '/Users/Gianna/anaconda3/lib/python3.7/site-packages',\n",
       " '/Users/Gianna/anaconda3/lib/python3.7/site-packages/aeosa',\n",
       " '/Users/Gianna/anaconda3/lib/python3.7/site-packages/IPython/extensions',\n",
       " '/Users/Gianna/.ipython']"
      ]
     },
     "execution_count": 1,
     "metadata": {},
     "output_type": "execute_result"
    }
   ],
   "source": [
    "from astropy.io import fits\n",
    "import matplotlib.pyplot as plt\n",
    "import matplotlib.image as mpimg\n",
    "import numpy as np\n",
    "from astropy.table import Table, vstack, Column\n",
    "import os\n",
    "import pdb\n",
    "import warnings\n",
    "import sys\n",
    "import pandas as pd\n",
    "from pandas import DataFrame as df\n",
    "\n",
    "working_dir = '/Users/Gianna/Documents/GitHub/SIP2019/'\n",
    "\n",
    "sys.path"
   ]
  },
  {
   "cell_type": "code",
   "execution_count": 2,
   "metadata": {},
   "outputs": [],
   "source": [
    "objtypes=[]\n",
    "objfiles=[]\n",
    "\n",
    "degc,halo,denu,udg,icl = [],[],[],[],[]\n",
    "\n",
    "path1 = './../spectra/'\n",
    "\n",
    "bigFile = Table.read('bigfile-Copy1.fits')\n",
    "allnames=list(bigFile['SPEC1DNAME'])\n",
    "\n",
    "for filename in os.listdir(path1):\n",
    "    if ((filename in allnames) | ((filename + '.gz') in allnames)):\n",
    "        if ('.gz' in filename):\n",
    "            objtypes=(str((bigFile[bigFile['SPEC1DNAME']==filename])['Type']))\n",
    "        else:\n",
    "            objtypes = (str((bigFile[bigFile['SPEC1DNAME'] == filename + '.gz'])['Type']))\n",
    "        if ('DEGC' in objtypes):\n",
    "            degc.append(filename)\n",
    "        elif ('Halo' in objtypes):\n",
    "            halo.append(filename)\n",
    "        elif ('DENU' in objtypes):\n",
    "            denu.append(filename)\n",
    "        elif ('UDG' in objtypes):\n",
    "            udg.append(filename)\n",
    "        elif ('ICL' in objtypes):\n",
    "            icl.append(filename)"
   ]
  },
  {
   "cell_type": "code",
   "execution_count": 3,
   "metadata": {},
   "outputs": [],
   "source": [
    "sys.path.append(working_dir + 'lib')\n",
    "\n",
    "from py_specrebin import rebinspec\n",
    "\n",
    "correct = np.arange(4000,8750.9,0.9)\n",
    "\n",
    "i = 0"
   ]
  },
  {
   "cell_type": "code",
   "execution_count": 4,
   "metadata": {},
   "outputs": [],
   "source": [
    "vobsDEGC, vobsHalo, vobsDENU, vobsUDG, vobsICL = [],[],[],[],[]\n",
    "\n",
    "def vobs(objfiles):\n",
    "    vobszero = np.zeros(len(objfiles))\n",
    "    for i in range(len(objfiles)):\n",
    "        try:\n",
    "            vobszero[i]=(float(bigFile[bigFile['SPEC1DNAME'] == objfiles[i]]['VOBS']))\n",
    "        except:\n",
    "            vobszero[i]=(float(bigFile[bigFile['SPEC1DNAME'] == objfiles[i] + '.gz']['VOBS']))\n",
    "    return vobszero\n",
    "\n",
    "vobsDEGC = vobs(degc)\n",
    "vobsHalo = vobs(halo)\n",
    "vobsDENU = vobs(denu)\n",
    "vobsUDG = vobs(udg)\n",
    "vobsICL = vobs(icl)"
   ]
  },
  {
   "cell_type": "code",
   "execution_count": 7,
   "metadata": {},
   "outputs": [],
   "source": [
    "def coaddition(objfiles, velocities):\n",
    "    allfluxes = []\n",
    "    alllambdas = []\n",
    "    allvariances = []\n",
    "    for i in range(len(objfiles)):\n",
    "        f = fits.open(path1 + objfiles[i])\n",
    "\n",
    "        try:\n",
    "            specB = f['Bxspf-' + 'B'] # Look through 'Bxspf-' for blue and red before looking through 'Horne-'\n",
    "            specR = f['Bxspf-' + 'R']\n",
    "        except:\n",
    "            specB = f['Horne-' + 'B']\n",
    "            specR = f['Horne-' + 'R']\n",
    "        \n",
    "        nuewaveB= specB.data['LAMBDA']\n",
    "        antiguoB= nuewaveB/(1+((velocities[i]/300000))) #Doppler shift correction (300,000 = speed of light)\n",
    "        nuewaveR= specR.data['LAMBDA']\n",
    "        antiguoR= nuewaveR/(1+((velocities[i]/300000)))\n",
    "        alllambdas.append(np.append(antiguoB,antiguoR)) # Blue lambdas to red\n",
    "        allfluxes.append(np.append(specB.data['SPEC'],specR.data['SPEC'])) # Blue spectras to red\n",
    "#         print(allfluxes[i]) \n",
    "        allvariances.append(np.append(specB.data['IVAR'],specR.data['IVAR'])) # Blue variances to red\n",
    "        f.close()\n",
    "    return alllambdas, allfluxes, allvariances"
   ]
  },
  {
   "cell_type": "code",
   "execution_count": 6,
   "metadata": {
    "scrolled": false
   },
   "outputs": [
    {
     "name": "stdout",
     "output_type": "stream",
     "text": [
      "[0. 0. 0. ... 0. 0. 0.]\n",
      "[0. 0. 0. ... 0. 0. 0.]\n",
      "[0. 0. 0. ... 0. 0. 0.]\n",
      "[0. 0. 0. ... 0. 0. 0.]\n",
      "[0. 0. 0. ... 0. 0. 0.]\n",
      "[0. 0. 0. ... 0. 0. 0.]\n",
      "[0. 0. 0. ... 0. 0. 0.]\n",
      "[0. 0. 0. ... 0. 0. 0.]\n",
      "[0. 0. 0. ... 0. 0. 0.]\n",
      "[0. 0. 0. ... 0. 0. 0.]\n",
      "[0. 0. 0. ... 0. 0. 0.]\n",
      "[0. 0. 0. ... 0. 0. 0.]\n",
      "[0. 0. 0. ... 0. 0. 0.]\n",
      "[0. 0. 0. ... 0. 0. 0.]\n",
      "[0. 0. 0. ... 0. 0. 0.]\n",
      "[0. 0. 0. ... 0. 0. 0.]\n",
      "[0. 0. 0. ... 0. 0. 0.]\n",
      "[0. 0. 0. ... 0. 0. 0.]\n",
      "[0. 0. 0. ... 0. 0. 0.]\n",
      "[0. 0. 0. ... 0. 0. 0.]\n",
      "[0. 0. 0. ... 0. 0. 0.]\n",
      "[0. 0. 0. ... 0. 0. 0.]\n",
      "[0. 0. 0. ... 0. 0. 0.]\n",
      "[0. 0. 0. ... 0. 0. 0.]\n",
      "[0. 0. 0. ... 0. 0. 0.]\n",
      "[0. 0. 0. ... 0. 0. 0.]\n",
      "[0. 0. 0. ... 0. 0. 0.]\n",
      "[0. 0. 0. ... 0. 0. 0.]\n",
      "[0. 0. 0. ... 0. 0. 0.]\n",
      "[0. 0. 0. ... 0. 0. 0.]\n",
      "[0. 0. 0. ... 0. 0. 0.]\n",
      "[0. 0. 0. ... 0. 0. 0.]\n",
      "[0. 0. 0. ... 0. 0. 0.]\n",
      "[0. 0. 0. ... 0. 0. 0.]\n",
      "[0. 0. 0. ... 0. 0. 0.]\n",
      "[0. 0. 0. ... 0. 0. 0.]\n",
      "[0. 0. 0. ... 0. 0. 0.]\n",
      "[0. 0. 0. ... 0. 0. 0.]\n",
      "[0. 0. 0. ... 0. 0. 0.]\n",
      "[0. 0. 0. ... 0. 0. 0.]\n",
      "[0. 0. 0. ... 0. 0. 0.]\n",
      "[0. 0. 0. ... 0. 0. 0.]\n",
      "[0. 0. 0. ... 0. 0. 0.]\n",
      "[0. 0. 0. ... 0. 0. 0.]\n",
      "[0. 0. 0. ... 0. 0. 0.]\n",
      "[0. 0. 0. ... 0. 0. 0.]\n",
      "[0. 0. 0. ... 0. 0. 0.]\n",
      "[0. 0. 0. ... 0. 0. 0.]\n",
      "[0. 0. 0. ... 0. 0. 0.]\n",
      "[0. 0. 0. ... 0. 0. 0.]\n",
      "[0. 0. 0. ... 0. 0. 0.]\n",
      "[0. 0. 0. ... 0. 0. 0.]\n",
      "[0. 0. 0. ... 0. 0. 0.]\n",
      "[0. 0. 0. ... 0. 0. 0.]\n",
      "[0. 0. 0. ... 0. 0. 0.]\n",
      "[0. 0. 0. ... 0. 0. 0.]\n",
      "[0. 0. 0. ... 0. 0. 0.]\n",
      "[0. 0. 0. ... 0. 0. 0.]\n",
      "[0. 0. 0. ... 0. 0. 0.]\n",
      "[0. 0. 0. ... 0. 0. 0.]\n",
      "[0. 0. 0. ... 0. 0. 0.]\n",
      "[0. 0. 0. ... 0. 0. 0.]\n",
      "[0. 0. 0. ... 0. 0. 0.]\n",
      "[0. 0. 0. ... 0. 0. 0.]\n",
      "[0. 0. 0. ... 0. 0. 0.]\n",
      "[0. 0. 0. ... 0. 0. 0.]\n",
      "[0. 0. 0. ... 0. 0. 0.]\n",
      "[0. 0. 0. ... 0. 0. 0.]\n",
      "[0. 0. 0. ... 0. 0. 0.]\n",
      "[0. 0. 0. ... 0. 0. 0.]\n",
      "[0. 0. 0. ... 0. 0. 0.]\n",
      "[0. 0. 0. ... 0. 0. 0.]\n",
      "[0. 0. 0. ... 0. 0. 0.]\n",
      "[0. 0. 0. ... 0. 0. 0.]\n",
      "[0. 0. 0. ... 0. 0. 0.]\n",
      "[0. 0. 0. ... 0. 0. 0.]\n",
      "[0. 0. 0. ... 0. 0. 0.]\n",
      "[0. 0. 0. ... 0. 0. 0.]\n",
      "[0. 0. 0. ... 0. 0. 0.]\n",
      "[0. 0. 0. ... 0. 0. 0.]\n",
      "[0. 0. 0. ... 0. 0. 0.]\n",
      "[0. 0. 0. ... 0. 0. 0.]\n",
      "[0. 0. 0. ... 0. 0. 0.]\n",
      "[0. 0. 0. ... 0. 0. 0.]\n",
      "[0. 0. 0. ... 0. 0. 0.]\n",
      "[0. 0. 0. ... 0. 0. 0.]\n",
      "[0. 0. 0. ... 0. 0. 0.]\n",
      "[0. 0. 0. ... 0. 0. 0.]\n"
     ]
    },
    {
     "data": {
      "text/plain": [
       "[<matplotlib.lines.Line2D at 0x816497940>]"
      ]
     },
     "execution_count": 6,
     "metadata": {},
     "output_type": "execute_result"
    },
    {
     "data": {
      "image/png": "[encoded data removed]",
      "text/plain": [
       "<Figure size 432x288 with 1 Axes>"
      ]
     },
     "metadata": {
      "needs_background": "light"
     },
     "output_type": "display_data"
    }
   ],
   "source": [
    "tlDEGC, tfDEGC, tvDEGC = coaddition(degc, vobsDEGC)\n",
    "# tlHalo, tfHalo, tvHalo = coaddition(halo,vobsHalo)\n",
    "# tlDENU, tfDENU, tvDENU = coaddition (denu, vobsDEGC)\n",
    "# tlUDG, tfUDG, tvUDG = coaddition (udg, vobsUDG)\n",
    "# tlICL, tfICL, tvICL = coaddition (icl, vobsICL)\n",
    "\n",
    "plt.plot(tlDEGC[0], tfDEGC[0])"
   ]
  },
  {
   "cell_type": "code",
   "execution_count": null,
   "metadata": {},
   "outputs": [],
   "source": [
    "fluxesDEGC = np.zeros((len(tlDEGC), len(correct)))\n",
    "varsDEGC = np.zeros((len(tlDEGC), len(correct)))\n",
    "\n",
    "for i in range(len(tlDEGC)):   #rebinning DEGC\n",
    "    newfluxDEGC, newvarDEGC = np.nan_to_num(rebinspec(tlDEGC[i], tfDEGC[i], correct, ivar = tvDEGC[i]))\n",
    "    fluxesDEGC[i][:] = newfluxDEGC\n",
    "    varsDEGC[i][:] = newvarDEGC\n",
    "    \n",
    "# fluxesUDG = np.zeros((len(tlUDG), len(correct)))\n",
    "# varsUDG = np.zeros((len(tlUDG), len(correct)))\n",
    "\n",
    "# for i in range(len(tlUDG)):  #rebinning star\n",
    "#     newfluxUDG, newvarUDG = np.nan_to_num(rebinspec(tlUDG[i], tfUDG[i], correct, ivar = tvUDG[i]))\n",
    "#     fluxesUDG[i][:] = newfluxUDG\n",
    "#     varsUDG[i][:] = newvarUDG\n",
    "\n",
    "# fluxesH = np.zeros((len(tlHalo), len(correct)))\n",
    "# varsH = np.zeros((len(tlHalo), len(correct)))\n",
    "\n",
    "# for i in range(len(tlHalo)):   #rebinning halo\n",
    "#     newfluxH, newvarH = np.nan_to_num(rebinspec(tlHalo[i], tfHalo[i], correct, ivar = tvHalo[i]))\n",
    "#     fluxesH[i][:] = newfluxH\n",
    "#     varsH[i][:] = newvarH\n",
    "    \n",
    "# fluxesDENU = np.zeros((len(tlDENU), len(correct)))\n",
    "# varsDENU = np.zeros((len(tlDENU), len(correct)))\n",
    "\n",
    "# for i in range(len(tlDENU)):  #rebinning DENU\n",
    "#     newfluxDENU, newvarDENU = np.nan_to_num(rebinspec(tlDENU[i], tfDENU[i], correct, ivar = tvDENU[i]))\n",
    "#     fluxesDENU[i][:] = newfluxDENU\n",
    "#     varsDENU[i][:] = newvarDENU\n",
    "\n",
    "# fluxesICL = np.zeros((len(tlICL), len(correct)))\n",
    "# varsICL = np.zeros((len(tlICL), len(correct)))\n",
    "\n",
    "# for i in range(len(tlICL)):   #rebinning ICL\n",
    "#     newfluxICL, newvarICL = np.nan_to_num(rebinspec(tlICL[i], tfICL[i], correct, ivar = tvICL[i]))\n",
    "#     fluxesICL[i][:] = newfluxICL\n",
    "#     varsICL[i][:] = newvarICL    "
   ]
  },
  {
   "cell_type": "code",
   "execution_count": 8,
   "metadata": {},
   "outputs": [],
   "source": [
    "def normalize(minlim, maxlim, flux, ivar):\n",
    "    correct = (np.arange(4000,8750.9,0.9)).tolist()      #correct from above being transferred for esay access for lists\n",
    "    rangeflux = np.asarray(flux)[:, correct.index(min(correct, key=lambda x:abs(x-minlim))):\n",
    "                                 correct.index(min(correct, key = lambda x:abs(x-maxlim)))] \n",
    "    #Hydrogen Alpha sort\n",
    "    rowmedians=np.median(rangeflux, axis=1) #Have to look at medians in Angstrom height specifics\n",
    "    \n",
    "    for i in range(len(rangeflux)):\n",
    "        flux[i] = flux[i]/rowmedians[i]\n",
    "        ivar[i] = ivar[i] * np.power(rowmedians[i],2)\n",
    "        return flux, ivar\n",
    "    \n",
    "nfluxDEGC, nvarDEGC = normalize(6500,6600, fluxesDEGC, varsDEGC)\n",
    "nfluxUDG, nvarUDG = normalize(6500,6600, fluxesUDG, varsUDG)\n",
    "nfluxH, nvarH = normalize(6500,6600, fluxesH, varsH)\n",
    "nfluxDENU, nvarDENU = normalize(6500,6600, fluxesDENU, varsDENU)\n",
    "nfluxICL, nvarICL = normalize(6500,6600, fluxesICL, varsICL)"
   ]
  },
  {
   "cell_type": "code",
   "execution_count": 9,
   "metadata": {},
   "outputs": [],
   "source": [
    "def sigmaclip(flux):                    #sigma clipping the flux\n",
    "    ones = np.ones(np.shape(flux))\n",
    "    stdev = np.std(flux, axis=0)\n",
    "    median = np.median(flux,axis=0)\n",
    "    a = ones[np.abs(flux-median) > 3 * stdev] = 0\n",
    "    return(ones)\n",
    "onesDEGC = sigmaclip(nfluxDEGC)\n",
    "onesUDG = sigmaclip(nfluxUDG)\n",
    "onesH = sigmaclip(nfluxH)\n",
    "onesDENU = sigmaclip(nfluxDENU)\n",
    "onesICL = sigmaclip(nfluxICL)"
   ]
  },
  {
   "cell_type": "code",
   "execution_count": 10,
   "metadata": {},
   "outputs": [],
   "source": [
    "def coadd(flux, ivar, ones):\n",
    "    coadd_spectra = np.nan_to_num(np.sum(flux * ivar * ones, axis = 0) / np.sum(ivar * ones, axis = 0))\n",
    "    coadd_ivar = np.nan_to_num(np.sum(ivar * ones, axis = 0))\n",
    "    coadd_err = np.nan_to_num(1 / np.sqrt(np.sum(ivar * ones, axis = 0)))\n",
    "    return coadd_spectra, coadd_ivar, coadd_err\n",
    "\n",
    "coadd_spectraUDG, coadd_ivarUDG, coadd_errUDG = coadd(nfluxUDG, nvarUDG, onesUDG)\n",
    "coadd_spectraDEGC, coadd_ivarDEGC, coadd_errDEGC = coadd(nfluxDEGC, nvarDEGC, onesDEGC)\n",
    "coadd_spectraH, coadd_ivarH, coadd_errH = coadd(nfluxH, nvarH, onesH)\n",
    "coadd_spectraDENU, coadd_ivarDENU, coadd_errDENU = coadd(nfluxDENU, nvarDENU, onesDENU)\n",
    "coadd_spectraICL, coadd_ivarICL, coadd_errICL = coadd(nfluxICL, nvarICL, onesICL)"
   ]
  },
  {
   "cell_type": "code",
   "execution_count": 11,
   "metadata": {},
   "outputs": [
    {
     "data": {
      "image/png": "[encoded data removed]",
      "text/plain": [
       "<Figure size 2160x720 with 1 Axes>"
      ]
     },
     "metadata": {
      "needs_background": "light"
     },
     "output_type": "display_data"
    }
   ],
   "source": [
    "def plot(flux1, flux2, flux3, flux4, flux5, title, xlim):\n",
    "    plt.figure(figsize = (30,10))\n",
    "    plt.xlabel('Wavelength', fontsize=18)\n",
    "    plt.ylabel('Flux', fontsize=18)\n",
    "    plt.title(title, fontsize = 20)\n",
    "    if (xlim):\n",
    "        plt.xlim((8400,8700))\n",
    "    plt.plot(correct, flux1, label = 'Star', color = 'r')\n",
    "    plt.plot(correct, flux2, label = 'DEGC', color = 'coral')\n",
    "    plt.plot(correct, flux3, label = 'Halo', color = 'darkgreen')\n",
    "    plt.plot(correct,flux4, label = 'DENU', color = 'royalblue')\n",
    "    plt.plot(correct, flux5, label = 'ICL', color = 'darkviolet')\n",
    "    plt.legend(loc = 'upper left', prop={'size':18})\n",
    "    \n",
    "plot(coadd_spectraUDG, coadd_spectraDEGC, coadd_spectraH, coadd_spectraDENU, coadd_spectraICL, 'Coaddition of Spectra', xlim = True)\n",
    "\n",
    "# This comes out as emission lines instead of absorption lines"
   ]
  },
  {
   "cell_type": "code",
   "execution_count": 12,
   "metadata": {},
   "outputs": [
    {
     "data": {
      "text/plain": [
       "{'DEGC', 'DENU', 'Halo', 'ICL', 'Star', 'UDG', 'Unkn'}"
      ]
     },
     "execution_count": 12,
     "metadata": {},
     "output_type": "execute_result"
    }
   ],
   "source": [
    "set(bigFile['Type'])"
   ]
  },
  {
   "cell_type": "code",
   "execution_count": 14,
   "metadata": {},
   "outputs": [
    {
     "data": {
      "text/plain": [
       "{'DEGC', 'DENU', 'Halo', 'ICL', 'Star', 'UDG', 'Unkn'}"
      ]
     },
     "execution_count": 14,
     "metadata": {},
     "output_type": "execute_result"
    }
   ],
   "source": [
    "set(bigFile['Type'])"
   ]
  },
  {
   "cell_type": "code",
   "execution_count": 15,
   "metadata": {},
   "outputs": [
    {
     "data": {
      "text/html": [
       "<i>Table masked=True length=1</i>\n",
       "<table id=\"table34781573416\" class=\"table-striped table-bordered table-condensed\">\n",
       "<thead><tr><th>VCC</th><th>TARGTYPE</th><th>GCSAT</th><th>HOST</th><th>RA</th><th>DEC</th><th>VHEL</th><th>VERR</th><th>VERR_pe</th><th>VERR_ne</th><th>ZCONF</th><th>VOBS</th><th>VOBS_pe</th><th>VOBS_ne</th><th>ABANDCOR</th><th>ABANDCOR_pe</th><th>ABANDCOR_ne</th><th>HELCOR</th><th>SN</th><th>KECKID</th><th>MASKNAME</th><th>SLITNUM</th><th>ZSPECNUM</th><th>ZQUAL</th><th>YLOW</th><th>YHIGH</th><th>SPEC1DNAME</th><th>Probability</th><th>Type</th><th>Nucleus</th></tr></thead>\n",
       "<thead><tr><th>bytes10</th><th>bytes7</th><th>bytes2</th><th>bytes10</th><th>float32</th><th>float32</th><th>float32</th><th>float32</th><th>float32</th><th>float32</th><th>float32</th><th>float32</th><th>float32</th><th>float32</th><th>float32</th><th>float32</th><th>float32</th><th>float32</th><th>float32</th><th>bytes20</th><th>bytes20</th><th>int16</th><th>int16</th><th>int16</th><th>int16</th><th>int16</th><th>bytes40</th><th>float64</th><th>bytes4</th><th>bytes2</th></tr></thead>\n",
       "<tr><td>---</td><td>GCA</td><td>Y</td><td>VCC1539</td><td>188.52779</td><td>12.742778</td><td>1562.3002</td><td>18.56356</td><td>19.724003</td><td>17.149832</td><td>1.0</td><td>1546.67</td><td>19.503492</td><td>16.94172</td><td>-29.030085</td><td>2.6618414</td><td>2.3516269</td><td>13.399999</td><td>2.82</td><td>gcA19</td><td>vdgc5</td><td>8</td><td>11</td><td>3</td><td>21</td><td>26</td><td>spec1d.vdgc5.008.gcA19.fits.gz</td><td>1.0</td><td>DEGC</td><td>0:</td></tr>\n",
       "</table>"
      ],
      "text/plain": [
       "<Table masked=True length=1>\n",
       "  VCC   TARGTYPE GCSAT    HOST  ... Probability  Type  Nucleus\n",
       "bytes10  bytes7  bytes2 bytes10 ...   float64   bytes4  bytes2\n",
       "------- -------- ------ ------- ... ----------- ------ -------\n",
       "    ---      GCA      Y VCC1539 ...         1.0   DEGC      0:"
      ]
     },
     "execution_count": 15,
     "metadata": {},
     "output_type": "execute_result"
    }
   ],
   "source": [
    "(bigFile[bigFile['SPEC1DNAME'] == 'spec1d.vdgc5.008.gcA19.fits.gz'])\n"
   ]
  },
  {
   "cell_type": "code",
   "execution_count": 16,
   "metadata": {},
   "outputs": [
    {
     "data": {
      "text/html": [
       "<i>Table masked=True length=547</i>\n",
       "<table id=\"table34775460384\" class=\"table-striped table-bordered table-condensed\">\n",
       "<thead><tr><th>VCC</th><th>TARGTYPE</th><th>GCSAT</th><th>HOST</th><th>RA</th><th>DEC</th><th>VHEL</th><th>VERR</th><th>VERR_pe</th><th>VERR_ne</th><th>ZCONF</th><th>VOBS</th><th>VOBS_pe</th><th>VOBS_ne</th><th>ABANDCOR</th><th>ABANDCOR_pe</th><th>ABANDCOR_ne</th><th>HELCOR</th><th>SN</th><th>KECKID</th><th>MASKNAME</th><th>SLITNUM</th><th>ZSPECNUM</th><th>ZQUAL</th><th>YLOW</th><th>YHIGH</th><th>SPEC1DNAME</th><th>Probability</th><th>Type</th><th>Nucleus</th></tr></thead>\n",
       "<thead><tr><th>bytes10</th><th>bytes7</th><th>bytes2</th><th>bytes10</th><th>float32</th><th>float32</th><th>float32</th><th>float32</th><th>float32</th><th>float32</th><th>float32</th><th>float32</th><th>float32</th><th>float32</th><th>float32</th><th>float32</th><th>float32</th><th>float32</th><th>float32</th><th>bytes20</th><th>bytes20</th><th>int16</th><th>int16</th><th>int16</th><th>int16</th><th>int16</th><th>bytes40</th><th>float64</th><th>bytes4</th><th>bytes2</th></tr></thead>\n",
       "<tr><td>---</td><td>GCA</td><td>Y</td><td>VCC1075</td><td>187.05533</td><td>10.299723</td><td>1795.8826</td><td>6.6943264</td><td>7.1255054</td><td>5.546625</td><td>1.0</td><td>1810.4825</td><td>7.014853</td><td>5.403738</td><td>78.81452</td><td>25.247467</td><td>23.015923</td><td>14.6</td><td>3.34</td><td>gcA10</td><td>vdgc1</td><td>11</td><td>12</td><td>3</td><td>25</td><td>31</td><td>spec1d.vdgc1.011.gcA10.fits.gz</td><td>1.0</td><td>DEGC</td><td>0:</td></tr>\n",
       "<tr><td>---</td><td>ALG</td><td>N</td><td>---</td><td>190.27109</td><td>11.294167</td><td>20.763288</td><td>2.7220166</td><td>1.6636189</td><td>1.6329079</td><td>1.0</td><td>4.2029076</td><td>0.78054</td><td>0.7905469</td><td>-9.820127e-05</td><td>2.5684435e-06</td><td>2.3015923e-06</td><td>4.3e-05</td><td>44.52</td><td>alg82</td><td>vdgc8</td><td>2</td><td>2</td><td>-1</td><td>15</td><td>21</td><td>spec1d.vdgc8.002.alg82.fits.gz</td><td>0.9828302264213562</td><td>Star</td><td>0:</td></tr>\n",
       "<tr><td>---</td><td>ALG</td><td>N</td><td>---</td><td>190.29495</td><td>11.283361</td><td>-34.52496</td><td>2.8502433</td><td>1.9209903</td><td>1.7851913</td><td>1.0</td><td>-52.42627</td><td>1.0507269</td><td>0.9006231</td><td>-0.00010267103</td><td>3.3689973e-06</td><td>3.002077e-06</td><td>4.3e-05</td><td>41.88</td><td>alg51</td><td>vdgc8</td><td>1</td><td>1</td><td>-1</td><td>16</td><td>22</td><td>spec1d.vdgc8.001.alg51.fits.gz</td><td>0.9816717505455017</td><td>Star</td><td>0:</td></tr>\n",
       "<tr><td>---</td><td>ALG</td><td>N</td><td>---</td><td>190.31303</td><td>11.408972</td><td>-23.20713</td><td>2.6620343</td><td>1.6290705</td><td>1.4862555</td><td>1.0</td><td>-56.60916</td><td>0.86059535</td><td>0.47032538</td><td>-0.0001543401</td><td>1.968028e-06</td><td>2.1681667e-06</td><td>4.3e-05</td><td>72.65</td><td>alg46</td><td>vdgc8</td><td>0</td><td>0</td><td>-1</td><td>12</td><td>19</td><td>spec1d.vdgc8.000.alg46.fits.gz</td><td>0.9822424650192261</td><td>Star</td><td>0:</td></tr>\n",
       "<tr><td>---</td><td>MST</td><td>N</td><td>---</td><td>189.94604</td><td>12.952583</td><td>171.05774</td><td>29.336287</td><td>32.617123</td><td>26.752373</td><td>1.0</td><td>155.17735</td><td>24.526968</td><td>13.039021</td><td>-9.8267985e-05</td><td>7.15495e-05</td><td>7.775379e-05</td><td>4.5333334e-05</td><td>3.81</td><td>mst578</td><td>vdgc7</td><td>62</td><td>74</td><td>1</td><td>38</td><td>44</td><td>spec1d.vdgc7.062.mst578.fits.gz</td><td>0.9557555913925171</td><td>Star</td><td>0:</td></tr>\n",
       "<tr><td>---</td><td>SERZ</td><td>N</td><td>---</td><td>190.056</td><td>12.898931</td><td>41.428066</td><td>13.958444</td><td>13.078389</td><td>14.531799</td><td>1.0</td><td>87.67065</td><td>6.344389</td><td>5.814022</td><td>0.00010880861</td><td>3.789288e-05</td><td>4.4197244e-05</td><td>4.5333334e-05</td><td>5.0</td><td>serendip1</td><td>vdgc7</td><td>58</td><td>68</td><td>4</td><td>2</td><td>10</td><td>spec1d.vdgc7.058.serendip1.fits.gz</td><td>0.9822497963905334</td><td>Star</td><td>0:</td></tr>\n",
       "<tr><td>---</td><td>MST</td><td>N</td><td>---</td><td>190.05858</td><td>12.851055</td><td>-19.994423</td><td>13.661462</td><td>15.955049</td><td>11.713739</td><td>1.0</td><td>-23.57631</td><td>13.23916</td><td>5.874064</td><td>-5.7272955e-05</td><td>2.9386996e-05</td><td>3.3523193e-05</td><td>4.5333334e-05</td><td>3.81</td><td>mst518</td><td>vdgc7</td><td>52</td><td>61</td><td>1</td><td>76</td><td>83</td><td>spec1d.vdgc7.052.mst518.fits.gz</td><td>0.9823710322380066</td><td>Star</td><td>0:</td></tr>\n",
       "<tr><td>---</td><td>SGR</td><td>N</td><td>---</td><td>189.98445</td><td>12.976361</td><td>148.54216</td><td>9.517242</td><td>9.664792</td><td>8.881892</td><td>1.0</td><td>156.56831</td><td>8.936182</td><td>8.405815</td><td>-1.857952e-05</td><td>1.1541318e-05</td><td>8.605954e-06</td><td>4.5333334e-05</td><td>5.48</td><td>sgr385</td><td>vdgc7</td><td>50</td><td>58</td><td>4</td><td>28</td><td>34</td><td>spec1d.vdgc7.050.sgr385.fits.gz</td><td>0.9653211236000061</td><td>Star</td><td>0:</td></tr>\n",
       "<tr><td>---</td><td>SGR</td><td>N</td><td>---</td><td>189.90242</td><td>12.971833</td><td>-34.844696</td><td>12.382216</td><td>10.600053</td><td>13.789851</td><td>1.0</td><td>-30.771288</td><td>9.446535</td><td>12.568695</td><td>-3.1755302e-05</td><td>1.5477373e-05</td><td>1.8446095e-05</td><td>4.5333334e-05</td><td>3.46</td><td>sgr382</td><td>vdgc7</td><td>49</td><td>57</td><td>3</td><td>9</td><td>15</td><td>spec1d.vdgc7.049.sgr382.fits.gz</td><td>0.9816529154777527</td><td>Star</td><td>0:</td></tr>\n",
       "<tr><td>---</td><td>SGR</td><td>N</td><td>---</td><td>190.0095</td><td>12.938194</td><td>125.11596</td><td>8.086512</td><td>9.021223</td><td>6.56654</td><td>1.0</td><td>126.217316</td><td>8.555919</td><td>6.1342435</td><td>-4.1662155e-05</td><td>8.572597e-06</td><td>6.604569e-06</td><td>4.5333334e-05</td><td>16.21</td><td>sgr376</td><td>vdgc7</td><td>48</td><td>56</td><td>4</td><td>213</td><td>220</td><td>spec1d.vdgc7.048.sgr376.fits.gz</td><td>0.9720748066902161</td><td>Star</td><td>0:</td></tr>\n",
       "<tr><td>...</td><td>...</td><td>...</td><td>...</td><td>...</td><td>...</td><td>...</td><td>...</td><td>...</td><td>...</td><td>...</td><td>...</td><td>...</td><td>...</td><td>...</td><td>...</td><td>...</td><td>...</td><td>...</td><td>...</td><td>...</td><td>...</td><td>...</td><td>...</td><td>...</td><td>...</td><td>...</td><td>...</td><td>...</td><td>...</td></tr>\n",
       "<tr><td>VCC1545</td><td>NUC</td><td>N</td><td>---</td><td>188.54808</td><td>12.048972</td><td>2066.659</td><td>2.6256735</td><td>1.4911994</td><td>1.4756395</td><td>1.0</td><td>2077.6475</td><td>0.41028383</td><td>0.42029074</td><td>-7.705331e-06</td><td>2.3349487e-06</td><td>2.201523e-06</td><td>4.4333334e-05</td><td>66.86</td><td>nuc5</td><td>vdgc6</td><td>5</td><td>5</td><td>4</td><td>25</td><td>35</td><td>spec1d.vdgc6.005.nuc5.fits.gz</td><td>1.0</td><td>DENU</td><td>1:</td></tr>\n",
       "<tr><td>VCC1561</td><td>NUC</td><td>N</td><td>---</td><td>188.6042</td><td>12.904695</td><td>1907.1387</td><td>3.7412846</td><td>3.4249122</td><td>2.690169</td><td>1.0</td><td>1903.1466</td><td>0.32022154</td><td>0.010006923</td><td>-5.797344e-05</td><td>1.0573982e-05</td><td>7.938826e-06</td><td>4.4666664e-05</td><td>6.93</td><td>nuc6</td><td>vdgc5</td><td>5</td><td>5</td><td>4</td><td>32</td><td>39</td><td>spec1d.vdgc5.005.nuc6.fits.gz</td><td>1.0</td><td>DENU</td><td>0</td></tr>\n",
       "<tr><td>VCC1563</td><td>NUC</td><td>N</td><td>---</td><td>188.6085</td><td>11.917</td><td>2255.8398</td><td>3.729348</td><td>2.767145</td><td>3.3087828</td><td>1.0</td><td>2268.9497</td><td>2.34162</td><td>2.9020076</td><td>-6.337718e-07</td><td>2.6018e-06</td><td>3.2689281e-06</td><td>4.4333334e-05</td><td>17.04</td><td>nuc6</td><td>vdgc6</td><td>6</td><td>6</td><td>4</td><td>56</td><td>62</td><td>spec1d.vdgc6.006.nuc6.fits.gz</td><td>1.0</td><td>DENU</td><td>1</td></tr>\n",
       "<tr><td>VCC1809</td><td>NUC</td><td>N</td><td>---</td><td>189.95009</td><td>12.973972</td><td>2808.8325</td><td>2.5079725</td><td>1.2669728</td><td>1.2601175</td><td>1.0</td><td>2813.6167</td><td>0.18012461</td><td>0.14009692</td><td>-2.9386996e-05</td><td>3.002077e-07</td><td>2.0013846e-07</td><td>4.5333334e-05</td><td>250.56</td><td>nuc6</td><td>vdgc7</td><td>7</td><td>7</td><td>4</td><td>30</td><td>37</td><td>spec1d.vdgc7.007.nuc6.fits.gz</td><td>1.0</td><td>DENU</td><td>1</td></tr>\n",
       "<tr><td>VCC1828</td><td>NUC</td><td>N</td><td>---</td><td>190.05579</td><td>12.874778</td><td>1554.725</td><td>2.8828146</td><td>2.0137053</td><td>1.8097597</td><td>1.0</td><td>1559.8992</td><td>1.1007615</td><td>1.1107684</td><td>-2.8086097e-05</td><td>3.7692744e-06</td><td>2.3015923e-06</td><td>4.5333334e-05</td><td>26.11</td><td>nuc5</td><td>vdgc7</td><td>6</td><td>6</td><td>4</td><td>33</td><td>41</td><td>spec1d.vdgc7.006.nuc5.fits.gz</td><td>1.0</td><td>DENU</td><td>1</td></tr>\n",
       "<tr><td>VCC1861</td><td>NUC</td><td>N</td><td>---</td><td>190.244</td><td>11.1845</td><td>636.2591</td><td>2.6344306</td><td>1.5071968</td><td>1.4906621</td><td>1.0</td><td>634.5189</td><td>0.66045696</td><td>0.66045696</td><td>-4.8800426e-05</td><td>1.7345333e-06</td><td>1.5677513e-06</td><td>4.3e-05</td><td>42.86</td><td>nuc5</td><td>vdgc8</td><td>5</td><td>5</td><td>4</td><td>10</td><td>16</td><td>spec1d.vdgc8.005.nuc5.fits.gz</td><td>0.9999762773513794</td><td>DENU</td><td>1</td></tr>\n",
       "<tr><td>VCC1870</td><td>NUC</td><td>N</td><td>---</td><td>190.31392</td><td>11.2983885</td><td>1658.2461</td><td>3.392369</td><td>2.6905599</td><td>2.5394132</td><td>1.0</td><td>1671.2062</td><td>2.0514193</td><td>1.7412046</td><td>2.0013846e-07</td><td>4.0361256e-06</td><td>4.536472e-06</td><td>4.3e-05</td><td>22.84</td><td>nuc7</td><td>vdgc8</td><td>7</td><td>7</td><td>4</td><td>82</td><td>142</td><td>spec1d.vdgc8.007.nuc7.fits.gz</td><td>1.0</td><td>DENU</td><td>0</td></tr>\n",
       "<tr><td>VCC1871</td><td>NUC</td><td>N</td><td>---</td><td>190.31554</td><td>11.38725</td><td>576.4477</td><td>2.5233026</td><td>1.3011693</td><td>1.286386</td><td>1.0</td><td>585.375</td><td>0.29020074</td><td>0.24016616</td><td>-1.3242495e-05</td><td>7.004846e-07</td><td>6.004154e-07</td><td>4.3e-05</td><td>110.77</td><td>nuc6</td><td>vdgc8</td><td>6</td><td>6</td><td>4</td><td>10</td><td>19</td><td>spec1d.vdgc8.006.nuc6.fits.gz</td><td>0.9996572136878967</td><td>DENU</td><td>1</td></tr>\n",
       "<tr><td>VCC1879</td><td>NUC</td><td>N</td><td>---</td><td>190.36417</td><td>11.145861</td><td>1752.4312</td><td>32.029392</td><td>34.249435</td><td>29.663242</td><td>1.0</td><td>1744.6469</td><td>34.143623</td><td>29.550444</td><td>-6.8614136e-05</td><td>7.938826e-06</td><td>7.5385487e-06</td><td>4.2666667e-05</td><td>8.2</td><td>nuc6</td><td>vdgc9B</td><td>6</td><td>6</td><td>4</td><td>63</td><td>69</td><td>spec1d.vdgc9B.006.nuc6.fits.gz</td><td>1.0</td><td>DENU</td><td>1</td></tr>\n",
       "<tr><td>VLSB-D</td><td>NUC</td><td>N</td><td>---</td><td>186.17525</td><td>13.517195</td><td>1040.13</td><td>1.422155</td><td>1.22</td><td>1.33</td><td>1.0</td><td>1057.18</td><td>1.22</td><td>1.33</td><td>8.05</td><td>0.77</td><td>0.49</td><td>9.0</td><td>36.87</td><td>0.0</td><td>vugc5</td><td>0</td><td>--</td><td>--</td><td>26</td><td>34</td><td>spec1d.vugc5.000.NUC001.fits.gz</td><td>1.0</td><td>ICL</td><td>0</td></tr>\n",
       "</table>"
      ],
      "text/plain": [
       "<Table masked=True length=547>\n",
       "  VCC   TARGTYPE GCSAT    HOST  ...    Probability      Type  Nucleus\n",
       "bytes10  bytes7  bytes2 bytes10 ...      float64       bytes4  bytes2\n",
       "------- -------- ------ ------- ... ------------------ ------ -------\n",
       "    ---      GCA      Y VCC1075 ...                1.0   DEGC      0:\n",
       "    ---      ALG      N     --- ... 0.9828302264213562   Star      0:\n",
       "    ---      ALG      N     --- ... 0.9816717505455017   Star      0:\n",
       "    ---      ALG      N     --- ... 0.9822424650192261   Star      0:\n",
       "    ---      MST      N     --- ... 0.9557555913925171   Star      0:\n",
       "    ---     SERZ      N     --- ... 0.9822497963905334   Star      0:\n",
       "    ---      MST      N     --- ... 0.9823710322380066   Star      0:\n",
       "    ---      SGR      N     --- ... 0.9653211236000061   Star      0:\n",
       "    ---      SGR      N     --- ... 0.9816529154777527   Star      0:\n",
       "    ---      SGR      N     --- ... 0.9720748066902161   Star      0:\n",
       "    ...      ...    ...     ... ...                ...    ...     ...\n",
       "VCC1545      NUC      N     --- ...                1.0   DENU      1:\n",
       "VCC1561      NUC      N     --- ...                1.0   DENU       0\n",
       "VCC1563      NUC      N     --- ...                1.0   DENU       1\n",
       "VCC1809      NUC      N     --- ...                1.0   DENU       1\n",
       "VCC1828      NUC      N     --- ...                1.0   DENU       1\n",
       "VCC1861      NUC      N     --- ... 0.9999762773513794   DENU       1\n",
       "VCC1870      NUC      N     --- ...                1.0   DENU       0\n",
       "VCC1871      NUC      N     --- ... 0.9996572136878967   DENU       1\n",
       "VCC1879      NUC      N     --- ...                1.0   DENU       1\n",
       " VLSB-D      NUC      N     --- ...                1.0    ICL       0"
      ]
     },
     "execution_count": 16,
     "metadata": {},
     "output_type": "execute_result"
    }
   ],
   "source": [
    "bigFile"
   ]
  },
  {
   "cell_type": "code",
   "execution_count": 17,
   "metadata": {},
   "outputs": [
    {
     "data": {
      "text/plain": [
       "192"
      ]
     },
     "execution_count": 17,
     "metadata": {},
     "output_type": "execute_result"
    }
   ],
   "source": [
    "# degc,halo,denu,udg,icl = [],[],[],[],[]\n",
    "\n",
    "\n",
    "len(degc)+len(icl) + len(denu) + len(halo) + len(udg)"
   ]
  },
  {
   "cell_type": "code",
   "execution_count": 45,
   "metadata": {},
   "outputs": [
    {
     "data": {
      "text/plain": [
       "['spec1d.vdgc3.011.gcA10.fits',\n",
       " 'spec1d.vdgc8.014.gcA21.fits',\n",
       " 'spec1d.vdgc2.011.gcA11.fits',\n",
       " 'spec1d.vdgc6.012.gcA18.fits',\n",
       " 'spec1d.vdgc6.017.serendip1.fits',\n",
       " 'spec1d.vdgc7.035.gcN160.fits',\n",
       " 'spec1d.vdgc1.030.gcN147.fits',\n",
       " 'spec1d.vdgc1.038.gcN210.fits',\n",
       " 'spec1d.vdgc5.007.gcA16.fits',\n",
       " 'spec1d.vdgc8.023.gcA40.fits',\n",
       " 'spec1d.vdgc5.006.gcA13.fits',\n",
       " 'spec1d.vdgc7.038.gcN168.fits',\n",
       " 'spec1d.vdgc4B.008.gcA24.fits',\n",
       " 'spec1d.vdgc8.012.gcA18.fits',\n",
       " 'spec1d.vdgc5.005.serendip1.fits',\n",
       " 'spec1d.vdgc8.016.gcA26.fits',\n",
       " 'spec1d.vdgc6.014.gcA21.fits',\n",
       " 'spec1d.vdgc8.010.gcA12.fits',\n",
       " 'spec1d.vdgc9B.063.gcA18.fits',\n",
       " 'spec1d.vdgc6.011.gcA16.fits',\n",
       " 'spec1d.vdgc5.011.gcA30.fits',\n",
       " 'spec1d.vdgc9B.014.gcA26.fits',\n",
       " 'spec1d.vdgc6.039.gcN192.fits',\n",
       " 'spec1d.vdgc6.048.gcN230.fits',\n",
       " 'spec1d.vdgc1.026.gcN120.fits',\n",
       " 'spec1d.vdgc8.018.gcA29.fits',\n",
       " 'spec1d.vdgc8.022.gcA38.fits',\n",
       " 'spec1d.vdgc6.038.gcN190.fits',\n",
       " 'spec1d.vdgc8.020.gcA32.fits',\n",
       " 'spec1d.vdgc1.037.gcN206.fits',\n",
       " 'spec1d.vdgc5.031.gcN199.fits',\n",
       " 'spec1d.vdgc6.015.gcA23.fits',\n",
       " 'spec1d.vdgc9B.062.gcA16.fits',\n",
       " 'spec1d.vdgc1.027.gcN138.fits',\n",
       " 'spec1d.vdgc9B.065.gcA27.fits',\n",
       " 'spec1d.vdgc9B.012.gcA14.fits',\n",
       " 'spec1d.vdgc5.006.serendip1.fits',\n",
       " 'spec1d.vdgc8.015.gcA23.fits',\n",
       " 'spec1d.vdgc9B.015.gcA29.fits',\n",
       " 'spec1d.vdgc9B.021.gcN121.fits',\n",
       " 'spec1d.vdgc5.009.serendip1.fits',\n",
       " 'spec1d.vdgc1.011.gcA10.fits',\n",
       " 'spec1d.vdgc9B.016.gcA30.fits',\n",
       " 'spec1d.vdgc2.051.gcN395.fits',\n",
       " 'spec1d.vdgc8.019.gcA30.fits',\n",
       " 'spec1d.vdgc8.021.gcA35.fits',\n",
       " 'spec1d.vdgc2.036.gcN253.fits',\n",
       " 'spec1d.vdgc4B.010.gcA29.fits',\n",
       " 'spec1d.vdgc6.013.gcA19.fits',\n",
       " 'spec1d.vdgc2.010.gcA10.fits',\n",
       " 'spec1d.vdgc5.008.gcA19.fits',\n",
       " 'spec1d.vdgc6.019.gcA33.fits',\n",
       " 'spec1d.vdgc9B.064.gcA21.fits',\n",
       " 'spec1d.vdgc1.015.gcA20.fits',\n",
       " 'spec1d.vdgc6.034.gcN184.fits',\n",
       " 'spec1d.vdgc4B.009.gcA25.fits',\n",
       " 'spec1d.vdgc9B.009.gcA11.fits',\n",
       " 'spec1d.vdgc8.017.gcA27.fits',\n",
       " 'spec1d.vdgc7.008.gcA8.fits',\n",
       " 'spec1d.vdgc4B.006.gcA12.fits',\n",
       " 'spec1d.vdgc6.018.gcA31.fits',\n",
       " 'spec1d.vdgc7.009.gcA9.fits',\n",
       " 'spec1d.vdgc2.015.gcA17.fits',\n",
       " 'spec1d.vdgc2.017.gcA27.fits',\n",
       " 'spec1d.vdgc6.007.gcA8.fits',\n",
       " 'spec1d.vdgc2.013.gcA15.fits',\n",
       " 'spec1d.vugc1.028.GCBL005.fits.gz',\n",
       " 'spec1d.vdgc6.021.gcA45.fits',\n",
       " 'spec1d.vdgc2.035.gcN244.fits',\n",
       " 'spec1d.vdgc3.010.gcA9.fits',\n",
       " 'spec1d.vdgc4B.007.gcA21.fits',\n",
       " 'spec1d.vdgc9B.017.gcA31.fits',\n",
       " 'spec1d.vugc1.013.GCXL016.fits.gz',\n",
       " 'spec1d.vdgc6.016.gcA29.fits',\n",
       " 'spec1d.vdgc6.035.gcN187.fits',\n",
       " 'spec1d.vdgc8.009.gcA11.fits',\n",
       " 'spec1d.vdgc2.029.gcN183.fits',\n",
       " 'spec1d.vdgc1.029.gcN145.fits',\n",
       " 'spec1d.vdgc9B.013.gcA23.fits',\n",
       " 'spec1d.vdgc9B.011.gcA13.fits',\n",
       " 'spec1d.vdgc7.036.gcN164.fits',\n",
       " 'spec1d.vdgc3.009.gcA8.fits',\n",
       " 'spec1d.vdgc3.034.gcN103.fits',\n",
       " 'spec1d.vdgc1.014.gcA19.fits',\n",
       " 'spec1d.vdgc1.012.gcA17.fits',\n",
       " 'spec1d.vdgc6.009.gcA10.fits',\n",
       " 'spec1d.vdgc6.037.gcN189.fits',\n",
       " 'spec1d.vdgc6.010.gcA11.fits']"
      ]
     },
     "execution_count": 45,
     "metadata": {},
     "output_type": "execute_result"
    }
   ],
   "source": [
    "degc"
   ]
  },
  {
   "cell_type": "code",
   "execution_count": 38,
   "metadata": {},
   "outputs": [
    {
     "data": {
      "text/plain": [
       "590.248291015625"
      ]
     },
     "execution_count": 38,
     "metadata": {},
     "output_type": "execute_result"
    }
   ],
   "source": [
    "float(bigFile[bigFile['SPEC1DNAME'] == icl[5]+'.gz']['VOBS'])"
   ]
  },
  {
   "cell_type": "code",
   "execution_count": 37,
   "metadata": {},
   "outputs": [
    {
     "data": {
      "text/plain": [
       "590.248291015625"
      ]
     },
     "execution_count": 37,
     "metadata": {},
     "output_type": "execute_result"
    }
   ],
   "source": [
    "vobsICL[5]"
   ]
  },
  {
   "cell_type": "code",
   "execution_count": 48,
   "metadata": {},
   "outputs": [
    {
     "data": {
      "text/plain": [
       "['spec1d.vdgc3.011.gcA10.fits',\n",
       " 'spec1d.vdgc8.014.gcA21.fits',\n",
       " 'spec1d.vdgc2.011.gcA11.fits',\n",
       " 'spec1d.vdgc6.012.gcA18.fits',\n",
       " 'spec1d.vdgc6.017.serendip1.fits',\n",
       " 'spec1d.vdgc7.035.gcN160.fits',\n",
       " 'spec1d.vdgc1.030.gcN147.fits',\n",
       " 'spec1d.vdgc1.038.gcN210.fits',\n",
       " 'spec1d.vdgc5.007.gcA16.fits',\n",
       " 'spec1d.vdgc8.023.gcA40.fits',\n",
       " 'spec1d.vdgc5.006.gcA13.fits',\n",
       " 'spec1d.vdgc7.038.gcN168.fits',\n",
       " 'spec1d.vdgc4B.008.gcA24.fits',\n",
       " 'spec1d.vdgc8.012.gcA18.fits',\n",
       " 'spec1d.vdgc5.005.serendip1.fits',\n",
       " 'spec1d.vdgc8.016.gcA26.fits',\n",
       " 'spec1d.vdgc6.014.gcA21.fits',\n",
       " 'spec1d.vdgc8.010.gcA12.fits',\n",
       " 'spec1d.vdgc9B.063.gcA18.fits',\n",
       " 'spec1d.vdgc6.011.gcA16.fits',\n",
       " 'spec1d.vdgc5.011.gcA30.fits',\n",
       " 'spec1d.vdgc9B.014.gcA26.fits',\n",
       " 'spec1d.vdgc6.039.gcN192.fits',\n",
       " 'spec1d.vdgc6.048.gcN230.fits',\n",
       " 'spec1d.vdgc1.026.gcN120.fits',\n",
       " 'spec1d.vdgc8.018.gcA29.fits',\n",
       " 'spec1d.vdgc8.022.gcA38.fits',\n",
       " 'spec1d.vdgc6.038.gcN190.fits',\n",
       " 'spec1d.vdgc8.020.gcA32.fits',\n",
       " 'spec1d.vdgc1.037.gcN206.fits',\n",
       " 'spec1d.vdgc5.031.gcN199.fits',\n",
       " 'spec1d.vdgc6.015.gcA23.fits',\n",
       " 'spec1d.vdgc9B.062.gcA16.fits',\n",
       " 'spec1d.vdgc1.027.gcN138.fits',\n",
       " 'spec1d.vdgc9B.065.gcA27.fits',\n",
       " 'spec1d.vdgc9B.012.gcA14.fits',\n",
       " 'spec1d.vdgc5.006.serendip1.fits',\n",
       " 'spec1d.vdgc8.015.gcA23.fits',\n",
       " 'spec1d.vdgc9B.015.gcA29.fits',\n",
       " 'spec1d.vdgc9B.021.gcN121.fits',\n",
       " 'spec1d.vdgc5.009.serendip1.fits',\n",
       " 'spec1d.vdgc1.011.gcA10.fits',\n",
       " 'spec1d.vdgc9B.016.gcA30.fits',\n",
       " 'spec1d.vdgc2.051.gcN395.fits',\n",
       " 'spec1d.vdgc8.019.gcA30.fits',\n",
       " 'spec1d.vdgc8.021.gcA35.fits',\n",
       " 'spec1d.vdgc2.036.gcN253.fits',\n",
       " 'spec1d.vdgc4B.010.gcA29.fits',\n",
       " 'spec1d.vdgc6.013.gcA19.fits',\n",
       " 'spec1d.vdgc2.010.gcA10.fits',\n",
       " 'spec1d.vdgc5.008.gcA19.fits',\n",
       " 'spec1d.vdgc6.019.gcA33.fits',\n",
       " 'spec1d.vdgc9B.064.gcA21.fits',\n",
       " 'spec1d.vdgc1.015.gcA20.fits',\n",
       " 'spec1d.vdgc6.034.gcN184.fits',\n",
       " 'spec1d.vdgc4B.009.gcA25.fits',\n",
       " 'spec1d.vdgc9B.009.gcA11.fits',\n",
       " 'spec1d.vdgc8.017.gcA27.fits',\n",
       " 'spec1d.vdgc7.008.gcA8.fits',\n",
       " 'spec1d.vdgc4B.006.gcA12.fits',\n",
       " 'spec1d.vdgc6.018.gcA31.fits',\n",
       " 'spec1d.vdgc7.009.gcA9.fits',\n",
       " 'spec1d.vdgc2.015.gcA17.fits',\n",
       " 'spec1d.vdgc2.017.gcA27.fits',\n",
       " 'spec1d.vdgc6.007.gcA8.fits',\n",
       " 'spec1d.vdgc2.013.gcA15.fits',\n",
       " 'spec1d.vugc1.028.GCBL005.fits.gz',\n",
       " 'spec1d.vdgc6.021.gcA45.fits',\n",
       " 'spec1d.vdgc2.035.gcN244.fits',\n",
       " 'spec1d.vdgc3.010.gcA9.fits',\n",
       " 'spec1d.vdgc4B.007.gcA21.fits',\n",
       " 'spec1d.vdgc9B.017.gcA31.fits',\n",
       " 'spec1d.vugc1.013.GCXL016.fits.gz',\n",
       " 'spec1d.vdgc6.016.gcA29.fits',\n",
       " 'spec1d.vdgc6.035.gcN187.fits',\n",
       " 'spec1d.vdgc8.009.gcA11.fits',\n",
       " 'spec1d.vdgc2.029.gcN183.fits',\n",
       " 'spec1d.vdgc1.029.gcN145.fits',\n",
       " 'spec1d.vdgc9B.013.gcA23.fits',\n",
       " 'spec1d.vdgc9B.011.gcA13.fits',\n",
       " 'spec1d.vdgc7.036.gcN164.fits',\n",
       " 'spec1d.vdgc3.009.gcA8.fits',\n",
       " 'spec1d.vdgc3.034.gcN103.fits',\n",
       " 'spec1d.vdgc1.014.gcA19.fits',\n",
       " 'spec1d.vdgc1.012.gcA17.fits',\n",
       " 'spec1d.vdgc6.009.gcA10.fits',\n",
       " 'spec1d.vdgc6.037.gcN189.fits',\n",
       " 'spec1d.vdgc6.010.gcA11.fits']"
      ]
     },
     "execution_count": 48,
     "metadata": {},
     "output_type": "execute_result"
    }
   ],
   "source": [
    "degc"
   ]
  },
  {
   "cell_type": "code",
   "execution_count": null,
   "metadata": {},
   "outputs": [],
   "source": []
  }
 ],
 "metadata": {
  "kernelspec": {
   "display_name": "Python 3",
   "language": "python",
   "name": "python3"
  },
  "language_info": {
   "codemirror_mode": {
    "name": "ipython",
    "version": 3
   },
   "file_extension": ".py",
   "mimetype": "text/x-python",
   "name": "python",
   "nbconvert_exporter": "python",
   "pygments_lexer": "ipython3",
   "version": "3.7.0"
  }
 },
 "nbformat": 4,
 "nbformat_minor": 2
}
