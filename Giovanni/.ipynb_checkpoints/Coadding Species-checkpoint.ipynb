{
 "cells": [
  {
   "cell_type": "code",
   "execution_count": 3,
   "metadata": {},
   "outputs": [
    {
     "data": {
      "text/plain": [
       "['',\n",
       " '/Users/Gianna/Documents/GitHub/SIP2019/Giovanni',\n",
       " '/Users/Gianna/anaconda3/lib/python37.zip',\n",
       " '/Users/Gianna/anaconda3/lib/python3.7',\n",
       " '/Users/Gianna/anaconda3/lib/python3.7/lib-dynload',\n",
       " '/Users/Gianna/anaconda3/lib/python3.7/site-packages',\n",
       " '/Users/Gianna/anaconda3/lib/python3.7/site-packages/aeosa',\n",
       " '/Users/Gianna/anaconda3/lib/python3.7/site-packages/IPython/extensions',\n",
       " '/Users/Gianna/.ipython']"
      ]
     },
     "execution_count": 3,
     "metadata": {},
     "output_type": "execute_result"
    }
   ],
   "source": [
    "from astropy.io import fits\n",
    "import matplotlib.pyplot as plt\n",
    "import matplotlib.image as mpimg\n",
    "import numpy as np\n",
    "from astropy.table import Table, vstack, Column\n",
    "import os\n",
    "import pdb\n",
    "import warnings\n",
    "import sys\n",
    "import pandas as pd\n",
    "from pandas import DataFrame as df\n",
    "\n",
    "working_dir = '/Users/Gianna/Documents/GitHub/SIP2019/'\n",
    "\n",
    "sys.path"
   ]
  },
  {
   "cell_type": "code",
   "execution_count": 11,
   "metadata": {},
   "outputs": [
    {
     "ename": "TypeError",
     "evalue": "listdir: path should be string, bytes, os.PathLike or None, not Table",
     "output_type": "error",
     "traceback": [
      "\u001b[0;31m---------------------------------------------------------------------------\u001b[0m",
      "\u001b[0;31mTypeError\u001b[0m                                 Traceback (most recent call last)",
      "\u001b[0;32m<ipython-input-11-666a2d8ce606>\u001b[0m in \u001b[0;36m<module>\u001b[0;34m()\u001b[0m\n\u001b[1;32m     15\u001b[0m \u001b[0mallnames\u001b[0m\u001b[0;34m=\u001b[0m\u001b[0mlist\u001b[0m\u001b[0;34m(\u001b[0m\u001b[0mbigFile\u001b[0m\u001b[0;34m[\u001b[0m\u001b[0;34m'Type'\u001b[0m\u001b[0;34m]\u001b[0m\u001b[0;34m)\u001b[0m\u001b[0;34m\u001b[0m\u001b[0m\n\u001b[1;32m     16\u001b[0m \u001b[0;34m\u001b[0m\u001b[0m\n\u001b[0;32m---> 17\u001b[0;31m \u001b[0;32mfor\u001b[0m \u001b[0mfilename\u001b[0m \u001b[0;32min\u001b[0m \u001b[0mos\u001b[0m\u001b[0;34m.\u001b[0m\u001b[0mlistdir\u001b[0m\u001b[0;34m(\u001b[0m\u001b[0mbigFile\u001b[0m\u001b[0;34m)\u001b[0m\u001b[0;34m:\u001b[0m\u001b[0;34m\u001b[0m\u001b[0m\n\u001b[0m\u001b[1;32m     18\u001b[0m     \u001b[0;32mif\u001b[0m\u001b[0;34m(\u001b[0m\u001b[0;34m(\u001b[0m\u001b[0mfilename\u001b[0m \u001b[0;32min\u001b[0m \u001b[0mallnames\u001b[0m\u001b[0;34m)\u001b[0m\u001b[0;34m)\u001b[0m\u001b[0;34m:\u001b[0m\u001b[0;34m\u001b[0m\u001b[0m\n\u001b[1;32m     19\u001b[0m         \u001b[0;32mif\u001b[0m\u001b[0;34m(\u001b[0m\u001b[0mfilename\u001b[0m\u001b[0;34m[\u001b[0m\u001b[0;34m'Type'\u001b[0m\u001b[0;34m]\u001b[0m\u001b[0;34m==\u001b[0m\u001b[0;34m'Star'\u001b[0m\u001b[0;34m)\u001b[0m\u001b[0;34m:\u001b[0m\u001b[0;34m\u001b[0m\u001b[0m\n",
      "\u001b[0;31mTypeError\u001b[0m: listdir: path should be string, bytes, os.PathLike or None, not Table"
     ]
    }
   ],
   "source": [
    "path1 = './../spectra/'\n",
    "path2 = './../catalogs/'\n",
    "\n",
    "bigFile = Table.read('bigfile-Copy1.fits')\n",
    "\n",
    "starfile=[] #star\n",
    "iclfile=[] #icl\n",
    "halofile=[]  #halo\n",
    "degcfile=[] #degc\n",
    "udgfile=[] #udg\n",
    "denufile=[] #denu\n",
    "\n",
    "objtype=[]\n",
    "objfile=[]\n",
    "allnames=list(bigFile['Type'])\n",
    "\n",
    "for filename in os.listdir(path1): #make spectra line object types, then compare species\n",
    "    if((filename in allnames)):\n",
    "        if(filename['Type']=='Star'): #redo this part\n",
    "            starfile.append(filename)\n",
    "        if(filename['Type']=='ICL'):\n",
    "            iclfile.append(filename)\n",
    "        if(filename['Type']=='Halo'):\n",
    "            halofile.append(filename)\n",
    "        if(filename['Type']=='DEGC'):\n",
    "            degcfile.append(filename)\n",
    "        if(filename['Type']=='UDG'):\n",
    "            udgfile.append(filename)\n",
    "        if(filename['Type']=='DENU'):\n",
    "            denufile.append(filename)\n",
    "    "
   ]
  },
  {
   "cell_type": "code",
   "execution_count": null,
   "metadata": {},
   "outputs": [],
   "source": []
  }
 ],
 "metadata": {
  "kernelspec": {
   "display_name": "Python 3",
   "language": "python",
   "name": "python3"
  },
  "language_info": {
   "codemirror_mode": {
    "name": "ipython",
    "version": 3
   },
   "file_extension": ".py",
   "mimetype": "text/x-python",
   "name": "python",
   "nbconvert_exporter": "python",
   "pygments_lexer": "ipython3",
   "version": "3.7.0"
  }
 },
 "nbformat": 4,
 "nbformat_minor": 2
}
