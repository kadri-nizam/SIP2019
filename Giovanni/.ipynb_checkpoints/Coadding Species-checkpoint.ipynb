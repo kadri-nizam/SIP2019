{
 "cells": [
  {
   "cell_type": "code",
   "execution_count": 3,
   "metadata": {},
   "outputs": [
    {
     "data": {
      "text/plain": [
       "['',\n",
       " '/Users/Gianna/Documents/GitHub/SIP2019/Giovanni',\n",
       " '/Users/Gianna/anaconda3/lib/python37.zip',\n",
       " '/Users/Gianna/anaconda3/lib/python3.7',\n",
       " '/Users/Gianna/anaconda3/lib/python3.7/lib-dynload',\n",
       " '/Users/Gianna/anaconda3/lib/python3.7/site-packages',\n",
       " '/Users/Gianna/anaconda3/lib/python3.7/site-packages/aeosa',\n",
       " '/Users/Gianna/anaconda3/lib/python3.7/site-packages/IPython/extensions',\n",
       " '/Users/Gianna/.ipython']"
      ]
     },
     "execution_count": 3,
     "metadata": {},
     "output_type": "execute_result"
    }
   ],
   "source": [
    "from astropy.io import fits\n",
    "import matplotlib.pyplot as plt\n",
    "import matplotlib.image as mpimg\n",
    "import numpy as np\n",
    "from astropy.table import Table, vstack, Column\n",
    "import os\n",
    "import pdb\n",
    "import warnings\n",
    "import sys\n",
    "import pandas as pd\n",
    "from pandas import DataFrame as df\n",
    "\n",
    "working_dir = '/Users/Gianna/Documents/GitHub/SIP2019/'\n",
    "\n",
    "sys.path"
   ]
  },
  {
   "cell_type": "code",
   "execution_count": 7,
   "metadata": {},
   "outputs": [],
   "source": [
    "path1 = './../spectra/'\n",
    "path2 = './../catalogs/'\n",
    "\n",
    "bigFile = Table.read('bigfile-Copy1.fits')\n",
    "\n",
    "starfile=[] #star\n",
    "iclfile=[] #icl\n",
    "halofile=[]  #halo\n",
    "degc=[] #degc\n",
    "udgfile=[] #udg\n",
    "denufile=[] #denu\n",
    "\n",
    "objtype=[]\n",
    "objfile=[]\n",
    "\n"
   ]
  },
  {
   "cell_type": "code",
   "execution_count": null,
   "metadata": {},
   "outputs": [],
   "source": []
  }
 ],
 "metadata": {
  "kernelspec": {
   "display_name": "Python 3",
   "language": "python",
   "name": "python3"
  },
  "language_info": {
   "codemirror_mode": {
    "name": "ipython",
    "version": 3
   },
   "file_extension": ".py",
   "mimetype": "text/x-python",
   "name": "python",
   "nbconvert_exporter": "python",
   "pygments_lexer": "ipython3",
   "version": "3.7.0"
  }
 },
 "nbformat": 4,
 "nbformat_minor": 2
}
